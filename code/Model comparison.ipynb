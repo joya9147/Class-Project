{
 "cells": [
  {
   "cell_type": "code",
   "execution_count": null,
   "id": "ca7b3601",
   "metadata": {},
   "outputs": [],
   "source": [
    "import pickle"
   ]
  },
  {
   "cell_type": "code",
   "execution_count": null,
   "id": "7b1c06e0",
   "metadata": {},
   "outputs": [],
   "source": [
    "read_csv\n"
   ]
  },
  {
   "cell_type": "code",
   "execution_count": null,
   "id": "b7fc8511",
   "metadata": {},
   "outputs": [],
   "source": [
    "with open(\"../Models/LG_model.pkl\", \"rb\") as f:\n",
    "    model = pickle.load(f)"
   ]
  },
  {
   "cell_type": "code",
   "execution_count": null,
   "id": "c5800376",
   "metadata": {},
   "outputs": [],
   "source": [
    "acc_df = pd.DataFrame([LR_acc[0],SGD_acc[0],LR2_acc[0],SGD2_acc[0],\n",
    "                       LR_acc[1],SGD_acc[1],LR2_acc[1],SGD2_acc[1]],\n",
    "                      columns = ['Accuracy'])\n",
    "acc_df['Type'] = ['Train','Train','Train','Train',\n",
    "                  'Test','Test','Test','Test']\n",
    "acc_df['Model'] = ['LR Com','SVM Com','LR Sep','SVM Sep',\n",
    "                   'LR Com','SVM Com','LR Sep','SVM Sep']"
   ]
  },
  {
   "cell_type": "code",
   "execution_count": null,
   "id": "8ee2a8de",
   "metadata": {},
   "outputs": [],
   "source": [
    "barplot = sb.barplot(data = acc_df, y = 'Model', x = 'Accuracy', hue = 'Type', palette = 'bright')\n",
    "barplot.set(title = 'Model Accuracies')\n",
    "\n",
    "barplot.get_figure().savefig('../plots/Logistics_barplot.png',dpi=300, bbox_inches='tight')"
   ]
  },
  {
   "cell_type": "markdown",
   "id": "7140c984",
   "metadata": {},
   "source": [
    "Box plot to see the range of of the scores from the cross validation."
   ]
  },
  {
   "cell_type": "code",
   "execution_count": null,
   "id": "d51dd941",
   "metadata": {},
   "outputs": [],
   "source": [
    "allbox = sb.boxplot(data = [LRscores,SGDscores,LR2scores,SGD2scores], width=0.4)\n",
    "allbox.set(title ='All Cross-Validation Scores', ylabel = 'Accuracy', xlabel = 'Model')\n",
    "allbox.set_xticklabels(['LR Model','SGD Model','LR Model 2','SGD Model2'])\n",
    "allbox.get_figure().savefig('../plots/allboxplot.png', dpi=300, bbox_inches='tight')"
   ]
  },
  {
   "cell_type": "markdown",
   "id": "fc88c945",
   "metadata": {},
   "source": [
    "Gold difference seems to have a major affect on the accuracy of the models. It's good to know that the gold difference is very important feature, but it's so big that it overshadows the other features. Which makes it harder to see what else is important."
   ]
  }
 ],
 "metadata": {
  "kernelspec": {
   "display_name": "Python 3 (ipykernel)",
   "language": "python",
   "name": "python3"
  },
  "language_info": {
   "codemirror_mode": {
    "name": "ipython",
    "version": 3
   },
   "file_extension": ".py",
   "mimetype": "text/x-python",
   "name": "python",
   "nbconvert_exporter": "python",
   "pygments_lexer": "ipython3",
   "version": "3.9.7"
  }
 },
 "nbformat": 4,
 "nbformat_minor": 5
}
