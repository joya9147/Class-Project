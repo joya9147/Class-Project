{
 "cells": [
  {
   "cell_type": "markdown",
   "id": "4390c81a-a18f-4b50-9312-fc32dee12bef",
   "metadata": {},
   "source": [
    "# Data Cleaning"
   ]
  },
  {
   "cell_type": "code",
   "execution_count": 1,
   "id": "c3acc851-a858-440d-9ddc-03c798541451",
   "metadata": {},
   "outputs": [],
   "source": [
    "import numpy as np\n",
    "import pandas as pd\n",
    "import os"
   ]
  },
  {
   "cell_type": "markdown",
   "id": "9ca8e3b6-bee5-4106-81cb-a7482764e6eb",
   "metadata": {},
   "source": [
    "Combining dataset into one dataset. First step is to grab the column names for the blank dataframe then combine each dataset together. Then checking for NA's in the set.\n",
    "\n",
    "\"directory\" is relative to where this notebook is. This notebook is inside a folder I called project and it next to three folders for each type of dataset."
   ]
  },
  {
   "cell_type": "markdown",
   "id": "648af4d0-9111-470f-8a66-7f13543b2a4b",
   "metadata": {},
   "source": [
    "## Test Set"
   ]
  },
  {
   "cell_type": "code",
   "execution_count": 2,
   "id": "02749851-4c17-486b-a541-51a92abf77f8",
   "metadata": {},
   "outputs": [],
   "source": [
    "directory = os.path.join('Test')\n",
    "test_df = pd.DataFrame()\n",
    "\n",
    "for root,dirs,files in os.walk(directory):\n",
    "    for file in files:\n",
    "        if file.endswith(\"checkpoint.csv\"):\n",
    "            print(file,' Skipped')# IDK were these come from looking at the test folder there are only 5 sets\n",
    "        else:\n",
    "            ss = open(root+'/'+file, 'r')# 'r' is for reading the file, ?open for other modes like writing or creating\n",
    "            x = pd.read_csv(ss)\n",
    "            test_df = pd.concat((test_df,x), axis=0,ignore_index=False)"
   ]
  },
  {
   "cell_type": "code",
   "execution_count": 3,
   "id": "8812b157-4224-4d63-a2c2-73c90d3dfdf8",
   "metadata": {},
   "outputs": [
    {
     "data": {
      "text/html": [
       "<div>\n",
       "<style scoped>\n",
       "    .dataframe tbody tr th:only-of-type {\n",
       "        vertical-align: middle;\n",
       "    }\n",
       "\n",
       "    .dataframe tbody tr th {\n",
       "        vertical-align: top;\n",
       "    }\n",
       "\n",
       "    .dataframe thead th {\n",
       "        text-align: right;\n",
       "    }\n",
       "</style>\n",
       "<table border=\"1\" class=\"dataframe\">\n",
       "  <thead>\n",
       "    <tr style=\"text-align: right;\">\n",
       "      <th></th>\n",
       "    </tr>\n",
       "  </thead>\n",
       "  <tbody>\n",
       "  </tbody>\n",
       "</table>\n",
       "</div>"
      ],
      "text/plain": [
       "Empty DataFrame\n",
       "Columns: []\n",
       "Index: []"
      ]
     },
     "execution_count": 3,
     "metadata": {},
     "output_type": "execute_result"
    }
   ],
   "source": [
    "test_df.head()"
   ]
  },
  {
   "cell_type": "markdown",
   "id": "1fcc2a7f-5fff-4758-b25a-3e93063558e7",
   "metadata": {},
   "source": [
    "Number of NA in the final set"
   ]
  },
  {
   "cell_type": "code",
   "execution_count": 23,
   "id": "894ab2a1-002f-4552-b875-e598163ffa8c",
   "metadata": {},
   "outputs": [
    {
     "name": "stdout",
     "output_type": "stream",
     "text": [
      "(4814, 139)\n"
     ]
    },
    {
     "data": {
      "text/plain": [
       "38"
      ]
     },
     "execution_count": 23,
     "metadata": {},
     "output_type": "execute_result"
    }
   ],
   "source": [
    "print(test_df.shape)\n",
    "test_df.isna().sum().sum()"
   ]
  },
  {
   "cell_type": "markdown",
   "id": "eee6a4dd-6fa7-4a83-832c-ccd068464024",
   "metadata": {},
   "source": [
    "Dropping the colmuns containing \"victory\" expect for \"teamVictory\" as those are redundant when there are colmuns telling us which team a player is on and one for which team won the match."
   ]
  },
  {
   "cell_type": "code",
   "execution_count": 24,
   "id": "78ff89a5-324b-472c-8b36-6863ef9a5389",
   "metadata": {},
   "outputs": [
    {
     "name": "stdout",
     "output_type": "stream",
     "text": [
      "(4814, 124)\n"
     ]
    }
   ],
   "source": [
    "list(test_df.columns)\n",
    "\n",
    "drop = test_df.columns[test_df.columns.str.contains('victory')]\n",
    "test_df = test_df.drop(drop,axis=1)\n",
    "\n",
    "#drop =test_df.columns[test_df.columns.str.contains('ban')]\n",
    "#test_df = test_df.drop(drop,axis=1)\n",
    "\n",
    "test_df = test_df.drop(['Unnamed: 0','gameId', 'matchId', 'gameVersion','Player_id'],axis=1)\n",
    "\n",
    "print(test_df.shape)"
   ]
  },
  {
   "cell_type": "markdown",
   "id": "546b656e-9235-48ab-a2e4-b6c50a90039c",
   "metadata": {},
   "source": [
    "Changing our y variable, \"teamVictory\", from 100 and 200 to Red and Blue. This variable tells which team won, but 100 and 200 is nonsense."
   ]
  },
  {
   "cell_type": "code",
   "execution_count": 25,
   "id": "f2ba94c4-2425-40ac-9830-4766f4852fc3",
   "metadata": {},
   "outputs": [],
   "source": [
    "test_df['teamVictory'] = test_df['teamVictory'].replace([100,200],['Red','Blue'])"
   ]
  },
  {
   "cell_type": "markdown",
   "id": "29403fbd-ee8b-4779-9b06-d7a28419188e",
   "metadata": {},
   "source": [
    "For saving df. Commented out because I might return to mess with a few things later and don't want to overwrite the df we are using while I'm working out an issue"
   ]
  },
  {
   "cell_type": "code",
   "execution_count": 26,
   "id": "48aae4b4-b5c9-4787-9670-53b0674636a0",
   "metadata": {},
   "outputs": [],
   "source": [
    "#test_df.to_csv('test.csv') "
   ]
  },
  {
   "cell_type": "markdown",
   "id": "1b58cf81-1cb8-4535-a8bb-6704b6bde00e",
   "metadata": {},
   "source": [
    "Possible code for locating NA's for investigation."
   ]
  },
  {
   "cell_type": "code",
   "execution_count": 8,
   "id": "7202e540-4513-43de-9b89-67771cd95bd2",
   "metadata": {},
   "outputs": [],
   "source": [
    "#test_df[test_df.isna()==True]"
   ]
  },
  {
   "cell_type": "markdown",
   "id": "02c8f340-e8d5-4874-8e57-ed8a15cc030f",
   "metadata": {},
   "source": [
    "## Train Set"
   ]
  },
  {
   "cell_type": "code",
   "execution_count": 28,
   "id": "ed0ffe26-ce76-4ad3-aa82-7467d8a76ba4",
   "metadata": {},
   "outputs": [],
   "source": [
    "x = pd.read_csv('Test/df_00000.csv')\n",
    "\n",
    "directory = os.path.join('Train')\n",
    "train_df = pd.DataFrame(columns=x.columns)\n",
    "\n",
    "for root,dirs,files in os.walk(directory):\n",
    "    for file in files:\n",
    "        if file.endswith(\"checkpoint.csv\"):\n",
    "            print(file,' Skipped')# IDK were these come from looking at the test folder there are only 5 sets\n",
    "        else:\n",
    "            ss = open(root+'/'+file, 'r')# 'r' is for reading the file, ?open for other modes like writing or creating\n",
    "            x = pd.read_csv(ss)\n",
    "            train_df = pd.concat((train_df,x), axis=0,ignore_index=False)"
   ]
  },
  {
   "cell_type": "code",
   "execution_count": 29,
   "id": "e54aa5fc-9e2a-483b-8603-d6978d73fa0a",
   "metadata": {},
   "outputs": [
    {
     "data": {
      "text/html": [
       "<div>\n",
       "<style scoped>\n",
       "    .dataframe tbody tr th:only-of-type {\n",
       "        vertical-align: middle;\n",
       "    }\n",
       "\n",
       "    .dataframe tbody tr th {\n",
       "        vertical-align: top;\n",
       "    }\n",
       "\n",
       "    .dataframe thead th {\n",
       "        text-align: right;\n",
       "    }\n",
       "</style>\n",
       "<table border=\"1\" class=\"dataframe\">\n",
       "  <thead>\n",
       "    <tr style=\"text-align: right;\">\n",
       "      <th></th>\n",
       "      <th>Unnamed: 0</th>\n",
       "      <th>gameId</th>\n",
       "      <th>matchId</th>\n",
       "      <th>gameVersion</th>\n",
       "      <th>gameDuration</th>\n",
       "      <th>teamVictory</th>\n",
       "      <th>team_100_gold</th>\n",
       "      <th>team_200_gold</th>\n",
       "      <th>Player_id</th>\n",
       "      <th>Player_1_ban</th>\n",
       "      <th>...</th>\n",
       "      <th>Player_10_role</th>\n",
       "      <th>Player_10_team</th>\n",
       "      <th>Player_10_victory</th>\n",
       "      <th>Player_10_position</th>\n",
       "      <th>Player_10_time_game</th>\n",
       "      <th>Player_10_gold</th>\n",
       "      <th>Player_10_xp</th>\n",
       "      <th>Player_10_dmg_dealt</th>\n",
       "      <th>Player_10_dmg_taken</th>\n",
       "      <th>Player_10_time_ccing</th>\n",
       "    </tr>\n",
       "  </thead>\n",
       "  <tbody>\n",
       "    <tr>\n",
       "      <th>0</th>\n",
       "      <td>0</td>\n",
       "      <td>5991525653</td>\n",
       "      <td>KR_5991525653</td>\n",
       "      <td>12.12.450.4196</td>\n",
       "      <td>1266</td>\n",
       "      <td>100</td>\n",
       "      <td>45850</td>\n",
       "      <td>32836</td>\n",
       "      <td>10</td>\n",
       "      <td>103</td>\n",
       "      <td>...</td>\n",
       "      <td>SUPPORT</td>\n",
       "      <td>200</td>\n",
       "      <td>0</td>\n",
       "      <td>UTILITY</td>\n",
       "      <td>1266</td>\n",
       "      <td>4516</td>\n",
       "      <td>6213</td>\n",
       "      <td>5507</td>\n",
       "      <td>6880</td>\n",
       "      <td>7</td>\n",
       "    </tr>\n",
       "    <tr>\n",
       "      <th>1</th>\n",
       "      <td>0</td>\n",
       "      <td>4367760523</td>\n",
       "      <td>NA1_4367760523</td>\n",
       "      <td>12.12.450.4196</td>\n",
       "      <td>1155</td>\n",
       "      <td>100</td>\n",
       "      <td>39753</td>\n",
       "      <td>30935</td>\n",
       "      <td>10</td>\n",
       "      <td>350</td>\n",
       "      <td>...</td>\n",
       "      <td>SUPPORT</td>\n",
       "      <td>200</td>\n",
       "      <td>0</td>\n",
       "      <td>UTILITY</td>\n",
       "      <td>1155</td>\n",
       "      <td>4187</td>\n",
       "      <td>5132</td>\n",
       "      <td>3058</td>\n",
       "      <td>10032</td>\n",
       "      <td>6</td>\n",
       "    </tr>\n",
       "    <tr>\n",
       "      <th>2</th>\n",
       "      <td>0</td>\n",
       "      <td>5987019869</td>\n",
       "      <td>KR_5987019869</td>\n",
       "      <td>12.12.450.4196</td>\n",
       "      <td>1503</td>\n",
       "      <td>100</td>\n",
       "      <td>60668</td>\n",
       "      <td>42938</td>\n",
       "      <td>10</td>\n",
       "      <td>429</td>\n",
       "      <td>...</td>\n",
       "      <td>SUPPORT</td>\n",
       "      <td>200</td>\n",
       "      <td>0</td>\n",
       "      <td>UTILITY</td>\n",
       "      <td>1503</td>\n",
       "      <td>7175</td>\n",
       "      <td>8178</td>\n",
       "      <td>10367</td>\n",
       "      <td>17116</td>\n",
       "      <td>23</td>\n",
       "    </tr>\n",
       "    <tr>\n",
       "      <th>3</th>\n",
       "      <td>0</td>\n",
       "      <td>1267586097</td>\n",
       "      <td>LA1_1267586097</td>\n",
       "      <td>12.12.450.4196</td>\n",
       "      <td>1395</td>\n",
       "      <td>200</td>\n",
       "      <td>40165</td>\n",
       "      <td>51200</td>\n",
       "      <td>10</td>\n",
       "      <td>24</td>\n",
       "      <td>...</td>\n",
       "      <td>SUPPORT</td>\n",
       "      <td>200</td>\n",
       "      <td>1</td>\n",
       "      <td>UTILITY</td>\n",
       "      <td>1395</td>\n",
       "      <td>8909</td>\n",
       "      <td>9699</td>\n",
       "      <td>10260</td>\n",
       "      <td>10966</td>\n",
       "      <td>33</td>\n",
       "    </tr>\n",
       "    <tr>\n",
       "      <th>4</th>\n",
       "      <td>0</td>\n",
       "      <td>5991106483</td>\n",
       "      <td>KR_5991106483</td>\n",
       "      <td>12.12.450.4196</td>\n",
       "      <td>1231</td>\n",
       "      <td>100</td>\n",
       "      <td>43187</td>\n",
       "      <td>39582</td>\n",
       "      <td>10</td>\n",
       "      <td>200</td>\n",
       "      <td>...</td>\n",
       "      <td>SUPPORT</td>\n",
       "      <td>200</td>\n",
       "      <td>0</td>\n",
       "      <td>UTILITY</td>\n",
       "      <td>1231</td>\n",
       "      <td>5660</td>\n",
       "      <td>5343</td>\n",
       "      <td>4102</td>\n",
       "      <td>11293</td>\n",
       "      <td>14</td>\n",
       "    </tr>\n",
       "  </tbody>\n",
       "</table>\n",
       "<p>5 rows × 139 columns</p>\n",
       "</div>"
      ],
      "text/plain": [
       "  Unnamed: 0      gameId         matchId     gameVersion gameDuration  \\\n",
       "0          0  5991525653   KR_5991525653  12.12.450.4196         1266   \n",
       "1          0  4367760523  NA1_4367760523  12.12.450.4196         1155   \n",
       "2          0  5987019869   KR_5987019869  12.12.450.4196         1503   \n",
       "3          0  1267586097  LA1_1267586097  12.12.450.4196         1395   \n",
       "4          0  5991106483   KR_5991106483  12.12.450.4196         1231   \n",
       "\n",
       "  teamVictory team_100_gold team_200_gold Player_id Player_1_ban  ...  \\\n",
       "0         100         45850         32836        10          103  ...   \n",
       "1         100         39753         30935        10          350  ...   \n",
       "2         100         60668         42938        10          429  ...   \n",
       "3         200         40165         51200        10           24  ...   \n",
       "4         100         43187         39582        10          200  ...   \n",
       "\n",
       "  Player_10_role Player_10_team Player_10_victory Player_10_position  \\\n",
       "0        SUPPORT            200                 0            UTILITY   \n",
       "1        SUPPORT            200                 0            UTILITY   \n",
       "2        SUPPORT            200                 0            UTILITY   \n",
       "3        SUPPORT            200                 1            UTILITY   \n",
       "4        SUPPORT            200                 0            UTILITY   \n",
       "\n",
       "  Player_10_time_game Player_10_gold Player_10_xp Player_10_dmg_dealt  \\\n",
       "0                1266           4516         6213                5507   \n",
       "1                1155           4187         5132                3058   \n",
       "2                1503           7175         8178               10367   \n",
       "3                1395           8909         9699               10260   \n",
       "4                1231           5660         5343                4102   \n",
       "\n",
       "  Player_10_dmg_taken Player_10_time_ccing  \n",
       "0                6880                    7  \n",
       "1               10032                    6  \n",
       "2               17116                   23  \n",
       "3               10966                   33  \n",
       "4               11293                   14  \n",
       "\n",
       "[5 rows x 139 columns]"
      ]
     },
     "execution_count": 29,
     "metadata": {},
     "output_type": "execute_result"
    }
   ],
   "source": [
    "train_df.head()"
   ]
  },
  {
   "cell_type": "markdown",
   "id": "8fe42b8f-17d3-47d7-92d7-7d41a1052143",
   "metadata": {},
   "source": [
    "Number of NA in the final set"
   ]
  },
  {
   "cell_type": "code",
   "execution_count": 11,
   "id": "49562ab3-f12b-4e49-88e9-06ea91dc8fc7",
   "metadata": {},
   "outputs": [
    {
     "name": "stdout",
     "output_type": "stream",
     "text": [
      "(86636, 139)\n"
     ]
    },
    {
     "data": {
      "text/plain": [
       "841"
      ]
     },
     "execution_count": 11,
     "metadata": {},
     "output_type": "execute_result"
    }
   ],
   "source": [
    "print(train_df.shape)\n",
    "train_df.isna().sum().sum()"
   ]
  },
  {
   "cell_type": "markdown",
   "id": "7caadbf4-cd63-4b90-a1f8-64374411e825",
   "metadata": {},
   "source": [
    "Dropping the colmuns containing \"victory\" expect for \"teamVictory\" as those are redundant when there are colmuns telling us which team a player is on and one for which team won the match."
   ]
  },
  {
   "cell_type": "code",
   "execution_count": 30,
   "id": "de576e49-f581-4396-9cbe-e4f652376135",
   "metadata": {},
   "outputs": [
    {
     "name": "stdout",
     "output_type": "stream",
     "text": [
      "(86636, 124)\n"
     ]
    }
   ],
   "source": [
    "list(train_df.columns)\n",
    "\n",
    "drop = train_df.columns[train_df.columns.str.contains('victory')]\n",
    "train_df = train_df.drop(drop,axis=1)\n",
    "\n",
    "#drop = train_df.columns[train_df.columns.str.contains('ban')]\n",
    "#train_df = train_df.drop(drop,axis=1)\n",
    "\n",
    "train_df = train_df.drop(['Unnamed: 0','gameId', 'matchId', 'gameVersion','Player_id'],axis=1)\n",
    "\n",
    "print(train_df.shape)"
   ]
  },
  {
   "cell_type": "markdown",
   "id": "39c4ad74-7bc9-479c-afc7-21ae9f3eaa91",
   "metadata": {},
   "source": [
    "Changing our y variable, \"teamVictory\", from 100 and 200 to Red and Blue. This variable tells which team won, but 100 and 200 is nonsense."
   ]
  },
  {
   "cell_type": "code",
   "execution_count": 31,
   "id": "99d1d732-1c82-48e8-8b36-a99e9d1bca2a",
   "metadata": {},
   "outputs": [],
   "source": [
    "train_df['teamVictory'] = train_df['teamVictory'].replace([100,200],['Red','Blue'])"
   ]
  },
  {
   "cell_type": "markdown",
   "id": "6e2d6b24-e970-40e3-b684-d3dc9c3049f9",
   "metadata": {},
   "source": [
    "For saving df. Commented out because I might return to mess with a few things later and don't want to overwrite the df we are using while I'm working out an issue"
   ]
  },
  {
   "cell_type": "code",
   "execution_count": 32,
   "id": "27f7f79a-a5d0-417d-b670-d8aa24471542",
   "metadata": {},
   "outputs": [],
   "source": [
    "#train_df.to_csv('train.csv') "
   ]
  },
  {
   "cell_type": "markdown",
   "id": "ec7d63aa-1840-4c9e-aa0c-df51c93d6e18",
   "metadata": {},
   "source": [
    "Possible code for locating NA's for investigation."
   ]
  },
  {
   "cell_type": "code",
   "execution_count": 15,
   "id": "685072bd-0f1b-421c-bc9b-6d6ba6356ce7",
   "metadata": {},
   "outputs": [],
   "source": [
    "#test_df[test_df.isna()==True]"
   ]
  },
  {
   "cell_type": "code",
   "execution_count": null,
   "id": "3bbd1ec4-b3a8-4e75-a38e-1974a1dc3c15",
   "metadata": {},
   "outputs": [],
   "source": []
  },
  {
   "cell_type": "markdown",
   "id": "37ab0f32-2611-4fde-89d4-0895982b5663",
   "metadata": {},
   "source": [
    "## Validation Set"
   ]
  },
  {
   "cell_type": "code",
   "execution_count": 33,
   "id": "ef1ab5d6-9a88-4b4e-88cb-e8df23db4c6e",
   "metadata": {},
   "outputs": [
    {
     "name": "stdout",
     "output_type": "stream",
     "text": [
      "df_00002-checkpoint.csv  Skipped\n"
     ]
    }
   ],
   "source": [
    "x = pd.read_csv('Test/df_00000.csv')\n",
    "\n",
    "directory = os.path.join('Val')#Val is the folder name I put the validation datasets into\n",
    "val_df = pd.DataFrame(columns=x.columns)\n",
    "\n",
    "for root,dirs,files in os.walk(directory):\n",
    "    for file in files:\n",
    "        if file.endswith(\"checkpoint.csv\"):\n",
    "            print(file,' Skipped')# IDK were these come from looking at the test folder there are only 5 sets\n",
    "        else:\n",
    "            ss = open(root+'/'+file, 'r')# 'r' is for reading the file, ?open for other modes like writing or creating\n",
    "            x = pd.read_csv(ss)\n",
    "            val_df = pd.concat((val_df,x), axis=0,ignore_index=False)"
   ]
  },
  {
   "cell_type": "code",
   "execution_count": 34,
   "id": "503ab909-4296-41d0-92cf-3564119a43a9",
   "metadata": {},
   "outputs": [
    {
     "data": {
      "text/html": [
       "<div>\n",
       "<style scoped>\n",
       "    .dataframe tbody tr th:only-of-type {\n",
       "        vertical-align: middle;\n",
       "    }\n",
       "\n",
       "    .dataframe tbody tr th {\n",
       "        vertical-align: top;\n",
       "    }\n",
       "\n",
       "    .dataframe thead th {\n",
       "        text-align: right;\n",
       "    }\n",
       "</style>\n",
       "<table border=\"1\" class=\"dataframe\">\n",
       "  <thead>\n",
       "    <tr style=\"text-align: right;\">\n",
       "      <th></th>\n",
       "      <th>Unnamed: 0</th>\n",
       "      <th>gameId</th>\n",
       "      <th>matchId</th>\n",
       "      <th>gameVersion</th>\n",
       "      <th>gameDuration</th>\n",
       "      <th>teamVictory</th>\n",
       "      <th>team_100_gold</th>\n",
       "      <th>team_200_gold</th>\n",
       "      <th>Player_id</th>\n",
       "      <th>Player_1_ban</th>\n",
       "      <th>...</th>\n",
       "      <th>Player_10_role</th>\n",
       "      <th>Player_10_team</th>\n",
       "      <th>Player_10_victory</th>\n",
       "      <th>Player_10_position</th>\n",
       "      <th>Player_10_time_game</th>\n",
       "      <th>Player_10_gold</th>\n",
       "      <th>Player_10_xp</th>\n",
       "      <th>Player_10_dmg_dealt</th>\n",
       "      <th>Player_10_dmg_taken</th>\n",
       "      <th>Player_10_time_ccing</th>\n",
       "    </tr>\n",
       "  </thead>\n",
       "  <tbody>\n",
       "    <tr>\n",
       "      <th>0</th>\n",
       "      <td>0</td>\n",
       "      <td>4356665034</td>\n",
       "      <td>NA1_4356665034</td>\n",
       "      <td>12.12.450.4196</td>\n",
       "      <td>927</td>\n",
       "      <td>100</td>\n",
       "      <td>33394</td>\n",
       "      <td>24800</td>\n",
       "      <td>10</td>\n",
       "      <td>-1</td>\n",
       "      <td>...</td>\n",
       "      <td>SUPPORT</td>\n",
       "      <td>200</td>\n",
       "      <td>0</td>\n",
       "      <td>UTILITY</td>\n",
       "      <td>927</td>\n",
       "      <td>5020</td>\n",
       "      <td>3927</td>\n",
       "      <td>6585</td>\n",
       "      <td>10019</td>\n",
       "      <td>16</td>\n",
       "    </tr>\n",
       "    <tr>\n",
       "      <th>1</th>\n",
       "      <td>0</td>\n",
       "      <td>5953813873</td>\n",
       "      <td>EUW1_5953813873</td>\n",
       "      <td>12.12.450.4196</td>\n",
       "      <td>1663</td>\n",
       "      <td>100</td>\n",
       "      <td>55944</td>\n",
       "      <td>47640</td>\n",
       "      <td>10</td>\n",
       "      <td>84</td>\n",
       "      <td>...</td>\n",
       "      <td>SUPPORT</td>\n",
       "      <td>200</td>\n",
       "      <td>0</td>\n",
       "      <td>UTILITY</td>\n",
       "      <td>1663</td>\n",
       "      <td>6662</td>\n",
       "      <td>7329</td>\n",
       "      <td>6176</td>\n",
       "      <td>10811</td>\n",
       "      <td>43</td>\n",
       "    </tr>\n",
       "    <tr>\n",
       "      <th>2</th>\n",
       "      <td>0</td>\n",
       "      <td>1194644361</td>\n",
       "      <td>LA2_1194644361</td>\n",
       "      <td>12.12.450.4196</td>\n",
       "      <td>1369</td>\n",
       "      <td>200</td>\n",
       "      <td>35248</td>\n",
       "      <td>53140</td>\n",
       "      <td>10</td>\n",
       "      <td>266</td>\n",
       "      <td>...</td>\n",
       "      <td>SOLO</td>\n",
       "      <td>200</td>\n",
       "      <td>1</td>\n",
       "      <td>UTILITY</td>\n",
       "      <td>1369</td>\n",
       "      <td>8045</td>\n",
       "      <td>9669</td>\n",
       "      <td>3972</td>\n",
       "      <td>9818</td>\n",
       "      <td>19</td>\n",
       "    </tr>\n",
       "    <tr>\n",
       "      <th>3</th>\n",
       "      <td>0</td>\n",
       "      <td>4359202275</td>\n",
       "      <td>NA1_4359202275</td>\n",
       "      <td>12.12.450.4196</td>\n",
       "      <td>1261</td>\n",
       "      <td>200</td>\n",
       "      <td>36240</td>\n",
       "      <td>43050</td>\n",
       "      <td>10</td>\n",
       "      <td>236</td>\n",
       "      <td>...</td>\n",
       "      <td>SUPPORT</td>\n",
       "      <td>200</td>\n",
       "      <td>1</td>\n",
       "      <td>UTILITY</td>\n",
       "      <td>1261</td>\n",
       "      <td>6759</td>\n",
       "      <td>7140</td>\n",
       "      <td>8742</td>\n",
       "      <td>8551</td>\n",
       "      <td>30</td>\n",
       "    </tr>\n",
       "    <tr>\n",
       "      <th>4</th>\n",
       "      <td>0</td>\n",
       "      <td>1195485117</td>\n",
       "      <td>LA2_1195485117</td>\n",
       "      <td>12.12.450.4196</td>\n",
       "      <td>1422</td>\n",
       "      <td>200</td>\n",
       "      <td>43171</td>\n",
       "      <td>56111</td>\n",
       "      <td>10</td>\n",
       "      <td>62</td>\n",
       "      <td>...</td>\n",
       "      <td>SUPPORT</td>\n",
       "      <td>200</td>\n",
       "      <td>1</td>\n",
       "      <td>UTILITY</td>\n",
       "      <td>1422</td>\n",
       "      <td>7948</td>\n",
       "      <td>9909</td>\n",
       "      <td>5457</td>\n",
       "      <td>13220</td>\n",
       "      <td>20</td>\n",
       "    </tr>\n",
       "  </tbody>\n",
       "</table>\n",
       "<p>5 rows × 139 columns</p>\n",
       "</div>"
      ],
      "text/plain": [
       "  Unnamed: 0      gameId          matchId     gameVersion gameDuration  \\\n",
       "0          0  4356665034   NA1_4356665034  12.12.450.4196          927   \n",
       "1          0  5953813873  EUW1_5953813873  12.12.450.4196         1663   \n",
       "2          0  1194644361   LA2_1194644361  12.12.450.4196         1369   \n",
       "3          0  4359202275   NA1_4359202275  12.12.450.4196         1261   \n",
       "4          0  1195485117   LA2_1195485117  12.12.450.4196         1422   \n",
       "\n",
       "  teamVictory team_100_gold team_200_gold Player_id Player_1_ban  ...  \\\n",
       "0         100         33394         24800        10           -1  ...   \n",
       "1         100         55944         47640        10           84  ...   \n",
       "2         200         35248         53140        10          266  ...   \n",
       "3         200         36240         43050        10          236  ...   \n",
       "4         200         43171         56111        10           62  ...   \n",
       "\n",
       "  Player_10_role Player_10_team Player_10_victory Player_10_position  \\\n",
       "0        SUPPORT            200                 0            UTILITY   \n",
       "1        SUPPORT            200                 0            UTILITY   \n",
       "2           SOLO            200                 1            UTILITY   \n",
       "3        SUPPORT            200                 1            UTILITY   \n",
       "4        SUPPORT            200                 1            UTILITY   \n",
       "\n",
       "  Player_10_time_game Player_10_gold Player_10_xp Player_10_dmg_dealt  \\\n",
       "0                 927           5020         3927                6585   \n",
       "1                1663           6662         7329                6176   \n",
       "2                1369           8045         9669                3972   \n",
       "3                1261           6759         7140                8742   \n",
       "4                1422           7948         9909                5457   \n",
       "\n",
       "  Player_10_dmg_taken Player_10_time_ccing  \n",
       "0               10019                   16  \n",
       "1               10811                   43  \n",
       "2                9818                   19  \n",
       "3                8551                   30  \n",
       "4               13220                   20  \n",
       "\n",
       "[5 rows x 139 columns]"
      ]
     },
     "execution_count": 34,
     "metadata": {},
     "output_type": "execute_result"
    }
   ],
   "source": [
    "val_df.head()"
   ]
  },
  {
   "cell_type": "markdown",
   "id": "d4d9b838-759e-49c3-a186-9e7bc3955ec7",
   "metadata": {},
   "source": [
    "Number of NA in the final set"
   ]
  },
  {
   "cell_type": "code",
   "execution_count": 18,
   "id": "c2d63af1-836c-401a-8fc7-f52ccd79c8dc",
   "metadata": {},
   "outputs": [
    {
     "name": "stdout",
     "output_type": "stream",
     "text": [
      "(4813, 139)\n"
     ]
    },
    {
     "data": {
      "text/plain": [
       "51"
      ]
     },
     "execution_count": 18,
     "metadata": {},
     "output_type": "execute_result"
    }
   ],
   "source": [
    "print(val_df.shape)\n",
    "val_df.isna().sum().sum()"
   ]
  },
  {
   "cell_type": "markdown",
   "id": "30c842a2-17d4-4a56-af14-a66c6bc55c4f",
   "metadata": {},
   "source": [
    "Dropping the colmuns containing \"victory\" expect for \"teamVictory\" as those are redundant when there are colmuns telling us which team a player is on and one for which team won the match."
   ]
  },
  {
   "cell_type": "code",
   "execution_count": 36,
   "id": "fd14562f-c2d0-4301-8381-caae167a5cf3",
   "metadata": {},
   "outputs": [
    {
     "name": "stdout",
     "output_type": "stream",
     "text": [
      "(4813, 124)\n"
     ]
    }
   ],
   "source": [
    "list(val_df.columns)\n",
    "\n",
    "drop = val_df.columns[val_df.columns.str.contains('victory')]\n",
    "val_df = val_df.drop(drop,axis=1)\n",
    "\n",
    "#drop = val_df.columns[val_df.columns.str.contains('ban')]\n",
    "#val_df = val_df.drop(drop,axis=1)\n",
    "\n",
    "val_df = val_df.drop(['Unnamed: 0','gameId', 'matchId', 'gameVersion','Player_id'],axis=1)\n",
    "\n",
    "print(val_df.shape)"
   ]
  },
  {
   "cell_type": "markdown",
   "id": "17aba6af-0755-42c9-8ff3-ab80cd2c91e3",
   "metadata": {},
   "source": [
    "Changing our y variable, \"teamVictory\", from 100 and 200 to Red and Blue. This variable tells which team won, but 100 and 200 is nonsense."
   ]
  },
  {
   "cell_type": "code",
   "execution_count": 37,
   "id": "116d8d69-7aab-42e2-8cb1-aaf3248fe1ec",
   "metadata": {},
   "outputs": [],
   "source": [
    "val_df['teamVictory'] = val_df['teamVictory'].replace([100,200],['Red','Blue'])"
   ]
  },
  {
   "cell_type": "markdown",
   "id": "78bff237-e875-4e07-a754-1a92b11e1fdc",
   "metadata": {},
   "source": [
    "For saving df. Commented out because I might return to mess with a few things later and don't want to overwrite the df we are using while I'm working out an issue"
   ]
  },
  {
   "cell_type": "code",
   "execution_count": 38,
   "id": "1e904f50-7719-4c6c-87bf-c102542ad282",
   "metadata": {},
   "outputs": [],
   "source": [
    "#val_df.to_csv('val.csv') "
   ]
  },
  {
   "cell_type": "markdown",
   "id": "bbe89a9e-dffd-4f0b-96e7-c743a8953897",
   "metadata": {},
   "source": [
    "Possible code for locating NA's for investigation."
   ]
  },
  {
   "cell_type": "code",
   "execution_count": 22,
   "id": "f2cb7997-a886-4884-9e8b-9c71123dd4e5",
   "metadata": {},
   "outputs": [],
   "source": [
    "#test_df[test_df.isna()==True]"
   ]
  },
  {
   "cell_type": "code",
   "execution_count": null,
   "id": "17dcbb6d-6b6f-48f1-955d-13d2e17bc14f",
   "metadata": {},
   "outputs": [],
   "source": []
  }
 ],
 "metadata": {
  "kernelspec": {
   "display_name": "Python 3 (ipykernel)",
   "language": "python",
   "name": "python3"
  },
  "language_info": {
   "codemirror_mode": {
    "name": "ipython",
    "version": 3
   },
   "file_extension": ".py",
   "mimetype": "text/x-python",
   "name": "python",
   "nbconvert_exporter": "python",
   "pygments_lexer": "ipython3",
   "version": "3.10.6"
  }
 },
 "nbformat": 4,
 "nbformat_minor": 5
}
