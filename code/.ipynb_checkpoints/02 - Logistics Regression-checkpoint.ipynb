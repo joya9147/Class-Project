{
 "cells": [
  {
   "cell_type": "markdown",
   "id": "9054f58b",
   "metadata": {},
   "source": [
    "To do's:\n",
    "\n",
    "- confusion matrix"
   ]
  },
  {
   "cell_type": "markdown",
   "id": "65e75971-ea57-4a5f-8be2-890918348970",
   "metadata": {},
   "source": [
    "# Libraries and importing data"
   ]
  },
  {
   "cell_type": "code",
   "execution_count": 82,
   "id": "f2960da3-c979-4b7e-9fb0-1a2e97e1e0da",
   "metadata": {},
   "outputs": [],
   "source": [
    "import numpy as np\n",
    "import scipy as sp\n",
    "import sklearn as sk\n",
    "import pandas as pd\n",
    "import re"
   ]
  },
  {
   "cell_type": "markdown",
   "id": "6e3cb10c-50b9-4aa7-bbdd-e0786d2e21bc",
   "metadata": {},
   "source": [
    "### Visualization packages"
   ]
  },
  {
   "cell_type": "code",
   "execution_count": 83,
   "id": "0fd6583c-5139-487f-8f6e-18616919776c",
   "metadata": {
    "tags": []
   },
   "outputs": [],
   "source": [
    "import matplotlib.pyplot as plt\n",
    "import seaborn as sb"
   ]
  },
  {
   "cell_type": "markdown",
   "id": "7d9ce746-339b-4caa-9f32-28f0e8eee6ae",
   "metadata": {},
   "source": [
    "### Scikit learn for logistics regression"
   ]
  },
  {
   "cell_type": "code",
   "execution_count": 84,
   "id": "01d6d46d-9676-49d7-8048-fd37a4ca8168",
   "metadata": {},
   "outputs": [],
   "source": [
    "from sklearn.linear_model import LogisticRegression,SGDClassifier\n",
    "from sklearn.model_selection import train_test_split, cross_val_score, StratifiedKFold, GridSearchCV\n",
    "from sklearn.metrics import accuracy_score, log_loss\n",
    "from sklearn.pipeline import Pipeline\n",
    "from sklearn.preprocessing import PowerTransformer, MinMaxScaler, OneHotEncoder\n",
    "from sklearn.compose import ColumnTransformer\n",
    "from sklearn.feature_selection import SelectKBest, SelectPercentile, chi2, RFE, RFECV\n",
    "from sklearn.feature_selection import RFE"
   ]
  },
  {
   "cell_type": "code",
   "execution_count": 85,
   "id": "9baaecbb-b17f-4ebd-aed2-8a962594c95b",
   "metadata": {},
   "outputs": [],
   "source": [
    "import info5604_utils as util"
   ]
  },
  {
   "cell_type": "markdown",
   "id": "94235941-6a58-44c2-8a97-1a27863ba9ae",
   "metadata": {},
   "source": [
    "### Importing the data. Dataset is multileveled so it needs to be imported this way"
   ]
  },
  {
   "cell_type": "markdown",
   "id": "188df79f",
   "metadata": {},
   "source": [
    "Display more columns"
   ]
  },
  {
   "cell_type": "code",
   "execution_count": 86,
   "id": "abfa48f7",
   "metadata": {},
   "outputs": [],
   "source": [
    "pd.set_option('display.max_columns', 200)\n",
    "pd.set_option('display.max_rows', None)"
   ]
  },
  {
   "cell_type": "code",
   "execution_count": 87,
   "id": "e3940e72-d852-47ac-a421-d8402ca1ddbe",
   "metadata": {
    "scrolled": false
   },
   "outputs": [
    {
     "name": "stdout",
     "output_type": "stream",
     "text": [
      "(7578, 99)\n"
     ]
    },
    {
     "data": {
      "text/html": [
       "<div>\n",
       "<style scoped>\n",
       "    .dataframe tbody tr th:only-of-type {\n",
       "        vertical-align: middle;\n",
       "    }\n",
       "\n",
       "    .dataframe tbody tr th {\n",
       "        vertical-align: top;\n",
       "    }\n",
       "\n",
       "    .dataframe thead tr th {\n",
       "        text-align: left;\n",
       "    }\n",
       "</style>\n",
       "<table border=\"1\" class=\"dataframe\">\n",
       "  <thead>\n",
       "    <tr>\n",
       "      <th></th>\n",
       "      <th colspan=\"7\" halign=\"left\">Info</th>\n",
       "      <th colspan=\"11\" halign=\"left\">Blue</th>\n",
       "      <th colspan=\"11\" halign=\"left\">Red</th>\n",
       "      <th colspan=\"5\" halign=\"left\">Blue</th>\n",
       "      <th colspan=\"5\" halign=\"left\">Red</th>\n",
       "      <th colspan=\"4\" halign=\"left\">golddiff</th>\n",
       "      <th colspan=\"4\" halign=\"left\">goldblue</th>\n",
       "      <th colspan=\"4\" halign=\"left\">goldred</th>\n",
       "      <th colspan=\"4\" halign=\"left\">goldblueTop</th>\n",
       "      <th colspan=\"4\" halign=\"left\">goldblueJungle</th>\n",
       "      <th colspan=\"4\" halign=\"left\">goldblueMiddle</th>\n",
       "      <th colspan=\"4\" halign=\"left\">goldblueADC</th>\n",
       "      <th colspan=\"4\" halign=\"left\">goldblueSupport</th>\n",
       "      <th colspan=\"4\" halign=\"left\">goldredTop</th>\n",
       "      <th colspan=\"4\" halign=\"left\">goldredJungle</th>\n",
       "      <th colspan=\"4\" halign=\"left\">goldredMiddle</th>\n",
       "      <th colspan=\"4\" halign=\"left\">goldredADC</th>\n",
       "      <th colspan=\"4\" halign=\"left\">goldredSupport</th>\n",
       "      <th>Blue</th>\n",
       "      <th>Red</th>\n",
       "      <th>Blue</th>\n",
       "      <th>Red</th>\n",
       "      <th>Blue</th>\n",
       "      <th>Red</th>\n",
       "      <th colspan=\"2\" halign=\"left\">Info</th>\n",
       "    </tr>\n",
       "    <tr>\n",
       "      <th></th>\n",
       "      <th>Address</th>\n",
       "      <th>League</th>\n",
       "      <th>Year</th>\n",
       "      <th>Season</th>\n",
       "      <th>GameType</th>\n",
       "      <th>gamelength</th>\n",
       "      <th>Winner</th>\n",
       "      <th>TeamTag</th>\n",
       "      <th>Top</th>\n",
       "      <th>TopChamp</th>\n",
       "      <th>Jungle</th>\n",
       "      <th>JungleChamp</th>\n",
       "      <th>Middle</th>\n",
       "      <th>MiddleChamp</th>\n",
       "      <th>ADC</th>\n",
       "      <th>ADCChamp</th>\n",
       "      <th>Support</th>\n",
       "      <th>SupportChamp</th>\n",
       "      <th>TeamTag</th>\n",
       "      <th>Top</th>\n",
       "      <th>TopChamp</th>\n",
       "      <th>Jungle</th>\n",
       "      <th>JungleChamp</th>\n",
       "      <th>Middle</th>\n",
       "      <th>MiddleChamp</th>\n",
       "      <th>ADC</th>\n",
       "      <th>ADCChamp</th>\n",
       "      <th>Support</th>\n",
       "      <th>SupportChamp</th>\n",
       "      <th>ban_1</th>\n",
       "      <th>ban_2</th>\n",
       "      <th>ban_3</th>\n",
       "      <th>ban_4</th>\n",
       "      <th>ban_5</th>\n",
       "      <th>ban_1</th>\n",
       "      <th>ban_2</th>\n",
       "      <th>ban_3</th>\n",
       "      <th>ban_4</th>\n",
       "      <th>ban_5</th>\n",
       "      <th>min_5</th>\n",
       "      <th>min_10</th>\n",
       "      <th>min_15</th>\n",
       "      <th>min_20</th>\n",
       "      <th>min_5</th>\n",
       "      <th>min_10</th>\n",
       "      <th>min_15</th>\n",
       "      <th>min_20</th>\n",
       "      <th>min_5</th>\n",
       "      <th>min_10</th>\n",
       "      <th>min_15</th>\n",
       "      <th>min_20</th>\n",
       "      <th>min_5</th>\n",
       "      <th>min_10</th>\n",
       "      <th>min_15</th>\n",
       "      <th>min_20</th>\n",
       "      <th>min_5</th>\n",
       "      <th>min_10</th>\n",
       "      <th>min_15</th>\n",
       "      <th>min_20</th>\n",
       "      <th>min_5</th>\n",
       "      <th>min_10</th>\n",
       "      <th>min_15</th>\n",
       "      <th>min_20</th>\n",
       "      <th>min_5</th>\n",
       "      <th>min_10</th>\n",
       "      <th>min_15</th>\n",
       "      <th>min_20</th>\n",
       "      <th>min_5</th>\n",
       "      <th>min_10</th>\n",
       "      <th>min_15</th>\n",
       "      <th>min_20</th>\n",
       "      <th>min_5</th>\n",
       "      <th>min_10</th>\n",
       "      <th>min_15</th>\n",
       "      <th>min_20</th>\n",
       "      <th>min_5</th>\n",
       "      <th>min_10</th>\n",
       "      <th>min_15</th>\n",
       "      <th>min_20</th>\n",
       "      <th>min_5</th>\n",
       "      <th>min_10</th>\n",
       "      <th>min_15</th>\n",
       "      <th>min_20</th>\n",
       "      <th>min_5</th>\n",
       "      <th>min_10</th>\n",
       "      <th>min_15</th>\n",
       "      <th>min_20</th>\n",
       "      <th>min_5</th>\n",
       "      <th>min_10</th>\n",
       "      <th>min_15</th>\n",
       "      <th>min_20</th>\n",
       "      <th>Towers</th>\n",
       "      <th>Towers</th>\n",
       "      <th>Inhib</th>\n",
       "      <th>Inhib</th>\n",
       "      <th>Kills</th>\n",
       "      <th>Kills</th>\n",
       "      <th>FirstBlood</th>\n",
       "      <th>FirstTower</th>\n",
       "    </tr>\n",
       "  </thead>\n",
       "  <tbody>\n",
       "    <tr>\n",
       "      <th>0</th>\n",
       "      <td>http://matchhistory.na.leagueoflegends.com/en/...</td>\n",
       "      <td>NALCS</td>\n",
       "      <td>2015</td>\n",
       "      <td>Spring</td>\n",
       "      <td>Season</td>\n",
       "      <td>40</td>\n",
       "      <td>Blue</td>\n",
       "      <td>TSM</td>\n",
       "      <td>Dyrus</td>\n",
       "      <td>Irelia</td>\n",
       "      <td>Santorin</td>\n",
       "      <td>RekSai</td>\n",
       "      <td>Bjergsen</td>\n",
       "      <td>Ahri</td>\n",
       "      <td>WildTurtle</td>\n",
       "      <td>Jinx</td>\n",
       "      <td>Lustboy</td>\n",
       "      <td>Janna</td>\n",
       "      <td>C9</td>\n",
       "      <td>Balls</td>\n",
       "      <td>Gnar</td>\n",
       "      <td>Meteos</td>\n",
       "      <td>Elise</td>\n",
       "      <td>Hai</td>\n",
       "      <td>Fizz</td>\n",
       "      <td>Sneaky</td>\n",
       "      <td>Sivir</td>\n",
       "      <td>LemonNation</td>\n",
       "      <td>Thresh</td>\n",
       "      <td>Rumble</td>\n",
       "      <td>Kassadin</td>\n",
       "      <td>Lissandra</td>\n",
       "      <td>NaN</td>\n",
       "      <td>NaN</td>\n",
       "      <td>Tristana</td>\n",
       "      <td>Leblanc</td>\n",
       "      <td>Nidalee</td>\n",
       "      <td>NaN</td>\n",
       "      <td>NaN</td>\n",
       "      <td>-268</td>\n",
       "      <td>-625</td>\n",
       "      <td>-790</td>\n",
       "      <td>1422.0</td>\n",
       "      <td>5068</td>\n",
       "      <td>11361</td>\n",
       "      <td>18324</td>\n",
       "      <td>29519.0</td>\n",
       "      <td>5336</td>\n",
       "      <td>11986</td>\n",
       "      <td>19114</td>\n",
       "      <td>28097.0</td>\n",
       "      <td>893</td>\n",
       "      <td>2051</td>\n",
       "      <td>3630</td>\n",
       "      <td>6008.0</td>\n",
       "      <td>1049</td>\n",
       "      <td>2486</td>\n",
       "      <td>3632</td>\n",
       "      <td>5799.0</td>\n",
       "      <td>1102</td>\n",
       "      <td>2663</td>\n",
       "      <td>4608</td>\n",
       "      <td>7308.0</td>\n",
       "      <td>1127</td>\n",
       "      <td>2495</td>\n",
       "      <td>4051</td>\n",
       "      <td>6359.0</td>\n",
       "      <td>897</td>\n",
       "      <td>1666</td>\n",
       "      <td>2403</td>\n",
       "      <td>4045.0</td>\n",
       "      <td>958</td>\n",
       "      <td>2587</td>\n",
       "      <td>4377</td>\n",
       "      <td>6539.0</td>\n",
       "      <td>1192</td>\n",
       "      <td>2555</td>\n",
       "      <td>4099</td>\n",
       "      <td>6194.0</td>\n",
       "      <td>1178</td>\n",
       "      <td>2561</td>\n",
       "      <td>4043</td>\n",
       "      <td>5550.0</td>\n",
       "      <td>1097</td>\n",
       "      <td>2621</td>\n",
       "      <td>4149</td>\n",
       "      <td>6374.0</td>\n",
       "      <td>911</td>\n",
       "      <td>1662</td>\n",
       "      <td>2446</td>\n",
       "      <td>3440.0</td>\n",
       "      <td>4.0</td>\n",
       "      <td>2.0</td>\n",
       "      <td>0.0</td>\n",
       "      <td>0.0</td>\n",
       "      <td>4.0</td>\n",
       "      <td>3.0</td>\n",
       "      <td>Blue</td>\n",
       "      <td>Blue</td>\n",
       "    </tr>\n",
       "    <tr>\n",
       "      <th>1</th>\n",
       "      <td>http://matchhistory.na.leagueoflegends.com/en/...</td>\n",
       "      <td>NALCS</td>\n",
       "      <td>2015</td>\n",
       "      <td>Spring</td>\n",
       "      <td>Season</td>\n",
       "      <td>38</td>\n",
       "      <td>Red</td>\n",
       "      <td>CST</td>\n",
       "      <td>Cris</td>\n",
       "      <td>Gnar</td>\n",
       "      <td>Impaler</td>\n",
       "      <td>Rengar</td>\n",
       "      <td>Jesiz</td>\n",
       "      <td>Ahri</td>\n",
       "      <td>Mash</td>\n",
       "      <td>Caitlyn</td>\n",
       "      <td>Sheep</td>\n",
       "      <td>Leona</td>\n",
       "      <td>DIG</td>\n",
       "      <td>Gamsu</td>\n",
       "      <td>Irelia</td>\n",
       "      <td>Crumbzz</td>\n",
       "      <td>JarvanIV</td>\n",
       "      <td>Shiphtur</td>\n",
       "      <td>Azir</td>\n",
       "      <td>CoreJJ</td>\n",
       "      <td>Corki</td>\n",
       "      <td>KiWiKiD</td>\n",
       "      <td>Annie</td>\n",
       "      <td>Kassadin</td>\n",
       "      <td>Sivir</td>\n",
       "      <td>Lissandra</td>\n",
       "      <td>NaN</td>\n",
       "      <td>NaN</td>\n",
       "      <td>RekSai</td>\n",
       "      <td>Janna</td>\n",
       "      <td>Leblanc</td>\n",
       "      <td>NaN</td>\n",
       "      <td>NaN</td>\n",
       "      <td>147</td>\n",
       "      <td>-242</td>\n",
       "      <td>1394</td>\n",
       "      <td>1105.0</td>\n",
       "      <td>5511</td>\n",
       "      <td>11419</td>\n",
       "      <td>19698</td>\n",
       "      <td>27282.0</td>\n",
       "      <td>5364</td>\n",
       "      <td>11661</td>\n",
       "      <td>18304</td>\n",
       "      <td>26177.0</td>\n",
       "      <td>1127</td>\n",
       "      <td>2406</td>\n",
       "      <td>4594</td>\n",
       "      <td>6217.0</td>\n",
       "      <td>1176</td>\n",
       "      <td>2350</td>\n",
       "      <td>3929</td>\n",
       "      <td>5205.0</td>\n",
       "      <td>1102</td>\n",
       "      <td>2547</td>\n",
       "      <td>4549</td>\n",
       "      <td>6341.0</td>\n",
       "      <td>1182</td>\n",
       "      <td>2415</td>\n",
       "      <td>3869</td>\n",
       "      <td>5695.0</td>\n",
       "      <td>924</td>\n",
       "      <td>1701</td>\n",
       "      <td>2757</td>\n",
       "      <td>3824.0</td>\n",
       "      <td>1042</td>\n",
       "      <td>2346</td>\n",
       "      <td>3770</td>\n",
       "      <td>5424.0</td>\n",
       "      <td>1105</td>\n",
       "      <td>2285</td>\n",
       "      <td>3415</td>\n",
       "      <td>4429.0</td>\n",
       "      <td>1097</td>\n",
       "      <td>2601</td>\n",
       "      <td>4418</td>\n",
       "      <td>6217.0</td>\n",
       "      <td>1220</td>\n",
       "      <td>2670</td>\n",
       "      <td>4061</td>\n",
       "      <td>6364.0</td>\n",
       "      <td>900</td>\n",
       "      <td>1759</td>\n",
       "      <td>2640</td>\n",
       "      <td>3743.0</td>\n",
       "      <td>1.0</td>\n",
       "      <td>2.0</td>\n",
       "      <td>0.0</td>\n",
       "      <td>0.0</td>\n",
       "      <td>5.0</td>\n",
       "      <td>3.0</td>\n",
       "      <td>Blue</td>\n",
       "      <td>Red</td>\n",
       "    </tr>\n",
       "    <tr>\n",
       "      <th>2</th>\n",
       "      <td>http://matchhistory.na.leagueoflegends.com/en/...</td>\n",
       "      <td>NALCS</td>\n",
       "      <td>2015</td>\n",
       "      <td>Spring</td>\n",
       "      <td>Season</td>\n",
       "      <td>40</td>\n",
       "      <td>Blue</td>\n",
       "      <td>WFX</td>\n",
       "      <td>Flaresz</td>\n",
       "      <td>Renekton</td>\n",
       "      <td>ShorterACE</td>\n",
       "      <td>Rengar</td>\n",
       "      <td>Pobelter</td>\n",
       "      <td>Fizz</td>\n",
       "      <td>Altec</td>\n",
       "      <td>Sivir</td>\n",
       "      <td>Gleeb</td>\n",
       "      <td>Annie</td>\n",
       "      <td>GV</td>\n",
       "      <td>Hauntzer</td>\n",
       "      <td>Sion</td>\n",
       "      <td>Saintvicious</td>\n",
       "      <td>LeeSin</td>\n",
       "      <td>Keane</td>\n",
       "      <td>Azir</td>\n",
       "      <td>Cop</td>\n",
       "      <td>Corki</td>\n",
       "      <td>BunnyFuFuu</td>\n",
       "      <td>Janna</td>\n",
       "      <td>JarvanIV</td>\n",
       "      <td>Lissandra</td>\n",
       "      <td>Kassadin</td>\n",
       "      <td>NaN</td>\n",
       "      <td>NaN</td>\n",
       "      <td>Leblanc</td>\n",
       "      <td>Zed</td>\n",
       "      <td>RekSai</td>\n",
       "      <td>NaN</td>\n",
       "      <td>NaN</td>\n",
       "      <td>34</td>\n",
       "      <td>913</td>\n",
       "      <td>2922</td>\n",
       "      <td>5293.0</td>\n",
       "      <td>4933</td>\n",
       "      <td>12374</td>\n",
       "      <td>21237</td>\n",
       "      <td>31317.0</td>\n",
       "      <td>4899</td>\n",
       "      <td>11461</td>\n",
       "      <td>18315</td>\n",
       "      <td>26024.0</td>\n",
       "      <td>828</td>\n",
       "      <td>2419</td>\n",
       "      <td>4187</td>\n",
       "      <td>6478.0</td>\n",
       "      <td>1041</td>\n",
       "      <td>2552</td>\n",
       "      <td>4026</td>\n",
       "      <td>5321.0</td>\n",
       "      <td>1065</td>\n",
       "      <td>2865</td>\n",
       "      <td>4861</td>\n",
       "      <td>6777.0</td>\n",
       "      <td>1130</td>\n",
       "      <td>2723</td>\n",
       "      <td>4899</td>\n",
       "      <td>7580.0</td>\n",
       "      <td>869</td>\n",
       "      <td>1815</td>\n",
       "      <td>3264</td>\n",
       "      <td>5161.0</td>\n",
       "      <td>861</td>\n",
       "      <td>2113</td>\n",
       "      <td>3532</td>\n",
       "      <td>5356.0</td>\n",
       "      <td>1089</td>\n",
       "      <td>2454</td>\n",
       "      <td>3971</td>\n",
       "      <td>5338.0</td>\n",
       "      <td>1006</td>\n",
       "      <td>2254</td>\n",
       "      <td>3578</td>\n",
       "      <td>5491.0</td>\n",
       "      <td>1085</td>\n",
       "      <td>2854</td>\n",
       "      <td>4582</td>\n",
       "      <td>6268.0</td>\n",
       "      <td>858</td>\n",
       "      <td>1786</td>\n",
       "      <td>2652</td>\n",
       "      <td>3571.0</td>\n",
       "      <td>3.0</td>\n",
       "      <td>0.0</td>\n",
       "      <td>0.0</td>\n",
       "      <td>0.0</td>\n",
       "      <td>11.0</td>\n",
       "      <td>6.0</td>\n",
       "      <td>Blue</td>\n",
       "      <td>Blue</td>\n",
       "    </tr>\n",
       "    <tr>\n",
       "      <th>3</th>\n",
       "      <td>http://matchhistory.na.leagueoflegends.com/en/...</td>\n",
       "      <td>NALCS</td>\n",
       "      <td>2015</td>\n",
       "      <td>Spring</td>\n",
       "      <td>Season</td>\n",
       "      <td>41</td>\n",
       "      <td>Red</td>\n",
       "      <td>TIP</td>\n",
       "      <td>Rhux</td>\n",
       "      <td>Irelia</td>\n",
       "      <td>Rush</td>\n",
       "      <td>JarvanIV</td>\n",
       "      <td>XiaoWeiXiao</td>\n",
       "      <td>Leblanc</td>\n",
       "      <td>Apollo</td>\n",
       "      <td>Sivir</td>\n",
       "      <td>Adrian</td>\n",
       "      <td>Thresh</td>\n",
       "      <td>TL</td>\n",
       "      <td>Quas</td>\n",
       "      <td>Gnar</td>\n",
       "      <td>IWDominate</td>\n",
       "      <td>Nunu</td>\n",
       "      <td>Fenix</td>\n",
       "      <td>Lulu</td>\n",
       "      <td>KEITH</td>\n",
       "      <td>KogMaw</td>\n",
       "      <td>Xpecial</td>\n",
       "      <td>Janna</td>\n",
       "      <td>Annie</td>\n",
       "      <td>Lissandra</td>\n",
       "      <td>Kassadin</td>\n",
       "      <td>NaN</td>\n",
       "      <td>NaN</td>\n",
       "      <td>RekSai</td>\n",
       "      <td>Rumble</td>\n",
       "      <td>LeeSin</td>\n",
       "      <td>NaN</td>\n",
       "      <td>NaN</td>\n",
       "      <td>228</td>\n",
       "      <td>16</td>\n",
       "      <td>-335</td>\n",
       "      <td>768.0</td>\n",
       "      <td>5398</td>\n",
       "      <td>12033</td>\n",
       "      <td>19332</td>\n",
       "      <td>25772.0</td>\n",
       "      <td>5170</td>\n",
       "      <td>12017</td>\n",
       "      <td>19667</td>\n",
       "      <td>25004.0</td>\n",
       "      <td>992</td>\n",
       "      <td>2662</td>\n",
       "      <td>4296</td>\n",
       "      <td>5544.0</td>\n",
       "      <td>1272</td>\n",
       "      <td>2390</td>\n",
       "      <td>3627</td>\n",
       "      <td>4867.0</td>\n",
       "      <td>1066</td>\n",
       "      <td>2533</td>\n",
       "      <td>4378</td>\n",
       "      <td>5722.0</td>\n",
       "      <td>1202</td>\n",
       "      <td>2756</td>\n",
       "      <td>4555</td>\n",
       "      <td>6305.0</td>\n",
       "      <td>866</td>\n",
       "      <td>1692</td>\n",
       "      <td>2476</td>\n",
       "      <td>3334.0</td>\n",
       "      <td>922</td>\n",
       "      <td>2390</td>\n",
       "      <td>3785</td>\n",
       "      <td>4800.0</td>\n",
       "      <td>1171</td>\n",
       "      <td>2937</td>\n",
       "      <td>4646</td>\n",
       "      <td>5620.0</td>\n",
       "      <td>1046</td>\n",
       "      <td>2468</td>\n",
       "      <td>4420</td>\n",
       "      <td>5649.0</td>\n",
       "      <td>1161</td>\n",
       "      <td>2568</td>\n",
       "      <td>4243</td>\n",
       "      <td>5431.0</td>\n",
       "      <td>870</td>\n",
       "      <td>1654</td>\n",
       "      <td>2573</td>\n",
       "      <td>3504.0</td>\n",
       "      <td>2.0</td>\n",
       "      <td>1.0</td>\n",
       "      <td>0.0</td>\n",
       "      <td>0.0</td>\n",
       "      <td>5.0</td>\n",
       "      <td>5.0</td>\n",
       "      <td>Red</td>\n",
       "      <td>Blue</td>\n",
       "    </tr>\n",
       "    <tr>\n",
       "      <th>4</th>\n",
       "      <td>http://matchhistory.na.leagueoflegends.com/en/...</td>\n",
       "      <td>NALCS</td>\n",
       "      <td>2015</td>\n",
       "      <td>Spring</td>\n",
       "      <td>Season</td>\n",
       "      <td>35</td>\n",
       "      <td>Blue</td>\n",
       "      <td>CLG</td>\n",
       "      <td>Benny</td>\n",
       "      <td>Gnar</td>\n",
       "      <td>Xmithie</td>\n",
       "      <td>JarvanIV</td>\n",
       "      <td>Link</td>\n",
       "      <td>Lissandra</td>\n",
       "      <td>Doublelift</td>\n",
       "      <td>Tristana</td>\n",
       "      <td>aphromoo</td>\n",
       "      <td>Janna</td>\n",
       "      <td>T8</td>\n",
       "      <td>CaliTrlolz8</td>\n",
       "      <td>Sion</td>\n",
       "      <td>Porpoise8</td>\n",
       "      <td>RekSai</td>\n",
       "      <td>Slooshi8</td>\n",
       "      <td>Lulu</td>\n",
       "      <td>Maplestreet8</td>\n",
       "      <td>Corki</td>\n",
       "      <td>Dodo8</td>\n",
       "      <td>Annie</td>\n",
       "      <td>Irelia</td>\n",
       "      <td>Pantheon</td>\n",
       "      <td>Kassadin</td>\n",
       "      <td>NaN</td>\n",
       "      <td>NaN</td>\n",
       "      <td>Rumble</td>\n",
       "      <td>Sivir</td>\n",
       "      <td>Rengar</td>\n",
       "      <td>NaN</td>\n",
       "      <td>NaN</td>\n",
       "      <td>113</td>\n",
       "      <td>205</td>\n",
       "      <td>-574</td>\n",
       "      <td>478.0</td>\n",
       "      <td>5404</td>\n",
       "      <td>11943</td>\n",
       "      <td>19426</td>\n",
       "      <td>27472.0</td>\n",
       "      <td>5291</td>\n",
       "      <td>11738</td>\n",
       "      <td>20000</td>\n",
       "      <td>26994.0</td>\n",
       "      <td>1038</td>\n",
       "      <td>2446</td>\n",
       "      <td>4020</td>\n",
       "      <td>5920.0</td>\n",
       "      <td>1174</td>\n",
       "      <td>2272</td>\n",
       "      <td>3696</td>\n",
       "      <td>5154.0</td>\n",
       "      <td>1112</td>\n",
       "      <td>2643</td>\n",
       "      <td>4157</td>\n",
       "      <td>6003.0</td>\n",
       "      <td>1203</td>\n",
       "      <td>2907</td>\n",
       "      <td>4933</td>\n",
       "      <td>6675.0</td>\n",
       "      <td>877</td>\n",
       "      <td>1675</td>\n",
       "      <td>2620</td>\n",
       "      <td>3720.0</td>\n",
       "      <td>1025</td>\n",
       "      <td>2523</td>\n",
       "      <td>4284</td>\n",
       "      <td>6153.0</td>\n",
       "      <td>1220</td>\n",
       "      <td>2576</td>\n",
       "      <td>4353</td>\n",
       "      <td>5570.0</td>\n",
       "      <td>1042</td>\n",
       "      <td>2443</td>\n",
       "      <td>4321</td>\n",
       "      <td>6014.0</td>\n",
       "      <td>1187</td>\n",
       "      <td>2622</td>\n",
       "      <td>4459</td>\n",
       "      <td>5859.0</td>\n",
       "      <td>817</td>\n",
       "      <td>1574</td>\n",
       "      <td>2583</td>\n",
       "      <td>3398.0</td>\n",
       "      <td>2.0</td>\n",
       "      <td>3.0</td>\n",
       "      <td>0.0</td>\n",
       "      <td>0.0</td>\n",
       "      <td>1.0</td>\n",
       "      <td>1.0</td>\n",
       "      <td>Blue</td>\n",
       "      <td>Red</td>\n",
       "    </tr>\n",
       "  </tbody>\n",
       "</table>\n",
       "</div>"
      ],
      "text/plain": [
       "                                                Info                       \\\n",
       "                                             Address League  Year  Season   \n",
       "0  http://matchhistory.na.leagueoflegends.com/en/...  NALCS  2015  Spring   \n",
       "1  http://matchhistory.na.leagueoflegends.com/en/...  NALCS  2015  Spring   \n",
       "2  http://matchhistory.na.leagueoflegends.com/en/...  NALCS  2015  Spring   \n",
       "3  http://matchhistory.na.leagueoflegends.com/en/...  NALCS  2015  Spring   \n",
       "4  http://matchhistory.na.leagueoflegends.com/en/...  NALCS  2015  Spring   \n",
       "\n",
       "                                Blue                                 \\\n",
       "  GameType gamelength Winner TeamTag      Top  TopChamp      Jungle   \n",
       "0   Season         40   Blue     TSM    Dyrus    Irelia    Santorin   \n",
       "1   Season         38    Red     CST     Cris      Gnar     Impaler   \n",
       "2   Season         40   Blue     WFX  Flaresz  Renekton  ShorterACE   \n",
       "3   Season         41    Red     TIP     Rhux    Irelia        Rush   \n",
       "4   Season         35   Blue     CLG    Benny      Gnar     Xmithie   \n",
       "\n",
       "                                                                        \\\n",
       "  JungleChamp       Middle MiddleChamp         ADC  ADCChamp   Support   \n",
       "0      RekSai     Bjergsen        Ahri  WildTurtle      Jinx   Lustboy   \n",
       "1      Rengar        Jesiz        Ahri        Mash   Caitlyn     Sheep   \n",
       "2      Rengar     Pobelter        Fizz       Altec     Sivir     Gleeb   \n",
       "3    JarvanIV  XiaoWeiXiao     Leblanc      Apollo     Sivir    Adrian   \n",
       "4    JarvanIV         Link   Lissandra  Doublelift  Tristana  aphromoo   \n",
       "\n",
       "                   Red                                                  \\\n",
       "  SupportChamp TeamTag          Top TopChamp        Jungle JungleChamp   \n",
       "0        Janna      C9        Balls     Gnar        Meteos       Elise   \n",
       "1        Leona     DIG        Gamsu   Irelia       Crumbzz    JarvanIV   \n",
       "2        Annie      GV     Hauntzer     Sion  Saintvicious      LeeSin   \n",
       "3       Thresh      TL         Quas     Gnar    IWDominate        Nunu   \n",
       "4        Janna      T8  CaliTrlolz8     Sion     Porpoise8      RekSai   \n",
       "\n",
       "                                                                          \\\n",
       "     Middle MiddleChamp           ADC ADCChamp      Support SupportChamp   \n",
       "0       Hai        Fizz        Sneaky    Sivir  LemonNation       Thresh   \n",
       "1  Shiphtur        Azir        CoreJJ    Corki      KiWiKiD        Annie   \n",
       "2     Keane        Azir           Cop    Corki   BunnyFuFuu        Janna   \n",
       "3     Fenix        Lulu         KEITH   KogMaw      Xpecial        Janna   \n",
       "4  Slooshi8        Lulu  Maplestreet8    Corki        Dodo8        Annie   \n",
       "\n",
       "       Blue                                         Red                    \\\n",
       "      ban_1      ban_2      ban_3 ban_4 ban_5     ban_1    ban_2    ban_3   \n",
       "0    Rumble   Kassadin  Lissandra   NaN   NaN  Tristana  Leblanc  Nidalee   \n",
       "1  Kassadin      Sivir  Lissandra   NaN   NaN    RekSai    Janna  Leblanc   \n",
       "2  JarvanIV  Lissandra   Kassadin   NaN   NaN   Leblanc      Zed   RekSai   \n",
       "3     Annie  Lissandra   Kassadin   NaN   NaN    RekSai   Rumble   LeeSin   \n",
       "4    Irelia   Pantheon   Kassadin   NaN   NaN    Rumble    Sivir   Rengar   \n",
       "\n",
       "              golddiff                       goldblue                         \\\n",
       "  ban_4 ban_5    min_5 min_10 min_15  min_20    min_5 min_10 min_15   min_20   \n",
       "0   NaN   NaN     -268   -625   -790  1422.0     5068  11361  18324  29519.0   \n",
       "1   NaN   NaN      147   -242   1394  1105.0     5511  11419  19698  27282.0   \n",
       "2   NaN   NaN       34    913   2922  5293.0     4933  12374  21237  31317.0   \n",
       "3   NaN   NaN      228     16   -335   768.0     5398  12033  19332  25772.0   \n",
       "4   NaN   NaN      113    205   -574   478.0     5404  11943  19426  27472.0   \n",
       "\n",
       "  goldred                        goldblueTop                        \\\n",
       "    min_5 min_10 min_15   min_20       min_5 min_10 min_15  min_20   \n",
       "0    5336  11986  19114  28097.0         893   2051   3630  6008.0   \n",
       "1    5364  11661  18304  26177.0        1127   2406   4594  6217.0   \n",
       "2    4899  11461  18315  26024.0         828   2419   4187  6478.0   \n",
       "3    5170  12017  19667  25004.0         992   2662   4296  5544.0   \n",
       "4    5291  11738  20000  26994.0        1038   2446   4020  5920.0   \n",
       "\n",
       "  goldblueJungle                       goldblueMiddle                        \\\n",
       "           min_5 min_10 min_15  min_20          min_5 min_10 min_15  min_20   \n",
       "0           1049   2486   3632  5799.0           1102   2663   4608  7308.0   \n",
       "1           1176   2350   3929  5205.0           1102   2547   4549  6341.0   \n",
       "2           1041   2552   4026  5321.0           1065   2865   4861  6777.0   \n",
       "3           1272   2390   3627  4867.0           1066   2533   4378  5722.0   \n",
       "4           1174   2272   3696  5154.0           1112   2643   4157  6003.0   \n",
       "\n",
       "  goldblueADC                       goldblueSupport                        \\\n",
       "        min_5 min_10 min_15  min_20           min_5 min_10 min_15  min_20   \n",
       "0        1127   2495   4051  6359.0             897   1666   2403  4045.0   \n",
       "1        1182   2415   3869  5695.0             924   1701   2757  3824.0   \n",
       "2        1130   2723   4899  7580.0             869   1815   3264  5161.0   \n",
       "3        1202   2756   4555  6305.0             866   1692   2476  3334.0   \n",
       "4        1203   2907   4933  6675.0             877   1675   2620  3720.0   \n",
       "\n",
       "  goldredTop                       goldredJungle                        \\\n",
       "       min_5 min_10 min_15  min_20         min_5 min_10 min_15  min_20   \n",
       "0        958   2587   4377  6539.0          1192   2555   4099  6194.0   \n",
       "1       1042   2346   3770  5424.0          1105   2285   3415  4429.0   \n",
       "2        861   2113   3532  5356.0          1089   2454   3971  5338.0   \n",
       "3        922   2390   3785  4800.0          1171   2937   4646  5620.0   \n",
       "4       1025   2523   4284  6153.0          1220   2576   4353  5570.0   \n",
       "\n",
       "  goldredMiddle                       goldredADC                        \\\n",
       "          min_5 min_10 min_15  min_20      min_5 min_10 min_15  min_20   \n",
       "0          1178   2561   4043  5550.0       1097   2621   4149  6374.0   \n",
       "1          1097   2601   4418  6217.0       1220   2670   4061  6364.0   \n",
       "2          1006   2254   3578  5491.0       1085   2854   4582  6268.0   \n",
       "3          1046   2468   4420  5649.0       1161   2568   4243  5431.0   \n",
       "4          1042   2443   4321  6014.0       1187   2622   4459  5859.0   \n",
       "\n",
       "  goldredSupport                         Blue    Red  Blue   Red  Blue   Red  \\\n",
       "           min_5 min_10 min_15  min_20 Towers Towers Inhib Inhib Kills Kills   \n",
       "0            911   1662   2446  3440.0    4.0    2.0   0.0   0.0   4.0   3.0   \n",
       "1            900   1759   2640  3743.0    1.0    2.0   0.0   0.0   5.0   3.0   \n",
       "2            858   1786   2652  3571.0    3.0    0.0   0.0   0.0  11.0   6.0   \n",
       "3            870   1654   2573  3504.0    2.0    1.0   0.0   0.0   5.0   5.0   \n",
       "4            817   1574   2583  3398.0    2.0    3.0   0.0   0.0   1.0   1.0   \n",
       "\n",
       "        Info             \n",
       "  FirstBlood FirstTower  \n",
       "0       Blue       Blue  \n",
       "1       Blue        Red  \n",
       "2       Blue       Blue  \n",
       "3        Red       Blue  \n",
       "4       Blue        Red  "
      ]
     },
     "execution_count": 87,
     "metadata": {},
     "output_type": "execute_result"
    }
   ],
   "source": [
    "df = pd.read_csv(\"../clean_data/data.csv\", header=[0,1],index_col=[0])\n",
    "df = df[df['golddiff','min_20'].notna()] #get rid of NA\n",
    "print(df.shape)\n",
    "df.head()"
   ]
  },
  {
   "cell_type": "code",
   "execution_count": 88,
   "id": "a7eaee04",
   "metadata": {},
   "outputs": [],
   "source": [
    "df = df.fillna('No Ban') # Indicate where there was no ban"
   ]
  },
  {
   "cell_type": "code",
   "execution_count": 89,
   "id": "bbf66677-b2ad-4924-b4b9-b74548b9d85d",
   "metadata": {},
   "outputs": [],
   "source": [
    "y = df['Info','Winner']\n",
    "X = df.drop(['Winner','Address'],level = 1,axis=1)"
   ]
  },
  {
   "cell_type": "markdown",
   "id": "214030d6",
   "metadata": {},
   "source": [
    "Creating the Training, Validation, and Testing sets"
   ]
  },
  {
   "cell_type": "code",
   "execution_count": 90,
   "id": "3ab61190-659a-4e5d-89e6-082e7da739c9",
   "metadata": {},
   "outputs": [],
   "source": [
    "X_train, X_test, y_train, y_test = train_test_split(X, y, test_size=0.2, random_state=20220905, stratify=y)"
   ]
  },
  {
   "cell_type": "markdown",
   "id": "b20f3a61",
   "metadata": {},
   "source": [
    "#### To call out a column:\n",
    "\n",
    "Ex: Grabbing the results from the imported data\n",
    "\n",
    "DataFrameName[ LevelName, ColumnName] = df[ 'Info', 'Winner']\n",
    "\n",
    "#### To use in the models it's similar to calling out:\n",
    "\n",
    "(LevelName, ColumnName) = ('Info', 'League')"
   ]
  },
  {
   "cell_type": "markdown",
   "id": "797a8f2d-7206-47ce-92df-876f47250e73",
   "metadata": {},
   "source": [
    "# Logistics Regression"
   ]
  },
  {
   "cell_type": "markdown",
   "id": "4a848a3c-d9dd-473c-aeef-8463f98377aa",
   "metadata": {},
   "source": [
    "Creating the model and the pipeline to search for the optimal parameters"
   ]
  },
  {
   "cell_type": "code",
   "execution_count": 91,
   "id": "68d1b2c4-4737-449b-8072-3b506fc9db5d",
   "metadata": {},
   "outputs": [],
   "source": [
    "LR_model = LogisticRegression(penalty='none', max_iter=1000, random_state=14, tol=1.0e-08, solver='liblinear')"
   ]
  },
  {
   "cell_type": "code",
   "execution_count": 92,
   "id": "72325970-77a5-4c4a-8626-162fcca8ea5d",
   "metadata": {},
   "outputs": [],
   "source": [
    "CATEGORICAL_VARS=[('Info','League'), ('Info','Year'), ('Info','Season'), ('Info','GameType'), \n",
    "                  ('Blue', 'Top'), ('Blue','TopChamp'), ('Blue','Jungle'), ('Blue','JungleChamp'),\n",
    "                  ('Blue','Middle'), ('Blue','MiddleChamp'), ('Blue', 'ADC'), ('Blue','ADCChamp'),\n",
    "                  ('Blue', 'Support'), ('Blue', 'SupportChamp'), ('Blue', 'TeamTag'),\n",
    "                  ( 'Red', 'Top'), ( 'Red','TopChamp'), ( 'Red','Jungle'), ( 'Red','JungleChamp'), \n",
    "                  ( 'Red','Middle'),( 'Red','MiddleChamp'), ( 'Red', 'ADC'), ( 'Red','ADCChamp'), \n",
    "                  ( 'Red', 'Support'),( 'Red', 'SupportChamp'), ( 'Red', 'TeamTag'), \n",
    "                  ('Blue', 'ban_1'), ('Blue', 'ban_2'), ('Blue', 'ban_3'), ('Blue', 'ban_4'), ('Blue', 'ban_5'),\n",
    "                  ( 'Red', 'ban_1'), ( 'Red', 'ban_2'), ( 'Red', 'ban_3'), ( 'Red', 'ban_4'), ( 'Red', 'ban_5')]\n",
    "\n",
    "NUMERIC_VARS=[('Info','gamelength'), \n",
    "              ('golddiff','min_5'),('golddiff','min_10'),('golddiff','min_15'),('golddiff','min_20'),\n",
    "              ('goldblue','min_5'),('goldblue','min_10'),('goldblue','min_15'),('goldblue','min_20'),\n",
    "              ('goldred','min_5'),('goldred','min_10'),('goldred','min_15'), ('goldred','min_20'),\n",
    "              ('goldblueTop','min_5'),('goldblueTop','min_10'),('goldblueTop','min_15'),('goldblueTop','min_20'),\n",
    "              ('goldblueJungle','min_5'),('goldblueJungle','min_10'),('goldblueJungle','min_15'),('goldblueJungle','min_20'),\n",
    "              ('goldblueMiddle','min_5'),('goldblueMiddle','min_10'),('goldblueMiddle','min_15'),('goldblueMiddle','min_20'),\n",
    "              ('goldblueADC','min_5'),('goldblueADC','min_10'),('goldblueADC','min_15'), ('goldblueADC','min_20'),\n",
    "              ('goldblueSupport','min_5'),('goldblueSupport','min_10'), ('goldblueSupport','min_15'),('goldblueSupport','min_20'),\n",
    "              ('goldredTop','min_5'),('goldredTop','min_10'),('goldredTop','min_15'),('goldredTop','min_20'),\n",
    "              ('goldredJungle','min_5'),('goldredJungle','min_10'),('goldredJungle','min_15'),('goldredJungle','min_20'),\n",
    "              ('goldredMiddle','min_5'),('goldredMiddle','min_10'),('goldredMiddle','min_15'),('goldredMiddle','min_20'),\n",
    "              ('goldredADC','min_5'),('goldredADC','min_10'),('goldredADC','min_15'),('goldredADC','min_20'),\n",
    "              ('goldredSupport','min_5'),('goldredSupport','min_10'),('goldredSupport','min_15'),('goldredSupport','min_20'),\n",
    "              ('Blue','Towers'),('Red','Towers'),('Blue','Inhib'),('Red','Inhib'),('Blue','Kills'),('Red','Kills')]\n",
    "\n",
    "columns=ColumnTransformer([('category',OneHotEncoder(drop='first',handle_unknown='ignore'),CATEGORICAL_VARS),\n",
    "                           ('numeric',MinMaxScaler(),NUMERIC_VARS)], remainder='drop')"
   ]
  },
  {
   "cell_type": "code",
   "execution_count": 93,
   "id": "67d8ba11",
   "metadata": {},
   "outputs": [],
   "source": [
    "selector = SelectKBest(score_func=chi2, k=20)"
   ]
  },
  {
   "cell_type": "code",
   "execution_count": 94,
   "id": "18ed8e2e-1344-47a6-8113-d51063a29caa",
   "metadata": {},
   "outputs": [],
   "source": [
    "data_pipe = Pipeline(steps=[('preprocess', columns), ('filter', selector)])"
   ]
  },
  {
   "cell_type": "code",
   "execution_count": 95,
   "id": "c1a2c753-cbb9-489e-8c1f-b4a83a66c2a2",
   "metadata": {},
   "outputs": [],
   "source": [
    "pipe = Pipeline(steps=[('data',data_pipe), ('model', LR_model)])"
   ]
  },
  {
   "cell_type": "markdown",
   "id": "820d5a8d-943e-422a-b044-0a6b9e4d7e8f",
   "metadata": {},
   "source": [
    "Grid Search and plot of the accuracies to examine best parameters to set the model as."
   ]
  },
  {
   "cell_type": "code",
   "execution_count": 96,
   "id": "b6b6308c-8c6d-4cac-8f0d-3b9f974cd8a4",
   "metadata": {},
   "outputs": [],
   "source": [
    "param_grid = {\n",
    "    'model__penalty': ['l2', 'l1'],\n",
    "    'model__C': np.logspace(-4, 0, 5)\n",
    "    \n",
    "}\n",
    "\n",
    "skf = StratifiedKFold(n_splits=8, shuffle=True, random_state=20220914)\n",
    "\n",
    "grid_search = GridSearchCV(pipe, param_grid=param_grid, cv=skf, verbose=2)"
   ]
  },
  {
   "cell_type": "code",
   "execution_count": 97,
   "id": "fff6d0d1-e75f-4f16-acce-8e67c7c27007",
   "metadata": {
    "scrolled": true,
    "tags": []
   },
   "outputs": [
    {
     "name": "stdout",
     "output_type": "stream",
     "text": [
      "Fitting 8 folds for each of 10 candidates, totalling 80 fits\n"
     ]
    },
    {
     "name": "stderr",
     "output_type": "stream",
     "text": [
      "/Library/Frameworks/Python.framework/Versions/3.10/lib/python3.10/site-packages/sklearn/preprocessing/_encoders.py:188: UserWarning: Found unknown categories in columns [4, 5, 6, 7, 8, 9, 10, 11, 12, 14, 15, 16, 17, 18, 19, 20, 21, 22, 23, 24, 25, 27, 28, 29, 30, 31, 34, 35] during transform. These unknown categories will be encoded as all zeros\n",
      "  warnings.warn(\n",
      "/Library/Frameworks/Python.framework/Versions/3.10/lib/python3.10/site-packages/sklearn/preprocessing/_encoders.py:188: UserWarning: Found unknown categories in columns [4, 5, 6, 7, 8, 9, 10, 12, 13, 14, 15, 16, 17, 18, 19, 20, 21, 22, 23, 24, 25, 26, 28, 29, 30, 31, 32, 33, 34, 35] during transform. These unknown categories will be encoded as all zeros\n",
      "  warnings.warn(\n"
     ]
    },
    {
     "name": "stdout",
     "output_type": "stream",
     "text": [
      "[CV] END .................model__C=0.0001, model__penalty=l2; total time=   0.2s\n",
      "[CV] END .................model__C=0.0001, model__penalty=l2; total time=   0.2s\n"
     ]
    },
    {
     "name": "stderr",
     "output_type": "stream",
     "text": [
      "/Library/Frameworks/Python.framework/Versions/3.10/lib/python3.10/site-packages/sklearn/preprocessing/_encoders.py:188: UserWarning: Found unknown categories in columns [4, 5, 6, 7, 8, 9, 10, 12, 13, 14, 15, 16, 17, 18, 19, 20, 21, 23, 24, 25, 26, 29, 30, 31, 32, 33, 34, 35] during transform. These unknown categories will be encoded as all zeros\n",
      "  warnings.warn(\n",
      "/Library/Frameworks/Python.framework/Versions/3.10/lib/python3.10/site-packages/sklearn/preprocessing/_encoders.py:188: UserWarning: Found unknown categories in columns [4, 5, 6, 7, 8, 10, 11, 12, 13, 14, 15, 16, 17, 18, 19, 20, 21, 22, 23, 24, 26, 27, 28, 29, 30, 31, 33, 34, 35] during transform. These unknown categories will be encoded as all zeros\n",
      "  warnings.warn(\n"
     ]
    },
    {
     "name": "stdout",
     "output_type": "stream",
     "text": [
      "[CV] END .................model__C=0.0001, model__penalty=l2; total time=   0.2s\n",
      "[CV] END .................model__C=0.0001, model__penalty=l2; total time=   0.2s\n"
     ]
    },
    {
     "name": "stderr",
     "output_type": "stream",
     "text": [
      "/Library/Frameworks/Python.framework/Versions/3.10/lib/python3.10/site-packages/sklearn/preprocessing/_encoders.py:188: UserWarning: Found unknown categories in columns [4, 5, 6, 7, 8, 9, 10, 11, 12, 13, 14, 15, 16, 17, 18, 19, 20, 21, 23, 24, 25, 26, 28, 29, 30, 31, 33, 34, 35] during transform. These unknown categories will be encoded as all zeros\n",
      "  warnings.warn(\n",
      "/Library/Frameworks/Python.framework/Versions/3.10/lib/python3.10/site-packages/sklearn/preprocessing/_encoders.py:188: UserWarning: Found unknown categories in columns [4, 6, 7, 8, 9, 10, 11, 12, 13, 14, 15, 16, 17, 19, 20, 21, 23, 24, 25, 26, 28, 32, 33, 34, 35] during transform. These unknown categories will be encoded as all zeros\n",
      "  warnings.warn(\n"
     ]
    },
    {
     "name": "stdout",
     "output_type": "stream",
     "text": [
      "[CV] END .................model__C=0.0001, model__penalty=l2; total time=   0.2s\n",
      "[CV] END .................model__C=0.0001, model__penalty=l2; total time=   0.2s\n"
     ]
    },
    {
     "name": "stderr",
     "output_type": "stream",
     "text": [
      "/Library/Frameworks/Python.framework/Versions/3.10/lib/python3.10/site-packages/sklearn/preprocessing/_encoders.py:188: UserWarning: Found unknown categories in columns [4, 5, 6, 7, 8, 9, 10, 12, 14, 15, 17, 19, 20, 21, 23, 25, 26, 27, 28, 29, 30, 32, 33, 34, 35] during transform. These unknown categories will be encoded as all zeros\n",
      "  warnings.warn(\n",
      "/Library/Frameworks/Python.framework/Versions/3.10/lib/python3.10/site-packages/sklearn/preprocessing/_encoders.py:188: UserWarning: Found unknown categories in columns [4, 5, 6, 8, 9, 10, 12, 14, 15, 16, 17, 19, 20, 21, 22, 23, 24, 25, 26, 27, 28, 29, 30, 31, 33, 34, 35] during transform. These unknown categories will be encoded as all zeros\n",
      "  warnings.warn(\n"
     ]
    },
    {
     "name": "stdout",
     "output_type": "stream",
     "text": [
      "[CV] END .................model__C=0.0001, model__penalty=l2; total time=   0.2s\n",
      "[CV] END .................model__C=0.0001, model__penalty=l2; total time=   0.2s\n"
     ]
    },
    {
     "name": "stderr",
     "output_type": "stream",
     "text": [
      "/Library/Frameworks/Python.framework/Versions/3.10/lib/python3.10/site-packages/sklearn/preprocessing/_encoders.py:188: UserWarning: Found unknown categories in columns [4, 5, 6, 7, 8, 9, 10, 11, 12, 14, 15, 16, 17, 18, 19, 20, 21, 22, 23, 24, 25, 27, 28, 29, 30, 31, 34, 35] during transform. These unknown categories will be encoded as all zeros\n",
      "  warnings.warn(\n",
      "/Library/Frameworks/Python.framework/Versions/3.10/lib/python3.10/site-packages/sklearn/preprocessing/_encoders.py:188: UserWarning: Found unknown categories in columns [4, 5, 6, 7, 8, 9, 10, 12, 13, 14, 15, 16, 17, 18, 19, 20, 21, 22, 23, 24, 25, 26, 28, 29, 30, 31, 32, 33, 34, 35] during transform. These unknown categories will be encoded as all zeros\n",
      "  warnings.warn(\n"
     ]
    },
    {
     "name": "stdout",
     "output_type": "stream",
     "text": [
      "[CV] END .................model__C=0.0001, model__penalty=l1; total time=   0.1s\n",
      "[CV] END .................model__C=0.0001, model__penalty=l1; total time=   0.2s\n"
     ]
    },
    {
     "name": "stderr",
     "output_type": "stream",
     "text": [
      "/Library/Frameworks/Python.framework/Versions/3.10/lib/python3.10/site-packages/sklearn/preprocessing/_encoders.py:188: UserWarning: Found unknown categories in columns [4, 5, 6, 7, 8, 9, 10, 12, 13, 14, 15, 16, 17, 18, 19, 20, 21, 23, 24, 25, 26, 29, 30, 31, 32, 33, 34, 35] during transform. These unknown categories will be encoded as all zeros\n",
      "  warnings.warn(\n",
      "/Library/Frameworks/Python.framework/Versions/3.10/lib/python3.10/site-packages/sklearn/preprocessing/_encoders.py:188: UserWarning: Found unknown categories in columns [4, 5, 6, 7, 8, 10, 11, 12, 13, 14, 15, 16, 17, 18, 19, 20, 21, 22, 23, 24, 26, 27, 28, 29, 30, 31, 33, 34, 35] during transform. These unknown categories will be encoded as all zeros\n",
      "  warnings.warn(\n"
     ]
    },
    {
     "name": "stdout",
     "output_type": "stream",
     "text": [
      "[CV] END .................model__C=0.0001, model__penalty=l1; total time=   0.2s\n",
      "[CV] END .................model__C=0.0001, model__penalty=l1; total time=   0.2s\n"
     ]
    },
    {
     "name": "stderr",
     "output_type": "stream",
     "text": [
      "/Library/Frameworks/Python.framework/Versions/3.10/lib/python3.10/site-packages/sklearn/preprocessing/_encoders.py:188: UserWarning: Found unknown categories in columns [4, 5, 6, 7, 8, 9, 10, 11, 12, 13, 14, 15, 16, 17, 18, 19, 20, 21, 23, 24, 25, 26, 28, 29, 30, 31, 33, 34, 35] during transform. These unknown categories will be encoded as all zeros\n",
      "  warnings.warn(\n"
     ]
    },
    {
     "name": "stdout",
     "output_type": "stream",
     "text": [
      "[CV] END .................model__C=0.0001, model__penalty=l1; total time=   0.2s\n"
     ]
    },
    {
     "name": "stderr",
     "output_type": "stream",
     "text": [
      "/Library/Frameworks/Python.framework/Versions/3.10/lib/python3.10/site-packages/sklearn/preprocessing/_encoders.py:188: UserWarning: Found unknown categories in columns [4, 6, 7, 8, 9, 10, 11, 12, 13, 14, 15, 16, 17, 19, 20, 21, 23, 24, 25, 26, 28, 32, 33, 34, 35] during transform. These unknown categories will be encoded as all zeros\n",
      "  warnings.warn(\n",
      "/Library/Frameworks/Python.framework/Versions/3.10/lib/python3.10/site-packages/sklearn/preprocessing/_encoders.py:188: UserWarning: Found unknown categories in columns [4, 5, 6, 7, 8, 9, 10, 12, 14, 15, 17, 19, 20, 21, 23, 25, 26, 27, 28, 29, 30, 32, 33, 34, 35] during transform. These unknown categories will be encoded as all zeros\n",
      "  warnings.warn(\n"
     ]
    },
    {
     "name": "stdout",
     "output_type": "stream",
     "text": [
      "[CV] END .................model__C=0.0001, model__penalty=l1; total time=   0.2s\n",
      "[CV] END .................model__C=0.0001, model__penalty=l1; total time=   0.1s\n"
     ]
    },
    {
     "name": "stderr",
     "output_type": "stream",
     "text": [
      "/Library/Frameworks/Python.framework/Versions/3.10/lib/python3.10/site-packages/sklearn/preprocessing/_encoders.py:188: UserWarning: Found unknown categories in columns [4, 5, 6, 8, 9, 10, 12, 14, 15, 16, 17, 19, 20, 21, 22, 23, 24, 25, 26, 27, 28, 29, 30, 31, 33, 34, 35] during transform. These unknown categories will be encoded as all zeros\n",
      "  warnings.warn(\n",
      "/Library/Frameworks/Python.framework/Versions/3.10/lib/python3.10/site-packages/sklearn/preprocessing/_encoders.py:188: UserWarning: Found unknown categories in columns [4, 5, 6, 7, 8, 9, 10, 11, 12, 14, 15, 16, 17, 18, 19, 20, 21, 22, 23, 24, 25, 27, 28, 29, 30, 31, 34, 35] during transform. These unknown categories will be encoded as all zeros\n",
      "  warnings.warn(\n"
     ]
    },
    {
     "name": "stdout",
     "output_type": "stream",
     "text": [
      "[CV] END .................model__C=0.0001, model__penalty=l1; total time=   0.1s\n",
      "[CV] END ..................model__C=0.001, model__penalty=l2; total time=   0.1s\n"
     ]
    },
    {
     "name": "stderr",
     "output_type": "stream",
     "text": [
      "/Library/Frameworks/Python.framework/Versions/3.10/lib/python3.10/site-packages/sklearn/preprocessing/_encoders.py:188: UserWarning: Found unknown categories in columns [4, 5, 6, 7, 8, 9, 10, 12, 13, 14, 15, 16, 17, 18, 19, 20, 21, 22, 23, 24, 25, 26, 28, 29, 30, 31, 32, 33, 34, 35] during transform. These unknown categories will be encoded as all zeros\n",
      "  warnings.warn(\n",
      "/Library/Frameworks/Python.framework/Versions/3.10/lib/python3.10/site-packages/sklearn/preprocessing/_encoders.py:188: UserWarning: Found unknown categories in columns [4, 5, 6, 7, 8, 9, 10, 12, 13, 14, 15, 16, 17, 18, 19, 20, 21, 23, 24, 25, 26, 29, 30, 31, 32, 33, 34, 35] during transform. These unknown categories will be encoded as all zeros\n",
      "  warnings.warn(\n"
     ]
    },
    {
     "name": "stdout",
     "output_type": "stream",
     "text": [
      "[CV] END ..................model__C=0.001, model__penalty=l2; total time=   0.2s\n",
      "[CV] END ..................model__C=0.001, model__penalty=l2; total time=   0.1s\n"
     ]
    },
    {
     "name": "stderr",
     "output_type": "stream",
     "text": [
      "/Library/Frameworks/Python.framework/Versions/3.10/lib/python3.10/site-packages/sklearn/preprocessing/_encoders.py:188: UserWarning: Found unknown categories in columns [4, 5, 6, 7, 8, 10, 11, 12, 13, 14, 15, 16, 17, 18, 19, 20, 21, 22, 23, 24, 26, 27, 28, 29, 30, 31, 33, 34, 35] during transform. These unknown categories will be encoded as all zeros\n",
      "  warnings.warn(\n",
      "/Library/Frameworks/Python.framework/Versions/3.10/lib/python3.10/site-packages/sklearn/preprocessing/_encoders.py:188: UserWarning: Found unknown categories in columns [4, 5, 6, 7, 8, 9, 10, 11, 12, 13, 14, 15, 16, 17, 18, 19, 20, 21, 23, 24, 25, 26, 28, 29, 30, 31, 33, 34, 35] during transform. These unknown categories will be encoded as all zeros\n",
      "  warnings.warn(\n"
     ]
    },
    {
     "name": "stdout",
     "output_type": "stream",
     "text": [
      "[CV] END ..................model__C=0.001, model__penalty=l2; total time=   0.2s\n",
      "[CV] END ..................model__C=0.001, model__penalty=l2; total time=   0.2s\n"
     ]
    },
    {
     "name": "stderr",
     "output_type": "stream",
     "text": [
      "/Library/Frameworks/Python.framework/Versions/3.10/lib/python3.10/site-packages/sklearn/preprocessing/_encoders.py:188: UserWarning: Found unknown categories in columns [4, 6, 7, 8, 9, 10, 11, 12, 13, 14, 15, 16, 17, 19, 20, 21, 23, 24, 25, 26, 28, 32, 33, 34, 35] during transform. These unknown categories will be encoded as all zeros\n",
      "  warnings.warn(\n",
      "/Library/Frameworks/Python.framework/Versions/3.10/lib/python3.10/site-packages/sklearn/preprocessing/_encoders.py:188: UserWarning: Found unknown categories in columns [4, 5, 6, 7, 8, 9, 10, 12, 14, 15, 17, 19, 20, 21, 23, 25, 26, 27, 28, 29, 30, 32, 33, 34, 35] during transform. These unknown categories will be encoded as all zeros\n",
      "  warnings.warn(\n"
     ]
    },
    {
     "name": "stdout",
     "output_type": "stream",
     "text": [
      "[CV] END ..................model__C=0.001, model__penalty=l2; total time=   0.2s\n",
      "[CV] END ..................model__C=0.001, model__penalty=l2; total time=   0.1s\n"
     ]
    },
    {
     "name": "stderr",
     "output_type": "stream",
     "text": [
      "/Library/Frameworks/Python.framework/Versions/3.10/lib/python3.10/site-packages/sklearn/preprocessing/_encoders.py:188: UserWarning: Found unknown categories in columns [4, 5, 6, 8, 9, 10, 12, 14, 15, 16, 17, 19, 20, 21, 22, 23, 24, 25, 26, 27, 28, 29, 30, 31, 33, 34, 35] during transform. These unknown categories will be encoded as all zeros\n",
      "  warnings.warn(\n",
      "/Library/Frameworks/Python.framework/Versions/3.10/lib/python3.10/site-packages/sklearn/preprocessing/_encoders.py:188: UserWarning: Found unknown categories in columns [4, 5, 6, 7, 8, 9, 10, 11, 12, 14, 15, 16, 17, 18, 19, 20, 21, 22, 23, 24, 25, 27, 28, 29, 30, 31, 34, 35] during transform. These unknown categories will be encoded as all zeros\n",
      "  warnings.warn(\n"
     ]
    },
    {
     "name": "stdout",
     "output_type": "stream",
     "text": [
      "[CV] END ..................model__C=0.001, model__penalty=l2; total time=   0.1s\n",
      "[CV] END ..................model__C=0.001, model__penalty=l1; total time=   0.1s\n"
     ]
    },
    {
     "name": "stderr",
     "output_type": "stream",
     "text": [
      "/Library/Frameworks/Python.framework/Versions/3.10/lib/python3.10/site-packages/sklearn/preprocessing/_encoders.py:188: UserWarning: Found unknown categories in columns [4, 5, 6, 7, 8, 9, 10, 12, 13, 14, 15, 16, 17, 18, 19, 20, 21, 22, 23, 24, 25, 26, 28, 29, 30, 31, 32, 33, 34, 35] during transform. These unknown categories will be encoded as all zeros\n",
      "  warnings.warn(\n",
      "/Library/Frameworks/Python.framework/Versions/3.10/lib/python3.10/site-packages/sklearn/preprocessing/_encoders.py:188: UserWarning: Found unknown categories in columns [4, 5, 6, 7, 8, 9, 10, 12, 13, 14, 15, 16, 17, 18, 19, 20, 21, 23, 24, 25, 26, 29, 30, 31, 32, 33, 34, 35] during transform. These unknown categories will be encoded as all zeros\n",
      "  warnings.warn(\n"
     ]
    },
    {
     "name": "stdout",
     "output_type": "stream",
     "text": [
      "[CV] END ..................model__C=0.001, model__penalty=l1; total time=   0.2s\n",
      "[CV] END ..................model__C=0.001, model__penalty=l1; total time=   0.2s\n"
     ]
    },
    {
     "name": "stderr",
     "output_type": "stream",
     "text": [
      "/Library/Frameworks/Python.framework/Versions/3.10/lib/python3.10/site-packages/sklearn/preprocessing/_encoders.py:188: UserWarning: Found unknown categories in columns [4, 5, 6, 7, 8, 10, 11, 12, 13, 14, 15, 16, 17, 18, 19, 20, 21, 22, 23, 24, 26, 27, 28, 29, 30, 31, 33, 34, 35] during transform. These unknown categories will be encoded as all zeros\n",
      "  warnings.warn(\n",
      "/Library/Frameworks/Python.framework/Versions/3.10/lib/python3.10/site-packages/sklearn/preprocessing/_encoders.py:188: UserWarning: Found unknown categories in columns [4, 5, 6, 7, 8, 9, 10, 11, 12, 13, 14, 15, 16, 17, 18, 19, 20, 21, 23, 24, 25, 26, 28, 29, 30, 31, 33, 34, 35] during transform. These unknown categories will be encoded as all zeros\n",
      "  warnings.warn(\n"
     ]
    },
    {
     "name": "stdout",
     "output_type": "stream",
     "text": [
      "[CV] END ..................model__C=0.001, model__penalty=l1; total time=   0.2s\n",
      "[CV] END ..................model__C=0.001, model__penalty=l1; total time=   0.1s\n"
     ]
    },
    {
     "name": "stderr",
     "output_type": "stream",
     "text": [
      "/Library/Frameworks/Python.framework/Versions/3.10/lib/python3.10/site-packages/sklearn/preprocessing/_encoders.py:188: UserWarning: Found unknown categories in columns [4, 6, 7, 8, 9, 10, 11, 12, 13, 14, 15, 16, 17, 19, 20, 21, 23, 24, 25, 26, 28, 32, 33, 34, 35] during transform. These unknown categories will be encoded as all zeros\n",
      "  warnings.warn(\n",
      "/Library/Frameworks/Python.framework/Versions/3.10/lib/python3.10/site-packages/sklearn/preprocessing/_encoders.py:188: UserWarning: Found unknown categories in columns [4, 5, 6, 7, 8, 9, 10, 12, 14, 15, 17, 19, 20, 21, 23, 25, 26, 27, 28, 29, 30, 32, 33, 34, 35] during transform. These unknown categories will be encoded as all zeros\n",
      "  warnings.warn(\n"
     ]
    },
    {
     "name": "stdout",
     "output_type": "stream",
     "text": [
      "[CV] END ..................model__C=0.001, model__penalty=l1; total time=   0.1s\n",
      "[CV] END ..................model__C=0.001, model__penalty=l1; total time=   0.1s\n"
     ]
    },
    {
     "name": "stderr",
     "output_type": "stream",
     "text": [
      "/Library/Frameworks/Python.framework/Versions/3.10/lib/python3.10/site-packages/sklearn/preprocessing/_encoders.py:188: UserWarning: Found unknown categories in columns [4, 5, 6, 8, 9, 10, 12, 14, 15, 16, 17, 19, 20, 21, 22, 23, 24, 25, 26, 27, 28, 29, 30, 31, 33, 34, 35] during transform. These unknown categories will be encoded as all zeros\n",
      "  warnings.warn(\n",
      "/Library/Frameworks/Python.framework/Versions/3.10/lib/python3.10/site-packages/sklearn/preprocessing/_encoders.py:188: UserWarning: Found unknown categories in columns [4, 5, 6, 7, 8, 9, 10, 11, 12, 14, 15, 16, 17, 18, 19, 20, 21, 22, 23, 24, 25, 27, 28, 29, 30, 31, 34, 35] during transform. These unknown categories will be encoded as all zeros\n",
      "  warnings.warn(\n"
     ]
    },
    {
     "name": "stdout",
     "output_type": "stream",
     "text": [
      "[CV] END ..................model__C=0.001, model__penalty=l1; total time=   0.2s\n",
      "[CV] END ...................model__C=0.01, model__penalty=l2; total time=   0.2s\n"
     ]
    },
    {
     "name": "stderr",
     "output_type": "stream",
     "text": [
      "/Library/Frameworks/Python.framework/Versions/3.10/lib/python3.10/site-packages/sklearn/preprocessing/_encoders.py:188: UserWarning: Found unknown categories in columns [4, 5, 6, 7, 8, 9, 10, 12, 13, 14, 15, 16, 17, 18, 19, 20, 21, 22, 23, 24, 25, 26, 28, 29, 30, 31, 32, 33, 34, 35] during transform. These unknown categories will be encoded as all zeros\n",
      "  warnings.warn(\n",
      "/Library/Frameworks/Python.framework/Versions/3.10/lib/python3.10/site-packages/sklearn/preprocessing/_encoders.py:188: UserWarning: Found unknown categories in columns [4, 5, 6, 7, 8, 9, 10, 12, 13, 14, 15, 16, 17, 18, 19, 20, 21, 23, 24, 25, 26, 29, 30, 31, 32, 33, 34, 35] during transform. These unknown categories will be encoded as all zeros\n",
      "  warnings.warn(\n"
     ]
    },
    {
     "name": "stdout",
     "output_type": "stream",
     "text": [
      "[CV] END ...................model__C=0.01, model__penalty=l2; total time=   0.2s\n",
      "[CV] END ...................model__C=0.01, model__penalty=l2; total time=   0.2s\n"
     ]
    },
    {
     "name": "stderr",
     "output_type": "stream",
     "text": [
      "/Library/Frameworks/Python.framework/Versions/3.10/lib/python3.10/site-packages/sklearn/preprocessing/_encoders.py:188: UserWarning: Found unknown categories in columns [4, 5, 6, 7, 8, 10, 11, 12, 13, 14, 15, 16, 17, 18, 19, 20, 21, 22, 23, 24, 26, 27, 28, 29, 30, 31, 33, 34, 35] during transform. These unknown categories will be encoded as all zeros\n",
      "  warnings.warn(\n",
      "/Library/Frameworks/Python.framework/Versions/3.10/lib/python3.10/site-packages/sklearn/preprocessing/_encoders.py:188: UserWarning: Found unknown categories in columns [4, 5, 6, 7, 8, 9, 10, 11, 12, 13, 14, 15, 16, 17, 18, 19, 20, 21, 23, 24, 25, 26, 28, 29, 30, 31, 33, 34, 35] during transform. These unknown categories will be encoded as all zeros\n",
      "  warnings.warn(\n"
     ]
    },
    {
     "name": "stdout",
     "output_type": "stream",
     "text": [
      "[CV] END ...................model__C=0.01, model__penalty=l2; total time=   0.2s\n",
      "[CV] END ...................model__C=0.01, model__penalty=l2; total time=   0.1s\n"
     ]
    },
    {
     "name": "stderr",
     "output_type": "stream",
     "text": [
      "/Library/Frameworks/Python.framework/Versions/3.10/lib/python3.10/site-packages/sklearn/preprocessing/_encoders.py:188: UserWarning: Found unknown categories in columns [4, 6, 7, 8, 9, 10, 11, 12, 13, 14, 15, 16, 17, 19, 20, 21, 23, 24, 25, 26, 28, 32, 33, 34, 35] during transform. These unknown categories will be encoded as all zeros\n",
      "  warnings.warn(\n",
      "/Library/Frameworks/Python.framework/Versions/3.10/lib/python3.10/site-packages/sklearn/preprocessing/_encoders.py:188: UserWarning: Found unknown categories in columns [4, 5, 6, 7, 8, 9, 10, 12, 14, 15, 17, 19, 20, 21, 23, 25, 26, 27, 28, 29, 30, 32, 33, 34, 35] during transform. These unknown categories will be encoded as all zeros\n",
      "  warnings.warn(\n"
     ]
    },
    {
     "name": "stdout",
     "output_type": "stream",
     "text": [
      "[CV] END ...................model__C=0.01, model__penalty=l2; total time=   0.1s\n",
      "[CV] END ...................model__C=0.01, model__penalty=l2; total time=   0.1s\n"
     ]
    },
    {
     "name": "stderr",
     "output_type": "stream",
     "text": [
      "/Library/Frameworks/Python.framework/Versions/3.10/lib/python3.10/site-packages/sklearn/preprocessing/_encoders.py:188: UserWarning: Found unknown categories in columns [4, 5, 6, 8, 9, 10, 12, 14, 15, 16, 17, 19, 20, 21, 22, 23, 24, 25, 26, 27, 28, 29, 30, 31, 33, 34, 35] during transform. These unknown categories will be encoded as all zeros\n",
      "  warnings.warn(\n",
      "/Library/Frameworks/Python.framework/Versions/3.10/lib/python3.10/site-packages/sklearn/preprocessing/_encoders.py:188: UserWarning: Found unknown categories in columns [4, 5, 6, 7, 8, 9, 10, 11, 12, 14, 15, 16, 17, 18, 19, 20, 21, 22, 23, 24, 25, 27, 28, 29, 30, 31, 34, 35] during transform. These unknown categories will be encoded as all zeros\n",
      "  warnings.warn(\n"
     ]
    },
    {
     "name": "stdout",
     "output_type": "stream",
     "text": [
      "[CV] END ...................model__C=0.01, model__penalty=l2; total time=   0.1s\n",
      "[CV] END ...................model__C=0.01, model__penalty=l1; total time=   0.1s\n"
     ]
    },
    {
     "name": "stderr",
     "output_type": "stream",
     "text": [
      "/Library/Frameworks/Python.framework/Versions/3.10/lib/python3.10/site-packages/sklearn/preprocessing/_encoders.py:188: UserWarning: Found unknown categories in columns [4, 5, 6, 7, 8, 9, 10, 12, 13, 14, 15, 16, 17, 18, 19, 20, 21, 22, 23, 24, 25, 26, 28, 29, 30, 31, 32, 33, 34, 35] during transform. These unknown categories will be encoded as all zeros\n",
      "  warnings.warn(\n",
      "/Library/Frameworks/Python.framework/Versions/3.10/lib/python3.10/site-packages/sklearn/preprocessing/_encoders.py:188: UserWarning: Found unknown categories in columns [4, 5, 6, 7, 8, 9, 10, 12, 13, 14, 15, 16, 17, 18, 19, 20, 21, 23, 24, 25, 26, 29, 30, 31, 32, 33, 34, 35] during transform. These unknown categories will be encoded as all zeros\n",
      "  warnings.warn(\n"
     ]
    },
    {
     "name": "stdout",
     "output_type": "stream",
     "text": [
      "[CV] END ...................model__C=0.01, model__penalty=l1; total time=   0.2s\n",
      "[CV] END ...................model__C=0.01, model__penalty=l1; total time=   0.2s\n"
     ]
    },
    {
     "name": "stderr",
     "output_type": "stream",
     "text": [
      "/Library/Frameworks/Python.framework/Versions/3.10/lib/python3.10/site-packages/sklearn/preprocessing/_encoders.py:188: UserWarning: Found unknown categories in columns [4, 5, 6, 7, 8, 10, 11, 12, 13, 14, 15, 16, 17, 18, 19, 20, 21, 22, 23, 24, 26, 27, 28, 29, 30, 31, 33, 34, 35] during transform. These unknown categories will be encoded as all zeros\n",
      "  warnings.warn(\n",
      "/Library/Frameworks/Python.framework/Versions/3.10/lib/python3.10/site-packages/sklearn/preprocessing/_encoders.py:188: UserWarning: Found unknown categories in columns [4, 5, 6, 7, 8, 9, 10, 11, 12, 13, 14, 15, 16, 17, 18, 19, 20, 21, 23, 24, 25, 26, 28, 29, 30, 31, 33, 34, 35] during transform. These unknown categories will be encoded as all zeros\n",
      "  warnings.warn(\n"
     ]
    },
    {
     "name": "stdout",
     "output_type": "stream",
     "text": [
      "[CV] END ...................model__C=0.01, model__penalty=l1; total time=   0.1s\n",
      "[CV] END ...................model__C=0.01, model__penalty=l1; total time=   0.1s\n"
     ]
    },
    {
     "name": "stderr",
     "output_type": "stream",
     "text": [
      "/Library/Frameworks/Python.framework/Versions/3.10/lib/python3.10/site-packages/sklearn/preprocessing/_encoders.py:188: UserWarning: Found unknown categories in columns [4, 6, 7, 8, 9, 10, 11, 12, 13, 14, 15, 16, 17, 19, 20, 21, 23, 24, 25, 26, 28, 32, 33, 34, 35] during transform. These unknown categories will be encoded as all zeros\n",
      "  warnings.warn(\n"
     ]
    },
    {
     "name": "stdout",
     "output_type": "stream",
     "text": [
      "[CV] END ...................model__C=0.01, model__penalty=l1; total time=   0.2s\n"
     ]
    },
    {
     "name": "stderr",
     "output_type": "stream",
     "text": [
      "/Library/Frameworks/Python.framework/Versions/3.10/lib/python3.10/site-packages/sklearn/preprocessing/_encoders.py:188: UserWarning: Found unknown categories in columns [4, 5, 6, 7, 8, 9, 10, 12, 14, 15, 17, 19, 20, 21, 23, 25, 26, 27, 28, 29, 30, 32, 33, 34, 35] during transform. These unknown categories will be encoded as all zeros\n",
      "  warnings.warn(\n",
      "/Library/Frameworks/Python.framework/Versions/3.10/lib/python3.10/site-packages/sklearn/preprocessing/_encoders.py:188: UserWarning: Found unknown categories in columns [4, 5, 6, 8, 9, 10, 12, 14, 15, 16, 17, 19, 20, 21, 22, 23, 24, 25, 26, 27, 28, 29, 30, 31, 33, 34, 35] during transform. These unknown categories will be encoded as all zeros\n",
      "  warnings.warn(\n"
     ]
    },
    {
     "name": "stdout",
     "output_type": "stream",
     "text": [
      "[CV] END ...................model__C=0.01, model__penalty=l1; total time=   0.2s\n",
      "[CV] END ...................model__C=0.01, model__penalty=l1; total time=   0.2s\n"
     ]
    },
    {
     "name": "stderr",
     "output_type": "stream",
     "text": [
      "/Library/Frameworks/Python.framework/Versions/3.10/lib/python3.10/site-packages/sklearn/preprocessing/_encoders.py:188: UserWarning: Found unknown categories in columns [4, 5, 6, 7, 8, 9, 10, 11, 12, 14, 15, 16, 17, 18, 19, 20, 21, 22, 23, 24, 25, 27, 28, 29, 30, 31, 34, 35] during transform. These unknown categories will be encoded as all zeros\n",
      "  warnings.warn(\n",
      "/Library/Frameworks/Python.framework/Versions/3.10/lib/python3.10/site-packages/sklearn/preprocessing/_encoders.py:188: UserWarning: Found unknown categories in columns [4, 5, 6, 7, 8, 9, 10, 12, 13, 14, 15, 16, 17, 18, 19, 20, 21, 22, 23, 24, 25, 26, 28, 29, 30, 31, 32, 33, 34, 35] during transform. These unknown categories will be encoded as all zeros\n",
      "  warnings.warn(\n"
     ]
    },
    {
     "name": "stdout",
     "output_type": "stream",
     "text": [
      "[CV] END ....................model__C=0.1, model__penalty=l2; total time=   0.2s\n",
      "[CV] END ....................model__C=0.1, model__penalty=l2; total time=   0.1s\n"
     ]
    },
    {
     "name": "stderr",
     "output_type": "stream",
     "text": [
      "/Library/Frameworks/Python.framework/Versions/3.10/lib/python3.10/site-packages/sklearn/preprocessing/_encoders.py:188: UserWarning: Found unknown categories in columns [4, 5, 6, 7, 8, 9, 10, 12, 13, 14, 15, 16, 17, 18, 19, 20, 21, 23, 24, 25, 26, 29, 30, 31, 32, 33, 34, 35] during transform. These unknown categories will be encoded as all zeros\n",
      "  warnings.warn(\n"
     ]
    },
    {
     "name": "stdout",
     "output_type": "stream",
     "text": [
      "[CV] END ....................model__C=0.1, model__penalty=l2; total time=   0.2s\n"
     ]
    },
    {
     "name": "stderr",
     "output_type": "stream",
     "text": [
      "/Library/Frameworks/Python.framework/Versions/3.10/lib/python3.10/site-packages/sklearn/preprocessing/_encoders.py:188: UserWarning: Found unknown categories in columns [4, 5, 6, 7, 8, 10, 11, 12, 13, 14, 15, 16, 17, 18, 19, 20, 21, 22, 23, 24, 26, 27, 28, 29, 30, 31, 33, 34, 35] during transform. These unknown categories will be encoded as all zeros\n",
      "  warnings.warn(\n",
      "/Library/Frameworks/Python.framework/Versions/3.10/lib/python3.10/site-packages/sklearn/preprocessing/_encoders.py:188: UserWarning: Found unknown categories in columns [4, 5, 6, 7, 8, 9, 10, 11, 12, 13, 14, 15, 16, 17, 18, 19, 20, 21, 23, 24, 25, 26, 28, 29, 30, 31, 33, 34, 35] during transform. These unknown categories will be encoded as all zeros\n",
      "  warnings.warn(\n"
     ]
    },
    {
     "name": "stdout",
     "output_type": "stream",
     "text": [
      "[CV] END ....................model__C=0.1, model__penalty=l2; total time=   0.2s\n",
      "[CV] END ....................model__C=0.1, model__penalty=l2; total time=   0.2s\n"
     ]
    },
    {
     "name": "stderr",
     "output_type": "stream",
     "text": [
      "/Library/Frameworks/Python.framework/Versions/3.10/lib/python3.10/site-packages/sklearn/preprocessing/_encoders.py:188: UserWarning: Found unknown categories in columns [4, 6, 7, 8, 9, 10, 11, 12, 13, 14, 15, 16, 17, 19, 20, 21, 23, 24, 25, 26, 28, 32, 33, 34, 35] during transform. These unknown categories will be encoded as all zeros\n",
      "  warnings.warn(\n",
      "/Library/Frameworks/Python.framework/Versions/3.10/lib/python3.10/site-packages/sklearn/preprocessing/_encoders.py:188: UserWarning: Found unknown categories in columns [4, 5, 6, 7, 8, 9, 10, 12, 14, 15, 17, 19, 20, 21, 23, 25, 26, 27, 28, 29, 30, 32, 33, 34, 35] during transform. These unknown categories will be encoded as all zeros\n",
      "  warnings.warn(\n"
     ]
    },
    {
     "name": "stdout",
     "output_type": "stream",
     "text": [
      "[CV] END ....................model__C=0.1, model__penalty=l2; total time=   0.2s\n",
      "[CV] END ....................model__C=0.1, model__penalty=l2; total time=   0.1s\n"
     ]
    },
    {
     "name": "stderr",
     "output_type": "stream",
     "text": [
      "/Library/Frameworks/Python.framework/Versions/3.10/lib/python3.10/site-packages/sklearn/preprocessing/_encoders.py:188: UserWarning: Found unknown categories in columns [4, 5, 6, 8, 9, 10, 12, 14, 15, 16, 17, 19, 20, 21, 22, 23, 24, 25, 26, 27, 28, 29, 30, 31, 33, 34, 35] during transform. These unknown categories will be encoded as all zeros\n",
      "  warnings.warn(\n"
     ]
    },
    {
     "name": "stdout",
     "output_type": "stream",
     "text": [
      "[CV] END ....................model__C=0.1, model__penalty=l2; total time=   0.1s\n"
     ]
    },
    {
     "name": "stderr",
     "output_type": "stream",
     "text": [
      "/Library/Frameworks/Python.framework/Versions/3.10/lib/python3.10/site-packages/sklearn/preprocessing/_encoders.py:188: UserWarning: Found unknown categories in columns [4, 5, 6, 7, 8, 9, 10, 11, 12, 14, 15, 16, 17, 18, 19, 20, 21, 22, 23, 24, 25, 27, 28, 29, 30, 31, 34, 35] during transform. These unknown categories will be encoded as all zeros\n",
      "  warnings.warn(\n"
     ]
    },
    {
     "name": "stdout",
     "output_type": "stream",
     "text": [
      "[CV] END ....................model__C=0.1, model__penalty=l1; total time=   0.2s\n"
     ]
    },
    {
     "name": "stderr",
     "output_type": "stream",
     "text": [
      "/Library/Frameworks/Python.framework/Versions/3.10/lib/python3.10/site-packages/sklearn/preprocessing/_encoders.py:188: UserWarning: Found unknown categories in columns [4, 5, 6, 7, 8, 9, 10, 12, 13, 14, 15, 16, 17, 18, 19, 20, 21, 22, 23, 24, 25, 26, 28, 29, 30, 31, 32, 33, 34, 35] during transform. These unknown categories will be encoded as all zeros\n",
      "  warnings.warn(\n"
     ]
    },
    {
     "name": "stdout",
     "output_type": "stream",
     "text": [
      "[CV] END ....................model__C=0.1, model__penalty=l1; total time=   0.3s\n"
     ]
    },
    {
     "name": "stderr",
     "output_type": "stream",
     "text": [
      "/Library/Frameworks/Python.framework/Versions/3.10/lib/python3.10/site-packages/sklearn/preprocessing/_encoders.py:188: UserWarning: Found unknown categories in columns [4, 5, 6, 7, 8, 9, 10, 12, 13, 14, 15, 16, 17, 18, 19, 20, 21, 23, 24, 25, 26, 29, 30, 31, 32, 33, 34, 35] during transform. These unknown categories will be encoded as all zeros\n",
      "  warnings.warn(\n"
     ]
    },
    {
     "name": "stdout",
     "output_type": "stream",
     "text": [
      "[CV] END ....................model__C=0.1, model__penalty=l1; total time=   0.3s\n"
     ]
    },
    {
     "name": "stderr",
     "output_type": "stream",
     "text": [
      "/Library/Frameworks/Python.framework/Versions/3.10/lib/python3.10/site-packages/sklearn/preprocessing/_encoders.py:188: UserWarning: Found unknown categories in columns [4, 5, 6, 7, 8, 10, 11, 12, 13, 14, 15, 16, 17, 18, 19, 20, 21, 22, 23, 24, 26, 27, 28, 29, 30, 31, 33, 34, 35] during transform. These unknown categories will be encoded as all zeros\n",
      "  warnings.warn(\n"
     ]
    },
    {
     "name": "stdout",
     "output_type": "stream",
     "text": [
      "[CV] END ....................model__C=0.1, model__penalty=l1; total time=   0.2s\n"
     ]
    },
    {
     "name": "stderr",
     "output_type": "stream",
     "text": [
      "/Library/Frameworks/Python.framework/Versions/3.10/lib/python3.10/site-packages/sklearn/preprocessing/_encoders.py:188: UserWarning: Found unknown categories in columns [4, 5, 6, 7, 8, 9, 10, 11, 12, 13, 14, 15, 16, 17, 18, 19, 20, 21, 23, 24, 25, 26, 28, 29, 30, 31, 33, 34, 35] during transform. These unknown categories will be encoded as all zeros\n",
      "  warnings.warn(\n"
     ]
    },
    {
     "name": "stdout",
     "output_type": "stream",
     "text": [
      "[CV] END ....................model__C=0.1, model__penalty=l1; total time=   0.3s\n"
     ]
    },
    {
     "name": "stderr",
     "output_type": "stream",
     "text": [
      "/Library/Frameworks/Python.framework/Versions/3.10/lib/python3.10/site-packages/sklearn/preprocessing/_encoders.py:188: UserWarning: Found unknown categories in columns [4, 6, 7, 8, 9, 10, 11, 12, 13, 14, 15, 16, 17, 19, 20, 21, 23, 24, 25, 26, 28, 32, 33, 34, 35] during transform. These unknown categories will be encoded as all zeros\n",
      "  warnings.warn(\n"
     ]
    },
    {
     "name": "stdout",
     "output_type": "stream",
     "text": [
      "[CV] END ....................model__C=0.1, model__penalty=l1; total time=   0.3s\n"
     ]
    },
    {
     "name": "stderr",
     "output_type": "stream",
     "text": [
      "/Library/Frameworks/Python.framework/Versions/3.10/lib/python3.10/site-packages/sklearn/preprocessing/_encoders.py:188: UserWarning: Found unknown categories in columns [4, 5, 6, 7, 8, 9, 10, 12, 14, 15, 17, 19, 20, 21, 23, 25, 26, 27, 28, 29, 30, 32, 33, 34, 35] during transform. These unknown categories will be encoded as all zeros\n",
      "  warnings.warn(\n"
     ]
    },
    {
     "name": "stdout",
     "output_type": "stream",
     "text": [
      "[CV] END ....................model__C=0.1, model__penalty=l1; total time=   0.3s\n"
     ]
    },
    {
     "name": "stderr",
     "output_type": "stream",
     "text": [
      "/Library/Frameworks/Python.framework/Versions/3.10/lib/python3.10/site-packages/sklearn/preprocessing/_encoders.py:188: UserWarning: Found unknown categories in columns [4, 5, 6, 8, 9, 10, 12, 14, 15, 16, 17, 19, 20, 21, 22, 23, 24, 25, 26, 27, 28, 29, 30, 31, 33, 34, 35] during transform. These unknown categories will be encoded as all zeros\n",
      "  warnings.warn(\n",
      "/Library/Frameworks/Python.framework/Versions/3.10/lib/python3.10/site-packages/sklearn/preprocessing/_encoders.py:188: UserWarning: Found unknown categories in columns [4, 5, 6, 7, 8, 9, 10, 11, 12, 14, 15, 16, 17, 18, 19, 20, 21, 22, 23, 24, 25, 27, 28, 29, 30, 31, 34, 35] during transform. These unknown categories will be encoded as all zeros\n",
      "  warnings.warn(\n"
     ]
    },
    {
     "name": "stdout",
     "output_type": "stream",
     "text": [
      "[CV] END ....................model__C=0.1, model__penalty=l1; total time=   0.2s\n",
      "[CV] END ....................model__C=1.0, model__penalty=l2; total time=   0.2s\n"
     ]
    },
    {
     "name": "stderr",
     "output_type": "stream",
     "text": [
      "/Library/Frameworks/Python.framework/Versions/3.10/lib/python3.10/site-packages/sklearn/preprocessing/_encoders.py:188: UserWarning: Found unknown categories in columns [4, 5, 6, 7, 8, 9, 10, 12, 13, 14, 15, 16, 17, 18, 19, 20, 21, 22, 23, 24, 25, 26, 28, 29, 30, 31, 32, 33, 34, 35] during transform. These unknown categories will be encoded as all zeros\n",
      "  warnings.warn(\n",
      "/Library/Frameworks/Python.framework/Versions/3.10/lib/python3.10/site-packages/sklearn/preprocessing/_encoders.py:188: UserWarning: Found unknown categories in columns [4, 5, 6, 7, 8, 9, 10, 12, 13, 14, 15, 16, 17, 18, 19, 20, 21, 23, 24, 25, 26, 29, 30, 31, 32, 33, 34, 35] during transform. These unknown categories will be encoded as all zeros\n",
      "  warnings.warn(\n"
     ]
    },
    {
     "name": "stdout",
     "output_type": "stream",
     "text": [
      "[CV] END ....................model__C=1.0, model__penalty=l2; total time=   0.2s\n",
      "[CV] END ....................model__C=1.0, model__penalty=l2; total time=   0.2s\n",
      "[CV] END ....................model__C=1.0, model__penalty=l2; total time=   0.2s\n"
     ]
    },
    {
     "name": "stderr",
     "output_type": "stream",
     "text": [
      "/Library/Frameworks/Python.framework/Versions/3.10/lib/python3.10/site-packages/sklearn/preprocessing/_encoders.py:188: UserWarning: Found unknown categories in columns [4, 5, 6, 7, 8, 10, 11, 12, 13, 14, 15, 16, 17, 18, 19, 20, 21, 22, 23, 24, 26, 27, 28, 29, 30, 31, 33, 34, 35] during transform. These unknown categories will be encoded as all zeros\n",
      "  warnings.warn(\n",
      "/Library/Frameworks/Python.framework/Versions/3.10/lib/python3.10/site-packages/sklearn/preprocessing/_encoders.py:188: UserWarning: Found unknown categories in columns [4, 5, 6, 7, 8, 9, 10, 11, 12, 13, 14, 15, 16, 17, 18, 19, 20, 21, 23, 24, 25, 26, 28, 29, 30, 31, 33, 34, 35] during transform. These unknown categories will be encoded as all zeros\n",
      "  warnings.warn(\n"
     ]
    },
    {
     "name": "stdout",
     "output_type": "stream",
     "text": [
      "[CV] END ....................model__C=1.0, model__penalty=l2; total time=   0.2s\n",
      "[CV] END ....................model__C=1.0, model__penalty=l2; total time=   0.1s\n"
     ]
    },
    {
     "name": "stderr",
     "output_type": "stream",
     "text": [
      "/Library/Frameworks/Python.framework/Versions/3.10/lib/python3.10/site-packages/sklearn/preprocessing/_encoders.py:188: UserWarning: Found unknown categories in columns [4, 6, 7, 8, 9, 10, 11, 12, 13, 14, 15, 16, 17, 19, 20, 21, 23, 24, 25, 26, 28, 32, 33, 34, 35] during transform. These unknown categories will be encoded as all zeros\n",
      "  warnings.warn(\n",
      "/Library/Frameworks/Python.framework/Versions/3.10/lib/python3.10/site-packages/sklearn/preprocessing/_encoders.py:188: UserWarning: Found unknown categories in columns [4, 5, 6, 7, 8, 9, 10, 12, 14, 15, 17, 19, 20, 21, 23, 25, 26, 27, 28, 29, 30, 32, 33, 34, 35] during transform. These unknown categories will be encoded as all zeros\n",
      "  warnings.warn(\n"
     ]
    },
    {
     "name": "stdout",
     "output_type": "stream",
     "text": [
      "[CV] END ....................model__C=1.0, model__penalty=l2; total time=   0.2s\n",
      "[CV] END ....................model__C=1.0, model__penalty=l2; total time=   0.2s\n"
     ]
    },
    {
     "name": "stderr",
     "output_type": "stream",
     "text": [
      "/Library/Frameworks/Python.framework/Versions/3.10/lib/python3.10/site-packages/sklearn/preprocessing/_encoders.py:188: UserWarning: Found unknown categories in columns [4, 5, 6, 8, 9, 10, 12, 14, 15, 16, 17, 19, 20, 21, 22, 23, 24, 25, 26, 27, 28, 29, 30, 31, 33, 34, 35] during transform. These unknown categories will be encoded as all zeros\n",
      "  warnings.warn(\n",
      "/Library/Frameworks/Python.framework/Versions/3.10/lib/python3.10/site-packages/sklearn/preprocessing/_encoders.py:188: UserWarning: Found unknown categories in columns [4, 5, 6, 7, 8, 9, 10, 11, 12, 14, 15, 16, 17, 18, 19, 20, 21, 22, 23, 24, 25, 27, 28, 29, 30, 31, 34, 35] during transform. These unknown categories will be encoded as all zeros\n",
      "  warnings.warn(\n"
     ]
    },
    {
     "name": "stdout",
     "output_type": "stream",
     "text": [
      "[CV] END ....................model__C=1.0, model__penalty=l1; total time=   0.7s\n"
     ]
    },
    {
     "name": "stderr",
     "output_type": "stream",
     "text": [
      "/Library/Frameworks/Python.framework/Versions/3.10/lib/python3.10/site-packages/sklearn/preprocessing/_encoders.py:188: UserWarning: Found unknown categories in columns [4, 5, 6, 7, 8, 9, 10, 12, 13, 14, 15, 16, 17, 18, 19, 20, 21, 22, 23, 24, 25, 26, 28, 29, 30, 31, 32, 33, 34, 35] during transform. These unknown categories will be encoded as all zeros\n",
      "  warnings.warn(\n"
     ]
    },
    {
     "name": "stdout",
     "output_type": "stream",
     "text": [
      "[CV] END ....................model__C=1.0, model__penalty=l1; total time=   0.7s\n"
     ]
    },
    {
     "name": "stderr",
     "output_type": "stream",
     "text": [
      "/Library/Frameworks/Python.framework/Versions/3.10/lib/python3.10/site-packages/sklearn/preprocessing/_encoders.py:188: UserWarning: Found unknown categories in columns [4, 5, 6, 7, 8, 9, 10, 12, 13, 14, 15, 16, 17, 18, 19, 20, 21, 23, 24, 25, 26, 29, 30, 31, 32, 33, 34, 35] during transform. These unknown categories will be encoded as all zeros\n",
      "  warnings.warn(\n"
     ]
    },
    {
     "name": "stdout",
     "output_type": "stream",
     "text": [
      "[CV] END ....................model__C=1.0, model__penalty=l1; total time=   0.8s\n"
     ]
    },
    {
     "name": "stderr",
     "output_type": "stream",
     "text": [
      "/Library/Frameworks/Python.framework/Versions/3.10/lib/python3.10/site-packages/sklearn/preprocessing/_encoders.py:188: UserWarning: Found unknown categories in columns [4, 5, 6, 7, 8, 10, 11, 12, 13, 14, 15, 16, 17, 18, 19, 20, 21, 22, 23, 24, 26, 27, 28, 29, 30, 31, 33, 34, 35] during transform. These unknown categories will be encoded as all zeros\n",
      "  warnings.warn(\n"
     ]
    },
    {
     "name": "stdout",
     "output_type": "stream",
     "text": [
      "[CV] END ....................model__C=1.0, model__penalty=l1; total time=   0.9s\n"
     ]
    },
    {
     "name": "stderr",
     "output_type": "stream",
     "text": [
      "/Library/Frameworks/Python.framework/Versions/3.10/lib/python3.10/site-packages/sklearn/preprocessing/_encoders.py:188: UserWarning: Found unknown categories in columns [4, 5, 6, 7, 8, 9, 10, 11, 12, 13, 14, 15, 16, 17, 18, 19, 20, 21, 23, 24, 25, 26, 28, 29, 30, 31, 33, 34, 35] during transform. These unknown categories will be encoded as all zeros\n",
      "  warnings.warn(\n"
     ]
    },
    {
     "name": "stdout",
     "output_type": "stream",
     "text": [
      "[CV] END ....................model__C=1.0, model__penalty=l1; total time=   0.7s\n"
     ]
    },
    {
     "name": "stderr",
     "output_type": "stream",
     "text": [
      "/Library/Frameworks/Python.framework/Versions/3.10/lib/python3.10/site-packages/sklearn/preprocessing/_encoders.py:188: UserWarning: Found unknown categories in columns [4, 6, 7, 8, 9, 10, 11, 12, 13, 14, 15, 16, 17, 19, 20, 21, 23, 24, 25, 26, 28, 32, 33, 34, 35] during transform. These unknown categories will be encoded as all zeros\n",
      "  warnings.warn(\n"
     ]
    },
    {
     "name": "stdout",
     "output_type": "stream",
     "text": [
      "[CV] END ....................model__C=1.0, model__penalty=l1; total time=   0.8s\n"
     ]
    },
    {
     "name": "stderr",
     "output_type": "stream",
     "text": [
      "/Library/Frameworks/Python.framework/Versions/3.10/lib/python3.10/site-packages/sklearn/preprocessing/_encoders.py:188: UserWarning: Found unknown categories in columns [4, 5, 6, 7, 8, 9, 10, 12, 14, 15, 17, 19, 20, 21, 23, 25, 26, 27, 28, 29, 30, 32, 33, 34, 35] during transform. These unknown categories will be encoded as all zeros\n",
      "  warnings.warn(\n"
     ]
    },
    {
     "name": "stdout",
     "output_type": "stream",
     "text": [
      "[CV] END ....................model__C=1.0, model__penalty=l1; total time=   0.9s\n"
     ]
    },
    {
     "name": "stderr",
     "output_type": "stream",
     "text": [
      "/Library/Frameworks/Python.framework/Versions/3.10/lib/python3.10/site-packages/sklearn/preprocessing/_encoders.py:188: UserWarning: Found unknown categories in columns [4, 5, 6, 8, 9, 10, 12, 14, 15, 16, 17, 19, 20, 21, 22, 23, 24, 25, 26, 27, 28, 29, 30, 31, 33, 34, 35] during transform. These unknown categories will be encoded as all zeros\n",
      "  warnings.warn(\n"
     ]
    },
    {
     "name": "stdout",
     "output_type": "stream",
     "text": [
      "[CV] END ....................model__C=1.0, model__penalty=l1; total time=   0.9s\n"
     ]
    },
    {
     "data": {
      "text/html": [
       "<style>#sk-container-id-6 {color: black;background-color: white;}#sk-container-id-6 pre{padding: 0;}#sk-container-id-6 div.sk-toggleable {background-color: white;}#sk-container-id-6 label.sk-toggleable__label {cursor: pointer;display: block;width: 100%;margin-bottom: 0;padding: 0.3em;box-sizing: border-box;text-align: center;}#sk-container-id-6 label.sk-toggleable__label-arrow:before {content: \"▸\";float: left;margin-right: 0.25em;color: #696969;}#sk-container-id-6 label.sk-toggleable__label-arrow:hover:before {color: black;}#sk-container-id-6 div.sk-estimator:hover label.sk-toggleable__label-arrow:before {color: black;}#sk-container-id-6 div.sk-toggleable__content {max-height: 0;max-width: 0;overflow: hidden;text-align: left;background-color: #f0f8ff;}#sk-container-id-6 div.sk-toggleable__content pre {margin: 0.2em;color: black;border-radius: 0.25em;background-color: #f0f8ff;}#sk-container-id-6 input.sk-toggleable__control:checked~div.sk-toggleable__content {max-height: 200px;max-width: 100%;overflow: auto;}#sk-container-id-6 input.sk-toggleable__control:checked~label.sk-toggleable__label-arrow:before {content: \"▾\";}#sk-container-id-6 div.sk-estimator input.sk-toggleable__control:checked~label.sk-toggleable__label {background-color: #d4ebff;}#sk-container-id-6 div.sk-label input.sk-toggleable__control:checked~label.sk-toggleable__label {background-color: #d4ebff;}#sk-container-id-6 input.sk-hidden--visually {border: 0;clip: rect(1px 1px 1px 1px);clip: rect(1px, 1px, 1px, 1px);height: 1px;margin: -1px;overflow: hidden;padding: 0;position: absolute;width: 1px;}#sk-container-id-6 div.sk-estimator {font-family: monospace;background-color: #f0f8ff;border: 1px dotted black;border-radius: 0.25em;box-sizing: border-box;margin-bottom: 0.5em;}#sk-container-id-6 div.sk-estimator:hover {background-color: #d4ebff;}#sk-container-id-6 div.sk-parallel-item::after {content: \"\";width: 100%;border-bottom: 1px solid gray;flex-grow: 1;}#sk-container-id-6 div.sk-label:hover label.sk-toggleable__label {background-color: #d4ebff;}#sk-container-id-6 div.sk-serial::before {content: \"\";position: absolute;border-left: 1px solid gray;box-sizing: border-box;top: 0;bottom: 0;left: 50%;z-index: 0;}#sk-container-id-6 div.sk-serial {display: flex;flex-direction: column;align-items: center;background-color: white;padding-right: 0.2em;padding-left: 0.2em;position: relative;}#sk-container-id-6 div.sk-item {position: relative;z-index: 1;}#sk-container-id-6 div.sk-parallel {display: flex;align-items: stretch;justify-content: center;background-color: white;position: relative;}#sk-container-id-6 div.sk-item::before, #sk-container-id-6 div.sk-parallel-item::before {content: \"\";position: absolute;border-left: 1px solid gray;box-sizing: border-box;top: 0;bottom: 0;left: 50%;z-index: -1;}#sk-container-id-6 div.sk-parallel-item {display: flex;flex-direction: column;z-index: 1;position: relative;background-color: white;}#sk-container-id-6 div.sk-parallel-item:first-child::after {align-self: flex-end;width: 50%;}#sk-container-id-6 div.sk-parallel-item:last-child::after {align-self: flex-start;width: 50%;}#sk-container-id-6 div.sk-parallel-item:only-child::after {width: 0;}#sk-container-id-6 div.sk-dashed-wrapped {border: 1px dashed gray;margin: 0 0.4em 0.5em 0.4em;box-sizing: border-box;padding-bottom: 0.4em;background-color: white;}#sk-container-id-6 div.sk-label label {font-family: monospace;font-weight: bold;display: inline-block;line-height: 1.2em;}#sk-container-id-6 div.sk-label-container {text-align: center;}#sk-container-id-6 div.sk-container {/* jupyter's `normalize.less` sets `[hidden] { display: none; }` but bootstrap.min.css set `[hidden] { display: none !important; }` so we also need the `!important` here to be able to override the default hidden behavior on the sphinx rendered scikit-learn.org. See: https://github.com/scikit-learn/scikit-learn/issues/21755 */display: inline-block !important;position: relative;}#sk-container-id-6 div.sk-text-repr-fallback {display: none;}</style><div id=\"sk-container-id-6\" class=\"sk-top-container\"><div class=\"sk-text-repr-fallback\"><pre>GridSearchCV(cv=StratifiedKFold(n_splits=8, random_state=20220914, shuffle=True),\n",
       "             estimator=Pipeline(steps=[(&#x27;data&#x27;,\n",
       "                                        Pipeline(steps=[(&#x27;preprocess&#x27;,\n",
       "                                                         ColumnTransformer(transformers=[(&#x27;category&#x27;,\n",
       "                                                                                          OneHotEncoder(drop=&#x27;first&#x27;,\n",
       "                                                                                                        handle_unknown=&#x27;ignore&#x27;),\n",
       "                                                                                          [(&#x27;Info&#x27;,\n",
       "                                                                                            &#x27;League&#x27;),\n",
       "                                                                                           (&#x27;Info&#x27;,\n",
       "                                                                                            &#x27;Year&#x27;),\n",
       "                                                                                           (&#x27;Info&#x27;,\n",
       "                                                                                            &#x27;Season&#x27;),\n",
       "                                                                                           (&#x27;Info&#x27;,\n",
       "                                                                                            &#x27;GameType&#x27;),\n",
       "                                                                                           (&#x27;Blue&#x27;,\n",
       "                                                                                            &#x27;Top&#x27;),\n",
       "                                                                                           (&#x27;Blue&#x27;,\n",
       "                                                                                            &#x27;TopChamp&#x27;),\n",
       "                                                                                           (&#x27;B...\n",
       "                                                                                            &#x27;min_15&#x27;),\n",
       "                                                                                           (&#x27;goldblueADC&#x27;,\n",
       "                                                                                            &#x27;min_20&#x27;),\n",
       "                                                                                           (&#x27;goldblueSupport&#x27;,\n",
       "                                                                                            &#x27;min_5&#x27;), ...])])),\n",
       "                                                        (&#x27;filter&#x27;,\n",
       "                                                         SelectKBest(k=20,\n",
       "                                                                     score_func=&lt;function chi2 at 0x133cea830&gt;))])),\n",
       "                                       (&#x27;model&#x27;,\n",
       "                                        LogisticRegression(max_iter=1000,\n",
       "                                                           penalty=&#x27;none&#x27;,\n",
       "                                                           random_state=14,\n",
       "                                                           solver=&#x27;liblinear&#x27;,\n",
       "                                                           tol=1e-08))]),\n",
       "             param_grid={&#x27;model__C&#x27;: array([1.e-04, 1.e-03, 1.e-02, 1.e-01, 1.e+00]),\n",
       "                         &#x27;model__penalty&#x27;: [&#x27;l2&#x27;, &#x27;l1&#x27;]},\n",
       "             verbose=2)</pre><b>In a Jupyter environment, please rerun this cell to show the HTML representation or trust the notebook. <br />On GitHub, the HTML representation is unable to render, please try loading this page with nbviewer.org.</b></div><div class=\"sk-container\" hidden><div class=\"sk-item sk-dashed-wrapped\"><div class=\"sk-label-container\"><div class=\"sk-label sk-toggleable\"><input class=\"sk-toggleable__control sk-hidden--visually\" id=\"sk-estimator-id-43\" type=\"checkbox\" ><label for=\"sk-estimator-id-43\" class=\"sk-toggleable__label sk-toggleable__label-arrow\">GridSearchCV</label><div class=\"sk-toggleable__content\"><pre>GridSearchCV(cv=StratifiedKFold(n_splits=8, random_state=20220914, shuffle=True),\n",
       "             estimator=Pipeline(steps=[(&#x27;data&#x27;,\n",
       "                                        Pipeline(steps=[(&#x27;preprocess&#x27;,\n",
       "                                                         ColumnTransformer(transformers=[(&#x27;category&#x27;,\n",
       "                                                                                          OneHotEncoder(drop=&#x27;first&#x27;,\n",
       "                                                                                                        handle_unknown=&#x27;ignore&#x27;),\n",
       "                                                                                          [(&#x27;Info&#x27;,\n",
       "                                                                                            &#x27;League&#x27;),\n",
       "                                                                                           (&#x27;Info&#x27;,\n",
       "                                                                                            &#x27;Year&#x27;),\n",
       "                                                                                           (&#x27;Info&#x27;,\n",
       "                                                                                            &#x27;Season&#x27;),\n",
       "                                                                                           (&#x27;Info&#x27;,\n",
       "                                                                                            &#x27;GameType&#x27;),\n",
       "                                                                                           (&#x27;Blue&#x27;,\n",
       "                                                                                            &#x27;Top&#x27;),\n",
       "                                                                                           (&#x27;Blue&#x27;,\n",
       "                                                                                            &#x27;TopChamp&#x27;),\n",
       "                                                                                           (&#x27;B...\n",
       "                                                                                            &#x27;min_15&#x27;),\n",
       "                                                                                           (&#x27;goldblueADC&#x27;,\n",
       "                                                                                            &#x27;min_20&#x27;),\n",
       "                                                                                           (&#x27;goldblueSupport&#x27;,\n",
       "                                                                                            &#x27;min_5&#x27;), ...])])),\n",
       "                                                        (&#x27;filter&#x27;,\n",
       "                                                         SelectKBest(k=20,\n",
       "                                                                     score_func=&lt;function chi2 at 0x133cea830&gt;))])),\n",
       "                                       (&#x27;model&#x27;,\n",
       "                                        LogisticRegression(max_iter=1000,\n",
       "                                                           penalty=&#x27;none&#x27;,\n",
       "                                                           random_state=14,\n",
       "                                                           solver=&#x27;liblinear&#x27;,\n",
       "                                                           tol=1e-08))]),\n",
       "             param_grid={&#x27;model__C&#x27;: array([1.e-04, 1.e-03, 1.e-02, 1.e-01, 1.e+00]),\n",
       "                         &#x27;model__penalty&#x27;: [&#x27;l2&#x27;, &#x27;l1&#x27;]},\n",
       "             verbose=2)</pre></div></div></div><div class=\"sk-parallel\"><div class=\"sk-parallel-item\"><div class=\"sk-item\"><div class=\"sk-label-container\"><div class=\"sk-label sk-toggleable\"><input class=\"sk-toggleable__control sk-hidden--visually\" id=\"sk-estimator-id-44\" type=\"checkbox\" ><label for=\"sk-estimator-id-44\" class=\"sk-toggleable__label sk-toggleable__label-arrow\">estimator: Pipeline</label><div class=\"sk-toggleable__content\"><pre>Pipeline(steps=[(&#x27;data&#x27;,\n",
       "                 Pipeline(steps=[(&#x27;preprocess&#x27;,\n",
       "                                  ColumnTransformer(transformers=[(&#x27;category&#x27;,\n",
       "                                                                   OneHotEncoder(drop=&#x27;first&#x27;,\n",
       "                                                                                 handle_unknown=&#x27;ignore&#x27;),\n",
       "                                                                   [(&#x27;Info&#x27;,\n",
       "                                                                     &#x27;League&#x27;),\n",
       "                                                                    (&#x27;Info&#x27;,\n",
       "                                                                     &#x27;Year&#x27;),\n",
       "                                                                    (&#x27;Info&#x27;,\n",
       "                                                                     &#x27;Season&#x27;),\n",
       "                                                                    (&#x27;Info&#x27;,\n",
       "                                                                     &#x27;GameType&#x27;),\n",
       "                                                                    (&#x27;Blue&#x27;,\n",
       "                                                                     &#x27;Top&#x27;),\n",
       "                                                                    (&#x27;Blue&#x27;,\n",
       "                                                                     &#x27;TopChamp&#x27;),\n",
       "                                                                    (&#x27;Blue&#x27;,\n",
       "                                                                     &#x27;Jungle&#x27;),\n",
       "                                                                    (&#x27;Blue&#x27;,\n",
       "                                                                     &#x27;JungleChamp&#x27;),\n",
       "                                                                    (&#x27;Blue&#x27;,\n",
       "                                                                     &#x27;Middle&#x27;),\n",
       "                                                                    (&#x27;Blue&#x27;,\n",
       "                                                                     &#x27;MiddleChamp&#x27;),\n",
       "                                                                    (&#x27;Blue&#x27;,\n",
       "                                                                     &#x27;A...\n",
       "                                                                     &#x27;min_15&#x27;),\n",
       "                                                                    (&#x27;goldblueMiddle&#x27;,\n",
       "                                                                     &#x27;min_20&#x27;),\n",
       "                                                                    (&#x27;goldblueADC&#x27;,\n",
       "                                                                     &#x27;min_5&#x27;),\n",
       "                                                                    (&#x27;goldblueADC&#x27;,\n",
       "                                                                     &#x27;min_10&#x27;),\n",
       "                                                                    (&#x27;goldblueADC&#x27;,\n",
       "                                                                     &#x27;min_15&#x27;),\n",
       "                                                                    (&#x27;goldblueADC&#x27;,\n",
       "                                                                     &#x27;min_20&#x27;),\n",
       "                                                                    (&#x27;goldblueSupport&#x27;,\n",
       "                                                                     &#x27;min_5&#x27;), ...])])),\n",
       "                                 (&#x27;filter&#x27;,\n",
       "                                  SelectKBest(k=20,\n",
       "                                              score_func=&lt;function chi2 at 0x133cea830&gt;))])),\n",
       "                (&#x27;model&#x27;,\n",
       "                 LogisticRegression(max_iter=1000, penalty=&#x27;none&#x27;,\n",
       "                                    random_state=14, solver=&#x27;liblinear&#x27;,\n",
       "                                    tol=1e-08))])</pre></div></div></div><div class=\"sk-serial\"><div class=\"sk-item\"><div class=\"sk-serial\"><div class=\"sk-item\"><div class=\"sk-label-container\"><div class=\"sk-label sk-toggleable\"><input class=\"sk-toggleable__control sk-hidden--visually\" id=\"sk-estimator-id-45\" type=\"checkbox\" ><label for=\"sk-estimator-id-45\" class=\"sk-toggleable__label sk-toggleable__label-arrow\">data: Pipeline</label><div class=\"sk-toggleable__content\"><pre>Pipeline(steps=[(&#x27;preprocess&#x27;,\n",
       "                 ColumnTransformer(transformers=[(&#x27;category&#x27;,\n",
       "                                                  OneHotEncoder(drop=&#x27;first&#x27;,\n",
       "                                                                handle_unknown=&#x27;ignore&#x27;),\n",
       "                                                  [(&#x27;Info&#x27;, &#x27;League&#x27;),\n",
       "                                                   (&#x27;Info&#x27;, &#x27;Year&#x27;),\n",
       "                                                   (&#x27;Info&#x27;, &#x27;Season&#x27;),\n",
       "                                                   (&#x27;Info&#x27;, &#x27;GameType&#x27;),\n",
       "                                                   (&#x27;Blue&#x27;, &#x27;Top&#x27;),\n",
       "                                                   (&#x27;Blue&#x27;, &#x27;TopChamp&#x27;),\n",
       "                                                   (&#x27;Blue&#x27;, &#x27;Jungle&#x27;),\n",
       "                                                   (&#x27;Blue&#x27;, &#x27;JungleChamp&#x27;),\n",
       "                                                   (&#x27;Blue&#x27;, &#x27;Middle&#x27;),\n",
       "                                                   (&#x27;Blue&#x27;, &#x27;MiddleChamp&#x27;),\n",
       "                                                   (&#x27;Blue&#x27;, &#x27;ADC&#x27;),\n",
       "                                                   (&#x27;Blue&#x27;, &#x27;ADCChamp&#x27;)...\n",
       "                                                   (&#x27;goldblueJungle&#x27;, &#x27;min_15&#x27;),\n",
       "                                                   (&#x27;goldblueJungle&#x27;, &#x27;min_20&#x27;),\n",
       "                                                   (&#x27;goldblueMiddle&#x27;, &#x27;min_5&#x27;),\n",
       "                                                   (&#x27;goldblueMiddle&#x27;, &#x27;min_10&#x27;),\n",
       "                                                   (&#x27;goldblueMiddle&#x27;, &#x27;min_15&#x27;),\n",
       "                                                   (&#x27;goldblueMiddle&#x27;, &#x27;min_20&#x27;),\n",
       "                                                   (&#x27;goldblueADC&#x27;, &#x27;min_5&#x27;),\n",
       "                                                   (&#x27;goldblueADC&#x27;, &#x27;min_10&#x27;),\n",
       "                                                   (&#x27;goldblueADC&#x27;, &#x27;min_15&#x27;),\n",
       "                                                   (&#x27;goldblueADC&#x27;, &#x27;min_20&#x27;),\n",
       "                                                   (&#x27;goldblueSupport&#x27;, &#x27;min_5&#x27;), ...])])),\n",
       "                (&#x27;filter&#x27;,\n",
       "                 SelectKBest(k=20, score_func=&lt;function chi2 at 0x133cea830&gt;))])</pre></div></div></div><div class=\"sk-serial\"><div class=\"sk-item sk-dashed-wrapped\"><div class=\"sk-label-container\"><div class=\"sk-label sk-toggleable\"><input class=\"sk-toggleable__control sk-hidden--visually\" id=\"sk-estimator-id-46\" type=\"checkbox\" ><label for=\"sk-estimator-id-46\" class=\"sk-toggleable__label sk-toggleable__label-arrow\">preprocess: ColumnTransformer</label><div class=\"sk-toggleable__content\"><pre>ColumnTransformer(transformers=[(&#x27;category&#x27;,\n",
       "                                 OneHotEncoder(drop=&#x27;first&#x27;,\n",
       "                                               handle_unknown=&#x27;ignore&#x27;),\n",
       "                                 [(&#x27;Info&#x27;, &#x27;League&#x27;), (&#x27;Info&#x27;, &#x27;Year&#x27;),\n",
       "                                  (&#x27;Info&#x27;, &#x27;Season&#x27;), (&#x27;Info&#x27;, &#x27;GameType&#x27;),\n",
       "                                  (&#x27;Blue&#x27;, &#x27;Top&#x27;), (&#x27;Blue&#x27;, &#x27;TopChamp&#x27;),\n",
       "                                  (&#x27;Blue&#x27;, &#x27;Jungle&#x27;), (&#x27;Blue&#x27;, &#x27;JungleChamp&#x27;),\n",
       "                                  (&#x27;Blue&#x27;, &#x27;Middle&#x27;), (&#x27;Blue&#x27;, &#x27;MiddleChamp&#x27;),\n",
       "                                  (&#x27;Blue&#x27;, &#x27;ADC&#x27;), (&#x27;Blue&#x27;, &#x27;ADCChamp&#x27;),\n",
       "                                  (&#x27;Blue&#x27;, &#x27;Support&#x27;), (&#x27;Blue&#x27;, &#x27;S...\n",
       "                                  (&#x27;goldblueJungle&#x27;, &#x27;min_5&#x27;),\n",
       "                                  (&#x27;goldblueJungle&#x27;, &#x27;min_10&#x27;),\n",
       "                                  (&#x27;goldblueJungle&#x27;, &#x27;min_15&#x27;),\n",
       "                                  (&#x27;goldblueJungle&#x27;, &#x27;min_20&#x27;),\n",
       "                                  (&#x27;goldblueMiddle&#x27;, &#x27;min_5&#x27;),\n",
       "                                  (&#x27;goldblueMiddle&#x27;, &#x27;min_10&#x27;),\n",
       "                                  (&#x27;goldblueMiddle&#x27;, &#x27;min_15&#x27;),\n",
       "                                  (&#x27;goldblueMiddle&#x27;, &#x27;min_20&#x27;),\n",
       "                                  (&#x27;goldblueADC&#x27;, &#x27;min_5&#x27;),\n",
       "                                  (&#x27;goldblueADC&#x27;, &#x27;min_10&#x27;),\n",
       "                                  (&#x27;goldblueADC&#x27;, &#x27;min_15&#x27;),\n",
       "                                  (&#x27;goldblueADC&#x27;, &#x27;min_20&#x27;),\n",
       "                                  (&#x27;goldblueSupport&#x27;, &#x27;min_5&#x27;), ...])])</pre></div></div></div><div class=\"sk-parallel\"><div class=\"sk-parallel-item\"><div class=\"sk-item\"><div class=\"sk-label-container\"><div class=\"sk-label sk-toggleable\"><input class=\"sk-toggleable__control sk-hidden--visually\" id=\"sk-estimator-id-47\" type=\"checkbox\" ><label for=\"sk-estimator-id-47\" class=\"sk-toggleable__label sk-toggleable__label-arrow\">category</label><div class=\"sk-toggleable__content\"><pre>[(&#x27;Info&#x27;, &#x27;League&#x27;), (&#x27;Info&#x27;, &#x27;Year&#x27;), (&#x27;Info&#x27;, &#x27;Season&#x27;), (&#x27;Info&#x27;, &#x27;GameType&#x27;), (&#x27;Blue&#x27;, &#x27;Top&#x27;), (&#x27;Blue&#x27;, &#x27;TopChamp&#x27;), (&#x27;Blue&#x27;, &#x27;Jungle&#x27;), (&#x27;Blue&#x27;, &#x27;JungleChamp&#x27;), (&#x27;Blue&#x27;, &#x27;Middle&#x27;), (&#x27;Blue&#x27;, &#x27;MiddleChamp&#x27;), (&#x27;Blue&#x27;, &#x27;ADC&#x27;), (&#x27;Blue&#x27;, &#x27;ADCChamp&#x27;), (&#x27;Blue&#x27;, &#x27;Support&#x27;), (&#x27;Blue&#x27;, &#x27;SupportChamp&#x27;), (&#x27;Blue&#x27;, &#x27;TeamTag&#x27;), (&#x27;Red&#x27;, &#x27;Top&#x27;), (&#x27;Red&#x27;, &#x27;TopChamp&#x27;), (&#x27;Red&#x27;, &#x27;Jungle&#x27;), (&#x27;Red&#x27;, &#x27;JungleChamp&#x27;), (&#x27;Red&#x27;, &#x27;Middle&#x27;), (&#x27;Red&#x27;, &#x27;MiddleChamp&#x27;), (&#x27;Red&#x27;, &#x27;ADC&#x27;), (&#x27;Red&#x27;, &#x27;ADCChamp&#x27;), (&#x27;Red&#x27;, &#x27;Support&#x27;), (&#x27;Red&#x27;, &#x27;SupportChamp&#x27;), (&#x27;Red&#x27;, &#x27;TeamTag&#x27;), (&#x27;Blue&#x27;, &#x27;ban_1&#x27;), (&#x27;Blue&#x27;, &#x27;ban_2&#x27;), (&#x27;Blue&#x27;, &#x27;ban_3&#x27;), (&#x27;Blue&#x27;, &#x27;ban_4&#x27;), (&#x27;Blue&#x27;, &#x27;ban_5&#x27;), (&#x27;Red&#x27;, &#x27;ban_1&#x27;), (&#x27;Red&#x27;, &#x27;ban_2&#x27;), (&#x27;Red&#x27;, &#x27;ban_3&#x27;), (&#x27;Red&#x27;, &#x27;ban_4&#x27;), (&#x27;Red&#x27;, &#x27;ban_5&#x27;)]</pre></div></div></div><div class=\"sk-serial\"><div class=\"sk-item\"><div class=\"sk-estimator sk-toggleable\"><input class=\"sk-toggleable__control sk-hidden--visually\" id=\"sk-estimator-id-48\" type=\"checkbox\" ><label for=\"sk-estimator-id-48\" class=\"sk-toggleable__label sk-toggleable__label-arrow\">OneHotEncoder</label><div class=\"sk-toggleable__content\"><pre>OneHotEncoder(drop=&#x27;first&#x27;, handle_unknown=&#x27;ignore&#x27;)</pre></div></div></div></div></div></div><div class=\"sk-parallel-item\"><div class=\"sk-item\"><div class=\"sk-label-container\"><div class=\"sk-label sk-toggleable\"><input class=\"sk-toggleable__control sk-hidden--visually\" id=\"sk-estimator-id-49\" type=\"checkbox\" ><label for=\"sk-estimator-id-49\" class=\"sk-toggleable__label sk-toggleable__label-arrow\">numeric</label><div class=\"sk-toggleable__content\"><pre>[(&#x27;Info&#x27;, &#x27;gamelength&#x27;), (&#x27;golddiff&#x27;, &#x27;min_5&#x27;), (&#x27;golddiff&#x27;, &#x27;min_10&#x27;), (&#x27;golddiff&#x27;, &#x27;min_15&#x27;), (&#x27;golddiff&#x27;, &#x27;min_20&#x27;), (&#x27;goldblue&#x27;, &#x27;min_5&#x27;), (&#x27;goldblue&#x27;, &#x27;min_10&#x27;), (&#x27;goldblue&#x27;, &#x27;min_15&#x27;), (&#x27;goldblue&#x27;, &#x27;min_20&#x27;), (&#x27;goldred&#x27;, &#x27;min_5&#x27;), (&#x27;goldred&#x27;, &#x27;min_10&#x27;), (&#x27;goldred&#x27;, &#x27;min_15&#x27;), (&#x27;goldred&#x27;, &#x27;min_20&#x27;), (&#x27;goldblueTop&#x27;, &#x27;min_5&#x27;), (&#x27;goldblueTop&#x27;, &#x27;min_10&#x27;), (&#x27;goldblueTop&#x27;, &#x27;min_15&#x27;), (&#x27;goldblueTop&#x27;, &#x27;min_20&#x27;), (&#x27;goldblueJungle&#x27;, &#x27;min_5&#x27;), (&#x27;goldblueJungle&#x27;, &#x27;min_10&#x27;), (&#x27;goldblueJungle&#x27;, &#x27;min_15&#x27;), (&#x27;goldblueJungle&#x27;, &#x27;min_20&#x27;), (&#x27;goldblueMiddle&#x27;, &#x27;min_5&#x27;), (&#x27;goldblueMiddle&#x27;, &#x27;min_10&#x27;), (&#x27;goldblueMiddle&#x27;, &#x27;min_15&#x27;), (&#x27;goldblueMiddle&#x27;, &#x27;min_20&#x27;), (&#x27;goldblueADC&#x27;, &#x27;min_5&#x27;), (&#x27;goldblueADC&#x27;, &#x27;min_10&#x27;), (&#x27;goldblueADC&#x27;, &#x27;min_15&#x27;), (&#x27;goldblueADC&#x27;, &#x27;min_20&#x27;), (&#x27;goldblueSupport&#x27;, &#x27;min_5&#x27;), (&#x27;goldblueSupport&#x27;, &#x27;min_10&#x27;), (&#x27;goldblueSupport&#x27;, &#x27;min_15&#x27;), (&#x27;goldblueSupport&#x27;, &#x27;min_20&#x27;), (&#x27;goldredTop&#x27;, &#x27;min_5&#x27;), (&#x27;goldredTop&#x27;, &#x27;min_10&#x27;), (&#x27;goldredTop&#x27;, &#x27;min_15&#x27;), (&#x27;goldredTop&#x27;, &#x27;min_20&#x27;), (&#x27;goldredJungle&#x27;, &#x27;min_5&#x27;), (&#x27;goldredJungle&#x27;, &#x27;min_10&#x27;), (&#x27;goldredJungle&#x27;, &#x27;min_15&#x27;), (&#x27;goldredJungle&#x27;, &#x27;min_20&#x27;), (&#x27;goldredMiddle&#x27;, &#x27;min_5&#x27;), (&#x27;goldredMiddle&#x27;, &#x27;min_10&#x27;), (&#x27;goldredMiddle&#x27;, &#x27;min_15&#x27;), (&#x27;goldredMiddle&#x27;, &#x27;min_20&#x27;), (&#x27;goldredADC&#x27;, &#x27;min_5&#x27;), (&#x27;goldredADC&#x27;, &#x27;min_10&#x27;), (&#x27;goldredADC&#x27;, &#x27;min_15&#x27;), (&#x27;goldredADC&#x27;, &#x27;min_20&#x27;), (&#x27;goldredSupport&#x27;, &#x27;min_5&#x27;), (&#x27;goldredSupport&#x27;, &#x27;min_10&#x27;), (&#x27;goldredSupport&#x27;, &#x27;min_15&#x27;), (&#x27;goldredSupport&#x27;, &#x27;min_20&#x27;), (&#x27;Blue&#x27;, &#x27;Towers&#x27;), (&#x27;Red&#x27;, &#x27;Towers&#x27;), (&#x27;Blue&#x27;, &#x27;Inhib&#x27;), (&#x27;Red&#x27;, &#x27;Inhib&#x27;), (&#x27;Blue&#x27;, &#x27;Kills&#x27;), (&#x27;Red&#x27;, &#x27;Kills&#x27;)]</pre></div></div></div><div class=\"sk-serial\"><div class=\"sk-item\"><div class=\"sk-estimator sk-toggleable\"><input class=\"sk-toggleable__control sk-hidden--visually\" id=\"sk-estimator-id-50\" type=\"checkbox\" ><label for=\"sk-estimator-id-50\" class=\"sk-toggleable__label sk-toggleable__label-arrow\">MinMaxScaler</label><div class=\"sk-toggleable__content\"><pre>MinMaxScaler()</pre></div></div></div></div></div></div></div></div><div class=\"sk-item\"><div class=\"sk-estimator sk-toggleable\"><input class=\"sk-toggleable__control sk-hidden--visually\" id=\"sk-estimator-id-51\" type=\"checkbox\" ><label for=\"sk-estimator-id-51\" class=\"sk-toggleable__label sk-toggleable__label-arrow\">SelectKBest</label><div class=\"sk-toggleable__content\"><pre>SelectKBest(k=20, score_func=&lt;function chi2 at 0x133cea830&gt;)</pre></div></div></div></div></div><div class=\"sk-item\"><div class=\"sk-estimator sk-toggleable\"><input class=\"sk-toggleable__control sk-hidden--visually\" id=\"sk-estimator-id-52\" type=\"checkbox\" ><label for=\"sk-estimator-id-52\" class=\"sk-toggleable__label sk-toggleable__label-arrow\">LogisticRegression</label><div class=\"sk-toggleable__content\"><pre>LogisticRegression(max_iter=1000, penalty=&#x27;none&#x27;, random_state=14,\n",
       "                   solver=&#x27;liblinear&#x27;, tol=1e-08)</pre></div></div></div></div></div></div></div></div></div></div></div></div>"
      ],
      "text/plain": [
       "GridSearchCV(cv=StratifiedKFold(n_splits=8, random_state=20220914, shuffle=True),\n",
       "             estimator=Pipeline(steps=[('data',\n",
       "                                        Pipeline(steps=[('preprocess',\n",
       "                                                         ColumnTransformer(transformers=[('category',\n",
       "                                                                                          OneHotEncoder(drop='first',\n",
       "                                                                                                        handle_unknown='ignore'),\n",
       "                                                                                          [('Info',\n",
       "                                                                                            'League'),\n",
       "                                                                                           ('Info',\n",
       "                                                                                            'Year'),\n",
       "                                                                                           ('Info',\n",
       "                                                                                            'Season'),\n",
       "                                                                                           ('Info',\n",
       "                                                                                            'GameType'),\n",
       "                                                                                           ('Blue',\n",
       "                                                                                            'Top'),\n",
       "                                                                                           ('Blue',\n",
       "                                                                                            'TopChamp'),\n",
       "                                                                                           ('B...\n",
       "                                                                                            'min_15'),\n",
       "                                                                                           ('goldblueADC',\n",
       "                                                                                            'min_20'),\n",
       "                                                                                           ('goldblueSupport',\n",
       "                                                                                            'min_5'), ...])])),\n",
       "                                                        ('filter',\n",
       "                                                         SelectKBest(k=20,\n",
       "                                                                     score_func=<function chi2 at 0x133cea830>))])),\n",
       "                                       ('model',\n",
       "                                        LogisticRegression(max_iter=1000,\n",
       "                                                           penalty='none',\n",
       "                                                           random_state=14,\n",
       "                                                           solver='liblinear',\n",
       "                                                           tol=1e-08))]),\n",
       "             param_grid={'model__C': array([1.e-04, 1.e-03, 1.e-02, 1.e-01, 1.e+00]),\n",
       "                         'model__penalty': ['l2', 'l1']},\n",
       "             verbose=2)"
      ]
     },
     "execution_count": 97,
     "metadata": {},
     "output_type": "execute_result"
    }
   ],
   "source": [
    "grid_search.fit(X_train, y_train)"
   ]
  },
  {
   "cell_type": "code",
   "execution_count": 98,
   "id": "338fa3a1-0828-4eac-91f9-ec0210eb8d7a",
   "metadata": {
    "tags": []
   },
   "outputs": [],
   "source": [
    "params = grid_search.cv_results_['params']\n",
    "scores = grid_search.cv_results_['mean_test_score']"
   ]
  },
  {
   "cell_type": "code",
   "execution_count": 99,
   "id": "828abe15-450e-4942-a128-2560b20ef25d",
   "metadata": {},
   "outputs": [],
   "source": [
    "rows = [dict(param_dict, score=score) for param_dict, score in zip(params, scores)]"
   ]
  },
  {
   "cell_type": "code",
   "execution_count": 100,
   "id": "88e36357-8b18-4553-92ad-479726c41e9e",
   "metadata": {},
   "outputs": [
    {
     "data": {
      "text/plain": [
       "[{'model__C': 0.0001, 'model__penalty': 'l2', 'score': 0.5443747538366626},\n",
       " {'model__C': 0.0001, 'model__penalty': 'l1', 'score': 0.5442098461849475},\n",
       " {'model__C': 0.001, 'model__penalty': 'l2', 'score': 0.5945249788255961},\n",
       " {'model__C': 0.001, 'model__penalty': 'l1', 'score': 0.5442098461849475},\n",
       " {'model__C': 0.01, 'model__penalty': 'l2', 'score': 0.7451346796652527},\n",
       " {'model__C': 0.01, 'model__penalty': 'l1', 'score': 0.7033964876630777},\n",
       " {'model__C': 0.1, 'model__penalty': 'l2', 'score': 0.7637738190259425},\n",
       " {'model__C': 0.1, 'model__penalty': 'l1', 'score': 0.7641029807983883},\n",
       " {'model__C': 1.0, 'model__penalty': 'l2', 'score': 0.7650917731776942},\n",
       " {'model__C': 1.0, 'model__penalty': 'l1', 'score': 0.7636065150939515}]"
      ]
     },
     "execution_count": 100,
     "metadata": {},
     "output_type": "execute_result"
    }
   ],
   "source": [
    "rows"
   ]
  },
  {
   "cell_type": "code",
   "execution_count": 101,
   "id": "91c9893d-e6d4-450e-bb4c-ea90f69dc8f6",
   "metadata": {},
   "outputs": [
    {
     "data": {
      "text/html": [
       "<div>\n",
       "<style scoped>\n",
       "    .dataframe tbody tr th:only-of-type {\n",
       "        vertical-align: middle;\n",
       "    }\n",
       "\n",
       "    .dataframe tbody tr th {\n",
       "        vertical-align: top;\n",
       "    }\n",
       "\n",
       "    .dataframe thead th {\n",
       "        text-align: right;\n",
       "    }\n",
       "</style>\n",
       "<table border=\"1\" class=\"dataframe\">\n",
       "  <thead>\n",
       "    <tr style=\"text-align: right;\">\n",
       "      <th></th>\n",
       "      <th>Reg. Strength</th>\n",
       "      <th>Reg. Type</th>\n",
       "      <th>Accuracy</th>\n",
       "    </tr>\n",
       "  </thead>\n",
       "  <tbody>\n",
       "    <tr>\n",
       "      <th>0</th>\n",
       "      <td>0.0001</td>\n",
       "      <td>l2</td>\n",
       "      <td>0.544375</td>\n",
       "    </tr>\n",
       "    <tr>\n",
       "      <th>1</th>\n",
       "      <td>0.0001</td>\n",
       "      <td>l1</td>\n",
       "      <td>0.544210</td>\n",
       "    </tr>\n",
       "    <tr>\n",
       "      <th>2</th>\n",
       "      <td>0.0010</td>\n",
       "      <td>l2</td>\n",
       "      <td>0.594525</td>\n",
       "    </tr>\n",
       "    <tr>\n",
       "      <th>3</th>\n",
       "      <td>0.0010</td>\n",
       "      <td>l1</td>\n",
       "      <td>0.544210</td>\n",
       "    </tr>\n",
       "    <tr>\n",
       "      <th>4</th>\n",
       "      <td>0.0100</td>\n",
       "      <td>l2</td>\n",
       "      <td>0.745135</td>\n",
       "    </tr>\n",
       "    <tr>\n",
       "      <th>5</th>\n",
       "      <td>0.0100</td>\n",
       "      <td>l1</td>\n",
       "      <td>0.703396</td>\n",
       "    </tr>\n",
       "    <tr>\n",
       "      <th>6</th>\n",
       "      <td>0.1000</td>\n",
       "      <td>l2</td>\n",
       "      <td>0.763774</td>\n",
       "    </tr>\n",
       "    <tr>\n",
       "      <th>7</th>\n",
       "      <td>0.1000</td>\n",
       "      <td>l1</td>\n",
       "      <td>0.764103</td>\n",
       "    </tr>\n",
       "    <tr>\n",
       "      <th>8</th>\n",
       "      <td>1.0000</td>\n",
       "      <td>l2</td>\n",
       "      <td>0.765092</td>\n",
       "    </tr>\n",
       "    <tr>\n",
       "      <th>9</th>\n",
       "      <td>1.0000</td>\n",
       "      <td>l1</td>\n",
       "      <td>0.763607</td>\n",
       "    </tr>\n",
       "  </tbody>\n",
       "</table>\n",
       "</div>"
      ],
      "text/plain": [
       "   Reg. Strength Reg. Type  Accuracy\n",
       "0         0.0001        l2  0.544375\n",
       "1         0.0001        l1  0.544210\n",
       "2         0.0010        l2  0.594525\n",
       "3         0.0010        l1  0.544210\n",
       "4         0.0100        l2  0.745135\n",
       "5         0.0100        l1  0.703396\n",
       "6         0.1000        l2  0.763774\n",
       "7         0.1000        l1  0.764103\n",
       "8         1.0000        l2  0.765092\n",
       "9         1.0000        l1  0.763607"
      ]
     },
     "execution_count": 101,
     "metadata": {},
     "output_type": "execute_result"
    }
   ],
   "source": [
    "results_df = pd.DataFrame(rows)\n",
    "results_df.columns = ['Reg. Strength', 'Reg. Type', 'Accuracy']\n",
    "results_df"
   ]
  },
  {
   "cell_type": "code",
   "execution_count": 102,
   "id": "07fd30da-8977-4b25-a37e-1af4cd7798c7",
   "metadata": {},
   "outputs": [
    {
     "data": {
      "image/png": "[encoded data removed]",
      "text/plain": [
       "<Figure size 800x600 with 1 Axes>"
      ]
     },
     "metadata": {},
     "output_type": "display_data"
    }
   ],
   "source": [
    "sb.set(rc={\"figure.figsize\":(8, 6)})\n",
    "LR_Grid_plot = sb.lineplot(data=results_df, x='Reg. Strength', y='Accuracy', hue='Reg. Type', marker='o')\n",
    "LR_Grid_plot.set(xscale='log',title = 'Logistics Regression Model Parameters')\n",
    "LR_Grid_plot.get_figure().savefig('../plots/LR_Grid_plot.png')"
   ]
  },
  {
   "cell_type": "markdown",
   "id": "e2771dfe-06a5-4ca6-a3a8-f6709494b0a1",
   "metadata": {},
   "source": [
    "Best model is:\n",
    "\n",
    "$penalty = L1$\n",
    "\n",
    "$C = 1$"
   ]
  },
  {
   "cell_type": "code",
   "execution_count": 103,
   "id": "31a807fb-57a6-459c-ac8c-d6624fe0a491",
   "metadata": {},
   "outputs": [],
   "source": [
    "LR_model = LogisticRegression(max_iter=1000, random_state=14, tol=1.0e-08, \n",
    "                              penalty = 'l1', C = 1, solver='liblinear')"
   ]
  },
  {
   "cell_type": "code",
   "execution_count": 104,
   "id": "0f6fc3ee-7f04-428d-80d1-5154555c82f5",
   "metadata": {},
   "outputs": [],
   "source": [
    "pipe = Pipeline(steps=[('data',data_pipe), ('model', LR_model)])"
   ]
  },
  {
   "cell_type": "code",
   "execution_count": 105,
   "id": "b5c6f226-7929-4a95-b133-0d59ba0e927c",
   "metadata": {
    "scrolled": true,
    "tags": []
   },
   "outputs": [
    {
     "data": {
      "text/html": [
       "<style>#sk-container-id-7 {color: black;background-color: white;}#sk-container-id-7 pre{padding: 0;}#sk-container-id-7 div.sk-toggleable {background-color: white;}#sk-container-id-7 label.sk-toggleable__label {cursor: pointer;display: block;width: 100%;margin-bottom: 0;padding: 0.3em;box-sizing: border-box;text-align: center;}#sk-container-id-7 label.sk-toggleable__label-arrow:before {content: \"▸\";float: left;margin-right: 0.25em;color: #696969;}#sk-container-id-7 label.sk-toggleable__label-arrow:hover:before {color: black;}#sk-container-id-7 div.sk-estimator:hover label.sk-toggleable__label-arrow:before {color: black;}#sk-container-id-7 div.sk-toggleable__content {max-height: 0;max-width: 0;overflow: hidden;text-align: left;background-color: #f0f8ff;}#sk-container-id-7 div.sk-toggleable__content pre {margin: 0.2em;color: black;border-radius: 0.25em;background-color: #f0f8ff;}#sk-container-id-7 input.sk-toggleable__control:checked~div.sk-toggleable__content {max-height: 200px;max-width: 100%;overflow: auto;}#sk-container-id-7 input.sk-toggleable__control:checked~label.sk-toggleable__label-arrow:before {content: \"▾\";}#sk-container-id-7 div.sk-estimator input.sk-toggleable__control:checked~label.sk-toggleable__label {background-color: #d4ebff;}#sk-container-id-7 div.sk-label input.sk-toggleable__control:checked~label.sk-toggleable__label {background-color: #d4ebff;}#sk-container-id-7 input.sk-hidden--visually {border: 0;clip: rect(1px 1px 1px 1px);clip: rect(1px, 1px, 1px, 1px);height: 1px;margin: -1px;overflow: hidden;padding: 0;position: absolute;width: 1px;}#sk-container-id-7 div.sk-estimator {font-family: monospace;background-color: #f0f8ff;border: 1px dotted black;border-radius: 0.25em;box-sizing: border-box;margin-bottom: 0.5em;}#sk-container-id-7 div.sk-estimator:hover {background-color: #d4ebff;}#sk-container-id-7 div.sk-parallel-item::after {content: \"\";width: 100%;border-bottom: 1px solid gray;flex-grow: 1;}#sk-container-id-7 div.sk-label:hover label.sk-toggleable__label {background-color: #d4ebff;}#sk-container-id-7 div.sk-serial::before {content: \"\";position: absolute;border-left: 1px solid gray;box-sizing: border-box;top: 0;bottom: 0;left: 50%;z-index: 0;}#sk-container-id-7 div.sk-serial {display: flex;flex-direction: column;align-items: center;background-color: white;padding-right: 0.2em;padding-left: 0.2em;position: relative;}#sk-container-id-7 div.sk-item {position: relative;z-index: 1;}#sk-container-id-7 div.sk-parallel {display: flex;align-items: stretch;justify-content: center;background-color: white;position: relative;}#sk-container-id-7 div.sk-item::before, #sk-container-id-7 div.sk-parallel-item::before {content: \"\";position: absolute;border-left: 1px solid gray;box-sizing: border-box;top: 0;bottom: 0;left: 50%;z-index: -1;}#sk-container-id-7 div.sk-parallel-item {display: flex;flex-direction: column;z-index: 1;position: relative;background-color: white;}#sk-container-id-7 div.sk-parallel-item:first-child::after {align-self: flex-end;width: 50%;}#sk-container-id-7 div.sk-parallel-item:last-child::after {align-self: flex-start;width: 50%;}#sk-container-id-7 div.sk-parallel-item:only-child::after {width: 0;}#sk-container-id-7 div.sk-dashed-wrapped {border: 1px dashed gray;margin: 0 0.4em 0.5em 0.4em;box-sizing: border-box;padding-bottom: 0.4em;background-color: white;}#sk-container-id-7 div.sk-label label {font-family: monospace;font-weight: bold;display: inline-block;line-height: 1.2em;}#sk-container-id-7 div.sk-label-container {text-align: center;}#sk-container-id-7 div.sk-container {/* jupyter's `normalize.less` sets `[hidden] { display: none; }` but bootstrap.min.css set `[hidden] { display: none !important; }` so we also need the `!important` here to be able to override the default hidden behavior on the sphinx rendered scikit-learn.org. See: https://github.com/scikit-learn/scikit-learn/issues/21755 */display: inline-block !important;position: relative;}#sk-container-id-7 div.sk-text-repr-fallback {display: none;}</style><div id=\"sk-container-id-7\" class=\"sk-top-container\"><div class=\"sk-text-repr-fallback\"><pre>Pipeline(steps=[(&#x27;data&#x27;,\n",
       "                 Pipeline(steps=[(&#x27;preprocess&#x27;,\n",
       "                                  ColumnTransformer(transformers=[(&#x27;category&#x27;,\n",
       "                                                                   OneHotEncoder(drop=&#x27;first&#x27;,\n",
       "                                                                                 handle_unknown=&#x27;ignore&#x27;),\n",
       "                                                                   [(&#x27;Info&#x27;,\n",
       "                                                                     &#x27;League&#x27;),\n",
       "                                                                    (&#x27;Info&#x27;,\n",
       "                                                                     &#x27;Year&#x27;),\n",
       "                                                                    (&#x27;Info&#x27;,\n",
       "                                                                     &#x27;Season&#x27;),\n",
       "                                                                    (&#x27;Info&#x27;,\n",
       "                                                                     &#x27;GameType&#x27;),\n",
       "                                                                    (&#x27;Blue&#x27;,\n",
       "                                                                     &#x27;Top&#x27;),\n",
       "                                                                    (&#x27;Blue&#x27;,\n",
       "                                                                     &#x27;TopChamp&#x27;),\n",
       "                                                                    (&#x27;Blue&#x27;,\n",
       "                                                                     &#x27;Jungle&#x27;),\n",
       "                                                                    (&#x27;Blue&#x27;,\n",
       "                                                                     &#x27;JungleChamp&#x27;),\n",
       "                                                                    (&#x27;Blue&#x27;,\n",
       "                                                                     &#x27;Middle&#x27;),\n",
       "                                                                    (&#x27;Blue&#x27;,\n",
       "                                                                     &#x27;MiddleChamp&#x27;),\n",
       "                                                                    (&#x27;Blue&#x27;,\n",
       "                                                                     &#x27;A...\n",
       "                                                                     &#x27;min_15&#x27;),\n",
       "                                                                    (&#x27;goldblueMiddle&#x27;,\n",
       "                                                                     &#x27;min_20&#x27;),\n",
       "                                                                    (&#x27;goldblueADC&#x27;,\n",
       "                                                                     &#x27;min_5&#x27;),\n",
       "                                                                    (&#x27;goldblueADC&#x27;,\n",
       "                                                                     &#x27;min_10&#x27;),\n",
       "                                                                    (&#x27;goldblueADC&#x27;,\n",
       "                                                                     &#x27;min_15&#x27;),\n",
       "                                                                    (&#x27;goldblueADC&#x27;,\n",
       "                                                                     &#x27;min_20&#x27;),\n",
       "                                                                    (&#x27;goldblueSupport&#x27;,\n",
       "                                                                     &#x27;min_5&#x27;), ...])])),\n",
       "                                 (&#x27;filter&#x27;,\n",
       "                                  SelectKBest(k=20,\n",
       "                                              score_func=&lt;function chi2 at 0x133cea830&gt;))])),\n",
       "                (&#x27;model&#x27;,\n",
       "                 LogisticRegression(C=1, max_iter=1000, penalty=&#x27;l1&#x27;,\n",
       "                                    random_state=14, solver=&#x27;liblinear&#x27;,\n",
       "                                    tol=1e-08))])</pre><b>In a Jupyter environment, please rerun this cell to show the HTML representation or trust the notebook. <br />On GitHub, the HTML representation is unable to render, please try loading this page with nbviewer.org.</b></div><div class=\"sk-container\" hidden><div class=\"sk-item sk-dashed-wrapped\"><div class=\"sk-label-container\"><div class=\"sk-label sk-toggleable\"><input class=\"sk-toggleable__control sk-hidden--visually\" id=\"sk-estimator-id-53\" type=\"checkbox\" ><label for=\"sk-estimator-id-53\" class=\"sk-toggleable__label sk-toggleable__label-arrow\">Pipeline</label><div class=\"sk-toggleable__content\"><pre>Pipeline(steps=[(&#x27;data&#x27;,\n",
       "                 Pipeline(steps=[(&#x27;preprocess&#x27;,\n",
       "                                  ColumnTransformer(transformers=[(&#x27;category&#x27;,\n",
       "                                                                   OneHotEncoder(drop=&#x27;first&#x27;,\n",
       "                                                                                 handle_unknown=&#x27;ignore&#x27;),\n",
       "                                                                   [(&#x27;Info&#x27;,\n",
       "                                                                     &#x27;League&#x27;),\n",
       "                                                                    (&#x27;Info&#x27;,\n",
       "                                                                     &#x27;Year&#x27;),\n",
       "                                                                    (&#x27;Info&#x27;,\n",
       "                                                                     &#x27;Season&#x27;),\n",
       "                                                                    (&#x27;Info&#x27;,\n",
       "                                                                     &#x27;GameType&#x27;),\n",
       "                                                                    (&#x27;Blue&#x27;,\n",
       "                                                                     &#x27;Top&#x27;),\n",
       "                                                                    (&#x27;Blue&#x27;,\n",
       "                                                                     &#x27;TopChamp&#x27;),\n",
       "                                                                    (&#x27;Blue&#x27;,\n",
       "                                                                     &#x27;Jungle&#x27;),\n",
       "                                                                    (&#x27;Blue&#x27;,\n",
       "                                                                     &#x27;JungleChamp&#x27;),\n",
       "                                                                    (&#x27;Blue&#x27;,\n",
       "                                                                     &#x27;Middle&#x27;),\n",
       "                                                                    (&#x27;Blue&#x27;,\n",
       "                                                                     &#x27;MiddleChamp&#x27;),\n",
       "                                                                    (&#x27;Blue&#x27;,\n",
       "                                                                     &#x27;A...\n",
       "                                                                     &#x27;min_15&#x27;),\n",
       "                                                                    (&#x27;goldblueMiddle&#x27;,\n",
       "                                                                     &#x27;min_20&#x27;),\n",
       "                                                                    (&#x27;goldblueADC&#x27;,\n",
       "                                                                     &#x27;min_5&#x27;),\n",
       "                                                                    (&#x27;goldblueADC&#x27;,\n",
       "                                                                     &#x27;min_10&#x27;),\n",
       "                                                                    (&#x27;goldblueADC&#x27;,\n",
       "                                                                     &#x27;min_15&#x27;),\n",
       "                                                                    (&#x27;goldblueADC&#x27;,\n",
       "                                                                     &#x27;min_20&#x27;),\n",
       "                                                                    (&#x27;goldblueSupport&#x27;,\n",
       "                                                                     &#x27;min_5&#x27;), ...])])),\n",
       "                                 (&#x27;filter&#x27;,\n",
       "                                  SelectKBest(k=20,\n",
       "                                              score_func=&lt;function chi2 at 0x133cea830&gt;))])),\n",
       "                (&#x27;model&#x27;,\n",
       "                 LogisticRegression(C=1, max_iter=1000, penalty=&#x27;l1&#x27;,\n",
       "                                    random_state=14, solver=&#x27;liblinear&#x27;,\n",
       "                                    tol=1e-08))])</pre></div></div></div><div class=\"sk-serial\"><div class=\"sk-item\"><div class=\"sk-label-container\"><div class=\"sk-label sk-toggleable\"><input class=\"sk-toggleable__control sk-hidden--visually\" id=\"sk-estimator-id-54\" type=\"checkbox\" ><label for=\"sk-estimator-id-54\" class=\"sk-toggleable__label sk-toggleable__label-arrow\">data: Pipeline</label><div class=\"sk-toggleable__content\"><pre>Pipeline(steps=[(&#x27;preprocess&#x27;,\n",
       "                 ColumnTransformer(transformers=[(&#x27;category&#x27;,\n",
       "                                                  OneHotEncoder(drop=&#x27;first&#x27;,\n",
       "                                                                handle_unknown=&#x27;ignore&#x27;),\n",
       "                                                  [(&#x27;Info&#x27;, &#x27;League&#x27;),\n",
       "                                                   (&#x27;Info&#x27;, &#x27;Year&#x27;),\n",
       "                                                   (&#x27;Info&#x27;, &#x27;Season&#x27;),\n",
       "                                                   (&#x27;Info&#x27;, &#x27;GameType&#x27;),\n",
       "                                                   (&#x27;Blue&#x27;, &#x27;Top&#x27;),\n",
       "                                                   (&#x27;Blue&#x27;, &#x27;TopChamp&#x27;),\n",
       "                                                   (&#x27;Blue&#x27;, &#x27;Jungle&#x27;),\n",
       "                                                   (&#x27;Blue&#x27;, &#x27;JungleChamp&#x27;),\n",
       "                                                   (&#x27;Blue&#x27;, &#x27;Middle&#x27;),\n",
       "                                                   (&#x27;Blue&#x27;, &#x27;MiddleChamp&#x27;),\n",
       "                                                   (&#x27;Blue&#x27;, &#x27;ADC&#x27;),\n",
       "                                                   (&#x27;Blue&#x27;, &#x27;ADCChamp&#x27;)...\n",
       "                                                   (&#x27;goldblueJungle&#x27;, &#x27;min_15&#x27;),\n",
       "                                                   (&#x27;goldblueJungle&#x27;, &#x27;min_20&#x27;),\n",
       "                                                   (&#x27;goldblueMiddle&#x27;, &#x27;min_5&#x27;),\n",
       "                                                   (&#x27;goldblueMiddle&#x27;, &#x27;min_10&#x27;),\n",
       "                                                   (&#x27;goldblueMiddle&#x27;, &#x27;min_15&#x27;),\n",
       "                                                   (&#x27;goldblueMiddle&#x27;, &#x27;min_20&#x27;),\n",
       "                                                   (&#x27;goldblueADC&#x27;, &#x27;min_5&#x27;),\n",
       "                                                   (&#x27;goldblueADC&#x27;, &#x27;min_10&#x27;),\n",
       "                                                   (&#x27;goldblueADC&#x27;, &#x27;min_15&#x27;),\n",
       "                                                   (&#x27;goldblueADC&#x27;, &#x27;min_20&#x27;),\n",
       "                                                   (&#x27;goldblueSupport&#x27;, &#x27;min_5&#x27;), ...])])),\n",
       "                (&#x27;filter&#x27;,\n",
       "                 SelectKBest(k=20, score_func=&lt;function chi2 at 0x133cea830&gt;))])</pre></div></div></div><div class=\"sk-serial\"><div class=\"sk-item sk-dashed-wrapped\"><div class=\"sk-label-container\"><div class=\"sk-label sk-toggleable\"><input class=\"sk-toggleable__control sk-hidden--visually\" id=\"sk-estimator-id-55\" type=\"checkbox\" ><label for=\"sk-estimator-id-55\" class=\"sk-toggleable__label sk-toggleable__label-arrow\">preprocess: ColumnTransformer</label><div class=\"sk-toggleable__content\"><pre>ColumnTransformer(transformers=[(&#x27;category&#x27;,\n",
       "                                 OneHotEncoder(drop=&#x27;first&#x27;,\n",
       "                                               handle_unknown=&#x27;ignore&#x27;),\n",
       "                                 [(&#x27;Info&#x27;, &#x27;League&#x27;), (&#x27;Info&#x27;, &#x27;Year&#x27;),\n",
       "                                  (&#x27;Info&#x27;, &#x27;Season&#x27;), (&#x27;Info&#x27;, &#x27;GameType&#x27;),\n",
       "                                  (&#x27;Blue&#x27;, &#x27;Top&#x27;), (&#x27;Blue&#x27;, &#x27;TopChamp&#x27;),\n",
       "                                  (&#x27;Blue&#x27;, &#x27;Jungle&#x27;), (&#x27;Blue&#x27;, &#x27;JungleChamp&#x27;),\n",
       "                                  (&#x27;Blue&#x27;, &#x27;Middle&#x27;), (&#x27;Blue&#x27;, &#x27;MiddleChamp&#x27;),\n",
       "                                  (&#x27;Blue&#x27;, &#x27;ADC&#x27;), (&#x27;Blue&#x27;, &#x27;ADCChamp&#x27;),\n",
       "                                  (&#x27;Blue&#x27;, &#x27;Support&#x27;), (&#x27;Blue&#x27;, &#x27;S...\n",
       "                                  (&#x27;goldblueJungle&#x27;, &#x27;min_5&#x27;),\n",
       "                                  (&#x27;goldblueJungle&#x27;, &#x27;min_10&#x27;),\n",
       "                                  (&#x27;goldblueJungle&#x27;, &#x27;min_15&#x27;),\n",
       "                                  (&#x27;goldblueJungle&#x27;, &#x27;min_20&#x27;),\n",
       "                                  (&#x27;goldblueMiddle&#x27;, &#x27;min_5&#x27;),\n",
       "                                  (&#x27;goldblueMiddle&#x27;, &#x27;min_10&#x27;),\n",
       "                                  (&#x27;goldblueMiddle&#x27;, &#x27;min_15&#x27;),\n",
       "                                  (&#x27;goldblueMiddle&#x27;, &#x27;min_20&#x27;),\n",
       "                                  (&#x27;goldblueADC&#x27;, &#x27;min_5&#x27;),\n",
       "                                  (&#x27;goldblueADC&#x27;, &#x27;min_10&#x27;),\n",
       "                                  (&#x27;goldblueADC&#x27;, &#x27;min_15&#x27;),\n",
       "                                  (&#x27;goldblueADC&#x27;, &#x27;min_20&#x27;),\n",
       "                                  (&#x27;goldblueSupport&#x27;, &#x27;min_5&#x27;), ...])])</pre></div></div></div><div class=\"sk-parallel\"><div class=\"sk-parallel-item\"><div class=\"sk-item\"><div class=\"sk-label-container\"><div class=\"sk-label sk-toggleable\"><input class=\"sk-toggleable__control sk-hidden--visually\" id=\"sk-estimator-id-56\" type=\"checkbox\" ><label for=\"sk-estimator-id-56\" class=\"sk-toggleable__label sk-toggleable__label-arrow\">category</label><div class=\"sk-toggleable__content\"><pre>[(&#x27;Info&#x27;, &#x27;League&#x27;), (&#x27;Info&#x27;, &#x27;Year&#x27;), (&#x27;Info&#x27;, &#x27;Season&#x27;), (&#x27;Info&#x27;, &#x27;GameType&#x27;), (&#x27;Blue&#x27;, &#x27;Top&#x27;), (&#x27;Blue&#x27;, &#x27;TopChamp&#x27;), (&#x27;Blue&#x27;, &#x27;Jungle&#x27;), (&#x27;Blue&#x27;, &#x27;JungleChamp&#x27;), (&#x27;Blue&#x27;, &#x27;Middle&#x27;), (&#x27;Blue&#x27;, &#x27;MiddleChamp&#x27;), (&#x27;Blue&#x27;, &#x27;ADC&#x27;), (&#x27;Blue&#x27;, &#x27;ADCChamp&#x27;), (&#x27;Blue&#x27;, &#x27;Support&#x27;), (&#x27;Blue&#x27;, &#x27;SupportChamp&#x27;), (&#x27;Blue&#x27;, &#x27;TeamTag&#x27;), (&#x27;Red&#x27;, &#x27;Top&#x27;), (&#x27;Red&#x27;, &#x27;TopChamp&#x27;), (&#x27;Red&#x27;, &#x27;Jungle&#x27;), (&#x27;Red&#x27;, &#x27;JungleChamp&#x27;), (&#x27;Red&#x27;, &#x27;Middle&#x27;), (&#x27;Red&#x27;, &#x27;MiddleChamp&#x27;), (&#x27;Red&#x27;, &#x27;ADC&#x27;), (&#x27;Red&#x27;, &#x27;ADCChamp&#x27;), (&#x27;Red&#x27;, &#x27;Support&#x27;), (&#x27;Red&#x27;, &#x27;SupportChamp&#x27;), (&#x27;Red&#x27;, &#x27;TeamTag&#x27;), (&#x27;Blue&#x27;, &#x27;ban_1&#x27;), (&#x27;Blue&#x27;, &#x27;ban_2&#x27;), (&#x27;Blue&#x27;, &#x27;ban_3&#x27;), (&#x27;Blue&#x27;, &#x27;ban_4&#x27;), (&#x27;Blue&#x27;, &#x27;ban_5&#x27;), (&#x27;Red&#x27;, &#x27;ban_1&#x27;), (&#x27;Red&#x27;, &#x27;ban_2&#x27;), (&#x27;Red&#x27;, &#x27;ban_3&#x27;), (&#x27;Red&#x27;, &#x27;ban_4&#x27;), (&#x27;Red&#x27;, &#x27;ban_5&#x27;)]</pre></div></div></div><div class=\"sk-serial\"><div class=\"sk-item\"><div class=\"sk-estimator sk-toggleable\"><input class=\"sk-toggleable__control sk-hidden--visually\" id=\"sk-estimator-id-57\" type=\"checkbox\" ><label for=\"sk-estimator-id-57\" class=\"sk-toggleable__label sk-toggleable__label-arrow\">OneHotEncoder</label><div class=\"sk-toggleable__content\"><pre>OneHotEncoder(drop=&#x27;first&#x27;, handle_unknown=&#x27;ignore&#x27;)</pre></div></div></div></div></div></div><div class=\"sk-parallel-item\"><div class=\"sk-item\"><div class=\"sk-label-container\"><div class=\"sk-label sk-toggleable\"><input class=\"sk-toggleable__control sk-hidden--visually\" id=\"sk-estimator-id-58\" type=\"checkbox\" ><label for=\"sk-estimator-id-58\" class=\"sk-toggleable__label sk-toggleable__label-arrow\">numeric</label><div class=\"sk-toggleable__content\"><pre>[(&#x27;Info&#x27;, &#x27;gamelength&#x27;), (&#x27;golddiff&#x27;, &#x27;min_5&#x27;), (&#x27;golddiff&#x27;, &#x27;min_10&#x27;), (&#x27;golddiff&#x27;, &#x27;min_15&#x27;), (&#x27;golddiff&#x27;, &#x27;min_20&#x27;), (&#x27;goldblue&#x27;, &#x27;min_5&#x27;), (&#x27;goldblue&#x27;, &#x27;min_10&#x27;), (&#x27;goldblue&#x27;, &#x27;min_15&#x27;), (&#x27;goldblue&#x27;, &#x27;min_20&#x27;), (&#x27;goldred&#x27;, &#x27;min_5&#x27;), (&#x27;goldred&#x27;, &#x27;min_10&#x27;), (&#x27;goldred&#x27;, &#x27;min_15&#x27;), (&#x27;goldred&#x27;, &#x27;min_20&#x27;), (&#x27;goldblueTop&#x27;, &#x27;min_5&#x27;), (&#x27;goldblueTop&#x27;, &#x27;min_10&#x27;), (&#x27;goldblueTop&#x27;, &#x27;min_15&#x27;), (&#x27;goldblueTop&#x27;, &#x27;min_20&#x27;), (&#x27;goldblueJungle&#x27;, &#x27;min_5&#x27;), (&#x27;goldblueJungle&#x27;, &#x27;min_10&#x27;), (&#x27;goldblueJungle&#x27;, &#x27;min_15&#x27;), (&#x27;goldblueJungle&#x27;, &#x27;min_20&#x27;), (&#x27;goldblueMiddle&#x27;, &#x27;min_5&#x27;), (&#x27;goldblueMiddle&#x27;, &#x27;min_10&#x27;), (&#x27;goldblueMiddle&#x27;, &#x27;min_15&#x27;), (&#x27;goldblueMiddle&#x27;, &#x27;min_20&#x27;), (&#x27;goldblueADC&#x27;, &#x27;min_5&#x27;), (&#x27;goldblueADC&#x27;, &#x27;min_10&#x27;), (&#x27;goldblueADC&#x27;, &#x27;min_15&#x27;), (&#x27;goldblueADC&#x27;, &#x27;min_20&#x27;), (&#x27;goldblueSupport&#x27;, &#x27;min_5&#x27;), (&#x27;goldblueSupport&#x27;, &#x27;min_10&#x27;), (&#x27;goldblueSupport&#x27;, &#x27;min_15&#x27;), (&#x27;goldblueSupport&#x27;, &#x27;min_20&#x27;), (&#x27;goldredTop&#x27;, &#x27;min_5&#x27;), (&#x27;goldredTop&#x27;, &#x27;min_10&#x27;), (&#x27;goldredTop&#x27;, &#x27;min_15&#x27;), (&#x27;goldredTop&#x27;, &#x27;min_20&#x27;), (&#x27;goldredJungle&#x27;, &#x27;min_5&#x27;), (&#x27;goldredJungle&#x27;, &#x27;min_10&#x27;), (&#x27;goldredJungle&#x27;, &#x27;min_15&#x27;), (&#x27;goldredJungle&#x27;, &#x27;min_20&#x27;), (&#x27;goldredMiddle&#x27;, &#x27;min_5&#x27;), (&#x27;goldredMiddle&#x27;, &#x27;min_10&#x27;), (&#x27;goldredMiddle&#x27;, &#x27;min_15&#x27;), (&#x27;goldredMiddle&#x27;, &#x27;min_20&#x27;), (&#x27;goldredADC&#x27;, &#x27;min_5&#x27;), (&#x27;goldredADC&#x27;, &#x27;min_10&#x27;), (&#x27;goldredADC&#x27;, &#x27;min_15&#x27;), (&#x27;goldredADC&#x27;, &#x27;min_20&#x27;), (&#x27;goldredSupport&#x27;, &#x27;min_5&#x27;), (&#x27;goldredSupport&#x27;, &#x27;min_10&#x27;), (&#x27;goldredSupport&#x27;, &#x27;min_15&#x27;), (&#x27;goldredSupport&#x27;, &#x27;min_20&#x27;), (&#x27;Blue&#x27;, &#x27;Towers&#x27;), (&#x27;Red&#x27;, &#x27;Towers&#x27;), (&#x27;Blue&#x27;, &#x27;Inhib&#x27;), (&#x27;Red&#x27;, &#x27;Inhib&#x27;), (&#x27;Blue&#x27;, &#x27;Kills&#x27;), (&#x27;Red&#x27;, &#x27;Kills&#x27;)]</pre></div></div></div><div class=\"sk-serial\"><div class=\"sk-item\"><div class=\"sk-estimator sk-toggleable\"><input class=\"sk-toggleable__control sk-hidden--visually\" id=\"sk-estimator-id-59\" type=\"checkbox\" ><label for=\"sk-estimator-id-59\" class=\"sk-toggleable__label sk-toggleable__label-arrow\">MinMaxScaler</label><div class=\"sk-toggleable__content\"><pre>MinMaxScaler()</pre></div></div></div></div></div></div></div></div><div class=\"sk-item\"><div class=\"sk-estimator sk-toggleable\"><input class=\"sk-toggleable__control sk-hidden--visually\" id=\"sk-estimator-id-60\" type=\"checkbox\" ><label for=\"sk-estimator-id-60\" class=\"sk-toggleable__label sk-toggleable__label-arrow\">SelectKBest</label><div class=\"sk-toggleable__content\"><pre>SelectKBest(k=20, score_func=&lt;function chi2 at 0x133cea830&gt;)</pre></div></div></div></div></div><div class=\"sk-item\"><div class=\"sk-estimator sk-toggleable\"><input class=\"sk-toggleable__control sk-hidden--visually\" id=\"sk-estimator-id-61\" type=\"checkbox\" ><label for=\"sk-estimator-id-61\" class=\"sk-toggleable__label sk-toggleable__label-arrow\">LogisticRegression</label><div class=\"sk-toggleable__content\"><pre>LogisticRegression(C=1, max_iter=1000, penalty=&#x27;l1&#x27;, random_state=14,\n",
       "                   solver=&#x27;liblinear&#x27;, tol=1e-08)</pre></div></div></div></div></div></div></div>"
      ],
      "text/plain": [
       "Pipeline(steps=[('data',\n",
       "                 Pipeline(steps=[('preprocess',\n",
       "                                  ColumnTransformer(transformers=[('category',\n",
       "                                                                   OneHotEncoder(drop='first',\n",
       "                                                                                 handle_unknown='ignore'),\n",
       "                                                                   [('Info',\n",
       "                                                                     'League'),\n",
       "                                                                    ('Info',\n",
       "                                                                     'Year'),\n",
       "                                                                    ('Info',\n",
       "                                                                     'Season'),\n",
       "                                                                    ('Info',\n",
       "                                                                     'GameType'),\n",
       "                                                                    ('Blue',\n",
       "                                                                     'Top'),\n",
       "                                                                    ('Blue',\n",
       "                                                                     'TopChamp'),\n",
       "                                                                    ('Blue',\n",
       "                                                                     'Jungle'),\n",
       "                                                                    ('Blue',\n",
       "                                                                     'JungleChamp'),\n",
       "                                                                    ('Blue',\n",
       "                                                                     'Middle'),\n",
       "                                                                    ('Blue',\n",
       "                                                                     'MiddleChamp'),\n",
       "                                                                    ('Blue',\n",
       "                                                                     'A...\n",
       "                                                                     'min_15'),\n",
       "                                                                    ('goldblueMiddle',\n",
       "                                                                     'min_20'),\n",
       "                                                                    ('goldblueADC',\n",
       "                                                                     'min_5'),\n",
       "                                                                    ('goldblueADC',\n",
       "                                                                     'min_10'),\n",
       "                                                                    ('goldblueADC',\n",
       "                                                                     'min_15'),\n",
       "                                                                    ('goldblueADC',\n",
       "                                                                     'min_20'),\n",
       "                                                                    ('goldblueSupport',\n",
       "                                                                     'min_5'), ...])])),\n",
       "                                 ('filter',\n",
       "                                  SelectKBest(k=20,\n",
       "                                              score_func=<function chi2 at 0x133cea830>))])),\n",
       "                ('model',\n",
       "                 LogisticRegression(C=1, max_iter=1000, penalty='l1',\n",
       "                                    random_state=14, solver='liblinear',\n",
       "                                    tol=1e-08))])"
      ]
     },
     "execution_count": 105,
     "metadata": {},
     "output_type": "execute_result"
    }
   ],
   "source": [
    "pipe.fit(X_train, y_train)"
   ]
  },
  {
   "cell_type": "code",
   "execution_count": 106,
   "id": "4ba4cc10-612f-4dd1-9881-490d99464b82",
   "metadata": {
    "tags": []
   },
   "outputs": [
    {
     "name": "stdout",
     "output_type": "stream",
     "text": [
      "Train accuracy 0.768\tTest accuracy 0.784\n"
     ]
    },
    {
     "name": "stderr",
     "output_type": "stream",
     "text": [
      "/Library/Frameworks/Python.framework/Versions/3.10/lib/python3.10/site-packages/sklearn/preprocessing/_encoders.py:188: UserWarning: Found unknown categories in columns [4, 5, 6, 7, 8, 9, 10, 11, 12, 13, 14, 15, 16, 17, 18, 19, 20, 21, 22, 23, 24, 25, 26, 28, 29, 30, 32, 33, 34, 35] during transform. These unknown categories will be encoded as all zeros\n",
      "  warnings.warn(\n"
     ]
    }
   ],
   "source": [
    "LR_acc = util.print_accuracies(pipe, X_train, y_train, X_test, y_test)"
   ]
  },
  {
   "cell_type": "code",
   "execution_count": 107,
   "id": "6ccda6a5-39b3-4aa1-a149-888d0a181819",
   "metadata": {
    "scrolled": true
   },
   "outputs": [
    {
     "name": "stderr",
     "output_type": "stream",
     "text": [
      "/Library/Frameworks/Python.framework/Versions/3.10/lib/python3.10/site-packages/sklearn/preprocessing/_encoders.py:188: UserWarning: Found unknown categories in columns [4, 5, 6, 7, 8, 9, 10, 11, 12, 14, 15, 16, 17, 18, 19, 20, 21, 22, 23, 24, 25, 27, 28, 29, 30, 31, 34, 35] during transform. These unknown categories will be encoded as all zeros\n",
      "  warnings.warn(\n",
      "/Library/Frameworks/Python.framework/Versions/3.10/lib/python3.10/site-packages/sklearn/preprocessing/_encoders.py:188: UserWarning: Found unknown categories in columns [4, 5, 6, 7, 8, 9, 10, 12, 13, 14, 15, 16, 17, 18, 19, 20, 21, 22, 23, 24, 25, 26, 28, 29, 30, 31, 32, 33, 34, 35] during transform. These unknown categories will be encoded as all zeros\n",
      "  warnings.warn(\n",
      "/Library/Frameworks/Python.framework/Versions/3.10/lib/python3.10/site-packages/sklearn/preprocessing/_encoders.py:188: UserWarning: Found unknown categories in columns [4, 5, 6, 7, 8, 9, 10, 12, 13, 14, 15, 16, 17, 18, 19, 20, 21, 23, 24, 25, 26, 29, 30, 31, 32, 33, 34, 35] during transform. These unknown categories will be encoded as all zeros\n",
      "  warnings.warn(\n",
      "/Library/Frameworks/Python.framework/Versions/3.10/lib/python3.10/site-packages/sklearn/preprocessing/_encoders.py:188: UserWarning: Found unknown categories in columns [4, 5, 6, 7, 8, 10, 11, 12, 13, 14, 15, 16, 17, 18, 19, 20, 21, 22, 23, 24, 26, 27, 28, 29, 30, 31, 33, 34, 35] during transform. These unknown categories will be encoded as all zeros\n",
      "  warnings.warn(\n",
      "/Library/Frameworks/Python.framework/Versions/3.10/lib/python3.10/site-packages/sklearn/preprocessing/_encoders.py:188: UserWarning: Found unknown categories in columns [4, 5, 6, 7, 8, 9, 10, 11, 12, 13, 14, 15, 16, 17, 18, 19, 20, 21, 23, 24, 25, 26, 28, 29, 30, 31, 33, 34, 35] during transform. These unknown categories will be encoded as all zeros\n",
      "  warnings.warn(\n",
      "/Library/Frameworks/Python.framework/Versions/3.10/lib/python3.10/site-packages/sklearn/preprocessing/_encoders.py:188: UserWarning: Found unknown categories in columns [4, 6, 7, 8, 9, 10, 11, 12, 13, 14, 15, 16, 17, 19, 20, 21, 23, 24, 25, 26, 28, 32, 33, 34, 35] during transform. These unknown categories will be encoded as all zeros\n",
      "  warnings.warn(\n",
      "/Library/Frameworks/Python.framework/Versions/3.10/lib/python3.10/site-packages/sklearn/preprocessing/_encoders.py:188: UserWarning: Found unknown categories in columns [4, 5, 6, 7, 8, 9, 10, 12, 14, 15, 17, 19, 20, 21, 23, 25, 26, 27, 28, 29, 30, 32, 33, 34, 35] during transform. These unknown categories will be encoded as all zeros\n",
      "  warnings.warn(\n",
      "/Library/Frameworks/Python.framework/Versions/3.10/lib/python3.10/site-packages/sklearn/preprocessing/_encoders.py:188: UserWarning: Found unknown categories in columns [4, 5, 6, 8, 9, 10, 12, 14, 15, 16, 17, 19, 20, 21, 22, 23, 24, 25, 26, 27, 28, 29, 30, 31, 33, 34, 35] during transform. These unknown categories will be encoded as all zeros\n",
      "  warnings.warn(\n"
     ]
    }
   ],
   "source": [
    "skf = StratifiedKFold(n_splits=8, shuffle=True, random_state=20220914)\n",
    "\n",
    "scores = cross_val_score(pipe, X_train, y_train, cv=skf)\n",
    "LRscores = scores"
   ]
  },
  {
   "cell_type": "code",
   "execution_count": 108,
   "id": "c5d241e7-01ae-4606-a638-e166cac9b784",
   "metadata": {},
   "outputs": [
    {
     "data": {
      "text/plain": [
       "([], [])"
      ]
     },
     "execution_count": 108,
     "metadata": {},
     "output_type": "execute_result"
    },
    {
     "data": {
      "image/png": "[encoded data removed]",
      "text/plain": [
       "<Figure size 800x600 with 1 Axes>"
      ]
     },
     "metadata": {},
     "output_type": "display_data"
    }
   ],
   "source": [
    "LR_plot = sb.boxplot(data=scores, width=0.3)\n",
    "\n",
    "LR_plot.set(title = 'Logistics Regression Cross-Validation Scores', ylabel='Accuracy')\n",
    "plt.xticks([], [])\n",
    "\n",
    "#plt.show()"
   ]
  },
  {
   "cell_type": "markdown",
   "id": "2a8d0164-16f5-4c49-ab3a-1cb8b8bb6e49",
   "metadata": {},
   "source": [
    "Feature Selection"
   ]
  },
  {
   "cell_type": "code",
   "execution_count": 64,
   "id": "e05a09a4-51a6-404b-89f1-470b34831a77",
   "metadata": {},
   "outputs": [
    {
     "ename": "TypeError",
     "evalue": "_BaseFilter.fit() missing 1 required positional argument: 'y'",
     "output_type": "error",
     "traceback": [
      "\u001b[0;31m---------------------------------------------------------------------------\u001b[0m",
      "\u001b[0;31mTypeError\u001b[0m                                 Traceback (most recent call last)",
      "Input \u001b[0;32mIn [64]\u001b[0m, in \u001b[0;36m<cell line: 1>\u001b[0;34m()\u001b[0m\n\u001b[0;32m----> 1\u001b[0m X_train_xform \u001b[38;5;241m=\u001b[39m \u001b[43mdata_pipe\u001b[49m\u001b[38;5;241;43m.\u001b[39;49m\u001b[43mfit_transform\u001b[49m\u001b[43m(\u001b[49m\u001b[43mX_train\u001b[49m\u001b[43m)\u001b[49m\n\u001b[1;32m      2\u001b[0m LR_model\u001b[38;5;241m.\u001b[39mfit(X_train_xform,y_train)\n\u001b[1;32m      3\u001b[0m rfe \u001b[38;5;241m=\u001b[39m RFE(estimator\u001b[38;5;241m=\u001b[39mLR_model, n_features_to_select\u001b[38;5;241m=\u001b[39m\u001b[38;5;241m20\u001b[39m, step\u001b[38;5;241m=\u001b[39m\u001b[38;5;241m1\u001b[39m, verbose\u001b[38;5;241m=\u001b[39m\u001b[38;5;241m2\u001b[39m)\n",
      "File \u001b[0;32m/Library/Frameworks/Python.framework/Versions/3.10/lib/python3.10/site-packages/sklearn/pipeline.py:422\u001b[0m, in \u001b[0;36mPipeline.fit_transform\u001b[0;34m(self, X, y, **fit_params)\u001b[0m\n\u001b[1;32m    420\u001b[0m fit_params_last_step \u001b[38;5;241m=\u001b[39m fit_params_steps[\u001b[38;5;28mself\u001b[39m\u001b[38;5;241m.\u001b[39msteps[\u001b[38;5;241m-\u001b[39m\u001b[38;5;241m1\u001b[39m][\u001b[38;5;241m0\u001b[39m]]\n\u001b[1;32m    421\u001b[0m \u001b[38;5;28;01mif\u001b[39;00m \u001b[38;5;28mhasattr\u001b[39m(last_step, \u001b[38;5;124m\"\u001b[39m\u001b[38;5;124mfit_transform\u001b[39m\u001b[38;5;124m\"\u001b[39m):\n\u001b[0;32m--> 422\u001b[0m     \u001b[38;5;28;01mreturn\u001b[39;00m \u001b[43mlast_step\u001b[49m\u001b[38;5;241;43m.\u001b[39;49m\u001b[43mfit_transform\u001b[49m\u001b[43m(\u001b[49m\u001b[43mXt\u001b[49m\u001b[43m,\u001b[49m\u001b[43m \u001b[49m\u001b[43my\u001b[49m\u001b[43m,\u001b[49m\u001b[43m \u001b[49m\u001b[38;5;241;43m*\u001b[39;49m\u001b[38;5;241;43m*\u001b[39;49m\u001b[43mfit_params_last_step\u001b[49m\u001b[43m)\u001b[49m\n\u001b[1;32m    423\u001b[0m \u001b[38;5;28;01melse\u001b[39;00m:\n\u001b[1;32m    424\u001b[0m     \u001b[38;5;28;01mreturn\u001b[39;00m last_step\u001b[38;5;241m.\u001b[39mfit(Xt, y, \u001b[38;5;241m*\u001b[39m\u001b[38;5;241m*\u001b[39mfit_params_last_step)\u001b[38;5;241m.\u001b[39mtransform(Xt)\n",
      "File \u001b[0;32m/Library/Frameworks/Python.framework/Versions/3.10/lib/python3.10/site-packages/sklearn/base.py:867\u001b[0m, in \u001b[0;36mTransformerMixin.fit_transform\u001b[0;34m(self, X, y, **fit_params)\u001b[0m\n\u001b[1;32m    863\u001b[0m \u001b[38;5;66;03m# non-optimized default implementation; override when a better\u001b[39;00m\n\u001b[1;32m    864\u001b[0m \u001b[38;5;66;03m# method is possible for a given clustering algorithm\u001b[39;00m\n\u001b[1;32m    865\u001b[0m \u001b[38;5;28;01mif\u001b[39;00m y \u001b[38;5;129;01mis\u001b[39;00m \u001b[38;5;28;01mNone\u001b[39;00m:\n\u001b[1;32m    866\u001b[0m     \u001b[38;5;66;03m# fit method of arity 1 (unsupervised transformation)\u001b[39;00m\n\u001b[0;32m--> 867\u001b[0m     \u001b[38;5;28;01mreturn\u001b[39;00m \u001b[38;5;28;43mself\u001b[39;49m\u001b[38;5;241;43m.\u001b[39;49m\u001b[43mfit\u001b[49m\u001b[43m(\u001b[49m\u001b[43mX\u001b[49m\u001b[43m,\u001b[49m\u001b[43m \u001b[49m\u001b[38;5;241;43m*\u001b[39;49m\u001b[38;5;241;43m*\u001b[39;49m\u001b[43mfit_params\u001b[49m\u001b[43m)\u001b[49m\u001b[38;5;241m.\u001b[39mtransform(X)\n\u001b[1;32m    868\u001b[0m \u001b[38;5;28;01melse\u001b[39;00m:\n\u001b[1;32m    869\u001b[0m     \u001b[38;5;66;03m# fit method of arity 2 (supervised transformation)\u001b[39;00m\n\u001b[1;32m    870\u001b[0m     \u001b[38;5;28;01mreturn\u001b[39;00m \u001b[38;5;28mself\u001b[39m\u001b[38;5;241m.\u001b[39mfit(X, y, \u001b[38;5;241m*\u001b[39m\u001b[38;5;241m*\u001b[39mfit_params)\u001b[38;5;241m.\u001b[39mtransform(X)\n",
      "\u001b[0;31mTypeError\u001b[0m: _BaseFilter.fit() missing 1 required positional argument: 'y'"
     ]
    }
   ],
   "source": [
    "# X_train_xform = data_pipe.fit_transform(X_train)\n",
    "# LR_model.fit(X_train_xform,y_train)\n",
    "# rfe = RFE(estimator=LR_model, n_features_to_select=20, step=1, verbose=2)\n",
    "# rfe.fit(X_train_xform, y_train)\n",
    "# ranking = rfe.ranking_\n",
    "# support = rfe.support_"
   ]
  },
  {
   "cell_type": "code",
   "execution_count": null,
   "id": "cccdef81-ca53-41f1-8216-9d4b99d73407",
   "metadata": {},
   "outputs": [],
   "source": [
    "# features_RFE = np.arange(0, X_train_xform.shape[1])[ranking==1]\n",
    "\n",
    "# filter_RFE = ColumnTransformer([('rfe', 'passthrough', features_RFE)], remainder='drop')\n",
    "                               \n",
    "# data_pipe_RFE = Pipeline(steps=[('columns', columns), ('select', filter_RFE)])\n",
    "\n",
    "# pipe = Pipeline(steps=[('data', data_pipe_RFE), ('model', LR_model)])"
   ]
  },
  {
   "cell_type": "code",
   "execution_count": null,
   "id": "ca087090-b311-48d2-933a-76810d1edbb7",
   "metadata": {},
   "outputs": [],
   "source": [
    "# filter_RFE = ColumnTransformer([('rfe', 'passthrough', features_RFE)], remainder='drop')\n",
    "                               \n",
    "# data_pipe_RFE = Pipeline(steps=[('columns', columns), ('select', filter_RFE)])"
   ]
  },
  {
   "cell_type": "code",
   "execution_count": null,
   "id": "94f38d80-b073-4ffd-aa86-94017c6cecd9",
   "metadata": {},
   "outputs": [],
   "source": [
    "# pipe = Pipeline(steps=[('data', data_pipe_RFE), ('model', LR_model)])"
   ]
  },
  {
   "cell_type": "code",
   "execution_count": null,
   "id": "c6ee06aa",
   "metadata": {},
   "outputs": [],
   "source": [
    "# pipe.fit(X_train,y_train)"
   ]
  },
  {
   "cell_type": "code",
   "execution_count": 109,
   "id": "42772a19",
   "metadata": {
    "scrolled": false
   },
   "outputs": [
    {
     "name": "stdout",
     "output_type": "stream",
     "text": [
      "Train accuracy 0.768\tTest accuracy 0.784\n"
     ]
    },
    {
     "name": "stderr",
     "output_type": "stream",
     "text": [
      "/Library/Frameworks/Python.framework/Versions/3.10/lib/python3.10/site-packages/sklearn/preprocessing/_encoders.py:188: UserWarning: Found unknown categories in columns [4, 5, 6, 7, 8, 9, 10, 11, 12, 13, 14, 15, 16, 17, 18, 19, 20, 21, 22, 23, 24, 25, 26, 28, 29, 30, 32, 33, 34, 35] during transform. These unknown categories will be encoded as all zeros\n",
      "  warnings.warn(\n"
     ]
    }
   ],
   "source": [
    "LR_acc_sel = util.print_accuracies(pipe, X_train, y_train, X_test, y_test)"
   ]
  },
  {
   "cell_type": "code",
   "execution_count": 110,
   "id": "1802b42b",
   "metadata": {},
   "outputs": [
    {
     "data": {
      "text/plain": [
       "array(['category__x12_Bang', 'category__x14_Wolf', 'category__x5_SKT',\n",
       "       'category__x21_Faker', 'category__x23_Bang', 'category__x25_Wolf',\n",
       "       'category__x16_SKT', 'category__x16_ahq', 'numeric__x39',\n",
       "       'numeric__x40', 'numeric__x43', 'numeric__x44', 'numeric__x47',\n",
       "       'numeric__x48', 'numeric__x76', 'numeric__x80', 'numeric__x89',\n",
       "       'numeric__x90', 'numeric__x93', 'numeric__x94'], dtype=object)"
      ]
     },
     "execution_count": 110,
     "metadata": {},
     "output_type": "execute_result"
    }
   ],
   "source": [
    "pipe.named_steps['data'].get_feature_names_out()"
   ]
  },
  {
   "cell_type": "code",
   "execution_count": 111,
   "id": "53abbf28",
   "metadata": {},
   "outputs": [
    {
     "data": {
      "text/html": [
       "<div>\n",
       "<style scoped>\n",
       "    .dataframe tbody tr th:only-of-type {\n",
       "        vertical-align: middle;\n",
       "    }\n",
       "\n",
       "    .dataframe tbody tr th {\n",
       "        vertical-align: top;\n",
       "    }\n",
       "\n",
       "    .dataframe thead th {\n",
       "        text-align: right;\n",
       "    }\n",
       "</style>\n",
       "<table border=\"1\" class=\"dataframe\">\n",
       "  <thead>\n",
       "    <tr style=\"text-align: right;\">\n",
       "      <th></th>\n",
       "      <th>Feature Name</th>\n",
       "      <th>Coef</th>\n",
       "    </tr>\n",
       "  </thead>\n",
       "  <tbody>\n",
       "    <tr>\n",
       "      <th>0</th>\n",
       "      <td>numeric__x48</td>\n",
       "      <td>7.549000</td>\n",
       "    </tr>\n",
       "    <tr>\n",
       "      <th>1</th>\n",
       "      <td>numeric__x94</td>\n",
       "      <td>3.382792</td>\n",
       "    </tr>\n",
       "    <tr>\n",
       "      <th>2</th>\n",
       "      <td>numeric__x80</td>\n",
       "      <td>1.177883</td>\n",
       "    </tr>\n",
       "    <tr>\n",
       "      <th>3</th>\n",
       "      <td>category__x16_ahq</td>\n",
       "      <td>1.137728</td>\n",
       "    </tr>\n",
       "    <tr>\n",
       "      <th>4</th>\n",
       "      <td>numeric__x90</td>\n",
       "      <td>0.955682</td>\n",
       "    </tr>\n",
       "    <tr>\n",
       "      <th>5</th>\n",
       "      <td>numeric__x39</td>\n",
       "      <td>0.534531</td>\n",
       "    </tr>\n",
       "    <tr>\n",
       "      <th>6</th>\n",
       "      <td>category__x23_Bang</td>\n",
       "      <td>0.529595</td>\n",
       "    </tr>\n",
       "    <tr>\n",
       "      <th>7</th>\n",
       "      <td>numeric__x43</td>\n",
       "      <td>0.431031</td>\n",
       "    </tr>\n",
       "    <tr>\n",
       "      <th>8</th>\n",
       "      <td>category__x25_Wolf</td>\n",
       "      <td>0.361470</td>\n",
       "    </tr>\n",
       "    <tr>\n",
       "      <th>9</th>\n",
       "      <td>category__x16_SKT</td>\n",
       "      <td>0.001401</td>\n",
       "    </tr>\n",
       "    <tr>\n",
       "      <th>10</th>\n",
       "      <td>numeric__x47</td>\n",
       "      <td>0.000000</td>\n",
       "    </tr>\n",
       "    <tr>\n",
       "      <th>11</th>\n",
       "      <td>category__x21_Faker</td>\n",
       "      <td>0.000000</td>\n",
       "    </tr>\n",
       "    <tr>\n",
       "      <th>12</th>\n",
       "      <td>category__x14_Wolf</td>\n",
       "      <td>-0.109009</td>\n",
       "    </tr>\n",
       "    <tr>\n",
       "      <th>13</th>\n",
       "      <td>category__x12_Bang</td>\n",
       "      <td>-0.382648</td>\n",
       "    </tr>\n",
       "    <tr>\n",
       "      <th>14</th>\n",
       "      <td>numeric__x76</td>\n",
       "      <td>-0.413778</td>\n",
       "    </tr>\n",
       "    <tr>\n",
       "      <th>15</th>\n",
       "      <td>category__x5_SKT</td>\n",
       "      <td>-0.485633</td>\n",
       "    </tr>\n",
       "    <tr>\n",
       "      <th>16</th>\n",
       "      <td>numeric__x89</td>\n",
       "      <td>-0.608046</td>\n",
       "    </tr>\n",
       "    <tr>\n",
       "      <th>17</th>\n",
       "      <td>numeric__x93</td>\n",
       "      <td>-2.571025</td>\n",
       "    </tr>\n",
       "    <tr>\n",
       "      <th>18</th>\n",
       "      <td>numeric__x40</td>\n",
       "      <td>-2.770922</td>\n",
       "    </tr>\n",
       "    <tr>\n",
       "      <th>19</th>\n",
       "      <td>numeric__x44</td>\n",
       "      <td>-6.629742</td>\n",
       "    </tr>\n",
       "  </tbody>\n",
       "</table>\n",
       "</div>"
      ],
      "text/plain": [
       "           Feature Name      Coef\n",
       "0          numeric__x48  7.549000\n",
       "1          numeric__x94  3.382792\n",
       "2          numeric__x80  1.177883\n",
       "3     category__x16_ahq  1.137728\n",
       "4          numeric__x90  0.955682\n",
       "5          numeric__x39  0.534531\n",
       "6    category__x23_Bang  0.529595\n",
       "7          numeric__x43  0.431031\n",
       "8    category__x25_Wolf  0.361470\n",
       "9     category__x16_SKT  0.001401\n",
       "10         numeric__x47  0.000000\n",
       "11  category__x21_Faker  0.000000\n",
       "12   category__x14_Wolf -0.109009\n",
       "13   category__x12_Bang -0.382648\n",
       "14         numeric__x76 -0.413778\n",
       "15     category__x5_SKT -0.485633\n",
       "16         numeric__x89 -0.608046\n",
       "17         numeric__x93 -2.571025\n",
       "18         numeric__x40 -2.770922\n",
       "19         numeric__x44 -6.629742"
      ]
     },
     "execution_count": 111,
     "metadata": {},
     "output_type": "execute_result"
    }
   ],
   "source": [
    "feature_names = pipe.named_steps['data'].get_feature_names_out()\n",
    "feature_coefs = pipe.named_steps['model'].coef_\n",
    "feature_df = pd.DataFrame({'Feature Name': list(feature_names), 'Coef': list(feature_coefs.flatten())})\n",
    "feature_df.sort_values(by='Coef', axis=0, ascending=False, inplace=True, ignore_index=True)\n",
    "#feature_df['feature'].replace(to_replace=['numeric__','category__','ABBREVIATION_'], value='', regex=True, inplace=True)\n",
    "feature_df.head(20)"
   ]
  },
  {
   "cell_type": "code",
   "execution_count": 112,
   "id": "44baf20d",
   "metadata": {
    "scrolled": true
   },
   "outputs": [
    {
     "data": {
      "text/plain": [
       "{'0': \"('Info', 'League')\",\n",
       " '1': \"('Info', 'Year')\",\n",
       " '2': \"('Info', 'Season')\",\n",
       " '3': \"('Info', 'GameType')\",\n",
       " '4': \"('Info', 'gamelength')\",\n",
       " '5': \"('Blue', 'TeamTag')\",\n",
       " '6': \"('Blue', 'Top')\",\n",
       " '7': \"('Blue', 'TopChamp')\",\n",
       " '8': \"('Blue', 'Jungle')\",\n",
       " '9': \"('Blue', 'JungleChamp')\",\n",
       " '10': \"('Blue', 'Middle')\",\n",
       " '11': \"('Blue', 'MiddleChamp')\",\n",
       " '12': \"('Blue', 'ADC')\",\n",
       " '13': \"('Blue', 'ADCChamp')\",\n",
       " '14': \"('Blue', 'Support')\",\n",
       " '15': \"('Blue', 'SupportChamp')\",\n",
       " '16': \"('Red', 'TeamTag')\",\n",
       " '17': \"('Red', 'Top')\",\n",
       " '18': \"('Red', 'TopChamp')\",\n",
       " '19': \"('Red', 'Jungle')\",\n",
       " '20': \"('Red', 'JungleChamp')\",\n",
       " '21': \"('Red', 'Middle')\",\n",
       " '22': \"('Red', 'MiddleChamp')\",\n",
       " '23': \"('Red', 'ADC')\",\n",
       " '24': \"('Red', 'ADCChamp')\",\n",
       " '25': \"('Red', 'Support')\",\n",
       " '26': \"('Red', 'SupportChamp')\",\n",
       " '27': \"('Blue', 'ban_1')\",\n",
       " '28': \"('Blue', 'ban_2')\",\n",
       " '29': \"('Blue', 'ban_3')\",\n",
       " '30': \"('Blue', 'ban_4')\",\n",
       " '31': \"('Blue', 'ban_5')\",\n",
       " '32': \"('Red', 'ban_1')\",\n",
       " '33': \"('Red', 'ban_2')\",\n",
       " '34': \"('Red', 'ban_3')\",\n",
       " '35': \"('Red', 'ban_4')\",\n",
       " '36': \"('Red', 'ban_5')\",\n",
       " '37': \"('golddiff', 'min_5')\",\n",
       " '38': \"('golddiff', 'min_10')\",\n",
       " '39': \"('golddiff', 'min_15')\",\n",
       " '40': \"('golddiff', 'min_20')\",\n",
       " '41': \"('goldblue', 'min_5')\",\n",
       " '42': \"('goldblue', 'min_10')\",\n",
       " '43': \"('goldblue', 'min_15')\",\n",
       " '44': \"('goldblue', 'min_20')\",\n",
       " '45': \"('goldred', 'min_5')\",\n",
       " '46': \"('goldred', 'min_10')\",\n",
       " '47': \"('goldred', 'min_15')\",\n",
       " '48': \"('goldred', 'min_20')\",\n",
       " '49': \"('goldblueTop', 'min_5')\",\n",
       " '50': \"('goldblueTop', 'min_10')\",\n",
       " '51': \"('goldblueTop', 'min_15')\",\n",
       " '52': \"('goldblueTop', 'min_20')\",\n",
       " '53': \"('goldblueJungle', 'min_5')\",\n",
       " '54': \"('goldblueJungle', 'min_10')\",\n",
       " '55': \"('goldblueJungle', 'min_15')\",\n",
       " '56': \"('goldblueJungle', 'min_20')\",\n",
       " '57': \"('goldblueMiddle', 'min_5')\",\n",
       " '58': \"('goldblueMiddle', 'min_10')\",\n",
       " '59': \"('goldblueMiddle', 'min_15')\",\n",
       " '60': \"('goldblueMiddle', 'min_20')\",\n",
       " '61': \"('goldblueADC', 'min_5')\",\n",
       " '62': \"('goldblueADC', 'min_10')\",\n",
       " '63': \"('goldblueADC', 'min_15')\",\n",
       " '64': \"('goldblueADC', 'min_20')\",\n",
       " '65': \"('goldblueSupport', 'min_5')\",\n",
       " '66': \"('goldblueSupport', 'min_10')\",\n",
       " '67': \"('goldblueSupport', 'min_15')\",\n",
       " '68': \"('goldblueSupport', 'min_20')\",\n",
       " '69': \"('goldredTop', 'min_5')\",\n",
       " '70': \"('goldredTop', 'min_10')\",\n",
       " '71': \"('goldredTop', 'min_15')\",\n",
       " '72': \"('goldredTop', 'min_20')\",\n",
       " '73': \"('goldredJungle', 'min_5')\",\n",
       " '74': \"('goldredJungle', 'min_10')\",\n",
       " '75': \"('goldredJungle', 'min_15')\",\n",
       " '76': \"('goldredJungle', 'min_20')\",\n",
       " '77': \"('goldredMiddle', 'min_5')\",\n",
       " '78': \"('goldredMiddle', 'min_10')\",\n",
       " '79': \"('goldredMiddle', 'min_15')\",\n",
       " '80': \"('goldredMiddle', 'min_20')\",\n",
       " '81': \"('goldredADC', 'min_5')\",\n",
       " '82': \"('goldredADC', 'min_10')\",\n",
       " '83': \"('goldredADC', 'min_15')\",\n",
       " '84': \"('goldredADC', 'min_20')\",\n",
       " '85': \"('goldredSupport', 'min_5')\",\n",
       " '86': \"('goldredSupport', 'min_10')\",\n",
       " '87': \"('goldredSupport', 'min_15')\",\n",
       " '88': \"('goldredSupport', 'min_20')\",\n",
       " '89': \"('Blue', 'Towers')\",\n",
       " '90': \"('Red', 'Towers')\",\n",
       " '91': \"('Blue', 'Inhib')\",\n",
       " '92': \"('Red', 'Inhib')\",\n",
       " '93': \"('Blue', 'Kills')\",\n",
       " '94': \"('Red', 'Kills')\",\n",
       " '95': \"('Info', 'FirstBlood')\",\n",
       " '96': \"('Info', 'FirstTower')\"}"
      ]
     },
     "execution_count": 112,
     "metadata": {},
     "output_type": "execute_result"
    }
   ],
   "source": [
    "X_cols = pd.DataFrame(X.columns, columns=['column'])\n",
    "X_cols['column'] = X_cols['column'].astype(str)\n",
    "X_cols['col'] = np.linspace(0, len(X.columns)-1, num=len(X.columns)).astype(int).astype(str)\n",
    "X_cols = dict(zip(X_cols.col, X_cols.column))\n",
    "X_cols"
   ]
  },
  {
   "cell_type": "code",
   "execution_count": 113,
   "id": "bc597fba",
   "metadata": {},
   "outputs": [
    {
     "data": {
      "text/html": [
       "<div>\n",
       "<style scoped>\n",
       "    .dataframe tbody tr th:only-of-type {\n",
       "        vertical-align: middle;\n",
       "    }\n",
       "\n",
       "    .dataframe tbody tr th {\n",
       "        vertical-align: top;\n",
       "    }\n",
       "\n",
       "    .dataframe thead th {\n",
       "        text-align: right;\n",
       "    }\n",
       "</style>\n",
       "<table border=\"1\" class=\"dataframe\">\n",
       "  <thead>\n",
       "    <tr style=\"text-align: right;\">\n",
       "      <th></th>\n",
       "      <th>Feature Name</th>\n",
       "      <th>Coef</th>\n",
       "      <th>Feature Name 2</th>\n",
       "    </tr>\n",
       "  </thead>\n",
       "  <tbody>\n",
       "    <tr>\n",
       "      <th>0</th>\n",
       "      <td>numeric__x48</td>\n",
       "      <td>7.549000</td>\n",
       "      <td>goldred_min_20</td>\n",
       "    </tr>\n",
       "    <tr>\n",
       "      <th>1</th>\n",
       "      <td>numeric__x94</td>\n",
       "      <td>3.382792</td>\n",
       "      <td>Red_Kills</td>\n",
       "    </tr>\n",
       "    <tr>\n",
       "      <th>2</th>\n",
       "      <td>numeric__x80</td>\n",
       "      <td>1.177883</td>\n",
       "      <td>goldredMiddle_min_20</td>\n",
       "    </tr>\n",
       "    <tr>\n",
       "      <th>3</th>\n",
       "      <td>category__x16_ahq</td>\n",
       "      <td>1.137728</td>\n",
       "      <td>Red_TeamTag_ahq</td>\n",
       "    </tr>\n",
       "    <tr>\n",
       "      <th>4</th>\n",
       "      <td>numeric__x90</td>\n",
       "      <td>0.955682</td>\n",
       "      <td>Red_Towers</td>\n",
       "    </tr>\n",
       "    <tr>\n",
       "      <th>5</th>\n",
       "      <td>numeric__x39</td>\n",
       "      <td>0.534531</td>\n",
       "      <td>golddiff_min_15</td>\n",
       "    </tr>\n",
       "    <tr>\n",
       "      <th>6</th>\n",
       "      <td>category__x23_Bang</td>\n",
       "      <td>0.529595</td>\n",
       "      <td>Red_ADC_Bang</td>\n",
       "    </tr>\n",
       "    <tr>\n",
       "      <th>7</th>\n",
       "      <td>numeric__x43</td>\n",
       "      <td>0.431031</td>\n",
       "      <td>goldblue_min_15</td>\n",
       "    </tr>\n",
       "    <tr>\n",
       "      <th>8</th>\n",
       "      <td>category__x25_Wolf</td>\n",
       "      <td>0.361470</td>\n",
       "      <td>Red_Support_Wolf</td>\n",
       "    </tr>\n",
       "    <tr>\n",
       "      <th>9</th>\n",
       "      <td>category__x16_SKT</td>\n",
       "      <td>0.001401</td>\n",
       "      <td>Red_TeamTag_SKT</td>\n",
       "    </tr>\n",
       "    <tr>\n",
       "      <th>10</th>\n",
       "      <td>numeric__x47</td>\n",
       "      <td>0.000000</td>\n",
       "      <td>goldred_min_15</td>\n",
       "    </tr>\n",
       "    <tr>\n",
       "      <th>11</th>\n",
       "      <td>category__x21_Faker</td>\n",
       "      <td>0.000000</td>\n",
       "      <td>Red_Middle_Faker</td>\n",
       "    </tr>\n",
       "    <tr>\n",
       "      <th>12</th>\n",
       "      <td>category__x14_Wolf</td>\n",
       "      <td>-0.109009</td>\n",
       "      <td>Blue_Support_Wolf</td>\n",
       "    </tr>\n",
       "    <tr>\n",
       "      <th>13</th>\n",
       "      <td>category__x12_Bang</td>\n",
       "      <td>-0.382648</td>\n",
       "      <td>Blue_ADC_Bang</td>\n",
       "    </tr>\n",
       "    <tr>\n",
       "      <th>14</th>\n",
       "      <td>numeric__x76</td>\n",
       "      <td>-0.413778</td>\n",
       "      <td>goldredJungle_min_20</td>\n",
       "    </tr>\n",
       "    <tr>\n",
       "      <th>15</th>\n",
       "      <td>category__x5_SKT</td>\n",
       "      <td>-0.485633</td>\n",
       "      <td>Blue_TeamTag_SKT</td>\n",
       "    </tr>\n",
       "    <tr>\n",
       "      <th>16</th>\n",
       "      <td>numeric__x89</td>\n",
       "      <td>-0.608046</td>\n",
       "      <td>Blue_Towers</td>\n",
       "    </tr>\n",
       "    <tr>\n",
       "      <th>17</th>\n",
       "      <td>numeric__x93</td>\n",
       "      <td>-2.571025</td>\n",
       "      <td>Blue_Kills</td>\n",
       "    </tr>\n",
       "    <tr>\n",
       "      <th>18</th>\n",
       "      <td>numeric__x40</td>\n",
       "      <td>-2.770922</td>\n",
       "      <td>golddiff_min_20</td>\n",
       "    </tr>\n",
       "    <tr>\n",
       "      <th>19</th>\n",
       "      <td>numeric__x44</td>\n",
       "      <td>-6.629742</td>\n",
       "      <td>goldblue_min_20</td>\n",
       "    </tr>\n",
       "  </tbody>\n",
       "</table>\n",
       "</div>"
      ],
      "text/plain": [
       "           Feature Name      Coef        Feature Name 2\n",
       "0          numeric__x48  7.549000        goldred_min_20\n",
       "1          numeric__x94  3.382792             Red_Kills\n",
       "2          numeric__x80  1.177883  goldredMiddle_min_20\n",
       "3     category__x16_ahq  1.137728       Red_TeamTag_ahq\n",
       "4          numeric__x90  0.955682            Red_Towers\n",
       "5          numeric__x39  0.534531       golddiff_min_15\n",
       "6    category__x23_Bang  0.529595          Red_ADC_Bang\n",
       "7          numeric__x43  0.431031       goldblue_min_15\n",
       "8    category__x25_Wolf  0.361470      Red_Support_Wolf\n",
       "9     category__x16_SKT  0.001401       Red_TeamTag_SKT\n",
       "10         numeric__x47  0.000000        goldred_min_15\n",
       "11  category__x21_Faker  0.000000      Red_Middle_Faker\n",
       "12   category__x14_Wolf -0.109009     Blue_Support_Wolf\n",
       "13   category__x12_Bang -0.382648         Blue_ADC_Bang\n",
       "14         numeric__x76 -0.413778  goldredJungle_min_20\n",
       "15     category__x5_SKT -0.485633      Blue_TeamTag_SKT\n",
       "16         numeric__x89 -0.608046           Blue_Towers\n",
       "17         numeric__x93 -2.571025            Blue_Kills\n",
       "18         numeric__x40 -2.770922       golddiff_min_20\n",
       "19         numeric__x44 -6.629742       goldblue_min_20"
      ]
     },
     "execution_count": 113,
     "metadata": {},
     "output_type": "execute_result"
    }
   ],
   "source": [
    "list_of_chars=['\\(', '\\)', '\\'']\n",
    "pattern = '[' +  ''.join(list_of_chars) +  ']'\n",
    "feature_df['Feature Name 2'] = [ re.sub(', ', '_', re.sub(pattern, '', re.sub('(.*)__x(\\d+)',X_cols.get(re.search('x(\\d+)', s).group(1)),s))) for s in feature_df['Feature Name']]\n",
    "feature_df"
   ]
  },
  {
   "cell_type": "code",
   "execution_count": 114,
   "id": "dab669de",
   "metadata": {},
   "outputs": [
    {
     "data": {
      "image/png": "[encoded data removed]",
      "text/plain": [
       "<Figure size 800x600 with 1 Axes>"
      ]
     },
     "metadata": {},
     "output_type": "display_data"
    }
   ],
   "source": [
    "ax = sb.barplot(data=feature_df.iloc[0:20], x='Feature Name 2', y='Coef', orient='v')\n",
    "ax.tick_params(axis='x', rotation=270)\n",
    "ax.set_ylabel('Coefficient', rotation=90, labelpad=20)\n",
    "ax.set_xlabel('name', rotation=0, labelpad=20)\n",
    "ax.set_title('Most important features', pad=20)\n",
    "plt.savefig('../plots/LogisticRegression_coefs.pdf',dpi=300, bbox_inches = \"tight\")"
   ]
  },
  {
   "cell_type": "markdown",
   "id": "14a635dd-dddf-4abf-b2e5-e5c5b782f8b8",
   "metadata": {
    "tags": []
   },
   "source": [
    "# SGD"
   ]
  },
  {
   "cell_type": "code",
   "execution_count": null,
   "id": "e86d62a1-2751-4673-98ad-849f9060230d",
   "metadata": {
    "tags": []
   },
   "outputs": [],
   "source": [
    "SGD_model = SGDClassifier(loss='log_loss', penalty='L2', max_iter=1000, random_state=20220905, tol=1.0e-03)"
   ]
  },
  {
   "cell_type": "code",
   "execution_count": null,
   "id": "0600373a-2119-4bc7-8520-5bfd88031618",
   "metadata": {},
   "outputs": [],
   "source": [
    "pipe2 = Pipeline(steps=[('encoder', columns), ('model', SGD_model)])"
   ]
  },
  {
   "cell_type": "code",
   "execution_count": 37,
   "id": "f8029684-212c-4190-a0b0-0ca996d37a6a",
   "metadata": {
    "tags": []
   },
   "outputs": [],
   "source": [
    "param_grid = {\n",
    "    'model__penalty': ['l2', 'l1'],\n",
    "    'model__alpha': np.logspace(-4, 0, 5)\n",
    "}\n",
    "\n",
    "grid_search = GridSearchCV(pipe2, param_grid=param_grid)"
   ]
  },
  {
   "cell_type": "code",
   "execution_count": 38,
   "id": "94933c31-49b3-41e7-a811-943fd7ec75f2",
   "metadata": {
    "tags": []
   },
   "outputs": [
    {
     "name": "stderr",
     "output_type": "stream",
     "text": [
      "C:\\Users\\drago\\Anaconda3\\lib\\site-packages\\sklearn\\preprocessing\\_encoders.py:188: UserWarning: Found unknown categories in columns [4, 5, 6, 7, 8, 9, 10, 11, 13, 15, 16, 17, 18, 19, 20, 21, 22, 23, 24, 25, 26, 27, 28, 31, 32, 33] during transform. These unknown categories will be encoded as all zeros\n",
      "  warnings.warn(\n",
      "C:\\Users\\drago\\Anaconda3\\lib\\site-packages\\sklearn\\preprocessing\\_encoders.py:188: UserWarning: Found unknown categories in columns [4, 5, 6, 7, 9, 10, 11, 12, 13, 14, 15, 16, 17, 18, 19, 20, 21, 22, 24, 26, 31, 32, 33] during transform. These unknown categories will be encoded as all zeros\n",
      "  warnings.warn(\n",
      "C:\\Users\\drago\\Anaconda3\\lib\\site-packages\\sklearn\\preprocessing\\_encoders.py:188: UserWarning: Found unknown categories in columns [4, 5, 7, 9, 11, 13, 15, 16, 17, 18, 20, 21, 22, 24, 26, 27, 28, 31, 32, 33] during transform. These unknown categories will be encoded as all zeros\n",
      "  warnings.warn(\n",
      "C:\\Users\\drago\\Anaconda3\\lib\\site-packages\\sklearn\\preprocessing\\_encoders.py:188: UserWarning: Found unknown categories in columns [4, 5, 6, 7, 9, 10, 11, 12, 13, 15, 16, 17, 18, 19, 20, 21, 22, 23, 24, 25, 26, 27, 28, 31, 32, 33] during transform. These unknown categories will be encoded as all zeros\n",
      "  warnings.warn(\n",
      "C:\\Users\\drago\\Anaconda3\\lib\\site-packages\\sklearn\\preprocessing\\_encoders.py:188: UserWarning: Found unknown categories in columns [4, 5, 6, 7, 8, 9, 10, 11, 12, 13, 15, 16, 17, 18, 20, 21, 22, 23, 24, 25, 27, 28, 31, 32, 33] during transform. These unknown categories will be encoded as all zeros\n",
      "  warnings.warn(\n",
      "C:\\Users\\drago\\Anaconda3\\lib\\site-packages\\sklearn\\preprocessing\\_encoders.py:188: UserWarning: Found unknown categories in columns [4, 5, 6, 7, 8, 9, 10, 11, 13, 15, 16, 17, 18, 19, 20, 21, 22, 23, 24, 25, 26, 27, 28, 31, 32, 33] during transform. These unknown categories will be encoded as all zeros\n",
      "  warnings.warn(\n",
      "C:\\Users\\drago\\Anaconda3\\lib\\site-packages\\sklearn\\preprocessing\\_encoders.py:188: UserWarning: Found unknown categories in columns [4, 5, 6, 7, 9, 10, 11, 12, 13, 14, 15, 16, 17, 18, 19, 20, 21, 22, 24, 26, 31, 32, 33] during transform. These unknown categories will be encoded as all zeros\n",
      "  warnings.warn(\n",
      "C:\\Users\\drago\\Anaconda3\\lib\\site-packages\\sklearn\\preprocessing\\_encoders.py:188: UserWarning: Found unknown categories in columns [4, 5, 7, 9, 11, 13, 15, 16, 17, 18, 20, 21, 22, 24, 26, 27, 28, 31, 32, 33] during transform. These unknown categories will be encoded as all zeros\n",
      "  warnings.warn(\n",
      "C:\\Users\\drago\\Anaconda3\\lib\\site-packages\\sklearn\\preprocessing\\_encoders.py:188: UserWarning: Found unknown categories in columns [4, 5, 6, 7, 9, 10, 11, 12, 13, 15, 16, 17, 18, 19, 20, 21, 22, 23, 24, 25, 26, 27, 28, 31, 32, 33] during transform. These unknown categories will be encoded as all zeros\n",
      "  warnings.warn(\n",
      "C:\\Users\\drago\\Anaconda3\\lib\\site-packages\\sklearn\\preprocessing\\_encoders.py:188: UserWarning: Found unknown categories in columns [4, 5, 6, 7, 8, 9, 10, 11, 12, 13, 15, 16, 17, 18, 20, 21, 22, 23, 24, 25, 27, 28, 31, 32, 33] during transform. These unknown categories will be encoded as all zeros\n",
      "  warnings.warn(\n",
      "C:\\Users\\drago\\Anaconda3\\lib\\site-packages\\sklearn\\preprocessing\\_encoders.py:188: UserWarning: Found unknown categories in columns [4, 5, 6, 7, 8, 9, 10, 11, 13, 15, 16, 17, 18, 19, 20, 21, 22, 23, 24, 25, 26, 27, 28, 31, 32, 33] during transform. These unknown categories will be encoded as all zeros\n",
      "  warnings.warn(\n",
      "C:\\Users\\drago\\Anaconda3\\lib\\site-packages\\sklearn\\preprocessing\\_encoders.py:188: UserWarning: Found unknown categories in columns [4, 5, 6, 7, 9, 10, 11, 12, 13, 14, 15, 16, 17, 18, 19, 20, 21, 22, 24, 26, 31, 32, 33] during transform. These unknown categories will be encoded as all zeros\n",
      "  warnings.warn(\n",
      "C:\\Users\\drago\\Anaconda3\\lib\\site-packages\\sklearn\\preprocessing\\_encoders.py:188: UserWarning: Found unknown categories in columns [4, 5, 7, 9, 11, 13, 15, 16, 17, 18, 20, 21, 22, 24, 26, 27, 28, 31, 32, 33] during transform. These unknown categories will be encoded as all zeros\n",
      "  warnings.warn(\n",
      "C:\\Users\\drago\\Anaconda3\\lib\\site-packages\\sklearn\\preprocessing\\_encoders.py:188: UserWarning: Found unknown categories in columns [4, 5, 6, 7, 9, 10, 11, 12, 13, 15, 16, 17, 18, 19, 20, 21, 22, 23, 24, 25, 26, 27, 28, 31, 32, 33] during transform. These unknown categories will be encoded as all zeros\n",
      "  warnings.warn(\n",
      "C:\\Users\\drago\\Anaconda3\\lib\\site-packages\\sklearn\\preprocessing\\_encoders.py:188: UserWarning: Found unknown categories in columns [4, 5, 6, 7, 8, 9, 10, 11, 12, 13, 15, 16, 17, 18, 20, 21, 22, 23, 24, 25, 27, 28, 31, 32, 33] during transform. These unknown categories will be encoded as all zeros\n",
      "  warnings.warn(\n",
      "C:\\Users\\drago\\Anaconda3\\lib\\site-packages\\sklearn\\preprocessing\\_encoders.py:188: UserWarning: Found unknown categories in columns [4, 5, 6, 7, 8, 9, 10, 11, 13, 15, 16, 17, 18, 19, 20, 21, 22, 23, 24, 25, 26, 27, 28, 31, 32, 33] during transform. These unknown categories will be encoded as all zeros\n",
      "  warnings.warn(\n",
      "C:\\Users\\drago\\Anaconda3\\lib\\site-packages\\sklearn\\preprocessing\\_encoders.py:188: UserWarning: Found unknown categories in columns [4, 5, 6, 7, 9, 10, 11, 12, 13, 14, 15, 16, 17, 18, 19, 20, 21, 22, 24, 26, 31, 32, 33] during transform. These unknown categories will be encoded as all zeros\n",
      "  warnings.warn(\n",
      "C:\\Users\\drago\\Anaconda3\\lib\\site-packages\\sklearn\\preprocessing\\_encoders.py:188: UserWarning: Found unknown categories in columns [4, 5, 7, 9, 11, 13, 15, 16, 17, 18, 20, 21, 22, 24, 26, 27, 28, 31, 32, 33] during transform. These unknown categories will be encoded as all zeros\n",
      "  warnings.warn(\n",
      "C:\\Users\\drago\\Anaconda3\\lib\\site-packages\\sklearn\\preprocessing\\_encoders.py:188: UserWarning: Found unknown categories in columns [4, 5, 6, 7, 9, 10, 11, 12, 13, 15, 16, 17, 18, 19, 20, 21, 22, 23, 24, 25, 26, 27, 28, 31, 32, 33] during transform. These unknown categories will be encoded as all zeros\n",
      "  warnings.warn(\n",
      "C:\\Users\\drago\\Anaconda3\\lib\\site-packages\\sklearn\\preprocessing\\_encoders.py:188: UserWarning: Found unknown categories in columns [4, 5, 6, 7, 8, 9, 10, 11, 12, 13, 15, 16, 17, 18, 20, 21, 22, 23, 24, 25, 27, 28, 31, 32, 33] during transform. These unknown categories will be encoded as all zeros\n",
      "  warnings.warn(\n",
      "C:\\Users\\drago\\Anaconda3\\lib\\site-packages\\sklearn\\preprocessing\\_encoders.py:188: UserWarning: Found unknown categories in columns [4, 5, 6, 7, 8, 9, 10, 11, 13, 15, 16, 17, 18, 19, 20, 21, 22, 23, 24, 25, 26, 27, 28, 31, 32, 33] during transform. These unknown categories will be encoded as all zeros\n",
      "  warnings.warn(\n",
      "C:\\Users\\drago\\Anaconda3\\lib\\site-packages\\sklearn\\preprocessing\\_encoders.py:188: UserWarning: Found unknown categories in columns [4, 5, 6, 7, 9, 10, 11, 12, 13, 14, 15, 16, 17, 18, 19, 20, 21, 22, 24, 26, 31, 32, 33] during transform. These unknown categories will be encoded as all zeros\n",
      "  warnings.warn(\n",
      "C:\\Users\\drago\\Anaconda3\\lib\\site-packages\\sklearn\\preprocessing\\_encoders.py:188: UserWarning: Found unknown categories in columns [4, 5, 7, 9, 11, 13, 15, 16, 17, 18, 20, 21, 22, 24, 26, 27, 28, 31, 32, 33] during transform. These unknown categories will be encoded as all zeros\n",
      "  warnings.warn(\n",
      "C:\\Users\\drago\\Anaconda3\\lib\\site-packages\\sklearn\\preprocessing\\_encoders.py:188: UserWarning: Found unknown categories in columns [4, 5, 6, 7, 9, 10, 11, 12, 13, 15, 16, 17, 18, 19, 20, 21, 22, 23, 24, 25, 26, 27, 28, 31, 32, 33] during transform. These unknown categories will be encoded as all zeros\n",
      "  warnings.warn(\n",
      "C:\\Users\\drago\\Anaconda3\\lib\\site-packages\\sklearn\\preprocessing\\_encoders.py:188: UserWarning: Found unknown categories in columns [4, 5, 6, 7, 8, 9, 10, 11, 12, 13, 15, 16, 17, 18, 20, 21, 22, 23, 24, 25, 27, 28, 31, 32, 33] during transform. These unknown categories will be encoded as all zeros\n",
      "  warnings.warn(\n",
      "C:\\Users\\drago\\Anaconda3\\lib\\site-packages\\sklearn\\preprocessing\\_encoders.py:188: UserWarning: Found unknown categories in columns [4, 5, 6, 7, 8, 9, 10, 11, 13, 15, 16, 17, 18, 19, 20, 21, 22, 23, 24, 25, 26, 27, 28, 31, 32, 33] during transform. These unknown categories will be encoded as all zeros\n",
      "  warnings.warn(\n",
      "C:\\Users\\drago\\Anaconda3\\lib\\site-packages\\sklearn\\preprocessing\\_encoders.py:188: UserWarning: Found unknown categories in columns [4, 5, 6, 7, 9, 10, 11, 12, 13, 14, 15, 16, 17, 18, 19, 20, 21, 22, 24, 26, 31, 32, 33] during transform. These unknown categories will be encoded as all zeros\n",
      "  warnings.warn(\n",
      "C:\\Users\\drago\\Anaconda3\\lib\\site-packages\\sklearn\\preprocessing\\_encoders.py:188: UserWarning: Found unknown categories in columns [4, 5, 7, 9, 11, 13, 15, 16, 17, 18, 20, 21, 22, 24, 26, 27, 28, 31, 32, 33] during transform. These unknown categories will be encoded as all zeros\n",
      "  warnings.warn(\n"
     ]
    },
    {
     "name": "stderr",
     "output_type": "stream",
     "text": [
      "C:\\Users\\drago\\Anaconda3\\lib\\site-packages\\sklearn\\preprocessing\\_encoders.py:188: UserWarning: Found unknown categories in columns [4, 5, 6, 7, 9, 10, 11, 12, 13, 15, 16, 17, 18, 19, 20, 21, 22, 23, 24, 25, 26, 27, 28, 31, 32, 33] during transform. These unknown categories will be encoded as all zeros\n",
      "  warnings.warn(\n",
      "C:\\Users\\drago\\Anaconda3\\lib\\site-packages\\sklearn\\preprocessing\\_encoders.py:188: UserWarning: Found unknown categories in columns [4, 5, 6, 7, 8, 9, 10, 11, 12, 13, 15, 16, 17, 18, 20, 21, 22, 23, 24, 25, 27, 28, 31, 32, 33] during transform. These unknown categories will be encoded as all zeros\n",
      "  warnings.warn(\n",
      "C:\\Users\\drago\\Anaconda3\\lib\\site-packages\\sklearn\\preprocessing\\_encoders.py:188: UserWarning: Found unknown categories in columns [4, 5, 6, 7, 8, 9, 10, 11, 13, 15, 16, 17, 18, 19, 20, 21, 22, 23, 24, 25, 26, 27, 28, 31, 32, 33] during transform. These unknown categories will be encoded as all zeros\n",
      "  warnings.warn(\n",
      "C:\\Users\\drago\\Anaconda3\\lib\\site-packages\\sklearn\\preprocessing\\_encoders.py:188: UserWarning: Found unknown categories in columns [4, 5, 6, 7, 9, 10, 11, 12, 13, 14, 15, 16, 17, 18, 19, 20, 21, 22, 24, 26, 31, 32, 33] during transform. These unknown categories will be encoded as all zeros\n",
      "  warnings.warn(\n",
      "C:\\Users\\drago\\Anaconda3\\lib\\site-packages\\sklearn\\preprocessing\\_encoders.py:188: UserWarning: Found unknown categories in columns [4, 5, 7, 9, 11, 13, 15, 16, 17, 18, 20, 21, 22, 24, 26, 27, 28, 31, 32, 33] during transform. These unknown categories will be encoded as all zeros\n",
      "  warnings.warn(\n",
      "C:\\Users\\drago\\Anaconda3\\lib\\site-packages\\sklearn\\preprocessing\\_encoders.py:188: UserWarning: Found unknown categories in columns [4, 5, 6, 7, 9, 10, 11, 12, 13, 15, 16, 17, 18, 19, 20, 21, 22, 23, 24, 25, 26, 27, 28, 31, 32, 33] during transform. These unknown categories will be encoded as all zeros\n",
      "  warnings.warn(\n",
      "C:\\Users\\drago\\Anaconda3\\lib\\site-packages\\sklearn\\preprocessing\\_encoders.py:188: UserWarning: Found unknown categories in columns [4, 5, 6, 7, 8, 9, 10, 11, 12, 13, 15, 16, 17, 18, 20, 21, 22, 23, 24, 25, 27, 28, 31, 32, 33] during transform. These unknown categories will be encoded as all zeros\n",
      "  warnings.warn(\n",
      "C:\\Users\\drago\\Anaconda3\\lib\\site-packages\\sklearn\\preprocessing\\_encoders.py:188: UserWarning: Found unknown categories in columns [4, 5, 6, 7, 8, 9, 10, 11, 13, 15, 16, 17, 18, 19, 20, 21, 22, 23, 24, 25, 26, 27, 28, 31, 32, 33] during transform. These unknown categories will be encoded as all zeros\n",
      "  warnings.warn(\n",
      "C:\\Users\\drago\\Anaconda3\\lib\\site-packages\\sklearn\\preprocessing\\_encoders.py:188: UserWarning: Found unknown categories in columns [4, 5, 6, 7, 9, 10, 11, 12, 13, 14, 15, 16, 17, 18, 19, 20, 21, 22, 24, 26, 31, 32, 33] during transform. These unknown categories will be encoded as all zeros\n",
      "  warnings.warn(\n",
      "C:\\Users\\drago\\Anaconda3\\lib\\site-packages\\sklearn\\preprocessing\\_encoders.py:188: UserWarning: Found unknown categories in columns [4, 5, 7, 9, 11, 13, 15, 16, 17, 18, 20, 21, 22, 24, 26, 27, 28, 31, 32, 33] during transform. These unknown categories will be encoded as all zeros\n",
      "  warnings.warn(\n",
      "C:\\Users\\drago\\Anaconda3\\lib\\site-packages\\sklearn\\preprocessing\\_encoders.py:188: UserWarning: Found unknown categories in columns [4, 5, 6, 7, 9, 10, 11, 12, 13, 15, 16, 17, 18, 19, 20, 21, 22, 23, 24, 25, 26, 27, 28, 31, 32, 33] during transform. These unknown categories will be encoded as all zeros\n",
      "  warnings.warn(\n",
      "C:\\Users\\drago\\Anaconda3\\lib\\site-packages\\sklearn\\preprocessing\\_encoders.py:188: UserWarning: Found unknown categories in columns [4, 5, 6, 7, 8, 9, 10, 11, 12, 13, 15, 16, 17, 18, 20, 21, 22, 23, 24, 25, 27, 28, 31, 32, 33] during transform. These unknown categories will be encoded as all zeros\n",
      "  warnings.warn(\n",
      "C:\\Users\\drago\\Anaconda3\\lib\\site-packages\\sklearn\\preprocessing\\_encoders.py:188: UserWarning: Found unknown categories in columns [4, 5, 6, 7, 8, 9, 10, 11, 13, 15, 16, 17, 18, 19, 20, 21, 22, 23, 24, 25, 26, 27, 28, 31, 32, 33] during transform. These unknown categories will be encoded as all zeros\n",
      "  warnings.warn(\n",
      "C:\\Users\\drago\\Anaconda3\\lib\\site-packages\\sklearn\\preprocessing\\_encoders.py:188: UserWarning: Found unknown categories in columns [4, 5, 6, 7, 9, 10, 11, 12, 13, 14, 15, 16, 17, 18, 19, 20, 21, 22, 24, 26, 31, 32, 33] during transform. These unknown categories will be encoded as all zeros\n",
      "  warnings.warn(\n",
      "C:\\Users\\drago\\Anaconda3\\lib\\site-packages\\sklearn\\preprocessing\\_encoders.py:188: UserWarning: Found unknown categories in columns [4, 5, 7, 9, 11, 13, 15, 16, 17, 18, 20, 21, 22, 24, 26, 27, 28, 31, 32, 33] during transform. These unknown categories will be encoded as all zeros\n",
      "  warnings.warn(\n",
      "C:\\Users\\drago\\Anaconda3\\lib\\site-packages\\sklearn\\preprocessing\\_encoders.py:188: UserWarning: Found unknown categories in columns [4, 5, 6, 7, 9, 10, 11, 12, 13, 15, 16, 17, 18, 19, 20, 21, 22, 23, 24, 25, 26, 27, 28, 31, 32, 33] during transform. These unknown categories will be encoded as all zeros\n",
      "  warnings.warn(\n",
      "C:\\Users\\drago\\Anaconda3\\lib\\site-packages\\sklearn\\preprocessing\\_encoders.py:188: UserWarning: Found unknown categories in columns [4, 5, 6, 7, 8, 9, 10, 11, 12, 13, 15, 16, 17, 18, 20, 21, 22, 23, 24, 25, 27, 28, 31, 32, 33] during transform. These unknown categories will be encoded as all zeros\n",
      "  warnings.warn(\n",
      "C:\\Users\\drago\\Anaconda3\\lib\\site-packages\\sklearn\\preprocessing\\_encoders.py:188: UserWarning: Found unknown categories in columns [4, 5, 6, 7, 8, 9, 10, 11, 13, 15, 16, 17, 18, 19, 20, 21, 22, 23, 24, 25, 26, 27, 28, 31, 32, 33] during transform. These unknown categories will be encoded as all zeros\n",
      "  warnings.warn(\n",
      "C:\\Users\\drago\\Anaconda3\\lib\\site-packages\\sklearn\\preprocessing\\_encoders.py:188: UserWarning: Found unknown categories in columns [4, 5, 6, 7, 9, 10, 11, 12, 13, 14, 15, 16, 17, 18, 19, 20, 21, 22, 24, 26, 31, 32, 33] during transform. These unknown categories will be encoded as all zeros\n",
      "  warnings.warn(\n",
      "C:\\Users\\drago\\Anaconda3\\lib\\site-packages\\sklearn\\preprocessing\\_encoders.py:188: UserWarning: Found unknown categories in columns [4, 5, 7, 9, 11, 13, 15, 16, 17, 18, 20, 21, 22, 24, 26, 27, 28, 31, 32, 33] during transform. These unknown categories will be encoded as all zeros\n",
      "  warnings.warn(\n",
      "C:\\Users\\drago\\Anaconda3\\lib\\site-packages\\sklearn\\preprocessing\\_encoders.py:188: UserWarning: Found unknown categories in columns [4, 5, 6, 7, 9, 10, 11, 12, 13, 15, 16, 17, 18, 19, 20, 21, 22, 23, 24, 25, 26, 27, 28, 31, 32, 33] during transform. These unknown categories will be encoded as all zeros\n",
      "  warnings.warn(\n",
      "C:\\Users\\drago\\Anaconda3\\lib\\site-packages\\sklearn\\preprocessing\\_encoders.py:188: UserWarning: Found unknown categories in columns [4, 5, 6, 7, 8, 9, 10, 11, 12, 13, 15, 16, 17, 18, 20, 21, 22, 23, 24, 25, 27, 28, 31, 32, 33] during transform. These unknown categories will be encoded as all zeros\n",
      "  warnings.warn(\n"
     ]
    },
    {
     "data": {
      "text/html": [
       "<style>#sk-container-id-4 {color: black;background-color: white;}#sk-container-id-4 pre{padding: 0;}#sk-container-id-4 div.sk-toggleable {background-color: white;}#sk-container-id-4 label.sk-toggleable__label {cursor: pointer;display: block;width: 100%;margin-bottom: 0;padding: 0.3em;box-sizing: border-box;text-align: center;}#sk-container-id-4 label.sk-toggleable__label-arrow:before {content: \"▸\";float: left;margin-right: 0.25em;color: #696969;}#sk-container-id-4 label.sk-toggleable__label-arrow:hover:before {color: black;}#sk-container-id-4 div.sk-estimator:hover label.sk-toggleable__label-arrow:before {color: black;}#sk-container-id-4 div.sk-toggleable__content {max-height: 0;max-width: 0;overflow: hidden;text-align: left;background-color: #f0f8ff;}#sk-container-id-4 div.sk-toggleable__content pre {margin: 0.2em;color: black;border-radius: 0.25em;background-color: #f0f8ff;}#sk-container-id-4 input.sk-toggleable__control:checked~div.sk-toggleable__content {max-height: 200px;max-width: 100%;overflow: auto;}#sk-container-id-4 input.sk-toggleable__control:checked~label.sk-toggleable__label-arrow:before {content: \"▾\";}#sk-container-id-4 div.sk-estimator input.sk-toggleable__control:checked~label.sk-toggleable__label {background-color: #d4ebff;}#sk-container-id-4 div.sk-label input.sk-toggleable__control:checked~label.sk-toggleable__label {background-color: #d4ebff;}#sk-container-id-4 input.sk-hidden--visually {border: 0;clip: rect(1px 1px 1px 1px);clip: rect(1px, 1px, 1px, 1px);height: 1px;margin: -1px;overflow: hidden;padding: 0;position: absolute;width: 1px;}#sk-container-id-4 div.sk-estimator {font-family: monospace;background-color: #f0f8ff;border: 1px dotted black;border-radius: 0.25em;box-sizing: border-box;margin-bottom: 0.5em;}#sk-container-id-4 div.sk-estimator:hover {background-color: #d4ebff;}#sk-container-id-4 div.sk-parallel-item::after {content: \"\";width: 100%;border-bottom: 1px solid gray;flex-grow: 1;}#sk-container-id-4 div.sk-label:hover label.sk-toggleable__label {background-color: #d4ebff;}#sk-container-id-4 div.sk-serial::before {content: \"\";position: absolute;border-left: 1px solid gray;box-sizing: border-box;top: 0;bottom: 0;left: 50%;z-index: 0;}#sk-container-id-4 div.sk-serial {display: flex;flex-direction: column;align-items: center;background-color: white;padding-right: 0.2em;padding-left: 0.2em;position: relative;}#sk-container-id-4 div.sk-item {position: relative;z-index: 1;}#sk-container-id-4 div.sk-parallel {display: flex;align-items: stretch;justify-content: center;background-color: white;position: relative;}#sk-container-id-4 div.sk-item::before, #sk-container-id-4 div.sk-parallel-item::before {content: \"\";position: absolute;border-left: 1px solid gray;box-sizing: border-box;top: 0;bottom: 0;left: 50%;z-index: -1;}#sk-container-id-4 div.sk-parallel-item {display: flex;flex-direction: column;z-index: 1;position: relative;background-color: white;}#sk-container-id-4 div.sk-parallel-item:first-child::after {align-self: flex-end;width: 50%;}#sk-container-id-4 div.sk-parallel-item:last-child::after {align-self: flex-start;width: 50%;}#sk-container-id-4 div.sk-parallel-item:only-child::after {width: 0;}#sk-container-id-4 div.sk-dashed-wrapped {border: 1px dashed gray;margin: 0 0.4em 0.5em 0.4em;box-sizing: border-box;padding-bottom: 0.4em;background-color: white;}#sk-container-id-4 div.sk-label label {font-family: monospace;font-weight: bold;display: inline-block;line-height: 1.2em;}#sk-container-id-4 div.sk-label-container {text-align: center;}#sk-container-id-4 div.sk-container {/* jupyter's `normalize.less` sets `[hidden] { display: none; }` but bootstrap.min.css set `[hidden] { display: none !important; }` so we also need the `!important` here to be able to override the default hidden behavior on the sphinx rendered scikit-learn.org. See: https://github.com/scikit-learn/scikit-learn/issues/21755 */display: inline-block !important;position: relative;}#sk-container-id-4 div.sk-text-repr-fallback {display: none;}</style><div id=\"sk-container-id-4\" class=\"sk-top-container\"><div class=\"sk-text-repr-fallback\"><pre>GridSearchCV(estimator=Pipeline(steps=[(&#x27;encoder&#x27;,\n",
       "                                        ColumnTransformer(transformers=[(&#x27;category&#x27;,\n",
       "                                                                         OneHotEncoder(drop=&#x27;first&#x27;,\n",
       "                                                                                       handle_unknown=&#x27;ignore&#x27;),\n",
       "                                                                         [(&#x27;Info&#x27;,\n",
       "                                                                           &#x27;League&#x27;),\n",
       "                                                                          (&#x27;Info&#x27;,\n",
       "                                                                           &#x27;Year&#x27;),\n",
       "                                                                          (&#x27;Info&#x27;,\n",
       "                                                                           &#x27;Season&#x27;),\n",
       "                                                                          (&#x27;Info&#x27;,\n",
       "                                                                           &#x27;Type&#x27;),\n",
       "                                                                          (&#x27;Blue&#x27;,\n",
       "                                                                           &#x27;TeamTag&#x27;),\n",
       "                                                                          (&#x27;Blue&#x27;,\n",
       "                                                                           &#x27;Top&#x27;),\n",
       "                                                                          (&#x27;Blue&#x27;,\n",
       "                                                                           &#x27;TopChamp&#x27;),\n",
       "                                                                          (&#x27;Blue&#x27;,\n",
       "                                                                           &#x27;Jungle&#x27;),\n",
       "                                                                          (&#x27;Blue&#x27;,\n",
       "                                                                           &#x27;JungleChamp&#x27;),\n",
       "                                                                          (&#x27;Blue&#x27;,\n",
       "                                                                           &#x27;Middle&#x27;),\n",
       "                                                                          (&#x27;Blue&#x27;,\n",
       "                                                                           &#x27;MiddleChamp&#x27;)...\n",
       "                                                                           &#x27;min_15&#x27;),\n",
       "                                                                          (&#x27;goldblueMiddle&#x27;,\n",
       "                                                                           &#x27;min_20&#x27;),\n",
       "                                                                          (&#x27;goldblueADC&#x27;,\n",
       "                                                                           &#x27;min_5&#x27;),\n",
       "                                                                          (&#x27;goldblueADC&#x27;,\n",
       "                                                                           &#x27;min_10&#x27;),\n",
       "                                                                          (&#x27;goldblueADC&#x27;,\n",
       "                                                                           &#x27;min_15&#x27;),\n",
       "                                                                          (&#x27;goldblueADC&#x27;,\n",
       "                                                                           &#x27;min_20&#x27;),\n",
       "                                                                          (&#x27;goldblueSupport&#x27;,\n",
       "                                                                           &#x27;min_5&#x27;), ...])])),\n",
       "                                       (&#x27;model&#x27;,\n",
       "                                        SGDClassifier(loss=&#x27;log_loss&#x27;,\n",
       "                                                      penalty=&#x27;L2&#x27;,\n",
       "                                                      random_state=20220905))]),\n",
       "             param_grid={&#x27;model__alpha&#x27;: array([1.e-04, 1.e-03, 1.e-02, 1.e-01, 1.e+00]),\n",
       "                         &#x27;model__penalty&#x27;: [&#x27;l2&#x27;, &#x27;l1&#x27;]})</pre><b>In a Jupyter environment, please rerun this cell to show the HTML representation or trust the notebook. <br />On GitHub, the HTML representation is unable to render, please try loading this page with nbviewer.org.</b></div><div class=\"sk-container\" hidden><div class=\"sk-item sk-dashed-wrapped\"><div class=\"sk-label-container\"><div class=\"sk-label sk-toggleable\"><input class=\"sk-toggleable__control sk-hidden--visually\" id=\"sk-estimator-id-28\" type=\"checkbox\" ><label for=\"sk-estimator-id-28\" class=\"sk-toggleable__label sk-toggleable__label-arrow\">GridSearchCV</label><div class=\"sk-toggleable__content\"><pre>GridSearchCV(estimator=Pipeline(steps=[(&#x27;encoder&#x27;,\n",
       "                                        ColumnTransformer(transformers=[(&#x27;category&#x27;,\n",
       "                                                                         OneHotEncoder(drop=&#x27;first&#x27;,\n",
       "                                                                                       handle_unknown=&#x27;ignore&#x27;),\n",
       "                                                                         [(&#x27;Info&#x27;,\n",
       "                                                                           &#x27;League&#x27;),\n",
       "                                                                          (&#x27;Info&#x27;,\n",
       "                                                                           &#x27;Year&#x27;),\n",
       "                                                                          (&#x27;Info&#x27;,\n",
       "                                                                           &#x27;Season&#x27;),\n",
       "                                                                          (&#x27;Info&#x27;,\n",
       "                                                                           &#x27;Type&#x27;),\n",
       "                                                                          (&#x27;Blue&#x27;,\n",
       "                                                                           &#x27;TeamTag&#x27;),\n",
       "                                                                          (&#x27;Blue&#x27;,\n",
       "                                                                           &#x27;Top&#x27;),\n",
       "                                                                          (&#x27;Blue&#x27;,\n",
       "                                                                           &#x27;TopChamp&#x27;),\n",
       "                                                                          (&#x27;Blue&#x27;,\n",
       "                                                                           &#x27;Jungle&#x27;),\n",
       "                                                                          (&#x27;Blue&#x27;,\n",
       "                                                                           &#x27;JungleChamp&#x27;),\n",
       "                                                                          (&#x27;Blue&#x27;,\n",
       "                                                                           &#x27;Middle&#x27;),\n",
       "                                                                          (&#x27;Blue&#x27;,\n",
       "                                                                           &#x27;MiddleChamp&#x27;)...\n",
       "                                                                           &#x27;min_15&#x27;),\n",
       "                                                                          (&#x27;goldblueMiddle&#x27;,\n",
       "                                                                           &#x27;min_20&#x27;),\n",
       "                                                                          (&#x27;goldblueADC&#x27;,\n",
       "                                                                           &#x27;min_5&#x27;),\n",
       "                                                                          (&#x27;goldblueADC&#x27;,\n",
       "                                                                           &#x27;min_10&#x27;),\n",
       "                                                                          (&#x27;goldblueADC&#x27;,\n",
       "                                                                           &#x27;min_15&#x27;),\n",
       "                                                                          (&#x27;goldblueADC&#x27;,\n",
       "                                                                           &#x27;min_20&#x27;),\n",
       "                                                                          (&#x27;goldblueSupport&#x27;,\n",
       "                                                                           &#x27;min_5&#x27;), ...])])),\n",
       "                                       (&#x27;model&#x27;,\n",
       "                                        SGDClassifier(loss=&#x27;log_loss&#x27;,\n",
       "                                                      penalty=&#x27;L2&#x27;,\n",
       "                                                      random_state=20220905))]),\n",
       "             param_grid={&#x27;model__alpha&#x27;: array([1.e-04, 1.e-03, 1.e-02, 1.e-01, 1.e+00]),\n",
       "                         &#x27;model__penalty&#x27;: [&#x27;l2&#x27;, &#x27;l1&#x27;]})</pre></div></div></div><div class=\"sk-parallel\"><div class=\"sk-parallel-item\"><div class=\"sk-item\"><div class=\"sk-label-container\"><div class=\"sk-label sk-toggleable\"><input class=\"sk-toggleable__control sk-hidden--visually\" id=\"sk-estimator-id-29\" type=\"checkbox\" ><label for=\"sk-estimator-id-29\" class=\"sk-toggleable__label sk-toggleable__label-arrow\">estimator: Pipeline</label><div class=\"sk-toggleable__content\"><pre>Pipeline(steps=[(&#x27;encoder&#x27;,\n",
       "                 ColumnTransformer(transformers=[(&#x27;category&#x27;,\n",
       "                                                  OneHotEncoder(drop=&#x27;first&#x27;,\n",
       "                                                                handle_unknown=&#x27;ignore&#x27;),\n",
       "                                                  [(&#x27;Info&#x27;, &#x27;League&#x27;),\n",
       "                                                   (&#x27;Info&#x27;, &#x27;Year&#x27;),\n",
       "                                                   (&#x27;Info&#x27;, &#x27;Season&#x27;),\n",
       "                                                   (&#x27;Info&#x27;, &#x27;Type&#x27;),\n",
       "                                                   (&#x27;Blue&#x27;, &#x27;TeamTag&#x27;),\n",
       "                                                   (&#x27;Blue&#x27;, &#x27;Top&#x27;),\n",
       "                                                   (&#x27;Blue&#x27;, &#x27;TopChamp&#x27;),\n",
       "                                                   (&#x27;Blue&#x27;, &#x27;Jungle&#x27;),\n",
       "                                                   (&#x27;Blue&#x27;, &#x27;JungleChamp&#x27;),\n",
       "                                                   (&#x27;Blue&#x27;, &#x27;Middle&#x27;),\n",
       "                                                   (&#x27;Blue&#x27;, &#x27;MiddleChamp&#x27;),\n",
       "                                                   (&#x27;Blue&#x27;, &#x27;ADC&#x27;),\n",
       "                                                   (&#x27;Blue&#x27;...\n",
       "                                                   (&#x27;goldblueJungle&#x27;, &#x27;min_20&#x27;),\n",
       "                                                   (&#x27;goldblueMiddle&#x27;, &#x27;min_5&#x27;),\n",
       "                                                   (&#x27;goldblueMiddle&#x27;, &#x27;min_10&#x27;),\n",
       "                                                   (&#x27;goldblueMiddle&#x27;, &#x27;min_15&#x27;),\n",
       "                                                   (&#x27;goldblueMiddle&#x27;, &#x27;min_20&#x27;),\n",
       "                                                   (&#x27;goldblueADC&#x27;, &#x27;min_5&#x27;),\n",
       "                                                   (&#x27;goldblueADC&#x27;, &#x27;min_10&#x27;),\n",
       "                                                   (&#x27;goldblueADC&#x27;, &#x27;min_15&#x27;),\n",
       "                                                   (&#x27;goldblueADC&#x27;, &#x27;min_20&#x27;),\n",
       "                                                   (&#x27;goldblueSupport&#x27;, &#x27;min_5&#x27;), ...])])),\n",
       "                (&#x27;model&#x27;,\n",
       "                 SGDClassifier(loss=&#x27;log_loss&#x27;, penalty=&#x27;L2&#x27;,\n",
       "                               random_state=20220905))])</pre></div></div></div><div class=\"sk-serial\"><div class=\"sk-item\"><div class=\"sk-serial\"><div class=\"sk-item sk-dashed-wrapped\"><div class=\"sk-label-container\"><div class=\"sk-label sk-toggleable\"><input class=\"sk-toggleable__control sk-hidden--visually\" id=\"sk-estimator-id-30\" type=\"checkbox\" ><label for=\"sk-estimator-id-30\" class=\"sk-toggleable__label sk-toggleable__label-arrow\">encoder: ColumnTransformer</label><div class=\"sk-toggleable__content\"><pre>ColumnTransformer(transformers=[(&#x27;category&#x27;,\n",
       "                                 OneHotEncoder(drop=&#x27;first&#x27;,\n",
       "                                               handle_unknown=&#x27;ignore&#x27;),\n",
       "                                 [(&#x27;Info&#x27;, &#x27;League&#x27;), (&#x27;Info&#x27;, &#x27;Year&#x27;),\n",
       "                                  (&#x27;Info&#x27;, &#x27;Season&#x27;), (&#x27;Info&#x27;, &#x27;Type&#x27;),\n",
       "                                  (&#x27;Blue&#x27;, &#x27;TeamTag&#x27;), (&#x27;Blue&#x27;, &#x27;Top&#x27;),\n",
       "                                  (&#x27;Blue&#x27;, &#x27;TopChamp&#x27;), (&#x27;Blue&#x27;, &#x27;Jungle&#x27;),\n",
       "                                  (&#x27;Blue&#x27;, &#x27;JungleChamp&#x27;), (&#x27;Blue&#x27;, &#x27;Middle&#x27;),\n",
       "                                  (&#x27;Blue&#x27;, &#x27;MiddleChamp&#x27;), (&#x27;Blue&#x27;, &#x27;ADC&#x27;),\n",
       "                                  (&#x27;Blue&#x27;, &#x27;ADCChamp&#x27;), (&#x27;Blue&#x27;, &#x27;Suppo...\n",
       "                                  (&#x27;goldblueJungle&#x27;, &#x27;min_5&#x27;),\n",
       "                                  (&#x27;goldblueJungle&#x27;, &#x27;min_10&#x27;),\n",
       "                                  (&#x27;goldblueJungle&#x27;, &#x27;min_15&#x27;),\n",
       "                                  (&#x27;goldblueJungle&#x27;, &#x27;min_20&#x27;),\n",
       "                                  (&#x27;goldblueMiddle&#x27;, &#x27;min_5&#x27;),\n",
       "                                  (&#x27;goldblueMiddle&#x27;, &#x27;min_10&#x27;),\n",
       "                                  (&#x27;goldblueMiddle&#x27;, &#x27;min_15&#x27;),\n",
       "                                  (&#x27;goldblueMiddle&#x27;, &#x27;min_20&#x27;),\n",
       "                                  (&#x27;goldblueADC&#x27;, &#x27;min_5&#x27;),\n",
       "                                  (&#x27;goldblueADC&#x27;, &#x27;min_10&#x27;),\n",
       "                                  (&#x27;goldblueADC&#x27;, &#x27;min_15&#x27;),\n",
       "                                  (&#x27;goldblueADC&#x27;, &#x27;min_20&#x27;),\n",
       "                                  (&#x27;goldblueSupport&#x27;, &#x27;min_5&#x27;), ...])])</pre></div></div></div><div class=\"sk-parallel\"><div class=\"sk-parallel-item\"><div class=\"sk-item\"><div class=\"sk-label-container\"><div class=\"sk-label sk-toggleable\"><input class=\"sk-toggleable__control sk-hidden--visually\" id=\"sk-estimator-id-31\" type=\"checkbox\" ><label for=\"sk-estimator-id-31\" class=\"sk-toggleable__label sk-toggleable__label-arrow\">category</label><div class=\"sk-toggleable__content\"><pre>[(&#x27;Info&#x27;, &#x27;League&#x27;), (&#x27;Info&#x27;, &#x27;Year&#x27;), (&#x27;Info&#x27;, &#x27;Season&#x27;), (&#x27;Info&#x27;, &#x27;Type&#x27;), (&#x27;Blue&#x27;, &#x27;TeamTag&#x27;), (&#x27;Blue&#x27;, &#x27;Top&#x27;), (&#x27;Blue&#x27;, &#x27;TopChamp&#x27;), (&#x27;Blue&#x27;, &#x27;Jungle&#x27;), (&#x27;Blue&#x27;, &#x27;JungleChamp&#x27;), (&#x27;Blue&#x27;, &#x27;Middle&#x27;), (&#x27;Blue&#x27;, &#x27;MiddleChamp&#x27;), (&#x27;Blue&#x27;, &#x27;ADC&#x27;), (&#x27;Blue&#x27;, &#x27;ADCChamp&#x27;), (&#x27;Blue&#x27;, &#x27;Support&#x27;), (&#x27;Blue&#x27;, &#x27;SupportChamp&#x27;), (&#x27;Red&#x27;, &#x27;TeamTag&#x27;), (&#x27;Red&#x27;, &#x27;Top&#x27;), (&#x27;Red&#x27;, &#x27;TopChamp&#x27;), (&#x27;Red&#x27;, &#x27;Jungle&#x27;), (&#x27;Red&#x27;, &#x27;JungleChamp&#x27;), (&#x27;Red&#x27;, &#x27;Middle&#x27;), (&#x27;Red&#x27;, &#x27;MiddleChamp&#x27;), (&#x27;Red&#x27;, &#x27;ADC&#x27;), (&#x27;Red&#x27;, &#x27;ADCChamp&#x27;), (&#x27;Red&#x27;, &#x27;Support&#x27;), (&#x27;Red&#x27;, &#x27;SupportChamp&#x27;), (&#x27;Blue&#x27;, &#x27;ban_1&#x27;), (&#x27;Blue&#x27;, &#x27;ban_2&#x27;), (&#x27;Blue&#x27;, &#x27;ban_3&#x27;), (&#x27;Blue&#x27;, &#x27;ban_4&#x27;), (&#x27;Blue&#x27;, &#x27;ban_5&#x27;), (&#x27;Red&#x27;, &#x27;ban_1&#x27;), (&#x27;Red&#x27;, &#x27;ban_2&#x27;), (&#x27;Red&#x27;, &#x27;ban_3&#x27;), (&#x27;Red&#x27;, &#x27;ban_4&#x27;), (&#x27;Red&#x27;, &#x27;ban_5&#x27;)]</pre></div></div></div><div class=\"sk-serial\"><div class=\"sk-item\"><div class=\"sk-estimator sk-toggleable\"><input class=\"sk-toggleable__control sk-hidden--visually\" id=\"sk-estimator-id-32\" type=\"checkbox\" ><label for=\"sk-estimator-id-32\" class=\"sk-toggleable__label sk-toggleable__label-arrow\">OneHotEncoder</label><div class=\"sk-toggleable__content\"><pre>OneHotEncoder(drop=&#x27;first&#x27;, handle_unknown=&#x27;ignore&#x27;)</pre></div></div></div></div></div></div><div class=\"sk-parallel-item\"><div class=\"sk-item\"><div class=\"sk-label-container\"><div class=\"sk-label sk-toggleable\"><input class=\"sk-toggleable__control sk-hidden--visually\" id=\"sk-estimator-id-33\" type=\"checkbox\" ><label for=\"sk-estimator-id-33\" class=\"sk-toggleable__label sk-toggleable__label-arrow\">numeric</label><div class=\"sk-toggleable__content\"><pre>[(&#x27;Info&#x27;, &#x27;gamelength&#x27;), (&#x27;golddiff&#x27;, &#x27;min_5&#x27;), (&#x27;golddiff&#x27;, &#x27;min_10&#x27;), (&#x27;golddiff&#x27;, &#x27;min_15&#x27;), (&#x27;golddiff&#x27;, &#x27;min_20&#x27;), (&#x27;goldblue&#x27;, &#x27;min_5&#x27;), (&#x27;goldblue&#x27;, &#x27;min_10&#x27;), (&#x27;goldblue&#x27;, &#x27;min_15&#x27;), (&#x27;goldblue&#x27;, &#x27;min_20&#x27;), (&#x27;goldred&#x27;, &#x27;min_5&#x27;), (&#x27;goldred&#x27;, &#x27;min_10&#x27;), (&#x27;goldred&#x27;, &#x27;min_15&#x27;), (&#x27;goldred&#x27;, &#x27;min_20&#x27;), (&#x27;goldblueTop&#x27;, &#x27;min_5&#x27;), (&#x27;goldblueTop&#x27;, &#x27;min_10&#x27;), (&#x27;goldblueTop&#x27;, &#x27;min_15&#x27;), (&#x27;goldblueTop&#x27;, &#x27;min_20&#x27;), (&#x27;goldblueJungle&#x27;, &#x27;min_5&#x27;), (&#x27;goldblueJungle&#x27;, &#x27;min_10&#x27;), (&#x27;goldblueJungle&#x27;, &#x27;min_15&#x27;), (&#x27;goldblueJungle&#x27;, &#x27;min_20&#x27;), (&#x27;goldblueMiddle&#x27;, &#x27;min_5&#x27;), (&#x27;goldblueMiddle&#x27;, &#x27;min_10&#x27;), (&#x27;goldblueMiddle&#x27;, &#x27;min_15&#x27;), (&#x27;goldblueMiddle&#x27;, &#x27;min_20&#x27;), (&#x27;goldblueADC&#x27;, &#x27;min_5&#x27;), (&#x27;goldblueADC&#x27;, &#x27;min_10&#x27;), (&#x27;goldblueADC&#x27;, &#x27;min_15&#x27;), (&#x27;goldblueADC&#x27;, &#x27;min_20&#x27;), (&#x27;goldblueSupport&#x27;, &#x27;min_5&#x27;), (&#x27;goldblueSupport&#x27;, &#x27;min_10&#x27;), (&#x27;goldblueSupport&#x27;, &#x27;min_15&#x27;), (&#x27;goldblueSupport&#x27;, &#x27;min_20&#x27;), (&#x27;goldredTop&#x27;, &#x27;min_5&#x27;), (&#x27;goldredTop&#x27;, &#x27;min_10&#x27;), (&#x27;goldredTop&#x27;, &#x27;min_15&#x27;), (&#x27;goldredTop&#x27;, &#x27;min_20&#x27;), (&#x27;goldredJungle&#x27;, &#x27;min_5&#x27;), (&#x27;goldredJungle&#x27;, &#x27;min_10&#x27;), (&#x27;goldredJungle&#x27;, &#x27;min_15&#x27;), (&#x27;goldredJungle&#x27;, &#x27;min_20&#x27;), (&#x27;goldredMiddle&#x27;, &#x27;min_5&#x27;), (&#x27;goldredMiddle&#x27;, &#x27;min_10&#x27;), (&#x27;goldredMiddle&#x27;, &#x27;min_15&#x27;), (&#x27;goldredMiddle&#x27;, &#x27;min_20&#x27;), (&#x27;goldredADC&#x27;, &#x27;min_5&#x27;), (&#x27;goldredADC&#x27;, &#x27;min_10&#x27;), (&#x27;goldredADC&#x27;, &#x27;min_15&#x27;), (&#x27;goldredADC&#x27;, &#x27;min_20&#x27;), (&#x27;goldredSupport&#x27;, &#x27;min_5&#x27;), (&#x27;goldredSupport&#x27;, &#x27;min_10&#x27;), (&#x27;goldredSupport&#x27;, &#x27;min_15&#x27;), (&#x27;goldredSupport&#x27;, &#x27;min_20&#x27;), (&#x27;Blue&#x27;, &#x27;Towers&#x27;), (&#x27;Red&#x27;, &#x27;Towers&#x27;), (&#x27;Blue&#x27;, &#x27;Inhib&#x27;), (&#x27;Red&#x27;, &#x27;Inhib&#x27;), (&#x27;Blue&#x27;, &#x27;Dragon&#x27;), (&#x27;Blue&#x27;, &#x27;Herald&#x27;), (&#x27;Red&#x27;, &#x27;Dragon&#x27;), (&#x27;Red&#x27;, &#x27;Herald&#x27;), (&#x27;Blue&#x27;, &#x27;Kills&#x27;), (&#x27;Red&#x27;, &#x27;Kills&#x27;)]</pre></div></div></div><div class=\"sk-serial\"><div class=\"sk-item\"><div class=\"sk-estimator sk-toggleable\"><input class=\"sk-toggleable__control sk-hidden--visually\" id=\"sk-estimator-id-34\" type=\"checkbox\" ><label for=\"sk-estimator-id-34\" class=\"sk-toggleable__label sk-toggleable__label-arrow\">MinMaxScaler</label><div class=\"sk-toggleable__content\"><pre>MinMaxScaler()</pre></div></div></div></div></div></div></div></div><div class=\"sk-item\"><div class=\"sk-estimator sk-toggleable\"><input class=\"sk-toggleable__control sk-hidden--visually\" id=\"sk-estimator-id-35\" type=\"checkbox\" ><label for=\"sk-estimator-id-35\" class=\"sk-toggleable__label sk-toggleable__label-arrow\">SGDClassifier</label><div class=\"sk-toggleable__content\"><pre>SGDClassifier(loss=&#x27;log_loss&#x27;, penalty=&#x27;L2&#x27;, random_state=20220905)</pre></div></div></div></div></div></div></div></div></div></div></div></div>"
      ],
      "text/plain": [
       "GridSearchCV(estimator=Pipeline(steps=[('encoder',\n",
       "                                        ColumnTransformer(transformers=[('category',\n",
       "                                                                         OneHotEncoder(drop='first',\n",
       "                                                                                       handle_unknown='ignore'),\n",
       "                                                                         [('Info',\n",
       "                                                                           'League'),\n",
       "                                                                          ('Info',\n",
       "                                                                           'Year'),\n",
       "                                                                          ('Info',\n",
       "                                                                           'Season'),\n",
       "                                                                          ('Info',\n",
       "                                                                           'Type'),\n",
       "                                                                          ('Blue',\n",
       "                                                                           'TeamTag'),\n",
       "                                                                          ('Blue',\n",
       "                                                                           'Top'),\n",
       "                                                                          ('Blue',\n",
       "                                                                           'TopChamp'),\n",
       "                                                                          ('Blue',\n",
       "                                                                           'Jungle'),\n",
       "                                                                          ('Blue',\n",
       "                                                                           'JungleChamp'),\n",
       "                                                                          ('Blue',\n",
       "                                                                           'Middle'),\n",
       "                                                                          ('Blue',\n",
       "                                                                           'MiddleChamp')...\n",
       "                                                                           'min_15'),\n",
       "                                                                          ('goldblueMiddle',\n",
       "                                                                           'min_20'),\n",
       "                                                                          ('goldblueADC',\n",
       "                                                                           'min_5'),\n",
       "                                                                          ('goldblueADC',\n",
       "                                                                           'min_10'),\n",
       "                                                                          ('goldblueADC',\n",
       "                                                                           'min_15'),\n",
       "                                                                          ('goldblueADC',\n",
       "                                                                           'min_20'),\n",
       "                                                                          ('goldblueSupport',\n",
       "                                                                           'min_5'), ...])])),\n",
       "                                       ('model',\n",
       "                                        SGDClassifier(loss='log_loss',\n",
       "                                                      penalty='L2',\n",
       "                                                      random_state=20220905))]),\n",
       "             param_grid={'model__alpha': array([1.e-04, 1.e-03, 1.e-02, 1.e-01, 1.e+00]),\n",
       "                         'model__penalty': ['l2', 'l1']})"
      ]
     },
     "execution_count": 38,
     "metadata": {},
     "output_type": "execute_result"
    }
   ],
   "source": [
    "grid_search.fit(X_train, y_train)"
   ]
  },
  {
   "cell_type": "code",
   "execution_count": 39,
   "id": "ab36115b-68d1-4ae4-9d5c-4b612eafcaa2",
   "metadata": {
    "tags": []
   },
   "outputs": [],
   "source": [
    "params = grid_search.cv_results_['params']\n",
    "scores = grid_search.cv_results_['mean_test_score']"
   ]
  },
  {
   "cell_type": "code",
   "execution_count": 40,
   "id": "89039152-cadc-4640-a56b-a1d82e6967c2",
   "metadata": {},
   "outputs": [],
   "source": [
    "rows = [dict(param_dict, score=score) for param_dict, score in zip(params, scores)]"
   ]
  },
  {
   "cell_type": "code",
   "execution_count": 41,
   "id": "6f3560b4-1845-4bfb-a67b-fde500b3efdc",
   "metadata": {},
   "outputs": [
    {
     "data": {
      "text/html": [
       "<div>\n",
       "<style scoped>\n",
       "    .dataframe tbody tr th:only-of-type {\n",
       "        vertical-align: middle;\n",
       "    }\n",
       "\n",
       "    .dataframe tbody tr th {\n",
       "        vertical-align: top;\n",
       "    }\n",
       "\n",
       "    .dataframe thead th {\n",
       "        text-align: right;\n",
       "    }\n",
       "</style>\n",
       "<table border=\"1\" class=\"dataframe\">\n",
       "  <thead>\n",
       "    <tr style=\"text-align: right;\">\n",
       "      <th></th>\n",
       "      <th>alpha</th>\n",
       "      <th>Reg. Type</th>\n",
       "      <th>Accuracy</th>\n",
       "    </tr>\n",
       "  </thead>\n",
       "  <tbody>\n",
       "    <tr>\n",
       "      <th>0</th>\n",
       "      <td>0.0001</td>\n",
       "      <td>l2</td>\n",
       "      <td>0.526087</td>\n",
       "    </tr>\n",
       "    <tr>\n",
       "      <th>1</th>\n",
       "      <td>0.0001</td>\n",
       "      <td>l1</td>\n",
       "      <td>0.588538</td>\n",
       "    </tr>\n",
       "    <tr>\n",
       "      <th>2</th>\n",
       "      <td>0.0010</td>\n",
       "      <td>l2</td>\n",
       "      <td>0.597628</td>\n",
       "    </tr>\n",
       "    <tr>\n",
       "      <th>3</th>\n",
       "      <td>0.0010</td>\n",
       "      <td>l1</td>\n",
       "      <td>0.571542</td>\n",
       "    </tr>\n",
       "    <tr>\n",
       "      <th>4</th>\n",
       "      <td>0.0100</td>\n",
       "      <td>l2</td>\n",
       "      <td>0.606719</td>\n",
       "    </tr>\n",
       "    <tr>\n",
       "      <th>5</th>\n",
       "      <td>0.0100</td>\n",
       "      <td>l1</td>\n",
       "      <td>0.552569</td>\n",
       "    </tr>\n",
       "    <tr>\n",
       "      <th>6</th>\n",
       "      <td>0.1000</td>\n",
       "      <td>l2</td>\n",
       "      <td>0.589328</td>\n",
       "    </tr>\n",
       "    <tr>\n",
       "      <th>7</th>\n",
       "      <td>0.1000</td>\n",
       "      <td>l1</td>\n",
       "      <td>0.535968</td>\n",
       "    </tr>\n",
       "    <tr>\n",
       "      <th>8</th>\n",
       "      <td>1.0000</td>\n",
       "      <td>l2</td>\n",
       "      <td>0.606719</td>\n",
       "    </tr>\n",
       "    <tr>\n",
       "      <th>9</th>\n",
       "      <td>1.0000</td>\n",
       "      <td>l1</td>\n",
       "      <td>0.535968</td>\n",
       "    </tr>\n",
       "  </tbody>\n",
       "</table>\n",
       "</div>"
      ],
      "text/plain": [
       "    alpha Reg. Type  Accuracy\n",
       "0  0.0001        l2  0.526087\n",
       "1  0.0001        l1  0.588538\n",
       "2  0.0010        l2  0.597628\n",
       "3  0.0010        l1  0.571542\n",
       "4  0.0100        l2  0.606719\n",
       "5  0.0100        l1  0.552569\n",
       "6  0.1000        l2  0.589328\n",
       "7  0.1000        l1  0.535968\n",
       "8  1.0000        l2  0.606719\n",
       "9  1.0000        l1  0.535968"
      ]
     },
     "execution_count": 41,
     "metadata": {},
     "output_type": "execute_result"
    }
   ],
   "source": [
    "results_df = pd.DataFrame(rows)\n",
    "results_df.columns = ['alpha', 'Reg. Type', 'Accuracy']\n",
    "results_df"
   ]
  },
  {
   "cell_type": "markdown",
   "id": "ac6a7d02-3739-46ba-ac64-1943b0b5a874",
   "metadata": {},
   "source": [
    "Plot the accuracy by regularization strengh for the different types of regularization."
   ]
  },
  {
   "cell_type": "code",
   "execution_count": 42,
   "id": "f724860d-5811-4ee5-a80f-63a50faea1e3",
   "metadata": {},
   "outputs": [
    {
     "data": {
      "image/png": "[encoded data removed]",
      "text/plain": [
       "<Figure size 432x288 with 1 Axes>"
      ]
     },
     "metadata": {
      "needs_background": "light"
     },
     "output_type": "display_data"
    }
   ],
   "source": [
    "SGD_Grid_plot = sb.lineplot(data=results_df, x='alpha', y='Accuracy', hue='Reg. Type', marker='o')\n",
    "SGD_Grid_plot.set(xscale='log', title = 'SGD Classifier Model Parameters')\n",
    "\n",
    "SGD_Grid_plot.get_figure().savefig('../plots/SDG_Grid_plot.png')"
   ]
  },
  {
   "cell_type": "markdown",
   "id": "9f4c8e7f",
   "metadata": {},
   "source": [
    "Best model is:\n",
    "\n",
    "$penalty = L2$\n",
    "\n",
    "$\\alpha = 0.01$"
   ]
  },
  {
   "cell_type": "code",
   "execution_count": 43,
   "id": "5d878919-1560-4257-b415-89ea17ec3f22",
   "metadata": {
    "tags": []
   },
   "outputs": [],
   "source": [
    "SGD_model = SGDClassifier(loss='log_loss', penalty='L2', max_iter=1000,\n",
    "                          random_state=20220905, tol=1.0e-03, alpha = 1e-2)"
   ]
  },
  {
   "cell_type": "code",
   "execution_count": 44,
   "id": "88df63a7-d6ba-486e-be9e-53c94bda2224",
   "metadata": {},
   "outputs": [],
   "source": [
    "pipe2 = Pipeline(steps=[('data', data_pipe), ('model', SGD_model)])"
   ]
  },
  {
   "cell_type": "code",
   "execution_count": 45,
   "id": "32068019-1822-4372-af4e-94816994155f",
   "metadata": {
    "tags": []
   },
   "outputs": [
    {
     "data": {
      "text/html": [
       "<style>#sk-container-id-5 {color: black;background-color: white;}#sk-container-id-5 pre{padding: 0;}#sk-container-id-5 div.sk-toggleable {background-color: white;}#sk-container-id-5 label.sk-toggleable__label {cursor: pointer;display: block;width: 100%;margin-bottom: 0;padding: 0.3em;box-sizing: border-box;text-align: center;}#sk-container-id-5 label.sk-toggleable__label-arrow:before {content: \"▸\";float: left;margin-right: 0.25em;color: #696969;}#sk-container-id-5 label.sk-toggleable__label-arrow:hover:before {color: black;}#sk-container-id-5 div.sk-estimator:hover label.sk-toggleable__label-arrow:before {color: black;}#sk-container-id-5 div.sk-toggleable__content {max-height: 0;max-width: 0;overflow: hidden;text-align: left;background-color: #f0f8ff;}#sk-container-id-5 div.sk-toggleable__content pre {margin: 0.2em;color: black;border-radius: 0.25em;background-color: #f0f8ff;}#sk-container-id-5 input.sk-toggleable__control:checked~div.sk-toggleable__content {max-height: 200px;max-width: 100%;overflow: auto;}#sk-container-id-5 input.sk-toggleable__control:checked~label.sk-toggleable__label-arrow:before {content: \"▾\";}#sk-container-id-5 div.sk-estimator input.sk-toggleable__control:checked~label.sk-toggleable__label {background-color: #d4ebff;}#sk-container-id-5 div.sk-label input.sk-toggleable__control:checked~label.sk-toggleable__label {background-color: #d4ebff;}#sk-container-id-5 input.sk-hidden--visually {border: 0;clip: rect(1px 1px 1px 1px);clip: rect(1px, 1px, 1px, 1px);height: 1px;margin: -1px;overflow: hidden;padding: 0;position: absolute;width: 1px;}#sk-container-id-5 div.sk-estimator {font-family: monospace;background-color: #f0f8ff;border: 1px dotted black;border-radius: 0.25em;box-sizing: border-box;margin-bottom: 0.5em;}#sk-container-id-5 div.sk-estimator:hover {background-color: #d4ebff;}#sk-container-id-5 div.sk-parallel-item::after {content: \"\";width: 100%;border-bottom: 1px solid gray;flex-grow: 1;}#sk-container-id-5 div.sk-label:hover label.sk-toggleable__label {background-color: #d4ebff;}#sk-container-id-5 div.sk-serial::before {content: \"\";position: absolute;border-left: 1px solid gray;box-sizing: border-box;top: 0;bottom: 0;left: 50%;z-index: 0;}#sk-container-id-5 div.sk-serial {display: flex;flex-direction: column;align-items: center;background-color: white;padding-right: 0.2em;padding-left: 0.2em;position: relative;}#sk-container-id-5 div.sk-item {position: relative;z-index: 1;}#sk-container-id-5 div.sk-parallel {display: flex;align-items: stretch;justify-content: center;background-color: white;position: relative;}#sk-container-id-5 div.sk-item::before, #sk-container-id-5 div.sk-parallel-item::before {content: \"\";position: absolute;border-left: 1px solid gray;box-sizing: border-box;top: 0;bottom: 0;left: 50%;z-index: -1;}#sk-container-id-5 div.sk-parallel-item {display: flex;flex-direction: column;z-index: 1;position: relative;background-color: white;}#sk-container-id-5 div.sk-parallel-item:first-child::after {align-self: flex-end;width: 50%;}#sk-container-id-5 div.sk-parallel-item:last-child::after {align-self: flex-start;width: 50%;}#sk-container-id-5 div.sk-parallel-item:only-child::after {width: 0;}#sk-container-id-5 div.sk-dashed-wrapped {border: 1px dashed gray;margin: 0 0.4em 0.5em 0.4em;box-sizing: border-box;padding-bottom: 0.4em;background-color: white;}#sk-container-id-5 div.sk-label label {font-family: monospace;font-weight: bold;display: inline-block;line-height: 1.2em;}#sk-container-id-5 div.sk-label-container {text-align: center;}#sk-container-id-5 div.sk-container {/* jupyter's `normalize.less` sets `[hidden] { display: none; }` but bootstrap.min.css set `[hidden] { display: none !important; }` so we also need the `!important` here to be able to override the default hidden behavior on the sphinx rendered scikit-learn.org. See: https://github.com/scikit-learn/scikit-learn/issues/21755 */display: inline-block !important;position: relative;}#sk-container-id-5 div.sk-text-repr-fallback {display: none;}</style><div id=\"sk-container-id-5\" class=\"sk-top-container\"><div class=\"sk-text-repr-fallback\"><pre>Pipeline(steps=[(&#x27;data&#x27;,\n",
       "                 Pipeline(steps=[(&#x27;preprocess&#x27;,\n",
       "                                  ColumnTransformer(transformers=[(&#x27;category&#x27;,\n",
       "                                                                   OneHotEncoder(drop=&#x27;first&#x27;,\n",
       "                                                                                 handle_unknown=&#x27;ignore&#x27;),\n",
       "                                                                   [(&#x27;Info&#x27;,\n",
       "                                                                     &#x27;League&#x27;),\n",
       "                                                                    (&#x27;Info&#x27;,\n",
       "                                                                     &#x27;Year&#x27;),\n",
       "                                                                    (&#x27;Info&#x27;,\n",
       "                                                                     &#x27;Season&#x27;),\n",
       "                                                                    (&#x27;Info&#x27;,\n",
       "                                                                     &#x27;Type&#x27;),\n",
       "                                                                    (&#x27;Blue&#x27;,\n",
       "                                                                     &#x27;TeamTag&#x27;),\n",
       "                                                                    (&#x27;Blue&#x27;,\n",
       "                                                                     &#x27;Top&#x27;),\n",
       "                                                                    (&#x27;Blue&#x27;,\n",
       "                                                                     &#x27;TopChamp&#x27;),\n",
       "                                                                    (&#x27;Blue&#x27;,\n",
       "                                                                     &#x27;Jungle&#x27;),\n",
       "                                                                    (&#x27;Blue&#x27;,\n",
       "                                                                     &#x27;JungleChamp&#x27;),\n",
       "                                                                    (&#x27;Blue&#x27;,\n",
       "                                                                     &#x27;Middle&#x27;),\n",
       "                                                                    (&#x27;Blue&#x27;,\n",
       "                                                                     &#x27;MiddleCha...\n",
       "                                                                    (&#x27;goldblueJungle&#x27;,\n",
       "                                                                     &#x27;min_20&#x27;),\n",
       "                                                                    (&#x27;goldblueMiddle&#x27;,\n",
       "                                                                     &#x27;min_5&#x27;),\n",
       "                                                                    (&#x27;goldblueMiddle&#x27;,\n",
       "                                                                     &#x27;min_10&#x27;),\n",
       "                                                                    (&#x27;goldblueMiddle&#x27;,\n",
       "                                                                     &#x27;min_15&#x27;),\n",
       "                                                                    (&#x27;goldblueMiddle&#x27;,\n",
       "                                                                     &#x27;min_20&#x27;),\n",
       "                                                                    (&#x27;goldblueADC&#x27;,\n",
       "                                                                     &#x27;min_5&#x27;),\n",
       "                                                                    (&#x27;goldblueADC&#x27;,\n",
       "                                                                     &#x27;min_10&#x27;),\n",
       "                                                                    (&#x27;goldblueADC&#x27;,\n",
       "                                                                     &#x27;min_15&#x27;),\n",
       "                                                                    (&#x27;goldblueADC&#x27;,\n",
       "                                                                     &#x27;min_20&#x27;),\n",
       "                                                                    (&#x27;goldblueSupport&#x27;,\n",
       "                                                                     &#x27;min_5&#x27;), ...])]))])),\n",
       "                (&#x27;model&#x27;,\n",
       "                 SGDClassifier(alpha=0.01, loss=&#x27;log_loss&#x27;, penalty=&#x27;L2&#x27;,\n",
       "                               random_state=20220905))])</pre><b>In a Jupyter environment, please rerun this cell to show the HTML representation or trust the notebook. <br />On GitHub, the HTML representation is unable to render, please try loading this page with nbviewer.org.</b></div><div class=\"sk-container\" hidden><div class=\"sk-item sk-dashed-wrapped\"><div class=\"sk-label-container\"><div class=\"sk-label sk-toggleable\"><input class=\"sk-toggleable__control sk-hidden--visually\" id=\"sk-estimator-id-36\" type=\"checkbox\" ><label for=\"sk-estimator-id-36\" class=\"sk-toggleable__label sk-toggleable__label-arrow\">Pipeline</label><div class=\"sk-toggleable__content\"><pre>Pipeline(steps=[(&#x27;data&#x27;,\n",
       "                 Pipeline(steps=[(&#x27;preprocess&#x27;,\n",
       "                                  ColumnTransformer(transformers=[(&#x27;category&#x27;,\n",
       "                                                                   OneHotEncoder(drop=&#x27;first&#x27;,\n",
       "                                                                                 handle_unknown=&#x27;ignore&#x27;),\n",
       "                                                                   [(&#x27;Info&#x27;,\n",
       "                                                                     &#x27;League&#x27;),\n",
       "                                                                    (&#x27;Info&#x27;,\n",
       "                                                                     &#x27;Year&#x27;),\n",
       "                                                                    (&#x27;Info&#x27;,\n",
       "                                                                     &#x27;Season&#x27;),\n",
       "                                                                    (&#x27;Info&#x27;,\n",
       "                                                                     &#x27;Type&#x27;),\n",
       "                                                                    (&#x27;Blue&#x27;,\n",
       "                                                                     &#x27;TeamTag&#x27;),\n",
       "                                                                    (&#x27;Blue&#x27;,\n",
       "                                                                     &#x27;Top&#x27;),\n",
       "                                                                    (&#x27;Blue&#x27;,\n",
       "                                                                     &#x27;TopChamp&#x27;),\n",
       "                                                                    (&#x27;Blue&#x27;,\n",
       "                                                                     &#x27;Jungle&#x27;),\n",
       "                                                                    (&#x27;Blue&#x27;,\n",
       "                                                                     &#x27;JungleChamp&#x27;),\n",
       "                                                                    (&#x27;Blue&#x27;,\n",
       "                                                                     &#x27;Middle&#x27;),\n",
       "                                                                    (&#x27;Blue&#x27;,\n",
       "                                                                     &#x27;MiddleCha...\n",
       "                                                                    (&#x27;goldblueJungle&#x27;,\n",
       "                                                                     &#x27;min_20&#x27;),\n",
       "                                                                    (&#x27;goldblueMiddle&#x27;,\n",
       "                                                                     &#x27;min_5&#x27;),\n",
       "                                                                    (&#x27;goldblueMiddle&#x27;,\n",
       "                                                                     &#x27;min_10&#x27;),\n",
       "                                                                    (&#x27;goldblueMiddle&#x27;,\n",
       "                                                                     &#x27;min_15&#x27;),\n",
       "                                                                    (&#x27;goldblueMiddle&#x27;,\n",
       "                                                                     &#x27;min_20&#x27;),\n",
       "                                                                    (&#x27;goldblueADC&#x27;,\n",
       "                                                                     &#x27;min_5&#x27;),\n",
       "                                                                    (&#x27;goldblueADC&#x27;,\n",
       "                                                                     &#x27;min_10&#x27;),\n",
       "                                                                    (&#x27;goldblueADC&#x27;,\n",
       "                                                                     &#x27;min_15&#x27;),\n",
       "                                                                    (&#x27;goldblueADC&#x27;,\n",
       "                                                                     &#x27;min_20&#x27;),\n",
       "                                                                    (&#x27;goldblueSupport&#x27;,\n",
       "                                                                     &#x27;min_5&#x27;), ...])]))])),\n",
       "                (&#x27;model&#x27;,\n",
       "                 SGDClassifier(alpha=0.01, loss=&#x27;log_loss&#x27;, penalty=&#x27;L2&#x27;,\n",
       "                               random_state=20220905))])</pre></div></div></div><div class=\"sk-serial\"><div class=\"sk-item\"><div class=\"sk-label-container\"><div class=\"sk-label sk-toggleable\"><input class=\"sk-toggleable__control sk-hidden--visually\" id=\"sk-estimator-id-37\" type=\"checkbox\" ><label for=\"sk-estimator-id-37\" class=\"sk-toggleable__label sk-toggleable__label-arrow\">data: Pipeline</label><div class=\"sk-toggleable__content\"><pre>Pipeline(steps=[(&#x27;preprocess&#x27;,\n",
       "                 ColumnTransformer(transformers=[(&#x27;category&#x27;,\n",
       "                                                  OneHotEncoder(drop=&#x27;first&#x27;,\n",
       "                                                                handle_unknown=&#x27;ignore&#x27;),\n",
       "                                                  [(&#x27;Info&#x27;, &#x27;League&#x27;),\n",
       "                                                   (&#x27;Info&#x27;, &#x27;Year&#x27;),\n",
       "                                                   (&#x27;Info&#x27;, &#x27;Season&#x27;),\n",
       "                                                   (&#x27;Info&#x27;, &#x27;Type&#x27;),\n",
       "                                                   (&#x27;Blue&#x27;, &#x27;TeamTag&#x27;),\n",
       "                                                   (&#x27;Blue&#x27;, &#x27;Top&#x27;),\n",
       "                                                   (&#x27;Blue&#x27;, &#x27;TopChamp&#x27;),\n",
       "                                                   (&#x27;Blue&#x27;, &#x27;Jungle&#x27;),\n",
       "                                                   (&#x27;Blue&#x27;, &#x27;JungleChamp&#x27;),\n",
       "                                                   (&#x27;Blue&#x27;, &#x27;Middle&#x27;),\n",
       "                                                   (&#x27;Blue&#x27;, &#x27;MiddleChamp&#x27;),\n",
       "                                                   (&#x27;Blue&#x27;, &#x27;ADC&#x27;),\n",
       "                                                   (&#x27;Bl...\n",
       "                                                   (&#x27;goldblueJungle&#x27;, &#x27;min_5&#x27;),\n",
       "                                                   (&#x27;goldblueJungle&#x27;, &#x27;min_10&#x27;),\n",
       "                                                   (&#x27;goldblueJungle&#x27;, &#x27;min_15&#x27;),\n",
       "                                                   (&#x27;goldblueJungle&#x27;, &#x27;min_20&#x27;),\n",
       "                                                   (&#x27;goldblueMiddle&#x27;, &#x27;min_5&#x27;),\n",
       "                                                   (&#x27;goldblueMiddle&#x27;, &#x27;min_10&#x27;),\n",
       "                                                   (&#x27;goldblueMiddle&#x27;, &#x27;min_15&#x27;),\n",
       "                                                   (&#x27;goldblueMiddle&#x27;, &#x27;min_20&#x27;),\n",
       "                                                   (&#x27;goldblueADC&#x27;, &#x27;min_5&#x27;),\n",
       "                                                   (&#x27;goldblueADC&#x27;, &#x27;min_10&#x27;),\n",
       "                                                   (&#x27;goldblueADC&#x27;, &#x27;min_15&#x27;),\n",
       "                                                   (&#x27;goldblueADC&#x27;, &#x27;min_20&#x27;),\n",
       "                                                   (&#x27;goldblueSupport&#x27;, &#x27;min_5&#x27;), ...])]))])</pre></div></div></div><div class=\"sk-serial\"><div class=\"sk-item sk-dashed-wrapped\"><div class=\"sk-label-container\"><div class=\"sk-label sk-toggleable\"><input class=\"sk-toggleable__control sk-hidden--visually\" id=\"sk-estimator-id-38\" type=\"checkbox\" ><label for=\"sk-estimator-id-38\" class=\"sk-toggleable__label sk-toggleable__label-arrow\">preprocess: ColumnTransformer</label><div class=\"sk-toggleable__content\"><pre>ColumnTransformer(transformers=[(&#x27;category&#x27;,\n",
       "                                 OneHotEncoder(drop=&#x27;first&#x27;,\n",
       "                                               handle_unknown=&#x27;ignore&#x27;),\n",
       "                                 [(&#x27;Info&#x27;, &#x27;League&#x27;), (&#x27;Info&#x27;, &#x27;Year&#x27;),\n",
       "                                  (&#x27;Info&#x27;, &#x27;Season&#x27;), (&#x27;Info&#x27;, &#x27;Type&#x27;),\n",
       "                                  (&#x27;Blue&#x27;, &#x27;TeamTag&#x27;), (&#x27;Blue&#x27;, &#x27;Top&#x27;),\n",
       "                                  (&#x27;Blue&#x27;, &#x27;TopChamp&#x27;), (&#x27;Blue&#x27;, &#x27;Jungle&#x27;),\n",
       "                                  (&#x27;Blue&#x27;, &#x27;JungleChamp&#x27;), (&#x27;Blue&#x27;, &#x27;Middle&#x27;),\n",
       "                                  (&#x27;Blue&#x27;, &#x27;MiddleChamp&#x27;), (&#x27;Blue&#x27;, &#x27;ADC&#x27;),\n",
       "                                  (&#x27;Blue&#x27;, &#x27;ADCChamp&#x27;), (&#x27;Blue&#x27;, &#x27;Suppo...\n",
       "                                  (&#x27;goldblueJungle&#x27;, &#x27;min_5&#x27;),\n",
       "                                  (&#x27;goldblueJungle&#x27;, &#x27;min_10&#x27;),\n",
       "                                  (&#x27;goldblueJungle&#x27;, &#x27;min_15&#x27;),\n",
       "                                  (&#x27;goldblueJungle&#x27;, &#x27;min_20&#x27;),\n",
       "                                  (&#x27;goldblueMiddle&#x27;, &#x27;min_5&#x27;),\n",
       "                                  (&#x27;goldblueMiddle&#x27;, &#x27;min_10&#x27;),\n",
       "                                  (&#x27;goldblueMiddle&#x27;, &#x27;min_15&#x27;),\n",
       "                                  (&#x27;goldblueMiddle&#x27;, &#x27;min_20&#x27;),\n",
       "                                  (&#x27;goldblueADC&#x27;, &#x27;min_5&#x27;),\n",
       "                                  (&#x27;goldblueADC&#x27;, &#x27;min_10&#x27;),\n",
       "                                  (&#x27;goldblueADC&#x27;, &#x27;min_15&#x27;),\n",
       "                                  (&#x27;goldblueADC&#x27;, &#x27;min_20&#x27;),\n",
       "                                  (&#x27;goldblueSupport&#x27;, &#x27;min_5&#x27;), ...])])</pre></div></div></div><div class=\"sk-parallel\"><div class=\"sk-parallel-item\"><div class=\"sk-item\"><div class=\"sk-label-container\"><div class=\"sk-label sk-toggleable\"><input class=\"sk-toggleable__control sk-hidden--visually\" id=\"sk-estimator-id-39\" type=\"checkbox\" ><label for=\"sk-estimator-id-39\" class=\"sk-toggleable__label sk-toggleable__label-arrow\">category</label><div class=\"sk-toggleable__content\"><pre>[(&#x27;Info&#x27;, &#x27;League&#x27;), (&#x27;Info&#x27;, &#x27;Year&#x27;), (&#x27;Info&#x27;, &#x27;Season&#x27;), (&#x27;Info&#x27;, &#x27;Type&#x27;), (&#x27;Blue&#x27;, &#x27;TeamTag&#x27;), (&#x27;Blue&#x27;, &#x27;Top&#x27;), (&#x27;Blue&#x27;, &#x27;TopChamp&#x27;), (&#x27;Blue&#x27;, &#x27;Jungle&#x27;), (&#x27;Blue&#x27;, &#x27;JungleChamp&#x27;), (&#x27;Blue&#x27;, &#x27;Middle&#x27;), (&#x27;Blue&#x27;, &#x27;MiddleChamp&#x27;), (&#x27;Blue&#x27;, &#x27;ADC&#x27;), (&#x27;Blue&#x27;, &#x27;ADCChamp&#x27;), (&#x27;Blue&#x27;, &#x27;Support&#x27;), (&#x27;Blue&#x27;, &#x27;SupportChamp&#x27;), (&#x27;Red&#x27;, &#x27;TeamTag&#x27;), (&#x27;Red&#x27;, &#x27;Top&#x27;), (&#x27;Red&#x27;, &#x27;TopChamp&#x27;), (&#x27;Red&#x27;, &#x27;Jungle&#x27;), (&#x27;Red&#x27;, &#x27;JungleChamp&#x27;), (&#x27;Red&#x27;, &#x27;Middle&#x27;), (&#x27;Red&#x27;, &#x27;MiddleChamp&#x27;), (&#x27;Red&#x27;, &#x27;ADC&#x27;), (&#x27;Red&#x27;, &#x27;ADCChamp&#x27;), (&#x27;Red&#x27;, &#x27;Support&#x27;), (&#x27;Red&#x27;, &#x27;SupportChamp&#x27;), (&#x27;Blue&#x27;, &#x27;ban_1&#x27;), (&#x27;Blue&#x27;, &#x27;ban_2&#x27;), (&#x27;Blue&#x27;, &#x27;ban_3&#x27;), (&#x27;Blue&#x27;, &#x27;ban_4&#x27;), (&#x27;Blue&#x27;, &#x27;ban_5&#x27;), (&#x27;Red&#x27;, &#x27;ban_1&#x27;), (&#x27;Red&#x27;, &#x27;ban_2&#x27;), (&#x27;Red&#x27;, &#x27;ban_3&#x27;), (&#x27;Red&#x27;, &#x27;ban_4&#x27;), (&#x27;Red&#x27;, &#x27;ban_5&#x27;)]</pre></div></div></div><div class=\"sk-serial\"><div class=\"sk-item\"><div class=\"sk-estimator sk-toggleable\"><input class=\"sk-toggleable__control sk-hidden--visually\" id=\"sk-estimator-id-40\" type=\"checkbox\" ><label for=\"sk-estimator-id-40\" class=\"sk-toggleable__label sk-toggleable__label-arrow\">OneHotEncoder</label><div class=\"sk-toggleable__content\"><pre>OneHotEncoder(drop=&#x27;first&#x27;, handle_unknown=&#x27;ignore&#x27;)</pre></div></div></div></div></div></div><div class=\"sk-parallel-item\"><div class=\"sk-item\"><div class=\"sk-label-container\"><div class=\"sk-label sk-toggleable\"><input class=\"sk-toggleable__control sk-hidden--visually\" id=\"sk-estimator-id-41\" type=\"checkbox\" ><label for=\"sk-estimator-id-41\" class=\"sk-toggleable__label sk-toggleable__label-arrow\">numeric</label><div class=\"sk-toggleable__content\"><pre>[(&#x27;Info&#x27;, &#x27;gamelength&#x27;), (&#x27;golddiff&#x27;, &#x27;min_5&#x27;), (&#x27;golddiff&#x27;, &#x27;min_10&#x27;), (&#x27;golddiff&#x27;, &#x27;min_15&#x27;), (&#x27;golddiff&#x27;, &#x27;min_20&#x27;), (&#x27;goldblue&#x27;, &#x27;min_5&#x27;), (&#x27;goldblue&#x27;, &#x27;min_10&#x27;), (&#x27;goldblue&#x27;, &#x27;min_15&#x27;), (&#x27;goldblue&#x27;, &#x27;min_20&#x27;), (&#x27;goldred&#x27;, &#x27;min_5&#x27;), (&#x27;goldred&#x27;, &#x27;min_10&#x27;), (&#x27;goldred&#x27;, &#x27;min_15&#x27;), (&#x27;goldred&#x27;, &#x27;min_20&#x27;), (&#x27;goldblueTop&#x27;, &#x27;min_5&#x27;), (&#x27;goldblueTop&#x27;, &#x27;min_10&#x27;), (&#x27;goldblueTop&#x27;, &#x27;min_15&#x27;), (&#x27;goldblueTop&#x27;, &#x27;min_20&#x27;), (&#x27;goldblueJungle&#x27;, &#x27;min_5&#x27;), (&#x27;goldblueJungle&#x27;, &#x27;min_10&#x27;), (&#x27;goldblueJungle&#x27;, &#x27;min_15&#x27;), (&#x27;goldblueJungle&#x27;, &#x27;min_20&#x27;), (&#x27;goldblueMiddle&#x27;, &#x27;min_5&#x27;), (&#x27;goldblueMiddle&#x27;, &#x27;min_10&#x27;), (&#x27;goldblueMiddle&#x27;, &#x27;min_15&#x27;), (&#x27;goldblueMiddle&#x27;, &#x27;min_20&#x27;), (&#x27;goldblueADC&#x27;, &#x27;min_5&#x27;), (&#x27;goldblueADC&#x27;, &#x27;min_10&#x27;), (&#x27;goldblueADC&#x27;, &#x27;min_15&#x27;), (&#x27;goldblueADC&#x27;, &#x27;min_20&#x27;), (&#x27;goldblueSupport&#x27;, &#x27;min_5&#x27;), (&#x27;goldblueSupport&#x27;, &#x27;min_10&#x27;), (&#x27;goldblueSupport&#x27;, &#x27;min_15&#x27;), (&#x27;goldblueSupport&#x27;, &#x27;min_20&#x27;), (&#x27;goldredTop&#x27;, &#x27;min_5&#x27;), (&#x27;goldredTop&#x27;, &#x27;min_10&#x27;), (&#x27;goldredTop&#x27;, &#x27;min_15&#x27;), (&#x27;goldredTop&#x27;, &#x27;min_20&#x27;), (&#x27;goldredJungle&#x27;, &#x27;min_5&#x27;), (&#x27;goldredJungle&#x27;, &#x27;min_10&#x27;), (&#x27;goldredJungle&#x27;, &#x27;min_15&#x27;), (&#x27;goldredJungle&#x27;, &#x27;min_20&#x27;), (&#x27;goldredMiddle&#x27;, &#x27;min_5&#x27;), (&#x27;goldredMiddle&#x27;, &#x27;min_10&#x27;), (&#x27;goldredMiddle&#x27;, &#x27;min_15&#x27;), (&#x27;goldredMiddle&#x27;, &#x27;min_20&#x27;), (&#x27;goldredADC&#x27;, &#x27;min_5&#x27;), (&#x27;goldredADC&#x27;, &#x27;min_10&#x27;), (&#x27;goldredADC&#x27;, &#x27;min_15&#x27;), (&#x27;goldredADC&#x27;, &#x27;min_20&#x27;), (&#x27;goldredSupport&#x27;, &#x27;min_5&#x27;), (&#x27;goldredSupport&#x27;, &#x27;min_10&#x27;), (&#x27;goldredSupport&#x27;, &#x27;min_15&#x27;), (&#x27;goldredSupport&#x27;, &#x27;min_20&#x27;), (&#x27;Blue&#x27;, &#x27;Towers&#x27;), (&#x27;Red&#x27;, &#x27;Towers&#x27;), (&#x27;Blue&#x27;, &#x27;Inhib&#x27;), (&#x27;Red&#x27;, &#x27;Inhib&#x27;), (&#x27;Blue&#x27;, &#x27;Dragon&#x27;), (&#x27;Blue&#x27;, &#x27;Herald&#x27;), (&#x27;Red&#x27;, &#x27;Dragon&#x27;), (&#x27;Red&#x27;, &#x27;Herald&#x27;), (&#x27;Blue&#x27;, &#x27;Kills&#x27;), (&#x27;Red&#x27;, &#x27;Kills&#x27;)]</pre></div></div></div><div class=\"sk-serial\"><div class=\"sk-item\"><div class=\"sk-estimator sk-toggleable\"><input class=\"sk-toggleable__control sk-hidden--visually\" id=\"sk-estimator-id-42\" type=\"checkbox\" ><label for=\"sk-estimator-id-42\" class=\"sk-toggleable__label sk-toggleable__label-arrow\">MinMaxScaler</label><div class=\"sk-toggleable__content\"><pre>MinMaxScaler()</pre></div></div></div></div></div></div></div></div></div></div><div class=\"sk-item\"><div class=\"sk-estimator sk-toggleable\"><input class=\"sk-toggleable__control sk-hidden--visually\" id=\"sk-estimator-id-43\" type=\"checkbox\" ><label for=\"sk-estimator-id-43\" class=\"sk-toggleable__label sk-toggleable__label-arrow\">SGDClassifier</label><div class=\"sk-toggleable__content\"><pre>SGDClassifier(alpha=0.01, loss=&#x27;log_loss&#x27;, penalty=&#x27;L2&#x27;, random_state=20220905)</pre></div></div></div></div></div></div></div>"
      ],
      "text/plain": [
       "Pipeline(steps=[('data',\n",
       "                 Pipeline(steps=[('preprocess',\n",
       "                                  ColumnTransformer(transformers=[('category',\n",
       "                                                                   OneHotEncoder(drop='first',\n",
       "                                                                                 handle_unknown='ignore'),\n",
       "                                                                   [('Info',\n",
       "                                                                     'League'),\n",
       "                                                                    ('Info',\n",
       "                                                                     'Year'),\n",
       "                                                                    ('Info',\n",
       "                                                                     'Season'),\n",
       "                                                                    ('Info',\n",
       "                                                                     'Type'),\n",
       "                                                                    ('Blue',\n",
       "                                                                     'TeamTag'),\n",
       "                                                                    ('Blue',\n",
       "                                                                     'Top'),\n",
       "                                                                    ('Blue',\n",
       "                                                                     'TopChamp'),\n",
       "                                                                    ('Blue',\n",
       "                                                                     'Jungle'),\n",
       "                                                                    ('Blue',\n",
       "                                                                     'JungleChamp'),\n",
       "                                                                    ('Blue',\n",
       "                                                                     'Middle'),\n",
       "                                                                    ('Blue',\n",
       "                                                                     'MiddleCha...\n",
       "                                                                    ('goldblueJungle',\n",
       "                                                                     'min_20'),\n",
       "                                                                    ('goldblueMiddle',\n",
       "                                                                     'min_5'),\n",
       "                                                                    ('goldblueMiddle',\n",
       "                                                                     'min_10'),\n",
       "                                                                    ('goldblueMiddle',\n",
       "                                                                     'min_15'),\n",
       "                                                                    ('goldblueMiddle',\n",
       "                                                                     'min_20'),\n",
       "                                                                    ('goldblueADC',\n",
       "                                                                     'min_5'),\n",
       "                                                                    ('goldblueADC',\n",
       "                                                                     'min_10'),\n",
       "                                                                    ('goldblueADC',\n",
       "                                                                     'min_15'),\n",
       "                                                                    ('goldblueADC',\n",
       "                                                                     'min_20'),\n",
       "                                                                    ('goldblueSupport',\n",
       "                                                                     'min_5'), ...])]))])),\n",
       "                ('model',\n",
       "                 SGDClassifier(alpha=0.01, loss='log_loss', penalty='L2',\n",
       "                               random_state=20220905))])"
      ]
     },
     "execution_count": 45,
     "metadata": {},
     "output_type": "execute_result"
    }
   ],
   "source": [
    "pipe2.fit(X_train, y_train)"
   ]
  },
  {
   "cell_type": "code",
   "execution_count": 46,
   "id": "953abb07-e6f8-4f25-bde2-04fac7cc4c15",
   "metadata": {
    "tags": []
   },
   "outputs": [
    {
     "name": "stdout",
     "output_type": "stream",
     "text": [
      "Train accuracy 1.000\tTest accuracy 0.500\n"
     ]
    },
    {
     "name": "stderr",
     "output_type": "stream",
     "text": [
      "C:\\Users\\drago\\Anaconda3\\lib\\site-packages\\sklearn\\preprocessing\\_encoders.py:188: UserWarning: Found unknown categories in columns [4, 5, 6, 7, 8, 9, 10, 11, 13, 15, 16, 17, 18, 20, 21, 22, 24, 26, 27, 28, 31, 32, 33] during transform. These unknown categories will be encoded as all zeros\n",
      "  warnings.warn(\n"
     ]
    }
   ],
   "source": [
    "SGD_acc =util.print_accuracies(pipe2, X_train, y_train, X_test, y_test)"
   ]
  },
  {
   "cell_type": "code",
   "execution_count": 47,
   "id": "496a1574-61f2-4242-80b6-4247fc990c91",
   "metadata": {
    "scrolled": true
   },
   "outputs": [
    {
     "name": "stderr",
     "output_type": "stream",
     "text": [
      "C:\\Users\\drago\\Anaconda3\\lib\\site-packages\\sklearn\\preprocessing\\_encoders.py:188: UserWarning: Found unknown categories in columns [4, 5, 6, 7, 8, 9, 11, 13, 15, 16, 18, 20, 21, 22, 23, 24, 27, 28, 31, 33] during transform. These unknown categories will be encoded as all zeros\n",
      "  warnings.warn(\n",
      "C:\\Users\\drago\\Anaconda3\\lib\\site-packages\\sklearn\\preprocessing\\_encoders.py:188: UserWarning: Found unknown categories in columns [4, 5, 7, 9, 10, 11, 12, 13, 15, 16, 17, 18, 20, 21, 22, 24, 25, 26, 27, 31, 32, 33] during transform. These unknown categories will be encoded as all zeros\n",
      "  warnings.warn(\n",
      "C:\\Users\\drago\\Anaconda3\\lib\\site-packages\\sklearn\\preprocessing\\_encoders.py:188: UserWarning: Found unknown categories in columns [4, 5, 6, 7, 9, 10, 11, 13, 15, 16, 17, 18, 19, 20, 21, 22, 24, 25, 26, 27, 28, 31, 32, 33] during transform. These unknown categories will be encoded as all zeros\n",
      "  warnings.warn(\n",
      "C:\\Users\\drago\\Anaconda3\\lib\\site-packages\\sklearn\\preprocessing\\_encoders.py:188: UserWarning: Found unknown categories in columns [4, 5, 6, 7, 9, 10, 11, 13, 14, 15, 16, 17, 18, 19, 20, 21, 22, 24, 26, 28, 31, 32, 33] during transform. These unknown categories will be encoded as all zeros\n",
      "  warnings.warn(\n",
      "C:\\Users\\drago\\Anaconda3\\lib\\site-packages\\sklearn\\preprocessing\\_encoders.py:188: UserWarning: Found unknown categories in columns [4, 5, 7, 8, 9, 10, 11, 13, 15, 16, 17, 18, 20, 22, 24, 25, 26, 27, 28, 31, 32] during transform. These unknown categories will be encoded as all zeros\n",
      "  warnings.warn(\n",
      "C:\\Users\\drago\\Anaconda3\\lib\\site-packages\\sklearn\\preprocessing\\_encoders.py:188: UserWarning: Found unknown categories in columns [4, 5, 6, 7, 8, 9, 11, 13, 15, 16, 17, 18, 19, 20, 21, 22, 23, 24, 26, 27, 28, 31, 32, 33] during transform. These unknown categories will be encoded as all zeros\n",
      "  warnings.warn(\n",
      "C:\\Users\\drago\\Anaconda3\\lib\\site-packages\\sklearn\\preprocessing\\_encoders.py:188: UserWarning: Found unknown categories in columns [4, 5, 7, 9, 10, 11, 12, 13, 14, 15, 16, 17, 18, 20, 21, 22, 23, 24, 25, 27, 28, 31, 32, 33] during transform. These unknown categories will be encoded as all zeros\n",
      "  warnings.warn(\n",
      "C:\\Users\\drago\\Anaconda3\\lib\\site-packages\\sklearn\\preprocessing\\_encoders.py:188: UserWarning: Found unknown categories in columns [0, 4, 5, 7, 9, 10, 11, 12, 13, 15, 16, 17, 18, 19, 20, 21, 22, 24, 26, 28, 31, 32, 33] during transform. These unknown categories will be encoded as all zeros\n",
      "  warnings.warn(\n"
     ]
    }
   ],
   "source": [
    "skf = StratifiedKFold(n_splits=8, shuffle=True, random_state=20220914)\n",
    "\n",
    "scores = cross_val_score(pipe2, X_train, y_train, cv=skf)"
   ]
  },
  {
   "cell_type": "code",
   "execution_count": 48,
   "id": "819779fb-eb5f-4bd3-9b78-ce24616b338e",
   "metadata": {},
   "outputs": [
    {
     "data": {
      "image/png": "[encoded data removed]",
      "text/plain": [
       "<Figure size 432x288 with 1 Axes>"
      ]
     },
     "metadata": {
      "needs_background": "light"
     },
     "output_type": "display_data"
    }
   ],
   "source": [
    "SGDscores = scores\n",
    "SGD_plot = sb.boxplot(data=scores, width=0.3)\n",
    "\n",
    "SGD_plot.set(title = 'SGD Cross-Validation Scores', ylabel ='Accuracy')\n",
    "plt.xticks([], [])\n",
    "\n",
    "plt.show()"
   ]
  },
  {
   "cell_type": "code",
   "execution_count": 49,
   "id": "8ec9c910",
   "metadata": {},
   "outputs": [],
   "source": [
    "X_train_xform = data_pipe.fit_transform(X_train)\n",
    "\n",
    "rfe = RFE(estimator=SGD_model, n_features_to_select=10, step=1)\n",
    "rfe.fit(X_train_xform, y_train)\n",
    "ranking = rfe.ranking_"
   ]
  },
  {
   "cell_type": "code",
   "execution_count": 50,
   "id": "2c13016c",
   "metadata": {},
   "outputs": [],
   "source": [
    "features_RFE = np.arange(0, X_train_xform.shape[1])[ranking==1]"
   ]
  },
  {
   "cell_type": "code",
   "execution_count": 51,
   "id": "109982d7",
   "metadata": {},
   "outputs": [],
   "source": [
    "filter_RFE = ColumnTransformer([('rfe', 'passthrough', features_RFE)], remainder='drop')\n",
    "                               \n",
    "data_pipe_RFE = Pipeline(steps=[('data', data_pipe), ('select', filter_RFE)])"
   ]
  },
  {
   "cell_type": "code",
   "execution_count": 52,
   "id": "8faf0d01",
   "metadata": {},
   "outputs": [],
   "source": [
    "pipe = Pipeline(steps=[('data', data_pipe_RFE), ('model', SGD_model)])"
   ]
  },
  {
   "cell_type": "code",
   "execution_count": 53,
   "id": "04fc6a1f",
   "metadata": {},
   "outputs": [
    {
     "data": {
      "text/html": [
       "<style>#sk-container-id-6 {color: black;background-color: white;}#sk-container-id-6 pre{padding: 0;}#sk-container-id-6 div.sk-toggleable {background-color: white;}#sk-container-id-6 label.sk-toggleable__label {cursor: pointer;display: block;width: 100%;margin-bottom: 0;padding: 0.3em;box-sizing: border-box;text-align: center;}#sk-container-id-6 label.sk-toggleable__label-arrow:before {content: \"▸\";float: left;margin-right: 0.25em;color: #696969;}#sk-container-id-6 label.sk-toggleable__label-arrow:hover:before {color: black;}#sk-container-id-6 div.sk-estimator:hover label.sk-toggleable__label-arrow:before {color: black;}#sk-container-id-6 div.sk-toggleable__content {max-height: 0;max-width: 0;overflow: hidden;text-align: left;background-color: #f0f8ff;}#sk-container-id-6 div.sk-toggleable__content pre {margin: 0.2em;color: black;border-radius: 0.25em;background-color: #f0f8ff;}#sk-container-id-6 input.sk-toggleable__control:checked~div.sk-toggleable__content {max-height: 200px;max-width: 100%;overflow: auto;}#sk-container-id-6 input.sk-toggleable__control:checked~label.sk-toggleable__label-arrow:before {content: \"▾\";}#sk-container-id-6 div.sk-estimator input.sk-toggleable__control:checked~label.sk-toggleable__label {background-color: #d4ebff;}#sk-container-id-6 div.sk-label input.sk-toggleable__control:checked~label.sk-toggleable__label {background-color: #d4ebff;}#sk-container-id-6 input.sk-hidden--visually {border: 0;clip: rect(1px 1px 1px 1px);clip: rect(1px, 1px, 1px, 1px);height: 1px;margin: -1px;overflow: hidden;padding: 0;position: absolute;width: 1px;}#sk-container-id-6 div.sk-estimator {font-family: monospace;background-color: #f0f8ff;border: 1px dotted black;border-radius: 0.25em;box-sizing: border-box;margin-bottom: 0.5em;}#sk-container-id-6 div.sk-estimator:hover {background-color: #d4ebff;}#sk-container-id-6 div.sk-parallel-item::after {content: \"\";width: 100%;border-bottom: 1px solid gray;flex-grow: 1;}#sk-container-id-6 div.sk-label:hover label.sk-toggleable__label {background-color: #d4ebff;}#sk-container-id-6 div.sk-serial::before {content: \"\";position: absolute;border-left: 1px solid gray;box-sizing: border-box;top: 0;bottom: 0;left: 50%;z-index: 0;}#sk-container-id-6 div.sk-serial {display: flex;flex-direction: column;align-items: center;background-color: white;padding-right: 0.2em;padding-left: 0.2em;position: relative;}#sk-container-id-6 div.sk-item {position: relative;z-index: 1;}#sk-container-id-6 div.sk-parallel {display: flex;align-items: stretch;justify-content: center;background-color: white;position: relative;}#sk-container-id-6 div.sk-item::before, #sk-container-id-6 div.sk-parallel-item::before {content: \"\";position: absolute;border-left: 1px solid gray;box-sizing: border-box;top: 0;bottom: 0;left: 50%;z-index: -1;}#sk-container-id-6 div.sk-parallel-item {display: flex;flex-direction: column;z-index: 1;position: relative;background-color: white;}#sk-container-id-6 div.sk-parallel-item:first-child::after {align-self: flex-end;width: 50%;}#sk-container-id-6 div.sk-parallel-item:last-child::after {align-self: flex-start;width: 50%;}#sk-container-id-6 div.sk-parallel-item:only-child::after {width: 0;}#sk-container-id-6 div.sk-dashed-wrapped {border: 1px dashed gray;margin: 0 0.4em 0.5em 0.4em;box-sizing: border-box;padding-bottom: 0.4em;background-color: white;}#sk-container-id-6 div.sk-label label {font-family: monospace;font-weight: bold;display: inline-block;line-height: 1.2em;}#sk-container-id-6 div.sk-label-container {text-align: center;}#sk-container-id-6 div.sk-container {/* jupyter's `normalize.less` sets `[hidden] { display: none; }` but bootstrap.min.css set `[hidden] { display: none !important; }` so we also need the `!important` here to be able to override the default hidden behavior on the sphinx rendered scikit-learn.org. See: https://github.com/scikit-learn/scikit-learn/issues/21755 */display: inline-block !important;position: relative;}#sk-container-id-6 div.sk-text-repr-fallback {display: none;}</style><div id=\"sk-container-id-6\" class=\"sk-top-container\"><div class=\"sk-text-repr-fallback\"><pre>Pipeline(steps=[(&#x27;data&#x27;,\n",
       "                 Pipeline(steps=[(&#x27;data&#x27;,\n",
       "                                  Pipeline(steps=[(&#x27;preprocess&#x27;,\n",
       "                                                   ColumnTransformer(transformers=[(&#x27;category&#x27;,\n",
       "                                                                                    OneHotEncoder(drop=&#x27;first&#x27;,\n",
       "                                                                                                  handle_unknown=&#x27;ignore&#x27;),\n",
       "                                                                                    [(&#x27;Info&#x27;,\n",
       "                                                                                      &#x27;League&#x27;),\n",
       "                                                                                     (&#x27;Info&#x27;,\n",
       "                                                                                      &#x27;Year&#x27;),\n",
       "                                                                                     (&#x27;Info&#x27;,\n",
       "                                                                                      &#x27;Season&#x27;),\n",
       "                                                                                     (&#x27;Info&#x27;,\n",
       "                                                                                      &#x27;Type&#x27;),\n",
       "                                                                                     (&#x27;Blue&#x27;,\n",
       "                                                                                      &#x27;TeamTag&#x27;),\n",
       "                                                                                     (&#x27;Blue&#x27;,\n",
       "                                                                                      &#x27;Top&#x27;),\n",
       "                                                                                     (&#x27;Blue&#x27;,\n",
       "                                                                                      &#x27;TopChamp&#x27;),\n",
       "                                                                                     (&#x27;Blue&#x27;,\n",
       "                                                                                      &#x27;Jungle&#x27;),\n",
       "                                                                                     (&#x27;Blue&#x27;,\n",
       "                                                                                      &#x27;JungleChamp&#x27;),\n",
       "                                                                                     (&#x27;Blue&#x27;,\n",
       "                                                                                      &#x27;Mid...\n",
       "                                                                                     (&#x27;goldblueADC&#x27;,\n",
       "                                                                                      &#x27;min_5&#x27;),\n",
       "                                                                                     (&#x27;goldblueADC&#x27;,\n",
       "                                                                                      &#x27;min_10&#x27;),\n",
       "                                                                                     (&#x27;goldblueADC&#x27;,\n",
       "                                                                                      &#x27;min_15&#x27;),\n",
       "                                                                                     (&#x27;goldblueADC&#x27;,\n",
       "                                                                                      &#x27;min_20&#x27;),\n",
       "                                                                                     (&#x27;goldblueSupport&#x27;,\n",
       "                                                                                      &#x27;min_5&#x27;), ...])]))])),\n",
       "                                 (&#x27;select&#x27;,\n",
       "                                  ColumnTransformer(transformers=[(&#x27;rfe&#x27;,\n",
       "                                                                   &#x27;passthrough&#x27;,\n",
       "                                                                   array([ 419,  551,  716,  805,  928,  958, 1100, 1108, 1128, 1158]))]))])),\n",
       "                (&#x27;model&#x27;,\n",
       "                 SGDClassifier(alpha=0.01, loss=&#x27;log_loss&#x27;, penalty=&#x27;L2&#x27;,\n",
       "                               random_state=20220905))])</pre><b>In a Jupyter environment, please rerun this cell to show the HTML representation or trust the notebook. <br />On GitHub, the HTML representation is unable to render, please try loading this page with nbviewer.org.</b></div><div class=\"sk-container\" hidden><div class=\"sk-item sk-dashed-wrapped\"><div class=\"sk-label-container\"><div class=\"sk-label sk-toggleable\"><input class=\"sk-toggleable__control sk-hidden--visually\" id=\"sk-estimator-id-44\" type=\"checkbox\" ><label for=\"sk-estimator-id-44\" class=\"sk-toggleable__label sk-toggleable__label-arrow\">Pipeline</label><div class=\"sk-toggleable__content\"><pre>Pipeline(steps=[(&#x27;data&#x27;,\n",
       "                 Pipeline(steps=[(&#x27;data&#x27;,\n",
       "                                  Pipeline(steps=[(&#x27;preprocess&#x27;,\n",
       "                                                   ColumnTransformer(transformers=[(&#x27;category&#x27;,\n",
       "                                                                                    OneHotEncoder(drop=&#x27;first&#x27;,\n",
       "                                                                                                  handle_unknown=&#x27;ignore&#x27;),\n",
       "                                                                                    [(&#x27;Info&#x27;,\n",
       "                                                                                      &#x27;League&#x27;),\n",
       "                                                                                     (&#x27;Info&#x27;,\n",
       "                                                                                      &#x27;Year&#x27;),\n",
       "                                                                                     (&#x27;Info&#x27;,\n",
       "                                                                                      &#x27;Season&#x27;),\n",
       "                                                                                     (&#x27;Info&#x27;,\n",
       "                                                                                      &#x27;Type&#x27;),\n",
       "                                                                                     (&#x27;Blue&#x27;,\n",
       "                                                                                      &#x27;TeamTag&#x27;),\n",
       "                                                                                     (&#x27;Blue&#x27;,\n",
       "                                                                                      &#x27;Top&#x27;),\n",
       "                                                                                     (&#x27;Blue&#x27;,\n",
       "                                                                                      &#x27;TopChamp&#x27;),\n",
       "                                                                                     (&#x27;Blue&#x27;,\n",
       "                                                                                      &#x27;Jungle&#x27;),\n",
       "                                                                                     (&#x27;Blue&#x27;,\n",
       "                                                                                      &#x27;JungleChamp&#x27;),\n",
       "                                                                                     (&#x27;Blue&#x27;,\n",
       "                                                                                      &#x27;Mid...\n",
       "                                                                                     (&#x27;goldblueADC&#x27;,\n",
       "                                                                                      &#x27;min_5&#x27;),\n",
       "                                                                                     (&#x27;goldblueADC&#x27;,\n",
       "                                                                                      &#x27;min_10&#x27;),\n",
       "                                                                                     (&#x27;goldblueADC&#x27;,\n",
       "                                                                                      &#x27;min_15&#x27;),\n",
       "                                                                                     (&#x27;goldblueADC&#x27;,\n",
       "                                                                                      &#x27;min_20&#x27;),\n",
       "                                                                                     (&#x27;goldblueSupport&#x27;,\n",
       "                                                                                      &#x27;min_5&#x27;), ...])]))])),\n",
       "                                 (&#x27;select&#x27;,\n",
       "                                  ColumnTransformer(transformers=[(&#x27;rfe&#x27;,\n",
       "                                                                   &#x27;passthrough&#x27;,\n",
       "                                                                   array([ 419,  551,  716,  805,  928,  958, 1100, 1108, 1128, 1158]))]))])),\n",
       "                (&#x27;model&#x27;,\n",
       "                 SGDClassifier(alpha=0.01, loss=&#x27;log_loss&#x27;, penalty=&#x27;L2&#x27;,\n",
       "                               random_state=20220905))])</pre></div></div></div><div class=\"sk-serial\"><div class=\"sk-item\"><div class=\"sk-label-container\"><div class=\"sk-label sk-toggleable\"><input class=\"sk-toggleable__control sk-hidden--visually\" id=\"sk-estimator-id-45\" type=\"checkbox\" ><label for=\"sk-estimator-id-45\" class=\"sk-toggleable__label sk-toggleable__label-arrow\">data: Pipeline</label><div class=\"sk-toggleable__content\"><pre>Pipeline(steps=[(&#x27;data&#x27;,\n",
       "                 Pipeline(steps=[(&#x27;preprocess&#x27;,\n",
       "                                  ColumnTransformer(transformers=[(&#x27;category&#x27;,\n",
       "                                                                   OneHotEncoder(drop=&#x27;first&#x27;,\n",
       "                                                                                 handle_unknown=&#x27;ignore&#x27;),\n",
       "                                                                   [(&#x27;Info&#x27;,\n",
       "                                                                     &#x27;League&#x27;),\n",
       "                                                                    (&#x27;Info&#x27;,\n",
       "                                                                     &#x27;Year&#x27;),\n",
       "                                                                    (&#x27;Info&#x27;,\n",
       "                                                                     &#x27;Season&#x27;),\n",
       "                                                                    (&#x27;Info&#x27;,\n",
       "                                                                     &#x27;Type&#x27;),\n",
       "                                                                    (&#x27;Blue&#x27;,\n",
       "                                                                     &#x27;TeamTag&#x27;),\n",
       "                                                                    (&#x27;Blue&#x27;,\n",
       "                                                                     &#x27;Top&#x27;),\n",
       "                                                                    (&#x27;Blue&#x27;,\n",
       "                                                                     &#x27;TopChamp&#x27;),\n",
       "                                                                    (&#x27;Blue&#x27;,\n",
       "                                                                     &#x27;Jungle&#x27;),\n",
       "                                                                    (&#x27;Blue&#x27;,\n",
       "                                                                     &#x27;JungleChamp&#x27;),\n",
       "                                                                    (&#x27;Blue&#x27;,\n",
       "                                                                     &#x27;Middle&#x27;),\n",
       "                                                                    (&#x27;Blue&#x27;,\n",
       "                                                                     &#x27;MiddleCha...\n",
       "                                                                     &#x27;min_5&#x27;),\n",
       "                                                                    (&#x27;goldblueMiddle&#x27;,\n",
       "                                                                     &#x27;min_10&#x27;),\n",
       "                                                                    (&#x27;goldblueMiddle&#x27;,\n",
       "                                                                     &#x27;min_15&#x27;),\n",
       "                                                                    (&#x27;goldblueMiddle&#x27;,\n",
       "                                                                     &#x27;min_20&#x27;),\n",
       "                                                                    (&#x27;goldblueADC&#x27;,\n",
       "                                                                     &#x27;min_5&#x27;),\n",
       "                                                                    (&#x27;goldblueADC&#x27;,\n",
       "                                                                     &#x27;min_10&#x27;),\n",
       "                                                                    (&#x27;goldblueADC&#x27;,\n",
       "                                                                     &#x27;min_15&#x27;),\n",
       "                                                                    (&#x27;goldblueADC&#x27;,\n",
       "                                                                     &#x27;min_20&#x27;),\n",
       "                                                                    (&#x27;goldblueSupport&#x27;,\n",
       "                                                                     &#x27;min_5&#x27;), ...])]))])),\n",
       "                (&#x27;select&#x27;,\n",
       "                 ColumnTransformer(transformers=[(&#x27;rfe&#x27;, &#x27;passthrough&#x27;,\n",
       "                                                  array([ 419,  551,  716,  805,  928,  958, 1100, 1108, 1128, 1158]))]))])</pre></div></div></div><div class=\"sk-serial\"><div class=\"sk-item\"><div class=\"sk-label-container\"><div class=\"sk-label sk-toggleable\"><input class=\"sk-toggleable__control sk-hidden--visually\" id=\"sk-estimator-id-46\" type=\"checkbox\" ><label for=\"sk-estimator-id-46\" class=\"sk-toggleable__label sk-toggleable__label-arrow\">data: Pipeline</label><div class=\"sk-toggleable__content\"><pre>Pipeline(steps=[(&#x27;preprocess&#x27;,\n",
       "                 ColumnTransformer(transformers=[(&#x27;category&#x27;,\n",
       "                                                  OneHotEncoder(drop=&#x27;first&#x27;,\n",
       "                                                                handle_unknown=&#x27;ignore&#x27;),\n",
       "                                                  [(&#x27;Info&#x27;, &#x27;League&#x27;),\n",
       "                                                   (&#x27;Info&#x27;, &#x27;Year&#x27;),\n",
       "                                                   (&#x27;Info&#x27;, &#x27;Season&#x27;),\n",
       "                                                   (&#x27;Info&#x27;, &#x27;Type&#x27;),\n",
       "                                                   (&#x27;Blue&#x27;, &#x27;TeamTag&#x27;),\n",
       "                                                   (&#x27;Blue&#x27;, &#x27;Top&#x27;),\n",
       "                                                   (&#x27;Blue&#x27;, &#x27;TopChamp&#x27;),\n",
       "                                                   (&#x27;Blue&#x27;, &#x27;Jungle&#x27;),\n",
       "                                                   (&#x27;Blue&#x27;, &#x27;JungleChamp&#x27;),\n",
       "                                                   (&#x27;Blue&#x27;, &#x27;Middle&#x27;),\n",
       "                                                   (&#x27;Blue&#x27;, &#x27;MiddleChamp&#x27;),\n",
       "                                                   (&#x27;Blue&#x27;, &#x27;ADC&#x27;),\n",
       "                                                   (&#x27;Bl...\n",
       "                                                   (&#x27;goldblueJungle&#x27;, &#x27;min_5&#x27;),\n",
       "                                                   (&#x27;goldblueJungle&#x27;, &#x27;min_10&#x27;),\n",
       "                                                   (&#x27;goldblueJungle&#x27;, &#x27;min_15&#x27;),\n",
       "                                                   (&#x27;goldblueJungle&#x27;, &#x27;min_20&#x27;),\n",
       "                                                   (&#x27;goldblueMiddle&#x27;, &#x27;min_5&#x27;),\n",
       "                                                   (&#x27;goldblueMiddle&#x27;, &#x27;min_10&#x27;),\n",
       "                                                   (&#x27;goldblueMiddle&#x27;, &#x27;min_15&#x27;),\n",
       "                                                   (&#x27;goldblueMiddle&#x27;, &#x27;min_20&#x27;),\n",
       "                                                   (&#x27;goldblueADC&#x27;, &#x27;min_5&#x27;),\n",
       "                                                   (&#x27;goldblueADC&#x27;, &#x27;min_10&#x27;),\n",
       "                                                   (&#x27;goldblueADC&#x27;, &#x27;min_15&#x27;),\n",
       "                                                   (&#x27;goldblueADC&#x27;, &#x27;min_20&#x27;),\n",
       "                                                   (&#x27;goldblueSupport&#x27;, &#x27;min_5&#x27;), ...])]))])</pre></div></div></div><div class=\"sk-serial\"><div class=\"sk-item sk-dashed-wrapped\"><div class=\"sk-label-container\"><div class=\"sk-label sk-toggleable\"><input class=\"sk-toggleable__control sk-hidden--visually\" id=\"sk-estimator-id-47\" type=\"checkbox\" ><label for=\"sk-estimator-id-47\" class=\"sk-toggleable__label sk-toggleable__label-arrow\">preprocess: ColumnTransformer</label><div class=\"sk-toggleable__content\"><pre>ColumnTransformer(transformers=[(&#x27;category&#x27;,\n",
       "                                 OneHotEncoder(drop=&#x27;first&#x27;,\n",
       "                                               handle_unknown=&#x27;ignore&#x27;),\n",
       "                                 [(&#x27;Info&#x27;, &#x27;League&#x27;), (&#x27;Info&#x27;, &#x27;Year&#x27;),\n",
       "                                  (&#x27;Info&#x27;, &#x27;Season&#x27;), (&#x27;Info&#x27;, &#x27;Type&#x27;),\n",
       "                                  (&#x27;Blue&#x27;, &#x27;TeamTag&#x27;), (&#x27;Blue&#x27;, &#x27;Top&#x27;),\n",
       "                                  (&#x27;Blue&#x27;, &#x27;TopChamp&#x27;), (&#x27;Blue&#x27;, &#x27;Jungle&#x27;),\n",
       "                                  (&#x27;Blue&#x27;, &#x27;JungleChamp&#x27;), (&#x27;Blue&#x27;, &#x27;Middle&#x27;),\n",
       "                                  (&#x27;Blue&#x27;, &#x27;MiddleChamp&#x27;), (&#x27;Blue&#x27;, &#x27;ADC&#x27;),\n",
       "                                  (&#x27;Blue&#x27;, &#x27;ADCChamp&#x27;), (&#x27;Blue&#x27;, &#x27;Suppo...\n",
       "                                  (&#x27;goldblueJungle&#x27;, &#x27;min_5&#x27;),\n",
       "                                  (&#x27;goldblueJungle&#x27;, &#x27;min_10&#x27;),\n",
       "                                  (&#x27;goldblueJungle&#x27;, &#x27;min_15&#x27;),\n",
       "                                  (&#x27;goldblueJungle&#x27;, &#x27;min_20&#x27;),\n",
       "                                  (&#x27;goldblueMiddle&#x27;, &#x27;min_5&#x27;),\n",
       "                                  (&#x27;goldblueMiddle&#x27;, &#x27;min_10&#x27;),\n",
       "                                  (&#x27;goldblueMiddle&#x27;, &#x27;min_15&#x27;),\n",
       "                                  (&#x27;goldblueMiddle&#x27;, &#x27;min_20&#x27;),\n",
       "                                  (&#x27;goldblueADC&#x27;, &#x27;min_5&#x27;),\n",
       "                                  (&#x27;goldblueADC&#x27;, &#x27;min_10&#x27;),\n",
       "                                  (&#x27;goldblueADC&#x27;, &#x27;min_15&#x27;),\n",
       "                                  (&#x27;goldblueADC&#x27;, &#x27;min_20&#x27;),\n",
       "                                  (&#x27;goldblueSupport&#x27;, &#x27;min_5&#x27;), ...])])</pre></div></div></div><div class=\"sk-parallel\"><div class=\"sk-parallel-item\"><div class=\"sk-item\"><div class=\"sk-label-container\"><div class=\"sk-label sk-toggleable\"><input class=\"sk-toggleable__control sk-hidden--visually\" id=\"sk-estimator-id-48\" type=\"checkbox\" ><label for=\"sk-estimator-id-48\" class=\"sk-toggleable__label sk-toggleable__label-arrow\">category</label><div class=\"sk-toggleable__content\"><pre>[(&#x27;Info&#x27;, &#x27;League&#x27;), (&#x27;Info&#x27;, &#x27;Year&#x27;), (&#x27;Info&#x27;, &#x27;Season&#x27;), (&#x27;Info&#x27;, &#x27;Type&#x27;), (&#x27;Blue&#x27;, &#x27;TeamTag&#x27;), (&#x27;Blue&#x27;, &#x27;Top&#x27;), (&#x27;Blue&#x27;, &#x27;TopChamp&#x27;), (&#x27;Blue&#x27;, &#x27;Jungle&#x27;), (&#x27;Blue&#x27;, &#x27;JungleChamp&#x27;), (&#x27;Blue&#x27;, &#x27;Middle&#x27;), (&#x27;Blue&#x27;, &#x27;MiddleChamp&#x27;), (&#x27;Blue&#x27;, &#x27;ADC&#x27;), (&#x27;Blue&#x27;, &#x27;ADCChamp&#x27;), (&#x27;Blue&#x27;, &#x27;Support&#x27;), (&#x27;Blue&#x27;, &#x27;SupportChamp&#x27;), (&#x27;Red&#x27;, &#x27;TeamTag&#x27;), (&#x27;Red&#x27;, &#x27;Top&#x27;), (&#x27;Red&#x27;, &#x27;TopChamp&#x27;), (&#x27;Red&#x27;, &#x27;Jungle&#x27;), (&#x27;Red&#x27;, &#x27;JungleChamp&#x27;), (&#x27;Red&#x27;, &#x27;Middle&#x27;), (&#x27;Red&#x27;, &#x27;MiddleChamp&#x27;), (&#x27;Red&#x27;, &#x27;ADC&#x27;), (&#x27;Red&#x27;, &#x27;ADCChamp&#x27;), (&#x27;Red&#x27;, &#x27;Support&#x27;), (&#x27;Red&#x27;, &#x27;SupportChamp&#x27;), (&#x27;Blue&#x27;, &#x27;ban_1&#x27;), (&#x27;Blue&#x27;, &#x27;ban_2&#x27;), (&#x27;Blue&#x27;, &#x27;ban_3&#x27;), (&#x27;Blue&#x27;, &#x27;ban_4&#x27;), (&#x27;Blue&#x27;, &#x27;ban_5&#x27;), (&#x27;Red&#x27;, &#x27;ban_1&#x27;), (&#x27;Red&#x27;, &#x27;ban_2&#x27;), (&#x27;Red&#x27;, &#x27;ban_3&#x27;), (&#x27;Red&#x27;, &#x27;ban_4&#x27;), (&#x27;Red&#x27;, &#x27;ban_5&#x27;)]</pre></div></div></div><div class=\"sk-serial\"><div class=\"sk-item\"><div class=\"sk-estimator sk-toggleable\"><input class=\"sk-toggleable__control sk-hidden--visually\" id=\"sk-estimator-id-49\" type=\"checkbox\" ><label for=\"sk-estimator-id-49\" class=\"sk-toggleable__label sk-toggleable__label-arrow\">OneHotEncoder</label><div class=\"sk-toggleable__content\"><pre>OneHotEncoder(drop=&#x27;first&#x27;, handle_unknown=&#x27;ignore&#x27;)</pre></div></div></div></div></div></div><div class=\"sk-parallel-item\"><div class=\"sk-item\"><div class=\"sk-label-container\"><div class=\"sk-label sk-toggleable\"><input class=\"sk-toggleable__control sk-hidden--visually\" id=\"sk-estimator-id-50\" type=\"checkbox\" ><label for=\"sk-estimator-id-50\" class=\"sk-toggleable__label sk-toggleable__label-arrow\">numeric</label><div class=\"sk-toggleable__content\"><pre>[(&#x27;Info&#x27;, &#x27;gamelength&#x27;), (&#x27;golddiff&#x27;, &#x27;min_5&#x27;), (&#x27;golddiff&#x27;, &#x27;min_10&#x27;), (&#x27;golddiff&#x27;, &#x27;min_15&#x27;), (&#x27;golddiff&#x27;, &#x27;min_20&#x27;), (&#x27;goldblue&#x27;, &#x27;min_5&#x27;), (&#x27;goldblue&#x27;, &#x27;min_10&#x27;), (&#x27;goldblue&#x27;, &#x27;min_15&#x27;), (&#x27;goldblue&#x27;, &#x27;min_20&#x27;), (&#x27;goldred&#x27;, &#x27;min_5&#x27;), (&#x27;goldred&#x27;, &#x27;min_10&#x27;), (&#x27;goldred&#x27;, &#x27;min_15&#x27;), (&#x27;goldred&#x27;, &#x27;min_20&#x27;), (&#x27;goldblueTop&#x27;, &#x27;min_5&#x27;), (&#x27;goldblueTop&#x27;, &#x27;min_10&#x27;), (&#x27;goldblueTop&#x27;, &#x27;min_15&#x27;), (&#x27;goldblueTop&#x27;, &#x27;min_20&#x27;), (&#x27;goldblueJungle&#x27;, &#x27;min_5&#x27;), (&#x27;goldblueJungle&#x27;, &#x27;min_10&#x27;), (&#x27;goldblueJungle&#x27;, &#x27;min_15&#x27;), (&#x27;goldblueJungle&#x27;, &#x27;min_20&#x27;), (&#x27;goldblueMiddle&#x27;, &#x27;min_5&#x27;), (&#x27;goldblueMiddle&#x27;, &#x27;min_10&#x27;), (&#x27;goldblueMiddle&#x27;, &#x27;min_15&#x27;), (&#x27;goldblueMiddle&#x27;, &#x27;min_20&#x27;), (&#x27;goldblueADC&#x27;, &#x27;min_5&#x27;), (&#x27;goldblueADC&#x27;, &#x27;min_10&#x27;), (&#x27;goldblueADC&#x27;, &#x27;min_15&#x27;), (&#x27;goldblueADC&#x27;, &#x27;min_20&#x27;), (&#x27;goldblueSupport&#x27;, &#x27;min_5&#x27;), (&#x27;goldblueSupport&#x27;, &#x27;min_10&#x27;), (&#x27;goldblueSupport&#x27;, &#x27;min_15&#x27;), (&#x27;goldblueSupport&#x27;, &#x27;min_20&#x27;), (&#x27;goldredTop&#x27;, &#x27;min_5&#x27;), (&#x27;goldredTop&#x27;, &#x27;min_10&#x27;), (&#x27;goldredTop&#x27;, &#x27;min_15&#x27;), (&#x27;goldredTop&#x27;, &#x27;min_20&#x27;), (&#x27;goldredJungle&#x27;, &#x27;min_5&#x27;), (&#x27;goldredJungle&#x27;, &#x27;min_10&#x27;), (&#x27;goldredJungle&#x27;, &#x27;min_15&#x27;), (&#x27;goldredJungle&#x27;, &#x27;min_20&#x27;), (&#x27;goldredMiddle&#x27;, &#x27;min_5&#x27;), (&#x27;goldredMiddle&#x27;, &#x27;min_10&#x27;), (&#x27;goldredMiddle&#x27;, &#x27;min_15&#x27;), (&#x27;goldredMiddle&#x27;, &#x27;min_20&#x27;), (&#x27;goldredADC&#x27;, &#x27;min_5&#x27;), (&#x27;goldredADC&#x27;, &#x27;min_10&#x27;), (&#x27;goldredADC&#x27;, &#x27;min_15&#x27;), (&#x27;goldredADC&#x27;, &#x27;min_20&#x27;), (&#x27;goldredSupport&#x27;, &#x27;min_5&#x27;), (&#x27;goldredSupport&#x27;, &#x27;min_10&#x27;), (&#x27;goldredSupport&#x27;, &#x27;min_15&#x27;), (&#x27;goldredSupport&#x27;, &#x27;min_20&#x27;), (&#x27;Blue&#x27;, &#x27;Towers&#x27;), (&#x27;Red&#x27;, &#x27;Towers&#x27;), (&#x27;Blue&#x27;, &#x27;Inhib&#x27;), (&#x27;Red&#x27;, &#x27;Inhib&#x27;), (&#x27;Blue&#x27;, &#x27;Dragon&#x27;), (&#x27;Blue&#x27;, &#x27;Herald&#x27;), (&#x27;Red&#x27;, &#x27;Dragon&#x27;), (&#x27;Red&#x27;, &#x27;Herald&#x27;), (&#x27;Blue&#x27;, &#x27;Kills&#x27;), (&#x27;Red&#x27;, &#x27;Kills&#x27;)]</pre></div></div></div><div class=\"sk-serial\"><div class=\"sk-item\"><div class=\"sk-estimator sk-toggleable\"><input class=\"sk-toggleable__control sk-hidden--visually\" id=\"sk-estimator-id-51\" type=\"checkbox\" ><label for=\"sk-estimator-id-51\" class=\"sk-toggleable__label sk-toggleable__label-arrow\">MinMaxScaler</label><div class=\"sk-toggleable__content\"><pre>MinMaxScaler()</pre></div></div></div></div></div></div></div></div></div></div><div class=\"sk-item sk-dashed-wrapped\"><div class=\"sk-label-container\"><div class=\"sk-label sk-toggleable\"><input class=\"sk-toggleable__control sk-hidden--visually\" id=\"sk-estimator-id-52\" type=\"checkbox\" ><label for=\"sk-estimator-id-52\" class=\"sk-toggleable__label sk-toggleable__label-arrow\">select: ColumnTransformer</label><div class=\"sk-toggleable__content\"><pre>ColumnTransformer(transformers=[(&#x27;rfe&#x27;, &#x27;passthrough&#x27;,\n",
       "                                 array([ 419,  551,  716,  805,  928,  958, 1100, 1108, 1128, 1158]))])</pre></div></div></div><div class=\"sk-parallel\"><div class=\"sk-parallel-item\"><div class=\"sk-item\"><div class=\"sk-label-container\"><div class=\"sk-label sk-toggleable\"><input class=\"sk-toggleable__control sk-hidden--visually\" id=\"sk-estimator-id-53\" type=\"checkbox\" ><label for=\"sk-estimator-id-53\" class=\"sk-toggleable__label sk-toggleable__label-arrow\">rfe</label><div class=\"sk-toggleable__content\"><pre>[ 419  551  716  805  928  958 1100 1108 1128 1158]</pre></div></div></div><div class=\"sk-serial\"><div class=\"sk-item\"><div class=\"sk-estimator sk-toggleable\"><input class=\"sk-toggleable__control sk-hidden--visually\" id=\"sk-estimator-id-54\" type=\"checkbox\" ><label for=\"sk-estimator-id-54\" class=\"sk-toggleable__label sk-toggleable__label-arrow\">passthrough</label><div class=\"sk-toggleable__content\"><pre>passthrough</pre></div></div></div></div></div></div></div></div></div></div><div class=\"sk-item\"><div class=\"sk-estimator sk-toggleable\"><input class=\"sk-toggleable__control sk-hidden--visually\" id=\"sk-estimator-id-55\" type=\"checkbox\" ><label for=\"sk-estimator-id-55\" class=\"sk-toggleable__label sk-toggleable__label-arrow\">SGDClassifier</label><div class=\"sk-toggleable__content\"><pre>SGDClassifier(alpha=0.01, loss=&#x27;log_loss&#x27;, penalty=&#x27;L2&#x27;, random_state=20220905)</pre></div></div></div></div></div></div></div>"
      ],
      "text/plain": [
       "Pipeline(steps=[('data',\n",
       "                 Pipeline(steps=[('data',\n",
       "                                  Pipeline(steps=[('preprocess',\n",
       "                                                   ColumnTransformer(transformers=[('category',\n",
       "                                                                                    OneHotEncoder(drop='first',\n",
       "                                                                                                  handle_unknown='ignore'),\n",
       "                                                                                    [('Info',\n",
       "                                                                                      'League'),\n",
       "                                                                                     ('Info',\n",
       "                                                                                      'Year'),\n",
       "                                                                                     ('Info',\n",
       "                                                                                      'Season'),\n",
       "                                                                                     ('Info',\n",
       "                                                                                      'Type'),\n",
       "                                                                                     ('Blue',\n",
       "                                                                                      'TeamTag'),\n",
       "                                                                                     ('Blue',\n",
       "                                                                                      'Top'),\n",
       "                                                                                     ('Blue',\n",
       "                                                                                      'TopChamp'),\n",
       "                                                                                     ('Blue',\n",
       "                                                                                      'Jungle'),\n",
       "                                                                                     ('Blue',\n",
       "                                                                                      'JungleChamp'),\n",
       "                                                                                     ('Blue',\n",
       "                                                                                      'Mid...\n",
       "                                                                                     ('goldblueADC',\n",
       "                                                                                      'min_5'),\n",
       "                                                                                     ('goldblueADC',\n",
       "                                                                                      'min_10'),\n",
       "                                                                                     ('goldblueADC',\n",
       "                                                                                      'min_15'),\n",
       "                                                                                     ('goldblueADC',\n",
       "                                                                                      'min_20'),\n",
       "                                                                                     ('goldblueSupport',\n",
       "                                                                                      'min_5'), ...])]))])),\n",
       "                                 ('select',\n",
       "                                  ColumnTransformer(transformers=[('rfe',\n",
       "                                                                   'passthrough',\n",
       "                                                                   array([ 419,  551,  716,  805,  928,  958, 1100, 1108, 1128, 1158]))]))])),\n",
       "                ('model',\n",
       "                 SGDClassifier(alpha=0.01, loss='log_loss', penalty='L2',\n",
       "                               random_state=20220905))])"
      ]
     },
     "execution_count": 53,
     "metadata": {},
     "output_type": "execute_result"
    }
   ],
   "source": [
    "pipe.fit(X_train,y_train)"
   ]
  },
  {
   "cell_type": "code",
   "execution_count": 54,
   "id": "09d4486b",
   "metadata": {
    "scrolled": false
   },
   "outputs": [
    {
     "name": "stdout",
     "output_type": "stream",
     "text": [
      "Train accuracy 0.839\tTest accuracy 0.643\n"
     ]
    },
    {
     "name": "stderr",
     "output_type": "stream",
     "text": [
      "C:\\Users\\drago\\Anaconda3\\lib\\site-packages\\sklearn\\preprocessing\\_encoders.py:188: UserWarning: Found unknown categories in columns [4, 5, 6, 7, 8, 9, 10, 11, 13, 15, 16, 17, 18, 20, 21, 22, 24, 26, 27, 28, 31, 32, 33] during transform. These unknown categories will be encoded as all zeros\n",
      "  warnings.warn(\n"
     ]
    }
   ],
   "source": [
    "SGD_acc_sel =util.print_accuracies(pipe, X_train, y_train, X_test, y_test)"
   ]
  },
  {
   "cell_type": "code",
   "execution_count": 55,
   "id": "2fbda872",
   "metadata": {},
   "outputs": [
    {
     "data": {
      "text/plain": [
       "array(['category__x15_Janna', 'category__x18_Ekko', 'category__x22_Azir',\n",
       "       'category__x24_Ezreal', 'category__x28_Azir',\n",
       "       'category__x28_Varus', 'numeric__x40', 'numeric__x48',\n",
       "       'numeric__x68', 'numeric__x98'], dtype=object)"
      ]
     },
     "execution_count": 55,
     "metadata": {},
     "output_type": "execute_result"
    }
   ],
   "source": [
    "data_pipe[0].get_feature_names_out()[ranking==1]"
   ]
  },
  {
   "cell_type": "code",
   "execution_count": 56,
   "id": "f7f2620a",
   "metadata": {},
   "outputs": [],
   "source": [
    "features = pd.concat([features, pd.DataFrame([\n",
    "    X.columns[15],X.columns[18],X.columns[22],X.columns[24],X.columns[28],\n",
    "    X.columns[28],X.columns[40],X.columns[48],X.columns[68],X.columns[98],\n",
    "], columns = ['SGD','SGD'])],axis=1)"
   ]
  },
  {
   "cell_type": "markdown",
   "id": "247262d4",
   "metadata": {},
   "source": [
    "# Generalizing the model to predict outcome with just a singel team's stats, instead using team vs team data."
   ]
  },
  {
   "cell_type": "markdown",
   "id": "3cacf4e0",
   "metadata": {},
   "source": [
    "The general idea is here is to see how accurate the model is looking at the stats of one team instead of team vs team like above. The trade off here is that there is more data for the models to learn from, but some context is lost to the model. We now have each team on a seperate row and a column to indicate which team we are looking at."
   ]
  },
  {
   "cell_type": "code",
   "execution_count": 57,
   "id": "4393025e",
   "metadata": {
    "scrolled": true
   },
   "outputs": [
    {
     "name": "stderr",
     "output_type": "stream",
     "text": [
      "C:\\Users\\drago\\AppData\\Local\\Temp/ipykernel_10596/79198281.py:2: SettingWithCopyWarning: \n",
      "A value is trying to be set on a copy of a slice from a DataFrame.\n",
      "Try using .loc[row_indexer,col_indexer] = value instead\n",
      "\n",
      "See the caveats in the documentation: https://pandas.pydata.org/pandas-docs/stable/user_guide/indexing.html#returning-a-view-versus-a-copy\n",
      "  blue['Team'] = 'Blue'\n",
      "C:\\Users\\drago\\AppData\\Local\\Temp/ipykernel_10596/79198281.py:5: SettingWithCopyWarning: \n",
      "A value is trying to be set on a copy of a slice from a DataFrame.\n",
      "Try using .loc[row_indexer,col_indexer] = value instead\n",
      "\n",
      "See the caveats in the documentation: https://pandas.pydata.org/pandas-docs/stable/user_guide/indexing.html#returning-a-view-versus-a-copy\n",
      "  red['Team'] = 'Red'\n"
     ]
    }
   ],
   "source": [
    "blue = df['Blue']\n",
    "blue['Team'] = 'Blue'\n",
    "\n",
    "red = df['Red']\n",
    "red['Team'] = 'Red'\n",
    "\n",
    "info = df['Info']"
   ]
  },
  {
   "cell_type": "code",
   "execution_count": 58,
   "id": "c7a0ff72",
   "metadata": {},
   "outputs": [],
   "source": [
    "goldcol = ['golddiff',\n",
    "           'goldblue','goldblueTop','goldblueJungle','goldblueADC','goldblueSupport','goldblueMiddle',\n",
    "          'goldred','goldredTop','goldredJungle','goldredADC','goldredSupport','goldredMiddle']\n",
    "\n",
    "for i in goldcol:\n",
    "    gold = df[i]\n",
    "    if i[4:7] == 'red':\n",
    "        gold.columns = [i[7:]+' 5',i[7:]+' 10',i[7:]+' 15',i[7:]+' 20']\n",
    "        red = pd.concat([red,gold], axis=1)\n",
    "    elif i[4:8] == 'blue':\n",
    "        gold.columns = [i[8:]+' 5',i[8:]+' 10',i[8:]+' 15',i[8:]+' 20']\n",
    "        blue = pd.concat([blue,gold], axis=1)\n",
    "    else:\n",
    "        gold.columns = [i+' 5',i+' 10',i+' 15',i+' 20']\n",
    "        info = pd.concat([info,gold], axis=1)"
   ]
  },
  {
   "cell_type": "code",
   "execution_count": 59,
   "id": "70c6b193",
   "metadata": {},
   "outputs": [],
   "source": [
    "blue = pd.concat([info,blue], axis=1)\n",
    "red = pd.concat([info,red], axis=1)\n",
    "\n",
    "df2 = pd.concat([blue,red],axis=0)"
   ]
  },
  {
   "cell_type": "code",
   "execution_count": 60,
   "id": "af3a9a65",
   "metadata": {},
   "outputs": [],
   "source": [
    "y = df2['Winner']\n",
    "X = df2.drop(['Winner','Address'],axis=1)"
   ]
  },
  {
   "cell_type": "code",
   "execution_count": 61,
   "id": "6fdbc7a4",
   "metadata": {},
   "outputs": [],
   "source": [
    "X_train, X_test, y_train, y_test = train_test_split(X, y, test_size=0.2, random_state=20220905, stratify=y)"
   ]
  },
  {
   "cell_type": "markdown",
   "id": "422e2097",
   "metadata": {},
   "source": [
    "# Logistics Regression"
   ]
  },
  {
   "cell_type": "markdown",
   "id": "6a4f9868",
   "metadata": {},
   "source": [
    "Creating the model and the pipeline to search for the optimal parameters"
   ]
  },
  {
   "cell_type": "code",
   "execution_count": 62,
   "id": "d19dfc5c",
   "metadata": {},
   "outputs": [],
   "source": [
    "LR_model = LogisticRegression(penalty='none', max_iter=1000, random_state=14, tol=1.0e-08, solver='liblinear')"
   ]
  },
  {
   "cell_type": "code",
   "execution_count": 63,
   "id": "71698b53",
   "metadata": {},
   "outputs": [],
   "source": [
    "CATEGORICAL_VARS=['League', 'Year', 'Season', 'Type', 'FirstBlood',\n",
    "       'FirstTower', 'TopChamp', 'JungleChamp',\n",
    "       'MiddleChamp', 'ADCChamp', 'SupportChamp',\n",
    "       'ban_1', 'ban_2', 'ban_3', 'ban_4', 'ban_5', 'Team']\n",
    "\n",
    "NUMERIC_VARS=['gamelength','Towers', 'Inhib',\n",
    "       'Dragon', 'Herald', 'Kills']\n",
    "\n",
    "columns=ColumnTransformer([('category',OneHotEncoder(drop='first',handle_unknown='ignore'),CATEGORICAL_VARS),\n",
    "('numeric',MinMaxScaler(),NUMERIC_VARS)],\n",
    "remainder='drop')"
   ]
  },
  {
   "cell_type": "code",
   "execution_count": 64,
   "id": "cecc3a40",
   "metadata": {},
   "outputs": [],
   "source": [
    "data_pipe = Pipeline(steps=[('preprocess', columns)])"
   ]
  },
  {
   "cell_type": "code",
   "execution_count": 65,
   "id": "6d99079a",
   "metadata": {},
   "outputs": [],
   "source": [
    "X_train_trans = data_pipe.fit(X_train)"
   ]
  },
  {
   "cell_type": "code",
   "execution_count": 66,
   "id": "e930c40a",
   "metadata": {},
   "outputs": [],
   "source": [
    "pipe = Pipeline(steps=[('data',data_pipe), ('model', LR_model)])"
   ]
  },
  {
   "cell_type": "markdown",
   "id": "12f8d821",
   "metadata": {},
   "source": [
    "Grid Search and plot of the accuracies to examine best parameters to set the model as."
   ]
  },
  {
   "cell_type": "code",
   "execution_count": 67,
   "id": "fa19ae46",
   "metadata": {},
   "outputs": [],
   "source": [
    "param_grid = {\n",
    "    'model__penalty': ['l2', 'l1'],\n",
    "    'model__C': np.logspace(-4, 0, 5)\n",
    "    \n",
    "}\n",
    "\n",
    "grid_search = GridSearchCV(pipe, param_grid=param_grid)"
   ]
  },
  {
   "cell_type": "code",
   "execution_count": 68,
   "id": "f916ca16",
   "metadata": {
    "tags": []
   },
   "outputs": [
    {
     "name": "stderr",
     "output_type": "stream",
     "text": [
      "C:\\Users\\drago\\Anaconda3\\lib\\site-packages\\sklearn\\preprocessing\\_encoders.py:188: UserWarning: Found unknown categories in columns [6, 7, 8, 9, 11, 12, 13] during transform. These unknown categories will be encoded as all zeros\n",
      "  warnings.warn(\n",
      "C:\\Users\\drago\\Anaconda3\\lib\\site-packages\\sklearn\\preprocessing\\_encoders.py:188: UserWarning: Found unknown categories in columns [6, 8, 9, 10, 11, 12, 13] during transform. These unknown categories will be encoded as all zeros\n",
      "  warnings.warn(\n",
      "C:\\Users\\drago\\Anaconda3\\lib\\site-packages\\sklearn\\preprocessing\\_encoders.py:188: UserWarning: Found unknown categories in columns [8, 11, 12, 13] during transform. These unknown categories will be encoded as all zeros\n",
      "  warnings.warn(\n",
      "C:\\Users\\drago\\Anaconda3\\lib\\site-packages\\sklearn\\preprocessing\\_encoders.py:188: UserWarning: Found unknown categories in columns [6, 7, 8, 9, 10, 11, 12, 13] during transform. These unknown categories will be encoded as all zeros\n",
      "  warnings.warn(\n",
      "C:\\Users\\drago\\Anaconda3\\lib\\site-packages\\sklearn\\preprocessing\\_encoders.py:188: UserWarning: Found unknown categories in columns [6, 7, 10, 11, 13] during transform. These unknown categories will be encoded as all zeros\n",
      "  warnings.warn(\n",
      "C:\\Users\\drago\\Anaconda3\\lib\\site-packages\\sklearn\\preprocessing\\_encoders.py:188: UserWarning: Found unknown categories in columns [6, 7, 8, 9, 11, 12, 13] during transform. These unknown categories will be encoded as all zeros\n",
      "  warnings.warn(\n",
      "C:\\Users\\drago\\Anaconda3\\lib\\site-packages\\sklearn\\preprocessing\\_encoders.py:188: UserWarning: Found unknown categories in columns [6, 8, 9, 10, 11, 12, 13] during transform. These unknown categories will be encoded as all zeros\n",
      "  warnings.warn(\n",
      "C:\\Users\\drago\\Anaconda3\\lib\\site-packages\\sklearn\\preprocessing\\_encoders.py:188: UserWarning: Found unknown categories in columns [8, 11, 12, 13] during transform. These unknown categories will be encoded as all zeros\n",
      "  warnings.warn(\n",
      "C:\\Users\\drago\\Anaconda3\\lib\\site-packages\\sklearn\\preprocessing\\_encoders.py:188: UserWarning: Found unknown categories in columns [6, 7, 8, 9, 10, 11, 12, 13] during transform. These unknown categories will be encoded as all zeros\n",
      "  warnings.warn(\n",
      "C:\\Users\\drago\\Anaconda3\\lib\\site-packages\\sklearn\\preprocessing\\_encoders.py:188: UserWarning: Found unknown categories in columns [6, 7, 10, 11, 13] during transform. These unknown categories will be encoded as all zeros\n",
      "  warnings.warn(\n",
      "C:\\Users\\drago\\Anaconda3\\lib\\site-packages\\sklearn\\preprocessing\\_encoders.py:188: UserWarning: Found unknown categories in columns [6, 7, 8, 9, 11, 12, 13] during transform. These unknown categories will be encoded as all zeros\n",
      "  warnings.warn(\n",
      "C:\\Users\\drago\\Anaconda3\\lib\\site-packages\\sklearn\\preprocessing\\_encoders.py:188: UserWarning: Found unknown categories in columns [6, 8, 9, 10, 11, 12, 13] during transform. These unknown categories will be encoded as all zeros\n",
      "  warnings.warn(\n",
      "C:\\Users\\drago\\Anaconda3\\lib\\site-packages\\sklearn\\preprocessing\\_encoders.py:188: UserWarning: Found unknown categories in columns [8, 11, 12, 13] during transform. These unknown categories will be encoded as all zeros\n",
      "  warnings.warn(\n",
      "C:\\Users\\drago\\Anaconda3\\lib\\site-packages\\sklearn\\preprocessing\\_encoders.py:188: UserWarning: Found unknown categories in columns [6, 7, 8, 9, 10, 11, 12, 13] during transform. These unknown categories will be encoded as all zeros\n",
      "  warnings.warn(\n",
      "C:\\Users\\drago\\Anaconda3\\lib\\site-packages\\sklearn\\preprocessing\\_encoders.py:188: UserWarning: Found unknown categories in columns [6, 7, 10, 11, 13] during transform. These unknown categories will be encoded as all zeros\n",
      "  warnings.warn(\n",
      "C:\\Users\\drago\\Anaconda3\\lib\\site-packages\\sklearn\\preprocessing\\_encoders.py:188: UserWarning: Found unknown categories in columns [6, 7, 8, 9, 11, 12, 13] during transform. These unknown categories will be encoded as all zeros\n",
      "  warnings.warn(\n",
      "C:\\Users\\drago\\Anaconda3\\lib\\site-packages\\sklearn\\preprocessing\\_encoders.py:188: UserWarning: Found unknown categories in columns [6, 8, 9, 10, 11, 12, 13] during transform. These unknown categories will be encoded as all zeros\n",
      "  warnings.warn(\n",
      "C:\\Users\\drago\\Anaconda3\\lib\\site-packages\\sklearn\\preprocessing\\_encoders.py:188: UserWarning: Found unknown categories in columns [8, 11, 12, 13] during transform. These unknown categories will be encoded as all zeros\n",
      "  warnings.warn(\n",
      "C:\\Users\\drago\\Anaconda3\\lib\\site-packages\\sklearn\\preprocessing\\_encoders.py:188: UserWarning: Found unknown categories in columns [6, 7, 8, 9, 10, 11, 12, 13] during transform. These unknown categories will be encoded as all zeros\n",
      "  warnings.warn(\n",
      "C:\\Users\\drago\\Anaconda3\\lib\\site-packages\\sklearn\\preprocessing\\_encoders.py:188: UserWarning: Found unknown categories in columns [6, 7, 10, 11, 13] during transform. These unknown categories will be encoded as all zeros\n",
      "  warnings.warn(\n",
      "C:\\Users\\drago\\Anaconda3\\lib\\site-packages\\sklearn\\preprocessing\\_encoders.py:188: UserWarning: Found unknown categories in columns [6, 7, 8, 9, 11, 12, 13] during transform. These unknown categories will be encoded as all zeros\n",
      "  warnings.warn(\n",
      "C:\\Users\\drago\\Anaconda3\\lib\\site-packages\\sklearn\\preprocessing\\_encoders.py:188: UserWarning: Found unknown categories in columns [6, 8, 9, 10, 11, 12, 13] during transform. These unknown categories will be encoded as all zeros\n",
      "  warnings.warn(\n",
      "C:\\Users\\drago\\Anaconda3\\lib\\site-packages\\sklearn\\preprocessing\\_encoders.py:188: UserWarning: Found unknown categories in columns [8, 11, 12, 13] during transform. These unknown categories will be encoded as all zeros\n",
      "  warnings.warn(\n",
      "C:\\Users\\drago\\Anaconda3\\lib\\site-packages\\sklearn\\preprocessing\\_encoders.py:188: UserWarning: Found unknown categories in columns [6, 7, 8, 9, 10, 11, 12, 13] during transform. These unknown categories will be encoded as all zeros\n",
      "  warnings.warn(\n",
      "C:\\Users\\drago\\Anaconda3\\lib\\site-packages\\sklearn\\preprocessing\\_encoders.py:188: UserWarning: Found unknown categories in columns [6, 7, 10, 11, 13] during transform. These unknown categories will be encoded as all zeros\n",
      "  warnings.warn(\n",
      "C:\\Users\\drago\\Anaconda3\\lib\\site-packages\\sklearn\\model_selection\\_validation.py:378: FitFailedWarning: \n",
      "25 fits failed out of a total of 50.\n",
      "The score on these train-test partitions for these parameters will be set to nan.\n",
      "If these failures are not expected, you can try to debug them by setting error_score='raise'.\n",
      "\n",
      "Below are more details about the failures:\n",
      "--------------------------------------------------------------------------------\n",
      "25 fits failed with the following error:\n",
      "Traceback (most recent call last):\n",
      "  File \"C:\\Users\\drago\\Anaconda3\\lib\\site-packages\\sklearn\\model_selection\\_validation.py\", line 686, in _fit_and_score\n",
      "    estimator.fit(X_train, y_train, **fit_params)\n",
      "  File \"C:\\Users\\drago\\Anaconda3\\lib\\site-packages\\sklearn\\pipeline.py\", line 382, in fit\n",
      "    self._final_estimator.fit(Xt, y, **fit_params_last_step)\n",
      "  File \"C:\\Users\\drago\\Anaconda3\\lib\\site-packages\\sklearn\\linear_model\\_logistic.py\", line 1091, in fit\n",
      "    solver = _check_solver(self.solver, self.penalty, self.dual)\n",
      "  File \"C:\\Users\\drago\\Anaconda3\\lib\\site-packages\\sklearn\\linear_model\\_logistic.py\", line 61, in _check_solver\n",
      "    raise ValueError(\n",
      "ValueError: Solver lbfgs supports only 'l2' or 'none' penalties, got l1 penalty.\n",
      "\n",
      "  warnings.warn(some_fits_failed_message, FitFailedWarning)\n",
      "C:\\Users\\drago\\Anaconda3\\lib\\site-packages\\sklearn\\model_selection\\_search.py:953: UserWarning: One or more of the test scores are non-finite: [0.53575758        nan 0.53575758        nan 0.62070707        nan\n",
      " 0.69252525        nan 0.63424242        nan]\n",
      "  warnings.warn(\n"
     ]
    },
    {
     "data": {
      "text/html": [
       "<style>#sk-container-id-7 {color: black;background-color: white;}#sk-container-id-7 pre{padding: 0;}#sk-container-id-7 div.sk-toggleable {background-color: white;}#sk-container-id-7 label.sk-toggleable__label {cursor: pointer;display: block;width: 100%;margin-bottom: 0;padding: 0.3em;box-sizing: border-box;text-align: center;}#sk-container-id-7 label.sk-toggleable__label-arrow:before {content: \"▸\";float: left;margin-right: 0.25em;color: #696969;}#sk-container-id-7 label.sk-toggleable__label-arrow:hover:before {color: black;}#sk-container-id-7 div.sk-estimator:hover label.sk-toggleable__label-arrow:before {color: black;}#sk-container-id-7 div.sk-toggleable__content {max-height: 0;max-width: 0;overflow: hidden;text-align: left;background-color: #f0f8ff;}#sk-container-id-7 div.sk-toggleable__content pre {margin: 0.2em;color: black;border-radius: 0.25em;background-color: #f0f8ff;}#sk-container-id-7 input.sk-toggleable__control:checked~div.sk-toggleable__content {max-height: 200px;max-width: 100%;overflow: auto;}#sk-container-id-7 input.sk-toggleable__control:checked~label.sk-toggleable__label-arrow:before {content: \"▾\";}#sk-container-id-7 div.sk-estimator input.sk-toggleable__control:checked~label.sk-toggleable__label {background-color: #d4ebff;}#sk-container-id-7 div.sk-label input.sk-toggleable__control:checked~label.sk-toggleable__label {background-color: #d4ebff;}#sk-container-id-7 input.sk-hidden--visually {border: 0;clip: rect(1px 1px 1px 1px);clip: rect(1px, 1px, 1px, 1px);height: 1px;margin: -1px;overflow: hidden;padding: 0;position: absolute;width: 1px;}#sk-container-id-7 div.sk-estimator {font-family: monospace;background-color: #f0f8ff;border: 1px dotted black;border-radius: 0.25em;box-sizing: border-box;margin-bottom: 0.5em;}#sk-container-id-7 div.sk-estimator:hover {background-color: #d4ebff;}#sk-container-id-7 div.sk-parallel-item::after {content: \"\";width: 100%;border-bottom: 1px solid gray;flex-grow: 1;}#sk-container-id-7 div.sk-label:hover label.sk-toggleable__label {background-color: #d4ebff;}#sk-container-id-7 div.sk-serial::before {content: \"\";position: absolute;border-left: 1px solid gray;box-sizing: border-box;top: 0;bottom: 0;left: 50%;z-index: 0;}#sk-container-id-7 div.sk-serial {display: flex;flex-direction: column;align-items: center;background-color: white;padding-right: 0.2em;padding-left: 0.2em;position: relative;}#sk-container-id-7 div.sk-item {position: relative;z-index: 1;}#sk-container-id-7 div.sk-parallel {display: flex;align-items: stretch;justify-content: center;background-color: white;position: relative;}#sk-container-id-7 div.sk-item::before, #sk-container-id-7 div.sk-parallel-item::before {content: \"\";position: absolute;border-left: 1px solid gray;box-sizing: border-box;top: 0;bottom: 0;left: 50%;z-index: -1;}#sk-container-id-7 div.sk-parallel-item {display: flex;flex-direction: column;z-index: 1;position: relative;background-color: white;}#sk-container-id-7 div.sk-parallel-item:first-child::after {align-self: flex-end;width: 50%;}#sk-container-id-7 div.sk-parallel-item:last-child::after {align-self: flex-start;width: 50%;}#sk-container-id-7 div.sk-parallel-item:only-child::after {width: 0;}#sk-container-id-7 div.sk-dashed-wrapped {border: 1px dashed gray;margin: 0 0.4em 0.5em 0.4em;box-sizing: border-box;padding-bottom: 0.4em;background-color: white;}#sk-container-id-7 div.sk-label label {font-family: monospace;font-weight: bold;display: inline-block;line-height: 1.2em;}#sk-container-id-7 div.sk-label-container {text-align: center;}#sk-container-id-7 div.sk-container {/* jupyter's `normalize.less` sets `[hidden] { display: none; }` but bootstrap.min.css set `[hidden] { display: none !important; }` so we also need the `!important` here to be able to override the default hidden behavior on the sphinx rendered scikit-learn.org. See: https://github.com/scikit-learn/scikit-learn/issues/21755 */display: inline-block !important;position: relative;}#sk-container-id-7 div.sk-text-repr-fallback {display: none;}</style><div id=\"sk-container-id-7\" class=\"sk-top-container\"><div class=\"sk-text-repr-fallback\"><pre>GridSearchCV(estimator=Pipeline(steps=[(&#x27;data&#x27;,\n",
       "                                        Pipeline(steps=[(&#x27;preprocess&#x27;,\n",
       "                                                         ColumnTransformer(transformers=[(&#x27;category&#x27;,\n",
       "                                                                                          OneHotEncoder(drop=&#x27;first&#x27;,\n",
       "                                                                                                        handle_unknown=&#x27;ignore&#x27;),\n",
       "                                                                                          [&#x27;League&#x27;,\n",
       "                                                                                           &#x27;Year&#x27;,\n",
       "                                                                                           &#x27;Season&#x27;,\n",
       "                                                                                           &#x27;Type&#x27;,\n",
       "                                                                                           &#x27;FirstBlood&#x27;,\n",
       "                                                                                           &#x27;FirstTower&#x27;,\n",
       "                                                                                           &#x27;TopChamp&#x27;,\n",
       "                                                                                           &#x27;JungleChamp&#x27;,\n",
       "                                                                                           &#x27;MiddleChamp&#x27;,\n",
       "                                                                                           &#x27;ADCChamp&#x27;,\n",
       "                                                                                           &#x27;SupportChamp&#x27;,\n",
       "                                                                                           &#x27;ban_1&#x27;,\n",
       "                                                                                           &#x27;ban_2&#x27;,\n",
       "                                                                                           &#x27;ban_3&#x27;,\n",
       "                                                                                           &#x27;ban_4&#x27;,\n",
       "                                                                                           &#x27;ban_5&#x27;,\n",
       "                                                                                           &#x27;Team&#x27;]),\n",
       "                                                                                         (&#x27;numeric&#x27;,\n",
       "                                                                                          MinMaxScaler(),\n",
       "                                                                                          [&#x27;gamelength&#x27;,\n",
       "                                                                                           &#x27;Towers&#x27;,\n",
       "                                                                                           &#x27;Inhib&#x27;,\n",
       "                                                                                           &#x27;Dragon&#x27;,\n",
       "                                                                                           &#x27;Herald&#x27;,\n",
       "                                                                                           &#x27;Kills&#x27;])]))])),\n",
       "                                       (&#x27;model&#x27;,\n",
       "                                        LogisticRegression(max_iter=1000,\n",
       "                                                           penalty=&#x27;none&#x27;,\n",
       "                                                           random_state=14,\n",
       "                                                           tol=1e-08))]),\n",
       "             param_grid={&#x27;model__C&#x27;: array([1.e-04, 1.e-03, 1.e-02, 1.e-01, 1.e+00]),\n",
       "                         &#x27;model__penalty&#x27;: [&#x27;l2&#x27;, &#x27;l1&#x27;]})</pre><b>In a Jupyter environment, please rerun this cell to show the HTML representation or trust the notebook. <br />On GitHub, the HTML representation is unable to render, please try loading this page with nbviewer.org.</b></div><div class=\"sk-container\" hidden><div class=\"sk-item sk-dashed-wrapped\"><div class=\"sk-label-container\"><div class=\"sk-label sk-toggleable\"><input class=\"sk-toggleable__control sk-hidden--visually\" id=\"sk-estimator-id-56\" type=\"checkbox\" ><label for=\"sk-estimator-id-56\" class=\"sk-toggleable__label sk-toggleable__label-arrow\">GridSearchCV</label><div class=\"sk-toggleable__content\"><pre>GridSearchCV(estimator=Pipeline(steps=[(&#x27;data&#x27;,\n",
       "                                        Pipeline(steps=[(&#x27;preprocess&#x27;,\n",
       "                                                         ColumnTransformer(transformers=[(&#x27;category&#x27;,\n",
       "                                                                                          OneHotEncoder(drop=&#x27;first&#x27;,\n",
       "                                                                                                        handle_unknown=&#x27;ignore&#x27;),\n",
       "                                                                                          [&#x27;League&#x27;,\n",
       "                                                                                           &#x27;Year&#x27;,\n",
       "                                                                                           &#x27;Season&#x27;,\n",
       "                                                                                           &#x27;Type&#x27;,\n",
       "                                                                                           &#x27;FirstBlood&#x27;,\n",
       "                                                                                           &#x27;FirstTower&#x27;,\n",
       "                                                                                           &#x27;TopChamp&#x27;,\n",
       "                                                                                           &#x27;JungleChamp&#x27;,\n",
       "                                                                                           &#x27;MiddleChamp&#x27;,\n",
       "                                                                                           &#x27;ADCChamp&#x27;,\n",
       "                                                                                           &#x27;SupportChamp&#x27;,\n",
       "                                                                                           &#x27;ban_1&#x27;,\n",
       "                                                                                           &#x27;ban_2&#x27;,\n",
       "                                                                                           &#x27;ban_3&#x27;,\n",
       "                                                                                           &#x27;ban_4&#x27;,\n",
       "                                                                                           &#x27;ban_5&#x27;,\n",
       "                                                                                           &#x27;Team&#x27;]),\n",
       "                                                                                         (&#x27;numeric&#x27;,\n",
       "                                                                                          MinMaxScaler(),\n",
       "                                                                                          [&#x27;gamelength&#x27;,\n",
       "                                                                                           &#x27;Towers&#x27;,\n",
       "                                                                                           &#x27;Inhib&#x27;,\n",
       "                                                                                           &#x27;Dragon&#x27;,\n",
       "                                                                                           &#x27;Herald&#x27;,\n",
       "                                                                                           &#x27;Kills&#x27;])]))])),\n",
       "                                       (&#x27;model&#x27;,\n",
       "                                        LogisticRegression(max_iter=1000,\n",
       "                                                           penalty=&#x27;none&#x27;,\n",
       "                                                           random_state=14,\n",
       "                                                           tol=1e-08))]),\n",
       "             param_grid={&#x27;model__C&#x27;: array([1.e-04, 1.e-03, 1.e-02, 1.e-01, 1.e+00]),\n",
       "                         &#x27;model__penalty&#x27;: [&#x27;l2&#x27;, &#x27;l1&#x27;]})</pre></div></div></div><div class=\"sk-parallel\"><div class=\"sk-parallel-item\"><div class=\"sk-item\"><div class=\"sk-label-container\"><div class=\"sk-label sk-toggleable\"><input class=\"sk-toggleable__control sk-hidden--visually\" id=\"sk-estimator-id-57\" type=\"checkbox\" ><label for=\"sk-estimator-id-57\" class=\"sk-toggleable__label sk-toggleable__label-arrow\">estimator: Pipeline</label><div class=\"sk-toggleable__content\"><pre>Pipeline(steps=[(&#x27;data&#x27;,\n",
       "                 Pipeline(steps=[(&#x27;preprocess&#x27;,\n",
       "                                  ColumnTransformer(transformers=[(&#x27;category&#x27;,\n",
       "                                                                   OneHotEncoder(drop=&#x27;first&#x27;,\n",
       "                                                                                 handle_unknown=&#x27;ignore&#x27;),\n",
       "                                                                   [&#x27;League&#x27;,\n",
       "                                                                    &#x27;Year&#x27;,\n",
       "                                                                    &#x27;Season&#x27;,\n",
       "                                                                    &#x27;Type&#x27;,\n",
       "                                                                    &#x27;FirstBlood&#x27;,\n",
       "                                                                    &#x27;FirstTower&#x27;,\n",
       "                                                                    &#x27;TopChamp&#x27;,\n",
       "                                                                    &#x27;JungleChamp&#x27;,\n",
       "                                                                    &#x27;MiddleChamp&#x27;,\n",
       "                                                                    &#x27;ADCChamp&#x27;,\n",
       "                                                                    &#x27;SupportChamp&#x27;,\n",
       "                                                                    &#x27;ban_1&#x27;,\n",
       "                                                                    &#x27;ban_2&#x27;,\n",
       "                                                                    &#x27;ban_3&#x27;,\n",
       "                                                                    &#x27;ban_4&#x27;,\n",
       "                                                                    &#x27;ban_5&#x27;,\n",
       "                                                                    &#x27;Team&#x27;]),\n",
       "                                                                  (&#x27;numeric&#x27;,\n",
       "                                                                   MinMaxScaler(),\n",
       "                                                                   [&#x27;gamelength&#x27;,\n",
       "                                                                    &#x27;Towers&#x27;,\n",
       "                                                                    &#x27;Inhib&#x27;,\n",
       "                                                                    &#x27;Dragon&#x27;,\n",
       "                                                                    &#x27;Herald&#x27;,\n",
       "                                                                    &#x27;Kills&#x27;])]))])),\n",
       "                (&#x27;model&#x27;,\n",
       "                 LogisticRegression(max_iter=1000, penalty=&#x27;none&#x27;,\n",
       "                                    random_state=14, tol=1e-08))])</pre></div></div></div><div class=\"sk-serial\"><div class=\"sk-item\"><div class=\"sk-serial\"><div class=\"sk-item\"><div class=\"sk-label-container\"><div class=\"sk-label sk-toggleable\"><input class=\"sk-toggleable__control sk-hidden--visually\" id=\"sk-estimator-id-58\" type=\"checkbox\" ><label for=\"sk-estimator-id-58\" class=\"sk-toggleable__label sk-toggleable__label-arrow\">data: Pipeline</label><div class=\"sk-toggleable__content\"><pre>Pipeline(steps=[(&#x27;preprocess&#x27;,\n",
       "                 ColumnTransformer(transformers=[(&#x27;category&#x27;,\n",
       "                                                  OneHotEncoder(drop=&#x27;first&#x27;,\n",
       "                                                                handle_unknown=&#x27;ignore&#x27;),\n",
       "                                                  [&#x27;League&#x27;, &#x27;Year&#x27;, &#x27;Season&#x27;,\n",
       "                                                   &#x27;Type&#x27;, &#x27;FirstBlood&#x27;,\n",
       "                                                   &#x27;FirstTower&#x27;, &#x27;TopChamp&#x27;,\n",
       "                                                   &#x27;JungleChamp&#x27;, &#x27;MiddleChamp&#x27;,\n",
       "                                                   &#x27;ADCChamp&#x27;, &#x27;SupportChamp&#x27;,\n",
       "                                                   &#x27;ban_1&#x27;, &#x27;ban_2&#x27;, &#x27;ban_3&#x27;,\n",
       "                                                   &#x27;ban_4&#x27;, &#x27;ban_5&#x27;, &#x27;Team&#x27;]),\n",
       "                                                 (&#x27;numeric&#x27;, MinMaxScaler(),\n",
       "                                                  [&#x27;gamelength&#x27;, &#x27;Towers&#x27;,\n",
       "                                                   &#x27;Inhib&#x27;, &#x27;Dragon&#x27;, &#x27;Herald&#x27;,\n",
       "                                                   &#x27;Kills&#x27;])]))])</pre></div></div></div><div class=\"sk-serial\"><div class=\"sk-item sk-dashed-wrapped\"><div class=\"sk-label-container\"><div class=\"sk-label sk-toggleable\"><input class=\"sk-toggleable__control sk-hidden--visually\" id=\"sk-estimator-id-59\" type=\"checkbox\" ><label for=\"sk-estimator-id-59\" class=\"sk-toggleable__label sk-toggleable__label-arrow\">preprocess: ColumnTransformer</label><div class=\"sk-toggleable__content\"><pre>ColumnTransformer(transformers=[(&#x27;category&#x27;,\n",
       "                                 OneHotEncoder(drop=&#x27;first&#x27;,\n",
       "                                               handle_unknown=&#x27;ignore&#x27;),\n",
       "                                 [&#x27;League&#x27;, &#x27;Year&#x27;, &#x27;Season&#x27;, &#x27;Type&#x27;,\n",
       "                                  &#x27;FirstBlood&#x27;, &#x27;FirstTower&#x27;, &#x27;TopChamp&#x27;,\n",
       "                                  &#x27;JungleChamp&#x27;, &#x27;MiddleChamp&#x27;, &#x27;ADCChamp&#x27;,\n",
       "                                  &#x27;SupportChamp&#x27;, &#x27;ban_1&#x27;, &#x27;ban_2&#x27;, &#x27;ban_3&#x27;,\n",
       "                                  &#x27;ban_4&#x27;, &#x27;ban_5&#x27;, &#x27;Team&#x27;]),\n",
       "                                (&#x27;numeric&#x27;, MinMaxScaler(),\n",
       "                                 [&#x27;gamelength&#x27;, &#x27;Towers&#x27;, &#x27;Inhib&#x27;, &#x27;Dragon&#x27;,\n",
       "                                  &#x27;Herald&#x27;, &#x27;Kills&#x27;])])</pre></div></div></div><div class=\"sk-parallel\"><div class=\"sk-parallel-item\"><div class=\"sk-item\"><div class=\"sk-label-container\"><div class=\"sk-label sk-toggleable\"><input class=\"sk-toggleable__control sk-hidden--visually\" id=\"sk-estimator-id-60\" type=\"checkbox\" ><label for=\"sk-estimator-id-60\" class=\"sk-toggleable__label sk-toggleable__label-arrow\">category</label><div class=\"sk-toggleable__content\"><pre>[&#x27;League&#x27;, &#x27;Year&#x27;, &#x27;Season&#x27;, &#x27;Type&#x27;, &#x27;FirstBlood&#x27;, &#x27;FirstTower&#x27;, &#x27;TopChamp&#x27;, &#x27;JungleChamp&#x27;, &#x27;MiddleChamp&#x27;, &#x27;ADCChamp&#x27;, &#x27;SupportChamp&#x27;, &#x27;ban_1&#x27;, &#x27;ban_2&#x27;, &#x27;ban_3&#x27;, &#x27;ban_4&#x27;, &#x27;ban_5&#x27;, &#x27;Team&#x27;]</pre></div></div></div><div class=\"sk-serial\"><div class=\"sk-item\"><div class=\"sk-estimator sk-toggleable\"><input class=\"sk-toggleable__control sk-hidden--visually\" id=\"sk-estimator-id-61\" type=\"checkbox\" ><label for=\"sk-estimator-id-61\" class=\"sk-toggleable__label sk-toggleable__label-arrow\">OneHotEncoder</label><div class=\"sk-toggleable__content\"><pre>OneHotEncoder(drop=&#x27;first&#x27;, handle_unknown=&#x27;ignore&#x27;)</pre></div></div></div></div></div></div><div class=\"sk-parallel-item\"><div class=\"sk-item\"><div class=\"sk-label-container\"><div class=\"sk-label sk-toggleable\"><input class=\"sk-toggleable__control sk-hidden--visually\" id=\"sk-estimator-id-62\" type=\"checkbox\" ><label for=\"sk-estimator-id-62\" class=\"sk-toggleable__label sk-toggleable__label-arrow\">numeric</label><div class=\"sk-toggleable__content\"><pre>[&#x27;gamelength&#x27;, &#x27;Towers&#x27;, &#x27;Inhib&#x27;, &#x27;Dragon&#x27;, &#x27;Herald&#x27;, &#x27;Kills&#x27;]</pre></div></div></div><div class=\"sk-serial\"><div class=\"sk-item\"><div class=\"sk-estimator sk-toggleable\"><input class=\"sk-toggleable__control sk-hidden--visually\" id=\"sk-estimator-id-63\" type=\"checkbox\" ><label for=\"sk-estimator-id-63\" class=\"sk-toggleable__label sk-toggleable__label-arrow\">MinMaxScaler</label><div class=\"sk-toggleable__content\"><pre>MinMaxScaler()</pre></div></div></div></div></div></div></div></div></div></div><div class=\"sk-item\"><div class=\"sk-estimator sk-toggleable\"><input class=\"sk-toggleable__control sk-hidden--visually\" id=\"sk-estimator-id-64\" type=\"checkbox\" ><label for=\"sk-estimator-id-64\" class=\"sk-toggleable__label sk-toggleable__label-arrow\">LogisticRegression</label><div class=\"sk-toggleable__content\"><pre>LogisticRegression(max_iter=1000, penalty=&#x27;none&#x27;, random_state=14, tol=1e-08)</pre></div></div></div></div></div></div></div></div></div></div></div></div>"
      ],
      "text/plain": [
       "GridSearchCV(estimator=Pipeline(steps=[('data',\n",
       "                                        Pipeline(steps=[('preprocess',\n",
       "                                                         ColumnTransformer(transformers=[('category',\n",
       "                                                                                          OneHotEncoder(drop='first',\n",
       "                                                                                                        handle_unknown='ignore'),\n",
       "                                                                                          ['League',\n",
       "                                                                                           'Year',\n",
       "                                                                                           'Season',\n",
       "                                                                                           'Type',\n",
       "                                                                                           'FirstBlood',\n",
       "                                                                                           'FirstTower',\n",
       "                                                                                           'TopChamp',\n",
       "                                                                                           'JungleChamp',\n",
       "                                                                                           'MiddleChamp',\n",
       "                                                                                           'ADCChamp',\n",
       "                                                                                           'SupportChamp',\n",
       "                                                                                           'ban_1',\n",
       "                                                                                           'ban_2',\n",
       "                                                                                           'ban_3',\n",
       "                                                                                           'ban_4',\n",
       "                                                                                           'ban_5',\n",
       "                                                                                           'Team']),\n",
       "                                                                                         ('numeric',\n",
       "                                                                                          MinMaxScaler(),\n",
       "                                                                                          ['gamelength',\n",
       "                                                                                           'Towers',\n",
       "                                                                                           'Inhib',\n",
       "                                                                                           'Dragon',\n",
       "                                                                                           'Herald',\n",
       "                                                                                           'Kills'])]))])),\n",
       "                                       ('model',\n",
       "                                        LogisticRegression(max_iter=1000,\n",
       "                                                           penalty='none',\n",
       "                                                           random_state=14,\n",
       "                                                           tol=1e-08))]),\n",
       "             param_grid={'model__C': array([1.e-04, 1.e-03, 1.e-02, 1.e-01, 1.e+00]),\n",
       "                         'model__penalty': ['l2', 'l1']})"
      ]
     },
     "execution_count": 68,
     "metadata": {},
     "output_type": "execute_result"
    }
   ],
   "source": [
    "grid_search.fit(X_train, y_train)"
   ]
  },
  {
   "cell_type": "code",
   "execution_count": 69,
   "id": "f93e2a5d",
   "metadata": {
    "tags": []
   },
   "outputs": [],
   "source": [
    "params = grid_search.cv_results_['params']\n",
    "scores = grid_search.cv_results_['mean_test_score']"
   ]
  },
  {
   "cell_type": "code",
   "execution_count": 70,
   "id": "7ff0a5ed",
   "metadata": {},
   "outputs": [],
   "source": [
    "rows = [dict(param_dict, score=score) for param_dict, score in zip(params, scores)]"
   ]
  },
  {
   "cell_type": "code",
   "execution_count": 71,
   "id": "0512b59d",
   "metadata": {},
   "outputs": [
    {
     "data": {
      "text/plain": [
       "[{'model__C': 0.0001, 'model__penalty': 'l2', 'score': 0.5357575757575758},\n",
       " {'model__C': 0.0001, 'model__penalty': 'l1', 'score': nan},\n",
       " {'model__C': 0.001, 'model__penalty': 'l2', 'score': 0.5357575757575758},\n",
       " {'model__C': 0.001, 'model__penalty': 'l1', 'score': nan},\n",
       " {'model__C': 0.01, 'model__penalty': 'l2', 'score': 0.6207070707070708},\n",
       " {'model__C': 0.01, 'model__penalty': 'l1', 'score': nan},\n",
       " {'model__C': 0.1, 'model__penalty': 'l2', 'score': 0.6925252525252525},\n",
       " {'model__C': 0.1, 'model__penalty': 'l1', 'score': nan},\n",
       " {'model__C': 1.0, 'model__penalty': 'l2', 'score': 0.6342424242424243},\n",
       " {'model__C': 1.0, 'model__penalty': 'l1', 'score': nan}]"
      ]
     },
     "execution_count": 71,
     "metadata": {},
     "output_type": "execute_result"
    }
   ],
   "source": [
    "rows"
   ]
  },
  {
   "cell_type": "code",
   "execution_count": 72,
   "id": "e96930fe",
   "metadata": {},
   "outputs": [
    {
     "data": {
      "text/html": [
       "<div>\n",
       "<style scoped>\n",
       "    .dataframe tbody tr th:only-of-type {\n",
       "        vertical-align: middle;\n",
       "    }\n",
       "\n",
       "    .dataframe tbody tr th {\n",
       "        vertical-align: top;\n",
       "    }\n",
       "\n",
       "    .dataframe thead th {\n",
       "        text-align: right;\n",
       "    }\n",
       "</style>\n",
       "<table border=\"1\" class=\"dataframe\">\n",
       "  <thead>\n",
       "    <tr style=\"text-align: right;\">\n",
       "      <th></th>\n",
       "      <th>Reg. Strength</th>\n",
       "      <th>Reg. Type</th>\n",
       "      <th>Accuracy</th>\n",
       "    </tr>\n",
       "  </thead>\n",
       "  <tbody>\n",
       "    <tr>\n",
       "      <th>0</th>\n",
       "      <td>0.0001</td>\n",
       "      <td>l2</td>\n",
       "      <td>0.535758</td>\n",
       "    </tr>\n",
       "    <tr>\n",
       "      <th>1</th>\n",
       "      <td>0.0001</td>\n",
       "      <td>l1</td>\n",
       "      <td>NaN</td>\n",
       "    </tr>\n",
       "    <tr>\n",
       "      <th>2</th>\n",
       "      <td>0.0010</td>\n",
       "      <td>l2</td>\n",
       "      <td>0.535758</td>\n",
       "    </tr>\n",
       "    <tr>\n",
       "      <th>3</th>\n",
       "      <td>0.0010</td>\n",
       "      <td>l1</td>\n",
       "      <td>NaN</td>\n",
       "    </tr>\n",
       "    <tr>\n",
       "      <th>4</th>\n",
       "      <td>0.0100</td>\n",
       "      <td>l2</td>\n",
       "      <td>0.620707</td>\n",
       "    </tr>\n",
       "    <tr>\n",
       "      <th>5</th>\n",
       "      <td>0.0100</td>\n",
       "      <td>l1</td>\n",
       "      <td>NaN</td>\n",
       "    </tr>\n",
       "    <tr>\n",
       "      <th>6</th>\n",
       "      <td>0.1000</td>\n",
       "      <td>l2</td>\n",
       "      <td>0.692525</td>\n",
       "    </tr>\n",
       "    <tr>\n",
       "      <th>7</th>\n",
       "      <td>0.1000</td>\n",
       "      <td>l1</td>\n",
       "      <td>NaN</td>\n",
       "    </tr>\n",
       "    <tr>\n",
       "      <th>8</th>\n",
       "      <td>1.0000</td>\n",
       "      <td>l2</td>\n",
       "      <td>0.634242</td>\n",
       "    </tr>\n",
       "    <tr>\n",
       "      <th>9</th>\n",
       "      <td>1.0000</td>\n",
       "      <td>l1</td>\n",
       "      <td>NaN</td>\n",
       "    </tr>\n",
       "  </tbody>\n",
       "</table>\n",
       "</div>"
      ],
      "text/plain": [
       "   Reg. Strength Reg. Type  Accuracy\n",
       "0         0.0001        l2  0.535758\n",
       "1         0.0001        l1       NaN\n",
       "2         0.0010        l2  0.535758\n",
       "3         0.0010        l1       NaN\n",
       "4         0.0100        l2  0.620707\n",
       "5         0.0100        l1       NaN\n",
       "6         0.1000        l2  0.692525\n",
       "7         0.1000        l1       NaN\n",
       "8         1.0000        l2  0.634242\n",
       "9         1.0000        l1       NaN"
      ]
     },
     "execution_count": 72,
     "metadata": {},
     "output_type": "execute_result"
    }
   ],
   "source": [
    "results_df = pd.DataFrame(rows)\n",
    "results_df.columns = ['Reg. Strength', 'Reg. Type', 'Accuracy']\n",
    "results_df"
   ]
  },
  {
   "cell_type": "code",
   "execution_count": 73,
   "id": "e112c3f9",
   "metadata": {},
   "outputs": [
    {
     "data": {
      "image/png": "[encoded data removed]",
      "text/plain": [
       "<Figure size 432x288 with 1 Axes>"
      ]
     },
     "metadata": {
      "needs_background": "light"
     },
     "output_type": "display_data"
    }
   ],
   "source": [
    "LR_Grid_plot = sb.lineplot(data=results_df, x='Reg. Strength', y='Accuracy', hue='Reg. Type', marker='o')\n",
    "LR_Grid_plot.set(xscale='log', title = 'Logistics Regression Model 2 Parameters')\n",
    "\n",
    "LR_Grid_plot.get_figure().savefig('../plots/LR_Grid_plot.png')"
   ]
  },
  {
   "cell_type": "markdown",
   "id": "c2613e62",
   "metadata": {},
   "source": [
    "Best model is:\n",
    "\n",
    "$penalty = L2$\n",
    "\n",
    "$C = 0.1$"
   ]
  },
  {
   "cell_type": "code",
   "execution_count": 74,
   "id": "2449032e",
   "metadata": {},
   "outputs": [],
   "source": [
    "LR_model = LogisticRegression( max_iter=1000, random_state=14, tol=1.0e-08, penalty = 'l2', C = 0.1)"
   ]
  },
  {
   "cell_type": "code",
   "execution_count": 75,
   "id": "60468118",
   "metadata": {},
   "outputs": [],
   "source": [
    "pipe = Pipeline(steps=[('encoder', columns), ('model', LR_model)])"
   ]
  },
  {
   "cell_type": "code",
   "execution_count": 76,
   "id": "43c9e3be",
   "metadata": {
    "tags": []
   },
   "outputs": [
    {
     "data": {
      "text/html": [
       "<style>#sk-container-id-8 {color: black;background-color: white;}#sk-container-id-8 pre{padding: 0;}#sk-container-id-8 div.sk-toggleable {background-color: white;}#sk-container-id-8 label.sk-toggleable__label {cursor: pointer;display: block;width: 100%;margin-bottom: 0;padding: 0.3em;box-sizing: border-box;text-align: center;}#sk-container-id-8 label.sk-toggleable__label-arrow:before {content: \"▸\";float: left;margin-right: 0.25em;color: #696969;}#sk-container-id-8 label.sk-toggleable__label-arrow:hover:before {color: black;}#sk-container-id-8 div.sk-estimator:hover label.sk-toggleable__label-arrow:before {color: black;}#sk-container-id-8 div.sk-toggleable__content {max-height: 0;max-width: 0;overflow: hidden;text-align: left;background-color: #f0f8ff;}#sk-container-id-8 div.sk-toggleable__content pre {margin: 0.2em;color: black;border-radius: 0.25em;background-color: #f0f8ff;}#sk-container-id-8 input.sk-toggleable__control:checked~div.sk-toggleable__content {max-height: 200px;max-width: 100%;overflow: auto;}#sk-container-id-8 input.sk-toggleable__control:checked~label.sk-toggleable__label-arrow:before {content: \"▾\";}#sk-container-id-8 div.sk-estimator input.sk-toggleable__control:checked~label.sk-toggleable__label {background-color: #d4ebff;}#sk-container-id-8 div.sk-label input.sk-toggleable__control:checked~label.sk-toggleable__label {background-color: #d4ebff;}#sk-container-id-8 input.sk-hidden--visually {border: 0;clip: rect(1px 1px 1px 1px);clip: rect(1px, 1px, 1px, 1px);height: 1px;margin: -1px;overflow: hidden;padding: 0;position: absolute;width: 1px;}#sk-container-id-8 div.sk-estimator {font-family: monospace;background-color: #f0f8ff;border: 1px dotted black;border-radius: 0.25em;box-sizing: border-box;margin-bottom: 0.5em;}#sk-container-id-8 div.sk-estimator:hover {background-color: #d4ebff;}#sk-container-id-8 div.sk-parallel-item::after {content: \"\";width: 100%;border-bottom: 1px solid gray;flex-grow: 1;}#sk-container-id-8 div.sk-label:hover label.sk-toggleable__label {background-color: #d4ebff;}#sk-container-id-8 div.sk-serial::before {content: \"\";position: absolute;border-left: 1px solid gray;box-sizing: border-box;top: 0;bottom: 0;left: 50%;z-index: 0;}#sk-container-id-8 div.sk-serial {display: flex;flex-direction: column;align-items: center;background-color: white;padding-right: 0.2em;padding-left: 0.2em;position: relative;}#sk-container-id-8 div.sk-item {position: relative;z-index: 1;}#sk-container-id-8 div.sk-parallel {display: flex;align-items: stretch;justify-content: center;background-color: white;position: relative;}#sk-container-id-8 div.sk-item::before, #sk-container-id-8 div.sk-parallel-item::before {content: \"\";position: absolute;border-left: 1px solid gray;box-sizing: border-box;top: 0;bottom: 0;left: 50%;z-index: -1;}#sk-container-id-8 div.sk-parallel-item {display: flex;flex-direction: column;z-index: 1;position: relative;background-color: white;}#sk-container-id-8 div.sk-parallel-item:first-child::after {align-self: flex-end;width: 50%;}#sk-container-id-8 div.sk-parallel-item:last-child::after {align-self: flex-start;width: 50%;}#sk-container-id-8 div.sk-parallel-item:only-child::after {width: 0;}#sk-container-id-8 div.sk-dashed-wrapped {border: 1px dashed gray;margin: 0 0.4em 0.5em 0.4em;box-sizing: border-box;padding-bottom: 0.4em;background-color: white;}#sk-container-id-8 div.sk-label label {font-family: monospace;font-weight: bold;display: inline-block;line-height: 1.2em;}#sk-container-id-8 div.sk-label-container {text-align: center;}#sk-container-id-8 div.sk-container {/* jupyter's `normalize.less` sets `[hidden] { display: none; }` but bootstrap.min.css set `[hidden] { display: none !important; }` so we also need the `!important` here to be able to override the default hidden behavior on the sphinx rendered scikit-learn.org. See: https://github.com/scikit-learn/scikit-learn/issues/21755 */display: inline-block !important;position: relative;}#sk-container-id-8 div.sk-text-repr-fallback {display: none;}</style><div id=\"sk-container-id-8\" class=\"sk-top-container\"><div class=\"sk-text-repr-fallback\"><pre>Pipeline(steps=[(&#x27;encoder&#x27;,\n",
       "                 ColumnTransformer(transformers=[(&#x27;category&#x27;,\n",
       "                                                  OneHotEncoder(drop=&#x27;first&#x27;,\n",
       "                                                                handle_unknown=&#x27;ignore&#x27;),\n",
       "                                                  [&#x27;League&#x27;, &#x27;Year&#x27;, &#x27;Season&#x27;,\n",
       "                                                   &#x27;Type&#x27;, &#x27;FirstBlood&#x27;,\n",
       "                                                   &#x27;FirstTower&#x27;, &#x27;TopChamp&#x27;,\n",
       "                                                   &#x27;JungleChamp&#x27;, &#x27;MiddleChamp&#x27;,\n",
       "                                                   &#x27;ADCChamp&#x27;, &#x27;SupportChamp&#x27;,\n",
       "                                                   &#x27;ban_1&#x27;, &#x27;ban_2&#x27;, &#x27;ban_3&#x27;,\n",
       "                                                   &#x27;ban_4&#x27;, &#x27;ban_5&#x27;, &#x27;Team&#x27;]),\n",
       "                                                 (&#x27;numeric&#x27;, MinMaxScaler(),\n",
       "                                                  [&#x27;gamelength&#x27;, &#x27;Towers&#x27;,\n",
       "                                                   &#x27;Inhib&#x27;, &#x27;Dragon&#x27;, &#x27;Herald&#x27;,\n",
       "                                                   &#x27;Kills&#x27;])])),\n",
       "                (&#x27;model&#x27;,\n",
       "                 LogisticRegression(C=0.1, max_iter=1000, random_state=14,\n",
       "                                    tol=1e-08))])</pre><b>In a Jupyter environment, please rerun this cell to show the HTML representation or trust the notebook. <br />On GitHub, the HTML representation is unable to render, please try loading this page with nbviewer.org.</b></div><div class=\"sk-container\" hidden><div class=\"sk-item sk-dashed-wrapped\"><div class=\"sk-label-container\"><div class=\"sk-label sk-toggleable\"><input class=\"sk-toggleable__control sk-hidden--visually\" id=\"sk-estimator-id-65\" type=\"checkbox\" ><label for=\"sk-estimator-id-65\" class=\"sk-toggleable__label sk-toggleable__label-arrow\">Pipeline</label><div class=\"sk-toggleable__content\"><pre>Pipeline(steps=[(&#x27;encoder&#x27;,\n",
       "                 ColumnTransformer(transformers=[(&#x27;category&#x27;,\n",
       "                                                  OneHotEncoder(drop=&#x27;first&#x27;,\n",
       "                                                                handle_unknown=&#x27;ignore&#x27;),\n",
       "                                                  [&#x27;League&#x27;, &#x27;Year&#x27;, &#x27;Season&#x27;,\n",
       "                                                   &#x27;Type&#x27;, &#x27;FirstBlood&#x27;,\n",
       "                                                   &#x27;FirstTower&#x27;, &#x27;TopChamp&#x27;,\n",
       "                                                   &#x27;JungleChamp&#x27;, &#x27;MiddleChamp&#x27;,\n",
       "                                                   &#x27;ADCChamp&#x27;, &#x27;SupportChamp&#x27;,\n",
       "                                                   &#x27;ban_1&#x27;, &#x27;ban_2&#x27;, &#x27;ban_3&#x27;,\n",
       "                                                   &#x27;ban_4&#x27;, &#x27;ban_5&#x27;, &#x27;Team&#x27;]),\n",
       "                                                 (&#x27;numeric&#x27;, MinMaxScaler(),\n",
       "                                                  [&#x27;gamelength&#x27;, &#x27;Towers&#x27;,\n",
       "                                                   &#x27;Inhib&#x27;, &#x27;Dragon&#x27;, &#x27;Herald&#x27;,\n",
       "                                                   &#x27;Kills&#x27;])])),\n",
       "                (&#x27;model&#x27;,\n",
       "                 LogisticRegression(C=0.1, max_iter=1000, random_state=14,\n",
       "                                    tol=1e-08))])</pre></div></div></div><div class=\"sk-serial\"><div class=\"sk-item sk-dashed-wrapped\"><div class=\"sk-label-container\"><div class=\"sk-label sk-toggleable\"><input class=\"sk-toggleable__control sk-hidden--visually\" id=\"sk-estimator-id-66\" type=\"checkbox\" ><label for=\"sk-estimator-id-66\" class=\"sk-toggleable__label sk-toggleable__label-arrow\">encoder: ColumnTransformer</label><div class=\"sk-toggleable__content\"><pre>ColumnTransformer(transformers=[(&#x27;category&#x27;,\n",
       "                                 OneHotEncoder(drop=&#x27;first&#x27;,\n",
       "                                               handle_unknown=&#x27;ignore&#x27;),\n",
       "                                 [&#x27;League&#x27;, &#x27;Year&#x27;, &#x27;Season&#x27;, &#x27;Type&#x27;,\n",
       "                                  &#x27;FirstBlood&#x27;, &#x27;FirstTower&#x27;, &#x27;TopChamp&#x27;,\n",
       "                                  &#x27;JungleChamp&#x27;, &#x27;MiddleChamp&#x27;, &#x27;ADCChamp&#x27;,\n",
       "                                  &#x27;SupportChamp&#x27;, &#x27;ban_1&#x27;, &#x27;ban_2&#x27;, &#x27;ban_3&#x27;,\n",
       "                                  &#x27;ban_4&#x27;, &#x27;ban_5&#x27;, &#x27;Team&#x27;]),\n",
       "                                (&#x27;numeric&#x27;, MinMaxScaler(),\n",
       "                                 [&#x27;gamelength&#x27;, &#x27;Towers&#x27;, &#x27;Inhib&#x27;, &#x27;Dragon&#x27;,\n",
       "                                  &#x27;Herald&#x27;, &#x27;Kills&#x27;])])</pre></div></div></div><div class=\"sk-parallel\"><div class=\"sk-parallel-item\"><div class=\"sk-item\"><div class=\"sk-label-container\"><div class=\"sk-label sk-toggleable\"><input class=\"sk-toggleable__control sk-hidden--visually\" id=\"sk-estimator-id-67\" type=\"checkbox\" ><label for=\"sk-estimator-id-67\" class=\"sk-toggleable__label sk-toggleable__label-arrow\">category</label><div class=\"sk-toggleable__content\"><pre>[&#x27;League&#x27;, &#x27;Year&#x27;, &#x27;Season&#x27;, &#x27;Type&#x27;, &#x27;FirstBlood&#x27;, &#x27;FirstTower&#x27;, &#x27;TopChamp&#x27;, &#x27;JungleChamp&#x27;, &#x27;MiddleChamp&#x27;, &#x27;ADCChamp&#x27;, &#x27;SupportChamp&#x27;, &#x27;ban_1&#x27;, &#x27;ban_2&#x27;, &#x27;ban_3&#x27;, &#x27;ban_4&#x27;, &#x27;ban_5&#x27;, &#x27;Team&#x27;]</pre></div></div></div><div class=\"sk-serial\"><div class=\"sk-item\"><div class=\"sk-estimator sk-toggleable\"><input class=\"sk-toggleable__control sk-hidden--visually\" id=\"sk-estimator-id-68\" type=\"checkbox\" ><label for=\"sk-estimator-id-68\" class=\"sk-toggleable__label sk-toggleable__label-arrow\">OneHotEncoder</label><div class=\"sk-toggleable__content\"><pre>OneHotEncoder(drop=&#x27;first&#x27;, handle_unknown=&#x27;ignore&#x27;)</pre></div></div></div></div></div></div><div class=\"sk-parallel-item\"><div class=\"sk-item\"><div class=\"sk-label-container\"><div class=\"sk-label sk-toggleable\"><input class=\"sk-toggleable__control sk-hidden--visually\" id=\"sk-estimator-id-69\" type=\"checkbox\" ><label for=\"sk-estimator-id-69\" class=\"sk-toggleable__label sk-toggleable__label-arrow\">numeric</label><div class=\"sk-toggleable__content\"><pre>[&#x27;gamelength&#x27;, &#x27;Towers&#x27;, &#x27;Inhib&#x27;, &#x27;Dragon&#x27;, &#x27;Herald&#x27;, &#x27;Kills&#x27;]</pre></div></div></div><div class=\"sk-serial\"><div class=\"sk-item\"><div class=\"sk-estimator sk-toggleable\"><input class=\"sk-toggleable__control sk-hidden--visually\" id=\"sk-estimator-id-70\" type=\"checkbox\" ><label for=\"sk-estimator-id-70\" class=\"sk-toggleable__label sk-toggleable__label-arrow\">MinMaxScaler</label><div class=\"sk-toggleable__content\"><pre>MinMaxScaler()</pre></div></div></div></div></div></div></div></div><div class=\"sk-item\"><div class=\"sk-estimator sk-toggleable\"><input class=\"sk-toggleable__control sk-hidden--visually\" id=\"sk-estimator-id-71\" type=\"checkbox\" ><label for=\"sk-estimator-id-71\" class=\"sk-toggleable__label sk-toggleable__label-arrow\">LogisticRegression</label><div class=\"sk-toggleable__content\"><pre>LogisticRegression(C=0.1, max_iter=1000, random_state=14, tol=1e-08)</pre></div></div></div></div></div></div></div>"
      ],
      "text/plain": [
       "Pipeline(steps=[('encoder',\n",
       "                 ColumnTransformer(transformers=[('category',\n",
       "                                                  OneHotEncoder(drop='first',\n",
       "                                                                handle_unknown='ignore'),\n",
       "                                                  ['League', 'Year', 'Season',\n",
       "                                                   'Type', 'FirstBlood',\n",
       "                                                   'FirstTower', 'TopChamp',\n",
       "                                                   'JungleChamp', 'MiddleChamp',\n",
       "                                                   'ADCChamp', 'SupportChamp',\n",
       "                                                   'ban_1', 'ban_2', 'ban_3',\n",
       "                                                   'ban_4', 'ban_5', 'Team']),\n",
       "                                                 ('numeric', MinMaxScaler(),\n",
       "                                                  ['gamelength', 'Towers',\n",
       "                                                   'Inhib', 'Dragon', 'Herald',\n",
       "                                                   'Kills'])])),\n",
       "                ('model',\n",
       "                 LogisticRegression(C=0.1, max_iter=1000, random_state=14,\n",
       "                                    tol=1e-08))])"
      ]
     },
     "execution_count": 76,
     "metadata": {},
     "output_type": "execute_result"
    }
   ],
   "source": [
    "pipe.fit(X_train, y_train)"
   ]
  },
  {
   "cell_type": "code",
   "execution_count": 77,
   "id": "92cf7f91",
   "metadata": {
    "tags": []
   },
   "outputs": [
    {
     "name": "stdout",
     "output_type": "stream",
     "text": [
      "Train accuracy 0.830\tTest accuracy 0.607\n"
     ]
    },
    {
     "name": "stderr",
     "output_type": "stream",
     "text": [
      "C:\\Users\\drago\\Anaconda3\\lib\\site-packages\\sklearn\\preprocessing\\_encoders.py:188: UserWarning: Found unknown categories in columns [6, 7, 8, 10, 11, 12, 13] during transform. These unknown categories will be encoded as all zeros\n",
      "  warnings.warn(\n"
     ]
    }
   ],
   "source": [
    "LR2_acc =util.print_accuracies(pipe, X_train, y_train, X_test, y_test)"
   ]
  },
  {
   "cell_type": "code",
   "execution_count": 78,
   "id": "6898d6ca",
   "metadata": {},
   "outputs": [
    {
     "name": "stderr",
     "output_type": "stream",
     "text": [
      "C:\\Users\\drago\\Anaconda3\\lib\\site-packages\\sklearn\\preprocessing\\_encoders.py:188: UserWarning: Found unknown categories in columns [6, 7, 9, 11, 12, 13] during transform. These unknown categories will be encoded as all zeros\n",
      "  warnings.warn(\n",
      "C:\\Users\\drago\\Anaconda3\\lib\\site-packages\\sklearn\\preprocessing\\_encoders.py:188: UserWarning: Found unknown categories in columns [6, 8, 12, 13] during transform. These unknown categories will be encoded as all zeros\n",
      "  warnings.warn(\n",
      "C:\\Users\\drago\\Anaconda3\\lib\\site-packages\\sklearn\\preprocessing\\_encoders.py:188: UserWarning: Found unknown categories in columns [6, 8, 9, 11, 12, 13] during transform. These unknown categories will be encoded as all zeros\n",
      "  warnings.warn(\n",
      "C:\\Users\\drago\\Anaconda3\\lib\\site-packages\\sklearn\\preprocessing\\_encoders.py:188: UserWarning: Found unknown categories in columns [6, 12, 13] during transform. These unknown categories will be encoded as all zeros\n",
      "  warnings.warn(\n",
      "C:\\Users\\drago\\Anaconda3\\lib\\site-packages\\sklearn\\preprocessing\\_encoders.py:188: UserWarning: Found unknown categories in columns [6, 10, 11, 13] during transform. These unknown categories will be encoded as all zeros\n",
      "  warnings.warn(\n",
      "C:\\Users\\drago\\Anaconda3\\lib\\site-packages\\sklearn\\preprocessing\\_encoders.py:188: UserWarning: Found unknown categories in columns [6, 7, 8, 13] during transform. These unknown categories will be encoded as all zeros\n",
      "  warnings.warn(\n",
      "C:\\Users\\drago\\Anaconda3\\lib\\site-packages\\sklearn\\preprocessing\\_encoders.py:188: UserWarning: Found unknown categories in columns [6, 7, 8, 12, 13] during transform. These unknown categories will be encoded as all zeros\n",
      "  warnings.warn(\n",
      "C:\\Users\\drago\\Anaconda3\\lib\\site-packages\\sklearn\\preprocessing\\_encoders.py:188: UserWarning: Found unknown categories in columns [6, 7, 8, 9, 10, 11, 13] during transform. These unknown categories will be encoded as all zeros\n",
      "  warnings.warn(\n"
     ]
    }
   ],
   "source": [
    "skf = StratifiedKFold(n_splits=8, shuffle=True, random_state=20220914)\n",
    "\n",
    "scores = cross_val_score(pipe, X_train, y_train, cv=skf)"
   ]
  },
  {
   "cell_type": "code",
   "execution_count": 79,
   "id": "768fa653",
   "metadata": {},
   "outputs": [
    {
     "data": {
      "image/png": "[encoded data removed]",
      "text/plain": [
       "<Figure size 432x288 with 1 Axes>"
      ]
     },
     "metadata": {
      "needs_background": "light"
     },
     "output_type": "display_data"
    }
   ],
   "source": [
    "LR2scores = scores\n",
    "LR_plot = sb.boxplot(data=scores, width=0.3)\n",
    "\n",
    "LR_plot.set_title('Logistics Regression Cross-Validation Scores')\n",
    "LR_plot.set_ylabel('Accuracy')\n",
    "plt.xticks([], [])\n",
    "\n",
    "plt.show()"
   ]
  },
  {
   "cell_type": "markdown",
   "id": "fdca629a",
   "metadata": {},
   "source": [
    "Feature Selection"
   ]
  },
  {
   "cell_type": "code",
   "execution_count": 80,
   "id": "58d6ef27",
   "metadata": {},
   "outputs": [],
   "source": [
    "X_train_xform = data_pipe.fit_transform(X_train)\n",
    "LR_model.fit(X_train_xform,y_train)\n",
    "rfe = RFE(estimator=LR_model, n_features_to_select=10, step=1)\n",
    "rfe.fit(X_train_xform, y_train)\n",
    "ranking = rfe.ranking_\n",
    "support = rfe.support_"
   ]
  },
  {
   "cell_type": "code",
   "execution_count": 81,
   "id": "965bd43d",
   "metadata": {},
   "outputs": [],
   "source": [
    "features_RFE = np.arange(0, X_train_xform.shape[1])[ranking==1]"
   ]
  },
  {
   "cell_type": "code",
   "execution_count": 82,
   "id": "65b6e775",
   "metadata": {},
   "outputs": [],
   "source": [
    "filter_RFE = ColumnTransformer([('rfe', 'passthrough', features_RFE)], remainder='drop')\n",
    "                               \n",
    "data_pipe_RFE = Pipeline(steps=[('columns', columns), ('select', filter_RFE)])"
   ]
  },
  {
   "cell_type": "code",
   "execution_count": 83,
   "id": "551ed585",
   "metadata": {},
   "outputs": [],
   "source": [
    "pipe = Pipeline(steps=[('data', data_pipe_RFE), ('model', LR_model)])"
   ]
  },
  {
   "cell_type": "code",
   "execution_count": 84,
   "id": "0e2f4e7b",
   "metadata": {},
   "outputs": [
    {
     "data": {
      "text/html": [
       "<style>#sk-container-id-9 {color: black;background-color: white;}#sk-container-id-9 pre{padding: 0;}#sk-container-id-9 div.sk-toggleable {background-color: white;}#sk-container-id-9 label.sk-toggleable__label {cursor: pointer;display: block;width: 100%;margin-bottom: 0;padding: 0.3em;box-sizing: border-box;text-align: center;}#sk-container-id-9 label.sk-toggleable__label-arrow:before {content: \"▸\";float: left;margin-right: 0.25em;color: #696969;}#sk-container-id-9 label.sk-toggleable__label-arrow:hover:before {color: black;}#sk-container-id-9 div.sk-estimator:hover label.sk-toggleable__label-arrow:before {color: black;}#sk-container-id-9 div.sk-toggleable__content {max-height: 0;max-width: 0;overflow: hidden;text-align: left;background-color: #f0f8ff;}#sk-container-id-9 div.sk-toggleable__content pre {margin: 0.2em;color: black;border-radius: 0.25em;background-color: #f0f8ff;}#sk-container-id-9 input.sk-toggleable__control:checked~div.sk-toggleable__content {max-height: 200px;max-width: 100%;overflow: auto;}#sk-container-id-9 input.sk-toggleable__control:checked~label.sk-toggleable__label-arrow:before {content: \"▾\";}#sk-container-id-9 div.sk-estimator input.sk-toggleable__control:checked~label.sk-toggleable__label {background-color: #d4ebff;}#sk-container-id-9 div.sk-label input.sk-toggleable__control:checked~label.sk-toggleable__label {background-color: #d4ebff;}#sk-container-id-9 input.sk-hidden--visually {border: 0;clip: rect(1px 1px 1px 1px);clip: rect(1px, 1px, 1px, 1px);height: 1px;margin: -1px;overflow: hidden;padding: 0;position: absolute;width: 1px;}#sk-container-id-9 div.sk-estimator {font-family: monospace;background-color: #f0f8ff;border: 1px dotted black;border-radius: 0.25em;box-sizing: border-box;margin-bottom: 0.5em;}#sk-container-id-9 div.sk-estimator:hover {background-color: #d4ebff;}#sk-container-id-9 div.sk-parallel-item::after {content: \"\";width: 100%;border-bottom: 1px solid gray;flex-grow: 1;}#sk-container-id-9 div.sk-label:hover label.sk-toggleable__label {background-color: #d4ebff;}#sk-container-id-9 div.sk-serial::before {content: \"\";position: absolute;border-left: 1px solid gray;box-sizing: border-box;top: 0;bottom: 0;left: 50%;z-index: 0;}#sk-container-id-9 div.sk-serial {display: flex;flex-direction: column;align-items: center;background-color: white;padding-right: 0.2em;padding-left: 0.2em;position: relative;}#sk-container-id-9 div.sk-item {position: relative;z-index: 1;}#sk-container-id-9 div.sk-parallel {display: flex;align-items: stretch;justify-content: center;background-color: white;position: relative;}#sk-container-id-9 div.sk-item::before, #sk-container-id-9 div.sk-parallel-item::before {content: \"\";position: absolute;border-left: 1px solid gray;box-sizing: border-box;top: 0;bottom: 0;left: 50%;z-index: -1;}#sk-container-id-9 div.sk-parallel-item {display: flex;flex-direction: column;z-index: 1;position: relative;background-color: white;}#sk-container-id-9 div.sk-parallel-item:first-child::after {align-self: flex-end;width: 50%;}#sk-container-id-9 div.sk-parallel-item:last-child::after {align-self: flex-start;width: 50%;}#sk-container-id-9 div.sk-parallel-item:only-child::after {width: 0;}#sk-container-id-9 div.sk-dashed-wrapped {border: 1px dashed gray;margin: 0 0.4em 0.5em 0.4em;box-sizing: border-box;padding-bottom: 0.4em;background-color: white;}#sk-container-id-9 div.sk-label label {font-family: monospace;font-weight: bold;display: inline-block;line-height: 1.2em;}#sk-container-id-9 div.sk-label-container {text-align: center;}#sk-container-id-9 div.sk-container {/* jupyter's `normalize.less` sets `[hidden] { display: none; }` but bootstrap.min.css set `[hidden] { display: none !important; }` so we also need the `!important` here to be able to override the default hidden behavior on the sphinx rendered scikit-learn.org. See: https://github.com/scikit-learn/scikit-learn/issues/21755 */display: inline-block !important;position: relative;}#sk-container-id-9 div.sk-text-repr-fallback {display: none;}</style><div id=\"sk-container-id-9\" class=\"sk-top-container\"><div class=\"sk-text-repr-fallback\"><pre>Pipeline(steps=[(&#x27;data&#x27;,\n",
       "                 Pipeline(steps=[(&#x27;columns&#x27;,\n",
       "                                  ColumnTransformer(transformers=[(&#x27;category&#x27;,\n",
       "                                                                   OneHotEncoder(drop=&#x27;first&#x27;,\n",
       "                                                                                 handle_unknown=&#x27;ignore&#x27;),\n",
       "                                                                   [&#x27;League&#x27;,\n",
       "                                                                    &#x27;Year&#x27;,\n",
       "                                                                    &#x27;Season&#x27;,\n",
       "                                                                    &#x27;Type&#x27;,\n",
       "                                                                    &#x27;FirstBlood&#x27;,\n",
       "                                                                    &#x27;FirstTower&#x27;,\n",
       "                                                                    &#x27;TopChamp&#x27;,\n",
       "                                                                    &#x27;JungleChamp&#x27;,\n",
       "                                                                    &#x27;MiddleChamp&#x27;,\n",
       "                                                                    &#x27;ADCChamp&#x27;,\n",
       "                                                                    &#x27;SupportChamp&#x27;,\n",
       "                                                                    &#x27;ban_1&#x27;,\n",
       "                                                                    &#x27;ban_2&#x27;,\n",
       "                                                                    &#x27;ban_3&#x27;,\n",
       "                                                                    &#x27;ban_4&#x27;,\n",
       "                                                                    &#x27;ban_5&#x27;,\n",
       "                                                                    &#x27;Team&#x27;]),\n",
       "                                                                  (&#x27;numeric&#x27;,\n",
       "                                                                   MinMaxScaler(),\n",
       "                                                                   [&#x27;gamelength&#x27;,\n",
       "                                                                    &#x27;Towers&#x27;,\n",
       "                                                                    &#x27;Inhib&#x27;,\n",
       "                                                                    &#x27;Dragon&#x27;,\n",
       "                                                                    &#x27;Herald&#x27;,\n",
       "                                                                    &#x27;Kills&#x27;])])),\n",
       "                                 (&#x27;select&#x27;,\n",
       "                                  ColumnTransformer(transformers=[(&#x27;rfe&#x27;,\n",
       "                                                                   &#x27;passthrough&#x27;,\n",
       "                                                                   array([  0,   4,  14,  15,  18,  35,  46,  47, 101, 106]))]))])),\n",
       "                (&#x27;model&#x27;,\n",
       "                 LogisticRegression(C=0.1, max_iter=1000, random_state=14,\n",
       "                                    tol=1e-08))])</pre><b>In a Jupyter environment, please rerun this cell to show the HTML representation or trust the notebook. <br />On GitHub, the HTML representation is unable to render, please try loading this page with nbviewer.org.</b></div><div class=\"sk-container\" hidden><div class=\"sk-item sk-dashed-wrapped\"><div class=\"sk-label-container\"><div class=\"sk-label sk-toggleable\"><input class=\"sk-toggleable__control sk-hidden--visually\" id=\"sk-estimator-id-72\" type=\"checkbox\" ><label for=\"sk-estimator-id-72\" class=\"sk-toggleable__label sk-toggleable__label-arrow\">Pipeline</label><div class=\"sk-toggleable__content\"><pre>Pipeline(steps=[(&#x27;data&#x27;,\n",
       "                 Pipeline(steps=[(&#x27;columns&#x27;,\n",
       "                                  ColumnTransformer(transformers=[(&#x27;category&#x27;,\n",
       "                                                                   OneHotEncoder(drop=&#x27;first&#x27;,\n",
       "                                                                                 handle_unknown=&#x27;ignore&#x27;),\n",
       "                                                                   [&#x27;League&#x27;,\n",
       "                                                                    &#x27;Year&#x27;,\n",
       "                                                                    &#x27;Season&#x27;,\n",
       "                                                                    &#x27;Type&#x27;,\n",
       "                                                                    &#x27;FirstBlood&#x27;,\n",
       "                                                                    &#x27;FirstTower&#x27;,\n",
       "                                                                    &#x27;TopChamp&#x27;,\n",
       "                                                                    &#x27;JungleChamp&#x27;,\n",
       "                                                                    &#x27;MiddleChamp&#x27;,\n",
       "                                                                    &#x27;ADCChamp&#x27;,\n",
       "                                                                    &#x27;SupportChamp&#x27;,\n",
       "                                                                    &#x27;ban_1&#x27;,\n",
       "                                                                    &#x27;ban_2&#x27;,\n",
       "                                                                    &#x27;ban_3&#x27;,\n",
       "                                                                    &#x27;ban_4&#x27;,\n",
       "                                                                    &#x27;ban_5&#x27;,\n",
       "                                                                    &#x27;Team&#x27;]),\n",
       "                                                                  (&#x27;numeric&#x27;,\n",
       "                                                                   MinMaxScaler(),\n",
       "                                                                   [&#x27;gamelength&#x27;,\n",
       "                                                                    &#x27;Towers&#x27;,\n",
       "                                                                    &#x27;Inhib&#x27;,\n",
       "                                                                    &#x27;Dragon&#x27;,\n",
       "                                                                    &#x27;Herald&#x27;,\n",
       "                                                                    &#x27;Kills&#x27;])])),\n",
       "                                 (&#x27;select&#x27;,\n",
       "                                  ColumnTransformer(transformers=[(&#x27;rfe&#x27;,\n",
       "                                                                   &#x27;passthrough&#x27;,\n",
       "                                                                   array([  0,   4,  14,  15,  18,  35,  46,  47, 101, 106]))]))])),\n",
       "                (&#x27;model&#x27;,\n",
       "                 LogisticRegression(C=0.1, max_iter=1000, random_state=14,\n",
       "                                    tol=1e-08))])</pre></div></div></div><div class=\"sk-serial\"><div class=\"sk-item\"><div class=\"sk-label-container\"><div class=\"sk-label sk-toggleable\"><input class=\"sk-toggleable__control sk-hidden--visually\" id=\"sk-estimator-id-73\" type=\"checkbox\" ><label for=\"sk-estimator-id-73\" class=\"sk-toggleable__label sk-toggleable__label-arrow\">data: Pipeline</label><div class=\"sk-toggleable__content\"><pre>Pipeline(steps=[(&#x27;columns&#x27;,\n",
       "                 ColumnTransformer(transformers=[(&#x27;category&#x27;,\n",
       "                                                  OneHotEncoder(drop=&#x27;first&#x27;,\n",
       "                                                                handle_unknown=&#x27;ignore&#x27;),\n",
       "                                                  [&#x27;League&#x27;, &#x27;Year&#x27;, &#x27;Season&#x27;,\n",
       "                                                   &#x27;Type&#x27;, &#x27;FirstBlood&#x27;,\n",
       "                                                   &#x27;FirstTower&#x27;, &#x27;TopChamp&#x27;,\n",
       "                                                   &#x27;JungleChamp&#x27;, &#x27;MiddleChamp&#x27;,\n",
       "                                                   &#x27;ADCChamp&#x27;, &#x27;SupportChamp&#x27;,\n",
       "                                                   &#x27;ban_1&#x27;, &#x27;ban_2&#x27;, &#x27;ban_3&#x27;,\n",
       "                                                   &#x27;ban_4&#x27;, &#x27;ban_5&#x27;, &#x27;Team&#x27;]),\n",
       "                                                 (&#x27;numeric&#x27;, MinMaxScaler(),\n",
       "                                                  [&#x27;gamelength&#x27;, &#x27;Towers&#x27;,\n",
       "                                                   &#x27;Inhib&#x27;, &#x27;Dragon&#x27;, &#x27;Herald&#x27;,\n",
       "                                                   &#x27;Kills&#x27;])])),\n",
       "                (&#x27;select&#x27;,\n",
       "                 ColumnTransformer(transformers=[(&#x27;rfe&#x27;, &#x27;passthrough&#x27;,\n",
       "                                                  array([  0,   4,  14,  15,  18,  35,  46,  47, 101, 106]))]))])</pre></div></div></div><div class=\"sk-serial\"><div class=\"sk-item sk-dashed-wrapped\"><div class=\"sk-label-container\"><div class=\"sk-label sk-toggleable\"><input class=\"sk-toggleable__control sk-hidden--visually\" id=\"sk-estimator-id-74\" type=\"checkbox\" ><label for=\"sk-estimator-id-74\" class=\"sk-toggleable__label sk-toggleable__label-arrow\">columns: ColumnTransformer</label><div class=\"sk-toggleable__content\"><pre>ColumnTransformer(transformers=[(&#x27;category&#x27;,\n",
       "                                 OneHotEncoder(drop=&#x27;first&#x27;,\n",
       "                                               handle_unknown=&#x27;ignore&#x27;),\n",
       "                                 [&#x27;League&#x27;, &#x27;Year&#x27;, &#x27;Season&#x27;, &#x27;Type&#x27;,\n",
       "                                  &#x27;FirstBlood&#x27;, &#x27;FirstTower&#x27;, &#x27;TopChamp&#x27;,\n",
       "                                  &#x27;JungleChamp&#x27;, &#x27;MiddleChamp&#x27;, &#x27;ADCChamp&#x27;,\n",
       "                                  &#x27;SupportChamp&#x27;, &#x27;ban_1&#x27;, &#x27;ban_2&#x27;, &#x27;ban_3&#x27;,\n",
       "                                  &#x27;ban_4&#x27;, &#x27;ban_5&#x27;, &#x27;Team&#x27;]),\n",
       "                                (&#x27;numeric&#x27;, MinMaxScaler(),\n",
       "                                 [&#x27;gamelength&#x27;, &#x27;Towers&#x27;, &#x27;Inhib&#x27;, &#x27;Dragon&#x27;,\n",
       "                                  &#x27;Herald&#x27;, &#x27;Kills&#x27;])])</pre></div></div></div><div class=\"sk-parallel\"><div class=\"sk-parallel-item\"><div class=\"sk-item\"><div class=\"sk-label-container\"><div class=\"sk-label sk-toggleable\"><input class=\"sk-toggleable__control sk-hidden--visually\" id=\"sk-estimator-id-75\" type=\"checkbox\" ><label for=\"sk-estimator-id-75\" class=\"sk-toggleable__label sk-toggleable__label-arrow\">category</label><div class=\"sk-toggleable__content\"><pre>[&#x27;League&#x27;, &#x27;Year&#x27;, &#x27;Season&#x27;, &#x27;Type&#x27;, &#x27;FirstBlood&#x27;, &#x27;FirstTower&#x27;, &#x27;TopChamp&#x27;, &#x27;JungleChamp&#x27;, &#x27;MiddleChamp&#x27;, &#x27;ADCChamp&#x27;, &#x27;SupportChamp&#x27;, &#x27;ban_1&#x27;, &#x27;ban_2&#x27;, &#x27;ban_3&#x27;, &#x27;ban_4&#x27;, &#x27;ban_5&#x27;, &#x27;Team&#x27;]</pre></div></div></div><div class=\"sk-serial\"><div class=\"sk-item\"><div class=\"sk-estimator sk-toggleable\"><input class=\"sk-toggleable__control sk-hidden--visually\" id=\"sk-estimator-id-76\" type=\"checkbox\" ><label for=\"sk-estimator-id-76\" class=\"sk-toggleable__label sk-toggleable__label-arrow\">OneHotEncoder</label><div class=\"sk-toggleable__content\"><pre>OneHotEncoder(drop=&#x27;first&#x27;, handle_unknown=&#x27;ignore&#x27;)</pre></div></div></div></div></div></div><div class=\"sk-parallel-item\"><div class=\"sk-item\"><div class=\"sk-label-container\"><div class=\"sk-label sk-toggleable\"><input class=\"sk-toggleable__control sk-hidden--visually\" id=\"sk-estimator-id-77\" type=\"checkbox\" ><label for=\"sk-estimator-id-77\" class=\"sk-toggleable__label sk-toggleable__label-arrow\">numeric</label><div class=\"sk-toggleable__content\"><pre>[&#x27;gamelength&#x27;, &#x27;Towers&#x27;, &#x27;Inhib&#x27;, &#x27;Dragon&#x27;, &#x27;Herald&#x27;, &#x27;Kills&#x27;]</pre></div></div></div><div class=\"sk-serial\"><div class=\"sk-item\"><div class=\"sk-estimator sk-toggleable\"><input class=\"sk-toggleable__control sk-hidden--visually\" id=\"sk-estimator-id-78\" type=\"checkbox\" ><label for=\"sk-estimator-id-78\" class=\"sk-toggleable__label sk-toggleable__label-arrow\">MinMaxScaler</label><div class=\"sk-toggleable__content\"><pre>MinMaxScaler()</pre></div></div></div></div></div></div></div></div><div class=\"sk-item sk-dashed-wrapped\"><div class=\"sk-label-container\"><div class=\"sk-label sk-toggleable\"><input class=\"sk-toggleable__control sk-hidden--visually\" id=\"sk-estimator-id-79\" type=\"checkbox\" ><label for=\"sk-estimator-id-79\" class=\"sk-toggleable__label sk-toggleable__label-arrow\">select: ColumnTransformer</label><div class=\"sk-toggleable__content\"><pre>ColumnTransformer(transformers=[(&#x27;rfe&#x27;, &#x27;passthrough&#x27;,\n",
       "                                 array([  0,   4,  14,  15,  18,  35,  46,  47, 101, 106]))])</pre></div></div></div><div class=\"sk-parallel\"><div class=\"sk-parallel-item\"><div class=\"sk-item\"><div class=\"sk-label-container\"><div class=\"sk-label sk-toggleable\"><input class=\"sk-toggleable__control sk-hidden--visually\" id=\"sk-estimator-id-80\" type=\"checkbox\" ><label for=\"sk-estimator-id-80\" class=\"sk-toggleable__label sk-toggleable__label-arrow\">rfe</label><div class=\"sk-toggleable__content\"><pre>[  0   4  14  15  18  35  46  47 101 106]</pre></div></div></div><div class=\"sk-serial\"><div class=\"sk-item\"><div class=\"sk-estimator sk-toggleable\"><input class=\"sk-toggleable__control sk-hidden--visually\" id=\"sk-estimator-id-81\" type=\"checkbox\" ><label for=\"sk-estimator-id-81\" class=\"sk-toggleable__label sk-toggleable__label-arrow\">passthrough</label><div class=\"sk-toggleable__content\"><pre>passthrough</pre></div></div></div></div></div></div></div></div></div></div><div class=\"sk-item\"><div class=\"sk-estimator sk-toggleable\"><input class=\"sk-toggleable__control sk-hidden--visually\" id=\"sk-estimator-id-82\" type=\"checkbox\" ><label for=\"sk-estimator-id-82\" class=\"sk-toggleable__label sk-toggleable__label-arrow\">LogisticRegression</label><div class=\"sk-toggleable__content\"><pre>LogisticRegression(C=0.1, max_iter=1000, random_state=14, tol=1e-08)</pre></div></div></div></div></div></div></div>"
      ],
      "text/plain": [
       "Pipeline(steps=[('data',\n",
       "                 Pipeline(steps=[('columns',\n",
       "                                  ColumnTransformer(transformers=[('category',\n",
       "                                                                   OneHotEncoder(drop='first',\n",
       "                                                                                 handle_unknown='ignore'),\n",
       "                                                                   ['League',\n",
       "                                                                    'Year',\n",
       "                                                                    'Season',\n",
       "                                                                    'Type',\n",
       "                                                                    'FirstBlood',\n",
       "                                                                    'FirstTower',\n",
       "                                                                    'TopChamp',\n",
       "                                                                    'JungleChamp',\n",
       "                                                                    'MiddleChamp',\n",
       "                                                                    'ADCChamp',\n",
       "                                                                    'SupportChamp',\n",
       "                                                                    'ban_1',\n",
       "                                                                    'ban_2',\n",
       "                                                                    'ban_3',\n",
       "                                                                    'ban_4',\n",
       "                                                                    'ban_5',\n",
       "                                                                    'Team']),\n",
       "                                                                  ('numeric',\n",
       "                                                                   MinMaxScaler(),\n",
       "                                                                   ['gamelength',\n",
       "                                                                    'Towers',\n",
       "                                                                    'Inhib',\n",
       "                                                                    'Dragon',\n",
       "                                                                    'Herald',\n",
       "                                                                    'Kills'])])),\n",
       "                                 ('select',\n",
       "                                  ColumnTransformer(transformers=[('rfe',\n",
       "                                                                   'passthrough',\n",
       "                                                                   array([  0,   4,  14,  15,  18,  35,  46,  47, 101, 106]))]))])),\n",
       "                ('model',\n",
       "                 LogisticRegression(C=0.1, max_iter=1000, random_state=14,\n",
       "                                    tol=1e-08))])"
      ]
     },
     "execution_count": 84,
     "metadata": {},
     "output_type": "execute_result"
    }
   ],
   "source": [
    "pipe.fit(X_train,y_train)"
   ]
  },
  {
   "cell_type": "code",
   "execution_count": 85,
   "id": "ecd064b3",
   "metadata": {
    "scrolled": true
   },
   "outputs": [
    {
     "name": "stdout",
     "output_type": "stream",
     "text": [
      "Train accuracy 0.768\tTest accuracy 0.661\n"
     ]
    },
    {
     "name": "stderr",
     "output_type": "stream",
     "text": [
      "C:\\Users\\drago\\Anaconda3\\lib\\site-packages\\sklearn\\preprocessing\\_encoders.py:188: UserWarning: Found unknown categories in columns [6, 7, 8, 10, 11, 12, 13] during transform. These unknown categories will be encoded as all zeros\n",
      "  warnings.warn(\n"
     ]
    }
   ],
   "source": [
    "LR2_acc_sel =util.print_accuracies(pipe, X_train, y_train, X_test, y_test)"
   ]
  },
  {
   "cell_type": "code",
   "execution_count": 86,
   "id": "10441286",
   "metadata": {},
   "outputs": [
    {
     "data": {
      "text/plain": [
       "array(['category__League_EULCS', 'category__League_LJL',\n",
       "       'category__FirstBlood_Red', 'category__FirstTower_Red',\n",
       "       'category__TopChamp_Fiora', 'category__TopChamp_Poppy',\n",
       "       'category__JungleChamp_Elise', 'category__JungleChamp_Gragas',\n",
       "       'category__ADCChamp_Sivir', 'category__SupportChamp_Janna'],\n",
       "      dtype=object)"
      ]
     },
     "execution_count": 86,
     "metadata": {},
     "output_type": "execute_result"
    }
   ],
   "source": [
    "data_pipe[0].get_feature_names_out()[ranking==1]"
   ]
  },
  {
   "cell_type": "code",
   "execution_count": 87,
   "id": "54513df9",
   "metadata": {},
   "outputs": [],
   "source": [
    "features = pd.concat([features, pd.DataFrame([\n",
    "    'League','League','FirstBlood','FirstTower','TopChamp',\n",
    "    'TopChamp','JungleChamp','JungleChamp','ADCChamp','SupportChamp',\n",
    "], columns = ['LR2'])],axis=1)"
   ]
  },
  {
   "cell_type": "markdown",
   "id": "1d907e1c",
   "metadata": {
    "tags": []
   },
   "source": [
    "# SVM"
   ]
  },
  {
   "cell_type": "code",
   "execution_count": 88,
   "id": "fd56e3ba",
   "metadata": {
    "tags": []
   },
   "outputs": [],
   "source": [
    "SGD_model = SGDClassifier(loss='log_loss', penalty='L2', max_iter=1000, random_state=20220905, tol=1.0e-03)"
   ]
  },
  {
   "cell_type": "code",
   "execution_count": 89,
   "id": "2331b796",
   "metadata": {},
   "outputs": [],
   "source": [
    "pipe2 = Pipeline(steps=[('encoder', columns), ('model', SGD_model)])"
   ]
  },
  {
   "cell_type": "code",
   "execution_count": 90,
   "id": "0f6c3f9d",
   "metadata": {
    "tags": []
   },
   "outputs": [],
   "source": [
    "param_grid = {\n",
    "    'model__penalty': ['l2', 'l1'],\n",
    "    'model__alpha': np.logspace(-4, 0, 5)\n",
    "}\n",
    "\n",
    "grid_search = GridSearchCV(pipe2, param_grid=param_grid)"
   ]
  },
  {
   "cell_type": "code",
   "execution_count": 91,
   "id": "e3049ef8",
   "metadata": {
    "tags": []
   },
   "outputs": [
    {
     "name": "stderr",
     "output_type": "stream",
     "text": [
      "C:\\Users\\drago\\Anaconda3\\lib\\site-packages\\sklearn\\preprocessing\\_encoders.py:188: UserWarning: Found unknown categories in columns [6, 7, 8, 9, 11, 12, 13] during transform. These unknown categories will be encoded as all zeros\n",
      "  warnings.warn(\n",
      "C:\\Users\\drago\\Anaconda3\\lib\\site-packages\\sklearn\\preprocessing\\_encoders.py:188: UserWarning: Found unknown categories in columns [6, 8, 9, 10, 11, 12, 13] during transform. These unknown categories will be encoded as all zeros\n",
      "  warnings.warn(\n",
      "C:\\Users\\drago\\Anaconda3\\lib\\site-packages\\sklearn\\preprocessing\\_encoders.py:188: UserWarning: Found unknown categories in columns [8, 11, 12, 13] during transform. These unknown categories will be encoded as all zeros\n",
      "  warnings.warn(\n",
      "C:\\Users\\drago\\Anaconda3\\lib\\site-packages\\sklearn\\preprocessing\\_encoders.py:188: UserWarning: Found unknown categories in columns [6, 7, 8, 9, 10, 11, 12, 13] during transform. These unknown categories will be encoded as all zeros\n",
      "  warnings.warn(\n",
      "C:\\Users\\drago\\Anaconda3\\lib\\site-packages\\sklearn\\preprocessing\\_encoders.py:188: UserWarning: Found unknown categories in columns [6, 7, 10, 11, 13] during transform. These unknown categories will be encoded as all zeros\n",
      "  warnings.warn(\n",
      "C:\\Users\\drago\\Anaconda3\\lib\\site-packages\\sklearn\\preprocessing\\_encoders.py:188: UserWarning: Found unknown categories in columns [6, 7, 8, 9, 11, 12, 13] during transform. These unknown categories will be encoded as all zeros\n",
      "  warnings.warn(\n",
      "C:\\Users\\drago\\Anaconda3\\lib\\site-packages\\sklearn\\preprocessing\\_encoders.py:188: UserWarning: Found unknown categories in columns [6, 8, 9, 10, 11, 12, 13] during transform. These unknown categories will be encoded as all zeros\n",
      "  warnings.warn(\n",
      "C:\\Users\\drago\\Anaconda3\\lib\\site-packages\\sklearn\\preprocessing\\_encoders.py:188: UserWarning: Found unknown categories in columns [8, 11, 12, 13] during transform. These unknown categories will be encoded as all zeros\n",
      "  warnings.warn(\n",
      "C:\\Users\\drago\\Anaconda3\\lib\\site-packages\\sklearn\\preprocessing\\_encoders.py:188: UserWarning: Found unknown categories in columns [6, 7, 8, 9, 10, 11, 12, 13] during transform. These unknown categories will be encoded as all zeros\n",
      "  warnings.warn(\n",
      "C:\\Users\\drago\\Anaconda3\\lib\\site-packages\\sklearn\\preprocessing\\_encoders.py:188: UserWarning: Found unknown categories in columns [6, 7, 10, 11, 13] during transform. These unknown categories will be encoded as all zeros\n",
      "  warnings.warn(\n",
      "C:\\Users\\drago\\Anaconda3\\lib\\site-packages\\sklearn\\preprocessing\\_encoders.py:188: UserWarning: Found unknown categories in columns [6, 7, 8, 9, 11, 12, 13] during transform. These unknown categories will be encoded as all zeros\n",
      "  warnings.warn(\n",
      "C:\\Users\\drago\\Anaconda3\\lib\\site-packages\\sklearn\\preprocessing\\_encoders.py:188: UserWarning: Found unknown categories in columns [6, 8, 9, 10, 11, 12, 13] during transform. These unknown categories will be encoded as all zeros\n",
      "  warnings.warn(\n",
      "C:\\Users\\drago\\Anaconda3\\lib\\site-packages\\sklearn\\preprocessing\\_encoders.py:188: UserWarning: Found unknown categories in columns [8, 11, 12, 13] during transform. These unknown categories will be encoded as all zeros\n",
      "  warnings.warn(\n",
      "C:\\Users\\drago\\Anaconda3\\lib\\site-packages\\sklearn\\preprocessing\\_encoders.py:188: UserWarning: Found unknown categories in columns [6, 7, 8, 9, 10, 11, 12, 13] during transform. These unknown categories will be encoded as all zeros\n",
      "  warnings.warn(\n",
      "C:\\Users\\drago\\Anaconda3\\lib\\site-packages\\sklearn\\preprocessing\\_encoders.py:188: UserWarning: Found unknown categories in columns [6, 7, 10, 11, 13] during transform. These unknown categories will be encoded as all zeros\n",
      "  warnings.warn(\n",
      "C:\\Users\\drago\\Anaconda3\\lib\\site-packages\\sklearn\\preprocessing\\_encoders.py:188: UserWarning: Found unknown categories in columns [6, 7, 8, 9, 11, 12, 13] during transform. These unknown categories will be encoded as all zeros\n",
      "  warnings.warn(\n",
      "C:\\Users\\drago\\Anaconda3\\lib\\site-packages\\sklearn\\preprocessing\\_encoders.py:188: UserWarning: Found unknown categories in columns [6, 8, 9, 10, 11, 12, 13] during transform. These unknown categories will be encoded as all zeros\n",
      "  warnings.warn(\n",
      "C:\\Users\\drago\\Anaconda3\\lib\\site-packages\\sklearn\\preprocessing\\_encoders.py:188: UserWarning: Found unknown categories in columns [8, 11, 12, 13] during transform. These unknown categories will be encoded as all zeros\n",
      "  warnings.warn(\n",
      "C:\\Users\\drago\\Anaconda3\\lib\\site-packages\\sklearn\\preprocessing\\_encoders.py:188: UserWarning: Found unknown categories in columns [6, 7, 8, 9, 10, 11, 12, 13] during transform. These unknown categories will be encoded as all zeros\n",
      "  warnings.warn(\n",
      "C:\\Users\\drago\\Anaconda3\\lib\\site-packages\\sklearn\\preprocessing\\_encoders.py:188: UserWarning: Found unknown categories in columns [6, 7, 10, 11, 13] during transform. These unknown categories will be encoded as all zeros\n",
      "  warnings.warn(\n",
      "C:\\Users\\drago\\Anaconda3\\lib\\site-packages\\sklearn\\preprocessing\\_encoders.py:188: UserWarning: Found unknown categories in columns [6, 7, 8, 9, 11, 12, 13] during transform. These unknown categories will be encoded as all zeros\n",
      "  warnings.warn(\n",
      "C:\\Users\\drago\\Anaconda3\\lib\\site-packages\\sklearn\\preprocessing\\_encoders.py:188: UserWarning: Found unknown categories in columns [6, 8, 9, 10, 11, 12, 13] during transform. These unknown categories will be encoded as all zeros\n",
      "  warnings.warn(\n",
      "C:\\Users\\drago\\Anaconda3\\lib\\site-packages\\sklearn\\preprocessing\\_encoders.py:188: UserWarning: Found unknown categories in columns [8, 11, 12, 13] during transform. These unknown categories will be encoded as all zeros\n",
      "  warnings.warn(\n",
      "C:\\Users\\drago\\Anaconda3\\lib\\site-packages\\sklearn\\preprocessing\\_encoders.py:188: UserWarning: Found unknown categories in columns [6, 7, 8, 9, 10, 11, 12, 13] during transform. These unknown categories will be encoded as all zeros\n",
      "  warnings.warn(\n",
      "C:\\Users\\drago\\Anaconda3\\lib\\site-packages\\sklearn\\preprocessing\\_encoders.py:188: UserWarning: Found unknown categories in columns [6, 7, 10, 11, 13] during transform. These unknown categories will be encoded as all zeros\n",
      "  warnings.warn(\n",
      "C:\\Users\\drago\\Anaconda3\\lib\\site-packages\\sklearn\\preprocessing\\_encoders.py:188: UserWarning: Found unknown categories in columns [6, 7, 8, 9, 11, 12, 13] during transform. These unknown categories will be encoded as all zeros\n",
      "  warnings.warn(\n",
      "C:\\Users\\drago\\Anaconda3\\lib\\site-packages\\sklearn\\preprocessing\\_encoders.py:188: UserWarning: Found unknown categories in columns [6, 8, 9, 10, 11, 12, 13] during transform. These unknown categories will be encoded as all zeros\n",
      "  warnings.warn(\n",
      "C:\\Users\\drago\\Anaconda3\\lib\\site-packages\\sklearn\\preprocessing\\_encoders.py:188: UserWarning: Found unknown categories in columns [8, 11, 12, 13] during transform. These unknown categories will be encoded as all zeros\n",
      "  warnings.warn(\n",
      "C:\\Users\\drago\\Anaconda3\\lib\\site-packages\\sklearn\\preprocessing\\_encoders.py:188: UserWarning: Found unknown categories in columns [6, 7, 8, 9, 10, 11, 12, 13] during transform. These unknown categories will be encoded as all zeros\n",
      "  warnings.warn(\n",
      "C:\\Users\\drago\\Anaconda3\\lib\\site-packages\\sklearn\\preprocessing\\_encoders.py:188: UserWarning: Found unknown categories in columns [6, 7, 10, 11, 13] during transform. These unknown categories will be encoded as all zeros\n",
      "  warnings.warn(\n",
      "C:\\Users\\drago\\Anaconda3\\lib\\site-packages\\sklearn\\preprocessing\\_encoders.py:188: UserWarning: Found unknown categories in columns [6, 7, 8, 9, 11, 12, 13] during transform. These unknown categories will be encoded as all zeros\n",
      "  warnings.warn(\n",
      "C:\\Users\\drago\\Anaconda3\\lib\\site-packages\\sklearn\\preprocessing\\_encoders.py:188: UserWarning: Found unknown categories in columns [6, 8, 9, 10, 11, 12, 13] during transform. These unknown categories will be encoded as all zeros\n",
      "  warnings.warn(\n",
      "C:\\Users\\drago\\Anaconda3\\lib\\site-packages\\sklearn\\preprocessing\\_encoders.py:188: UserWarning: Found unknown categories in columns [8, 11, 12, 13] during transform. These unknown categories will be encoded as all zeros\n",
      "  warnings.warn(\n",
      "C:\\Users\\drago\\Anaconda3\\lib\\site-packages\\sklearn\\preprocessing\\_encoders.py:188: UserWarning: Found unknown categories in columns [6, 7, 8, 9, 10, 11, 12, 13] during transform. These unknown categories will be encoded as all zeros\n",
      "  warnings.warn(\n",
      "C:\\Users\\drago\\Anaconda3\\lib\\site-packages\\sklearn\\preprocessing\\_encoders.py:188: UserWarning: Found unknown categories in columns [6, 7, 10, 11, 13] during transform. These unknown categories will be encoded as all zeros\n",
      "  warnings.warn(\n",
      "C:\\Users\\drago\\Anaconda3\\lib\\site-packages\\sklearn\\preprocessing\\_encoders.py:188: UserWarning: Found unknown categories in columns [6, 7, 8, 9, 11, 12, 13] during transform. These unknown categories will be encoded as all zeros\n",
      "  warnings.warn(\n"
     ]
    },
    {
     "name": "stderr",
     "output_type": "stream",
     "text": [
      "C:\\Users\\drago\\Anaconda3\\lib\\site-packages\\sklearn\\preprocessing\\_encoders.py:188: UserWarning: Found unknown categories in columns [6, 8, 9, 10, 11, 12, 13] during transform. These unknown categories will be encoded as all zeros\n",
      "  warnings.warn(\n",
      "C:\\Users\\drago\\Anaconda3\\lib\\site-packages\\sklearn\\preprocessing\\_encoders.py:188: UserWarning: Found unknown categories in columns [8, 11, 12, 13] during transform. These unknown categories will be encoded as all zeros\n",
      "  warnings.warn(\n",
      "C:\\Users\\drago\\Anaconda3\\lib\\site-packages\\sklearn\\preprocessing\\_encoders.py:188: UserWarning: Found unknown categories in columns [6, 7, 8, 9, 10, 11, 12, 13] during transform. These unknown categories will be encoded as all zeros\n",
      "  warnings.warn(\n",
      "C:\\Users\\drago\\Anaconda3\\lib\\site-packages\\sklearn\\preprocessing\\_encoders.py:188: UserWarning: Found unknown categories in columns [6, 7, 10, 11, 13] during transform. These unknown categories will be encoded as all zeros\n",
      "  warnings.warn(\n",
      "C:\\Users\\drago\\Anaconda3\\lib\\site-packages\\sklearn\\preprocessing\\_encoders.py:188: UserWarning: Found unknown categories in columns [6, 7, 8, 9, 11, 12, 13] during transform. These unknown categories will be encoded as all zeros\n",
      "  warnings.warn(\n",
      "C:\\Users\\drago\\Anaconda3\\lib\\site-packages\\sklearn\\preprocessing\\_encoders.py:188: UserWarning: Found unknown categories in columns [6, 8, 9, 10, 11, 12, 13] during transform. These unknown categories will be encoded as all zeros\n",
      "  warnings.warn(\n",
      "C:\\Users\\drago\\Anaconda3\\lib\\site-packages\\sklearn\\preprocessing\\_encoders.py:188: UserWarning: Found unknown categories in columns [8, 11, 12, 13] during transform. These unknown categories will be encoded as all zeros\n",
      "  warnings.warn(\n",
      "C:\\Users\\drago\\Anaconda3\\lib\\site-packages\\sklearn\\preprocessing\\_encoders.py:188: UserWarning: Found unknown categories in columns [6, 7, 8, 9, 10, 11, 12, 13] during transform. These unknown categories will be encoded as all zeros\n",
      "  warnings.warn(\n",
      "C:\\Users\\drago\\Anaconda3\\lib\\site-packages\\sklearn\\preprocessing\\_encoders.py:188: UserWarning: Found unknown categories in columns [6, 7, 10, 11, 13] during transform. These unknown categories will be encoded as all zeros\n",
      "  warnings.warn(\n",
      "C:\\Users\\drago\\Anaconda3\\lib\\site-packages\\sklearn\\preprocessing\\_encoders.py:188: UserWarning: Found unknown categories in columns [6, 7, 8, 9, 11, 12, 13] during transform. These unknown categories will be encoded as all zeros\n",
      "  warnings.warn(\n",
      "C:\\Users\\drago\\Anaconda3\\lib\\site-packages\\sklearn\\preprocessing\\_encoders.py:188: UserWarning: Found unknown categories in columns [6, 8, 9, 10, 11, 12, 13] during transform. These unknown categories will be encoded as all zeros\n",
      "  warnings.warn(\n",
      "C:\\Users\\drago\\Anaconda3\\lib\\site-packages\\sklearn\\preprocessing\\_encoders.py:188: UserWarning: Found unknown categories in columns [8, 11, 12, 13] during transform. These unknown categories will be encoded as all zeros\n",
      "  warnings.warn(\n",
      "C:\\Users\\drago\\Anaconda3\\lib\\site-packages\\sklearn\\preprocessing\\_encoders.py:188: UserWarning: Found unknown categories in columns [6, 7, 8, 9, 10, 11, 12, 13] during transform. These unknown categories will be encoded as all zeros\n",
      "  warnings.warn(\n",
      "C:\\Users\\drago\\Anaconda3\\lib\\site-packages\\sklearn\\preprocessing\\_encoders.py:188: UserWarning: Found unknown categories in columns [6, 7, 10, 11, 13] during transform. These unknown categories will be encoded as all zeros\n",
      "  warnings.warn(\n"
     ]
    },
    {
     "data": {
      "text/html": [
       "<style>#sk-container-id-10 {color: black;background-color: white;}#sk-container-id-10 pre{padding: 0;}#sk-container-id-10 div.sk-toggleable {background-color: white;}#sk-container-id-10 label.sk-toggleable__label {cursor: pointer;display: block;width: 100%;margin-bottom: 0;padding: 0.3em;box-sizing: border-box;text-align: center;}#sk-container-id-10 label.sk-toggleable__label-arrow:before {content: \"▸\";float: left;margin-right: 0.25em;color: #696969;}#sk-container-id-10 label.sk-toggleable__label-arrow:hover:before {color: black;}#sk-container-id-10 div.sk-estimator:hover label.sk-toggleable__label-arrow:before {color: black;}#sk-container-id-10 div.sk-toggleable__content {max-height: 0;max-width: 0;overflow: hidden;text-align: left;background-color: #f0f8ff;}#sk-container-id-10 div.sk-toggleable__content pre {margin: 0.2em;color: black;border-radius: 0.25em;background-color: #f0f8ff;}#sk-container-id-10 input.sk-toggleable__control:checked~div.sk-toggleable__content {max-height: 200px;max-width: 100%;overflow: auto;}#sk-container-id-10 input.sk-toggleable__control:checked~label.sk-toggleable__label-arrow:before {content: \"▾\";}#sk-container-id-10 div.sk-estimator input.sk-toggleable__control:checked~label.sk-toggleable__label {background-color: #d4ebff;}#sk-container-id-10 div.sk-label input.sk-toggleable__control:checked~label.sk-toggleable__label {background-color: #d4ebff;}#sk-container-id-10 input.sk-hidden--visually {border: 0;clip: rect(1px 1px 1px 1px);clip: rect(1px, 1px, 1px, 1px);height: 1px;margin: -1px;overflow: hidden;padding: 0;position: absolute;width: 1px;}#sk-container-id-10 div.sk-estimator {font-family: monospace;background-color: #f0f8ff;border: 1px dotted black;border-radius: 0.25em;box-sizing: border-box;margin-bottom: 0.5em;}#sk-container-id-10 div.sk-estimator:hover {background-color: #d4ebff;}#sk-container-id-10 div.sk-parallel-item::after {content: \"\";width: 100%;border-bottom: 1px solid gray;flex-grow: 1;}#sk-container-id-10 div.sk-label:hover label.sk-toggleable__label {background-color: #d4ebff;}#sk-container-id-10 div.sk-serial::before {content: \"\";position: absolute;border-left: 1px solid gray;box-sizing: border-box;top: 0;bottom: 0;left: 50%;z-index: 0;}#sk-container-id-10 div.sk-serial {display: flex;flex-direction: column;align-items: center;background-color: white;padding-right: 0.2em;padding-left: 0.2em;position: relative;}#sk-container-id-10 div.sk-item {position: relative;z-index: 1;}#sk-container-id-10 div.sk-parallel {display: flex;align-items: stretch;justify-content: center;background-color: white;position: relative;}#sk-container-id-10 div.sk-item::before, #sk-container-id-10 div.sk-parallel-item::before {content: \"\";position: absolute;border-left: 1px solid gray;box-sizing: border-box;top: 0;bottom: 0;left: 50%;z-index: -1;}#sk-container-id-10 div.sk-parallel-item {display: flex;flex-direction: column;z-index: 1;position: relative;background-color: white;}#sk-container-id-10 div.sk-parallel-item:first-child::after {align-self: flex-end;width: 50%;}#sk-container-id-10 div.sk-parallel-item:last-child::after {align-self: flex-start;width: 50%;}#sk-container-id-10 div.sk-parallel-item:only-child::after {width: 0;}#sk-container-id-10 div.sk-dashed-wrapped {border: 1px dashed gray;margin: 0 0.4em 0.5em 0.4em;box-sizing: border-box;padding-bottom: 0.4em;background-color: white;}#sk-container-id-10 div.sk-label label {font-family: monospace;font-weight: bold;display: inline-block;line-height: 1.2em;}#sk-container-id-10 div.sk-label-container {text-align: center;}#sk-container-id-10 div.sk-container {/* jupyter's `normalize.less` sets `[hidden] { display: none; }` but bootstrap.min.css set `[hidden] { display: none !important; }` so we also need the `!important` here to be able to override the default hidden behavior on the sphinx rendered scikit-learn.org. See: https://github.com/scikit-learn/scikit-learn/issues/21755 */display: inline-block !important;position: relative;}#sk-container-id-10 div.sk-text-repr-fallback {display: none;}</style><div id=\"sk-container-id-10\" class=\"sk-top-container\"><div class=\"sk-text-repr-fallback\"><pre>GridSearchCV(estimator=Pipeline(steps=[(&#x27;encoder&#x27;,\n",
       "                                        ColumnTransformer(transformers=[(&#x27;category&#x27;,\n",
       "                                                                         OneHotEncoder(drop=&#x27;first&#x27;,\n",
       "                                                                                       handle_unknown=&#x27;ignore&#x27;),\n",
       "                                                                         [&#x27;League&#x27;,\n",
       "                                                                          &#x27;Year&#x27;,\n",
       "                                                                          &#x27;Season&#x27;,\n",
       "                                                                          &#x27;Type&#x27;,\n",
       "                                                                          &#x27;FirstBlood&#x27;,\n",
       "                                                                          &#x27;FirstTower&#x27;,\n",
       "                                                                          &#x27;TopChamp&#x27;,\n",
       "                                                                          &#x27;JungleChamp&#x27;,\n",
       "                                                                          &#x27;MiddleChamp&#x27;,\n",
       "                                                                          &#x27;ADCChamp&#x27;,\n",
       "                                                                          &#x27;SupportChamp&#x27;,\n",
       "                                                                          &#x27;ban_1&#x27;,\n",
       "                                                                          &#x27;ban_2&#x27;,\n",
       "                                                                          &#x27;ban_3&#x27;,\n",
       "                                                                          &#x27;ban_4&#x27;,\n",
       "                                                                          &#x27;ban_5&#x27;,\n",
       "                                                                          &#x27;Team&#x27;]),\n",
       "                                                                        (&#x27;numeric&#x27;,\n",
       "                                                                         MinMaxScaler(),\n",
       "                                                                         [&#x27;gamelength&#x27;,\n",
       "                                                                          &#x27;Towers&#x27;,\n",
       "                                                                          &#x27;Inhib&#x27;,\n",
       "                                                                          &#x27;Dragon&#x27;,\n",
       "                                                                          &#x27;Herald&#x27;,\n",
       "                                                                          &#x27;Kills&#x27;])])),\n",
       "                                       (&#x27;model&#x27;,\n",
       "                                        SGDClassifier(loss=&#x27;log_loss&#x27;,\n",
       "                                                      penalty=&#x27;L2&#x27;,\n",
       "                                                      random_state=20220905))]),\n",
       "             param_grid={&#x27;model__alpha&#x27;: array([1.e-04, 1.e-03, 1.e-02, 1.e-01, 1.e+00]),\n",
       "                         &#x27;model__penalty&#x27;: [&#x27;l2&#x27;, &#x27;l1&#x27;]})</pre><b>In a Jupyter environment, please rerun this cell to show the HTML representation or trust the notebook. <br />On GitHub, the HTML representation is unable to render, please try loading this page with nbviewer.org.</b></div><div class=\"sk-container\" hidden><div class=\"sk-item sk-dashed-wrapped\"><div class=\"sk-label-container\"><div class=\"sk-label sk-toggleable\"><input class=\"sk-toggleable__control sk-hidden--visually\" id=\"sk-estimator-id-83\" type=\"checkbox\" ><label for=\"sk-estimator-id-83\" class=\"sk-toggleable__label sk-toggleable__label-arrow\">GridSearchCV</label><div class=\"sk-toggleable__content\"><pre>GridSearchCV(estimator=Pipeline(steps=[(&#x27;encoder&#x27;,\n",
       "                                        ColumnTransformer(transformers=[(&#x27;category&#x27;,\n",
       "                                                                         OneHotEncoder(drop=&#x27;first&#x27;,\n",
       "                                                                                       handle_unknown=&#x27;ignore&#x27;),\n",
       "                                                                         [&#x27;League&#x27;,\n",
       "                                                                          &#x27;Year&#x27;,\n",
       "                                                                          &#x27;Season&#x27;,\n",
       "                                                                          &#x27;Type&#x27;,\n",
       "                                                                          &#x27;FirstBlood&#x27;,\n",
       "                                                                          &#x27;FirstTower&#x27;,\n",
       "                                                                          &#x27;TopChamp&#x27;,\n",
       "                                                                          &#x27;JungleChamp&#x27;,\n",
       "                                                                          &#x27;MiddleChamp&#x27;,\n",
       "                                                                          &#x27;ADCChamp&#x27;,\n",
       "                                                                          &#x27;SupportChamp&#x27;,\n",
       "                                                                          &#x27;ban_1&#x27;,\n",
       "                                                                          &#x27;ban_2&#x27;,\n",
       "                                                                          &#x27;ban_3&#x27;,\n",
       "                                                                          &#x27;ban_4&#x27;,\n",
       "                                                                          &#x27;ban_5&#x27;,\n",
       "                                                                          &#x27;Team&#x27;]),\n",
       "                                                                        (&#x27;numeric&#x27;,\n",
       "                                                                         MinMaxScaler(),\n",
       "                                                                         [&#x27;gamelength&#x27;,\n",
       "                                                                          &#x27;Towers&#x27;,\n",
       "                                                                          &#x27;Inhib&#x27;,\n",
       "                                                                          &#x27;Dragon&#x27;,\n",
       "                                                                          &#x27;Herald&#x27;,\n",
       "                                                                          &#x27;Kills&#x27;])])),\n",
       "                                       (&#x27;model&#x27;,\n",
       "                                        SGDClassifier(loss=&#x27;log_loss&#x27;,\n",
       "                                                      penalty=&#x27;L2&#x27;,\n",
       "                                                      random_state=20220905))]),\n",
       "             param_grid={&#x27;model__alpha&#x27;: array([1.e-04, 1.e-03, 1.e-02, 1.e-01, 1.e+00]),\n",
       "                         &#x27;model__penalty&#x27;: [&#x27;l2&#x27;, &#x27;l1&#x27;]})</pre></div></div></div><div class=\"sk-parallel\"><div class=\"sk-parallel-item\"><div class=\"sk-item\"><div class=\"sk-label-container\"><div class=\"sk-label sk-toggleable\"><input class=\"sk-toggleable__control sk-hidden--visually\" id=\"sk-estimator-id-84\" type=\"checkbox\" ><label for=\"sk-estimator-id-84\" class=\"sk-toggleable__label sk-toggleable__label-arrow\">estimator: Pipeline</label><div class=\"sk-toggleable__content\"><pre>Pipeline(steps=[(&#x27;encoder&#x27;,\n",
       "                 ColumnTransformer(transformers=[(&#x27;category&#x27;,\n",
       "                                                  OneHotEncoder(drop=&#x27;first&#x27;,\n",
       "                                                                handle_unknown=&#x27;ignore&#x27;),\n",
       "                                                  [&#x27;League&#x27;, &#x27;Year&#x27;, &#x27;Season&#x27;,\n",
       "                                                   &#x27;Type&#x27;, &#x27;FirstBlood&#x27;,\n",
       "                                                   &#x27;FirstTower&#x27;, &#x27;TopChamp&#x27;,\n",
       "                                                   &#x27;JungleChamp&#x27;, &#x27;MiddleChamp&#x27;,\n",
       "                                                   &#x27;ADCChamp&#x27;, &#x27;SupportChamp&#x27;,\n",
       "                                                   &#x27;ban_1&#x27;, &#x27;ban_2&#x27;, &#x27;ban_3&#x27;,\n",
       "                                                   &#x27;ban_4&#x27;, &#x27;ban_5&#x27;, &#x27;Team&#x27;]),\n",
       "                                                 (&#x27;numeric&#x27;, MinMaxScaler(),\n",
       "                                                  [&#x27;gamelength&#x27;, &#x27;Towers&#x27;,\n",
       "                                                   &#x27;Inhib&#x27;, &#x27;Dragon&#x27;, &#x27;Herald&#x27;,\n",
       "                                                   &#x27;Kills&#x27;])])),\n",
       "                (&#x27;model&#x27;,\n",
       "                 SGDClassifier(loss=&#x27;log_loss&#x27;, penalty=&#x27;L2&#x27;,\n",
       "                               random_state=20220905))])</pre></div></div></div><div class=\"sk-serial\"><div class=\"sk-item\"><div class=\"sk-serial\"><div class=\"sk-item sk-dashed-wrapped\"><div class=\"sk-label-container\"><div class=\"sk-label sk-toggleable\"><input class=\"sk-toggleable__control sk-hidden--visually\" id=\"sk-estimator-id-85\" type=\"checkbox\" ><label for=\"sk-estimator-id-85\" class=\"sk-toggleable__label sk-toggleable__label-arrow\">encoder: ColumnTransformer</label><div class=\"sk-toggleable__content\"><pre>ColumnTransformer(transformers=[(&#x27;category&#x27;,\n",
       "                                 OneHotEncoder(drop=&#x27;first&#x27;,\n",
       "                                               handle_unknown=&#x27;ignore&#x27;),\n",
       "                                 [&#x27;League&#x27;, &#x27;Year&#x27;, &#x27;Season&#x27;, &#x27;Type&#x27;,\n",
       "                                  &#x27;FirstBlood&#x27;, &#x27;FirstTower&#x27;, &#x27;TopChamp&#x27;,\n",
       "                                  &#x27;JungleChamp&#x27;, &#x27;MiddleChamp&#x27;, &#x27;ADCChamp&#x27;,\n",
       "                                  &#x27;SupportChamp&#x27;, &#x27;ban_1&#x27;, &#x27;ban_2&#x27;, &#x27;ban_3&#x27;,\n",
       "                                  &#x27;ban_4&#x27;, &#x27;ban_5&#x27;, &#x27;Team&#x27;]),\n",
       "                                (&#x27;numeric&#x27;, MinMaxScaler(),\n",
       "                                 [&#x27;gamelength&#x27;, &#x27;Towers&#x27;, &#x27;Inhib&#x27;, &#x27;Dragon&#x27;,\n",
       "                                  &#x27;Herald&#x27;, &#x27;Kills&#x27;])])</pre></div></div></div><div class=\"sk-parallel\"><div class=\"sk-parallel-item\"><div class=\"sk-item\"><div class=\"sk-label-container\"><div class=\"sk-label sk-toggleable\"><input class=\"sk-toggleable__control sk-hidden--visually\" id=\"sk-estimator-id-86\" type=\"checkbox\" ><label for=\"sk-estimator-id-86\" class=\"sk-toggleable__label sk-toggleable__label-arrow\">category</label><div class=\"sk-toggleable__content\"><pre>[&#x27;League&#x27;, &#x27;Year&#x27;, &#x27;Season&#x27;, &#x27;Type&#x27;, &#x27;FirstBlood&#x27;, &#x27;FirstTower&#x27;, &#x27;TopChamp&#x27;, &#x27;JungleChamp&#x27;, &#x27;MiddleChamp&#x27;, &#x27;ADCChamp&#x27;, &#x27;SupportChamp&#x27;, &#x27;ban_1&#x27;, &#x27;ban_2&#x27;, &#x27;ban_3&#x27;, &#x27;ban_4&#x27;, &#x27;ban_5&#x27;, &#x27;Team&#x27;]</pre></div></div></div><div class=\"sk-serial\"><div class=\"sk-item\"><div class=\"sk-estimator sk-toggleable\"><input class=\"sk-toggleable__control sk-hidden--visually\" id=\"sk-estimator-id-87\" type=\"checkbox\" ><label for=\"sk-estimator-id-87\" class=\"sk-toggleable__label sk-toggleable__label-arrow\">OneHotEncoder</label><div class=\"sk-toggleable__content\"><pre>OneHotEncoder(drop=&#x27;first&#x27;, handle_unknown=&#x27;ignore&#x27;)</pre></div></div></div></div></div></div><div class=\"sk-parallel-item\"><div class=\"sk-item\"><div class=\"sk-label-container\"><div class=\"sk-label sk-toggleable\"><input class=\"sk-toggleable__control sk-hidden--visually\" id=\"sk-estimator-id-88\" type=\"checkbox\" ><label for=\"sk-estimator-id-88\" class=\"sk-toggleable__label sk-toggleable__label-arrow\">numeric</label><div class=\"sk-toggleable__content\"><pre>[&#x27;gamelength&#x27;, &#x27;Towers&#x27;, &#x27;Inhib&#x27;, &#x27;Dragon&#x27;, &#x27;Herald&#x27;, &#x27;Kills&#x27;]</pre></div></div></div><div class=\"sk-serial\"><div class=\"sk-item\"><div class=\"sk-estimator sk-toggleable\"><input class=\"sk-toggleable__control sk-hidden--visually\" id=\"sk-estimator-id-89\" type=\"checkbox\" ><label for=\"sk-estimator-id-89\" class=\"sk-toggleable__label sk-toggleable__label-arrow\">MinMaxScaler</label><div class=\"sk-toggleable__content\"><pre>MinMaxScaler()</pre></div></div></div></div></div></div></div></div><div class=\"sk-item\"><div class=\"sk-estimator sk-toggleable\"><input class=\"sk-toggleable__control sk-hidden--visually\" id=\"sk-estimator-id-90\" type=\"checkbox\" ><label for=\"sk-estimator-id-90\" class=\"sk-toggleable__label sk-toggleable__label-arrow\">SGDClassifier</label><div class=\"sk-toggleable__content\"><pre>SGDClassifier(loss=&#x27;log_loss&#x27;, penalty=&#x27;L2&#x27;, random_state=20220905)</pre></div></div></div></div></div></div></div></div></div></div></div></div>"
      ],
      "text/plain": [
       "GridSearchCV(estimator=Pipeline(steps=[('encoder',\n",
       "                                        ColumnTransformer(transformers=[('category',\n",
       "                                                                         OneHotEncoder(drop='first',\n",
       "                                                                                       handle_unknown='ignore'),\n",
       "                                                                         ['League',\n",
       "                                                                          'Year',\n",
       "                                                                          'Season',\n",
       "                                                                          'Type',\n",
       "                                                                          'FirstBlood',\n",
       "                                                                          'FirstTower',\n",
       "                                                                          'TopChamp',\n",
       "                                                                          'JungleChamp',\n",
       "                                                                          'MiddleChamp',\n",
       "                                                                          'ADCChamp',\n",
       "                                                                          'SupportChamp',\n",
       "                                                                          'ban_1',\n",
       "                                                                          'ban_2',\n",
       "                                                                          'ban_3',\n",
       "                                                                          'ban_4',\n",
       "                                                                          'ban_5',\n",
       "                                                                          'Team']),\n",
       "                                                                        ('numeric',\n",
       "                                                                         MinMaxScaler(),\n",
       "                                                                         ['gamelength',\n",
       "                                                                          'Towers',\n",
       "                                                                          'Inhib',\n",
       "                                                                          'Dragon',\n",
       "                                                                          'Herald',\n",
       "                                                                          'Kills'])])),\n",
       "                                       ('model',\n",
       "                                        SGDClassifier(loss='log_loss',\n",
       "                                                      penalty='L2',\n",
       "                                                      random_state=20220905))]),\n",
       "             param_grid={'model__alpha': array([1.e-04, 1.e-03, 1.e-02, 1.e-01, 1.e+00]),\n",
       "                         'model__penalty': ['l2', 'l1']})"
      ]
     },
     "execution_count": 91,
     "metadata": {},
     "output_type": "execute_result"
    }
   ],
   "source": [
    "grid_search.fit(X_train, y_train)"
   ]
  },
  {
   "cell_type": "code",
   "execution_count": 92,
   "id": "13d58314",
   "metadata": {
    "tags": []
   },
   "outputs": [],
   "source": [
    "params = grid_search.cv_results_['params']\n",
    "scores = grid_search.cv_results_['mean_test_score']"
   ]
  },
  {
   "cell_type": "code",
   "execution_count": 93,
   "id": "81aa4756",
   "metadata": {},
   "outputs": [],
   "source": [
    "rows = [dict(param_dict, score=score) for param_dict, score in zip(params, scores)]"
   ]
  },
  {
   "cell_type": "code",
   "execution_count": 94,
   "id": "53b6ca9e",
   "metadata": {},
   "outputs": [
    {
     "data": {
      "text/html": [
       "<div>\n",
       "<style scoped>\n",
       "    .dataframe tbody tr th:only-of-type {\n",
       "        vertical-align: middle;\n",
       "    }\n",
       "\n",
       "    .dataframe tbody tr th {\n",
       "        vertical-align: top;\n",
       "    }\n",
       "\n",
       "    .dataframe thead th {\n",
       "        text-align: right;\n",
       "    }\n",
       "</style>\n",
       "<table border=\"1\" class=\"dataframe\">\n",
       "  <thead>\n",
       "    <tr style=\"text-align: right;\">\n",
       "      <th></th>\n",
       "      <th>alpha</th>\n",
       "      <th>Reg. Type</th>\n",
       "      <th>Accuracy</th>\n",
       "    </tr>\n",
       "  </thead>\n",
       "  <tbody>\n",
       "    <tr>\n",
       "      <th>0</th>\n",
       "      <td>0.0001</td>\n",
       "      <td>l2</td>\n",
       "      <td>0.544949</td>\n",
       "    </tr>\n",
       "    <tr>\n",
       "      <th>1</th>\n",
       "      <td>0.0001</td>\n",
       "      <td>l1</td>\n",
       "      <td>0.567273</td>\n",
       "    </tr>\n",
       "    <tr>\n",
       "      <th>2</th>\n",
       "      <td>0.0010</td>\n",
       "      <td>l2</td>\n",
       "      <td>0.567273</td>\n",
       "    </tr>\n",
       "    <tr>\n",
       "      <th>3</th>\n",
       "      <td>0.0010</td>\n",
       "      <td>l1</td>\n",
       "      <td>0.607475</td>\n",
       "    </tr>\n",
       "    <tr>\n",
       "      <th>4</th>\n",
       "      <td>0.0100</td>\n",
       "      <td>l2</td>\n",
       "      <td>0.647677</td>\n",
       "    </tr>\n",
       "    <tr>\n",
       "      <th>5</th>\n",
       "      <td>0.0100</td>\n",
       "      <td>l1</td>\n",
       "      <td>0.736970</td>\n",
       "    </tr>\n",
       "    <tr>\n",
       "      <th>6</th>\n",
       "      <td>0.1000</td>\n",
       "      <td>l2</td>\n",
       "      <td>0.701515</td>\n",
       "    </tr>\n",
       "    <tr>\n",
       "      <th>7</th>\n",
       "      <td>0.1000</td>\n",
       "      <td>l1</td>\n",
       "      <td>0.597980</td>\n",
       "    </tr>\n",
       "    <tr>\n",
       "      <th>8</th>\n",
       "      <td>1.0000</td>\n",
       "      <td>l2</td>\n",
       "      <td>0.611818</td>\n",
       "    </tr>\n",
       "    <tr>\n",
       "      <th>9</th>\n",
       "      <td>1.0000</td>\n",
       "      <td>l1</td>\n",
       "      <td>0.535758</td>\n",
       "    </tr>\n",
       "  </tbody>\n",
       "</table>\n",
       "</div>"
      ],
      "text/plain": [
       "    alpha Reg. Type  Accuracy\n",
       "0  0.0001        l2  0.544949\n",
       "1  0.0001        l1  0.567273\n",
       "2  0.0010        l2  0.567273\n",
       "3  0.0010        l1  0.607475\n",
       "4  0.0100        l2  0.647677\n",
       "5  0.0100        l1  0.736970\n",
       "6  0.1000        l2  0.701515\n",
       "7  0.1000        l1  0.597980\n",
       "8  1.0000        l2  0.611818\n",
       "9  1.0000        l1  0.535758"
      ]
     },
     "execution_count": 94,
     "metadata": {},
     "output_type": "execute_result"
    }
   ],
   "source": [
    "results_df = pd.DataFrame(rows)\n",
    "results_df.columns = ['alpha', 'Reg. Type', 'Accuracy']\n",
    "results_df"
   ]
  },
  {
   "cell_type": "markdown",
   "id": "3e0e59ec",
   "metadata": {},
   "source": [
    "Plot the accuracy by regularization strengh for the different types of regularization."
   ]
  },
  {
   "cell_type": "code",
   "execution_count": 95,
   "id": "d870ff07",
   "metadata": {},
   "outputs": [
    {
     "data": {
      "image/png": "[encoded data removed]",
      "text/plain": [
       "<Figure size 432x288 with 1 Axes>"
      ]
     },
     "metadata": {
      "needs_background": "light"
     },
     "output_type": "display_data"
    }
   ],
   "source": [
    "SGD_Grid_plot = sb.lineplot(data=results_df, x='alpha', y='Accuracy', hue='Reg. Type', marker='o')\n",
    "SGD_Grid_plot.set(xscale='log', title = 'SGD Classifier Model 2')\n",
    "\n",
    "SGD_Grid_plot.get_figure().savefig('../plots/LR_Grid_plot.png')"
   ]
  },
  {
   "cell_type": "markdown",
   "id": "2a656e1d",
   "metadata": {},
   "source": [
    "Best model is:\n",
    "\n",
    "$penalty = L1$\n",
    "\n",
    "$\\alpha = 0.01$"
   ]
  },
  {
   "cell_type": "code",
   "execution_count": 96,
   "id": "a4cb1300",
   "metadata": {
    "tags": []
   },
   "outputs": [],
   "source": [
    "SGD_model = SGDClassifier(loss='log_loss', penalty='L1', max_iter=1000,\n",
    "                          random_state=20220905, tol=1.0e-03, alpha = 0.01)"
   ]
  },
  {
   "cell_type": "code",
   "execution_count": 97,
   "id": "bf7ad020",
   "metadata": {},
   "outputs": [],
   "source": [
    "pipe2 = Pipeline(steps=[('data', data_pipe), ('model', SGD_model)])"
   ]
  },
  {
   "cell_type": "code",
   "execution_count": 98,
   "id": "d18b6a49",
   "metadata": {
    "tags": []
   },
   "outputs": [
    {
     "data": {
      "text/html": [
       "<style>#sk-container-id-11 {color: black;background-color: white;}#sk-container-id-11 pre{padding: 0;}#sk-container-id-11 div.sk-toggleable {background-color: white;}#sk-container-id-11 label.sk-toggleable__label {cursor: pointer;display: block;width: 100%;margin-bottom: 0;padding: 0.3em;box-sizing: border-box;text-align: center;}#sk-container-id-11 label.sk-toggleable__label-arrow:before {content: \"▸\";float: left;margin-right: 0.25em;color: #696969;}#sk-container-id-11 label.sk-toggleable__label-arrow:hover:before {color: black;}#sk-container-id-11 div.sk-estimator:hover label.sk-toggleable__label-arrow:before {color: black;}#sk-container-id-11 div.sk-toggleable__content {max-height: 0;max-width: 0;overflow: hidden;text-align: left;background-color: #f0f8ff;}#sk-container-id-11 div.sk-toggleable__content pre {margin: 0.2em;color: black;border-radius: 0.25em;background-color: #f0f8ff;}#sk-container-id-11 input.sk-toggleable__control:checked~div.sk-toggleable__content {max-height: 200px;max-width: 100%;overflow: auto;}#sk-container-id-11 input.sk-toggleable__control:checked~label.sk-toggleable__label-arrow:before {content: \"▾\";}#sk-container-id-11 div.sk-estimator input.sk-toggleable__control:checked~label.sk-toggleable__label {background-color: #d4ebff;}#sk-container-id-11 div.sk-label input.sk-toggleable__control:checked~label.sk-toggleable__label {background-color: #d4ebff;}#sk-container-id-11 input.sk-hidden--visually {border: 0;clip: rect(1px 1px 1px 1px);clip: rect(1px, 1px, 1px, 1px);height: 1px;margin: -1px;overflow: hidden;padding: 0;position: absolute;width: 1px;}#sk-container-id-11 div.sk-estimator {font-family: monospace;background-color: #f0f8ff;border: 1px dotted black;border-radius: 0.25em;box-sizing: border-box;margin-bottom: 0.5em;}#sk-container-id-11 div.sk-estimator:hover {background-color: #d4ebff;}#sk-container-id-11 div.sk-parallel-item::after {content: \"\";width: 100%;border-bottom: 1px solid gray;flex-grow: 1;}#sk-container-id-11 div.sk-label:hover label.sk-toggleable__label {background-color: #d4ebff;}#sk-container-id-11 div.sk-serial::before {content: \"\";position: absolute;border-left: 1px solid gray;box-sizing: border-box;top: 0;bottom: 0;left: 50%;z-index: 0;}#sk-container-id-11 div.sk-serial {display: flex;flex-direction: column;align-items: center;background-color: white;padding-right: 0.2em;padding-left: 0.2em;position: relative;}#sk-container-id-11 div.sk-item {position: relative;z-index: 1;}#sk-container-id-11 div.sk-parallel {display: flex;align-items: stretch;justify-content: center;background-color: white;position: relative;}#sk-container-id-11 div.sk-item::before, #sk-container-id-11 div.sk-parallel-item::before {content: \"\";position: absolute;border-left: 1px solid gray;box-sizing: border-box;top: 0;bottom: 0;left: 50%;z-index: -1;}#sk-container-id-11 div.sk-parallel-item {display: flex;flex-direction: column;z-index: 1;position: relative;background-color: white;}#sk-container-id-11 div.sk-parallel-item:first-child::after {align-self: flex-end;width: 50%;}#sk-container-id-11 div.sk-parallel-item:last-child::after {align-self: flex-start;width: 50%;}#sk-container-id-11 div.sk-parallel-item:only-child::after {width: 0;}#sk-container-id-11 div.sk-dashed-wrapped {border: 1px dashed gray;margin: 0 0.4em 0.5em 0.4em;box-sizing: border-box;padding-bottom: 0.4em;background-color: white;}#sk-container-id-11 div.sk-label label {font-family: monospace;font-weight: bold;display: inline-block;line-height: 1.2em;}#sk-container-id-11 div.sk-label-container {text-align: center;}#sk-container-id-11 div.sk-container {/* jupyter's `normalize.less` sets `[hidden] { display: none; }` but bootstrap.min.css set `[hidden] { display: none !important; }` so we also need the `!important` here to be able to override the default hidden behavior on the sphinx rendered scikit-learn.org. See: https://github.com/scikit-learn/scikit-learn/issues/21755 */display: inline-block !important;position: relative;}#sk-container-id-11 div.sk-text-repr-fallback {display: none;}</style><div id=\"sk-container-id-11\" class=\"sk-top-container\"><div class=\"sk-text-repr-fallback\"><pre>Pipeline(steps=[(&#x27;data&#x27;,\n",
       "                 Pipeline(steps=[(&#x27;preprocess&#x27;,\n",
       "                                  ColumnTransformer(transformers=[(&#x27;category&#x27;,\n",
       "                                                                   OneHotEncoder(drop=&#x27;first&#x27;,\n",
       "                                                                                 handle_unknown=&#x27;ignore&#x27;),\n",
       "                                                                   [&#x27;League&#x27;,\n",
       "                                                                    &#x27;Year&#x27;,\n",
       "                                                                    &#x27;Season&#x27;,\n",
       "                                                                    &#x27;Type&#x27;,\n",
       "                                                                    &#x27;FirstBlood&#x27;,\n",
       "                                                                    &#x27;FirstTower&#x27;,\n",
       "                                                                    &#x27;TopChamp&#x27;,\n",
       "                                                                    &#x27;JungleChamp&#x27;,\n",
       "                                                                    &#x27;MiddleChamp&#x27;,\n",
       "                                                                    &#x27;ADCChamp&#x27;,\n",
       "                                                                    &#x27;SupportChamp&#x27;,\n",
       "                                                                    &#x27;ban_1&#x27;,\n",
       "                                                                    &#x27;ban_2&#x27;,\n",
       "                                                                    &#x27;ban_3&#x27;,\n",
       "                                                                    &#x27;ban_4&#x27;,\n",
       "                                                                    &#x27;ban_5&#x27;,\n",
       "                                                                    &#x27;Team&#x27;]),\n",
       "                                                                  (&#x27;numeric&#x27;,\n",
       "                                                                   MinMaxScaler(),\n",
       "                                                                   [&#x27;gamelength&#x27;,\n",
       "                                                                    &#x27;Towers&#x27;,\n",
       "                                                                    &#x27;Inhib&#x27;,\n",
       "                                                                    &#x27;Dragon&#x27;,\n",
       "                                                                    &#x27;Herald&#x27;,\n",
       "                                                                    &#x27;Kills&#x27;])]))])),\n",
       "                (&#x27;model&#x27;,\n",
       "                 SGDClassifier(alpha=0.01, loss=&#x27;log_loss&#x27;, penalty=&#x27;L1&#x27;,\n",
       "                               random_state=20220905))])</pre><b>In a Jupyter environment, please rerun this cell to show the HTML representation or trust the notebook. <br />On GitHub, the HTML representation is unable to render, please try loading this page with nbviewer.org.</b></div><div class=\"sk-container\" hidden><div class=\"sk-item sk-dashed-wrapped\"><div class=\"sk-label-container\"><div class=\"sk-label sk-toggleable\"><input class=\"sk-toggleable__control sk-hidden--visually\" id=\"sk-estimator-id-91\" type=\"checkbox\" ><label for=\"sk-estimator-id-91\" class=\"sk-toggleable__label sk-toggleable__label-arrow\">Pipeline</label><div class=\"sk-toggleable__content\"><pre>Pipeline(steps=[(&#x27;data&#x27;,\n",
       "                 Pipeline(steps=[(&#x27;preprocess&#x27;,\n",
       "                                  ColumnTransformer(transformers=[(&#x27;category&#x27;,\n",
       "                                                                   OneHotEncoder(drop=&#x27;first&#x27;,\n",
       "                                                                                 handle_unknown=&#x27;ignore&#x27;),\n",
       "                                                                   [&#x27;League&#x27;,\n",
       "                                                                    &#x27;Year&#x27;,\n",
       "                                                                    &#x27;Season&#x27;,\n",
       "                                                                    &#x27;Type&#x27;,\n",
       "                                                                    &#x27;FirstBlood&#x27;,\n",
       "                                                                    &#x27;FirstTower&#x27;,\n",
       "                                                                    &#x27;TopChamp&#x27;,\n",
       "                                                                    &#x27;JungleChamp&#x27;,\n",
       "                                                                    &#x27;MiddleChamp&#x27;,\n",
       "                                                                    &#x27;ADCChamp&#x27;,\n",
       "                                                                    &#x27;SupportChamp&#x27;,\n",
       "                                                                    &#x27;ban_1&#x27;,\n",
       "                                                                    &#x27;ban_2&#x27;,\n",
       "                                                                    &#x27;ban_3&#x27;,\n",
       "                                                                    &#x27;ban_4&#x27;,\n",
       "                                                                    &#x27;ban_5&#x27;,\n",
       "                                                                    &#x27;Team&#x27;]),\n",
       "                                                                  (&#x27;numeric&#x27;,\n",
       "                                                                   MinMaxScaler(),\n",
       "                                                                   [&#x27;gamelength&#x27;,\n",
       "                                                                    &#x27;Towers&#x27;,\n",
       "                                                                    &#x27;Inhib&#x27;,\n",
       "                                                                    &#x27;Dragon&#x27;,\n",
       "                                                                    &#x27;Herald&#x27;,\n",
       "                                                                    &#x27;Kills&#x27;])]))])),\n",
       "                (&#x27;model&#x27;,\n",
       "                 SGDClassifier(alpha=0.01, loss=&#x27;log_loss&#x27;, penalty=&#x27;L1&#x27;,\n",
       "                               random_state=20220905))])</pre></div></div></div><div class=\"sk-serial\"><div class=\"sk-item\"><div class=\"sk-label-container\"><div class=\"sk-label sk-toggleable\"><input class=\"sk-toggleable__control sk-hidden--visually\" id=\"sk-estimator-id-92\" type=\"checkbox\" ><label for=\"sk-estimator-id-92\" class=\"sk-toggleable__label sk-toggleable__label-arrow\">data: Pipeline</label><div class=\"sk-toggleable__content\"><pre>Pipeline(steps=[(&#x27;preprocess&#x27;,\n",
       "                 ColumnTransformer(transformers=[(&#x27;category&#x27;,\n",
       "                                                  OneHotEncoder(drop=&#x27;first&#x27;,\n",
       "                                                                handle_unknown=&#x27;ignore&#x27;),\n",
       "                                                  [&#x27;League&#x27;, &#x27;Year&#x27;, &#x27;Season&#x27;,\n",
       "                                                   &#x27;Type&#x27;, &#x27;FirstBlood&#x27;,\n",
       "                                                   &#x27;FirstTower&#x27;, &#x27;TopChamp&#x27;,\n",
       "                                                   &#x27;JungleChamp&#x27;, &#x27;MiddleChamp&#x27;,\n",
       "                                                   &#x27;ADCChamp&#x27;, &#x27;SupportChamp&#x27;,\n",
       "                                                   &#x27;ban_1&#x27;, &#x27;ban_2&#x27;, &#x27;ban_3&#x27;,\n",
       "                                                   &#x27;ban_4&#x27;, &#x27;ban_5&#x27;, &#x27;Team&#x27;]),\n",
       "                                                 (&#x27;numeric&#x27;, MinMaxScaler(),\n",
       "                                                  [&#x27;gamelength&#x27;, &#x27;Towers&#x27;,\n",
       "                                                   &#x27;Inhib&#x27;, &#x27;Dragon&#x27;, &#x27;Herald&#x27;,\n",
       "                                                   &#x27;Kills&#x27;])]))])</pre></div></div></div><div class=\"sk-serial\"><div class=\"sk-item sk-dashed-wrapped\"><div class=\"sk-label-container\"><div class=\"sk-label sk-toggleable\"><input class=\"sk-toggleable__control sk-hidden--visually\" id=\"sk-estimator-id-93\" type=\"checkbox\" ><label for=\"sk-estimator-id-93\" class=\"sk-toggleable__label sk-toggleable__label-arrow\">preprocess: ColumnTransformer</label><div class=\"sk-toggleable__content\"><pre>ColumnTransformer(transformers=[(&#x27;category&#x27;,\n",
       "                                 OneHotEncoder(drop=&#x27;first&#x27;,\n",
       "                                               handle_unknown=&#x27;ignore&#x27;),\n",
       "                                 [&#x27;League&#x27;, &#x27;Year&#x27;, &#x27;Season&#x27;, &#x27;Type&#x27;,\n",
       "                                  &#x27;FirstBlood&#x27;, &#x27;FirstTower&#x27;, &#x27;TopChamp&#x27;,\n",
       "                                  &#x27;JungleChamp&#x27;, &#x27;MiddleChamp&#x27;, &#x27;ADCChamp&#x27;,\n",
       "                                  &#x27;SupportChamp&#x27;, &#x27;ban_1&#x27;, &#x27;ban_2&#x27;, &#x27;ban_3&#x27;,\n",
       "                                  &#x27;ban_4&#x27;, &#x27;ban_5&#x27;, &#x27;Team&#x27;]),\n",
       "                                (&#x27;numeric&#x27;, MinMaxScaler(),\n",
       "                                 [&#x27;gamelength&#x27;, &#x27;Towers&#x27;, &#x27;Inhib&#x27;, &#x27;Dragon&#x27;,\n",
       "                                  &#x27;Herald&#x27;, &#x27;Kills&#x27;])])</pre></div></div></div><div class=\"sk-parallel\"><div class=\"sk-parallel-item\"><div class=\"sk-item\"><div class=\"sk-label-container\"><div class=\"sk-label sk-toggleable\"><input class=\"sk-toggleable__control sk-hidden--visually\" id=\"sk-estimator-id-94\" type=\"checkbox\" ><label for=\"sk-estimator-id-94\" class=\"sk-toggleable__label sk-toggleable__label-arrow\">category</label><div class=\"sk-toggleable__content\"><pre>[&#x27;League&#x27;, &#x27;Year&#x27;, &#x27;Season&#x27;, &#x27;Type&#x27;, &#x27;FirstBlood&#x27;, &#x27;FirstTower&#x27;, &#x27;TopChamp&#x27;, &#x27;JungleChamp&#x27;, &#x27;MiddleChamp&#x27;, &#x27;ADCChamp&#x27;, &#x27;SupportChamp&#x27;, &#x27;ban_1&#x27;, &#x27;ban_2&#x27;, &#x27;ban_3&#x27;, &#x27;ban_4&#x27;, &#x27;ban_5&#x27;, &#x27;Team&#x27;]</pre></div></div></div><div class=\"sk-serial\"><div class=\"sk-item\"><div class=\"sk-estimator sk-toggleable\"><input class=\"sk-toggleable__control sk-hidden--visually\" id=\"sk-estimator-id-95\" type=\"checkbox\" ><label for=\"sk-estimator-id-95\" class=\"sk-toggleable__label sk-toggleable__label-arrow\">OneHotEncoder</label><div class=\"sk-toggleable__content\"><pre>OneHotEncoder(drop=&#x27;first&#x27;, handle_unknown=&#x27;ignore&#x27;)</pre></div></div></div></div></div></div><div class=\"sk-parallel-item\"><div class=\"sk-item\"><div class=\"sk-label-container\"><div class=\"sk-label sk-toggleable\"><input class=\"sk-toggleable__control sk-hidden--visually\" id=\"sk-estimator-id-96\" type=\"checkbox\" ><label for=\"sk-estimator-id-96\" class=\"sk-toggleable__label sk-toggleable__label-arrow\">numeric</label><div class=\"sk-toggleable__content\"><pre>[&#x27;gamelength&#x27;, &#x27;Towers&#x27;, &#x27;Inhib&#x27;, &#x27;Dragon&#x27;, &#x27;Herald&#x27;, &#x27;Kills&#x27;]</pre></div></div></div><div class=\"sk-serial\"><div class=\"sk-item\"><div class=\"sk-estimator sk-toggleable\"><input class=\"sk-toggleable__control sk-hidden--visually\" id=\"sk-estimator-id-97\" type=\"checkbox\" ><label for=\"sk-estimator-id-97\" class=\"sk-toggleable__label sk-toggleable__label-arrow\">MinMaxScaler</label><div class=\"sk-toggleable__content\"><pre>MinMaxScaler()</pre></div></div></div></div></div></div></div></div></div></div><div class=\"sk-item\"><div class=\"sk-estimator sk-toggleable\"><input class=\"sk-toggleable__control sk-hidden--visually\" id=\"sk-estimator-id-98\" type=\"checkbox\" ><label for=\"sk-estimator-id-98\" class=\"sk-toggleable__label sk-toggleable__label-arrow\">SGDClassifier</label><div class=\"sk-toggleable__content\"><pre>SGDClassifier(alpha=0.01, loss=&#x27;log_loss&#x27;, penalty=&#x27;L1&#x27;, random_state=20220905)</pre></div></div></div></div></div></div></div>"
      ],
      "text/plain": [
       "Pipeline(steps=[('data',\n",
       "                 Pipeline(steps=[('preprocess',\n",
       "                                  ColumnTransformer(transformers=[('category',\n",
       "                                                                   OneHotEncoder(drop='first',\n",
       "                                                                                 handle_unknown='ignore'),\n",
       "                                                                   ['League',\n",
       "                                                                    'Year',\n",
       "                                                                    'Season',\n",
       "                                                                    'Type',\n",
       "                                                                    'FirstBlood',\n",
       "                                                                    'FirstTower',\n",
       "                                                                    'TopChamp',\n",
       "                                                                    'JungleChamp',\n",
       "                                                                    'MiddleChamp',\n",
       "                                                                    'ADCChamp',\n",
       "                                                                    'SupportChamp',\n",
       "                                                                    'ban_1',\n",
       "                                                                    'ban_2',\n",
       "                                                                    'ban_3',\n",
       "                                                                    'ban_4',\n",
       "                                                                    'ban_5',\n",
       "                                                                    'Team']),\n",
       "                                                                  ('numeric',\n",
       "                                                                   MinMaxScaler(),\n",
       "                                                                   ['gamelength',\n",
       "                                                                    'Towers',\n",
       "                                                                    'Inhib',\n",
       "                                                                    'Dragon',\n",
       "                                                                    'Herald',\n",
       "                                                                    'Kills'])]))])),\n",
       "                ('model',\n",
       "                 SGDClassifier(alpha=0.01, loss='log_loss', penalty='L1',\n",
       "                               random_state=20220905))])"
      ]
     },
     "execution_count": 98,
     "metadata": {},
     "output_type": "execute_result"
    }
   ],
   "source": [
    "pipe2.fit(X_train, y_train)"
   ]
  },
  {
   "cell_type": "code",
   "execution_count": 99,
   "id": "3e655fd2",
   "metadata": {
    "tags": []
   },
   "outputs": [
    {
     "name": "stdout",
     "output_type": "stream",
     "text": [
      "Train accuracy 0.777\tTest accuracy 0.661\n"
     ]
    },
    {
     "name": "stderr",
     "output_type": "stream",
     "text": [
      "C:\\Users\\drago\\Anaconda3\\lib\\site-packages\\sklearn\\preprocessing\\_encoders.py:188: UserWarning: Found unknown categories in columns [6, 7, 8, 10, 11, 12, 13] during transform. These unknown categories will be encoded as all zeros\n",
      "  warnings.warn(\n"
     ]
    }
   ],
   "source": [
    "SGD2_acc = util.print_accuracies(pipe2, X_train, y_train, X_test, y_test)"
   ]
  },
  {
   "cell_type": "code",
   "execution_count": 100,
   "id": "adcce93c",
   "metadata": {},
   "outputs": [
    {
     "name": "stderr",
     "output_type": "stream",
     "text": [
      "C:\\Users\\drago\\Anaconda3\\lib\\site-packages\\sklearn\\preprocessing\\_encoders.py:188: UserWarning: Found unknown categories in columns [6, 7, 9, 11, 12, 13] during transform. These unknown categories will be encoded as all zeros\n",
      "  warnings.warn(\n",
      "C:\\Users\\drago\\Anaconda3\\lib\\site-packages\\sklearn\\preprocessing\\_encoders.py:188: UserWarning: Found unknown categories in columns [6, 8, 12, 13] during transform. These unknown categories will be encoded as all zeros\n",
      "  warnings.warn(\n",
      "C:\\Users\\drago\\Anaconda3\\lib\\site-packages\\sklearn\\preprocessing\\_encoders.py:188: UserWarning: Found unknown categories in columns [6, 8, 9, 11, 12, 13] during transform. These unknown categories will be encoded as all zeros\n",
      "  warnings.warn(\n",
      "C:\\Users\\drago\\Anaconda3\\lib\\site-packages\\sklearn\\preprocessing\\_encoders.py:188: UserWarning: Found unknown categories in columns [6, 12, 13] during transform. These unknown categories will be encoded as all zeros\n",
      "  warnings.warn(\n",
      "C:\\Users\\drago\\Anaconda3\\lib\\site-packages\\sklearn\\preprocessing\\_encoders.py:188: UserWarning: Found unknown categories in columns [6, 10, 11, 13] during transform. These unknown categories will be encoded as all zeros\n",
      "  warnings.warn(\n",
      "C:\\Users\\drago\\Anaconda3\\lib\\site-packages\\sklearn\\preprocessing\\_encoders.py:188: UserWarning: Found unknown categories in columns [6, 7, 8, 13] during transform. These unknown categories will be encoded as all zeros\n",
      "  warnings.warn(\n",
      "C:\\Users\\drago\\Anaconda3\\lib\\site-packages\\sklearn\\preprocessing\\_encoders.py:188: UserWarning: Found unknown categories in columns [6, 7, 8, 12, 13] during transform. These unknown categories will be encoded as all zeros\n",
      "  warnings.warn(\n",
      "C:\\Users\\drago\\Anaconda3\\lib\\site-packages\\sklearn\\preprocessing\\_encoders.py:188: UserWarning: Found unknown categories in columns [6, 7, 8, 9, 10, 11, 13] during transform. These unknown categories will be encoded as all zeros\n",
      "  warnings.warn(\n"
     ]
    }
   ],
   "source": [
    "skf = StratifiedKFold(n_splits=8, shuffle=True, random_state=20220914)\n",
    "\n",
    "scores = cross_val_score(pipe2, X_train, y_train, cv=skf)"
   ]
  },
  {
   "cell_type": "code",
   "execution_count": 101,
   "id": "0c30bfa6",
   "metadata": {},
   "outputs": [
    {
     "data": {
      "image/png": "[encoded data removed]",
      "text/plain": [
       "<Figure size 432x288 with 1 Axes>"
      ]
     },
     "metadata": {
      "needs_background": "light"
     },
     "output_type": "display_data"
    }
   ],
   "source": [
    "SGD2scores = scores\n",
    "SGD_plot = sb.boxplot(data=scores, width=0.3)\n",
    "\n",
    "SGD_plot.set_title('SGD Cross-Validation Scores')\n",
    "SGD_plot.set_ylabel('Accuracy')\n",
    "plt.xticks([], [])\n",
    "\n",
    "plt.show()"
   ]
  },
  {
   "cell_type": "code",
   "execution_count": 102,
   "id": "6c635ba9",
   "metadata": {},
   "outputs": [],
   "source": [
    "X_train_xform = data_pipe.fit_transform(X_train)\n",
    "\n",
    "rfe = RFE(estimator=SGD_model, n_features_to_select=10, step=1)\n",
    "rfe.fit(X_train_xform, y_train)\n",
    "ranking = rfe.ranking_"
   ]
  },
  {
   "cell_type": "code",
   "execution_count": 103,
   "id": "6d8ff1be",
   "metadata": {},
   "outputs": [],
   "source": [
    "features_RFE = np.arange(0, X_train_xform.shape[1])[ranking==1]"
   ]
  },
  {
   "cell_type": "code",
   "execution_count": 104,
   "id": "a72aab01",
   "metadata": {},
   "outputs": [],
   "source": [
    "filter_RFE = ColumnTransformer([('rfe', 'passthrough', features_RFE)], remainder='drop')\n",
    "                               \n",
    "data_pipe_RFE = Pipeline(steps=[('data', data_pipe), ('select', filter_RFE)])"
   ]
  },
  {
   "cell_type": "code",
   "execution_count": 105,
   "id": "567d53c7",
   "metadata": {},
   "outputs": [],
   "source": [
    "pipe = Pipeline(steps=[('data', data_pipe_RFE), ('model', SGD_model)])"
   ]
  },
  {
   "cell_type": "code",
   "execution_count": 106,
   "id": "1f651137",
   "metadata": {},
   "outputs": [
    {
     "data": {
      "text/html": [
       "<style>#sk-container-id-12 {color: black;background-color: white;}#sk-container-id-12 pre{padding: 0;}#sk-container-id-12 div.sk-toggleable {background-color: white;}#sk-container-id-12 label.sk-toggleable__label {cursor: pointer;display: block;width: 100%;margin-bottom: 0;padding: 0.3em;box-sizing: border-box;text-align: center;}#sk-container-id-12 label.sk-toggleable__label-arrow:before {content: \"▸\";float: left;margin-right: 0.25em;color: #696969;}#sk-container-id-12 label.sk-toggleable__label-arrow:hover:before {color: black;}#sk-container-id-12 div.sk-estimator:hover label.sk-toggleable__label-arrow:before {color: black;}#sk-container-id-12 div.sk-toggleable__content {max-height: 0;max-width: 0;overflow: hidden;text-align: left;background-color: #f0f8ff;}#sk-container-id-12 div.sk-toggleable__content pre {margin: 0.2em;color: black;border-radius: 0.25em;background-color: #f0f8ff;}#sk-container-id-12 input.sk-toggleable__control:checked~div.sk-toggleable__content {max-height: 200px;max-width: 100%;overflow: auto;}#sk-container-id-12 input.sk-toggleable__control:checked~label.sk-toggleable__label-arrow:before {content: \"▾\";}#sk-container-id-12 div.sk-estimator input.sk-toggleable__control:checked~label.sk-toggleable__label {background-color: #d4ebff;}#sk-container-id-12 div.sk-label input.sk-toggleable__control:checked~label.sk-toggleable__label {background-color: #d4ebff;}#sk-container-id-12 input.sk-hidden--visually {border: 0;clip: rect(1px 1px 1px 1px);clip: rect(1px, 1px, 1px, 1px);height: 1px;margin: -1px;overflow: hidden;padding: 0;position: absolute;width: 1px;}#sk-container-id-12 div.sk-estimator {font-family: monospace;background-color: #f0f8ff;border: 1px dotted black;border-radius: 0.25em;box-sizing: border-box;margin-bottom: 0.5em;}#sk-container-id-12 div.sk-estimator:hover {background-color: #d4ebff;}#sk-container-id-12 div.sk-parallel-item::after {content: \"\";width: 100%;border-bottom: 1px solid gray;flex-grow: 1;}#sk-container-id-12 div.sk-label:hover label.sk-toggleable__label {background-color: #d4ebff;}#sk-container-id-12 div.sk-serial::before {content: \"\";position: absolute;border-left: 1px solid gray;box-sizing: border-box;top: 0;bottom: 0;left: 50%;z-index: 0;}#sk-container-id-12 div.sk-serial {display: flex;flex-direction: column;align-items: center;background-color: white;padding-right: 0.2em;padding-left: 0.2em;position: relative;}#sk-container-id-12 div.sk-item {position: relative;z-index: 1;}#sk-container-id-12 div.sk-parallel {display: flex;align-items: stretch;justify-content: center;background-color: white;position: relative;}#sk-container-id-12 div.sk-item::before, #sk-container-id-12 div.sk-parallel-item::before {content: \"\";position: absolute;border-left: 1px solid gray;box-sizing: border-box;top: 0;bottom: 0;left: 50%;z-index: -1;}#sk-container-id-12 div.sk-parallel-item {display: flex;flex-direction: column;z-index: 1;position: relative;background-color: white;}#sk-container-id-12 div.sk-parallel-item:first-child::after {align-self: flex-end;width: 50%;}#sk-container-id-12 div.sk-parallel-item:last-child::after {align-self: flex-start;width: 50%;}#sk-container-id-12 div.sk-parallel-item:only-child::after {width: 0;}#sk-container-id-12 div.sk-dashed-wrapped {border: 1px dashed gray;margin: 0 0.4em 0.5em 0.4em;box-sizing: border-box;padding-bottom: 0.4em;background-color: white;}#sk-container-id-12 div.sk-label label {font-family: monospace;font-weight: bold;display: inline-block;line-height: 1.2em;}#sk-container-id-12 div.sk-label-container {text-align: center;}#sk-container-id-12 div.sk-container {/* jupyter's `normalize.less` sets `[hidden] { display: none; }` but bootstrap.min.css set `[hidden] { display: none !important; }` so we also need the `!important` here to be able to override the default hidden behavior on the sphinx rendered scikit-learn.org. See: https://github.com/scikit-learn/scikit-learn/issues/21755 */display: inline-block !important;position: relative;}#sk-container-id-12 div.sk-text-repr-fallback {display: none;}</style><div id=\"sk-container-id-12\" class=\"sk-top-container\"><div class=\"sk-text-repr-fallback\"><pre>Pipeline(steps=[(&#x27;data&#x27;,\n",
       "                 Pipeline(steps=[(&#x27;data&#x27;,\n",
       "                                  Pipeline(steps=[(&#x27;preprocess&#x27;,\n",
       "                                                   ColumnTransformer(transformers=[(&#x27;category&#x27;,\n",
       "                                                                                    OneHotEncoder(drop=&#x27;first&#x27;,\n",
       "                                                                                                  handle_unknown=&#x27;ignore&#x27;),\n",
       "                                                                                    [&#x27;League&#x27;,\n",
       "                                                                                     &#x27;Year&#x27;,\n",
       "                                                                                     &#x27;Season&#x27;,\n",
       "                                                                                     &#x27;Type&#x27;,\n",
       "                                                                                     &#x27;FirstBlood&#x27;,\n",
       "                                                                                     &#x27;FirstTower&#x27;,\n",
       "                                                                                     &#x27;TopChamp&#x27;,\n",
       "                                                                                     &#x27;JungleChamp&#x27;,\n",
       "                                                                                     &#x27;MiddleChamp&#x27;,\n",
       "                                                                                     &#x27;ADCChamp&#x27;,\n",
       "                                                                                     &#x27;SupportChamp&#x27;,\n",
       "                                                                                     &#x27;ban_1&#x27;,\n",
       "                                                                                     &#x27;ban_2&#x27;,\n",
       "                                                                                     &#x27;ban_3&#x27;,\n",
       "                                                                                     &#x27;ban_4&#x27;,\n",
       "                                                                                     &#x27;ban_5&#x27;,\n",
       "                                                                                     &#x27;Team&#x27;]),\n",
       "                                                                                   (&#x27;numeric&#x27;,\n",
       "                                                                                    MinMaxScaler(),\n",
       "                                                                                    [&#x27;gamelength&#x27;,\n",
       "                                                                                     &#x27;Towers&#x27;,\n",
       "                                                                                     &#x27;Inhib&#x27;,\n",
       "                                                                                     &#x27;Dragon&#x27;,\n",
       "                                                                                     &#x27;Herald&#x27;,\n",
       "                                                                                     &#x27;Kills&#x27;])]))])),\n",
       "                                 (&#x27;select&#x27;,\n",
       "                                  ColumnTransformer(transformers=[(&#x27;rfe&#x27;,\n",
       "                                                                   &#x27;passthrough&#x27;,\n",
       "                                                                   array([  0,  14,  15,  35,  46,  47,  63, 101, 247, 248]))]))])),\n",
       "                (&#x27;model&#x27;,\n",
       "                 SGDClassifier(alpha=0.01, loss=&#x27;log_loss&#x27;, penalty=&#x27;L1&#x27;,\n",
       "                               random_state=20220905))])</pre><b>In a Jupyter environment, please rerun this cell to show the HTML representation or trust the notebook. <br />On GitHub, the HTML representation is unable to render, please try loading this page with nbviewer.org.</b></div><div class=\"sk-container\" hidden><div class=\"sk-item sk-dashed-wrapped\"><div class=\"sk-label-container\"><div class=\"sk-label sk-toggleable\"><input class=\"sk-toggleable__control sk-hidden--visually\" id=\"sk-estimator-id-99\" type=\"checkbox\" ><label for=\"sk-estimator-id-99\" class=\"sk-toggleable__label sk-toggleable__label-arrow\">Pipeline</label><div class=\"sk-toggleable__content\"><pre>Pipeline(steps=[(&#x27;data&#x27;,\n",
       "                 Pipeline(steps=[(&#x27;data&#x27;,\n",
       "                                  Pipeline(steps=[(&#x27;preprocess&#x27;,\n",
       "                                                   ColumnTransformer(transformers=[(&#x27;category&#x27;,\n",
       "                                                                                    OneHotEncoder(drop=&#x27;first&#x27;,\n",
       "                                                                                                  handle_unknown=&#x27;ignore&#x27;),\n",
       "                                                                                    [&#x27;League&#x27;,\n",
       "                                                                                     &#x27;Year&#x27;,\n",
       "                                                                                     &#x27;Season&#x27;,\n",
       "                                                                                     &#x27;Type&#x27;,\n",
       "                                                                                     &#x27;FirstBlood&#x27;,\n",
       "                                                                                     &#x27;FirstTower&#x27;,\n",
       "                                                                                     &#x27;TopChamp&#x27;,\n",
       "                                                                                     &#x27;JungleChamp&#x27;,\n",
       "                                                                                     &#x27;MiddleChamp&#x27;,\n",
       "                                                                                     &#x27;ADCChamp&#x27;,\n",
       "                                                                                     &#x27;SupportChamp&#x27;,\n",
       "                                                                                     &#x27;ban_1&#x27;,\n",
       "                                                                                     &#x27;ban_2&#x27;,\n",
       "                                                                                     &#x27;ban_3&#x27;,\n",
       "                                                                                     &#x27;ban_4&#x27;,\n",
       "                                                                                     &#x27;ban_5&#x27;,\n",
       "                                                                                     &#x27;Team&#x27;]),\n",
       "                                                                                   (&#x27;numeric&#x27;,\n",
       "                                                                                    MinMaxScaler(),\n",
       "                                                                                    [&#x27;gamelength&#x27;,\n",
       "                                                                                     &#x27;Towers&#x27;,\n",
       "                                                                                     &#x27;Inhib&#x27;,\n",
       "                                                                                     &#x27;Dragon&#x27;,\n",
       "                                                                                     &#x27;Herald&#x27;,\n",
       "                                                                                     &#x27;Kills&#x27;])]))])),\n",
       "                                 (&#x27;select&#x27;,\n",
       "                                  ColumnTransformer(transformers=[(&#x27;rfe&#x27;,\n",
       "                                                                   &#x27;passthrough&#x27;,\n",
       "                                                                   array([  0,  14,  15,  35,  46,  47,  63, 101, 247, 248]))]))])),\n",
       "                (&#x27;model&#x27;,\n",
       "                 SGDClassifier(alpha=0.01, loss=&#x27;log_loss&#x27;, penalty=&#x27;L1&#x27;,\n",
       "                               random_state=20220905))])</pre></div></div></div><div class=\"sk-serial\"><div class=\"sk-item\"><div class=\"sk-label-container\"><div class=\"sk-label sk-toggleable\"><input class=\"sk-toggleable__control sk-hidden--visually\" id=\"sk-estimator-id-100\" type=\"checkbox\" ><label for=\"sk-estimator-id-100\" class=\"sk-toggleable__label sk-toggleable__label-arrow\">data: Pipeline</label><div class=\"sk-toggleable__content\"><pre>Pipeline(steps=[(&#x27;data&#x27;,\n",
       "                 Pipeline(steps=[(&#x27;preprocess&#x27;,\n",
       "                                  ColumnTransformer(transformers=[(&#x27;category&#x27;,\n",
       "                                                                   OneHotEncoder(drop=&#x27;first&#x27;,\n",
       "                                                                                 handle_unknown=&#x27;ignore&#x27;),\n",
       "                                                                   [&#x27;League&#x27;,\n",
       "                                                                    &#x27;Year&#x27;,\n",
       "                                                                    &#x27;Season&#x27;,\n",
       "                                                                    &#x27;Type&#x27;,\n",
       "                                                                    &#x27;FirstBlood&#x27;,\n",
       "                                                                    &#x27;FirstTower&#x27;,\n",
       "                                                                    &#x27;TopChamp&#x27;,\n",
       "                                                                    &#x27;JungleChamp&#x27;,\n",
       "                                                                    &#x27;MiddleChamp&#x27;,\n",
       "                                                                    &#x27;ADCChamp&#x27;,\n",
       "                                                                    &#x27;SupportChamp&#x27;,\n",
       "                                                                    &#x27;ban_1&#x27;,\n",
       "                                                                    &#x27;ban_2&#x27;,\n",
       "                                                                    &#x27;ban_3&#x27;,\n",
       "                                                                    &#x27;ban_4&#x27;,\n",
       "                                                                    &#x27;ban_5&#x27;,\n",
       "                                                                    &#x27;Team&#x27;]),\n",
       "                                                                  (&#x27;numeric&#x27;,\n",
       "                                                                   MinMaxScaler(),\n",
       "                                                                   [&#x27;gamelength&#x27;,\n",
       "                                                                    &#x27;Towers&#x27;,\n",
       "                                                                    &#x27;Inhib&#x27;,\n",
       "                                                                    &#x27;Dragon&#x27;,\n",
       "                                                                    &#x27;Herald&#x27;,\n",
       "                                                                    &#x27;Kills&#x27;])]))])),\n",
       "                (&#x27;select&#x27;,\n",
       "                 ColumnTransformer(transformers=[(&#x27;rfe&#x27;, &#x27;passthrough&#x27;,\n",
       "                                                  array([  0,  14,  15,  35,  46,  47,  63, 101, 247, 248]))]))])</pre></div></div></div><div class=\"sk-serial\"><div class=\"sk-item\"><div class=\"sk-label-container\"><div class=\"sk-label sk-toggleable\"><input class=\"sk-toggleable__control sk-hidden--visually\" id=\"sk-estimator-id-101\" type=\"checkbox\" ><label for=\"sk-estimator-id-101\" class=\"sk-toggleable__label sk-toggleable__label-arrow\">data: Pipeline</label><div class=\"sk-toggleable__content\"><pre>Pipeline(steps=[(&#x27;preprocess&#x27;,\n",
       "                 ColumnTransformer(transformers=[(&#x27;category&#x27;,\n",
       "                                                  OneHotEncoder(drop=&#x27;first&#x27;,\n",
       "                                                                handle_unknown=&#x27;ignore&#x27;),\n",
       "                                                  [&#x27;League&#x27;, &#x27;Year&#x27;, &#x27;Season&#x27;,\n",
       "                                                   &#x27;Type&#x27;, &#x27;FirstBlood&#x27;,\n",
       "                                                   &#x27;FirstTower&#x27;, &#x27;TopChamp&#x27;,\n",
       "                                                   &#x27;JungleChamp&#x27;, &#x27;MiddleChamp&#x27;,\n",
       "                                                   &#x27;ADCChamp&#x27;, &#x27;SupportChamp&#x27;,\n",
       "                                                   &#x27;ban_1&#x27;, &#x27;ban_2&#x27;, &#x27;ban_3&#x27;,\n",
       "                                                   &#x27;ban_4&#x27;, &#x27;ban_5&#x27;, &#x27;Team&#x27;]),\n",
       "                                                 (&#x27;numeric&#x27;, MinMaxScaler(),\n",
       "                                                  [&#x27;gamelength&#x27;, &#x27;Towers&#x27;,\n",
       "                                                   &#x27;Inhib&#x27;, &#x27;Dragon&#x27;, &#x27;Herald&#x27;,\n",
       "                                                   &#x27;Kills&#x27;])]))])</pre></div></div></div><div class=\"sk-serial\"><div class=\"sk-item sk-dashed-wrapped\"><div class=\"sk-label-container\"><div class=\"sk-label sk-toggleable\"><input class=\"sk-toggleable__control sk-hidden--visually\" id=\"sk-estimator-id-102\" type=\"checkbox\" ><label for=\"sk-estimator-id-102\" class=\"sk-toggleable__label sk-toggleable__label-arrow\">preprocess: ColumnTransformer</label><div class=\"sk-toggleable__content\"><pre>ColumnTransformer(transformers=[(&#x27;category&#x27;,\n",
       "                                 OneHotEncoder(drop=&#x27;first&#x27;,\n",
       "                                               handle_unknown=&#x27;ignore&#x27;),\n",
       "                                 [&#x27;League&#x27;, &#x27;Year&#x27;, &#x27;Season&#x27;, &#x27;Type&#x27;,\n",
       "                                  &#x27;FirstBlood&#x27;, &#x27;FirstTower&#x27;, &#x27;TopChamp&#x27;,\n",
       "                                  &#x27;JungleChamp&#x27;, &#x27;MiddleChamp&#x27;, &#x27;ADCChamp&#x27;,\n",
       "                                  &#x27;SupportChamp&#x27;, &#x27;ban_1&#x27;, &#x27;ban_2&#x27;, &#x27;ban_3&#x27;,\n",
       "                                  &#x27;ban_4&#x27;, &#x27;ban_5&#x27;, &#x27;Team&#x27;]),\n",
       "                                (&#x27;numeric&#x27;, MinMaxScaler(),\n",
       "                                 [&#x27;gamelength&#x27;, &#x27;Towers&#x27;, &#x27;Inhib&#x27;, &#x27;Dragon&#x27;,\n",
       "                                  &#x27;Herald&#x27;, &#x27;Kills&#x27;])])</pre></div></div></div><div class=\"sk-parallel\"><div class=\"sk-parallel-item\"><div class=\"sk-item\"><div class=\"sk-label-container\"><div class=\"sk-label sk-toggleable\"><input class=\"sk-toggleable__control sk-hidden--visually\" id=\"sk-estimator-id-103\" type=\"checkbox\" ><label for=\"sk-estimator-id-103\" class=\"sk-toggleable__label sk-toggleable__label-arrow\">category</label><div class=\"sk-toggleable__content\"><pre>[&#x27;League&#x27;, &#x27;Year&#x27;, &#x27;Season&#x27;, &#x27;Type&#x27;, &#x27;FirstBlood&#x27;, &#x27;FirstTower&#x27;, &#x27;TopChamp&#x27;, &#x27;JungleChamp&#x27;, &#x27;MiddleChamp&#x27;, &#x27;ADCChamp&#x27;, &#x27;SupportChamp&#x27;, &#x27;ban_1&#x27;, &#x27;ban_2&#x27;, &#x27;ban_3&#x27;, &#x27;ban_4&#x27;, &#x27;ban_5&#x27;, &#x27;Team&#x27;]</pre></div></div></div><div class=\"sk-serial\"><div class=\"sk-item\"><div class=\"sk-estimator sk-toggleable\"><input class=\"sk-toggleable__control sk-hidden--visually\" id=\"sk-estimator-id-104\" type=\"checkbox\" ><label for=\"sk-estimator-id-104\" class=\"sk-toggleable__label sk-toggleable__label-arrow\">OneHotEncoder</label><div class=\"sk-toggleable__content\"><pre>OneHotEncoder(drop=&#x27;first&#x27;, handle_unknown=&#x27;ignore&#x27;)</pre></div></div></div></div></div></div><div class=\"sk-parallel-item\"><div class=\"sk-item\"><div class=\"sk-label-container\"><div class=\"sk-label sk-toggleable\"><input class=\"sk-toggleable__control sk-hidden--visually\" id=\"sk-estimator-id-105\" type=\"checkbox\" ><label for=\"sk-estimator-id-105\" class=\"sk-toggleable__label sk-toggleable__label-arrow\">numeric</label><div class=\"sk-toggleable__content\"><pre>[&#x27;gamelength&#x27;, &#x27;Towers&#x27;, &#x27;Inhib&#x27;, &#x27;Dragon&#x27;, &#x27;Herald&#x27;, &#x27;Kills&#x27;]</pre></div></div></div><div class=\"sk-serial\"><div class=\"sk-item\"><div class=\"sk-estimator sk-toggleable\"><input class=\"sk-toggleable__control sk-hidden--visually\" id=\"sk-estimator-id-106\" type=\"checkbox\" ><label for=\"sk-estimator-id-106\" class=\"sk-toggleable__label sk-toggleable__label-arrow\">MinMaxScaler</label><div class=\"sk-toggleable__content\"><pre>MinMaxScaler()</pre></div></div></div></div></div></div></div></div></div></div><div class=\"sk-item sk-dashed-wrapped\"><div class=\"sk-label-container\"><div class=\"sk-label sk-toggleable\"><input class=\"sk-toggleable__control sk-hidden--visually\" id=\"sk-estimator-id-107\" type=\"checkbox\" ><label for=\"sk-estimator-id-107\" class=\"sk-toggleable__label sk-toggleable__label-arrow\">select: ColumnTransformer</label><div class=\"sk-toggleable__content\"><pre>ColumnTransformer(transformers=[(&#x27;rfe&#x27;, &#x27;passthrough&#x27;,\n",
       "                                 array([  0,  14,  15,  35,  46,  47,  63, 101, 247, 248]))])</pre></div></div></div><div class=\"sk-parallel\"><div class=\"sk-parallel-item\"><div class=\"sk-item\"><div class=\"sk-label-container\"><div class=\"sk-label sk-toggleable\"><input class=\"sk-toggleable__control sk-hidden--visually\" id=\"sk-estimator-id-108\" type=\"checkbox\" ><label for=\"sk-estimator-id-108\" class=\"sk-toggleable__label sk-toggleable__label-arrow\">rfe</label><div class=\"sk-toggleable__content\"><pre>[  0  14  15  35  46  47  63 101 247 248]</pre></div></div></div><div class=\"sk-serial\"><div class=\"sk-item\"><div class=\"sk-estimator sk-toggleable\"><input class=\"sk-toggleable__control sk-hidden--visually\" id=\"sk-estimator-id-109\" type=\"checkbox\" ><label for=\"sk-estimator-id-109\" class=\"sk-toggleable__label sk-toggleable__label-arrow\">passthrough</label><div class=\"sk-toggleable__content\"><pre>passthrough</pre></div></div></div></div></div></div></div></div></div></div><div class=\"sk-item\"><div class=\"sk-estimator sk-toggleable\"><input class=\"sk-toggleable__control sk-hidden--visually\" id=\"sk-estimator-id-110\" type=\"checkbox\" ><label for=\"sk-estimator-id-110\" class=\"sk-toggleable__label sk-toggleable__label-arrow\">SGDClassifier</label><div class=\"sk-toggleable__content\"><pre>SGDClassifier(alpha=0.01, loss=&#x27;log_loss&#x27;, penalty=&#x27;L1&#x27;, random_state=20220905)</pre></div></div></div></div></div></div></div>"
      ],
      "text/plain": [
       "Pipeline(steps=[('data',\n",
       "                 Pipeline(steps=[('data',\n",
       "                                  Pipeline(steps=[('preprocess',\n",
       "                                                   ColumnTransformer(transformers=[('category',\n",
       "                                                                                    OneHotEncoder(drop='first',\n",
       "                                                                                                  handle_unknown='ignore'),\n",
       "                                                                                    ['League',\n",
       "                                                                                     'Year',\n",
       "                                                                                     'Season',\n",
       "                                                                                     'Type',\n",
       "                                                                                     'FirstBlood',\n",
       "                                                                                     'FirstTower',\n",
       "                                                                                     'TopChamp',\n",
       "                                                                                     'JungleChamp',\n",
       "                                                                                     'MiddleChamp',\n",
       "                                                                                     'ADCChamp',\n",
       "                                                                                     'SupportChamp',\n",
       "                                                                                     'ban_1',\n",
       "                                                                                     'ban_2',\n",
       "                                                                                     'ban_3',\n",
       "                                                                                     'ban_4',\n",
       "                                                                                     'ban_5',\n",
       "                                                                                     'Team']),\n",
       "                                                                                   ('numeric',\n",
       "                                                                                    MinMaxScaler(),\n",
       "                                                                                    ['gamelength',\n",
       "                                                                                     'Towers',\n",
       "                                                                                     'Inhib',\n",
       "                                                                                     'Dragon',\n",
       "                                                                                     'Herald',\n",
       "                                                                                     'Kills'])]))])),\n",
       "                                 ('select',\n",
       "                                  ColumnTransformer(transformers=[('rfe',\n",
       "                                                                   'passthrough',\n",
       "                                                                   array([  0,  14,  15,  35,  46,  47,  63, 101, 247, 248]))]))])),\n",
       "                ('model',\n",
       "                 SGDClassifier(alpha=0.01, loss='log_loss', penalty='L1',\n",
       "                               random_state=20220905))])"
      ]
     },
     "execution_count": 106,
     "metadata": {},
     "output_type": "execute_result"
    }
   ],
   "source": [
    "pipe.fit(X_train,y_train)"
   ]
  },
  {
   "cell_type": "code",
   "execution_count": 107,
   "id": "ec0ff9aa",
   "metadata": {
    "scrolled": true
   },
   "outputs": [
    {
     "name": "stdout",
     "output_type": "stream",
     "text": [
      "Train accuracy 0.768\tTest accuracy 0.679\n"
     ]
    },
    {
     "name": "stderr",
     "output_type": "stream",
     "text": [
      "C:\\Users\\drago\\Anaconda3\\lib\\site-packages\\sklearn\\preprocessing\\_encoders.py:188: UserWarning: Found unknown categories in columns [6, 7, 8, 10, 11, 12, 13] during transform. These unknown categories will be encoded as all zeros\n",
      "  warnings.warn(\n"
     ]
    }
   ],
   "source": [
    "SGD2_acc_sel = util.print_accuracies(pipe, X_train, y_train, X_test, y_test)"
   ]
  },
  {
   "cell_type": "code",
   "execution_count": 108,
   "id": "84ca9df9",
   "metadata": {},
   "outputs": [
    {
     "data": {
      "text/plain": [
       "array(['category__League_EULCS', 'category__FirstBlood_Red',\n",
       "       'category__FirstTower_Red', 'category__TopChamp_Poppy',\n",
       "       'category__JungleChamp_Elise', 'category__JungleChamp_Gragas',\n",
       "       'category__MiddleChamp_Azir', 'category__ADCChamp_Sivir',\n",
       "       'category__Team_Red', 'numeric__gamelength'], dtype=object)"
      ]
     },
     "execution_count": 108,
     "metadata": {},
     "output_type": "execute_result"
    }
   ],
   "source": [
    "data_pipe[0].get_feature_names_out()[ranking==1]"
   ]
  },
  {
   "cell_type": "code",
   "execution_count": 109,
   "id": "a3ed4704",
   "metadata": {},
   "outputs": [],
   "source": [
    "features = pd.concat([features, pd.DataFrame([\n",
    "    'League','FirstBlood','FirstTower','TopChamp','JungleChamp',\n",
    "    'JungleChamp','MiddleChamp','ADCChamp','Team','GameLength',\n",
    "], columns = ['SGD2'])],axis=1)"
   ]
  },
  {
   "cell_type": "markdown",
   "id": "31ab6150",
   "metadata": {},
   "source": [
    "# Accuracies comparison"
   ]
  },
  {
   "cell_type": "code",
   "execution_count": 110,
   "id": "40e5f446",
   "metadata": {},
   "outputs": [],
   "source": [
    "acc_df = pd.DataFrame([LR_acc[0],LR_acc_sel[0],SGD_acc[0],SGD_acc_sel[0],\n",
    "                       LR2_acc[0],LR2_acc_sel[0],SGD2_acc[0],SGD2_acc_sel[0],\n",
    "                       LR_acc[1],LR_acc_sel[1],SGD_acc[1],SGD_acc_sel[1],\n",
    "                       LR2_acc[1],LR2_acc_sel[1],SGD2_acc[1],SGD2_acc_sel[1]],\n",
    "                      columns = ['Accuracy'])\n",
    "acc_df['Type'] = ['Train','Train','Train','Train','Train','Train','Train','Train',\n",
    "                  'Test','Test','Test','Test','Test','Test','Test','Test']\n",
    "acc_df['Model'] = ['LR No Selection','LR Selection','SGD No Selection','SGD Selection',\n",
    "                   'LR2 No Selection','LR2 Selection','SGD2 No Selection','SGD2 Selection',\n",
    "                  'LR No Selection','LR Selection','SGD No Selection','SGD Selection',\n",
    "                   'LR2 No Selection','LR2 Selection','SGD2 No Selection','SGD2 Selection',]"
   ]
  },
  {
   "cell_type": "code",
   "execution_count": 112,
   "id": "eaf41740",
   "metadata": {},
   "outputs": [
    {
     "data": {
      "image/png": "[encoded data removed]",
      "text/plain": [
       "<Figure size 432x288 with 1 Axes>"
      ]
     },
     "metadata": {
      "needs_background": "light"
     },
     "output_type": "display_data"
    }
   ],
   "source": [
    "barplot = sb.barplot(data = acc_df, y = 'Model', x = 'Accuracy', hue = 'Type', palette = 'bright')\n",
    "barplot.set(title = 'Model Accuracies')\n",
    "\n",
    "barplot.get_figure().savefig('../plots/barplot.png')"
   ]
  },
  {
   "cell_type": "code",
   "execution_count": 113,
   "id": "7489ad58",
   "metadata": {},
   "outputs": [
    {
     "data": {
      "image/png": "[encoded data removed]",
      "text/plain": [
       "<Figure size 432x288 with 1 Axes>"
      ]
     },
     "metadata": {
      "needs_background": "light"
     },
     "output_type": "display_data"
    }
   ],
   "source": [
    "barplot2 = sb.barplot(data = acc_df.loc[np.arange(1,16,2)], y = 'Model',\n",
    "                      x = 'Accuracy', palette = 'bright',hue = 'Type')\n",
    "barplot2.set(title = 'Selection Model Accuracies')\n",
    "barplot2.get_figure().savefig('../plots/barplot_selection.png')"
   ]
  },
  {
   "cell_type": "code",
   "execution_count": 114,
   "id": "41ff60cd",
   "metadata": {},
   "outputs": [
    {
     "data": {
      "text/html": [
       "<div>\n",
       "<style scoped>\n",
       "    .dataframe tbody tr th:only-of-type {\n",
       "        vertical-align: middle;\n",
       "    }\n",
       "\n",
       "    .dataframe tbody tr th {\n",
       "        vertical-align: top;\n",
       "    }\n",
       "\n",
       "    .dataframe thead th {\n",
       "        text-align: right;\n",
       "    }\n",
       "</style>\n",
       "<table border=\"1\" class=\"dataframe\">\n",
       "  <thead>\n",
       "    <tr style=\"text-align: right;\">\n",
       "      <th></th>\n",
       "      <th>Accuracy</th>\n",
       "      <th>Type</th>\n",
       "      <th>Model</th>\n",
       "    </tr>\n",
       "  </thead>\n",
       "  <tbody>\n",
       "    <tr>\n",
       "      <th>9</th>\n",
       "      <td>0.678571</td>\n",
       "      <td>Test</td>\n",
       "      <td>LR Selection</td>\n",
       "    </tr>\n",
       "    <tr>\n",
       "      <th>15</th>\n",
       "      <td>0.678571</td>\n",
       "      <td>Test</td>\n",
       "      <td>SGD2 Selection</td>\n",
       "    </tr>\n",
       "  </tbody>\n",
       "</table>\n",
       "</div>"
      ],
      "text/plain": [
       "    Accuracy  Type           Model\n",
       "9   0.678571  Test    LR Selection\n",
       "15  0.678571  Test  SGD2 Selection"
      ]
     },
     "execution_count": 114,
     "metadata": {},
     "output_type": "execute_result"
    }
   ],
   "source": [
    "acc_df[acc_df['Accuracy'] == max(acc_df['Accuracy'][acc_df['Type'] == 'Test'])]"
   ]
  },
  {
   "cell_type": "markdown",
   "id": "2cfb28f0",
   "metadata": {},
   "source": [
    "It seems like the general model is better at predicting which team wins."
   ]
  },
  {
   "cell_type": "code",
   "execution_count": 115,
   "id": "619a7ed7",
   "metadata": {},
   "outputs": [
    {
     "data": {
      "text/html": [
       "<div>\n",
       "<style scoped>\n",
       "    .dataframe tbody tr th:only-of-type {\n",
       "        vertical-align: middle;\n",
       "    }\n",
       "\n",
       "    .dataframe tbody tr th {\n",
       "        vertical-align: top;\n",
       "    }\n",
       "\n",
       "    .dataframe thead th {\n",
       "        text-align: right;\n",
       "    }\n",
       "</style>\n",
       "<table border=\"1\" class=\"dataframe\">\n",
       "  <thead>\n",
       "    <tr style=\"text-align: right;\">\n",
       "      <th></th>\n",
       "      <th>0</th>\n",
       "      <th>1</th>\n",
       "      <th>2</th>\n",
       "      <th>3</th>\n",
       "      <th>4</th>\n",
       "      <th>5</th>\n",
       "      <th>6</th>\n",
       "      <th>7</th>\n",
       "      <th>8</th>\n",
       "      <th>9</th>\n",
       "    </tr>\n",
       "  </thead>\n",
       "  <tbody>\n",
       "    <tr>\n",
       "      <th>LR</th>\n",
       "      <td>Red</td>\n",
       "      <td>Red</td>\n",
       "      <td>Blue</td>\n",
       "      <td>Blue</td>\n",
       "      <td>Blue</td>\n",
       "      <td>Red</td>\n",
       "      <td>goldred</td>\n",
       "      <td>goldblueSupport</td>\n",
       "      <td>goldredMiddle</td>\n",
       "      <td>Red</td>\n",
       "    </tr>\n",
       "    <tr>\n",
       "      <th>LR</th>\n",
       "      <td>TopChamp</td>\n",
       "      <td>ADCChamp</td>\n",
       "      <td>ban_2</td>\n",
       "      <td>ban_2</td>\n",
       "      <td>ban_2</td>\n",
       "      <td>ban_3</td>\n",
       "      <td>min_20</td>\n",
       "      <td>min_20</td>\n",
       "      <td>min_20</td>\n",
       "      <td>Kills</td>\n",
       "    </tr>\n",
       "    <tr>\n",
       "      <th>SGD</th>\n",
       "      <td>Blue</td>\n",
       "      <td>Red</td>\n",
       "      <td>Red</td>\n",
       "      <td>Red</td>\n",
       "      <td>Blue</td>\n",
       "      <td>Blue</td>\n",
       "      <td>golddiff</td>\n",
       "      <td>goldred</td>\n",
       "      <td>goldblueSupport</td>\n",
       "      <td>Red</td>\n",
       "    </tr>\n",
       "    <tr>\n",
       "      <th>SGD</th>\n",
       "      <td>SupportChamp</td>\n",
       "      <td>TopChamp</td>\n",
       "      <td>MiddleChamp</td>\n",
       "      <td>ADCChamp</td>\n",
       "      <td>ban_2</td>\n",
       "      <td>ban_2</td>\n",
       "      <td>min_20</td>\n",
       "      <td>min_20</td>\n",
       "      <td>min_20</td>\n",
       "      <td>Kills</td>\n",
       "    </tr>\n",
       "    <tr>\n",
       "      <th>LR2</th>\n",
       "      <td>League</td>\n",
       "      <td>League</td>\n",
       "      <td>FirstBlood</td>\n",
       "      <td>FirstTower</td>\n",
       "      <td>TopChamp</td>\n",
       "      <td>TopChamp</td>\n",
       "      <td>JungleChamp</td>\n",
       "      <td>JungleChamp</td>\n",
       "      <td>ADCChamp</td>\n",
       "      <td>SupportChamp</td>\n",
       "    </tr>\n",
       "    <tr>\n",
       "      <th>SGD2</th>\n",
       "      <td>League</td>\n",
       "      <td>FirstBlood</td>\n",
       "      <td>FirstTower</td>\n",
       "      <td>TopChamp</td>\n",
       "      <td>JungleChamp</td>\n",
       "      <td>JungleChamp</td>\n",
       "      <td>MiddleChamp</td>\n",
       "      <td>ADCChamp</td>\n",
       "      <td>Team</td>\n",
       "      <td>GameLength</td>\n",
       "    </tr>\n",
       "  </tbody>\n",
       "</table>\n",
       "</div>"
      ],
      "text/plain": [
       "                 0           1            2           3            4  \\\n",
       "LR             Red         Red         Blue        Blue         Blue   \n",
       "LR        TopChamp    ADCChamp        ban_2       ban_2        ban_2   \n",
       "SGD           Blue         Red          Red         Red         Blue   \n",
       "SGD   SupportChamp    TopChamp  MiddleChamp    ADCChamp        ban_2   \n",
       "LR2         League      League   FirstBlood  FirstTower     TopChamp   \n",
       "SGD2        League  FirstBlood   FirstTower    TopChamp  JungleChamp   \n",
       "\n",
       "                5            6                7                8             9  \n",
       "LR            Red      goldred  goldblueSupport    goldredMiddle           Red  \n",
       "LR          ban_3       min_20           min_20           min_20         Kills  \n",
       "SGD          Blue     golddiff          goldred  goldblueSupport           Red  \n",
       "SGD         ban_2       min_20           min_20           min_20         Kills  \n",
       "LR2      TopChamp  JungleChamp      JungleChamp         ADCChamp  SupportChamp  \n",
       "SGD2  JungleChamp  MiddleChamp         ADCChamp             Team    GameLength  "
      ]
     },
     "execution_count": 115,
     "metadata": {},
     "output_type": "execute_result"
    }
   ],
   "source": [
    "features.T"
   ]
  },
  {
   "cell_type": "code",
   "execution_count": 116,
   "id": "a4a68937",
   "metadata": {},
   "outputs": [
    {
     "data": {
      "image/png": "[encoded data removed]",
      "text/plain": [
       "<Figure size 432x288 with 1 Axes>"
      ]
     },
     "metadata": {
      "needs_background": "light"
     },
     "output_type": "display_data"
    }
   ],
   "source": [
    "allbox = sb.boxplot(data = [LRscores,SGDscores,LR2scores,SGD2scores], width=0.4)\n",
    "allbox.set(title ='All Cross-Validation Scores', ylabel = 'Accuracy', xlabel = 'Model')\n",
    "allbox.set_xticklabels(['LR Model','SGD Model','LR Model 2','SGD Model2'])\n",
    "allbox.get_figure().savefig('../plots/allboxplot.png')"
   ]
  },
  {
   "cell_type": "code",
   "execution_count": null,
   "id": "71fc3b8a",
   "metadata": {},
   "outputs": [],
   "source": []
  }
 ],
 "metadata": {
  "kernelspec": {
   "display_name": "Python 3 (ipykernel)",
   "language": "python",
   "name": "python3"
  },
  "language_info": {
   "codemirror_mode": {
    "name": "ipython",
    "version": 3
   },
   "file_extension": ".py",
   "mimetype": "text/x-python",
   "name": "python",
   "nbconvert_exporter": "python",
   "pygments_lexer": "ipython3",
   "version": "3.10.6"
  }
 },
 "nbformat": 4,
 "nbformat_minor": 5
}
