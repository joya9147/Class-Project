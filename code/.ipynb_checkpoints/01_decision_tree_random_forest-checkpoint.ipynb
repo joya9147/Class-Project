{
 "cells": [
  {
   "cell_type": "markdown",
   "id": "104d08ab",
   "metadata": {},
   "source": [
    "# 01_DECISION_TREE_RANDOM_FOREST"
   ]
  },
  {
   "cell_type": "markdown",
   "id": "20fa6df6",
   "metadata": {},
   "source": [
    "Goal: Run a decision tree + random forest model and perform feature selection using RFE."
   ]
  },
  {
   "cell_type": "markdown",
   "id": "40fa7c5e",
   "metadata": {},
   "source": [
    "# 0) Import packages"
   ]
  },
  {
   "cell_type": "code",
   "execution_count": 1,
   "id": "57e2be85",
   "metadata": {},
   "outputs": [],
   "source": [
    "# Generic packages\n",
    "import warnings\n",
    "import re\n",
    "\n",
    "# Import ML Packages\n",
    "import numpy as np\n",
    "import scipy as sp\n",
    "import sklearn as sk\n",
    "import pandas as pd\n",
    "\n",
    "# Import visualization packages\n",
    "import matplotlib.pyplot as plt\n",
    "import seaborn as sb"
   ]
  },
  {
   "cell_type": "markdown",
   "id": "27d750dc",
   "metadata": {},
   "source": [
    "sklearn functions for feature selection"
   ]
  },
  {
   "cell_type": "code",
   "execution_count": 2,
   "id": "8fff8fd4",
   "metadata": {},
   "outputs": [],
   "source": [
    "from sklearn.feature_selection import SelectKBest, SelectPercentile, chi2, RFE, RFECV"
   ]
  },
  {
   "cell_type": "markdown",
   "id": "1e0acc10",
   "metadata": {},
   "source": [
    "sklearn functions for decision tree, random forest"
   ]
  },
  {
   "cell_type": "code",
   "execution_count": 3,
   "id": "0875e958",
   "metadata": {},
   "outputs": [],
   "source": [
    "from sklearn.preprocessing import PowerTransformer, MinMaxScaler, OneHotEncoder\n",
    "from sklearn.pipeline import Pipeline\n",
    "from sklearn.tree import DecisionTreeClassifier, plot_tree\n",
    "from sklearn.model_selection import train_test_split, learning_curve\n",
    "from sklearn.metrics import accuracy_score, confusion_matrix, mean_squared_error\n",
    "from sklearn.compose import ColumnTransformer\n",
    "from sklearn.model_selection import cross_validate, cross_val_score, StratifiedKFold, KFold, GridSearchCV\n",
    "from sklearn.ensemble import RandomForestClassifier, RandomForestRegressor"
   ]
  },
  {
   "cell_type": "markdown",
   "id": "56881a8c",
   "metadata": {},
   "source": [
    "Our own code"
   ]
  },
  {
   "cell_type": "code",
   "execution_count": 4,
   "id": "5824abad",
   "metadata": {},
   "outputs": [],
   "source": [
    "import importlib"
   ]
  },
  {
   "cell_type": "code",
   "execution_count": 5,
   "id": "1cd26120",
   "metadata": {},
   "outputs": [],
   "source": [
    "import info5604_utils as util"
   ]
  },
  {
   "cell_type": "markdown",
   "id": "ac440624",
   "metadata": {},
   "source": [
    "This lets us reload the util functions if we change it, without restarting kernel"
   ]
  },
  {
   "cell_type": "code",
   "execution_count": 6,
   "id": "bfcb0d3d",
   "metadata": {},
   "outputs": [
    {
     "data": {
      "text/plain": [
       "<module 'info5604_utils' from '/Users/abyb5152/Documents/GitHub/Applied-Machine-Learning/code/info5604_utils.py'>"
      ]
     },
     "execution_count": 6,
     "metadata": {},
     "output_type": "execute_result"
    }
   ],
   "source": [
    "importlib.reload(util)"
   ]
  },
  {
   "cell_type": "markdown",
   "id": "890173a4",
   "metadata": {},
   "source": [
    "# 1) Read the data"
   ]
  },
  {
   "cell_type": "markdown",
   "id": "39dbdf33",
   "metadata": {},
   "source": [
    "Increase the number of columns that can be displayed"
   ]
  },
  {
   "cell_type": "code",
   "execution_count": 7,
   "id": "ea7df7cf",
   "metadata": {},
   "outputs": [],
   "source": [
    "pd.set_option('display.max_columns', 200)\n",
    "pd.set_option('display.max_rows', None)"
   ]
  },
  {
   "cell_type": "markdown",
   "id": "a3775672",
   "metadata": {},
   "source": [
    "Read main dataset"
   ]
  },
  {
   "cell_type": "code",
   "execution_count": 8,
   "id": "3fe03bdb",
   "metadata": {
    "scrolled": true
   },
   "outputs": [
    {
     "name": "stdout",
     "output_type": "stream",
     "text": [
      "(7578, 99)\n"
     ]
    },
    {
     "data": {
      "text/html": [
       "<div>\n",
       "<style scoped>\n",
       "    .dataframe tbody tr th:only-of-type {\n",
       "        vertical-align: middle;\n",
       "    }\n",
       "\n",
       "    .dataframe tbody tr th {\n",
       "        vertical-align: top;\n",
       "    }\n",
       "\n",
       "    .dataframe thead tr th {\n",
       "        text-align: left;\n",
       "    }\n",
       "</style>\n",
       "<table border=\"1\" class=\"dataframe\">\n",
       "  <thead>\n",
       "    <tr>\n",
       "      <th></th>\n",
       "      <th colspan=\"7\" halign=\"left\">Info</th>\n",
       "      <th colspan=\"11\" halign=\"left\">Blue</th>\n",
       "      <th colspan=\"11\" halign=\"left\">Red</th>\n",
       "      <th colspan=\"5\" halign=\"left\">Blue</th>\n",
       "      <th colspan=\"5\" halign=\"left\">Red</th>\n",
       "      <th colspan=\"4\" halign=\"left\">golddiff</th>\n",
       "      <th colspan=\"4\" halign=\"left\">goldblue</th>\n",
       "      <th colspan=\"4\" halign=\"left\">goldred</th>\n",
       "      <th colspan=\"4\" halign=\"left\">goldblueTop</th>\n",
       "      <th colspan=\"4\" halign=\"left\">goldblueJungle</th>\n",
       "      <th colspan=\"4\" halign=\"left\">goldblueMiddle</th>\n",
       "      <th colspan=\"4\" halign=\"left\">goldblueADC</th>\n",
       "      <th colspan=\"4\" halign=\"left\">goldblueSupport</th>\n",
       "      <th colspan=\"4\" halign=\"left\">goldredTop</th>\n",
       "      <th colspan=\"4\" halign=\"left\">goldredJungle</th>\n",
       "      <th colspan=\"4\" halign=\"left\">goldredMiddle</th>\n",
       "      <th colspan=\"4\" halign=\"left\">goldredADC</th>\n",
       "      <th colspan=\"4\" halign=\"left\">goldredSupport</th>\n",
       "      <th>Blue</th>\n",
       "      <th>Red</th>\n",
       "      <th>Blue</th>\n",
       "      <th>Red</th>\n",
       "      <th>Blue</th>\n",
       "      <th>Red</th>\n",
       "      <th colspan=\"2\" halign=\"left\">Info</th>\n",
       "    </tr>\n",
       "    <tr>\n",
       "      <th></th>\n",
       "      <th>Address</th>\n",
       "      <th>League</th>\n",
       "      <th>Year</th>\n",
       "      <th>Season</th>\n",
       "      <th>GameType</th>\n",
       "      <th>gamelength</th>\n",
       "      <th>Winner</th>\n",
       "      <th>TeamTag</th>\n",
       "      <th>Top</th>\n",
       "      <th>TopChamp</th>\n",
       "      <th>Jungle</th>\n",
       "      <th>JungleChamp</th>\n",
       "      <th>Middle</th>\n",
       "      <th>MiddleChamp</th>\n",
       "      <th>ADC</th>\n",
       "      <th>ADCChamp</th>\n",
       "      <th>Support</th>\n",
       "      <th>SupportChamp</th>\n",
       "      <th>TeamTag</th>\n",
       "      <th>Top</th>\n",
       "      <th>TopChamp</th>\n",
       "      <th>Jungle</th>\n",
       "      <th>JungleChamp</th>\n",
       "      <th>Middle</th>\n",
       "      <th>MiddleChamp</th>\n",
       "      <th>ADC</th>\n",
       "      <th>ADCChamp</th>\n",
       "      <th>Support</th>\n",
       "      <th>SupportChamp</th>\n",
       "      <th>ban_1</th>\n",
       "      <th>ban_2</th>\n",
       "      <th>ban_3</th>\n",
       "      <th>ban_4</th>\n",
       "      <th>ban_5</th>\n",
       "      <th>ban_1</th>\n",
       "      <th>ban_2</th>\n",
       "      <th>ban_3</th>\n",
       "      <th>ban_4</th>\n",
       "      <th>ban_5</th>\n",
       "      <th>min_5</th>\n",
       "      <th>min_10</th>\n",
       "      <th>min_15</th>\n",
       "      <th>min_20</th>\n",
       "      <th>min_5</th>\n",
       "      <th>min_10</th>\n",
       "      <th>min_15</th>\n",
       "      <th>min_20</th>\n",
       "      <th>min_5</th>\n",
       "      <th>min_10</th>\n",
       "      <th>min_15</th>\n",
       "      <th>min_20</th>\n",
       "      <th>min_5</th>\n",
       "      <th>min_10</th>\n",
       "      <th>min_15</th>\n",
       "      <th>min_20</th>\n",
       "      <th>min_5</th>\n",
       "      <th>min_10</th>\n",
       "      <th>min_15</th>\n",
       "      <th>min_20</th>\n",
       "      <th>min_5</th>\n",
       "      <th>min_10</th>\n",
       "      <th>min_15</th>\n",
       "      <th>min_20</th>\n",
       "      <th>min_5</th>\n",
       "      <th>min_10</th>\n",
       "      <th>min_15</th>\n",
       "      <th>min_20</th>\n",
       "      <th>min_5</th>\n",
       "      <th>min_10</th>\n",
       "      <th>min_15</th>\n",
       "      <th>min_20</th>\n",
       "      <th>min_5</th>\n",
       "      <th>min_10</th>\n",
       "      <th>min_15</th>\n",
       "      <th>min_20</th>\n",
       "      <th>min_5</th>\n",
       "      <th>min_10</th>\n",
       "      <th>min_15</th>\n",
       "      <th>min_20</th>\n",
       "      <th>min_5</th>\n",
       "      <th>min_10</th>\n",
       "      <th>min_15</th>\n",
       "      <th>min_20</th>\n",
       "      <th>min_5</th>\n",
       "      <th>min_10</th>\n",
       "      <th>min_15</th>\n",
       "      <th>min_20</th>\n",
       "      <th>min_5</th>\n",
       "      <th>min_10</th>\n",
       "      <th>min_15</th>\n",
       "      <th>min_20</th>\n",
       "      <th>Towers</th>\n",
       "      <th>Towers</th>\n",
       "      <th>Inhib</th>\n",
       "      <th>Inhib</th>\n",
       "      <th>Kills</th>\n",
       "      <th>Kills</th>\n",
       "      <th>FirstBlood</th>\n",
       "      <th>FirstTower</th>\n",
       "    </tr>\n",
       "  </thead>\n",
       "  <tbody>\n",
       "    <tr>\n",
       "      <th>0</th>\n",
       "      <td>http://matchhistory.na.leagueoflegends.com/en/...</td>\n",
       "      <td>NALCS</td>\n",
       "      <td>2015</td>\n",
       "      <td>Spring</td>\n",
       "      <td>Season</td>\n",
       "      <td>40</td>\n",
       "      <td>Blue</td>\n",
       "      <td>TSM</td>\n",
       "      <td>Dyrus</td>\n",
       "      <td>Irelia</td>\n",
       "      <td>Santorin</td>\n",
       "      <td>RekSai</td>\n",
       "      <td>Bjergsen</td>\n",
       "      <td>Ahri</td>\n",
       "      <td>WildTurtle</td>\n",
       "      <td>Jinx</td>\n",
       "      <td>Lustboy</td>\n",
       "      <td>Janna</td>\n",
       "      <td>C9</td>\n",
       "      <td>Balls</td>\n",
       "      <td>Gnar</td>\n",
       "      <td>Meteos</td>\n",
       "      <td>Elise</td>\n",
       "      <td>Hai</td>\n",
       "      <td>Fizz</td>\n",
       "      <td>Sneaky</td>\n",
       "      <td>Sivir</td>\n",
       "      <td>LemonNation</td>\n",
       "      <td>Thresh</td>\n",
       "      <td>Rumble</td>\n",
       "      <td>Kassadin</td>\n",
       "      <td>Lissandra</td>\n",
       "      <td>No Ban</td>\n",
       "      <td>No Ban</td>\n",
       "      <td>Tristana</td>\n",
       "      <td>Leblanc</td>\n",
       "      <td>Nidalee</td>\n",
       "      <td>No Ban</td>\n",
       "      <td>No Ban</td>\n",
       "      <td>-268</td>\n",
       "      <td>-625</td>\n",
       "      <td>-790</td>\n",
       "      <td>1422.0</td>\n",
       "      <td>5068</td>\n",
       "      <td>11361</td>\n",
       "      <td>18324</td>\n",
       "      <td>29519.0</td>\n",
       "      <td>5336</td>\n",
       "      <td>11986</td>\n",
       "      <td>19114</td>\n",
       "      <td>28097.0</td>\n",
       "      <td>893</td>\n",
       "      <td>2051</td>\n",
       "      <td>3630</td>\n",
       "      <td>6008.0</td>\n",
       "      <td>1049</td>\n",
       "      <td>2486</td>\n",
       "      <td>3632</td>\n",
       "      <td>5799.0</td>\n",
       "      <td>1102</td>\n",
       "      <td>2663</td>\n",
       "      <td>4608</td>\n",
       "      <td>7308.0</td>\n",
       "      <td>1127</td>\n",
       "      <td>2495</td>\n",
       "      <td>4051</td>\n",
       "      <td>6359.0</td>\n",
       "      <td>897</td>\n",
       "      <td>1666</td>\n",
       "      <td>2403</td>\n",
       "      <td>4045.0</td>\n",
       "      <td>958</td>\n",
       "      <td>2587</td>\n",
       "      <td>4377</td>\n",
       "      <td>6539.0</td>\n",
       "      <td>1192</td>\n",
       "      <td>2555</td>\n",
       "      <td>4099</td>\n",
       "      <td>6194.0</td>\n",
       "      <td>1178</td>\n",
       "      <td>2561</td>\n",
       "      <td>4043</td>\n",
       "      <td>5550.0</td>\n",
       "      <td>1097</td>\n",
       "      <td>2621</td>\n",
       "      <td>4149</td>\n",
       "      <td>6374.0</td>\n",
       "      <td>911</td>\n",
       "      <td>1662</td>\n",
       "      <td>2446</td>\n",
       "      <td>3440.0</td>\n",
       "      <td>4.0</td>\n",
       "      <td>2.0</td>\n",
       "      <td>0.0</td>\n",
       "      <td>0.0</td>\n",
       "      <td>4.0</td>\n",
       "      <td>3.0</td>\n",
       "      <td>Blue</td>\n",
       "      <td>Blue</td>\n",
       "    </tr>\n",
       "    <tr>\n",
       "      <th>1</th>\n",
       "      <td>http://matchhistory.na.leagueoflegends.com/en/...</td>\n",
       "      <td>NALCS</td>\n",
       "      <td>2015</td>\n",
       "      <td>Spring</td>\n",
       "      <td>Season</td>\n",
       "      <td>38</td>\n",
       "      <td>Red</td>\n",
       "      <td>CST</td>\n",
       "      <td>Cris</td>\n",
       "      <td>Gnar</td>\n",
       "      <td>Impaler</td>\n",
       "      <td>Rengar</td>\n",
       "      <td>Jesiz</td>\n",
       "      <td>Ahri</td>\n",
       "      <td>Mash</td>\n",
       "      <td>Caitlyn</td>\n",
       "      <td>Sheep</td>\n",
       "      <td>Leona</td>\n",
       "      <td>DIG</td>\n",
       "      <td>Gamsu</td>\n",
       "      <td>Irelia</td>\n",
       "      <td>Crumbzz</td>\n",
       "      <td>JarvanIV</td>\n",
       "      <td>Shiphtur</td>\n",
       "      <td>Azir</td>\n",
       "      <td>CoreJJ</td>\n",
       "      <td>Corki</td>\n",
       "      <td>KiWiKiD</td>\n",
       "      <td>Annie</td>\n",
       "      <td>Kassadin</td>\n",
       "      <td>Sivir</td>\n",
       "      <td>Lissandra</td>\n",
       "      <td>No Ban</td>\n",
       "      <td>No Ban</td>\n",
       "      <td>RekSai</td>\n",
       "      <td>Janna</td>\n",
       "      <td>Leblanc</td>\n",
       "      <td>No Ban</td>\n",
       "      <td>No Ban</td>\n",
       "      <td>147</td>\n",
       "      <td>-242</td>\n",
       "      <td>1394</td>\n",
       "      <td>1105.0</td>\n",
       "      <td>5511</td>\n",
       "      <td>11419</td>\n",
       "      <td>19698</td>\n",
       "      <td>27282.0</td>\n",
       "      <td>5364</td>\n",
       "      <td>11661</td>\n",
       "      <td>18304</td>\n",
       "      <td>26177.0</td>\n",
       "      <td>1127</td>\n",
       "      <td>2406</td>\n",
       "      <td>4594</td>\n",
       "      <td>6217.0</td>\n",
       "      <td>1176</td>\n",
       "      <td>2350</td>\n",
       "      <td>3929</td>\n",
       "      <td>5205.0</td>\n",
       "      <td>1102</td>\n",
       "      <td>2547</td>\n",
       "      <td>4549</td>\n",
       "      <td>6341.0</td>\n",
       "      <td>1182</td>\n",
       "      <td>2415</td>\n",
       "      <td>3869</td>\n",
       "      <td>5695.0</td>\n",
       "      <td>924</td>\n",
       "      <td>1701</td>\n",
       "      <td>2757</td>\n",
       "      <td>3824.0</td>\n",
       "      <td>1042</td>\n",
       "      <td>2346</td>\n",
       "      <td>3770</td>\n",
       "      <td>5424.0</td>\n",
       "      <td>1105</td>\n",
       "      <td>2285</td>\n",
       "      <td>3415</td>\n",
       "      <td>4429.0</td>\n",
       "      <td>1097</td>\n",
       "      <td>2601</td>\n",
       "      <td>4418</td>\n",
       "      <td>6217.0</td>\n",
       "      <td>1220</td>\n",
       "      <td>2670</td>\n",
       "      <td>4061</td>\n",
       "      <td>6364.0</td>\n",
       "      <td>900</td>\n",
       "      <td>1759</td>\n",
       "      <td>2640</td>\n",
       "      <td>3743.0</td>\n",
       "      <td>1.0</td>\n",
       "      <td>2.0</td>\n",
       "      <td>0.0</td>\n",
       "      <td>0.0</td>\n",
       "      <td>5.0</td>\n",
       "      <td>3.0</td>\n",
       "      <td>Blue</td>\n",
       "      <td>Red</td>\n",
       "    </tr>\n",
       "    <tr>\n",
       "      <th>2</th>\n",
       "      <td>http://matchhistory.na.leagueoflegends.com/en/...</td>\n",
       "      <td>NALCS</td>\n",
       "      <td>2015</td>\n",
       "      <td>Spring</td>\n",
       "      <td>Season</td>\n",
       "      <td>40</td>\n",
       "      <td>Blue</td>\n",
       "      <td>WFX</td>\n",
       "      <td>Flaresz</td>\n",
       "      <td>Renekton</td>\n",
       "      <td>ShorterACE</td>\n",
       "      <td>Rengar</td>\n",
       "      <td>Pobelter</td>\n",
       "      <td>Fizz</td>\n",
       "      <td>Altec</td>\n",
       "      <td>Sivir</td>\n",
       "      <td>Gleeb</td>\n",
       "      <td>Annie</td>\n",
       "      <td>GV</td>\n",
       "      <td>Hauntzer</td>\n",
       "      <td>Sion</td>\n",
       "      <td>Saintvicious</td>\n",
       "      <td>LeeSin</td>\n",
       "      <td>Keane</td>\n",
       "      <td>Azir</td>\n",
       "      <td>Cop</td>\n",
       "      <td>Corki</td>\n",
       "      <td>BunnyFuFuu</td>\n",
       "      <td>Janna</td>\n",
       "      <td>JarvanIV</td>\n",
       "      <td>Lissandra</td>\n",
       "      <td>Kassadin</td>\n",
       "      <td>No Ban</td>\n",
       "      <td>No Ban</td>\n",
       "      <td>Leblanc</td>\n",
       "      <td>Zed</td>\n",
       "      <td>RekSai</td>\n",
       "      <td>No Ban</td>\n",
       "      <td>No Ban</td>\n",
       "      <td>34</td>\n",
       "      <td>913</td>\n",
       "      <td>2922</td>\n",
       "      <td>5293.0</td>\n",
       "      <td>4933</td>\n",
       "      <td>12374</td>\n",
       "      <td>21237</td>\n",
       "      <td>31317.0</td>\n",
       "      <td>4899</td>\n",
       "      <td>11461</td>\n",
       "      <td>18315</td>\n",
       "      <td>26024.0</td>\n",
       "      <td>828</td>\n",
       "      <td>2419</td>\n",
       "      <td>4187</td>\n",
       "      <td>6478.0</td>\n",
       "      <td>1041</td>\n",
       "      <td>2552</td>\n",
       "      <td>4026</td>\n",
       "      <td>5321.0</td>\n",
       "      <td>1065</td>\n",
       "      <td>2865</td>\n",
       "      <td>4861</td>\n",
       "      <td>6777.0</td>\n",
       "      <td>1130</td>\n",
       "      <td>2723</td>\n",
       "      <td>4899</td>\n",
       "      <td>7580.0</td>\n",
       "      <td>869</td>\n",
       "      <td>1815</td>\n",
       "      <td>3264</td>\n",
       "      <td>5161.0</td>\n",
       "      <td>861</td>\n",
       "      <td>2113</td>\n",
       "      <td>3532</td>\n",
       "      <td>5356.0</td>\n",
       "      <td>1089</td>\n",
       "      <td>2454</td>\n",
       "      <td>3971</td>\n",
       "      <td>5338.0</td>\n",
       "      <td>1006</td>\n",
       "      <td>2254</td>\n",
       "      <td>3578</td>\n",
       "      <td>5491.0</td>\n",
       "      <td>1085</td>\n",
       "      <td>2854</td>\n",
       "      <td>4582</td>\n",
       "      <td>6268.0</td>\n",
       "      <td>858</td>\n",
       "      <td>1786</td>\n",
       "      <td>2652</td>\n",
       "      <td>3571.0</td>\n",
       "      <td>3.0</td>\n",
       "      <td>0.0</td>\n",
       "      <td>0.0</td>\n",
       "      <td>0.0</td>\n",
       "      <td>11.0</td>\n",
       "      <td>6.0</td>\n",
       "      <td>Blue</td>\n",
       "      <td>Blue</td>\n",
       "    </tr>\n",
       "    <tr>\n",
       "      <th>3</th>\n",
       "      <td>http://matchhistory.na.leagueoflegends.com/en/...</td>\n",
       "      <td>NALCS</td>\n",
       "      <td>2015</td>\n",
       "      <td>Spring</td>\n",
       "      <td>Season</td>\n",
       "      <td>41</td>\n",
       "      <td>Red</td>\n",
       "      <td>TIP</td>\n",
       "      <td>Rhux</td>\n",
       "      <td>Irelia</td>\n",
       "      <td>Rush</td>\n",
       "      <td>JarvanIV</td>\n",
       "      <td>XiaoWeiXiao</td>\n",
       "      <td>Leblanc</td>\n",
       "      <td>Apollo</td>\n",
       "      <td>Sivir</td>\n",
       "      <td>Adrian</td>\n",
       "      <td>Thresh</td>\n",
       "      <td>TL</td>\n",
       "      <td>Quas</td>\n",
       "      <td>Gnar</td>\n",
       "      <td>IWDominate</td>\n",
       "      <td>Nunu</td>\n",
       "      <td>Fenix</td>\n",
       "      <td>Lulu</td>\n",
       "      <td>KEITH</td>\n",
       "      <td>KogMaw</td>\n",
       "      <td>Xpecial</td>\n",
       "      <td>Janna</td>\n",
       "      <td>Annie</td>\n",
       "      <td>Lissandra</td>\n",
       "      <td>Kassadin</td>\n",
       "      <td>No Ban</td>\n",
       "      <td>No Ban</td>\n",
       "      <td>RekSai</td>\n",
       "      <td>Rumble</td>\n",
       "      <td>LeeSin</td>\n",
       "      <td>No Ban</td>\n",
       "      <td>No Ban</td>\n",
       "      <td>228</td>\n",
       "      <td>16</td>\n",
       "      <td>-335</td>\n",
       "      <td>768.0</td>\n",
       "      <td>5398</td>\n",
       "      <td>12033</td>\n",
       "      <td>19332</td>\n",
       "      <td>25772.0</td>\n",
       "      <td>5170</td>\n",
       "      <td>12017</td>\n",
       "      <td>19667</td>\n",
       "      <td>25004.0</td>\n",
       "      <td>992</td>\n",
       "      <td>2662</td>\n",
       "      <td>4296</td>\n",
       "      <td>5544.0</td>\n",
       "      <td>1272</td>\n",
       "      <td>2390</td>\n",
       "      <td>3627</td>\n",
       "      <td>4867.0</td>\n",
       "      <td>1066</td>\n",
       "      <td>2533</td>\n",
       "      <td>4378</td>\n",
       "      <td>5722.0</td>\n",
       "      <td>1202</td>\n",
       "      <td>2756</td>\n",
       "      <td>4555</td>\n",
       "      <td>6305.0</td>\n",
       "      <td>866</td>\n",
       "      <td>1692</td>\n",
       "      <td>2476</td>\n",
       "      <td>3334.0</td>\n",
       "      <td>922</td>\n",
       "      <td>2390</td>\n",
       "      <td>3785</td>\n",
       "      <td>4800.0</td>\n",
       "      <td>1171</td>\n",
       "      <td>2937</td>\n",
       "      <td>4646</td>\n",
       "      <td>5620.0</td>\n",
       "      <td>1046</td>\n",
       "      <td>2468</td>\n",
       "      <td>4420</td>\n",
       "      <td>5649.0</td>\n",
       "      <td>1161</td>\n",
       "      <td>2568</td>\n",
       "      <td>4243</td>\n",
       "      <td>5431.0</td>\n",
       "      <td>870</td>\n",
       "      <td>1654</td>\n",
       "      <td>2573</td>\n",
       "      <td>3504.0</td>\n",
       "      <td>2.0</td>\n",
       "      <td>1.0</td>\n",
       "      <td>0.0</td>\n",
       "      <td>0.0</td>\n",
       "      <td>5.0</td>\n",
       "      <td>5.0</td>\n",
       "      <td>Red</td>\n",
       "      <td>Blue</td>\n",
       "    </tr>\n",
       "    <tr>\n",
       "      <th>4</th>\n",
       "      <td>http://matchhistory.na.leagueoflegends.com/en/...</td>\n",
       "      <td>NALCS</td>\n",
       "      <td>2015</td>\n",
       "      <td>Spring</td>\n",
       "      <td>Season</td>\n",
       "      <td>35</td>\n",
       "      <td>Blue</td>\n",
       "      <td>CLG</td>\n",
       "      <td>Benny</td>\n",
       "      <td>Gnar</td>\n",
       "      <td>Xmithie</td>\n",
       "      <td>JarvanIV</td>\n",
       "      <td>Link</td>\n",
       "      <td>Lissandra</td>\n",
       "      <td>Doublelift</td>\n",
       "      <td>Tristana</td>\n",
       "      <td>aphromoo</td>\n",
       "      <td>Janna</td>\n",
       "      <td>T8</td>\n",
       "      <td>CaliTrlolz8</td>\n",
       "      <td>Sion</td>\n",
       "      <td>Porpoise8</td>\n",
       "      <td>RekSai</td>\n",
       "      <td>Slooshi8</td>\n",
       "      <td>Lulu</td>\n",
       "      <td>Maplestreet8</td>\n",
       "      <td>Corki</td>\n",
       "      <td>Dodo8</td>\n",
       "      <td>Annie</td>\n",
       "      <td>Irelia</td>\n",
       "      <td>Pantheon</td>\n",
       "      <td>Kassadin</td>\n",
       "      <td>No Ban</td>\n",
       "      <td>No Ban</td>\n",
       "      <td>Rumble</td>\n",
       "      <td>Sivir</td>\n",
       "      <td>Rengar</td>\n",
       "      <td>No Ban</td>\n",
       "      <td>No Ban</td>\n",
       "      <td>113</td>\n",
       "      <td>205</td>\n",
       "      <td>-574</td>\n",
       "      <td>478.0</td>\n",
       "      <td>5404</td>\n",
       "      <td>11943</td>\n",
       "      <td>19426</td>\n",
       "      <td>27472.0</td>\n",
       "      <td>5291</td>\n",
       "      <td>11738</td>\n",
       "      <td>20000</td>\n",
       "      <td>26994.0</td>\n",
       "      <td>1038</td>\n",
       "      <td>2446</td>\n",
       "      <td>4020</td>\n",
       "      <td>5920.0</td>\n",
       "      <td>1174</td>\n",
       "      <td>2272</td>\n",
       "      <td>3696</td>\n",
       "      <td>5154.0</td>\n",
       "      <td>1112</td>\n",
       "      <td>2643</td>\n",
       "      <td>4157</td>\n",
       "      <td>6003.0</td>\n",
       "      <td>1203</td>\n",
       "      <td>2907</td>\n",
       "      <td>4933</td>\n",
       "      <td>6675.0</td>\n",
       "      <td>877</td>\n",
       "      <td>1675</td>\n",
       "      <td>2620</td>\n",
       "      <td>3720.0</td>\n",
       "      <td>1025</td>\n",
       "      <td>2523</td>\n",
       "      <td>4284</td>\n",
       "      <td>6153.0</td>\n",
       "      <td>1220</td>\n",
       "      <td>2576</td>\n",
       "      <td>4353</td>\n",
       "      <td>5570.0</td>\n",
       "      <td>1042</td>\n",
       "      <td>2443</td>\n",
       "      <td>4321</td>\n",
       "      <td>6014.0</td>\n",
       "      <td>1187</td>\n",
       "      <td>2622</td>\n",
       "      <td>4459</td>\n",
       "      <td>5859.0</td>\n",
       "      <td>817</td>\n",
       "      <td>1574</td>\n",
       "      <td>2583</td>\n",
       "      <td>3398.0</td>\n",
       "      <td>2.0</td>\n",
       "      <td>3.0</td>\n",
       "      <td>0.0</td>\n",
       "      <td>0.0</td>\n",
       "      <td>1.0</td>\n",
       "      <td>1.0</td>\n",
       "      <td>Blue</td>\n",
       "      <td>Red</td>\n",
       "    </tr>\n",
       "  </tbody>\n",
       "</table>\n",
       "</div>"
      ],
      "text/plain": [
       "                                                Info                       \\\n",
       "                                             Address League  Year  Season   \n",
       "0  http://matchhistory.na.leagueoflegends.com/en/...  NALCS  2015  Spring   \n",
       "1  http://matchhistory.na.leagueoflegends.com/en/...  NALCS  2015  Spring   \n",
       "2  http://matchhistory.na.leagueoflegends.com/en/...  NALCS  2015  Spring   \n",
       "3  http://matchhistory.na.leagueoflegends.com/en/...  NALCS  2015  Spring   \n",
       "4  http://matchhistory.na.leagueoflegends.com/en/...  NALCS  2015  Spring   \n",
       "\n",
       "                                Blue                                 \\\n",
       "  GameType gamelength Winner TeamTag      Top  TopChamp      Jungle   \n",
       "0   Season         40   Blue     TSM    Dyrus    Irelia    Santorin   \n",
       "1   Season         38    Red     CST     Cris      Gnar     Impaler   \n",
       "2   Season         40   Blue     WFX  Flaresz  Renekton  ShorterACE   \n",
       "3   Season         41    Red     TIP     Rhux    Irelia        Rush   \n",
       "4   Season         35   Blue     CLG    Benny      Gnar     Xmithie   \n",
       "\n",
       "                                                                        \\\n",
       "  JungleChamp       Middle MiddleChamp         ADC  ADCChamp   Support   \n",
       "0      RekSai     Bjergsen        Ahri  WildTurtle      Jinx   Lustboy   \n",
       "1      Rengar        Jesiz        Ahri        Mash   Caitlyn     Sheep   \n",
       "2      Rengar     Pobelter        Fizz       Altec     Sivir     Gleeb   \n",
       "3    JarvanIV  XiaoWeiXiao     Leblanc      Apollo     Sivir    Adrian   \n",
       "4    JarvanIV         Link   Lissandra  Doublelift  Tristana  aphromoo   \n",
       "\n",
       "                   Red                                                  \\\n",
       "  SupportChamp TeamTag          Top TopChamp        Jungle JungleChamp   \n",
       "0        Janna      C9        Balls     Gnar        Meteos       Elise   \n",
       "1        Leona     DIG        Gamsu   Irelia       Crumbzz    JarvanIV   \n",
       "2        Annie      GV     Hauntzer     Sion  Saintvicious      LeeSin   \n",
       "3       Thresh      TL         Quas     Gnar    IWDominate        Nunu   \n",
       "4        Janna      T8  CaliTrlolz8     Sion     Porpoise8      RekSai   \n",
       "\n",
       "                                                                          \\\n",
       "     Middle MiddleChamp           ADC ADCChamp      Support SupportChamp   \n",
       "0       Hai        Fizz        Sneaky    Sivir  LemonNation       Thresh   \n",
       "1  Shiphtur        Azir        CoreJJ    Corki      KiWiKiD        Annie   \n",
       "2     Keane        Azir           Cop    Corki   BunnyFuFuu        Janna   \n",
       "3     Fenix        Lulu         KEITH   KogMaw      Xpecial        Janna   \n",
       "4  Slooshi8        Lulu  Maplestreet8    Corki        Dodo8        Annie   \n",
       "\n",
       "       Blue                                             Red                    \\\n",
       "      ban_1      ban_2      ban_3   ban_4   ban_5     ban_1    ban_2    ban_3   \n",
       "0    Rumble   Kassadin  Lissandra  No Ban  No Ban  Tristana  Leblanc  Nidalee   \n",
       "1  Kassadin      Sivir  Lissandra  No Ban  No Ban    RekSai    Janna  Leblanc   \n",
       "2  JarvanIV  Lissandra   Kassadin  No Ban  No Ban   Leblanc      Zed   RekSai   \n",
       "3     Annie  Lissandra   Kassadin  No Ban  No Ban    RekSai   Rumble   LeeSin   \n",
       "4    Irelia   Pantheon   Kassadin  No Ban  No Ban    Rumble    Sivir   Rengar   \n",
       "\n",
       "                  golddiff                       goldblue                \\\n",
       "    ban_4   ban_5    min_5 min_10 min_15  min_20    min_5 min_10 min_15   \n",
       "0  No Ban  No Ban     -268   -625   -790  1422.0     5068  11361  18324   \n",
       "1  No Ban  No Ban      147   -242   1394  1105.0     5511  11419  19698   \n",
       "2  No Ban  No Ban       34    913   2922  5293.0     4933  12374  21237   \n",
       "3  No Ban  No Ban      228     16   -335   768.0     5398  12033  19332   \n",
       "4  No Ban  No Ban      113    205   -574   478.0     5404  11943  19426   \n",
       "\n",
       "           goldred                        goldblueTop                        \\\n",
       "    min_20   min_5 min_10 min_15   min_20       min_5 min_10 min_15  min_20   \n",
       "0  29519.0    5336  11986  19114  28097.0         893   2051   3630  6008.0   \n",
       "1  27282.0    5364  11661  18304  26177.0        1127   2406   4594  6217.0   \n",
       "2  31317.0    4899  11461  18315  26024.0         828   2419   4187  6478.0   \n",
       "3  25772.0    5170  12017  19667  25004.0         992   2662   4296  5544.0   \n",
       "4  27472.0    5291  11738  20000  26994.0        1038   2446   4020  5920.0   \n",
       "\n",
       "  goldblueJungle                       goldblueMiddle                        \\\n",
       "           min_5 min_10 min_15  min_20          min_5 min_10 min_15  min_20   \n",
       "0           1049   2486   3632  5799.0           1102   2663   4608  7308.0   \n",
       "1           1176   2350   3929  5205.0           1102   2547   4549  6341.0   \n",
       "2           1041   2552   4026  5321.0           1065   2865   4861  6777.0   \n",
       "3           1272   2390   3627  4867.0           1066   2533   4378  5722.0   \n",
       "4           1174   2272   3696  5154.0           1112   2643   4157  6003.0   \n",
       "\n",
       "  goldblueADC                       goldblueSupport                        \\\n",
       "        min_5 min_10 min_15  min_20           min_5 min_10 min_15  min_20   \n",
       "0        1127   2495   4051  6359.0             897   1666   2403  4045.0   \n",
       "1        1182   2415   3869  5695.0             924   1701   2757  3824.0   \n",
       "2        1130   2723   4899  7580.0             869   1815   3264  5161.0   \n",
       "3        1202   2756   4555  6305.0             866   1692   2476  3334.0   \n",
       "4        1203   2907   4933  6675.0             877   1675   2620  3720.0   \n",
       "\n",
       "  goldredTop                       goldredJungle                        \\\n",
       "       min_5 min_10 min_15  min_20         min_5 min_10 min_15  min_20   \n",
       "0        958   2587   4377  6539.0          1192   2555   4099  6194.0   \n",
       "1       1042   2346   3770  5424.0          1105   2285   3415  4429.0   \n",
       "2        861   2113   3532  5356.0          1089   2454   3971  5338.0   \n",
       "3        922   2390   3785  4800.0          1171   2937   4646  5620.0   \n",
       "4       1025   2523   4284  6153.0          1220   2576   4353  5570.0   \n",
       "\n",
       "  goldredMiddle                       goldredADC                        \\\n",
       "          min_5 min_10 min_15  min_20      min_5 min_10 min_15  min_20   \n",
       "0          1178   2561   4043  5550.0       1097   2621   4149  6374.0   \n",
       "1          1097   2601   4418  6217.0       1220   2670   4061  6364.0   \n",
       "2          1006   2254   3578  5491.0       1085   2854   4582  6268.0   \n",
       "3          1046   2468   4420  5649.0       1161   2568   4243  5431.0   \n",
       "4          1042   2443   4321  6014.0       1187   2622   4459  5859.0   \n",
       "\n",
       "  goldredSupport                         Blue    Red  Blue   Red  Blue   Red  \\\n",
       "           min_5 min_10 min_15  min_20 Towers Towers Inhib Inhib Kills Kills   \n",
       "0            911   1662   2446  3440.0    4.0    2.0   0.0   0.0   4.0   3.0   \n",
       "1            900   1759   2640  3743.0    1.0    2.0   0.0   0.0   5.0   3.0   \n",
       "2            858   1786   2652  3571.0    3.0    0.0   0.0   0.0  11.0   6.0   \n",
       "3            870   1654   2573  3504.0    2.0    1.0   0.0   0.0   5.0   5.0   \n",
       "4            817   1574   2583  3398.0    2.0    3.0   0.0   0.0   1.0   1.0   \n",
       "\n",
       "        Info             \n",
       "  FirstBlood FirstTower  \n",
       "0       Blue       Blue  \n",
       "1       Blue        Red  \n",
       "2       Blue       Blue  \n",
       "3        Red       Blue  \n",
       "4       Blue        Red  "
      ]
     },
     "execution_count": 8,
     "metadata": {},
     "output_type": "execute_result"
    }
   ],
   "source": [
    "lol_df = pd.read_csv(\"../clean_data/data.csv\", header=[0,1],index_col=[0])\n",
    "lol_df = lol_df[lol_df['golddiff','min_20'].notna()] #get rid of NA\n",
    "lol_df = lol_df.fillna('No Ban') # Indicate where there was no ban\n",
    "print(lol_df.shape)\n",
    "lol_df.head()"
   ]
  },
  {
   "cell_type": "markdown",
   "id": "c1bc00d0",
   "metadata": {},
   "source": [
    "# 3) Decision tree classification"
   ]
  },
  {
   "cell_type": "markdown",
   "id": "e9e2ee64",
   "metadata": {},
   "source": [
    "Set up the model. Note that the min-max scaling is unnecessary for decision tree/random forest, just good practice."
   ]
  },
  {
   "cell_type": "code",
   "execution_count": 9,
   "id": "64ed966f",
   "metadata": {},
   "outputs": [],
   "source": [
    "model = DecisionTreeClassifier(random_state=20220905)"
   ]
  },
  {
   "cell_type": "markdown",
   "id": "69afcad6",
   "metadata": {},
   "source": [
    "Split training and test data with bResult as the target variable."
   ]
  },
  {
   "cell_type": "code",
   "execution_count": 10,
   "id": "f37fad2d",
   "metadata": {},
   "outputs": [],
   "source": [
    "X_lol = lol_df.drop([('Info','Winner')], axis=1)\n",
    "y_lol = lol_df[('Info','Winner')]\n",
    "\n",
    "X_train, X_test, y_train, y_test = train_test_split(\n",
    "    X_lol, y_lol, test_size=0.2, random_state=20220905, stratify=y_lol)"
   ]
  },
  {
   "cell_type": "markdown",
   "id": "ab05372f",
   "metadata": {},
   "source": [
    "Set up column transformer: one-hot encoding for categorical vars, min-max scaling for numeric vars. Here we have to set handle unknowns to 'ignore' because there may be different unique champions in the test and training datasets."
   ]
  },
  {
   "cell_type": "code",
   "execution_count": 11,
   "id": "949142b9",
   "metadata": {},
   "outputs": [],
   "source": [
    "CATEGORICAL_VARS=[('Info','League'), ('Info','Year'), ('Info','Season'), ('Info','GameType'), \n",
    "                  ('Blue', 'Top'), ('Blue','TopChamp'), ('Blue','Jungle'), ('Blue','JungleChamp'),\n",
    "                  ('Blue','Middle'), ('Blue','MiddleChamp'), ('Blue', 'ADC'), ('Blue','ADCChamp'),\n",
    "                  ('Blue', 'Support'), ('Blue', 'SupportChamp'), ('Blue', 'TeamTag'),\n",
    "                  ( 'Red', 'Top'), ( 'Red','TopChamp'), ( 'Red','Jungle'), ( 'Red','JungleChamp'), \n",
    "                  ( 'Red','Middle'),( 'Red','MiddleChamp'), ( 'Red', 'ADC'), ( 'Red','ADCChamp'), \n",
    "                  ( 'Red', 'Support'),( 'Red', 'SupportChamp'), ( 'Red', 'TeamTag'), \n",
    "                  ('Blue', 'ban_1'), ('Blue', 'ban_2'), ('Blue', 'ban_3'), ('Blue', 'ban_4'), ('Blue', 'ban_5'),\n",
    "                  ( 'Red', 'ban_1'), ( 'Red', 'ban_2'), ( 'Red', 'ban_3'), ( 'Red', 'ban_4'), ( 'Red', 'ban_5')]\n",
    "\n",
    "NUMERIC_VARS=[('Info','gamelength'), \n",
    "              ('golddiff','min_5'),('golddiff','min_10'),('golddiff','min_15'),('golddiff','min_20'),\n",
    "              ('goldblue','min_5'),('goldblue','min_10'),('goldblue','min_15'),('goldblue','min_20'),\n",
    "              ('goldred','min_5'),('goldred','min_10'),('goldred','min_15'), ('goldred','min_20'),\n",
    "              ('goldblueTop','min_5'),('goldblueTop','min_10'),('goldblueTop','min_15'),('goldblueTop','min_20'),\n",
    "              ('goldblueJungle','min_5'),('goldblueJungle','min_10'),('goldblueJungle','min_15'),('goldblueJungle','min_20'),\n",
    "              ('goldblueMiddle','min_5'),('goldblueMiddle','min_10'),('goldblueMiddle','min_15'),('goldblueMiddle','min_20'),\n",
    "              ('goldblueADC','min_5'),('goldblueADC','min_10'),('goldblueADC','min_15'), ('goldblueADC','min_20'),\n",
    "              ('goldblueSupport','min_5'),('goldblueSupport','min_10'), ('goldblueSupport','min_15'),('goldblueSupport','min_20'),\n",
    "              ('goldredTop','min_5'),('goldredTop','min_10'),('goldredTop','min_15'),('goldredTop','min_20'),\n",
    "              ('goldredJungle','min_5'),('goldredJungle','min_10'),('goldredJungle','min_15'),('goldredJungle','min_20'),\n",
    "              ('goldredMiddle','min_5'),('goldredMiddle','min_10'),('goldredMiddle','min_15'),('goldredMiddle','min_20'),\n",
    "              ('goldredADC','min_5'),('goldredADC','min_10'),('goldredADC','min_15'),('goldredADC','min_20'),\n",
    "              ('goldredSupport','min_5'),('goldredSupport','min_10'),('goldredSupport','min_15'),('goldredSupport','min_20'),\n",
    "              ('Blue','Towers'),('Red','Towers'),('Blue','Inhib'),('Red','Inhib'),('Blue','Kills'),('Red','Kills')]\n",
    "\n",
    "ohe = OneHotEncoder(drop='first', handle_unknown='ignore')\n",
    "\n",
    "columns = ColumnTransformer([('category', ohe, CATEGORICAL_VARS), \n",
    "                             ('numeric', MinMaxScaler(), NUMERIC_VARS)],\n",
    "                             remainder='drop')"
   ]
  },
  {
   "cell_type": "markdown",
   "id": "428abde5",
   "metadata": {},
   "source": [
    "Set up the pipeline"
   ]
  },
  {
   "cell_type": "code",
   "execution_count": 12,
   "id": "a4ec6efa",
   "metadata": {},
   "outputs": [],
   "source": [
    "selector = SelectKBest(score_func=chi2, k=20)"
   ]
  },
  {
   "cell_type": "code",
   "execution_count": 13,
   "id": "72b61114",
   "metadata": {},
   "outputs": [],
   "source": [
    "data_pipe = Pipeline(steps=[('preprocess', columns), ('filter', selector)])"
   ]
  },
  {
   "cell_type": "code",
   "execution_count": 14,
   "id": "e8ec021b",
   "metadata": {},
   "outputs": [],
   "source": [
    "pipe = Pipeline(steps=[('data',data_pipe), ('model', model)])"
   ]
  },
  {
   "cell_type": "code",
   "execution_count": 15,
   "id": "e1a61543",
   "metadata": {},
   "outputs": [],
   "source": [
    "param_grid = {\n",
    "    'model__criterion': ['gini', 'entropy'],\n",
    "    'model__max_depth': [3,4,5,6,7,8],\n",
    "    'model__min_samples_leaf': [2,3,4]\n",
    "}\n",
    "\n",
    "skf = StratifiedKFold(n_splits=8, shuffle=True, random_state=20220914)\n",
    "\n",
    "grid_search = GridSearchCV(pipe, param_grid=param_grid, cv=skf, verbose=2)"
   ]
  },
  {
   "cell_type": "code",
   "execution_count": null,
   "id": "0bcfe596",
   "metadata": {
    "scrolled": true
   },
   "outputs": [
    {
     "name": "stdout",
     "output_type": "stream",
     "text": [
      "Fitting 8 folds for each of 36 candidates, totalling 288 fits\n"
     ]
    },
    {
     "name": "stderr",
     "output_type": "stream",
     "text": [
      "/Library/Frameworks/Python.framework/Versions/3.10/lib/python3.10/site-packages/sklearn/preprocessing/_encoders.py:188: UserWarning: Found unknown categories in columns [4, 5, 6, 7, 8, 9, 10, 11, 12, 14, 15, 16, 17, 18, 19, 20, 21, 22, 23, 24, 25, 27, 28, 29, 30, 31, 34, 35] during transform. These unknown categories will be encoded as all zeros\n",
      "  warnings.warn(\n"
     ]
    },
    {
     "name": "stdout",
     "output_type": "stream",
     "text": [
      "[CV] END model__criterion=gini, model__max_depth=3, model__min_samples_leaf=2; total time=   0.2s\n"
     ]
    },
    {
     "name": "stderr",
     "output_type": "stream",
     "text": [
      "/Library/Frameworks/Python.framework/Versions/3.10/lib/python3.10/site-packages/sklearn/preprocessing/_encoders.py:188: UserWarning: Found unknown categories in columns [4, 5, 6, 7, 8, 9, 10, 12, 13, 14, 15, 16, 17, 18, 19, 20, 21, 22, 23, 24, 25, 26, 28, 29, 30, 31, 32, 33, 34, 35] during transform. These unknown categories will be encoded as all zeros\n",
      "  warnings.warn(\n"
     ]
    },
    {
     "name": "stdout",
     "output_type": "stream",
     "text": [
      "[CV] END model__criterion=gini, model__max_depth=3, model__min_samples_leaf=2; total time=   0.2s\n"
     ]
    },
    {
     "name": "stderr",
     "output_type": "stream",
     "text": [
      "/Library/Frameworks/Python.framework/Versions/3.10/lib/python3.10/site-packages/sklearn/preprocessing/_encoders.py:188: UserWarning: Found unknown categories in columns [4, 5, 6, 7, 8, 9, 10, 12, 13, 14, 15, 16, 17, 18, 19, 20, 21, 23, 24, 25, 26, 29, 30, 31, 32, 33, 34, 35] during transform. These unknown categories will be encoded as all zeros\n",
      "  warnings.warn(\n"
     ]
    },
    {
     "name": "stdout",
     "output_type": "stream",
     "text": [
      "[CV] END model__criterion=gini, model__max_depth=3, model__min_samples_leaf=2; total time=   0.2s\n"
     ]
    },
    {
     "name": "stderr",
     "output_type": "stream",
     "text": [
      "/Library/Frameworks/Python.framework/Versions/3.10/lib/python3.10/site-packages/sklearn/preprocessing/_encoders.py:188: UserWarning: Found unknown categories in columns [4, 5, 6, 7, 8, 10, 11, 12, 13, 14, 15, 16, 17, 18, 19, 20, 21, 22, 23, 24, 26, 27, 28, 29, 30, 31, 33, 34, 35] during transform. These unknown categories will be encoded as all zeros\n",
      "  warnings.warn(\n"
     ]
    },
    {
     "name": "stdout",
     "output_type": "stream",
     "text": [
      "[CV] END model__criterion=gini, model__max_depth=3, model__min_samples_leaf=2; total time=   0.2s\n"
     ]
    },
    {
     "name": "stderr",
     "output_type": "stream",
     "text": [
      "/Library/Frameworks/Python.framework/Versions/3.10/lib/python3.10/site-packages/sklearn/preprocessing/_encoders.py:188: UserWarning: Found unknown categories in columns [4, 5, 6, 7, 8, 9, 10, 11, 12, 13, 14, 15, 16, 17, 18, 19, 20, 21, 23, 24, 25, 26, 28, 29, 30, 31, 33, 34, 35] during transform. These unknown categories will be encoded as all zeros\n",
      "  warnings.warn(\n"
     ]
    },
    {
     "name": "stdout",
     "output_type": "stream",
     "text": [
      "[CV] END model__criterion=gini, model__max_depth=3, model__min_samples_leaf=2; total time=   0.2s\n"
     ]
    },
    {
     "name": "stderr",
     "output_type": "stream",
     "text": [
      "/Library/Frameworks/Python.framework/Versions/3.10/lib/python3.10/site-packages/sklearn/preprocessing/_encoders.py:188: UserWarning: Found unknown categories in columns [4, 6, 7, 8, 9, 10, 11, 12, 13, 14, 15, 16, 17, 19, 20, 21, 23, 24, 25, 26, 28, 32, 33, 34, 35] during transform. These unknown categories will be encoded as all zeros\n",
      "  warnings.warn(\n"
     ]
    },
    {
     "name": "stdout",
     "output_type": "stream",
     "text": [
      "[CV] END model__criterion=gini, model__max_depth=3, model__min_samples_leaf=2; total time=   0.2s\n"
     ]
    },
    {
     "name": "stderr",
     "output_type": "stream",
     "text": [
      "/Library/Frameworks/Python.framework/Versions/3.10/lib/python3.10/site-packages/sklearn/preprocessing/_encoders.py:188: UserWarning: Found unknown categories in columns [4, 5, 6, 7, 8, 9, 10, 12, 14, 15, 17, 19, 20, 21, 23, 25, 26, 27, 28, 29, 30, 32, 33, 34, 35] during transform. These unknown categories will be encoded as all zeros\n",
      "  warnings.warn(\n"
     ]
    },
    {
     "name": "stdout",
     "output_type": "stream",
     "text": [
      "[CV] END model__criterion=gini, model__max_depth=3, model__min_samples_leaf=2; total time=   0.2s\n"
     ]
    },
    {
     "name": "stderr",
     "output_type": "stream",
     "text": [
      "/Library/Frameworks/Python.framework/Versions/3.10/lib/python3.10/site-packages/sklearn/preprocessing/_encoders.py:188: UserWarning: Found unknown categories in columns [4, 5, 6, 8, 9, 10, 12, 14, 15, 16, 17, 19, 20, 21, 22, 23, 24, 25, 26, 27, 28, 29, 30, 31, 33, 34, 35] during transform. These unknown categories will be encoded as all zeros\n",
      "  warnings.warn(\n"
     ]
    },
    {
     "name": "stdout",
     "output_type": "stream",
     "text": [
      "[CV] END model__criterion=gini, model__max_depth=3, model__min_samples_leaf=2; total time=   0.2s\n"
     ]
    },
    {
     "name": "stderr",
     "output_type": "stream",
     "text": [
      "/Library/Frameworks/Python.framework/Versions/3.10/lib/python3.10/site-packages/sklearn/preprocessing/_encoders.py:188: UserWarning: Found unknown categories in columns [4, 5, 6, 7, 8, 9, 10, 11, 12, 14, 15, 16, 17, 18, 19, 20, 21, 22, 23, 24, 25, 27, 28, 29, 30, 31, 34, 35] during transform. These unknown categories will be encoded as all zeros\n",
      "  warnings.warn(\n",
      "/Library/Frameworks/Python.framework/Versions/3.10/lib/python3.10/site-packages/sklearn/preprocessing/_encoders.py:188: UserWarning: Found unknown categories in columns [4, 5, 6, 7, 8, 9, 10, 12, 13, 14, 15, 16, 17, 18, 19, 20, 21, 22, 23, 24, 25, 26, 28, 29, 30, 31, 32, 33, 34, 35] during transform. These unknown categories will be encoded as all zeros\n",
      "  warnings.warn(\n"
     ]
    },
    {
     "name": "stdout",
     "output_type": "stream",
     "text": [
      "[CV] END model__criterion=gini, model__max_depth=3, model__min_samples_leaf=3; total time=   0.2s\n",
      "[CV] END model__criterion=gini, model__max_depth=3, model__min_samples_leaf=3; total time=   0.2s\n"
     ]
    },
    {
     "name": "stderr",
     "output_type": "stream",
     "text": [
      "/Library/Frameworks/Python.framework/Versions/3.10/lib/python3.10/site-packages/sklearn/preprocessing/_encoders.py:188: UserWarning: Found unknown categories in columns [4, 5, 6, 7, 8, 9, 10, 12, 13, 14, 15, 16, 17, 18, 19, 20, 21, 23, 24, 25, 26, 29, 30, 31, 32, 33, 34, 35] during transform. These unknown categories will be encoded as all zeros\n",
      "  warnings.warn(\n"
     ]
    },
    {
     "name": "stdout",
     "output_type": "stream",
     "text": [
      "[CV] END model__criterion=gini, model__max_depth=3, model__min_samples_leaf=3; total time=   0.2s\n"
     ]
    },
    {
     "name": "stderr",
     "output_type": "stream",
     "text": [
      "/Library/Frameworks/Python.framework/Versions/3.10/lib/python3.10/site-packages/sklearn/preprocessing/_encoders.py:188: UserWarning: Found unknown categories in columns [4, 5, 6, 7, 8, 10, 11, 12, 13, 14, 15, 16, 17, 18, 19, 20, 21, 22, 23, 24, 26, 27, 28, 29, 30, 31, 33, 34, 35] during transform. These unknown categories will be encoded as all zeros\n",
      "  warnings.warn(\n"
     ]
    },
    {
     "name": "stdout",
     "output_type": "stream",
     "text": [
      "[CV] END model__criterion=gini, model__max_depth=3, model__min_samples_leaf=3; total time=   0.2s\n"
     ]
    },
    {
     "name": "stderr",
     "output_type": "stream",
     "text": [
      "/Library/Frameworks/Python.framework/Versions/3.10/lib/python3.10/site-packages/sklearn/preprocessing/_encoders.py:188: UserWarning: Found unknown categories in columns [4, 5, 6, 7, 8, 9, 10, 11, 12, 13, 14, 15, 16, 17, 18, 19, 20, 21, 23, 24, 25, 26, 28, 29, 30, 31, 33, 34, 35] during transform. These unknown categories will be encoded as all zeros\n",
      "  warnings.warn(\n"
     ]
    },
    {
     "name": "stdout",
     "output_type": "stream",
     "text": [
      "[CV] END model__criterion=gini, model__max_depth=3, model__min_samples_leaf=3; total time=   0.2s\n"
     ]
    },
    {
     "name": "stderr",
     "output_type": "stream",
     "text": [
      "/Library/Frameworks/Python.framework/Versions/3.10/lib/python3.10/site-packages/sklearn/preprocessing/_encoders.py:188: UserWarning: Found unknown categories in columns [4, 6, 7, 8, 9, 10, 11, 12, 13, 14, 15, 16, 17, 19, 20, 21, 23, 24, 25, 26, 28, 32, 33, 34, 35] during transform. These unknown categories will be encoded as all zeros\n",
      "  warnings.warn(\n",
      "/Library/Frameworks/Python.framework/Versions/3.10/lib/python3.10/site-packages/sklearn/preprocessing/_encoders.py:188: UserWarning: Found unknown categories in columns [4, 5, 6, 7, 8, 9, 10, 12, 14, 15, 17, 19, 20, 21, 23, 25, 26, 27, 28, 29, 30, 32, 33, 34, 35] during transform. These unknown categories will be encoded as all zeros\n",
      "  warnings.warn(\n"
     ]
    },
    {
     "name": "stdout",
     "output_type": "stream",
     "text": [
      "[CV] END model__criterion=gini, model__max_depth=3, model__min_samples_leaf=3; total time=   0.2s\n",
      "[CV] END model__criterion=gini, model__max_depth=3, model__min_samples_leaf=3; total time=   0.2s\n"
     ]
    },
    {
     "name": "stderr",
     "output_type": "stream",
     "text": [
      "/Library/Frameworks/Python.framework/Versions/3.10/lib/python3.10/site-packages/sklearn/preprocessing/_encoders.py:188: UserWarning: Found unknown categories in columns [4, 5, 6, 8, 9, 10, 12, 14, 15, 16, 17, 19, 20, 21, 22, 23, 24, 25, 26, 27, 28, 29, 30, 31, 33, 34, 35] during transform. These unknown categories will be encoded as all zeros\n",
      "  warnings.warn(\n",
      "/Library/Frameworks/Python.framework/Versions/3.10/lib/python3.10/site-packages/sklearn/preprocessing/_encoders.py:188: UserWarning: Found unknown categories in columns [4, 5, 6, 7, 8, 9, 10, 11, 12, 14, 15, 16, 17, 18, 19, 20, 21, 22, 23, 24, 25, 27, 28, 29, 30, 31, 34, 35] during transform. These unknown categories will be encoded as all zeros\n",
      "  warnings.warn(\n"
     ]
    },
    {
     "name": "stdout",
     "output_type": "stream",
     "text": [
      "[CV] END model__criterion=gini, model__max_depth=3, model__min_samples_leaf=3; total time=   0.2s\n",
      "[CV] END model__criterion=gini, model__max_depth=3, model__min_samples_leaf=4; total time=   0.2s\n"
     ]
    },
    {
     "name": "stderr",
     "output_type": "stream",
     "text": [
      "/Library/Frameworks/Python.framework/Versions/3.10/lib/python3.10/site-packages/sklearn/preprocessing/_encoders.py:188: UserWarning: Found unknown categories in columns [4, 5, 6, 7, 8, 9, 10, 12, 13, 14, 15, 16, 17, 18, 19, 20, 21, 22, 23, 24, 25, 26, 28, 29, 30, 31, 32, 33, 34, 35] during transform. These unknown categories will be encoded as all zeros\n",
      "  warnings.warn(\n",
      "/Library/Frameworks/Python.framework/Versions/3.10/lib/python3.10/site-packages/sklearn/preprocessing/_encoders.py:188: UserWarning: Found unknown categories in columns [4, 5, 6, 7, 8, 9, 10, 12, 13, 14, 15, 16, 17, 18, 19, 20, 21, 23, 24, 25, 26, 29, 30, 31, 32, 33, 34, 35] during transform. These unknown categories will be encoded as all zeros\n",
      "  warnings.warn(\n"
     ]
    },
    {
     "name": "stdout",
     "output_type": "stream",
     "text": [
      "[CV] END model__criterion=gini, model__max_depth=3, model__min_samples_leaf=4; total time=   0.2s\n",
      "[CV] END model__criterion=gini, model__max_depth=3, model__min_samples_leaf=4; total time=   0.2s\n"
     ]
    },
    {
     "name": "stderr",
     "output_type": "stream",
     "text": [
      "/Library/Frameworks/Python.framework/Versions/3.10/lib/python3.10/site-packages/sklearn/preprocessing/_encoders.py:188: UserWarning: Found unknown categories in columns [4, 5, 6, 7, 8, 10, 11, 12, 13, 14, 15, 16, 17, 18, 19, 20, 21, 22, 23, 24, 26, 27, 28, 29, 30, 31, 33, 34, 35] during transform. These unknown categories will be encoded as all zeros\n",
      "  warnings.warn(\n",
      "/Library/Frameworks/Python.framework/Versions/3.10/lib/python3.10/site-packages/sklearn/preprocessing/_encoders.py:188: UserWarning: Found unknown categories in columns [4, 5, 6, 7, 8, 9, 10, 11, 12, 13, 14, 15, 16, 17, 18, 19, 20, 21, 23, 24, 25, 26, 28, 29, 30, 31, 33, 34, 35] during transform. These unknown categories will be encoded as all zeros\n",
      "  warnings.warn(\n"
     ]
    },
    {
     "name": "stdout",
     "output_type": "stream",
     "text": [
      "[CV] END model__criterion=gini, model__max_depth=3, model__min_samples_leaf=4; total time=   0.2s\n",
      "[CV] END model__criterion=gini, model__max_depth=3, model__min_samples_leaf=4; total time=   0.2s\n"
     ]
    },
    {
     "name": "stderr",
     "output_type": "stream",
     "text": [
      "/Library/Frameworks/Python.framework/Versions/3.10/lib/python3.10/site-packages/sklearn/preprocessing/_encoders.py:188: UserWarning: Found unknown categories in columns [4, 6, 7, 8, 9, 10, 11, 12, 13, 14, 15, 16, 17, 19, 20, 21, 23, 24, 25, 26, 28, 32, 33, 34, 35] during transform. These unknown categories will be encoded as all zeros\n",
      "  warnings.warn(\n",
      "/Library/Frameworks/Python.framework/Versions/3.10/lib/python3.10/site-packages/sklearn/preprocessing/_encoders.py:188: UserWarning: Found unknown categories in columns [4, 5, 6, 7, 8, 9, 10, 12, 14, 15, 17, 19, 20, 21, 23, 25, 26, 27, 28, 29, 30, 32, 33, 34, 35] during transform. These unknown categories will be encoded as all zeros\n",
      "  warnings.warn(\n"
     ]
    },
    {
     "name": "stdout",
     "output_type": "stream",
     "text": [
      "[CV] END model__criterion=gini, model__max_depth=3, model__min_samples_leaf=4; total time=   0.2s\n",
      "[CV] END model__criterion=gini, model__max_depth=3, model__min_samples_leaf=4; total time=   0.2s\n"
     ]
    },
    {
     "name": "stderr",
     "output_type": "stream",
     "text": [
      "/Library/Frameworks/Python.framework/Versions/3.10/lib/python3.10/site-packages/sklearn/preprocessing/_encoders.py:188: UserWarning: Found unknown categories in columns [4, 5, 6, 8, 9, 10, 12, 14, 15, 16, 17, 19, 20, 21, 22, 23, 24, 25, 26, 27, 28, 29, 30, 31, 33, 34, 35] during transform. These unknown categories will be encoded as all zeros\n",
      "  warnings.warn(\n",
      "/Library/Frameworks/Python.framework/Versions/3.10/lib/python3.10/site-packages/sklearn/preprocessing/_encoders.py:188: UserWarning: Found unknown categories in columns [4, 5, 6, 7, 8, 9, 10, 11, 12, 14, 15, 16, 17, 18, 19, 20, 21, 22, 23, 24, 25, 27, 28, 29, 30, 31, 34, 35] during transform. These unknown categories will be encoded as all zeros\n",
      "  warnings.warn(\n"
     ]
    },
    {
     "name": "stdout",
     "output_type": "stream",
     "text": [
      "[CV] END model__criterion=gini, model__max_depth=3, model__min_samples_leaf=4; total time=   0.2s\n",
      "[CV] END model__criterion=gini, model__max_depth=4, model__min_samples_leaf=2; total time=   0.2s\n"
     ]
    },
    {
     "name": "stderr",
     "output_type": "stream",
     "text": [
      "/Library/Frameworks/Python.framework/Versions/3.10/lib/python3.10/site-packages/sklearn/preprocessing/_encoders.py:188: UserWarning: Found unknown categories in columns [4, 5, 6, 7, 8, 9, 10, 12, 13, 14, 15, 16, 17, 18, 19, 20, 21, 22, 23, 24, 25, 26, 28, 29, 30, 31, 32, 33, 34, 35] during transform. These unknown categories will be encoded as all zeros\n",
      "  warnings.warn(\n",
      "/Library/Frameworks/Python.framework/Versions/3.10/lib/python3.10/site-packages/sklearn/preprocessing/_encoders.py:188: UserWarning: Found unknown categories in columns [4, 5, 6, 7, 8, 9, 10, 12, 13, 14, 15, 16, 17, 18, 19, 20, 21, 23, 24, 25, 26, 29, 30, 31, 32, 33, 34, 35] during transform. These unknown categories will be encoded as all zeros\n",
      "  warnings.warn(\n"
     ]
    },
    {
     "name": "stdout",
     "output_type": "stream",
     "text": [
      "[CV] END model__criterion=gini, model__max_depth=4, model__min_samples_leaf=2; total time=   0.2s\n",
      "[CV] END model__criterion=gini, model__max_depth=4, model__min_samples_leaf=2; total time=   0.2s\n"
     ]
    }
   ],
   "source": [
    "grid_search.fit(X_train, y_train)"
   ]
  },
  {
   "cell_type": "code",
   "execution_count": null,
   "id": "c0591913",
   "metadata": {},
   "outputs": [],
   "source": [
    "params = grid_search.cv_results_['params']\n",
    "scores = grid_search.cv_results_['mean_test_score']\n",
    "rows = [dict(param_dict, score=score) for param_dict, score in zip(params, scores)]"
   ]
  },
  {
   "cell_type": "code",
   "execution_count": null,
   "id": "77ab3669",
   "metadata": {},
   "outputs": [],
   "source": [
    "rows"
   ]
  },
  {
   "cell_type": "code",
   "execution_count": null,
   "id": "bbf8efb5",
   "metadata": {},
   "outputs": [],
   "source": [
    "results_df = pd.DataFrame(rows)\n",
    "results_df.columns = ['Criterion', 'Max Depth', 'Min Sample Leaf', 'Accuracy']\n",
    "results_df.head()"
   ]
  },
  {
   "cell_type": "code",
   "execution_count": null,
   "id": "793ee530",
   "metadata": {
    "scrolled": false
   },
   "outputs": [],
   "source": [
    "sb.set(rc={\"figure.figsize\":(6, 4)})\n",
    "DT_Grid_plot = sb.lineplot(data=results_df, x='Max Depth', y='Accuracy',\n",
    "                           hue='Min Sample Leaf', style = 'Criterion', palette = 'bright')\n",
    "DT_Grid_plot.set(title = 'Decision Tree Model Parameters')\n",
    "DT_Grid_plot.get_figure().savefig('../plots/DecisionTree_GridSearch_Combined.png')"
   ]
  },
  {
   "cell_type": "code",
   "execution_count": null,
   "id": "16997d56",
   "metadata": {
    "scrolled": true
   },
   "outputs": [],
   "source": [
    "results_df[results_df['Accuracy'] == max(results_df['Accuracy'])]"
   ]
  },
  {
   "cell_type": "code",
   "execution_count": null,
   "id": "d7e2bd58",
   "metadata": {},
   "outputs": [],
   "source": [
    "model = DecisionTreeClassifier(criterion='entropy', max_depth=3, min_samples_leaf = 4, random_state=20220905)"
   ]
  },
  {
   "cell_type": "code",
   "execution_count": null,
   "id": "288d41cc",
   "metadata": {},
   "outputs": [],
   "source": [
    "pipe = Pipeline(steps=[('data',data_pipe), ('model', model)])"
   ]
  },
  {
   "cell_type": "markdown",
   "id": "06bcfe38-dea0-42c6-a6b8-f568b44e5ba4",
   "metadata": {},
   "source": [
    "Compute cross-validation results for the decision tree. There will be warnings here and throughout because there are champions present in the test dataset that were not in the training dataset."
   ]
  },
  {
   "cell_type": "code",
   "execution_count": null,
   "id": "ea7652e8",
   "metadata": {
    "scrolled": true
   },
   "outputs": [],
   "source": [
    "skf = StratifiedKFold(n_splits=8, shuffle=True, random_state=20220905)\n",
    "\n",
    "scores = cross_val_score(pipe, X_train, y_train, cv=skf, scoring='accuracy', verbose=2)"
   ]
  },
  {
   "cell_type": "markdown",
   "id": "82987332-a296-41af-a6d0-5cc530ba2719",
   "metadata": {},
   "source": [
    "Create a data frame from the scores"
   ]
  },
  {
   "cell_type": "code",
   "execution_count": null,
   "id": "917a29c1",
   "metadata": {},
   "outputs": [],
   "source": [
    "score_tree = pd.DataFrame({'score_tree': scores})\n",
    "score_tree"
   ]
  },
  {
   "cell_type": "markdown",
   "id": "df552c20-ee41-41a0-886b-821bd3520d4e",
   "metadata": {},
   "source": [
    "Plot accuracy for each cross-validation run."
   ]
  },
  {
   "cell_type": "code",
   "execution_count": null,
   "id": "c9bb69cd",
   "metadata": {
    "scrolled": false
   },
   "outputs": [],
   "source": [
    "sb.boxplot(data=score_tree['score_tree'], width = 0.3)"
   ]
  },
  {
   "cell_type": "markdown",
   "id": "fa69bbd0",
   "metadata": {},
   "source": [
    "Fit on all the training data"
   ]
  },
  {
   "cell_type": "code",
   "execution_count": null,
   "id": "3c6fd48f",
   "metadata": {
    "scrolled": true
   },
   "outputs": [],
   "source": [
    "pipe.fit(X_train,y_train)"
   ]
  },
  {
   "cell_type": "markdown",
   "id": "eecd569b",
   "metadata": {},
   "source": [
    "Print accuracy on the training and test data"
   ]
  },
  {
   "cell_type": "code",
   "execution_count": null,
   "id": "88ae59bd",
   "metadata": {
    "scrolled": false
   },
   "outputs": [],
   "source": [
    "DT_acc_cmb = util.print_accuracies(pipe, X_train, y_train, X_test, y_test)"
   ]
  },
  {
   "cell_type": "markdown",
   "id": "55dea66d",
   "metadata": {},
   "source": [
    "_Interpretation: for this very simple model, the accuracy is not great._"
   ]
  },
  {
   "cell_type": "markdown",
   "id": "581a7c8b",
   "metadata": {},
   "source": [
    "Show the relative importance of different features"
   ]
  },
  {
   "cell_type": "code",
   "execution_count": null,
   "id": "d6f05436",
   "metadata": {
    "scrolled": true
   },
   "outputs": [],
   "source": [
    "feature_names = pipe.named_steps['data'].get_feature_names_out()\n",
    "feature_coefs = pipe.named_steps['model'].feature_importances_\n",
    "feature_df = pd.DataFrame({'Feature Name': list(feature_names), 'Importance': list(feature_coefs.flatten())})\n",
    "feature_df.sort_values(by='Importance', axis=0, ascending=False, inplace=True, ignore_index=True)\n",
    "#feature_df['feature'].replace(to_replace=['numeric__','category__','ABBREVIATION_'], value='', regex=True, inplace=True)\n",
    "feature_df.head(20)"
   ]
  },
  {
   "cell_type": "code",
   "execution_count": null,
   "id": "5abcdac3",
   "metadata": {
    "scrolled": true
   },
   "outputs": [],
   "source": [
    "X_cols = pd.DataFrame(X_lol.columns, columns=['column'])\n",
    "X_cols['column'] = X_cols['column'].astype(str)\n",
    "X_cols['col'] = np.linspace(0, len(X_lol.columns)-1, num=len(X_lol.columns)).astype(int).astype(str)\n",
    "X_cols = dict(zip(X_cols.col, X_cols.column))\n",
    "X_cols"
   ]
  },
  {
   "cell_type": "code",
   "execution_count": null,
   "id": "cbf0000f",
   "metadata": {},
   "outputs": [],
   "source": [
    "list_of_chars=['\\(', '\\)', '\\'']\n",
    "pattern = '[' +  ''.join(list_of_chars) +  ']'\n",
    "feature_df['Feature Name 2'] = [ re.sub(', ', '_', re.sub(pattern, '', re.sub('(.*)__x(\\d+)',X_cols.get(re.search('x(\\d+)', s).group(1)),s))) for s in feature_df['Feature Name']]\n",
    "feature_df"
   ]
  },
  {
   "cell_type": "code",
   "execution_count": null,
   "id": "2f1930d8",
   "metadata": {},
   "outputs": [],
   "source": [
    "ax = sb.barplot(data=feature_df.iloc[0:20], x='Feature Name 2', y='Coef', orient='v')\n",
    "ax.tick_params(axis='x', rotation=270)\n",
    "ax.set_ylabel('Importance', rotation=90, labelpad=20)\n",
    "ax.set_xlabel('Feature', rotation=0, labelpad=20)\n",
    "ax.set_title('Most important features: Decision Tree (Combined)', pad=20)\n",
    "plt.savefig('../plots/DecisionTree_importances_combined.pdf',dpi=300, bbox_inches = \"tight\")"
   ]
  },
  {
   "cell_type": "markdown",
   "id": "c7fa16ec-6ed4-426e-b829-e86d5b613242",
   "metadata": {},
   "source": [
    "Plot the decision tree. Go left if the condition is true, else go right."
   ]
  },
  {
   "cell_type": "code",
   "execution_count": null,
   "id": "a24d54ec",
   "metadata": {
    "scrolled": true
   },
   "outputs": [],
   "source": [
    "plot_tree(model, filled=True, feature_names = [ re.sub(', ', '_', re.sub(pattern, '', re.sub('(.*)__x(\\d+)',X_cols.get(re.search('x(\\d+)', s).group(1)),s))) for s in list(pipe.named_steps['data'].get_feature_names_out())])\n",
    "plt.savefig('../plots/tree_combined.pdf')"
   ]
  },
  {
   "cell_type": "markdown",
   "id": "1fbbd1a6",
   "metadata": {},
   "source": [
    "_Interpretation: the first few levels of the tree overwhelmingly split on gold difference at 10 minutes and game length._"
   ]
  },
  {
   "cell_type": "markdown",
   "id": "f95ca27c",
   "metadata": {},
   "source": [
    "# 4) Random forest classification"
   ]
  },
  {
   "cell_type": "markdown",
   "id": "7ea18632",
   "metadata": {},
   "source": [
    "Set up the model"
   ]
  },
  {
   "cell_type": "code",
   "execution_count": null,
   "id": "04cdd751",
   "metadata": {},
   "outputs": [],
   "source": [
    "RFC = RandomForestClassifier(random_state=20220929)"
   ]
  },
  {
   "cell_type": "markdown",
   "id": "597224e1",
   "metadata": {},
   "source": [
    "Set up the pipeline"
   ]
  },
  {
   "cell_type": "code",
   "execution_count": null,
   "id": "8ac7ea58",
   "metadata": {},
   "outputs": [],
   "source": [
    "pipe_RFC = Pipeline(steps=[('data',data_pipe), ('model', RFC)])"
   ]
  },
  {
   "cell_type": "code",
   "execution_count": null,
   "id": "4ffb4bdb",
   "metadata": {},
   "outputs": [],
   "source": [
    "param_grid = {\n",
    "    'model__criterion': ['gini', 'entropy'],\n",
    "    'model__max_depth': [3,4,5,6,7,8],\n",
    "    'model__min_samples_leaf': [2,3,4],\n",
    "}\n",
    "\n",
    "grid_search = GridSearchCV(pipe, param_grid=param_grid, cv=skf, verbose=2)"
   ]
  },
  {
   "cell_type": "code",
   "execution_count": null,
   "id": "8c0323fa",
   "metadata": {},
   "outputs": [],
   "source": [
    "grid_search.fit(X_train, y_train)"
   ]
  },
  {
   "cell_type": "code",
   "execution_count": null,
   "id": "9df02e23",
   "metadata": {},
   "outputs": [],
   "source": [
    "params = grid_search.cv_results_['params']\n",
    "scores = grid_search.cv_results_['mean_test_score']\n",
    "rows = [dict(param_dict, score=score) for param_dict, score in zip(params, scores)]"
   ]
  },
  {
   "cell_type": "code",
   "execution_count": null,
   "id": "3c7f4e8d",
   "metadata": {},
   "outputs": [],
   "source": [
    "rows"
   ]
  },
  {
   "cell_type": "code",
   "execution_count": null,
   "id": "b0620d29",
   "metadata": {},
   "outputs": [],
   "source": [
    "results_df = pd.DataFrame(rows)\n",
    "results_df.columns = ['Criterion', 'Max Depth', 'Min Sample Leaf','Accuracy']\n",
    "results_df.head()"
   ]
  },
  {
   "cell_type": "code",
   "execution_count": null,
   "id": "fae63043",
   "metadata": {
    "scrolled": false
   },
   "outputs": [],
   "source": [
    "RFC_Grid_plot = sb.lineplot(data=results_df, x='Max Depth', y='Accuracy',\n",
    "                           hue = 'Min Sample Leaf', style = 'Criterion', palette = 'bright')\n",
    "RFC_Grid_plot.set(title = 'Random Forest Model Parameters')\n",
    "RFC_Grid_plot.get_figure().savefig('../plots/RandomForest_GridSearch_Combined.png')"
   ]
  },
  {
   "cell_type": "code",
   "execution_count": null,
   "id": "334e5e94",
   "metadata": {
    "scrolled": true
   },
   "outputs": [],
   "source": [
    "results_df[results_df['Accuracy'] == max(results_df['Accuracy'])]"
   ]
  },
  {
   "cell_type": "code",
   "execution_count": null,
   "id": "59bd945c",
   "metadata": {},
   "outputs": [],
   "source": [
    "RFC = RandomForestClassifier(max_depth=3, criterion='gini', min_samples_leaf = 4,random_state=20220929)"
   ]
  },
  {
   "cell_type": "code",
   "execution_count": null,
   "id": "a49db076",
   "metadata": {},
   "outputs": [],
   "source": [
    "pipe_RFC = Pipeline(steps=[('data',data_pipe), ('model', RFC)])"
   ]
  },
  {
   "cell_type": "markdown",
   "id": "797db54e",
   "metadata": {},
   "source": [
    "Compute cross-validation results for the random forest"
   ]
  },
  {
   "cell_type": "code",
   "execution_count": null,
   "id": "24b18fb2",
   "metadata": {
    "scrolled": true
   },
   "outputs": [],
   "source": [
    "skf = StratifiedKFold(n_splits=8, shuffle=True, random_state=20220905)\n",
    "\n",
    "scores = cross_val_score(pipe_RFC, X_train, y_train, cv=skf, scoring='accuracy', verbose=2)"
   ]
  },
  {
   "cell_type": "markdown",
   "id": "84e352c0",
   "metadata": {},
   "source": [
    "Create a data frame from the scores"
   ]
  },
  {
   "cell_type": "code",
   "execution_count": null,
   "id": "30e32722",
   "metadata": {},
   "outputs": [],
   "source": [
    "score_RFC = pd.DataFrame({'score_RFC': scores})\n",
    "score_RFC"
   ]
  },
  {
   "cell_type": "markdown",
   "id": "a536b565",
   "metadata": {},
   "source": [
    "Plot accuracy for each cross-validation run."
   ]
  },
  {
   "cell_type": "code",
   "execution_count": null,
   "id": "fc66ba5a",
   "metadata": {
    "scrolled": false
   },
   "outputs": [],
   "source": [
    "sb.boxplot(data=score_RFC['score_RFC'], width = 0.3)"
   ]
  },
  {
   "cell_type": "markdown",
   "id": "fb011fd0",
   "metadata": {},
   "source": [
    "Fit on all the training data"
   ]
  },
  {
   "cell_type": "code",
   "execution_count": null,
   "id": "71d61bfd",
   "metadata": {},
   "outputs": [],
   "source": [
    "pipe_RFC.fit(X_train,y_train)"
   ]
  },
  {
   "cell_type": "markdown",
   "id": "8737146f",
   "metadata": {},
   "source": [
    "Print accuracy on the training and test data"
   ]
  },
  {
   "cell_type": "code",
   "execution_count": null,
   "id": "6435421d",
   "metadata": {
    "scrolled": true
   },
   "outputs": [],
   "source": [
    "RFC_acc_cmb = util.print_accuracies(pipe_RFC, X_train, y_train, X_test, y_test)"
   ]
  },
  {
   "cell_type": "code",
   "execution_count": null,
   "id": "71543480",
   "metadata": {
    "scrolled": true
   },
   "outputs": [],
   "source": [
    "feature_names = pipe_RFC.named_steps['data'].get_feature_names_out()\n",
    "feature_coefs = pipe_RFC.named_steps['model'].feature_importances_\n",
    "feature_df = pd.DataFrame({'Feature Name': list(feature_names), 'Importance': list(feature_coefs.flatten())})\n",
    "feature_df.sort_values(by='Importance', axis=0, ascending=False, inplace=True, ignore_index=True)\n",
    "#feature_df['feature'].replace(to_replace=['numeric__','category__','ABBREVIATION_'], value='', regex=True, inplace=True)\n",
    "feature_df.head(20)"
   ]
  },
  {
   "cell_type": "code",
   "execution_count": null,
   "id": "9325f025",
   "metadata": {
    "scrolled": true
   },
   "outputs": [],
   "source": [
    "X_cols = pd.DataFrame(X_lol.columns, columns=['column'])\n",
    "X_cols['column'] = X_cols['column'].astype(str)\n",
    "X_cols['col'] = np.linspace(0, len(X_lol.columns)-1, num=len(X_lol.columns)).astype(int).astype(str)\n",
    "X_cols = dict(zip(X_cols.col, X_cols.column))\n",
    "X_cols"
   ]
  },
  {
   "cell_type": "code",
   "execution_count": null,
   "id": "a22995ba",
   "metadata": {
    "scrolled": true
   },
   "outputs": [],
   "source": [
    "list_of_chars=['\\(', '\\)', '\\'']\n",
    "pattern = '[' +  ''.join(list_of_chars) +  ']'\n",
    "feature_df['Feature Name 2'] = [ re.sub(', ', '_', re.sub(pattern, '', re.sub('(.*)__x(\\d+)',X_cols.get(re.search('x(\\d+)', s).group(1)),s))) for s in feature_df['Feature Name']]\n",
    "feature_df"
   ]
  },
  {
   "cell_type": "code",
   "execution_count": null,
   "id": "7a2f4735",
   "metadata": {
    "scrolled": false
   },
   "outputs": [],
   "source": [
    "ax = sb.barplot(data=feature_df.iloc[0:20], x='Feature Name 2', y='Coef', orient='v')\n",
    "ax.tick_params(axis='x', rotation=270)\n",
    "ax.set_ylabel('Importance', rotation=90, labelpad=20)\n",
    "ax.set_xlabel('Feature', rotation=0, labelpad=20)\n",
    "ax.set_title('Most important features: Random forest (combined)', pad=20)\n",
    "plt.savefig('../plots/RandomForest_importances_combined.pdf',dpi=300, bbox_inches = \"tight\")"
   ]
  },
  {
   "cell_type": "markdown",
   "id": "df01e9a2",
   "metadata": {},
   "source": [
    "# Generalizing the model to predict outcome with just a singel team's stats, instead using team vs team data."
   ]
  },
  {
   "cell_type": "markdown",
   "id": "51d16aa4",
   "metadata": {},
   "source": [
    "The general idea is here is to see how accurate the model is looking at the stats of one team instead of team vs team like above. The trade off here is that there is more data for the models to learn from, but some context is lost to the model. We now have each team on a seperate row and a column to indicate which team we are looking at."
   ]
  },
  {
   "cell_type": "code",
   "execution_count": null,
   "id": "0c3a8c85",
   "metadata": {},
   "outputs": [],
   "source": [
    "blue = lol_df['Blue'].copy()\n",
    "blue['Team'] = 'Blue'\n",
    "\n",
    "red = lol_df['Red'].copy()\n",
    "red['Team'] = 'Red'\n",
    "\n",
    "info = lol_df['Info'].copy()"
   ]
  },
  {
   "cell_type": "code",
   "execution_count": null,
   "id": "b94e968a",
   "metadata": {},
   "outputs": [],
   "source": [
    "diff = lol_df['golddiff'].copy()\n",
    "diff.columns = ['Diff 5','Diff 10','Diff 15','Diff 20']\n",
    "info = pd.concat([info,diff], axis=1)\n",
    "\n",
    "gold = lol_df['goldred'].copy()\n",
    "gold.columns = ['Team 5','Team 10','Team 15','Team 20']\n",
    "red = pd.concat([red,gold], axis=1)\n",
    "\n",
    "gold = lol_df['goldblue'].copy()\n",
    "gold.columns = ['Team 5','Team 10','Team 15','Team 20']\n",
    "blue = pd.concat([blue,gold], axis=1)"
   ]
  },
  {
   "cell_type": "code",
   "execution_count": null,
   "id": "53f7f3d5",
   "metadata": {},
   "outputs": [],
   "source": [
    "goldcol = ['goldblueTop','goldblueJungle','goldblueADC','goldblueSupport','goldblueMiddle',\n",
    "          'goldredTop','goldredJungle','goldredADC','goldredSupport','goldredMiddle']\n",
    "\n",
    "for i in goldcol:\n",
    "    gold = lol_df[i]\n",
    "    if i[4:7] == 'red':\n",
    "        gold.columns = [i[7:]+' 5',i[7:]+' 10',i[7:]+' 15',i[7:]+' 20']\n",
    "        red = pd.concat([red,gold], axis=1)\n",
    "    elif i[4:8] == 'blue':\n",
    "        gold.columns = [i[8:]+' 5',i[8:]+' 10',i[8:]+' 15',i[8:]+' 20']\n",
    "        blue = pd.concat([blue,gold], axis=1)"
   ]
  },
  {
   "cell_type": "code",
   "execution_count": null,
   "id": "59f480a2",
   "metadata": {},
   "outputs": [],
   "source": [
    "blue = pd.concat([info,blue], axis=1)\n",
    "red = pd.concat([info,red], axis=1)\n",
    "\n",
    "lol_df2 = pd.concat([blue,red],axis=0)"
   ]
  },
  {
   "cell_type": "code",
   "execution_count": null,
   "id": "3cfa7514",
   "metadata": {},
   "outputs": [],
   "source": [
    "y = lol_df2['Winner']\n",
    "X = lol_df2.drop(['Winner','Address'],axis=1)"
   ]
  },
  {
   "cell_type": "code",
   "execution_count": null,
   "id": "1c890839",
   "metadata": {},
   "outputs": [],
   "source": [
    "X_train, X_test, y_train, y_test = train_test_split(X, y, test_size=0.2, random_state=20220905, stratify=y)"
   ]
  },
  {
   "cell_type": "code",
   "execution_count": null,
   "id": "3ef6a798",
   "metadata": {},
   "outputs": [],
   "source": [
    "X.columns"
   ]
  },
  {
   "cell_type": "markdown",
   "id": "1480c653",
   "metadata": {},
   "source": [
    "# 3) Decision tree classification, Separate red/blue"
   ]
  },
  {
   "cell_type": "markdown",
   "id": "58856400",
   "metadata": {},
   "source": [
    "Set up the model. Note that the min-max scaling is unnecessary for decision tree/random forest, just good practice."
   ]
  },
  {
   "cell_type": "code",
   "execution_count": null,
   "id": "1ea6e3af",
   "metadata": {},
   "outputs": [],
   "source": [
    "model = DecisionTreeClassifier(random_state=20220905)"
   ]
  },
  {
   "cell_type": "markdown",
   "id": "9d4a0d1d",
   "metadata": {},
   "source": [
    "Set up column transformer: one-hot encoding for categorical vars, min-max scaling for numeric vars. Here we have to set handle unknowns to 'ignore' because there may be different unique champions in the test and training datasets."
   ]
  },
  {
   "cell_type": "code",
   "execution_count": null,
   "id": "24df5bcd",
   "metadata": {},
   "outputs": [],
   "source": [
    "CATEGORICAL_VARS=['League', 'Season', 'GameType', 'FirstBlood',\n",
    "       'FirstTower','TeamTag', 'Top', 'TopChamp', 'Jungle', 'JungleChamp', 'Middle', 'MiddleChamp',\n",
    "       'ADC', 'ADCChamp', 'Support', 'SupportChamp', 'ban_1', 'ban_2', 'ban_3',\n",
    "       'ban_4', 'ban_5', 'Team']\n",
    "\n",
    "NUMERIC_VARS=['gamelength','Year', 'Diff 5', 'Diff 10', 'Diff 15', 'Diff 20',\n",
    "              'Towers', 'Inhib', 'Kills', 'Team 5',\n",
    "       'Team 10', 'Team 15', 'Team 20', 'Top 5', 'Top 10', 'Top 15', 'Top 20',\n",
    "       'Jungle 5', 'Jungle 10', 'Jungle 15', 'Jungle 20', 'ADC 5', 'ADC 10',\n",
    "       'ADC 15', 'ADC 20', 'Support 5', 'Support 10', 'Support 15',\n",
    "       'Support 20', 'Middle 5', 'Middle 10', 'Middle 15', 'Middle 20']\n",
    "\n",
    "ohe = OneHotEncoder(drop='first', handle_unknown='ignore')\n",
    "\n",
    "columns = ColumnTransformer([('category', ohe, CATEGORICAL_VARS), \n",
    "                             ('numeric', MinMaxScaler(), NUMERIC_VARS)],\n",
    "                             remainder='drop')"
   ]
  },
  {
   "cell_type": "markdown",
   "id": "bcc45c86",
   "metadata": {},
   "source": [
    "Set up the pipeline"
   ]
  },
  {
   "cell_type": "code",
   "execution_count": null,
   "id": "dbdd3f54",
   "metadata": {},
   "outputs": [],
   "source": [
    "selector = SelectKBest(score_func=chi2, k=20)"
   ]
  },
  {
   "cell_type": "code",
   "execution_count": null,
   "id": "956a679f",
   "metadata": {},
   "outputs": [],
   "source": [
    "data_pipe = Pipeline(steps=[('preprocess', columns), ('filter', selector)])"
   ]
  },
  {
   "cell_type": "code",
   "execution_count": null,
   "id": "0f153121",
   "metadata": {},
   "outputs": [],
   "source": [
    "pipe = Pipeline(steps=[('data',data_pipe), ('model', model)])"
   ]
  },
  {
   "cell_type": "code",
   "execution_count": null,
   "id": "2b8d2f3f",
   "metadata": {},
   "outputs": [],
   "source": [
    "param_grid = {\n",
    "    'model__criterion': ['gini', 'entropy'],\n",
    "    'model__max_depth': [3,4,5,6,7,8],\n",
    "    'model__min_samples_leaf': [2,3,4]\n",
    "}\n",
    "\n",
    "skf = StratifiedKFold(n_splits=8, shuffle=True, random_state=20220914)\n",
    "\n",
    "grid_search = GridSearchCV(pipe, param_grid=param_grid, cv=skf, verbose=2)"
   ]
  },
  {
   "cell_type": "code",
   "execution_count": null,
   "id": "afbcb5fe",
   "metadata": {
    "scrolled": true
   },
   "outputs": [],
   "source": [
    "grid_search.fit(X_train, y_train)"
   ]
  },
  {
   "cell_type": "code",
   "execution_count": null,
   "id": "c7600c50",
   "metadata": {},
   "outputs": [],
   "source": [
    "params = grid_search.cv_results_['params']\n",
    "scores = grid_search.cv_results_['mean_test_score']\n",
    "rows = [dict(param_dict, score=score) for param_dict, score in zip(params, scores)]"
   ]
  },
  {
   "cell_type": "code",
   "execution_count": null,
   "id": "147d4829",
   "metadata": {},
   "outputs": [],
   "source": [
    "rows"
   ]
  },
  {
   "cell_type": "code",
   "execution_count": null,
   "id": "96dc775c",
   "metadata": {},
   "outputs": [],
   "source": [
    "results_df = pd.DataFrame(rows)\n",
    "results_df.columns = ['Criterion', 'Max Depth', 'Min Sample Leaf', 'Accuracy']\n",
    "results_df.head()"
   ]
  },
  {
   "cell_type": "code",
   "execution_count": null,
   "id": "d1922540",
   "metadata": {
    "scrolled": false
   },
   "outputs": [],
   "source": [
    "sb.set(rc={\"figure.figsize\":(6, 4)})\n",
    "DT_Grid_plot = sb.lineplot(data=results_df, x='Max Depth', y='Accuracy',\n",
    "                           hue='Min Sample Leaf', style = 'Criterion', palette = 'bright')\n",
    "DT_Grid_plot.set(title = 'Decision Tree Model Parameters')\n",
    "DT_Grid_plot.get_figure().savefig('../plots/DecisionTree_GridSearch_Separated.png')"
   ]
  },
  {
   "cell_type": "code",
   "execution_count": null,
   "id": "eb61818b",
   "metadata": {
    "scrolled": true
   },
   "outputs": [],
   "source": [
    "results_df[results_df['Accuracy'] == max(results_df['Accuracy'])]"
   ]
  },
  {
   "cell_type": "code",
   "execution_count": null,
   "id": "47f114e8",
   "metadata": {},
   "outputs": [],
   "source": [
    "model = DecisionTreeClassifier(criterion='entropy', max_depth=3, min_samples_leaf = 4, random_state=20220905)"
   ]
  },
  {
   "cell_type": "code",
   "execution_count": null,
   "id": "49574f01",
   "metadata": {},
   "outputs": [],
   "source": [
    "pipe = Pipeline(steps=[('data',data_pipe), ('model', model)])"
   ]
  },
  {
   "cell_type": "markdown",
   "id": "fb2fea7f",
   "metadata": {},
   "source": [
    "Compute cross-validation results for the decision tree. There will be warnings here and throughout because there are champions present in the test dataset that were not in the training dataset."
   ]
  },
  {
   "cell_type": "code",
   "execution_count": null,
   "id": "fc9b3581",
   "metadata": {
    "scrolled": true
   },
   "outputs": [],
   "source": [
    "skf = StratifiedKFold(n_splits=8, shuffle=True, random_state=20220905)\n",
    "\n",
    "scores = cross_val_score(pipe, X_train, y_train, cv=skf, scoring='accuracy', verbose=2)"
   ]
  },
  {
   "cell_type": "markdown",
   "id": "e36f1ac3",
   "metadata": {},
   "source": [
    "Create a data frame from the scores"
   ]
  },
  {
   "cell_type": "code",
   "execution_count": null,
   "id": "00fee42b",
   "metadata": {},
   "outputs": [],
   "source": [
    "score_tree = pd.DataFrame({'score_tree': scores})\n",
    "score_tree"
   ]
  },
  {
   "cell_type": "markdown",
   "id": "7f766ede",
   "metadata": {},
   "source": [
    "Plot accuracy for each cross-validation run."
   ]
  },
  {
   "cell_type": "code",
   "execution_count": null,
   "id": "7190ca4e",
   "metadata": {
    "scrolled": false
   },
   "outputs": [],
   "source": [
    "sb.boxplot(data=score_tree['score_tree'], width = 0.3)"
   ]
  },
  {
   "cell_type": "markdown",
   "id": "8f9cfe34",
   "metadata": {},
   "source": [
    "Fit on all the training data"
   ]
  },
  {
   "cell_type": "code",
   "execution_count": null,
   "id": "3d0e9a47",
   "metadata": {
    "scrolled": true
   },
   "outputs": [],
   "source": [
    "pipe.fit(X_train,y_train)"
   ]
  },
  {
   "cell_type": "markdown",
   "id": "3cbfdf76",
   "metadata": {},
   "source": [
    "Print accuracy on the training and test data"
   ]
  },
  {
   "cell_type": "code",
   "execution_count": null,
   "id": "3997d26f",
   "metadata": {
    "scrolled": false
   },
   "outputs": [],
   "source": [
    "DT_acc_sep = util.print_accuracies(pipe, X_train, y_train, X_test, y_test)"
   ]
  },
  {
   "cell_type": "markdown",
   "id": "736da044",
   "metadata": {},
   "source": [
    "_Interpretation: for this very simple model, the accuracy is not great._"
   ]
  },
  {
   "cell_type": "markdown",
   "id": "91e52d1c",
   "metadata": {},
   "source": [
    "Show the relative importance of different features"
   ]
  },
  {
   "cell_type": "code",
   "execution_count": null,
   "id": "427e0b07",
   "metadata": {
    "scrolled": true
   },
   "outputs": [],
   "source": [
    "feature_names = pipe.named_steps['data'].get_feature_names_out()\n",
    "feature_coefs = pipe.named_steps['model'].feature_importances_\n",
    "feature_df = pd.DataFrame({'Feature Name': list(feature_names), 'Importance': list(feature_coefs.flatten())})\n",
    "feature_df.sort_values(by='Importance', axis=0, ascending=False, inplace=True, ignore_index=True)\n",
    "#feature_df['feature'].replace(to_replace=['numeric__','category__','ABBREVIATION_'], value='', regex=True, inplace=True)\n",
    "feature_df.head(20)"
   ]
  },
  {
   "cell_type": "code",
   "execution_count": null,
   "id": "dc986097",
   "metadata": {},
   "outputs": [],
   "source": [
    "ax = sb.barplot(data=feature_df.iloc[0:20], x='Feature Name 2', y='Coef', orient='v')\n",
    "ax.tick_params(axis='x', rotation=270)\n",
    "ax.set_ylabel('Importance', rotation=90, labelpad=20)\n",
    "ax.set_xlabel('Feature', rotation=0, labelpad=20)\n",
    "ax.set_title('Most important features: Decision Tree (Separated)', pad=20)\n",
    "plt.savefig('../plots/DecisionTree_Importances_Separated.pdf',dpi=300, bbox_inches = \"tight\")"
   ]
  },
  {
   "cell_type": "markdown",
   "id": "0951e5c8",
   "metadata": {},
   "source": [
    "Plot the decision tree. Go left if the condition is true, else go right."
   ]
  },
  {
   "cell_type": "code",
   "execution_count": null,
   "id": "183cc5d2",
   "metadata": {
    "scrolled": true
   },
   "outputs": [],
   "source": [
    "plot_tree(model, filled=True, feature_names = [ re.sub(', ', '_', re.sub(pattern, '', re.sub('(.*)__x(\\d+)',X_cols.get(re.search('x(\\d+)', s).group(1)),s))) for s in list(pipe.named_steps['data'].get_feature_names_out())])\n",
    "plt.savefig('../plots/tree_separated.pdf')"
   ]
  },
  {
   "cell_type": "markdown",
   "id": "2f9c0ac1",
   "metadata": {},
   "source": [
    "_Interpretation: the first few levels of the tree overwhelmingly split on gold difference at 10 minutes and game length._"
   ]
  },
  {
   "cell_type": "markdown",
   "id": "dc53f313",
   "metadata": {},
   "source": [
    "# 4) Random forest classification, separate red/blue"
   ]
  },
  {
   "cell_type": "markdown",
   "id": "feccfae1",
   "metadata": {},
   "source": [
    "Set up the model"
   ]
  },
  {
   "cell_type": "code",
   "execution_count": null,
   "id": "c44a30b0",
   "metadata": {},
   "outputs": [],
   "source": [
    "RFC = RandomForestClassifier(max_depth=4, criterion='gini', random_state=20220929)"
   ]
  },
  {
   "cell_type": "markdown",
   "id": "53cba6b1",
   "metadata": {},
   "source": [
    "Set up the pipeline"
   ]
  },
  {
   "cell_type": "code",
   "execution_count": null,
   "id": "75962af8",
   "metadata": {},
   "outputs": [],
   "source": [
    "pipe_RFC = Pipeline(steps=[('data',data_pipe), ('model', RFC)])"
   ]
  },
  {
   "cell_type": "code",
   "execution_count": null,
   "id": "6ef9835f",
   "metadata": {},
   "outputs": [],
   "source": [
    "param_grid = {\n",
    "    'model__criterion': ['gini', 'entropy'],\n",
    "    'model__max_depth': [3,4,5,6,7,8],\n",
    "    'model__min_samples_leaf': [2,3,4],\n",
    "}\n",
    "\n",
    "grid_search = GridSearchCV(pipe, param_grid=param_grid, cv=skf, verbose=2)"
   ]
  },
  {
   "cell_type": "code",
   "execution_count": null,
   "id": "0e755eae",
   "metadata": {},
   "outputs": [],
   "source": [
    "grid_search.fit(X_train, y_train)"
   ]
  },
  {
   "cell_type": "code",
   "execution_count": null,
   "id": "9cd8bc96",
   "metadata": {},
   "outputs": [],
   "source": [
    "params = grid_search.cv_results_['params']\n",
    "scores = grid_search.cv_results_['mean_test_score']\n",
    "rows = [dict(param_dict, score=score) for param_dict, score in zip(params, scores)]"
   ]
  },
  {
   "cell_type": "code",
   "execution_count": null,
   "id": "ed60d6a6",
   "metadata": {},
   "outputs": [],
   "source": [
    "rows"
   ]
  },
  {
   "cell_type": "code",
   "execution_count": null,
   "id": "46b64093",
   "metadata": {},
   "outputs": [],
   "source": [
    "results_df = pd.DataFrame(rows)\n",
    "results_df.columns = ['Criterion', 'Max Depth', 'Min Sample Leaf','Accuracy']\n",
    "results_df.head()"
   ]
  },
  {
   "cell_type": "code",
   "execution_count": null,
   "id": "c4ed99b3",
   "metadata": {
    "scrolled": false
   },
   "outputs": [],
   "source": [
    "RFC_Grid_plot = sb.lineplot(data=results_df, x='Max Depth', y='Accuracy',\n",
    "                           hue = 'Min Sample Leaf', style = 'Criterion', palette = 'bright')\n",
    "RFC_Grid_plot.set(title = 'Random Tree Model Parameters')\n",
    "RFC_Grid_plot.get_figure().savefig('../plots/RandomForest_GridSearch_Separated.png')"
   ]
  },
  {
   "cell_type": "code",
   "execution_count": null,
   "id": "9e7db452",
   "metadata": {
    "scrolled": true
   },
   "outputs": [],
   "source": [
    "results_df[results_df['Accuracy'] == max(results_df['Accuracy'])]"
   ]
  },
  {
   "cell_type": "code",
   "execution_count": null,
   "id": "3dbcc3be",
   "metadata": {},
   "outputs": [],
   "source": [
    "RFC = RandomForestClassifier(criterion='gini', max_depth=3, min_samples_leaf = 4,random_state=20220929)"
   ]
  },
  {
   "cell_type": "code",
   "execution_count": null,
   "id": "5900bbc0",
   "metadata": {},
   "outputs": [],
   "source": [
    "pipe_RFC = Pipeline(steps=[('data',data_pipe), ('model', RFC)])"
   ]
  },
  {
   "cell_type": "markdown",
   "id": "6c3cb588",
   "metadata": {},
   "source": [
    "Compute cross-validation results for the random forest"
   ]
  },
  {
   "cell_type": "code",
   "execution_count": null,
   "id": "974274a7",
   "metadata": {
    "scrolled": true
   },
   "outputs": [],
   "source": [
    "skf = StratifiedKFold(n_splits=8, shuffle=True, random_state=20220905)\n",
    "\n",
    "scores = cross_val_score(pipe_RFC, X_train, y_train, cv=skf, scoring='accuracy', verbose=2)"
   ]
  },
  {
   "cell_type": "markdown",
   "id": "a7722888",
   "metadata": {},
   "source": [
    "Create a data frame from the scores"
   ]
  },
  {
   "cell_type": "code",
   "execution_count": null,
   "id": "867dce0c",
   "metadata": {},
   "outputs": [],
   "source": [
    "score_RFC = pd.DataFrame({'score_RFC': scores})\n",
    "score_RFC"
   ]
  },
  {
   "cell_type": "markdown",
   "id": "d8dad521",
   "metadata": {},
   "source": [
    "Plot accuracy for each cross-validation run."
   ]
  },
  {
   "cell_type": "code",
   "execution_count": null,
   "id": "fab81baf",
   "metadata": {
    "scrolled": false
   },
   "outputs": [],
   "source": [
    "sb.boxplot(data=score_RFC['score_RFC'], width = 0.3)"
   ]
  },
  {
   "cell_type": "markdown",
   "id": "bd3c659d",
   "metadata": {},
   "source": [
    "Fit on all the training data"
   ]
  },
  {
   "cell_type": "code",
   "execution_count": null,
   "id": "f41ff555",
   "metadata": {},
   "outputs": [],
   "source": [
    "pipe_RFC.fit(X_train,y_train)"
   ]
  },
  {
   "cell_type": "markdown",
   "id": "4df71d92",
   "metadata": {},
   "source": [
    "Print accuracy on the training and test data"
   ]
  },
  {
   "cell_type": "code",
   "execution_count": null,
   "id": "3236a632",
   "metadata": {
    "scrolled": true
   },
   "outputs": [],
   "source": [
    "RFC_acc_sep = util.print_accuracies(pipe_RFC, X_train, y_train, X_test, y_test)"
   ]
  },
  {
   "cell_type": "code",
   "execution_count": null,
   "id": "f687713e",
   "metadata": {
    "scrolled": true
   },
   "outputs": [],
   "source": [
    "feature_names = pipe_RFC.named_steps['data'].get_feature_names_out()\n",
    "feature_coefs = pipe_RFC.named_steps['model'].feature_importances_\n",
    "feature_df = pd.DataFrame({'Feature Name': list(feature_names), 'Importance': list(feature_coefs.flatten())})\n",
    "feature_df.sort_values(by='Importance', axis=0, ascending=False, inplace=True, ignore_index=True)\n",
    "#feature_df['feature'].replace(to_replace=['numeric__','category__','ABBREVIATION_'], value='', regex=True, inplace=True)\n",
    "feature_df.head(20)"
   ]
  },
  {
   "cell_type": "code",
   "execution_count": null,
   "id": "1f004572",
   "metadata": {
    "scrolled": false
   },
   "outputs": [],
   "source": [
    "ax = sb.barplot(data=feature_df.iloc[0:20], x='Feature Name 2', y='Coef', orient='v')\n",
    "ax.tick_params(axis='x', rotation=270)\n",
    "ax.set_ylabel('Importance', rotation=90, labelpad=20)\n",
    "ax.set_xlabel('Feature NAme', rotation=0, labelpad=20)\n",
    "ax.set_title('Most important features: Random Forest (Separated)', pad=20)\n",
    "plt.savefig('../plots/RandomForest_importances_separated.pdf',dpi=300, bbox_inches = \"tight\")"
   ]
  },
  {
   "cell_type": "markdown",
   "id": "da437b76",
   "metadata": {},
   "source": [
    "# Accuracies"
   ]
  },
  {
   "cell_type": "code",
   "execution_count": null,
   "id": "a50eea41",
   "metadata": {},
   "outputs": [],
   "source": [
    "acc_df = pd.DataFrame([DT_acc_cmb[0],RFC_acc_cmb[0],\n",
    "                       DT_acc_sep[0],RFC_acc_sep[0],\n",
    "                       DT_acc_cmb[1],RFC_acc_cmb[1],\n",
    "                       DT_acc_sep[1],RFC_acc_sep[1]],\n",
    "                       columns = ['Accuracy'])\n",
    "acc_df['Type'] = ['Train','Train','Train','Train',\n",
    "                  'Test','Test','Test','Test',]\n",
    "acc_df['Model'] = ['DT_cmb','RFC_cmb','DT_sep','RFC_sep',\n",
    "                  'DT_cmb','RFC_cmb','DT_sep','RFC_sep']\n",
    "acc_df"
   ]
  },
  {
   "cell_type": "code",
   "execution_count": null,
   "id": "bc8fe21a",
   "metadata": {},
   "outputs": [],
   "source": [
    "barplot = sb.barplot(data = acc_df, y = 'Model', x = 'Accuracy', hue = 'Type', palette = 'bright')\n",
    "barplot.set(title = 'Model Accuracies')\n",
    "\n",
    "barplot.get_figure().savefig('../plots/ACC_DT_RFC_sep_combined_train_test.png')"
   ]
  }
 ],
 "metadata": {
  "kernelspec": {
   "display_name": "Python 3 (ipykernel)",
   "language": "python",
   "name": "python3"
  },
  "language_info": {
   "codemirror_mode": {
    "name": "ipython",
    "version": 3
   },
   "file_extension": ".py",
   "mimetype": "text/x-python",
   "name": "python",
   "nbconvert_exporter": "python",
   "pygments_lexer": "ipython3",
   "version": "3.10.6"
  }
 },
 "nbformat": 4,
 "nbformat_minor": 5
}
