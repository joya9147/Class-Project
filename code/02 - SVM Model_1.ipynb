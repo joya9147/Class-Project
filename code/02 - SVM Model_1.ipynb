{
 "cells": [
  {
   "cell_type": "markdown",
   "id": "94f5cf72",
   "metadata": {},
   "source": [
    "Special thanks to Abraham Ybarra for the feature selection code."
   ]
  },
  {
   "cell_type": "markdown",
   "id": "65e75971-ea57-4a5f-8be2-890918348970",
   "metadata": {},
   "source": [
    "# Libraries and importing data"
   ]
  },
  {
   "cell_type": "code",
   "execution_count": 1,
   "id": "f2960da3-c979-4b7e-9fb0-1a2e97e1e0da",
   "metadata": {},
   "outputs": [],
   "source": [
    "import numpy as np\n",
    "import scipy as sp\n",
    "import sklearn as sk\n",
    "import pandas as pd\n",
    "import re\n",
    "import pickle"
   ]
  },
  {
   "cell_type": "markdown",
   "id": "6e3cb10c-50b9-4aa7-bbdd-e0786d2e21bc",
   "metadata": {},
   "source": [
    "### Visualization packages"
   ]
  },
  {
   "cell_type": "code",
   "execution_count": 2,
   "id": "0fd6583c-5139-487f-8f6e-18616919776c",
   "metadata": {
    "tags": []
   },
   "outputs": [],
   "source": [
    "import matplotlib.pyplot as plt\n",
    "import seaborn as sb"
   ]
  },
  {
   "cell_type": "markdown",
   "id": "7d9ce746-339b-4caa-9f32-28f0e8eee6ae",
   "metadata": {},
   "source": [
    "### Scikit learn for logistics regression"
   ]
  },
  {
   "cell_type": "code",
   "execution_count": 3,
   "id": "01d6d46d-9676-49d7-8048-fd37a4ca8168",
   "metadata": {},
   "outputs": [],
   "source": [
    "from sklearn.linear_model import LogisticRegression,SGDClassifier\n",
    "from sklearn.model_selection import train_test_split, cross_val_score, StratifiedKFold, GridSearchCV\n",
    "from sklearn.metrics import accuracy_score, log_loss\n",
    "from sklearn.pipeline import Pipeline\n",
    "from sklearn.preprocessing import PowerTransformer, MinMaxScaler, OneHotEncoder\n",
    "from sklearn.compose import ColumnTransformer\n",
    "from sklearn.feature_selection import SelectKBest, SelectPercentile, chi2, RFE, RFECV\n",
    "from sklearn.feature_selection import RFE"
   ]
  },
  {
   "cell_type": "markdown",
   "id": "481df8d1",
   "metadata": {},
   "source": [
    "Import below contained functions used in the class frequenctly."
   ]
  },
  {
   "cell_type": "code",
   "execution_count": 4,
   "id": "9baaecbb-b17f-4ebd-aed2-8a962594c95b",
   "metadata": {},
   "outputs": [],
   "source": [
    "import info5604_utils as util"
   ]
  },
  {
   "cell_type": "markdown",
   "id": "94235941-6a58-44c2-8a97-1a27863ba9ae",
   "metadata": {},
   "source": [
    "### Importing the data. Dataset is multileveled so it needs to be imported this way"
   ]
  },
  {
   "cell_type": "markdown",
   "id": "188df79f",
   "metadata": {},
   "source": [
    "Display more columns"
   ]
  },
  {
   "cell_type": "code",
   "execution_count": 5,
   "id": "abfa48f7",
   "metadata": {},
   "outputs": [],
   "source": [
    "pd.set_option('display.max_columns', 200)\n",
    "pd.set_option('display.max_rows', None)"
   ]
  },
  {
   "cell_type": "code",
   "execution_count": 6,
   "id": "e3940e72-d852-47ac-a421-d8402ca1ddbe",
   "metadata": {
    "scrolled": false
   },
   "outputs": [
    {
     "name": "stdout",
     "output_type": "stream",
     "text": [
      "(7566, 104)\n"
     ]
    },
    {
     "data": {
      "text/html": [
       "<div>\n",
       "<style scoped>\n",
       "    .dataframe tbody tr th:only-of-type {\n",
       "        vertical-align: middle;\n",
       "    }\n",
       "\n",
       "    .dataframe tbody tr th {\n",
       "        vertical-align: top;\n",
       "    }\n",
       "\n",
       "    .dataframe thead tr th {\n",
       "        text-align: left;\n",
       "    }\n",
       "</style>\n",
       "<table border=\"1\" class=\"dataframe\">\n",
       "  <thead>\n",
       "    <tr>\n",
       "      <th></th>\n",
       "      <th colspan=\"8\" halign=\"left\">Info</th>\n",
       "      <th colspan=\"10\" halign=\"left\">Blue</th>\n",
       "      <th>Info</th>\n",
       "      <th colspan=\"10\" halign=\"left\">Red</th>\n",
       "      <th colspan=\"3\" halign=\"left\">Info</th>\n",
       "      <th colspan=\"3\" halign=\"left\">Blue</th>\n",
       "      <th colspan=\"3\" halign=\"left\">Red</th>\n",
       "      <th colspan=\"15\" halign=\"left\">Blue</th>\n",
       "      <th colspan=\"15\" halign=\"left\">Red</th>\n",
       "      <th colspan=\"5\" halign=\"left\">Blue</th>\n",
       "      <th colspan=\"5\" halign=\"left\">Red</th>\n",
       "      <th>Blue</th>\n",
       "      <th>Red</th>\n",
       "      <th>Blue</th>\n",
       "      <th>Red</th>\n",
       "      <th>Blue</th>\n",
       "      <th>Red</th>\n",
       "      <th colspan=\"10\" halign=\"left\">Blue</th>\n",
       "      <th colspan=\"10\" halign=\"left\">Red</th>\n",
       "    </tr>\n",
       "    <tr>\n",
       "      <th></th>\n",
       "      <th colspan=\"7\" halign=\"left\">MatchID</th>\n",
       "      <th>BlueTag</th>\n",
       "      <th colspan=\"2\" halign=\"left\">Top</th>\n",
       "      <th colspan=\"2\" halign=\"left\">Jungle</th>\n",
       "      <th colspan=\"2\" halign=\"left\">Middle</th>\n",
       "      <th colspan=\"2\" halign=\"left\">ADC</th>\n",
       "      <th colspan=\"2\" halign=\"left\">Support</th>\n",
       "      <th>RedTag</th>\n",
       "      <th colspan=\"2\" halign=\"left\">Top</th>\n",
       "      <th colspan=\"2\" halign=\"left\">Jungle</th>\n",
       "      <th colspan=\"2\" halign=\"left\">Middle</th>\n",
       "      <th colspan=\"2\" halign=\"left\">ADC</th>\n",
       "      <th colspan=\"2\" halign=\"left\">Support</th>\n",
       "      <th colspan=\"3\" halign=\"left\">diff</th>\n",
       "      <th colspan=\"3\" halign=\"left\">TeamGold</th>\n",
       "      <th colspan=\"3\" halign=\"left\">TeamGold</th>\n",
       "      <th colspan=\"3\" halign=\"left\">Top</th>\n",
       "      <th colspan=\"3\" halign=\"left\">Jungle</th>\n",
       "      <th colspan=\"3\" halign=\"left\">Middle</th>\n",
       "      <th colspan=\"3\" halign=\"left\">ADC</th>\n",
       "      <th colspan=\"3\" halign=\"left\">Support</th>\n",
       "      <th colspan=\"3\" halign=\"left\">Top</th>\n",
       "      <th colspan=\"3\" halign=\"left\">Jungle</th>\n",
       "      <th colspan=\"3\" halign=\"left\">Middle</th>\n",
       "      <th colspan=\"3\" halign=\"left\">ADC</th>\n",
       "      <th colspan=\"3\" halign=\"left\">Support</th>\n",
       "      <th colspan=\"5\" halign=\"left\">Bans</th>\n",
       "      <th colspan=\"5\" halign=\"left\">Bans</th>\n",
       "      <th>Structures</th>\n",
       "      <th>Structures</th>\n",
       "      <th>Structures</th>\n",
       "      <th>Structures</th>\n",
       "      <th>Monsters</th>\n",
       "      <th>Monsters</th>\n",
       "      <th colspan=\"2\" halign=\"left\">Middle</th>\n",
       "      <th colspan=\"2\" halign=\"left\">Top</th>\n",
       "      <th colspan=\"2\" halign=\"left\">ADC</th>\n",
       "      <th colspan=\"2\" halign=\"left\">Support</th>\n",
       "      <th colspan=\"2\" halign=\"left\">Jungle</th>\n",
       "      <th colspan=\"2\" halign=\"left\">Middle</th>\n",
       "      <th colspan=\"2\" halign=\"left\">Top</th>\n",
       "      <th colspan=\"2\" halign=\"left\">ADC</th>\n",
       "      <th colspan=\"2\" halign=\"left\">Support</th>\n",
       "      <th colspan=\"2\" halign=\"left\">Jungle</th>\n",
       "    </tr>\n",
       "    <tr>\n",
       "      <th></th>\n",
       "      <th>Address</th>\n",
       "      <th>League</th>\n",
       "      <th>Year</th>\n",
       "      <th>Season</th>\n",
       "      <th>Type</th>\n",
       "      <th>gamelength</th>\n",
       "      <th>Winner</th>\n",
       "      <th>TeamTag</th>\n",
       "      <th>Top</th>\n",
       "      <th>TopChamp</th>\n",
       "      <th>Jungle</th>\n",
       "      <th>JungleChamp</th>\n",
       "      <th>Middle</th>\n",
       "      <th>MiddleChamp</th>\n",
       "      <th>ADC</th>\n",
       "      <th>ADCChamp</th>\n",
       "      <th>Support</th>\n",
       "      <th>SupportChamp</th>\n",
       "      <th>TeamTag</th>\n",
       "      <th>Top</th>\n",
       "      <th>TopChamp</th>\n",
       "      <th>Jungle</th>\n",
       "      <th>JungleChamp</th>\n",
       "      <th>Middle</th>\n",
       "      <th>MiddleChamp</th>\n",
       "      <th>ADC</th>\n",
       "      <th>ADCChamp</th>\n",
       "      <th>Support</th>\n",
       "      <th>SupportChamp</th>\n",
       "      <th>Gold_5</th>\n",
       "      <th>Gold_10</th>\n",
       "      <th>Gold_15</th>\n",
       "      <th>Gold_5</th>\n",
       "      <th>Gold_10</th>\n",
       "      <th>Gold_15</th>\n",
       "      <th>Gold_5</th>\n",
       "      <th>Gold_10</th>\n",
       "      <th>Gold_15</th>\n",
       "      <th>Gold_5</th>\n",
       "      <th>Gold_10</th>\n",
       "      <th>Gold_15</th>\n",
       "      <th>Gold_5</th>\n",
       "      <th>Gold_10</th>\n",
       "      <th>Gold_15</th>\n",
       "      <th>Gold_5</th>\n",
       "      <th>Gold_10</th>\n",
       "      <th>Gold_15</th>\n",
       "      <th>Gold_5</th>\n",
       "      <th>Gold_10</th>\n",
       "      <th>Gold_15</th>\n",
       "      <th>Gold_5</th>\n",
       "      <th>Gold_10</th>\n",
       "      <th>Gold_15</th>\n",
       "      <th>Gold_5</th>\n",
       "      <th>Gold_10</th>\n",
       "      <th>Gold_15</th>\n",
       "      <th>Gold_5</th>\n",
       "      <th>Gold_10</th>\n",
       "      <th>Gold_15</th>\n",
       "      <th>Gold_5</th>\n",
       "      <th>Gold_10</th>\n",
       "      <th>Gold_15</th>\n",
       "      <th>Gold_5</th>\n",
       "      <th>Gold_10</th>\n",
       "      <th>Gold_15</th>\n",
       "      <th>Gold_5</th>\n",
       "      <th>Gold_10</th>\n",
       "      <th>Gold_15</th>\n",
       "      <th>ban_1</th>\n",
       "      <th>ban_2</th>\n",
       "      <th>ban_3</th>\n",
       "      <th>ban_4</th>\n",
       "      <th>ban_5</th>\n",
       "      <th>ban_1</th>\n",
       "      <th>ban_2</th>\n",
       "      <th>ban_3</th>\n",
       "      <th>ban_4</th>\n",
       "      <th>ban_5</th>\n",
       "      <th>Towers</th>\n",
       "      <th>Towers</th>\n",
       "      <th>Inhib</th>\n",
       "      <th>Inhib</th>\n",
       "      <th>Dragon</th>\n",
       "      <th>Dragon</th>\n",
       "      <th>Kills</th>\n",
       "      <th>Assist</th>\n",
       "      <th>Kills</th>\n",
       "      <th>Assist</th>\n",
       "      <th>Kills</th>\n",
       "      <th>Assist</th>\n",
       "      <th>Kills</th>\n",
       "      <th>Assist</th>\n",
       "      <th>Kills</th>\n",
       "      <th>Assist</th>\n",
       "      <th>Kills</th>\n",
       "      <th>Assist</th>\n",
       "      <th>Kills</th>\n",
       "      <th>Assist</th>\n",
       "      <th>Kills</th>\n",
       "      <th>Assist</th>\n",
       "      <th>Kills</th>\n",
       "      <th>Assist</th>\n",
       "      <th>Kills</th>\n",
       "      <th>Assist</th>\n",
       "    </tr>\n",
       "  </thead>\n",
       "  <tbody>\n",
       "    <tr>\n",
       "      <th>0</th>\n",
       "      <td>http://matchhistory.na.leagueoflegends.com/en/...</td>\n",
       "      <td>NALCS</td>\n",
       "      <td>2015</td>\n",
       "      <td>Spring</td>\n",
       "      <td>Season</td>\n",
       "      <td>40</td>\n",
       "      <td>Blue</td>\n",
       "      <td>TSM</td>\n",
       "      <td>Dyrus</td>\n",
       "      <td>Irelia</td>\n",
       "      <td>Santorin</td>\n",
       "      <td>RekSai</td>\n",
       "      <td>Bjergsen</td>\n",
       "      <td>Ahri</td>\n",
       "      <td>WildTurtle</td>\n",
       "      <td>Jinx</td>\n",
       "      <td>Lustboy</td>\n",
       "      <td>Janna</td>\n",
       "      <td>C9</td>\n",
       "      <td>Balls</td>\n",
       "      <td>Gnar</td>\n",
       "      <td>Meteos</td>\n",
       "      <td>Elise</td>\n",
       "      <td>Hai</td>\n",
       "      <td>Fizz</td>\n",
       "      <td>Sneaky</td>\n",
       "      <td>Sivir</td>\n",
       "      <td>LemonNation</td>\n",
       "      <td>Thresh</td>\n",
       "      <td>-268</td>\n",
       "      <td>-625</td>\n",
       "      <td>-790</td>\n",
       "      <td>5068</td>\n",
       "      <td>11361</td>\n",
       "      <td>18324</td>\n",
       "      <td>5336</td>\n",
       "      <td>11986</td>\n",
       "      <td>19114</td>\n",
       "      <td>893</td>\n",
       "      <td>2051</td>\n",
       "      <td>3630</td>\n",
       "      <td>1049</td>\n",
       "      <td>2486</td>\n",
       "      <td>3632</td>\n",
       "      <td>1102</td>\n",
       "      <td>2663</td>\n",
       "      <td>4608</td>\n",
       "      <td>1127</td>\n",
       "      <td>2495</td>\n",
       "      <td>4051</td>\n",
       "      <td>897</td>\n",
       "      <td>1666</td>\n",
       "      <td>2403</td>\n",
       "      <td>958</td>\n",
       "      <td>2587</td>\n",
       "      <td>4377</td>\n",
       "      <td>1192</td>\n",
       "      <td>2555</td>\n",
       "      <td>4099</td>\n",
       "      <td>1178</td>\n",
       "      <td>2561</td>\n",
       "      <td>4043</td>\n",
       "      <td>1097</td>\n",
       "      <td>2621</td>\n",
       "      <td>4149</td>\n",
       "      <td>911</td>\n",
       "      <td>1662</td>\n",
       "      <td>2446</td>\n",
       "      <td>Rumble</td>\n",
       "      <td>Kassadin</td>\n",
       "      <td>Lissandra</td>\n",
       "      <td>None</td>\n",
       "      <td>None</td>\n",
       "      <td>Tristana</td>\n",
       "      <td>Leblanc</td>\n",
       "      <td>Nidalee</td>\n",
       "      <td>None</td>\n",
       "      <td>None</td>\n",
       "      <td>0</td>\n",
       "      <td>0</td>\n",
       "      <td>0</td>\n",
       "      <td>1</td>\n",
       "      <td>0</td>\n",
       "      <td>0</td>\n",
       "      <td>8</td>\n",
       "      <td>8</td>\n",
       "      <td>2</td>\n",
       "      <td>8</td>\n",
       "      <td>5</td>\n",
       "      <td>10</td>\n",
       "      <td>0</td>\n",
       "      <td>15</td>\n",
       "      <td>1</td>\n",
       "      <td>13</td>\n",
       "      <td>1</td>\n",
       "      <td>5</td>\n",
       "      <td>1</td>\n",
       "      <td>7</td>\n",
       "      <td>6</td>\n",
       "      <td>3</td>\n",
       "      <td>0</td>\n",
       "      <td>7</td>\n",
       "      <td>1</td>\n",
       "      <td>6</td>\n",
       "    </tr>\n",
       "    <tr>\n",
       "      <th>1</th>\n",
       "      <td>http://matchhistory.na.leagueoflegends.com/en/...</td>\n",
       "      <td>NALCS</td>\n",
       "      <td>2015</td>\n",
       "      <td>Spring</td>\n",
       "      <td>Season</td>\n",
       "      <td>38</td>\n",
       "      <td>Red</td>\n",
       "      <td>CST</td>\n",
       "      <td>Cris</td>\n",
       "      <td>Gnar</td>\n",
       "      <td>Impaler</td>\n",
       "      <td>Rengar</td>\n",
       "      <td>Jesiz</td>\n",
       "      <td>Ahri</td>\n",
       "      <td>Mash</td>\n",
       "      <td>Caitlyn</td>\n",
       "      <td>Sheep</td>\n",
       "      <td>Leona</td>\n",
       "      <td>DIG</td>\n",
       "      <td>Gamsu</td>\n",
       "      <td>Irelia</td>\n",
       "      <td>Crumbzz</td>\n",
       "      <td>JarvanIV</td>\n",
       "      <td>Shiphtur</td>\n",
       "      <td>Azir</td>\n",
       "      <td>CoreJJ</td>\n",
       "      <td>Corki</td>\n",
       "      <td>KiWiKiD</td>\n",
       "      <td>Annie</td>\n",
       "      <td>147</td>\n",
       "      <td>-242</td>\n",
       "      <td>1394</td>\n",
       "      <td>5511</td>\n",
       "      <td>11419</td>\n",
       "      <td>19698</td>\n",
       "      <td>5364</td>\n",
       "      <td>11661</td>\n",
       "      <td>18304</td>\n",
       "      <td>1127</td>\n",
       "      <td>2406</td>\n",
       "      <td>4594</td>\n",
       "      <td>1176</td>\n",
       "      <td>2350</td>\n",
       "      <td>3929</td>\n",
       "      <td>1102</td>\n",
       "      <td>2547</td>\n",
       "      <td>4549</td>\n",
       "      <td>1182</td>\n",
       "      <td>2415</td>\n",
       "      <td>3869</td>\n",
       "      <td>924</td>\n",
       "      <td>1701</td>\n",
       "      <td>2757</td>\n",
       "      <td>1042</td>\n",
       "      <td>2346</td>\n",
       "      <td>3770</td>\n",
       "      <td>1105</td>\n",
       "      <td>2285</td>\n",
       "      <td>3415</td>\n",
       "      <td>1097</td>\n",
       "      <td>2601</td>\n",
       "      <td>4418</td>\n",
       "      <td>1220</td>\n",
       "      <td>2670</td>\n",
       "      <td>4061</td>\n",
       "      <td>900</td>\n",
       "      <td>1759</td>\n",
       "      <td>2640</td>\n",
       "      <td>Kassadin</td>\n",
       "      <td>Sivir</td>\n",
       "      <td>Lissandra</td>\n",
       "      <td>None</td>\n",
       "      <td>None</td>\n",
       "      <td>RekSai</td>\n",
       "      <td>Janna</td>\n",
       "      <td>Leblanc</td>\n",
       "      <td>None</td>\n",
       "      <td>None</td>\n",
       "      <td>0</td>\n",
       "      <td>0</td>\n",
       "      <td>1</td>\n",
       "      <td>0</td>\n",
       "      <td>0</td>\n",
       "      <td>1</td>\n",
       "      <td>4</td>\n",
       "      <td>1</td>\n",
       "      <td>3</td>\n",
       "      <td>3</td>\n",
       "      <td>2</td>\n",
       "      <td>5</td>\n",
       "      <td>0</td>\n",
       "      <td>7</td>\n",
       "      <td>1</td>\n",
       "      <td>7</td>\n",
       "      <td>4</td>\n",
       "      <td>4</td>\n",
       "      <td>1</td>\n",
       "      <td>6</td>\n",
       "      <td>3</td>\n",
       "      <td>3</td>\n",
       "      <td>1</td>\n",
       "      <td>6</td>\n",
       "      <td>0</td>\n",
       "      <td>4</td>\n",
       "    </tr>\n",
       "    <tr>\n",
       "      <th>2</th>\n",
       "      <td>http://matchhistory.na.leagueoflegends.com/en/...</td>\n",
       "      <td>NALCS</td>\n",
       "      <td>2015</td>\n",
       "      <td>Spring</td>\n",
       "      <td>Season</td>\n",
       "      <td>40</td>\n",
       "      <td>Blue</td>\n",
       "      <td>WFX</td>\n",
       "      <td>Flaresz</td>\n",
       "      <td>Renekton</td>\n",
       "      <td>ShorterACE</td>\n",
       "      <td>Rengar</td>\n",
       "      <td>Pobelter</td>\n",
       "      <td>Fizz</td>\n",
       "      <td>Altec</td>\n",
       "      <td>Sivir</td>\n",
       "      <td>Gleeb</td>\n",
       "      <td>Annie</td>\n",
       "      <td>GV</td>\n",
       "      <td>Hauntzer</td>\n",
       "      <td>Sion</td>\n",
       "      <td>Saintvicious</td>\n",
       "      <td>LeeSin</td>\n",
       "      <td>Keane</td>\n",
       "      <td>Azir</td>\n",
       "      <td>Cop</td>\n",
       "      <td>Corki</td>\n",
       "      <td>BunnyFuFuu</td>\n",
       "      <td>Janna</td>\n",
       "      <td>34</td>\n",
       "      <td>913</td>\n",
       "      <td>2922</td>\n",
       "      <td>4933</td>\n",
       "      <td>12374</td>\n",
       "      <td>21237</td>\n",
       "      <td>4899</td>\n",
       "      <td>11461</td>\n",
       "      <td>18315</td>\n",
       "      <td>828</td>\n",
       "      <td>2419</td>\n",
       "      <td>4187</td>\n",
       "      <td>1041</td>\n",
       "      <td>2552</td>\n",
       "      <td>4026</td>\n",
       "      <td>1065</td>\n",
       "      <td>2865</td>\n",
       "      <td>4861</td>\n",
       "      <td>1130</td>\n",
       "      <td>2723</td>\n",
       "      <td>4899</td>\n",
       "      <td>869</td>\n",
       "      <td>1815</td>\n",
       "      <td>3264</td>\n",
       "      <td>861</td>\n",
       "      <td>2113</td>\n",
       "      <td>3532</td>\n",
       "      <td>1089</td>\n",
       "      <td>2454</td>\n",
       "      <td>3971</td>\n",
       "      <td>1006</td>\n",
       "      <td>2254</td>\n",
       "      <td>3578</td>\n",
       "      <td>1085</td>\n",
       "      <td>2854</td>\n",
       "      <td>4582</td>\n",
       "      <td>858</td>\n",
       "      <td>1786</td>\n",
       "      <td>2652</td>\n",
       "      <td>JarvanIV</td>\n",
       "      <td>Lissandra</td>\n",
       "      <td>Kassadin</td>\n",
       "      <td>None</td>\n",
       "      <td>None</td>\n",
       "      <td>Leblanc</td>\n",
       "      <td>Zed</td>\n",
       "      <td>RekSai</td>\n",
       "      <td>None</td>\n",
       "      <td>None</td>\n",
       "      <td>0</td>\n",
       "      <td>0</td>\n",
       "      <td>0</td>\n",
       "      <td>1</td>\n",
       "      <td>0</td>\n",
       "      <td>0</td>\n",
       "      <td>7</td>\n",
       "      <td>6</td>\n",
       "      <td>3</td>\n",
       "      <td>10</td>\n",
       "      <td>9</td>\n",
       "      <td>10</td>\n",
       "      <td>2</td>\n",
       "      <td>13</td>\n",
       "      <td>1</td>\n",
       "      <td>13</td>\n",
       "      <td>3</td>\n",
       "      <td>2</td>\n",
       "      <td>2</td>\n",
       "      <td>4</td>\n",
       "      <td>2</td>\n",
       "      <td>2</td>\n",
       "      <td>0</td>\n",
       "      <td>6</td>\n",
       "      <td>1</td>\n",
       "      <td>4</td>\n",
       "    </tr>\n",
       "    <tr>\n",
       "      <th>3</th>\n",
       "      <td>http://matchhistory.na.leagueoflegends.com/en/...</td>\n",
       "      <td>NALCS</td>\n",
       "      <td>2015</td>\n",
       "      <td>Spring</td>\n",
       "      <td>Season</td>\n",
       "      <td>41</td>\n",
       "      <td>Red</td>\n",
       "      <td>TIP</td>\n",
       "      <td>Rhux</td>\n",
       "      <td>Irelia</td>\n",
       "      <td>Rush</td>\n",
       "      <td>JarvanIV</td>\n",
       "      <td>XiaoWeiXiao</td>\n",
       "      <td>Leblanc</td>\n",
       "      <td>Apollo</td>\n",
       "      <td>Sivir</td>\n",
       "      <td>Adrian</td>\n",
       "      <td>Thresh</td>\n",
       "      <td>TL</td>\n",
       "      <td>Quas</td>\n",
       "      <td>Gnar</td>\n",
       "      <td>IWDominate</td>\n",
       "      <td>Nunu</td>\n",
       "      <td>Fenix</td>\n",
       "      <td>Lulu</td>\n",
       "      <td>KEITH</td>\n",
       "      <td>KogMaw</td>\n",
       "      <td>Xpecial</td>\n",
       "      <td>Janna</td>\n",
       "      <td>228</td>\n",
       "      <td>16</td>\n",
       "      <td>-335</td>\n",
       "      <td>5398</td>\n",
       "      <td>12033</td>\n",
       "      <td>19332</td>\n",
       "      <td>5170</td>\n",
       "      <td>12017</td>\n",
       "      <td>19667</td>\n",
       "      <td>992</td>\n",
       "      <td>2662</td>\n",
       "      <td>4296</td>\n",
       "      <td>1272</td>\n",
       "      <td>2390</td>\n",
       "      <td>3627</td>\n",
       "      <td>1066</td>\n",
       "      <td>2533</td>\n",
       "      <td>4378</td>\n",
       "      <td>1202</td>\n",
       "      <td>2756</td>\n",
       "      <td>4555</td>\n",
       "      <td>866</td>\n",
       "      <td>1692</td>\n",
       "      <td>2476</td>\n",
       "      <td>922</td>\n",
       "      <td>2390</td>\n",
       "      <td>3785</td>\n",
       "      <td>1171</td>\n",
       "      <td>2937</td>\n",
       "      <td>4646</td>\n",
       "      <td>1046</td>\n",
       "      <td>2468</td>\n",
       "      <td>4420</td>\n",
       "      <td>1161</td>\n",
       "      <td>2568</td>\n",
       "      <td>4243</td>\n",
       "      <td>870</td>\n",
       "      <td>1654</td>\n",
       "      <td>2573</td>\n",
       "      <td>Annie</td>\n",
       "      <td>Lissandra</td>\n",
       "      <td>Kassadin</td>\n",
       "      <td>None</td>\n",
       "      <td>None</td>\n",
       "      <td>RekSai</td>\n",
       "      <td>Rumble</td>\n",
       "      <td>LeeSin</td>\n",
       "      <td>None</td>\n",
       "      <td>None</td>\n",
       "      <td>0</td>\n",
       "      <td>0</td>\n",
       "      <td>1</td>\n",
       "      <td>0</td>\n",
       "      <td>0</td>\n",
       "      <td>1</td>\n",
       "      <td>4</td>\n",
       "      <td>3</td>\n",
       "      <td>4</td>\n",
       "      <td>3</td>\n",
       "      <td>1</td>\n",
       "      <td>7</td>\n",
       "      <td>0</td>\n",
       "      <td>4</td>\n",
       "      <td>1</td>\n",
       "      <td>8</td>\n",
       "      <td>5</td>\n",
       "      <td>12</td>\n",
       "      <td>7</td>\n",
       "      <td>6</td>\n",
       "      <td>6</td>\n",
       "      <td>11</td>\n",
       "      <td>0</td>\n",
       "      <td>16</td>\n",
       "      <td>3</td>\n",
       "      <td>16</td>\n",
       "    </tr>\n",
       "    <tr>\n",
       "      <th>4</th>\n",
       "      <td>http://matchhistory.na.leagueoflegends.com/en/...</td>\n",
       "      <td>NALCS</td>\n",
       "      <td>2015</td>\n",
       "      <td>Spring</td>\n",
       "      <td>Season</td>\n",
       "      <td>35</td>\n",
       "      <td>Blue</td>\n",
       "      <td>CLG</td>\n",
       "      <td>Benny</td>\n",
       "      <td>Gnar</td>\n",
       "      <td>Xmithie</td>\n",
       "      <td>JarvanIV</td>\n",
       "      <td>Link</td>\n",
       "      <td>Lissandra</td>\n",
       "      <td>Doublelift</td>\n",
       "      <td>Tristana</td>\n",
       "      <td>aphromoo</td>\n",
       "      <td>Janna</td>\n",
       "      <td>T8</td>\n",
       "      <td>CaliTrlolz8</td>\n",
       "      <td>Sion</td>\n",
       "      <td>Porpoise8</td>\n",
       "      <td>RekSai</td>\n",
       "      <td>Slooshi8</td>\n",
       "      <td>Lulu</td>\n",
       "      <td>Maplestreet8</td>\n",
       "      <td>Corki</td>\n",
       "      <td>Dodo8</td>\n",
       "      <td>Annie</td>\n",
       "      <td>113</td>\n",
       "      <td>205</td>\n",
       "      <td>-574</td>\n",
       "      <td>5404</td>\n",
       "      <td>11943</td>\n",
       "      <td>19426</td>\n",
       "      <td>5291</td>\n",
       "      <td>11738</td>\n",
       "      <td>20000</td>\n",
       "      <td>1038</td>\n",
       "      <td>2446</td>\n",
       "      <td>4020</td>\n",
       "      <td>1174</td>\n",
       "      <td>2272</td>\n",
       "      <td>3696</td>\n",
       "      <td>1112</td>\n",
       "      <td>2643</td>\n",
       "      <td>4157</td>\n",
       "      <td>1203</td>\n",
       "      <td>2907</td>\n",
       "      <td>4933</td>\n",
       "      <td>877</td>\n",
       "      <td>1675</td>\n",
       "      <td>2620</td>\n",
       "      <td>1025</td>\n",
       "      <td>2523</td>\n",
       "      <td>4284</td>\n",
       "      <td>1220</td>\n",
       "      <td>2576</td>\n",
       "      <td>4353</td>\n",
       "      <td>1042</td>\n",
       "      <td>2443</td>\n",
       "      <td>4321</td>\n",
       "      <td>1187</td>\n",
       "      <td>2622</td>\n",
       "      <td>4459</td>\n",
       "      <td>817</td>\n",
       "      <td>1574</td>\n",
       "      <td>2583</td>\n",
       "      <td>Irelia</td>\n",
       "      <td>Pantheon</td>\n",
       "      <td>Kassadin</td>\n",
       "      <td>None</td>\n",
       "      <td>None</td>\n",
       "      <td>Rumble</td>\n",
       "      <td>Sivir</td>\n",
       "      <td>Rengar</td>\n",
       "      <td>None</td>\n",
       "      <td>None</td>\n",
       "      <td>1</td>\n",
       "      <td>2</td>\n",
       "      <td>0</td>\n",
       "      <td>1</td>\n",
       "      <td>1</td>\n",
       "      <td>0</td>\n",
       "      <td>9</td>\n",
       "      <td>10</td>\n",
       "      <td>2</td>\n",
       "      <td>14</td>\n",
       "      <td>7</td>\n",
       "      <td>6</td>\n",
       "      <td>1</td>\n",
       "      <td>20</td>\n",
       "      <td>3</td>\n",
       "      <td>15</td>\n",
       "      <td>0</td>\n",
       "      <td>9</td>\n",
       "      <td>5</td>\n",
       "      <td>3</td>\n",
       "      <td>3</td>\n",
       "      <td>5</td>\n",
       "      <td>0</td>\n",
       "      <td>5</td>\n",
       "      <td>2</td>\n",
       "      <td>5</td>\n",
       "    </tr>\n",
       "  </tbody>\n",
       "</table>\n",
       "</div>"
      ],
      "text/plain": [
       "                                                Info                       \\\n",
       "                                             MatchID                        \n",
       "                                             Address League  Year  Season   \n",
       "0  http://matchhistory.na.leagueoflegends.com/en/...  NALCS  2015  Spring   \n",
       "1  http://matchhistory.na.leagueoflegends.com/en/...  NALCS  2015  Spring   \n",
       "2  http://matchhistory.na.leagueoflegends.com/en/...  NALCS  2015  Spring   \n",
       "3  http://matchhistory.na.leagueoflegends.com/en/...  NALCS  2015  Spring   \n",
       "4  http://matchhistory.na.leagueoflegends.com/en/...  NALCS  2015  Spring   \n",
       "\n",
       "                                        Blue                        \\\n",
       "                            BlueTag      Top                Jungle   \n",
       "     Type gamelength Winner TeamTag      Top  TopChamp      Jungle   \n",
       "0  Season         40   Blue     TSM    Dyrus    Irelia    Santorin   \n",
       "1  Season         38    Red     CST     Cris      Gnar     Impaler   \n",
       "2  Season         40   Blue     WFX  Flaresz  Renekton  ShorterACE   \n",
       "3  Season         41    Red     TIP     Rhux    Irelia        Rush   \n",
       "4  Season         35   Blue     CLG    Benny      Gnar     Xmithie   \n",
       "\n",
       "                                                                        \\\n",
       "                    Middle                     ADC             Support   \n",
       "  JungleChamp       Middle MiddleChamp         ADC  ADCChamp   Support   \n",
       "0      RekSai     Bjergsen        Ahri  WildTurtle      Jinx   Lustboy   \n",
       "1      Rengar        Jesiz        Ahri        Mash   Caitlyn     Sheep   \n",
       "2      Rengar     Pobelter        Fizz       Altec     Sivir     Gleeb   \n",
       "3    JarvanIV  XiaoWeiXiao     Leblanc      Apollo     Sivir    Adrian   \n",
       "4    JarvanIV         Link   Lissandra  Doublelift  Tristana  aphromoo   \n",
       "\n",
       "                  Info          Red                                     \\\n",
       "                RedTag          Top                 Jungle               \n",
       "  SupportChamp TeamTag          Top TopChamp        Jungle JungleChamp   \n",
       "0        Janna      C9        Balls     Gnar        Meteos       Elise   \n",
       "1        Leona     DIG        Gamsu   Irelia       Crumbzz    JarvanIV   \n",
       "2        Annie      GV     Hauntzer     Sion  Saintvicious      LeeSin   \n",
       "3       Thresh      TL         Quas     Gnar    IWDominate        Nunu   \n",
       "4        Janna      T8  CaliTrlolz8     Sion     Porpoise8      RekSai   \n",
       "\n",
       "                                                                          \\\n",
       "     Middle                       ADC               Support                \n",
       "     Middle MiddleChamp           ADC ADCChamp      Support SupportChamp   \n",
       "0       Hai        Fizz        Sneaky    Sivir  LemonNation       Thresh   \n",
       "1  Shiphtur        Azir        CoreJJ    Corki      KiWiKiD        Annie   \n",
       "2     Keane        Azir           Cop    Corki   BunnyFuFuu        Janna   \n",
       "3     Fenix        Lulu         KEITH   KogMaw      Xpecial        Janna   \n",
       "4  Slooshi8        Lulu  Maplestreet8    Corki        Dodo8        Annie   \n",
       "\n",
       "    Info                     Blue                      Red                  \\\n",
       "    diff                 TeamGold                 TeamGold                   \n",
       "  Gold_5 Gold_10 Gold_15   Gold_5 Gold_10 Gold_15   Gold_5 Gold_10 Gold_15   \n",
       "0   -268    -625    -790     5068   11361   18324     5336   11986   19114   \n",
       "1    147    -242    1394     5511   11419   19698     5364   11661   18304   \n",
       "2     34     913    2922     4933   12374   21237     4899   11461   18315   \n",
       "3    228      16    -335     5398   12033   19332     5170   12017   19667   \n",
       "4    113     205    -574     5404   11943   19426     5291   11738   20000   \n",
       "\n",
       "    Blue                                                                       \\\n",
       "     Top                 Jungle                 Middle                    ADC   \n",
       "  Gold_5 Gold_10 Gold_15 Gold_5 Gold_10 Gold_15 Gold_5 Gold_10 Gold_15 Gold_5   \n",
       "0    893    2051    3630   1049    2486    3632   1102    2663    4608   1127   \n",
       "1   1127    2406    4594   1176    2350    3929   1102    2547    4549   1182   \n",
       "2    828    2419    4187   1041    2552    4026   1065    2865    4861   1130   \n",
       "3    992    2662    4296   1272    2390    3627   1066    2533    4378   1202   \n",
       "4   1038    2446    4020   1174    2272    3696   1112    2643    4157   1203   \n",
       "\n",
       "                                             Red                         \\\n",
       "                  Support                    Top                 Jungle   \n",
       "  Gold_10 Gold_15  Gold_5 Gold_10 Gold_15 Gold_5 Gold_10 Gold_15 Gold_5   \n",
       "0    2495    4051     897    1666    2403    958    2587    4377   1192   \n",
       "1    2415    3869     924    1701    2757   1042    2346    3770   1105   \n",
       "2    2723    4899     869    1815    3264    861    2113    3532   1089   \n",
       "3    2756    4555     866    1692    2476    922    2390    3785   1171   \n",
       "4    2907    4933     877    1675    2620   1025    2523    4284   1220   \n",
       "\n",
       "                                                                         \\\n",
       "                  Middle                    ADC                 Support   \n",
       "  Gold_10 Gold_15 Gold_5 Gold_10 Gold_15 Gold_5 Gold_10 Gold_15  Gold_5   \n",
       "0    2555    4099   1178    2561    4043   1097    2621    4149     911   \n",
       "1    2285    3415   1097    2601    4418   1220    2670    4061     900   \n",
       "2    2454    3971   1006    2254    3578   1085    2854    4582     858   \n",
       "3    2937    4646   1046    2468    4420   1161    2568    4243     870   \n",
       "4    2576    4353   1042    2443    4321   1187    2622    4459     817   \n",
       "\n",
       "                       Blue                                         Red  \\\n",
       "                       Bans                                        Bans   \n",
       "  Gold_10 Gold_15     ban_1      ban_2      ban_3 ban_4 ban_5     ban_1   \n",
       "0    1662    2446    Rumble   Kassadin  Lissandra  None  None  Tristana   \n",
       "1    1759    2640  Kassadin      Sivir  Lissandra  None  None    RekSai   \n",
       "2    1786    2652  JarvanIV  Lissandra   Kassadin  None  None   Leblanc   \n",
       "3    1654    2573     Annie  Lissandra   Kassadin  None  None    RekSai   \n",
       "4    1574    2583    Irelia   Pantheon   Kassadin  None  None    Rumble   \n",
       "\n",
       "                                      Blue        Red       Blue        Red  \\\n",
       "                                Structures Structures Structures Structures   \n",
       "     ban_2    ban_3 ban_4 ban_5     Towers     Towers      Inhib      Inhib   \n",
       "0  Leblanc  Nidalee  None  None          0          0          0          1   \n",
       "1    Janna  Leblanc  None  None          0          0          1          0   \n",
       "2      Zed   RekSai  None  None          0          0          0          1   \n",
       "3   Rumble   LeeSin  None  None          0          0          1          0   \n",
       "4    Sivir   Rengar  None  None          1          2          0          1   \n",
       "\n",
       "      Blue      Red   Blue                                                  \\\n",
       "  Monsters Monsters Middle          Top          ADC        Support          \n",
       "    Dragon   Dragon  Kills Assist Kills Assist Kills Assist   Kills Assist   \n",
       "0        0        0      8      8     2      8     5     10       0     15   \n",
       "1        0        1      4      1     3      3     2      5       0      7   \n",
       "2        0        0      7      6     3     10     9     10       2     13   \n",
       "3        0        1      4      3     4      3     1      7       0      4   \n",
       "4        1        0      9     10     2     14     7      6       1     20   \n",
       "\n",
       "                   Red                                                         \\\n",
       "  Jungle        Middle          Top          ADC        Support        Jungle   \n",
       "   Kills Assist  Kills Assist Kills Assist Kills Assist   Kills Assist  Kills   \n",
       "0      1     13      1      5     1      7     6      3       0      7      1   \n",
       "1      1      7      4      4     1      6     3      3       1      6      0   \n",
       "2      1     13      3      2     2      4     2      2       0      6      1   \n",
       "3      1      8      5     12     7      6     6     11       0     16      3   \n",
       "4      3     15      0      9     5      3     3      5       0      5      2   \n",
       "\n",
       "          \n",
       "          \n",
       "  Assist  \n",
       "0      6  \n",
       "1      4  \n",
       "2      4  \n",
       "3     16  \n",
       "4      5  "
      ]
     },
     "execution_count": 6,
     "metadata": {},
     "output_type": "execute_result"
    }
   ],
   "source": [
    "df = pd.read_csv('../clean_data/data.csv', header=[0,1,2],index_col=[0])\n",
    "print(df.shape)\n",
    "df.head()"
   ]
  },
  {
   "cell_type": "code",
   "execution_count": 7,
   "id": "bbf66677-b2ad-4924-b4b9-b74548b9d85d",
   "metadata": {},
   "outputs": [],
   "source": [
    "y = df['Info','MatchID','Winner']\n",
    "X = df.drop(['Winner','Address'],level = 2,axis=1)"
   ]
  },
  {
   "cell_type": "markdown",
   "id": "214030d6",
   "metadata": {},
   "source": [
    "Creating the Training, Validation, and Testing sets"
   ]
  },
  {
   "cell_type": "code",
   "execution_count": 8,
   "id": "3ab61190-659a-4e5d-89e6-082e7da739c9",
   "metadata": {},
   "outputs": [],
   "source": [
    "X_train, X_test, y_train, y_test = train_test_split(X, y, test_size=0.2, random_state = 2023, stratify=y)"
   ]
  },
  {
   "cell_type": "code",
   "execution_count": 9,
   "id": "ebabfa86",
   "metadata": {},
   "outputs": [],
   "source": [
    "X_train, X_val, y_train, y_val = train_test_split(X_train, y_train, test_size=0.2, random_state=2023, stratify=y_train)"
   ]
  },
  {
   "cell_type": "markdown",
   "id": "797a8f2d-7206-47ce-92df-876f47250e73",
   "metadata": {},
   "source": [
    "# SVM - SGDClassifier"
   ]
  },
  {
   "cell_type": "markdown",
   "id": "4a848a3c-d9dd-473c-aeef-8463f98377aa",
   "metadata": {},
   "source": [
    "Creating the model and the pipeline to search for the optimal parameters"
   ]
  },
  {
   "cell_type": "code",
   "execution_count": 10,
   "id": "68d1b2c4-4737-449b-8072-3b506fc9db5d",
   "metadata": {},
   "outputs": [],
   "source": [
    "model = SGDClassifier(loss='log_loss', penalty='L2', max_iter=1000, random_state=2023, tol=1.0e-03)"
   ]
  },
  {
   "cell_type": "code",
   "execution_count": 11,
   "id": "72325970-77a5-4c4a-8626-162fcca8ea5d",
   "metadata": {},
   "outputs": [],
   "source": [
    "CATEGORICAL_VARS = [('Info','MatchID','League'),\n",
    "                    ('Info','MatchID','Year'),\n",
    "                    ('Info','MatchID','Season'),\n",
    "                    ('Info','MatchID','Type'),\n",
    "                    ('Info','BlueTag','TeamTag'),\n",
    "                    ('Blue','Top','Top'),\n",
    "                    ('Blue','Top','TopChamp'),\n",
    "                    ('Blue','Jungle','Jungle'),\n",
    "                    ('Blue','Jungle','JungleChamp'),\n",
    "                    ('Blue','Middle','Middle'),\n",
    "                    ('Blue','Middle','MiddleChamp'),\n",
    "                    ('Blue','ADC','ADC'),\n",
    "                    ('Blue','ADC','ADCChamp'),\n",
    "                    ('Blue','Support','Support'),\n",
    "                    ('Blue','Support','SupportChamp'),\n",
    "                    ('Info','RedTag','TeamTag'),\n",
    "                    ('Red','Top','Top'),\n",
    "                    ('Red','Top','TopChamp'),\n",
    "                    ('Red','Jungle','Jungle'),\n",
    "                    ('Red','Jungle','JungleChamp'),\n",
    "                    ('Red','Middle','Middle'),\n",
    "                    ('Red','Middle','MiddleChamp'),\n",
    "                    ('Red','ADC','ADC'),\n",
    "                    ('Red','ADC','ADCChamp'),\n",
    "                    ('Red','Support','Support'),\n",
    "                    ('Red','Support','SupportChamp'),\n",
    "                    ('Blue','Bans','ban_1'),\n",
    "                    ('Blue','Bans','ban_2'),\n",
    "                    ('Blue','Bans','ban_3'),\n",
    "                    ('Blue','Bans','ban_4'),\n",
    "                    ('Blue','Bans','ban_5'),\n",
    "                    ('Red','Bans','ban_1'),\n",
    "                    ('Red','Bans','ban_2'),\n",
    "                    ('Red','Bans','ban_3'),\n",
    "                    ('Red','Bans','ban_4'),\n",
    "                    ('Red','Bans','ban_5')\n",
    "                   ]\n",
    "\n",
    "NUMERIC_VARS = [('Info','MatchID','gamelength'),\n",
    "                ('Info','diff','Gold_5'),\n",
    "                ('Info','diff','Gold_10'),\n",
    "                ('Info','diff','Gold_15'),\n",
    "                ('Blue','TeamGold','Gold_5'),\n",
    "                ('Blue','TeamGold','Gold_10'),\n",
    "                ('Blue','TeamGold','Gold_15'),\n",
    "                ('Red','TeamGold','Gold_5'),\n",
    "                ('Red','TeamGold','Gold_10'),\n",
    "                ('Red','TeamGold','Gold_15'),\n",
    "                ('Blue','Top','Gold_5'),\n",
    "                ('Blue','Top','Gold_10'),\n",
    "                ('Blue','Top','Gold_15'),\n",
    "                ('Blue','Jungle','Gold_5'),\n",
    "                ('Blue','Jungle','Gold_10'),\n",
    "                ('Blue','Jungle','Gold_15'),\n",
    "                ('Blue','Middle','Gold_5'),\n",
    "                ('Blue','Middle','Gold_10'),\n",
    "                ('Blue','Middle','Gold_15'),\n",
    "                ('Blue','ADC','Gold_5'),\n",
    "                ('Blue','ADC','Gold_10'),\n",
    "                ('Blue','ADC','Gold_15'),\n",
    "                ('Blue','Support','Gold_5'),\n",
    "                ('Blue','Support','Gold_10'),\n",
    "                ('Blue','Support','Gold_15'),\n",
    "                ('Red','Top','Gold_5'),\n",
    "                ('Red','Top','Gold_10'),\n",
    "                ('Red','Top','Gold_15'),\n",
    "                ('Red','Jungle','Gold_5'),\n",
    "                ('Red','Jungle','Gold_10'),\n",
    "                ('Red','Jungle','Gold_15'),\n",
    "                ('Red','Middle','Gold_5'),\n",
    "                ('Red','Middle','Gold_10'),\n",
    "                ('Red','Middle','Gold_15'),\n",
    "                ('Red','ADC','Gold_5'),\n",
    "                ('Red','ADC','Gold_10'),\n",
    "                ('Red','ADC','Gold_15'),\n",
    "                ('Red','Support','Gold_5'),\n",
    "                ('Red','Support','Gold_10'),\n",
    "                ('Red','Support','Gold_15'),\n",
    "                ('Blue','Structures','Towers'),\n",
    "                ('Red','Structures','Towers'),\n",
    "                ('Blue','Structures','Inhib'),\n",
    "                ('Red','Structures','Inhib'),\n",
    "                ('Blue','Monsters','Dragon'),\n",
    "                ('Red','Monsters','Dragon'),\n",
    "                ('Blue','Middle','Kills'),\n",
    "                ('Blue','Middle','Assist'),\n",
    "                ('Blue','Top','Kills'),\n",
    "                ('Blue','Top','Assist'),\n",
    "                ('Blue','ADC','Kills'),\n",
    "                ('Blue','ADC','Assist'),\n",
    "                ('Blue','Support','Kills'),\n",
    "                ('Blue','Support','Assist'),\n",
    "                ('Blue','Jungle','Kills'),\n",
    "                ('Blue','Jungle','Assist'),\n",
    "                ('Red','Middle','Kills'),\n",
    "                ('Red','Middle','Assist'),\n",
    "                ('Red','Top','Kills'),\n",
    "                ('Red','Top','Assist'),\n",
    "                ('Red','ADC','Kills'),\n",
    "                ('Red','ADC','Assist'),\n",
    "                ('Red','Support','Kills'),\n",
    "                ('Red','Support','Assist'),\n",
    "                ('Red','Jungle','Kills'),\n",
    "                ('Red','Jungle','Assist')\n",
    "               ]\n",
    "\n",
    "columns = ColumnTransformer([('category', OneHotEncoder(drop='first', handle_unknown='ignore'), CATEGORICAL_VARS),\n",
    " ('numeric', MinMaxScaler(), NUMERIC_VARS)], remainder='drop')"
   ]
  },
  {
   "cell_type": "code",
   "execution_count": 12,
   "id": "67d8ba11",
   "metadata": {},
   "outputs": [],
   "source": [
    "selector = SelectKBest(score_func=chi2, k=20)"
   ]
  },
  {
   "cell_type": "code",
   "execution_count": 13,
   "id": "18ed8e2e-1344-47a6-8113-d51063a29caa",
   "metadata": {},
   "outputs": [],
   "source": [
    "data_pipe = Pipeline(steps=[('preprocess', columns), ('filter', selector)])"
   ]
  },
  {
   "cell_type": "code",
   "execution_count": 15,
   "id": "c1a2c753-cbb9-489e-8c1f-b4a83a66c2a2",
   "metadata": {},
   "outputs": [],
   "source": [
    "pipe = Pipeline(steps=[('data',data_pipe), ('model', model)])"
   ]
  },
  {
   "cell_type": "markdown",
   "id": "820d5a8d-943e-422a-b044-0a6b9e4d7e8f",
   "metadata": {},
   "source": [
    "Grid Search and plot of the accuracies to examine best parameters to set the model as."
   ]
  },
  {
   "cell_type": "code",
   "execution_count": 16,
   "id": "b6b6308c-8c6d-4cac-8f0d-3b9f974cd8a4",
   "metadata": {},
   "outputs": [],
   "source": [
    "param_grid = {\n",
    "    'model__penalty': ['l2', 'l1'],\n",
    "    'model__alpha': np.logspace(-4, 0, 5)\n",
    "}\n",
    "\n",
    "skf = StratifiedKFold(n_splits=5, shuffle=True, random_state=2023)\n",
    "\n",
    "grid_search = GridSearchCV(pipe, param_grid=param_grid, cv=skf, verbose=2)"
   ]
  },
  {
   "cell_type": "code",
   "execution_count": 17,
   "id": "fff6d0d1-e75f-4f16-acce-8e67c7c27007",
   "metadata": {
    "scrolled": true,
    "tags": []
   },
   "outputs": [
    {
     "name": "stdout",
     "output_type": "stream",
     "text": [
      "Fitting 5 folds for each of 10 candidates, totalling 50 fits\n"
     ]
    },
    {
     "name": "stderr",
     "output_type": "stream",
     "text": [
      "C:\\Users\\drago\\Anaconda3\\lib\\site-packages\\sklearn\\preprocessing\\_encoders.py:188: UserWarning: Found unknown categories in columns [4, 5, 6, 7, 9, 10, 11, 13, 14, 15, 16, 17, 18, 19, 20, 21, 22, 23, 24, 25, 26, 27, 28, 29, 30, 31, 32, 34, 35] during transform. These unknown categories will be encoded as all zeros\n",
      "  warnings.warn(\n"
     ]
    },
    {
     "name": "stdout",
     "output_type": "stream",
     "text": [
      "[CV] END .............model__alpha=0.0001, model__penalty=l2; total time=   0.3s\n"
     ]
    },
    {
     "name": "stderr",
     "output_type": "stream",
     "text": [
      "C:\\Users\\drago\\Anaconda3\\lib\\site-packages\\sklearn\\preprocessing\\_encoders.py:188: UserWarning: Found unknown categories in columns [4, 5, 6, 7, 8, 9, 10, 11, 13, 14, 15, 16, 17, 18, 20, 21, 22, 24, 25, 26, 27, 28, 29, 30, 32, 33, 34, 35] during transform. These unknown categories will be encoded as all zeros\n",
      "  warnings.warn(\n"
     ]
    },
    {
     "name": "stdout",
     "output_type": "stream",
     "text": [
      "[CV] END .............model__alpha=0.0001, model__penalty=l2; total time=   0.4s\n"
     ]
    },
    {
     "name": "stderr",
     "output_type": "stream",
     "text": [
      "C:\\Users\\drago\\Anaconda3\\lib\\site-packages\\sklearn\\preprocessing\\_encoders.py:188: UserWarning: Found unknown categories in columns [4, 5, 6, 7, 8, 9, 10, 11, 12, 13, 14, 15, 16, 17, 18, 19, 20, 21, 22, 23, 24, 25, 27, 28, 29, 30, 31, 32, 33, 34, 35] during transform. These unknown categories will be encoded as all zeros\n",
      "  warnings.warn(\n"
     ]
    },
    {
     "name": "stdout",
     "output_type": "stream",
     "text": [
      "[CV] END .............model__alpha=0.0001, model__penalty=l2; total time=   0.3s\n"
     ]
    },
    {
     "name": "stderr",
     "output_type": "stream",
     "text": [
      "C:\\Users\\drago\\Anaconda3\\lib\\site-packages\\sklearn\\preprocessing\\_encoders.py:188: UserWarning: Found unknown categories in columns [4, 5, 6, 7, 8, 9, 10, 11, 12, 13, 14, 15, 16, 17, 18, 19, 20, 21, 22, 23, 24, 25, 26, 27, 28, 29, 30, 31, 32, 33, 34, 35] during transform. These unknown categories will be encoded as all zeros\n",
      "  warnings.warn(\n"
     ]
    },
    {
     "name": "stdout",
     "output_type": "stream",
     "text": [
      "[CV] END .............model__alpha=0.0001, model__penalty=l2; total time=   0.3s\n"
     ]
    },
    {
     "name": "stderr",
     "output_type": "stream",
     "text": [
      "C:\\Users\\drago\\Anaconda3\\lib\\site-packages\\sklearn\\preprocessing\\_encoders.py:188: UserWarning: Found unknown categories in columns [4, 5, 6, 7, 8, 9, 10, 11, 12, 13, 14, 15, 16, 17, 18, 19, 20, 21, 22, 23, 24, 25, 26, 28, 29, 30, 31, 32, 33, 34, 35] during transform. These unknown categories will be encoded as all zeros\n",
      "  warnings.warn(\n"
     ]
    },
    {
     "name": "stdout",
     "output_type": "stream",
     "text": [
      "[CV] END .............model__alpha=0.0001, model__penalty=l2; total time=   0.3s\n"
     ]
    },
    {
     "name": "stderr",
     "output_type": "stream",
     "text": [
      "C:\\Users\\drago\\Anaconda3\\lib\\site-packages\\sklearn\\preprocessing\\_encoders.py:188: UserWarning: Found unknown categories in columns [4, 5, 6, 7, 9, 10, 11, 13, 14, 15, 16, 17, 18, 19, 20, 21, 22, 23, 24, 25, 26, 27, 28, 29, 30, 31, 32, 34, 35] during transform. These unknown categories will be encoded as all zeros\n",
      "  warnings.warn(\n"
     ]
    },
    {
     "name": "stdout",
     "output_type": "stream",
     "text": [
      "[CV] END .............model__alpha=0.0001, model__penalty=l1; total time=   0.3s\n"
     ]
    },
    {
     "name": "stderr",
     "output_type": "stream",
     "text": [
      "C:\\Users\\drago\\Anaconda3\\lib\\site-packages\\sklearn\\preprocessing\\_encoders.py:188: UserWarning: Found unknown categories in columns [4, 5, 6, 7, 8, 9, 10, 11, 13, 14, 15, 16, 17, 18, 20, 21, 22, 24, 25, 26, 27, 28, 29, 30, 32, 33, 34, 35] during transform. These unknown categories will be encoded as all zeros\n",
      "  warnings.warn(\n"
     ]
    },
    {
     "name": "stdout",
     "output_type": "stream",
     "text": [
      "[CV] END .............model__alpha=0.0001, model__penalty=l1; total time=   0.3s\n"
     ]
    },
    {
     "name": "stderr",
     "output_type": "stream",
     "text": [
      "C:\\Users\\drago\\Anaconda3\\lib\\site-packages\\sklearn\\preprocessing\\_encoders.py:188: UserWarning: Found unknown categories in columns [4, 5, 6, 7, 8, 9, 10, 11, 12, 13, 14, 15, 16, 17, 18, 19, 20, 21, 22, 23, 24, 25, 27, 28, 29, 30, 31, 32, 33, 34, 35] during transform. These unknown categories will be encoded as all zeros\n",
      "  warnings.warn(\n"
     ]
    },
    {
     "name": "stdout",
     "output_type": "stream",
     "text": [
      "[CV] END .............model__alpha=0.0001, model__penalty=l1; total time=   0.4s\n"
     ]
    },
    {
     "name": "stderr",
     "output_type": "stream",
     "text": [
      "C:\\Users\\drago\\Anaconda3\\lib\\site-packages\\sklearn\\preprocessing\\_encoders.py:188: UserWarning: Found unknown categories in columns [4, 5, 6, 7, 8, 9, 10, 11, 12, 13, 14, 15, 16, 17, 18, 19, 20, 21, 22, 23, 24, 25, 26, 27, 28, 29, 30, 31, 32, 33, 34, 35] during transform. These unknown categories will be encoded as all zeros\n",
      "  warnings.warn(\n"
     ]
    },
    {
     "name": "stdout",
     "output_type": "stream",
     "text": [
      "[CV] END .............model__alpha=0.0001, model__penalty=l1; total time=   0.3s\n"
     ]
    },
    {
     "name": "stderr",
     "output_type": "stream",
     "text": [
      "C:\\Users\\drago\\Anaconda3\\lib\\site-packages\\sklearn\\preprocessing\\_encoders.py:188: UserWarning: Found unknown categories in columns [4, 5, 6, 7, 8, 9, 10, 11, 12, 13, 14, 15, 16, 17, 18, 19, 20, 21, 22, 23, 24, 25, 26, 28, 29, 30, 31, 32, 33, 34, 35] during transform. These unknown categories will be encoded as all zeros\n",
      "  warnings.warn(\n"
     ]
    },
    {
     "name": "stdout",
     "output_type": "stream",
     "text": [
      "[CV] END .............model__alpha=0.0001, model__penalty=l1; total time=   0.3s\n"
     ]
    },
    {
     "name": "stderr",
     "output_type": "stream",
     "text": [
      "C:\\Users\\drago\\Anaconda3\\lib\\site-packages\\sklearn\\preprocessing\\_encoders.py:188: UserWarning: Found unknown categories in columns [4, 5, 6, 7, 9, 10, 11, 13, 14, 15, 16, 17, 18, 19, 20, 21, 22, 23, 24, 25, 26, 27, 28, 29, 30, 31, 32, 34, 35] during transform. These unknown categories will be encoded as all zeros\n",
      "  warnings.warn(\n"
     ]
    },
    {
     "name": "stdout",
     "output_type": "stream",
     "text": [
      "[CV] END ..............model__alpha=0.001, model__penalty=l2; total time=   0.3s\n"
     ]
    },
    {
     "name": "stderr",
     "output_type": "stream",
     "text": [
      "C:\\Users\\drago\\Anaconda3\\lib\\site-packages\\sklearn\\preprocessing\\_encoders.py:188: UserWarning: Found unknown categories in columns [4, 5, 6, 7, 8, 9, 10, 11, 13, 14, 15, 16, 17, 18, 20, 21, 22, 24, 25, 26, 27, 28, 29, 30, 32, 33, 34, 35] during transform. These unknown categories will be encoded as all zeros\n",
      "  warnings.warn(\n"
     ]
    },
    {
     "name": "stdout",
     "output_type": "stream",
     "text": [
      "[CV] END ..............model__alpha=0.001, model__penalty=l2; total time=   0.3s\n"
     ]
    },
    {
     "name": "stderr",
     "output_type": "stream",
     "text": [
      "C:\\Users\\drago\\Anaconda3\\lib\\site-packages\\sklearn\\preprocessing\\_encoders.py:188: UserWarning: Found unknown categories in columns [4, 5, 6, 7, 8, 9, 10, 11, 12, 13, 14, 15, 16, 17, 18, 19, 20, 21, 22, 23, 24, 25, 27, 28, 29, 30, 31, 32, 33, 34, 35] during transform. These unknown categories will be encoded as all zeros\n",
      "  warnings.warn(\n"
     ]
    },
    {
     "name": "stdout",
     "output_type": "stream",
     "text": [
      "[CV] END ..............model__alpha=0.001, model__penalty=l2; total time=   0.3s\n"
     ]
    },
    {
     "name": "stderr",
     "output_type": "stream",
     "text": [
      "C:\\Users\\drago\\Anaconda3\\lib\\site-packages\\sklearn\\preprocessing\\_encoders.py:188: UserWarning: Found unknown categories in columns [4, 5, 6, 7, 8, 9, 10, 11, 12, 13, 14, 15, 16, 17, 18, 19, 20, 21, 22, 23, 24, 25, 26, 27, 28, 29, 30, 31, 32, 33, 34, 35] during transform. These unknown categories will be encoded as all zeros\n",
      "  warnings.warn(\n"
     ]
    },
    {
     "name": "stdout",
     "output_type": "stream",
     "text": [
      "[CV] END ..............model__alpha=0.001, model__penalty=l2; total time=   0.3s\n"
     ]
    },
    {
     "name": "stderr",
     "output_type": "stream",
     "text": [
      "C:\\Users\\drago\\Anaconda3\\lib\\site-packages\\sklearn\\preprocessing\\_encoders.py:188: UserWarning: Found unknown categories in columns [4, 5, 6, 7, 8, 9, 10, 11, 12, 13, 14, 15, 16, 17, 18, 19, 20, 21, 22, 23, 24, 25, 26, 28, 29, 30, 31, 32, 33, 34, 35] during transform. These unknown categories will be encoded as all zeros\n",
      "  warnings.warn(\n"
     ]
    },
    {
     "name": "stdout",
     "output_type": "stream",
     "text": [
      "[CV] END ..............model__alpha=0.001, model__penalty=l2; total time=   0.3s\n"
     ]
    },
    {
     "name": "stderr",
     "output_type": "stream",
     "text": [
      "C:\\Users\\drago\\Anaconda3\\lib\\site-packages\\sklearn\\preprocessing\\_encoders.py:188: UserWarning: Found unknown categories in columns [4, 5, 6, 7, 9, 10, 11, 13, 14, 15, 16, 17, 18, 19, 20, 21, 22, 23, 24, 25, 26, 27, 28, 29, 30, 31, 32, 34, 35] during transform. These unknown categories will be encoded as all zeros\n",
      "  warnings.warn(\n"
     ]
    },
    {
     "name": "stdout",
     "output_type": "stream",
     "text": [
      "[CV] END ..............model__alpha=0.001, model__penalty=l1; total time=   0.3s\n"
     ]
    },
    {
     "name": "stderr",
     "output_type": "stream",
     "text": [
      "C:\\Users\\drago\\Anaconda3\\lib\\site-packages\\sklearn\\preprocessing\\_encoders.py:188: UserWarning: Found unknown categories in columns [4, 5, 6, 7, 8, 9, 10, 11, 13, 14, 15, 16, 17, 18, 20, 21, 22, 24, 25, 26, 27, 28, 29, 30, 32, 33, 34, 35] during transform. These unknown categories will be encoded as all zeros\n",
      "  warnings.warn(\n"
     ]
    },
    {
     "name": "stdout",
     "output_type": "stream",
     "text": [
      "[CV] END ..............model__alpha=0.001, model__penalty=l1; total time=   0.3s\n"
     ]
    },
    {
     "name": "stderr",
     "output_type": "stream",
     "text": [
      "C:\\Users\\drago\\Anaconda3\\lib\\site-packages\\sklearn\\preprocessing\\_encoders.py:188: UserWarning: Found unknown categories in columns [4, 5, 6, 7, 8, 9, 10, 11, 12, 13, 14, 15, 16, 17, 18, 19, 20, 21, 22, 23, 24, 25, 27, 28, 29, 30, 31, 32, 33, 34, 35] during transform. These unknown categories will be encoded as all zeros\n",
      "  warnings.warn(\n"
     ]
    },
    {
     "name": "stdout",
     "output_type": "stream",
     "text": [
      "[CV] END ..............model__alpha=0.001, model__penalty=l1; total time=   0.3s\n"
     ]
    },
    {
     "name": "stderr",
     "output_type": "stream",
     "text": [
      "C:\\Users\\drago\\Anaconda3\\lib\\site-packages\\sklearn\\preprocessing\\_encoders.py:188: UserWarning: Found unknown categories in columns [4, 5, 6, 7, 8, 9, 10, 11, 12, 13, 14, 15, 16, 17, 18, 19, 20, 21, 22, 23, 24, 25, 26, 27, 28, 29, 30, 31, 32, 33, 34, 35] during transform. These unknown categories will be encoded as all zeros\n",
      "  warnings.warn(\n"
     ]
    },
    {
     "name": "stdout",
     "output_type": "stream",
     "text": [
      "[CV] END ..............model__alpha=0.001, model__penalty=l1; total time=   0.3s\n"
     ]
    },
    {
     "name": "stderr",
     "output_type": "stream",
     "text": [
      "C:\\Users\\drago\\Anaconda3\\lib\\site-packages\\sklearn\\preprocessing\\_encoders.py:188: UserWarning: Found unknown categories in columns [4, 5, 6, 7, 8, 9, 10, 11, 12, 13, 14, 15, 16, 17, 18, 19, 20, 21, 22, 23, 24, 25, 26, 28, 29, 30, 31, 32, 33, 34, 35] during transform. These unknown categories will be encoded as all zeros\n",
      "  warnings.warn(\n"
     ]
    },
    {
     "name": "stdout",
     "output_type": "stream",
     "text": [
      "[CV] END ..............model__alpha=0.001, model__penalty=l1; total time=   0.3s\n"
     ]
    },
    {
     "name": "stderr",
     "output_type": "stream",
     "text": [
      "C:\\Users\\drago\\Anaconda3\\lib\\site-packages\\sklearn\\preprocessing\\_encoders.py:188: UserWarning: Found unknown categories in columns [4, 5, 6, 7, 9, 10, 11, 13, 14, 15, 16, 17, 18, 19, 20, 21, 22, 23, 24, 25, 26, 27, 28, 29, 30, 31, 32, 34, 35] during transform. These unknown categories will be encoded as all zeros\n",
      "  warnings.warn(\n"
     ]
    },
    {
     "name": "stdout",
     "output_type": "stream",
     "text": [
      "[CV] END ...............model__alpha=0.01, model__penalty=l2; total time=   0.3s\n"
     ]
    },
    {
     "name": "stderr",
     "output_type": "stream",
     "text": [
      "C:\\Users\\drago\\Anaconda3\\lib\\site-packages\\sklearn\\preprocessing\\_encoders.py:188: UserWarning: Found unknown categories in columns [4, 5, 6, 7, 8, 9, 10, 11, 13, 14, 15, 16, 17, 18, 20, 21, 22, 24, 25, 26, 27, 28, 29, 30, 32, 33, 34, 35] during transform. These unknown categories will be encoded as all zeros\n",
      "  warnings.warn(\n"
     ]
    },
    {
     "name": "stdout",
     "output_type": "stream",
     "text": [
      "[CV] END ...............model__alpha=0.01, model__penalty=l2; total time=   0.3s\n"
     ]
    },
    {
     "name": "stderr",
     "output_type": "stream",
     "text": [
      "C:\\Users\\drago\\Anaconda3\\lib\\site-packages\\sklearn\\preprocessing\\_encoders.py:188: UserWarning: Found unknown categories in columns [4, 5, 6, 7, 8, 9, 10, 11, 12, 13, 14, 15, 16, 17, 18, 19, 20, 21, 22, 23, 24, 25, 27, 28, 29, 30, 31, 32, 33, 34, 35] during transform. These unknown categories will be encoded as all zeros\n",
      "  warnings.warn(\n"
     ]
    },
    {
     "name": "stdout",
     "output_type": "stream",
     "text": [
      "[CV] END ...............model__alpha=0.01, model__penalty=l2; total time=   0.3s\n"
     ]
    },
    {
     "name": "stderr",
     "output_type": "stream",
     "text": [
      "C:\\Users\\drago\\Anaconda3\\lib\\site-packages\\sklearn\\preprocessing\\_encoders.py:188: UserWarning: Found unknown categories in columns [4, 5, 6, 7, 8, 9, 10, 11, 12, 13, 14, 15, 16, 17, 18, 19, 20, 21, 22, 23, 24, 25, 26, 27, 28, 29, 30, 31, 32, 33, 34, 35] during transform. These unknown categories will be encoded as all zeros\n",
      "  warnings.warn(\n"
     ]
    },
    {
     "name": "stdout",
     "output_type": "stream",
     "text": [
      "[CV] END ...............model__alpha=0.01, model__penalty=l2; total time=   0.3s\n"
     ]
    },
    {
     "name": "stderr",
     "output_type": "stream",
     "text": [
      "C:\\Users\\drago\\Anaconda3\\lib\\site-packages\\sklearn\\preprocessing\\_encoders.py:188: UserWarning: Found unknown categories in columns [4, 5, 6, 7, 8, 9, 10, 11, 12, 13, 14, 15, 16, 17, 18, 19, 20, 21, 22, 23, 24, 25, 26, 28, 29, 30, 31, 32, 33, 34, 35] during transform. These unknown categories will be encoded as all zeros\n",
      "  warnings.warn(\n"
     ]
    },
    {
     "name": "stdout",
     "output_type": "stream",
     "text": [
      "[CV] END ...............model__alpha=0.01, model__penalty=l2; total time=   0.3s\n"
     ]
    },
    {
     "name": "stderr",
     "output_type": "stream",
     "text": [
      "C:\\Users\\drago\\Anaconda3\\lib\\site-packages\\sklearn\\preprocessing\\_encoders.py:188: UserWarning: Found unknown categories in columns [4, 5, 6, 7, 9, 10, 11, 13, 14, 15, 16, 17, 18, 19, 20, 21, 22, 23, 24, 25, 26, 27, 28, 29, 30, 31, 32, 34, 35] during transform. These unknown categories will be encoded as all zeros\n",
      "  warnings.warn(\n"
     ]
    },
    {
     "name": "stdout",
     "output_type": "stream",
     "text": [
      "[CV] END ...............model__alpha=0.01, model__penalty=l1; total time=   0.3s\n"
     ]
    },
    {
     "name": "stderr",
     "output_type": "stream",
     "text": [
      "C:\\Users\\drago\\Anaconda3\\lib\\site-packages\\sklearn\\preprocessing\\_encoders.py:188: UserWarning: Found unknown categories in columns [4, 5, 6, 7, 8, 9, 10, 11, 13, 14, 15, 16, 17, 18, 20, 21, 22, 24, 25, 26, 27, 28, 29, 30, 32, 33, 34, 35] during transform. These unknown categories will be encoded as all zeros\n",
      "  warnings.warn(\n"
     ]
    },
    {
     "name": "stdout",
     "output_type": "stream",
     "text": [
      "[CV] END ...............model__alpha=0.01, model__penalty=l1; total time=   0.3s\n"
     ]
    },
    {
     "name": "stderr",
     "output_type": "stream",
     "text": [
      "C:\\Users\\drago\\Anaconda3\\lib\\site-packages\\sklearn\\preprocessing\\_encoders.py:188: UserWarning: Found unknown categories in columns [4, 5, 6, 7, 8, 9, 10, 11, 12, 13, 14, 15, 16, 17, 18, 19, 20, 21, 22, 23, 24, 25, 27, 28, 29, 30, 31, 32, 33, 34, 35] during transform. These unknown categories will be encoded as all zeros\n",
      "  warnings.warn(\n"
     ]
    },
    {
     "name": "stdout",
     "output_type": "stream",
     "text": [
      "[CV] END ...............model__alpha=0.01, model__penalty=l1; total time=   0.3s\n"
     ]
    },
    {
     "name": "stderr",
     "output_type": "stream",
     "text": [
      "C:\\Users\\drago\\Anaconda3\\lib\\site-packages\\sklearn\\preprocessing\\_encoders.py:188: UserWarning: Found unknown categories in columns [4, 5, 6, 7, 8, 9, 10, 11, 12, 13, 14, 15, 16, 17, 18, 19, 20, 21, 22, 23, 24, 25, 26, 27, 28, 29, 30, 31, 32, 33, 34, 35] during transform. These unknown categories will be encoded as all zeros\n",
      "  warnings.warn(\n"
     ]
    },
    {
     "name": "stdout",
     "output_type": "stream",
     "text": [
      "[CV] END ...............model__alpha=0.01, model__penalty=l1; total time=   0.3s\n"
     ]
    },
    {
     "name": "stderr",
     "output_type": "stream",
     "text": [
      "C:\\Users\\drago\\Anaconda3\\lib\\site-packages\\sklearn\\preprocessing\\_encoders.py:188: UserWarning: Found unknown categories in columns [4, 5, 6, 7, 8, 9, 10, 11, 12, 13, 14, 15, 16, 17, 18, 19, 20, 21, 22, 23, 24, 25, 26, 28, 29, 30, 31, 32, 33, 34, 35] during transform. These unknown categories will be encoded as all zeros\n",
      "  warnings.warn(\n"
     ]
    },
    {
     "name": "stdout",
     "output_type": "stream",
     "text": [
      "[CV] END ...............model__alpha=0.01, model__penalty=l1; total time=   0.3s\n"
     ]
    },
    {
     "name": "stderr",
     "output_type": "stream",
     "text": [
      "C:\\Users\\drago\\Anaconda3\\lib\\site-packages\\sklearn\\preprocessing\\_encoders.py:188: UserWarning: Found unknown categories in columns [4, 5, 6, 7, 9, 10, 11, 13, 14, 15, 16, 17, 18, 19, 20, 21, 22, 23, 24, 25, 26, 27, 28, 29, 30, 31, 32, 34, 35] during transform. These unknown categories will be encoded as all zeros\n",
      "  warnings.warn(\n"
     ]
    },
    {
     "name": "stdout",
     "output_type": "stream",
     "text": [
      "[CV] END ................model__alpha=0.1, model__penalty=l2; total time=   0.3s\n"
     ]
    },
    {
     "name": "stderr",
     "output_type": "stream",
     "text": [
      "C:\\Users\\drago\\Anaconda3\\lib\\site-packages\\sklearn\\preprocessing\\_encoders.py:188: UserWarning: Found unknown categories in columns [4, 5, 6, 7, 8, 9, 10, 11, 13, 14, 15, 16, 17, 18, 20, 21, 22, 24, 25, 26, 27, 28, 29, 30, 32, 33, 34, 35] during transform. These unknown categories will be encoded as all zeros\n",
      "  warnings.warn(\n"
     ]
    },
    {
     "name": "stdout",
     "output_type": "stream",
     "text": [
      "[CV] END ................model__alpha=0.1, model__penalty=l2; total time=   0.3s\n"
     ]
    },
    {
     "name": "stderr",
     "output_type": "stream",
     "text": [
      "C:\\Users\\drago\\Anaconda3\\lib\\site-packages\\sklearn\\preprocessing\\_encoders.py:188: UserWarning: Found unknown categories in columns [4, 5, 6, 7, 8, 9, 10, 11, 12, 13, 14, 15, 16, 17, 18, 19, 20, 21, 22, 23, 24, 25, 27, 28, 29, 30, 31, 32, 33, 34, 35] during transform. These unknown categories will be encoded as all zeros\n",
      "  warnings.warn(\n"
     ]
    },
    {
     "name": "stdout",
     "output_type": "stream",
     "text": [
      "[CV] END ................model__alpha=0.1, model__penalty=l2; total time=   0.3s\n"
     ]
    },
    {
     "name": "stderr",
     "output_type": "stream",
     "text": [
      "C:\\Users\\drago\\Anaconda3\\lib\\site-packages\\sklearn\\preprocessing\\_encoders.py:188: UserWarning: Found unknown categories in columns [4, 5, 6, 7, 8, 9, 10, 11, 12, 13, 14, 15, 16, 17, 18, 19, 20, 21, 22, 23, 24, 25, 26, 27, 28, 29, 30, 31, 32, 33, 34, 35] during transform. These unknown categories will be encoded as all zeros\n",
      "  warnings.warn(\n"
     ]
    },
    {
     "name": "stdout",
     "output_type": "stream",
     "text": [
      "[CV] END ................model__alpha=0.1, model__penalty=l2; total time=   0.3s\n"
     ]
    },
    {
     "name": "stderr",
     "output_type": "stream",
     "text": [
      "C:\\Users\\drago\\Anaconda3\\lib\\site-packages\\sklearn\\preprocessing\\_encoders.py:188: UserWarning: Found unknown categories in columns [4, 5, 6, 7, 8, 9, 10, 11, 12, 13, 14, 15, 16, 17, 18, 19, 20, 21, 22, 23, 24, 25, 26, 28, 29, 30, 31, 32, 33, 34, 35] during transform. These unknown categories will be encoded as all zeros\n",
      "  warnings.warn(\n"
     ]
    },
    {
     "name": "stdout",
     "output_type": "stream",
     "text": [
      "[CV] END ................model__alpha=0.1, model__penalty=l2; total time=   0.3s\n"
     ]
    },
    {
     "name": "stderr",
     "output_type": "stream",
     "text": [
      "C:\\Users\\drago\\Anaconda3\\lib\\site-packages\\sklearn\\preprocessing\\_encoders.py:188: UserWarning: Found unknown categories in columns [4, 5, 6, 7, 9, 10, 11, 13, 14, 15, 16, 17, 18, 19, 20, 21, 22, 23, 24, 25, 26, 27, 28, 29, 30, 31, 32, 34, 35] during transform. These unknown categories will be encoded as all zeros\n",
      "  warnings.warn(\n"
     ]
    },
    {
     "name": "stdout",
     "output_type": "stream",
     "text": [
      "[CV] END ................model__alpha=0.1, model__penalty=l1; total time=   0.4s\n"
     ]
    },
    {
     "name": "stderr",
     "output_type": "stream",
     "text": [
      "C:\\Users\\drago\\Anaconda3\\lib\\site-packages\\sklearn\\preprocessing\\_encoders.py:188: UserWarning: Found unknown categories in columns [4, 5, 6, 7, 8, 9, 10, 11, 13, 14, 15, 16, 17, 18, 20, 21, 22, 24, 25, 26, 27, 28, 29, 30, 32, 33, 34, 35] during transform. These unknown categories will be encoded as all zeros\n",
      "  warnings.warn(\n"
     ]
    },
    {
     "name": "stdout",
     "output_type": "stream",
     "text": [
      "[CV] END ................model__alpha=0.1, model__penalty=l1; total time=   0.3s\n"
     ]
    },
    {
     "name": "stderr",
     "output_type": "stream",
     "text": [
      "C:\\Users\\drago\\Anaconda3\\lib\\site-packages\\sklearn\\preprocessing\\_encoders.py:188: UserWarning: Found unknown categories in columns [4, 5, 6, 7, 8, 9, 10, 11, 12, 13, 14, 15, 16, 17, 18, 19, 20, 21, 22, 23, 24, 25, 27, 28, 29, 30, 31, 32, 33, 34, 35] during transform. These unknown categories will be encoded as all zeros\n",
      "  warnings.warn(\n"
     ]
    },
    {
     "name": "stdout",
     "output_type": "stream",
     "text": [
      "[CV] END ................model__alpha=0.1, model__penalty=l1; total time=   0.3s\n"
     ]
    },
    {
     "name": "stderr",
     "output_type": "stream",
     "text": [
      "C:\\Users\\drago\\Anaconda3\\lib\\site-packages\\sklearn\\preprocessing\\_encoders.py:188: UserWarning: Found unknown categories in columns [4, 5, 6, 7, 8, 9, 10, 11, 12, 13, 14, 15, 16, 17, 18, 19, 20, 21, 22, 23, 24, 25, 26, 27, 28, 29, 30, 31, 32, 33, 34, 35] during transform. These unknown categories will be encoded as all zeros\n",
      "  warnings.warn(\n"
     ]
    },
    {
     "name": "stdout",
     "output_type": "stream",
     "text": [
      "[CV] END ................model__alpha=0.1, model__penalty=l1; total time=   0.3s\n"
     ]
    },
    {
     "name": "stderr",
     "output_type": "stream",
     "text": [
      "C:\\Users\\drago\\Anaconda3\\lib\\site-packages\\sklearn\\preprocessing\\_encoders.py:188: UserWarning: Found unknown categories in columns [4, 5, 6, 7, 8, 9, 10, 11, 12, 13, 14, 15, 16, 17, 18, 19, 20, 21, 22, 23, 24, 25, 26, 28, 29, 30, 31, 32, 33, 34, 35] during transform. These unknown categories will be encoded as all zeros\n",
      "  warnings.warn(\n"
     ]
    },
    {
     "name": "stdout",
     "output_type": "stream",
     "text": [
      "[CV] END ................model__alpha=0.1, model__penalty=l1; total time=   0.3s\n"
     ]
    },
    {
     "name": "stderr",
     "output_type": "stream",
     "text": [
      "C:\\Users\\drago\\Anaconda3\\lib\\site-packages\\sklearn\\preprocessing\\_encoders.py:188: UserWarning: Found unknown categories in columns [4, 5, 6, 7, 9, 10, 11, 13, 14, 15, 16, 17, 18, 19, 20, 21, 22, 23, 24, 25, 26, 27, 28, 29, 30, 31, 32, 34, 35] during transform. These unknown categories will be encoded as all zeros\n",
      "  warnings.warn(\n"
     ]
    },
    {
     "name": "stdout",
     "output_type": "stream",
     "text": [
      "[CV] END ................model__alpha=1.0, model__penalty=l2; total time=   0.3s\n"
     ]
    },
    {
     "name": "stderr",
     "output_type": "stream",
     "text": [
      "C:\\Users\\drago\\Anaconda3\\lib\\site-packages\\sklearn\\preprocessing\\_encoders.py:188: UserWarning: Found unknown categories in columns [4, 5, 6, 7, 8, 9, 10, 11, 13, 14, 15, 16, 17, 18, 20, 21, 22, 24, 25, 26, 27, 28, 29, 30, 32, 33, 34, 35] during transform. These unknown categories will be encoded as all zeros\n",
      "  warnings.warn(\n"
     ]
    },
    {
     "name": "stdout",
     "output_type": "stream",
     "text": [
      "[CV] END ................model__alpha=1.0, model__penalty=l2; total time=   0.3s\n"
     ]
    },
    {
     "name": "stderr",
     "output_type": "stream",
     "text": [
      "C:\\Users\\drago\\Anaconda3\\lib\\site-packages\\sklearn\\preprocessing\\_encoders.py:188: UserWarning: Found unknown categories in columns [4, 5, 6, 7, 8, 9, 10, 11, 12, 13, 14, 15, 16, 17, 18, 19, 20, 21, 22, 23, 24, 25, 27, 28, 29, 30, 31, 32, 33, 34, 35] during transform. These unknown categories will be encoded as all zeros\n",
      "  warnings.warn(\n"
     ]
    },
    {
     "name": "stdout",
     "output_type": "stream",
     "text": [
      "[CV] END ................model__alpha=1.0, model__penalty=l2; total time=   0.3s\n"
     ]
    },
    {
     "name": "stderr",
     "output_type": "stream",
     "text": [
      "C:\\Users\\drago\\Anaconda3\\lib\\site-packages\\sklearn\\preprocessing\\_encoders.py:188: UserWarning: Found unknown categories in columns [4, 5, 6, 7, 8, 9, 10, 11, 12, 13, 14, 15, 16, 17, 18, 19, 20, 21, 22, 23, 24, 25, 26, 27, 28, 29, 30, 31, 32, 33, 34, 35] during transform. These unknown categories will be encoded as all zeros\n",
      "  warnings.warn(\n"
     ]
    },
    {
     "name": "stdout",
     "output_type": "stream",
     "text": [
      "[CV] END ................model__alpha=1.0, model__penalty=l2; total time=   0.3s\n"
     ]
    },
    {
     "name": "stderr",
     "output_type": "stream",
     "text": [
      "C:\\Users\\drago\\Anaconda3\\lib\\site-packages\\sklearn\\preprocessing\\_encoders.py:188: UserWarning: Found unknown categories in columns [4, 5, 6, 7, 8, 9, 10, 11, 12, 13, 14, 15, 16, 17, 18, 19, 20, 21, 22, 23, 24, 25, 26, 28, 29, 30, 31, 32, 33, 34, 35] during transform. These unknown categories will be encoded as all zeros\n",
      "  warnings.warn(\n"
     ]
    },
    {
     "name": "stdout",
     "output_type": "stream",
     "text": [
      "[CV] END ................model__alpha=1.0, model__penalty=l2; total time=   0.3s\n"
     ]
    },
    {
     "name": "stderr",
     "output_type": "stream",
     "text": [
      "C:\\Users\\drago\\Anaconda3\\lib\\site-packages\\sklearn\\preprocessing\\_encoders.py:188: UserWarning: Found unknown categories in columns [4, 5, 6, 7, 9, 10, 11, 13, 14, 15, 16, 17, 18, 19, 20, 21, 22, 23, 24, 25, 26, 27, 28, 29, 30, 31, 32, 34, 35] during transform. These unknown categories will be encoded as all zeros\n",
      "  warnings.warn(\n"
     ]
    },
    {
     "name": "stdout",
     "output_type": "stream",
     "text": [
      "[CV] END ................model__alpha=1.0, model__penalty=l1; total time=   0.3s\n"
     ]
    },
    {
     "name": "stderr",
     "output_type": "stream",
     "text": [
      "C:\\Users\\drago\\Anaconda3\\lib\\site-packages\\sklearn\\preprocessing\\_encoders.py:188: UserWarning: Found unknown categories in columns [4, 5, 6, 7, 8, 9, 10, 11, 13, 14, 15, 16, 17, 18, 20, 21, 22, 24, 25, 26, 27, 28, 29, 30, 32, 33, 34, 35] during transform. These unknown categories will be encoded as all zeros\n",
      "  warnings.warn(\n"
     ]
    },
    {
     "name": "stdout",
     "output_type": "stream",
     "text": [
      "[CV] END ................model__alpha=1.0, model__penalty=l1; total time=   0.3s\n"
     ]
    },
    {
     "name": "stderr",
     "output_type": "stream",
     "text": [
      "C:\\Users\\drago\\Anaconda3\\lib\\site-packages\\sklearn\\preprocessing\\_encoders.py:188: UserWarning: Found unknown categories in columns [4, 5, 6, 7, 8, 9, 10, 11, 12, 13, 14, 15, 16, 17, 18, 19, 20, 21, 22, 23, 24, 25, 27, 28, 29, 30, 31, 32, 33, 34, 35] during transform. These unknown categories will be encoded as all zeros\n",
      "  warnings.warn(\n"
     ]
    },
    {
     "name": "stdout",
     "output_type": "stream",
     "text": [
      "[CV] END ................model__alpha=1.0, model__penalty=l1; total time=   0.3s\n"
     ]
    },
    {
     "name": "stderr",
     "output_type": "stream",
     "text": [
      "C:\\Users\\drago\\Anaconda3\\lib\\site-packages\\sklearn\\preprocessing\\_encoders.py:188: UserWarning: Found unknown categories in columns [4, 5, 6, 7, 8, 9, 10, 11, 12, 13, 14, 15, 16, 17, 18, 19, 20, 21, 22, 23, 24, 25, 26, 27, 28, 29, 30, 31, 32, 33, 34, 35] during transform. These unknown categories will be encoded as all zeros\n",
      "  warnings.warn(\n"
     ]
    },
    {
     "name": "stdout",
     "output_type": "stream",
     "text": [
      "[CV] END ................model__alpha=1.0, model__penalty=l1; total time=   0.3s\n"
     ]
    },
    {
     "name": "stderr",
     "output_type": "stream",
     "text": [
      "C:\\Users\\drago\\Anaconda3\\lib\\site-packages\\sklearn\\preprocessing\\_encoders.py:188: UserWarning: Found unknown categories in columns [4, 5, 6, 7, 8, 9, 10, 11, 12, 13, 14, 15, 16, 17, 18, 19, 20, 21, 22, 23, 24, 25, 26, 28, 29, 30, 31, 32, 33, 34, 35] during transform. These unknown categories will be encoded as all zeros\n",
      "  warnings.warn(\n"
     ]
    },
    {
     "name": "stdout",
     "output_type": "stream",
     "text": [
      "[CV] END ................model__alpha=1.0, model__penalty=l1; total time=   0.3s\n"
     ]
    },
    {
     "data": {
      "text/html": [
       "<style>#sk-container-id-1 {color: black;background-color: white;}#sk-container-id-1 pre{padding: 0;}#sk-container-id-1 div.sk-toggleable {background-color: white;}#sk-container-id-1 label.sk-toggleable__label {cursor: pointer;display: block;width: 100%;margin-bottom: 0;padding: 0.3em;box-sizing: border-box;text-align: center;}#sk-container-id-1 label.sk-toggleable__label-arrow:before {content: \"▸\";float: left;margin-right: 0.25em;color: #696969;}#sk-container-id-1 label.sk-toggleable__label-arrow:hover:before {color: black;}#sk-container-id-1 div.sk-estimator:hover label.sk-toggleable__label-arrow:before {color: black;}#sk-container-id-1 div.sk-toggleable__content {max-height: 0;max-width: 0;overflow: hidden;text-align: left;background-color: #f0f8ff;}#sk-container-id-1 div.sk-toggleable__content pre {margin: 0.2em;color: black;border-radius: 0.25em;background-color: #f0f8ff;}#sk-container-id-1 input.sk-toggleable__control:checked~div.sk-toggleable__content {max-height: 200px;max-width: 100%;overflow: auto;}#sk-container-id-1 input.sk-toggleable__control:checked~label.sk-toggleable__label-arrow:before {content: \"▾\";}#sk-container-id-1 div.sk-estimator input.sk-toggleable__control:checked~label.sk-toggleable__label {background-color: #d4ebff;}#sk-container-id-1 div.sk-label input.sk-toggleable__control:checked~label.sk-toggleable__label {background-color: #d4ebff;}#sk-container-id-1 input.sk-hidden--visually {border: 0;clip: rect(1px 1px 1px 1px);clip: rect(1px, 1px, 1px, 1px);height: 1px;margin: -1px;overflow: hidden;padding: 0;position: absolute;width: 1px;}#sk-container-id-1 div.sk-estimator {font-family: monospace;background-color: #f0f8ff;border: 1px dotted black;border-radius: 0.25em;box-sizing: border-box;margin-bottom: 0.5em;}#sk-container-id-1 div.sk-estimator:hover {background-color: #d4ebff;}#sk-container-id-1 div.sk-parallel-item::after {content: \"\";width: 100%;border-bottom: 1px solid gray;flex-grow: 1;}#sk-container-id-1 div.sk-label:hover label.sk-toggleable__label {background-color: #d4ebff;}#sk-container-id-1 div.sk-serial::before {content: \"\";position: absolute;border-left: 1px solid gray;box-sizing: border-box;top: 0;bottom: 0;left: 50%;z-index: 0;}#sk-container-id-1 div.sk-serial {display: flex;flex-direction: column;align-items: center;background-color: white;padding-right: 0.2em;padding-left: 0.2em;position: relative;}#sk-container-id-1 div.sk-item {position: relative;z-index: 1;}#sk-container-id-1 div.sk-parallel {display: flex;align-items: stretch;justify-content: center;background-color: white;position: relative;}#sk-container-id-1 div.sk-item::before, #sk-container-id-1 div.sk-parallel-item::before {content: \"\";position: absolute;border-left: 1px solid gray;box-sizing: border-box;top: 0;bottom: 0;left: 50%;z-index: -1;}#sk-container-id-1 div.sk-parallel-item {display: flex;flex-direction: column;z-index: 1;position: relative;background-color: white;}#sk-container-id-1 div.sk-parallel-item:first-child::after {align-self: flex-end;width: 50%;}#sk-container-id-1 div.sk-parallel-item:last-child::after {align-self: flex-start;width: 50%;}#sk-container-id-1 div.sk-parallel-item:only-child::after {width: 0;}#sk-container-id-1 div.sk-dashed-wrapped {border: 1px dashed gray;margin: 0 0.4em 0.5em 0.4em;box-sizing: border-box;padding-bottom: 0.4em;background-color: white;}#sk-container-id-1 div.sk-label label {font-family: monospace;font-weight: bold;display: inline-block;line-height: 1.2em;}#sk-container-id-1 div.sk-label-container {text-align: center;}#sk-container-id-1 div.sk-container {/* jupyter's `normalize.less` sets `[hidden] { display: none; }` but bootstrap.min.css set `[hidden] { display: none !important; }` so we also need the `!important` here to be able to override the default hidden behavior on the sphinx rendered scikit-learn.org. See: https://github.com/scikit-learn/scikit-learn/issues/21755 */display: inline-block !important;position: relative;}#sk-container-id-1 div.sk-text-repr-fallback {display: none;}</style><div id=\"sk-container-id-1\" class=\"sk-top-container\"><div class=\"sk-text-repr-fallback\"><pre>GridSearchCV(cv=StratifiedKFold(n_splits=5, random_state=2023, shuffle=True),\n",
       "             estimator=Pipeline(steps=[(&#x27;data&#x27;,\n",
       "                                        Pipeline(steps=[(&#x27;preprocess&#x27;,\n",
       "                                                         ColumnTransformer(transformers=[(&#x27;category&#x27;,\n",
       "                                                                                          OneHotEncoder(drop=&#x27;first&#x27;,\n",
       "                                                                                                        handle_unknown=&#x27;ignore&#x27;),\n",
       "                                                                                          [(&#x27;Info&#x27;,\n",
       "                                                                                            &#x27;MatchID&#x27;,\n",
       "                                                                                            &#x27;League&#x27;),\n",
       "                                                                                           (&#x27;Info&#x27;,\n",
       "                                                                                            &#x27;MatchID&#x27;,\n",
       "                                                                                            &#x27;Year&#x27;),\n",
       "                                                                                           (&#x27;Info&#x27;,\n",
       "                                                                                            &#x27;MatchID&#x27;,\n",
       "                                                                                            &#x27;Season&#x27;),\n",
       "                                                                                           (&#x27;Info&#x27;,\n",
       "                                                                                            &#x27;MatchID&#x27;,\n",
       "                                                                                            &#x27;Type&#x27;),\n",
       "                                                                                           (&#x27;Info...\n",
       "                                                                                            &#x27;Gold_10&#x27;),\n",
       "                                                                                           (&#x27;Red&#x27;,\n",
       "                                                                                            &#x27;Top&#x27;,\n",
       "                                                                                            &#x27;Gold_15&#x27;),\n",
       "                                                                                           (&#x27;Red&#x27;,\n",
       "                                                                                            &#x27;Jungle&#x27;,\n",
       "                                                                                            &#x27;Gold_5&#x27;),\n",
       "                                                                                           (&#x27;Red&#x27;,\n",
       "                                                                                            &#x27;Jungle&#x27;,\n",
       "                                                                                            &#x27;Gold_10&#x27;), ...])])),\n",
       "                                                        (&#x27;filter&#x27;,\n",
       "                                                         SelectKBest(k=20,\n",
       "                                                                     score_func=&lt;function chi2 at 0x000002C08CA64790&gt;))])),\n",
       "                                       (&#x27;model&#x27;,\n",
       "                                        SGDClassifier(loss=&#x27;log_loss&#x27;,\n",
       "                                                      penalty=&#x27;L2&#x27;,\n",
       "                                                      random_state=2023))]),\n",
       "             param_grid={&#x27;model__alpha&#x27;: array([1.e-04, 1.e-03, 1.e-02, 1.e-01, 1.e+00]),\n",
       "                         &#x27;model__penalty&#x27;: [&#x27;l2&#x27;, &#x27;l1&#x27;]},\n",
       "             verbose=2)</pre><b>In a Jupyter environment, please rerun this cell to show the HTML representation or trust the notebook. <br />On GitHub, the HTML representation is unable to render, please try loading this page with nbviewer.org.</b></div><div class=\"sk-container\" hidden><div class=\"sk-item sk-dashed-wrapped\"><div class=\"sk-label-container\"><div class=\"sk-label sk-toggleable\"><input class=\"sk-toggleable__control sk-hidden--visually\" id=\"sk-estimator-id-1\" type=\"checkbox\" ><label for=\"sk-estimator-id-1\" class=\"sk-toggleable__label sk-toggleable__label-arrow\">GridSearchCV</label><div class=\"sk-toggleable__content\"><pre>GridSearchCV(cv=StratifiedKFold(n_splits=5, random_state=2023, shuffle=True),\n",
       "             estimator=Pipeline(steps=[(&#x27;data&#x27;,\n",
       "                                        Pipeline(steps=[(&#x27;preprocess&#x27;,\n",
       "                                                         ColumnTransformer(transformers=[(&#x27;category&#x27;,\n",
       "                                                                                          OneHotEncoder(drop=&#x27;first&#x27;,\n",
       "                                                                                                        handle_unknown=&#x27;ignore&#x27;),\n",
       "                                                                                          [(&#x27;Info&#x27;,\n",
       "                                                                                            &#x27;MatchID&#x27;,\n",
       "                                                                                            &#x27;League&#x27;),\n",
       "                                                                                           (&#x27;Info&#x27;,\n",
       "                                                                                            &#x27;MatchID&#x27;,\n",
       "                                                                                            &#x27;Year&#x27;),\n",
       "                                                                                           (&#x27;Info&#x27;,\n",
       "                                                                                            &#x27;MatchID&#x27;,\n",
       "                                                                                            &#x27;Season&#x27;),\n",
       "                                                                                           (&#x27;Info&#x27;,\n",
       "                                                                                            &#x27;MatchID&#x27;,\n",
       "                                                                                            &#x27;Type&#x27;),\n",
       "                                                                                           (&#x27;Info...\n",
       "                                                                                            &#x27;Gold_10&#x27;),\n",
       "                                                                                           (&#x27;Red&#x27;,\n",
       "                                                                                            &#x27;Top&#x27;,\n",
       "                                                                                            &#x27;Gold_15&#x27;),\n",
       "                                                                                           (&#x27;Red&#x27;,\n",
       "                                                                                            &#x27;Jungle&#x27;,\n",
       "                                                                                            &#x27;Gold_5&#x27;),\n",
       "                                                                                           (&#x27;Red&#x27;,\n",
       "                                                                                            &#x27;Jungle&#x27;,\n",
       "                                                                                            &#x27;Gold_10&#x27;), ...])])),\n",
       "                                                        (&#x27;filter&#x27;,\n",
       "                                                         SelectKBest(k=20,\n",
       "                                                                     score_func=&lt;function chi2 at 0x000002C08CA64790&gt;))])),\n",
       "                                       (&#x27;model&#x27;,\n",
       "                                        SGDClassifier(loss=&#x27;log_loss&#x27;,\n",
       "                                                      penalty=&#x27;L2&#x27;,\n",
       "                                                      random_state=2023))]),\n",
       "             param_grid={&#x27;model__alpha&#x27;: array([1.e-04, 1.e-03, 1.e-02, 1.e-01, 1.e+00]),\n",
       "                         &#x27;model__penalty&#x27;: [&#x27;l2&#x27;, &#x27;l1&#x27;]},\n",
       "             verbose=2)</pre></div></div></div><div class=\"sk-parallel\"><div class=\"sk-parallel-item\"><div class=\"sk-item\"><div class=\"sk-label-container\"><div class=\"sk-label sk-toggleable\"><input class=\"sk-toggleable__control sk-hidden--visually\" id=\"sk-estimator-id-2\" type=\"checkbox\" ><label for=\"sk-estimator-id-2\" class=\"sk-toggleable__label sk-toggleable__label-arrow\">estimator: Pipeline</label><div class=\"sk-toggleable__content\"><pre>Pipeline(steps=[(&#x27;data&#x27;,\n",
       "                 Pipeline(steps=[(&#x27;preprocess&#x27;,\n",
       "                                  ColumnTransformer(transformers=[(&#x27;category&#x27;,\n",
       "                                                                   OneHotEncoder(drop=&#x27;first&#x27;,\n",
       "                                                                                 handle_unknown=&#x27;ignore&#x27;),\n",
       "                                                                   [(&#x27;Info&#x27;,\n",
       "                                                                     &#x27;MatchID&#x27;,\n",
       "                                                                     &#x27;League&#x27;),\n",
       "                                                                    (&#x27;Info&#x27;,\n",
       "                                                                     &#x27;MatchID&#x27;,\n",
       "                                                                     &#x27;Year&#x27;),\n",
       "                                                                    (&#x27;Info&#x27;,\n",
       "                                                                     &#x27;MatchID&#x27;,\n",
       "                                                                     &#x27;Season&#x27;),\n",
       "                                                                    (&#x27;Info&#x27;,\n",
       "                                                                     &#x27;MatchID&#x27;,\n",
       "                                                                     &#x27;Type&#x27;),\n",
       "                                                                    (&#x27;Info&#x27;,\n",
       "                                                                     &#x27;BlueTag&#x27;,\n",
       "                                                                     &#x27;TeamTag&#x27;),\n",
       "                                                                    (&#x27;Blue&#x27;,\n",
       "                                                                     &#x27;Top&#x27;,\n",
       "                                                                     &#x27;Top&#x27;),\n",
       "                                                                    (&#x27;Blue&#x27;,\n",
       "                                                                     &#x27;Top&#x27;,\n",
       "                                                                     &#x27;TopChamp&#x27;),\n",
       "                                                                    (&#x27;Blue&#x27;,\n",
       "                                                                     &#x27;Jungle...\n",
       "                                                                     &#x27;Gold_5&#x27;),\n",
       "                                                                    (&#x27;Blue&#x27;,\n",
       "                                                                     &#x27;Support&#x27;,\n",
       "                                                                     &#x27;Gold_10&#x27;),\n",
       "                                                                    (&#x27;Blue&#x27;,\n",
       "                                                                     &#x27;Support&#x27;,\n",
       "                                                                     &#x27;Gold_15&#x27;),\n",
       "                                                                    (&#x27;Red&#x27;,\n",
       "                                                                     &#x27;Top&#x27;,\n",
       "                                                                     &#x27;Gold_5&#x27;),\n",
       "                                                                    (&#x27;Red&#x27;,\n",
       "                                                                     &#x27;Top&#x27;,\n",
       "                                                                     &#x27;Gold_10&#x27;),\n",
       "                                                                    (&#x27;Red&#x27;,\n",
       "                                                                     &#x27;Top&#x27;,\n",
       "                                                                     &#x27;Gold_15&#x27;),\n",
       "                                                                    (&#x27;Red&#x27;,\n",
       "                                                                     &#x27;Jungle&#x27;,\n",
       "                                                                     &#x27;Gold_5&#x27;),\n",
       "                                                                    (&#x27;Red&#x27;,\n",
       "                                                                     &#x27;Jungle&#x27;,\n",
       "                                                                     &#x27;Gold_10&#x27;), ...])])),\n",
       "                                 (&#x27;filter&#x27;,\n",
       "                                  SelectKBest(k=20,\n",
       "                                              score_func=&lt;function chi2 at 0x000002C08CA64790&gt;))])),\n",
       "                (&#x27;model&#x27;,\n",
       "                 SGDClassifier(loss=&#x27;log_loss&#x27;, penalty=&#x27;L2&#x27;,\n",
       "                               random_state=2023))])</pre></div></div></div><div class=\"sk-serial\"><div class=\"sk-item\"><div class=\"sk-serial\"><div class=\"sk-item\"><div class=\"sk-label-container\"><div class=\"sk-label sk-toggleable\"><input class=\"sk-toggleable__control sk-hidden--visually\" id=\"sk-estimator-id-3\" type=\"checkbox\" ><label for=\"sk-estimator-id-3\" class=\"sk-toggleable__label sk-toggleable__label-arrow\">data: Pipeline</label><div class=\"sk-toggleable__content\"><pre>Pipeline(steps=[(&#x27;preprocess&#x27;,\n",
       "                 ColumnTransformer(transformers=[(&#x27;category&#x27;,\n",
       "                                                  OneHotEncoder(drop=&#x27;first&#x27;,\n",
       "                                                                handle_unknown=&#x27;ignore&#x27;),\n",
       "                                                  [(&#x27;Info&#x27;, &#x27;MatchID&#x27;,\n",
       "                                                    &#x27;League&#x27;),\n",
       "                                                   (&#x27;Info&#x27;, &#x27;MatchID&#x27;, &#x27;Year&#x27;),\n",
       "                                                   (&#x27;Info&#x27;, &#x27;MatchID&#x27;,\n",
       "                                                    &#x27;Season&#x27;),\n",
       "                                                   (&#x27;Info&#x27;, &#x27;MatchID&#x27;, &#x27;Type&#x27;),\n",
       "                                                   (&#x27;Info&#x27;, &#x27;BlueTag&#x27;,\n",
       "                                                    &#x27;TeamTag&#x27;),\n",
       "                                                   (&#x27;Blue&#x27;, &#x27;Top&#x27;, &#x27;Top&#x27;),\n",
       "                                                   (&#x27;Blue&#x27;, &#x27;Top&#x27;, &#x27;TopChamp&#x27;),\n",
       "                                                   (&#x27;Blue&#x27;, &#x27;Jungle&#x27;, &#x27;Jungle&#x27;),\n",
       "                                                   (&#x27;Blue&#x27;, &#x27;Jun...\n",
       "                                                   (&#x27;Blue&#x27;, &#x27;ADC&#x27;, &#x27;Gold_5&#x27;),\n",
       "                                                   (&#x27;Blue&#x27;, &#x27;ADC&#x27;, &#x27;Gold_10&#x27;),\n",
       "                                                   (&#x27;Blue&#x27;, &#x27;ADC&#x27;, &#x27;Gold_15&#x27;),\n",
       "                                                   (&#x27;Blue&#x27;, &#x27;Support&#x27;,\n",
       "                                                    &#x27;Gold_5&#x27;),\n",
       "                                                   (&#x27;Blue&#x27;, &#x27;Support&#x27;,\n",
       "                                                    &#x27;Gold_10&#x27;),\n",
       "                                                   (&#x27;Blue&#x27;, &#x27;Support&#x27;,\n",
       "                                                    &#x27;Gold_15&#x27;),\n",
       "                                                   (&#x27;Red&#x27;, &#x27;Top&#x27;, &#x27;Gold_5&#x27;),\n",
       "                                                   (&#x27;Red&#x27;, &#x27;Top&#x27;, &#x27;Gold_10&#x27;),\n",
       "                                                   (&#x27;Red&#x27;, &#x27;Top&#x27;, &#x27;Gold_15&#x27;),\n",
       "                                                   (&#x27;Red&#x27;, &#x27;Jungle&#x27;, &#x27;Gold_5&#x27;),\n",
       "                                                   (&#x27;Red&#x27;, &#x27;Jungle&#x27;, &#x27;Gold_10&#x27;), ...])])),\n",
       "                (&#x27;filter&#x27;,\n",
       "                 SelectKBest(k=20,\n",
       "                             score_func=&lt;function chi2 at 0x000002C08CA64790&gt;))])</pre></div></div></div><div class=\"sk-serial\"><div class=\"sk-item sk-dashed-wrapped\"><div class=\"sk-label-container\"><div class=\"sk-label sk-toggleable\"><input class=\"sk-toggleable__control sk-hidden--visually\" id=\"sk-estimator-id-4\" type=\"checkbox\" ><label for=\"sk-estimator-id-4\" class=\"sk-toggleable__label sk-toggleable__label-arrow\">preprocess: ColumnTransformer</label><div class=\"sk-toggleable__content\"><pre>ColumnTransformer(transformers=[(&#x27;category&#x27;,\n",
       "                                 OneHotEncoder(drop=&#x27;first&#x27;,\n",
       "                                               handle_unknown=&#x27;ignore&#x27;),\n",
       "                                 [(&#x27;Info&#x27;, &#x27;MatchID&#x27;, &#x27;League&#x27;),\n",
       "                                  (&#x27;Info&#x27;, &#x27;MatchID&#x27;, &#x27;Year&#x27;),\n",
       "                                  (&#x27;Info&#x27;, &#x27;MatchID&#x27;, &#x27;Season&#x27;),\n",
       "                                  (&#x27;Info&#x27;, &#x27;MatchID&#x27;, &#x27;Type&#x27;),\n",
       "                                  (&#x27;Info&#x27;, &#x27;BlueTag&#x27;, &#x27;TeamTag&#x27;),\n",
       "                                  (&#x27;Blue&#x27;, &#x27;Top&#x27;, &#x27;Top&#x27;),\n",
       "                                  (&#x27;Blue&#x27;, &#x27;Top&#x27;, &#x27;TopChamp&#x27;),\n",
       "                                  (&#x27;Blue&#x27;, &#x27;Jungle&#x27;, &#x27;Jungle&#x27;),\n",
       "                                  (&#x27;Blue&#x27;, &#x27;Jungle&#x27;, &#x27;JungleChamp&#x27;),\n",
       "                                  (&#x27;Blue&#x27;, &#x27;M...\n",
       "                                  (&#x27;Blue&#x27;, &#x27;Middle&#x27;, &#x27;Gold_5&#x27;),\n",
       "                                  (&#x27;Blue&#x27;, &#x27;Middle&#x27;, &#x27;Gold_10&#x27;),\n",
       "                                  (&#x27;Blue&#x27;, &#x27;Middle&#x27;, &#x27;Gold_15&#x27;),\n",
       "                                  (&#x27;Blue&#x27;, &#x27;ADC&#x27;, &#x27;Gold_5&#x27;),\n",
       "                                  (&#x27;Blue&#x27;, &#x27;ADC&#x27;, &#x27;Gold_10&#x27;),\n",
       "                                  (&#x27;Blue&#x27;, &#x27;ADC&#x27;, &#x27;Gold_15&#x27;),\n",
       "                                  (&#x27;Blue&#x27;, &#x27;Support&#x27;, &#x27;Gold_5&#x27;),\n",
       "                                  (&#x27;Blue&#x27;, &#x27;Support&#x27;, &#x27;Gold_10&#x27;),\n",
       "                                  (&#x27;Blue&#x27;, &#x27;Support&#x27;, &#x27;Gold_15&#x27;),\n",
       "                                  (&#x27;Red&#x27;, &#x27;Top&#x27;, &#x27;Gold_5&#x27;),\n",
       "                                  (&#x27;Red&#x27;, &#x27;Top&#x27;, &#x27;Gold_10&#x27;),\n",
       "                                  (&#x27;Red&#x27;, &#x27;Top&#x27;, &#x27;Gold_15&#x27;),\n",
       "                                  (&#x27;Red&#x27;, &#x27;Jungle&#x27;, &#x27;Gold_5&#x27;),\n",
       "                                  (&#x27;Red&#x27;, &#x27;Jungle&#x27;, &#x27;Gold_10&#x27;), ...])])</pre></div></div></div><div class=\"sk-parallel\"><div class=\"sk-parallel-item\"><div class=\"sk-item\"><div class=\"sk-label-container\"><div class=\"sk-label sk-toggleable\"><input class=\"sk-toggleable__control sk-hidden--visually\" id=\"sk-estimator-id-5\" type=\"checkbox\" ><label for=\"sk-estimator-id-5\" class=\"sk-toggleable__label sk-toggleable__label-arrow\">category</label><div class=\"sk-toggleable__content\"><pre>[(&#x27;Info&#x27;, &#x27;MatchID&#x27;, &#x27;League&#x27;), (&#x27;Info&#x27;, &#x27;MatchID&#x27;, &#x27;Year&#x27;), (&#x27;Info&#x27;, &#x27;MatchID&#x27;, &#x27;Season&#x27;), (&#x27;Info&#x27;, &#x27;MatchID&#x27;, &#x27;Type&#x27;), (&#x27;Info&#x27;, &#x27;BlueTag&#x27;, &#x27;TeamTag&#x27;), (&#x27;Blue&#x27;, &#x27;Top&#x27;, &#x27;Top&#x27;), (&#x27;Blue&#x27;, &#x27;Top&#x27;, &#x27;TopChamp&#x27;), (&#x27;Blue&#x27;, &#x27;Jungle&#x27;, &#x27;Jungle&#x27;), (&#x27;Blue&#x27;, &#x27;Jungle&#x27;, &#x27;JungleChamp&#x27;), (&#x27;Blue&#x27;, &#x27;Middle&#x27;, &#x27;Middle&#x27;), (&#x27;Blue&#x27;, &#x27;Middle&#x27;, &#x27;MiddleChamp&#x27;), (&#x27;Blue&#x27;, &#x27;ADC&#x27;, &#x27;ADC&#x27;), (&#x27;Blue&#x27;, &#x27;ADC&#x27;, &#x27;ADCChamp&#x27;), (&#x27;Blue&#x27;, &#x27;Support&#x27;, &#x27;Support&#x27;), (&#x27;Blue&#x27;, &#x27;Support&#x27;, &#x27;SupportChamp&#x27;), (&#x27;Info&#x27;, &#x27;RedTag&#x27;, &#x27;TeamTag&#x27;), (&#x27;Red&#x27;, &#x27;Top&#x27;, &#x27;Top&#x27;), (&#x27;Red&#x27;, &#x27;Top&#x27;, &#x27;TopChamp&#x27;), (&#x27;Red&#x27;, &#x27;Jungle&#x27;, &#x27;Jungle&#x27;), (&#x27;Red&#x27;, &#x27;Jungle&#x27;, &#x27;JungleChamp&#x27;), (&#x27;Red&#x27;, &#x27;Middle&#x27;, &#x27;Middle&#x27;), (&#x27;Red&#x27;, &#x27;Middle&#x27;, &#x27;MiddleChamp&#x27;), (&#x27;Red&#x27;, &#x27;ADC&#x27;, &#x27;ADC&#x27;), (&#x27;Red&#x27;, &#x27;ADC&#x27;, &#x27;ADCChamp&#x27;), (&#x27;Red&#x27;, &#x27;Support&#x27;, &#x27;Support&#x27;), (&#x27;Red&#x27;, &#x27;Support&#x27;, &#x27;SupportChamp&#x27;), (&#x27;Blue&#x27;, &#x27;Bans&#x27;, &#x27;ban_1&#x27;), (&#x27;Blue&#x27;, &#x27;Bans&#x27;, &#x27;ban_2&#x27;), (&#x27;Blue&#x27;, &#x27;Bans&#x27;, &#x27;ban_3&#x27;), (&#x27;Blue&#x27;, &#x27;Bans&#x27;, &#x27;ban_4&#x27;), (&#x27;Blue&#x27;, &#x27;Bans&#x27;, &#x27;ban_5&#x27;), (&#x27;Red&#x27;, &#x27;Bans&#x27;, &#x27;ban_1&#x27;), (&#x27;Red&#x27;, &#x27;Bans&#x27;, &#x27;ban_2&#x27;), (&#x27;Red&#x27;, &#x27;Bans&#x27;, &#x27;ban_3&#x27;), (&#x27;Red&#x27;, &#x27;Bans&#x27;, &#x27;ban_4&#x27;), (&#x27;Red&#x27;, &#x27;Bans&#x27;, &#x27;ban_5&#x27;)]</pre></div></div></div><div class=\"sk-serial\"><div class=\"sk-item\"><div class=\"sk-estimator sk-toggleable\"><input class=\"sk-toggleable__control sk-hidden--visually\" id=\"sk-estimator-id-6\" type=\"checkbox\" ><label for=\"sk-estimator-id-6\" class=\"sk-toggleable__label sk-toggleable__label-arrow\">OneHotEncoder</label><div class=\"sk-toggleable__content\"><pre>OneHotEncoder(drop=&#x27;first&#x27;, handle_unknown=&#x27;ignore&#x27;)</pre></div></div></div></div></div></div><div class=\"sk-parallel-item\"><div class=\"sk-item\"><div class=\"sk-label-container\"><div class=\"sk-label sk-toggleable\"><input class=\"sk-toggleable__control sk-hidden--visually\" id=\"sk-estimator-id-7\" type=\"checkbox\" ><label for=\"sk-estimator-id-7\" class=\"sk-toggleable__label sk-toggleable__label-arrow\">numeric</label><div class=\"sk-toggleable__content\"><pre>[(&#x27;Info&#x27;, &#x27;MatchID&#x27;, &#x27;gamelength&#x27;), (&#x27;Info&#x27;, &#x27;diff&#x27;, &#x27;Gold_5&#x27;), (&#x27;Info&#x27;, &#x27;diff&#x27;, &#x27;Gold_10&#x27;), (&#x27;Info&#x27;, &#x27;diff&#x27;, &#x27;Gold_15&#x27;), (&#x27;Blue&#x27;, &#x27;TeamGold&#x27;, &#x27;Gold_5&#x27;), (&#x27;Blue&#x27;, &#x27;TeamGold&#x27;, &#x27;Gold_10&#x27;), (&#x27;Blue&#x27;, &#x27;TeamGold&#x27;, &#x27;Gold_15&#x27;), (&#x27;Red&#x27;, &#x27;TeamGold&#x27;, &#x27;Gold_5&#x27;), (&#x27;Red&#x27;, &#x27;TeamGold&#x27;, &#x27;Gold_10&#x27;), (&#x27;Red&#x27;, &#x27;TeamGold&#x27;, &#x27;Gold_15&#x27;), (&#x27;Blue&#x27;, &#x27;Top&#x27;, &#x27;Gold_5&#x27;), (&#x27;Blue&#x27;, &#x27;Top&#x27;, &#x27;Gold_10&#x27;), (&#x27;Blue&#x27;, &#x27;Top&#x27;, &#x27;Gold_15&#x27;), (&#x27;Blue&#x27;, &#x27;Jungle&#x27;, &#x27;Gold_5&#x27;), (&#x27;Blue&#x27;, &#x27;Jungle&#x27;, &#x27;Gold_10&#x27;), (&#x27;Blue&#x27;, &#x27;Jungle&#x27;, &#x27;Gold_15&#x27;), (&#x27;Blue&#x27;, &#x27;Middle&#x27;, &#x27;Gold_5&#x27;), (&#x27;Blue&#x27;, &#x27;Middle&#x27;, &#x27;Gold_10&#x27;), (&#x27;Blue&#x27;, &#x27;Middle&#x27;, &#x27;Gold_15&#x27;), (&#x27;Blue&#x27;, &#x27;ADC&#x27;, &#x27;Gold_5&#x27;), (&#x27;Blue&#x27;, &#x27;ADC&#x27;, &#x27;Gold_10&#x27;), (&#x27;Blue&#x27;, &#x27;ADC&#x27;, &#x27;Gold_15&#x27;), (&#x27;Blue&#x27;, &#x27;Support&#x27;, &#x27;Gold_5&#x27;), (&#x27;Blue&#x27;, &#x27;Support&#x27;, &#x27;Gold_10&#x27;), (&#x27;Blue&#x27;, &#x27;Support&#x27;, &#x27;Gold_15&#x27;), (&#x27;Red&#x27;, &#x27;Top&#x27;, &#x27;Gold_5&#x27;), (&#x27;Red&#x27;, &#x27;Top&#x27;, &#x27;Gold_10&#x27;), (&#x27;Red&#x27;, &#x27;Top&#x27;, &#x27;Gold_15&#x27;), (&#x27;Red&#x27;, &#x27;Jungle&#x27;, &#x27;Gold_5&#x27;), (&#x27;Red&#x27;, &#x27;Jungle&#x27;, &#x27;Gold_10&#x27;), (&#x27;Red&#x27;, &#x27;Jungle&#x27;, &#x27;Gold_15&#x27;), (&#x27;Red&#x27;, &#x27;Middle&#x27;, &#x27;Gold_5&#x27;), (&#x27;Red&#x27;, &#x27;Middle&#x27;, &#x27;Gold_10&#x27;), (&#x27;Red&#x27;, &#x27;Middle&#x27;, &#x27;Gold_15&#x27;), (&#x27;Red&#x27;, &#x27;ADC&#x27;, &#x27;Gold_5&#x27;), (&#x27;Red&#x27;, &#x27;ADC&#x27;, &#x27;Gold_10&#x27;), (&#x27;Red&#x27;, &#x27;ADC&#x27;, &#x27;Gold_15&#x27;), (&#x27;Red&#x27;, &#x27;Support&#x27;, &#x27;Gold_5&#x27;), (&#x27;Red&#x27;, &#x27;Support&#x27;, &#x27;Gold_10&#x27;), (&#x27;Red&#x27;, &#x27;Support&#x27;, &#x27;Gold_15&#x27;), (&#x27;Blue&#x27;, &#x27;Structures&#x27;, &#x27;Towers&#x27;), (&#x27;Red&#x27;, &#x27;Structures&#x27;, &#x27;Towers&#x27;), (&#x27;Blue&#x27;, &#x27;Structures&#x27;, &#x27;Inhib&#x27;), (&#x27;Red&#x27;, &#x27;Structures&#x27;, &#x27;Inhib&#x27;), (&#x27;Blue&#x27;, &#x27;Monsters&#x27;, &#x27;Dragon&#x27;), (&#x27;Red&#x27;, &#x27;Monsters&#x27;, &#x27;Dragon&#x27;), (&#x27;Blue&#x27;, &#x27;Middle&#x27;, &#x27;Kills&#x27;), (&#x27;Blue&#x27;, &#x27;Middle&#x27;, &#x27;Assist&#x27;), (&#x27;Blue&#x27;, &#x27;Top&#x27;, &#x27;Kills&#x27;), (&#x27;Blue&#x27;, &#x27;Top&#x27;, &#x27;Assist&#x27;), (&#x27;Blue&#x27;, &#x27;ADC&#x27;, &#x27;Kills&#x27;), (&#x27;Blue&#x27;, &#x27;ADC&#x27;, &#x27;Assist&#x27;), (&#x27;Blue&#x27;, &#x27;Support&#x27;, &#x27;Kills&#x27;), (&#x27;Blue&#x27;, &#x27;Support&#x27;, &#x27;Assist&#x27;), (&#x27;Blue&#x27;, &#x27;Jungle&#x27;, &#x27;Kills&#x27;), (&#x27;Blue&#x27;, &#x27;Jungle&#x27;, &#x27;Assist&#x27;), (&#x27;Red&#x27;, &#x27;Middle&#x27;, &#x27;Kills&#x27;), (&#x27;Red&#x27;, &#x27;Middle&#x27;, &#x27;Assist&#x27;), (&#x27;Red&#x27;, &#x27;Top&#x27;, &#x27;Kills&#x27;), (&#x27;Red&#x27;, &#x27;Top&#x27;, &#x27;Assist&#x27;), (&#x27;Red&#x27;, &#x27;ADC&#x27;, &#x27;Kills&#x27;), (&#x27;Red&#x27;, &#x27;ADC&#x27;, &#x27;Assist&#x27;), (&#x27;Red&#x27;, &#x27;Support&#x27;, &#x27;Kills&#x27;), (&#x27;Red&#x27;, &#x27;Support&#x27;, &#x27;Assist&#x27;), (&#x27;Red&#x27;, &#x27;Jungle&#x27;, &#x27;Kills&#x27;), (&#x27;Red&#x27;, &#x27;Jungle&#x27;, &#x27;Assist&#x27;)]</pre></div></div></div><div class=\"sk-serial\"><div class=\"sk-item\"><div class=\"sk-estimator sk-toggleable\"><input class=\"sk-toggleable__control sk-hidden--visually\" id=\"sk-estimator-id-8\" type=\"checkbox\" ><label for=\"sk-estimator-id-8\" class=\"sk-toggleable__label sk-toggleable__label-arrow\">MinMaxScaler</label><div class=\"sk-toggleable__content\"><pre>MinMaxScaler()</pre></div></div></div></div></div></div></div></div><div class=\"sk-item\"><div class=\"sk-estimator sk-toggleable\"><input class=\"sk-toggleable__control sk-hidden--visually\" id=\"sk-estimator-id-9\" type=\"checkbox\" ><label for=\"sk-estimator-id-9\" class=\"sk-toggleable__label sk-toggleable__label-arrow\">SelectKBest</label><div class=\"sk-toggleable__content\"><pre>SelectKBest(k=20, score_func=&lt;function chi2 at 0x000002C08CA64790&gt;)</pre></div></div></div></div></div><div class=\"sk-item\"><div class=\"sk-estimator sk-toggleable\"><input class=\"sk-toggleable__control sk-hidden--visually\" id=\"sk-estimator-id-10\" type=\"checkbox\" ><label for=\"sk-estimator-id-10\" class=\"sk-toggleable__label sk-toggleable__label-arrow\">SGDClassifier</label><div class=\"sk-toggleable__content\"><pre>SGDClassifier(loss=&#x27;log_loss&#x27;, penalty=&#x27;L2&#x27;, random_state=2023)</pre></div></div></div></div></div></div></div></div></div></div></div></div>"
      ],
      "text/plain": [
       "GridSearchCV(cv=StratifiedKFold(n_splits=5, random_state=2023, shuffle=True),\n",
       "             estimator=Pipeline(steps=[('data',\n",
       "                                        Pipeline(steps=[('preprocess',\n",
       "                                                         ColumnTransformer(transformers=[('category',\n",
       "                                                                                          OneHotEncoder(drop='first',\n",
       "                                                                                                        handle_unknown='ignore'),\n",
       "                                                                                          [('Info',\n",
       "                                                                                            'MatchID',\n",
       "                                                                                            'League'),\n",
       "                                                                                           ('Info',\n",
       "                                                                                            'MatchID',\n",
       "                                                                                            'Year'),\n",
       "                                                                                           ('Info',\n",
       "                                                                                            'MatchID',\n",
       "                                                                                            'Season'),\n",
       "                                                                                           ('Info',\n",
       "                                                                                            'MatchID',\n",
       "                                                                                            'Type'),\n",
       "                                                                                           ('Info...\n",
       "                                                                                            'Gold_10'),\n",
       "                                                                                           ('Red',\n",
       "                                                                                            'Top',\n",
       "                                                                                            'Gold_15'),\n",
       "                                                                                           ('Red',\n",
       "                                                                                            'Jungle',\n",
       "                                                                                            'Gold_5'),\n",
       "                                                                                           ('Red',\n",
       "                                                                                            'Jungle',\n",
       "                                                                                            'Gold_10'), ...])])),\n",
       "                                                        ('filter',\n",
       "                                                         SelectKBest(k=20,\n",
       "                                                                     score_func=<function chi2 at 0x000002C08CA64790>))])),\n",
       "                                       ('model',\n",
       "                                        SGDClassifier(loss='log_loss',\n",
       "                                                      penalty='L2',\n",
       "                                                      random_state=2023))]),\n",
       "             param_grid={'model__alpha': array([1.e-04, 1.e-03, 1.e-02, 1.e-01, 1.e+00]),\n",
       "                         'model__penalty': ['l2', 'l1']},\n",
       "             verbose=2)"
      ]
     },
     "execution_count": 17,
     "metadata": {},
     "output_type": "execute_result"
    }
   ],
   "source": [
    "grid_search.fit(X_train, y_train)"
   ]
  },
  {
   "cell_type": "code",
   "execution_count": 18,
   "id": "338fa3a1-0828-4eac-91f9-ec0210eb8d7a",
   "metadata": {
    "tags": []
   },
   "outputs": [],
   "source": [
    "params = grid_search.cv_results_['params']\n",
    "scores = grid_search.cv_results_['mean_test_score']\n",
    "rows = [dict(param_dict, score=score) for param_dict, score in zip(params, scores)]"
   ]
  },
  {
   "cell_type": "code",
   "execution_count": 19,
   "id": "88e36357-8b18-4553-92ad-479726c41e9e",
   "metadata": {},
   "outputs": [
    {
     "data": {
      "text/plain": [
       "[{'model__alpha': 0.0001, 'model__penalty': 'l2', 'score': 0.9752125817704203},\n",
       " {'model__alpha': 0.0001, 'model__penalty': 'l1', 'score': 0.9756253784680468},\n",
       " {'model__alpha': 0.001, 'model__penalty': 'l2', 'score': 0.9783106892169655},\n",
       " {'model__alpha': 0.001, 'model__penalty': 'l1', 'score': 0.9772774181442913},\n",
       " {'model__alpha': 0.01, 'model__penalty': 'l2', 'score': 0.9774842429359738},\n",
       " {'model__alpha': 0.01, 'model__penalty': 'l1', 'score': 0.9475323883359346},\n",
       " {'model__alpha': 0.1, 'model__penalty': 'l2', 'score': 0.9770712330169127},\n",
       " {'model__alpha': 0.1, 'model__penalty': 'l1', 'score': 0.9471191651954388},\n",
       " {'model__alpha': 1.0, 'model__penalty': 'l2', 'score': 0.9754187668977987},\n",
       " {'model__alpha': 1.0, 'model__penalty': 'l1', 'score': 0.52655886190927}]"
      ]
     },
     "execution_count": 19,
     "metadata": {},
     "output_type": "execute_result"
    }
   ],
   "source": [
    "rows"
   ]
  },
  {
   "cell_type": "code",
   "execution_count": 20,
   "id": "91c9893d-e6d4-450e-bb4c-ea90f69dc8f6",
   "metadata": {},
   "outputs": [
    {
     "data": {
      "text/html": [
       "<div>\n",
       "<style scoped>\n",
       "    .dataframe tbody tr th:only-of-type {\n",
       "        vertical-align: middle;\n",
       "    }\n",
       "\n",
       "    .dataframe tbody tr th {\n",
       "        vertical-align: top;\n",
       "    }\n",
       "\n",
       "    .dataframe thead th {\n",
       "        text-align: right;\n",
       "    }\n",
       "</style>\n",
       "<table border=\"1\" class=\"dataframe\">\n",
       "  <thead>\n",
       "    <tr style=\"text-align: right;\">\n",
       "      <th></th>\n",
       "      <th>Reg. Strength</th>\n",
       "      <th>Reg. Type</th>\n",
       "      <th>Accuracy</th>\n",
       "    </tr>\n",
       "  </thead>\n",
       "  <tbody>\n",
       "    <tr>\n",
       "      <th>0</th>\n",
       "      <td>0.0001</td>\n",
       "      <td>l2</td>\n",
       "      <td>0.975213</td>\n",
       "    </tr>\n",
       "    <tr>\n",
       "      <th>1</th>\n",
       "      <td>0.0001</td>\n",
       "      <td>l1</td>\n",
       "      <td>0.975625</td>\n",
       "    </tr>\n",
       "    <tr>\n",
       "      <th>2</th>\n",
       "      <td>0.0010</td>\n",
       "      <td>l2</td>\n",
       "      <td>0.978311</td>\n",
       "    </tr>\n",
       "    <tr>\n",
       "      <th>3</th>\n",
       "      <td>0.0010</td>\n",
       "      <td>l1</td>\n",
       "      <td>0.977277</td>\n",
       "    </tr>\n",
       "    <tr>\n",
       "      <th>4</th>\n",
       "      <td>0.0100</td>\n",
       "      <td>l2</td>\n",
       "      <td>0.977484</td>\n",
       "    </tr>\n",
       "    <tr>\n",
       "      <th>5</th>\n",
       "      <td>0.0100</td>\n",
       "      <td>l1</td>\n",
       "      <td>0.947532</td>\n",
       "    </tr>\n",
       "    <tr>\n",
       "      <th>6</th>\n",
       "      <td>0.1000</td>\n",
       "      <td>l2</td>\n",
       "      <td>0.977071</td>\n",
       "    </tr>\n",
       "    <tr>\n",
       "      <th>7</th>\n",
       "      <td>0.1000</td>\n",
       "      <td>l1</td>\n",
       "      <td>0.947119</td>\n",
       "    </tr>\n",
       "    <tr>\n",
       "      <th>8</th>\n",
       "      <td>1.0000</td>\n",
       "      <td>l2</td>\n",
       "      <td>0.975419</td>\n",
       "    </tr>\n",
       "    <tr>\n",
       "      <th>9</th>\n",
       "      <td>1.0000</td>\n",
       "      <td>l1</td>\n",
       "      <td>0.526559</td>\n",
       "    </tr>\n",
       "  </tbody>\n",
       "</table>\n",
       "</div>"
      ],
      "text/plain": [
       "   Reg. Strength Reg. Type  Accuracy\n",
       "0         0.0001        l2  0.975213\n",
       "1         0.0001        l1  0.975625\n",
       "2         0.0010        l2  0.978311\n",
       "3         0.0010        l1  0.977277\n",
       "4         0.0100        l2  0.977484\n",
       "5         0.0100        l1  0.947532\n",
       "6         0.1000        l2  0.977071\n",
       "7         0.1000        l1  0.947119\n",
       "8         1.0000        l2  0.975419\n",
       "9         1.0000        l1  0.526559"
      ]
     },
     "execution_count": 20,
     "metadata": {},
     "output_type": "execute_result"
    }
   ],
   "source": [
    "results_df = pd.DataFrame(rows)\n",
    "results_df.columns = ['Reg. Strength', 'Reg. Type', 'Accuracy']\n",
    "results_df"
   ]
  },
  {
   "cell_type": "code",
   "execution_count": 21,
   "id": "07fd30da-8977-4b25-a37e-1af4cd7798c7",
   "metadata": {},
   "outputs": [
    {
     "data": {
      "image/png": "[encoded data removed]",
      "text/plain": [
       "<Figure size 432x288 with 1 Axes>"
      ]
     },
     "metadata": {
      "needs_background": "light"
     },
     "output_type": "display_data"
    }
   ],
   "source": [
    "sb.set(rc={\"figure.figsize\":(8, 6)})\n",
    "LR_Grid_plot = sb.lineplot(data=results_df, x='Reg. Strength', y='Accuracy', hue='Reg. Type', marker='o')\n",
    "LR_Grid_plot.set(xscale='log',title = 'SVM Model')\n",
    "LR_Grid_plot.get_figure().savefig('../plots/Grid_plot_SVM_model_1.png', dpi=300, bbox_inches='tight')"
   ]
  },
  {
   "cell_type": "markdown",
   "id": "e2771dfe-06a5-4ca6-a3a8-f6709494b0a1",
   "metadata": {},
   "source": [
    "Best model is:\n",
    "\n",
    "$penalty = L2$\n",
    "\n",
    "$\\alpha = 0.001$\n",
    "\n",
    "Any of the penalty types would work and any C value between 0.1 and 1 would work also."
   ]
  },
  {
   "cell_type": "code",
   "execution_count": 21,
   "id": "31a807fb-57a6-459c-ac8c-d6624fe0a491",
   "metadata": {},
   "outputs": [],
   "source": [
    "model =  SGDClassifier(loss='log_loss', penalty='L2', max_iter=1000, random_state=2023, tol=1.0e-03, alpha = 0.001)"
   ]
  },
  {
   "cell_type": "code",
   "execution_count": 22,
   "id": "0f6fc3ee-7f04-428d-80d1-5154555c82f5",
   "metadata": {},
   "outputs": [],
   "source": [
    "pipe = Pipeline(steps=[('data',data_pipe), ('model', LR_model)])"
   ]
  },
  {
   "cell_type": "code",
   "execution_count": 23,
   "id": "b5c6f226-7929-4a95-b133-0d59ba0e927c",
   "metadata": {
    "scrolled": true,
    "tags": []
   },
   "outputs": [
    {
     "data": {
      "text/html": [
       "<style>#sk-container-id-2 {color: black;background-color: white;}#sk-container-id-2 pre{padding: 0;}#sk-container-id-2 div.sk-toggleable {background-color: white;}#sk-container-id-2 label.sk-toggleable__label {cursor: pointer;display: block;width: 100%;margin-bottom: 0;padding: 0.3em;box-sizing: border-box;text-align: center;}#sk-container-id-2 label.sk-toggleable__label-arrow:before {content: \"▸\";float: left;margin-right: 0.25em;color: #696969;}#sk-container-id-2 label.sk-toggleable__label-arrow:hover:before {color: black;}#sk-container-id-2 div.sk-estimator:hover label.sk-toggleable__label-arrow:before {color: black;}#sk-container-id-2 div.sk-toggleable__content {max-height: 0;max-width: 0;overflow: hidden;text-align: left;background-color: #f0f8ff;}#sk-container-id-2 div.sk-toggleable__content pre {margin: 0.2em;color: black;border-radius: 0.25em;background-color: #f0f8ff;}#sk-container-id-2 input.sk-toggleable__control:checked~div.sk-toggleable__content {max-height: 200px;max-width: 100%;overflow: auto;}#sk-container-id-2 input.sk-toggleable__control:checked~label.sk-toggleable__label-arrow:before {content: \"▾\";}#sk-container-id-2 div.sk-estimator input.sk-toggleable__control:checked~label.sk-toggleable__label {background-color: #d4ebff;}#sk-container-id-2 div.sk-label input.sk-toggleable__control:checked~label.sk-toggleable__label {background-color: #d4ebff;}#sk-container-id-2 input.sk-hidden--visually {border: 0;clip: rect(1px 1px 1px 1px);clip: rect(1px, 1px, 1px, 1px);height: 1px;margin: -1px;overflow: hidden;padding: 0;position: absolute;width: 1px;}#sk-container-id-2 div.sk-estimator {font-family: monospace;background-color: #f0f8ff;border: 1px dotted black;border-radius: 0.25em;box-sizing: border-box;margin-bottom: 0.5em;}#sk-container-id-2 div.sk-estimator:hover {background-color: #d4ebff;}#sk-container-id-2 div.sk-parallel-item::after {content: \"\";width: 100%;border-bottom: 1px solid gray;flex-grow: 1;}#sk-container-id-2 div.sk-label:hover label.sk-toggleable__label {background-color: #d4ebff;}#sk-container-id-2 div.sk-serial::before {content: \"\";position: absolute;border-left: 1px solid gray;box-sizing: border-box;top: 0;bottom: 0;left: 50%;z-index: 0;}#sk-container-id-2 div.sk-serial {display: flex;flex-direction: column;align-items: center;background-color: white;padding-right: 0.2em;padding-left: 0.2em;position: relative;}#sk-container-id-2 div.sk-item {position: relative;z-index: 1;}#sk-container-id-2 div.sk-parallel {display: flex;align-items: stretch;justify-content: center;background-color: white;position: relative;}#sk-container-id-2 div.sk-item::before, #sk-container-id-2 div.sk-parallel-item::before {content: \"\";position: absolute;border-left: 1px solid gray;box-sizing: border-box;top: 0;bottom: 0;left: 50%;z-index: -1;}#sk-container-id-2 div.sk-parallel-item {display: flex;flex-direction: column;z-index: 1;position: relative;background-color: white;}#sk-container-id-2 div.sk-parallel-item:first-child::after {align-self: flex-end;width: 50%;}#sk-container-id-2 div.sk-parallel-item:last-child::after {align-self: flex-start;width: 50%;}#sk-container-id-2 div.sk-parallel-item:only-child::after {width: 0;}#sk-container-id-2 div.sk-dashed-wrapped {border: 1px dashed gray;margin: 0 0.4em 0.5em 0.4em;box-sizing: border-box;padding-bottom: 0.4em;background-color: white;}#sk-container-id-2 div.sk-label label {font-family: monospace;font-weight: bold;display: inline-block;line-height: 1.2em;}#sk-container-id-2 div.sk-label-container {text-align: center;}#sk-container-id-2 div.sk-container {/* jupyter's `normalize.less` sets `[hidden] { display: none; }` but bootstrap.min.css set `[hidden] { display: none !important; }` so we also need the `!important` here to be able to override the default hidden behavior on the sphinx rendered scikit-learn.org. See: https://github.com/scikit-learn/scikit-learn/issues/21755 */display: inline-block !important;position: relative;}#sk-container-id-2 div.sk-text-repr-fallback {display: none;}</style><div id=\"sk-container-id-2\" class=\"sk-top-container\"><div class=\"sk-text-repr-fallback\"><pre>Pipeline(steps=[(&#x27;data&#x27;,\n",
       "                 Pipeline(steps=[(&#x27;preprocess&#x27;,\n",
       "                                  ColumnTransformer(transformers=[(&#x27;category&#x27;,\n",
       "                                                                   OneHotEncoder(drop=&#x27;first&#x27;,\n",
       "                                                                                 handle_unknown=&#x27;ignore&#x27;),\n",
       "                                                                   [(&#x27;Info&#x27;,\n",
       "                                                                     &#x27;MatchID&#x27;,\n",
       "                                                                     &#x27;League&#x27;),\n",
       "                                                                    (&#x27;Info&#x27;,\n",
       "                                                                     &#x27;MatchID&#x27;,\n",
       "                                                                     &#x27;Year&#x27;),\n",
       "                                                                    (&#x27;Info&#x27;,\n",
       "                                                                     &#x27;MatchID&#x27;,\n",
       "                                                                     &#x27;Season&#x27;),\n",
       "                                                                    (&#x27;Info&#x27;,\n",
       "                                                                     &#x27;MatchID&#x27;,\n",
       "                                                                     &#x27;Type&#x27;),\n",
       "                                                                    (&#x27;Info&#x27;,\n",
       "                                                                     &#x27;BlueTag&#x27;,\n",
       "                                                                     &#x27;TeamTag&#x27;),\n",
       "                                                                    (&#x27;Blue&#x27;,\n",
       "                                                                     &#x27;Top&#x27;,\n",
       "                                                                     &#x27;Top&#x27;),\n",
       "                                                                    (&#x27;Blue&#x27;,\n",
       "                                                                     &#x27;Top&#x27;,\n",
       "                                                                     &#x27;TopChamp&#x27;),\n",
       "                                                                    (&#x27;Blue&#x27;,\n",
       "                                                                     &#x27;Jungle...\n",
       "                                                                     &#x27;Support&#x27;,\n",
       "                                                                     &#x27;Gold_10&#x27;),\n",
       "                                                                    (&#x27;Blue&#x27;,\n",
       "                                                                     &#x27;Support&#x27;,\n",
       "                                                                     &#x27;Gold_15&#x27;),\n",
       "                                                                    (&#x27;Red&#x27;,\n",
       "                                                                     &#x27;Top&#x27;,\n",
       "                                                                     &#x27;Gold_5&#x27;),\n",
       "                                                                    (&#x27;Red&#x27;,\n",
       "                                                                     &#x27;Top&#x27;,\n",
       "                                                                     &#x27;Gold_10&#x27;),\n",
       "                                                                    (&#x27;Red&#x27;,\n",
       "                                                                     &#x27;Top&#x27;,\n",
       "                                                                     &#x27;Gold_15&#x27;),\n",
       "                                                                    (&#x27;Red&#x27;,\n",
       "                                                                     &#x27;Jungle&#x27;,\n",
       "                                                                     &#x27;Gold_5&#x27;),\n",
       "                                                                    (&#x27;Red&#x27;,\n",
       "                                                                     &#x27;Jungle&#x27;,\n",
       "                                                                     &#x27;Gold_10&#x27;), ...])])),\n",
       "                                 (&#x27;filter&#x27;,\n",
       "                                  SelectKBest(k=20,\n",
       "                                              score_func=&lt;function chi2 at 0x000002F63A9A4790&gt;))])),\n",
       "                (&#x27;model&#x27;,\n",
       "                 LogisticRegression(C=1, max_iter=1000, random_state=14,\n",
       "                                    solver=&#x27;liblinear&#x27;, tol=1e-08))])</pre><b>In a Jupyter environment, please rerun this cell to show the HTML representation or trust the notebook. <br />On GitHub, the HTML representation is unable to render, please try loading this page with nbviewer.org.</b></div><div class=\"sk-container\" hidden><div class=\"sk-item sk-dashed-wrapped\"><div class=\"sk-label-container\"><div class=\"sk-label sk-toggleable\"><input class=\"sk-toggleable__control sk-hidden--visually\" id=\"sk-estimator-id-11\" type=\"checkbox\" ><label for=\"sk-estimator-id-11\" class=\"sk-toggleable__label sk-toggleable__label-arrow\">Pipeline</label><div class=\"sk-toggleable__content\"><pre>Pipeline(steps=[(&#x27;data&#x27;,\n",
       "                 Pipeline(steps=[(&#x27;preprocess&#x27;,\n",
       "                                  ColumnTransformer(transformers=[(&#x27;category&#x27;,\n",
       "                                                                   OneHotEncoder(drop=&#x27;first&#x27;,\n",
       "                                                                                 handle_unknown=&#x27;ignore&#x27;),\n",
       "                                                                   [(&#x27;Info&#x27;,\n",
       "                                                                     &#x27;MatchID&#x27;,\n",
       "                                                                     &#x27;League&#x27;),\n",
       "                                                                    (&#x27;Info&#x27;,\n",
       "                                                                     &#x27;MatchID&#x27;,\n",
       "                                                                     &#x27;Year&#x27;),\n",
       "                                                                    (&#x27;Info&#x27;,\n",
       "                                                                     &#x27;MatchID&#x27;,\n",
       "                                                                     &#x27;Season&#x27;),\n",
       "                                                                    (&#x27;Info&#x27;,\n",
       "                                                                     &#x27;MatchID&#x27;,\n",
       "                                                                     &#x27;Type&#x27;),\n",
       "                                                                    (&#x27;Info&#x27;,\n",
       "                                                                     &#x27;BlueTag&#x27;,\n",
       "                                                                     &#x27;TeamTag&#x27;),\n",
       "                                                                    (&#x27;Blue&#x27;,\n",
       "                                                                     &#x27;Top&#x27;,\n",
       "                                                                     &#x27;Top&#x27;),\n",
       "                                                                    (&#x27;Blue&#x27;,\n",
       "                                                                     &#x27;Top&#x27;,\n",
       "                                                                     &#x27;TopChamp&#x27;),\n",
       "                                                                    (&#x27;Blue&#x27;,\n",
       "                                                                     &#x27;Jungle...\n",
       "                                                                     &#x27;Support&#x27;,\n",
       "                                                                     &#x27;Gold_10&#x27;),\n",
       "                                                                    (&#x27;Blue&#x27;,\n",
       "                                                                     &#x27;Support&#x27;,\n",
       "                                                                     &#x27;Gold_15&#x27;),\n",
       "                                                                    (&#x27;Red&#x27;,\n",
       "                                                                     &#x27;Top&#x27;,\n",
       "                                                                     &#x27;Gold_5&#x27;),\n",
       "                                                                    (&#x27;Red&#x27;,\n",
       "                                                                     &#x27;Top&#x27;,\n",
       "                                                                     &#x27;Gold_10&#x27;),\n",
       "                                                                    (&#x27;Red&#x27;,\n",
       "                                                                     &#x27;Top&#x27;,\n",
       "                                                                     &#x27;Gold_15&#x27;),\n",
       "                                                                    (&#x27;Red&#x27;,\n",
       "                                                                     &#x27;Jungle&#x27;,\n",
       "                                                                     &#x27;Gold_5&#x27;),\n",
       "                                                                    (&#x27;Red&#x27;,\n",
       "                                                                     &#x27;Jungle&#x27;,\n",
       "                                                                     &#x27;Gold_10&#x27;), ...])])),\n",
       "                                 (&#x27;filter&#x27;,\n",
       "                                  SelectKBest(k=20,\n",
       "                                              score_func=&lt;function chi2 at 0x000002F63A9A4790&gt;))])),\n",
       "                (&#x27;model&#x27;,\n",
       "                 LogisticRegression(C=1, max_iter=1000, random_state=14,\n",
       "                                    solver=&#x27;liblinear&#x27;, tol=1e-08))])</pre></div></div></div><div class=\"sk-serial\"><div class=\"sk-item\"><div class=\"sk-label-container\"><div class=\"sk-label sk-toggleable\"><input class=\"sk-toggleable__control sk-hidden--visually\" id=\"sk-estimator-id-12\" type=\"checkbox\" ><label for=\"sk-estimator-id-12\" class=\"sk-toggleable__label sk-toggleable__label-arrow\">data: Pipeline</label><div class=\"sk-toggleable__content\"><pre>Pipeline(steps=[(&#x27;preprocess&#x27;,\n",
       "                 ColumnTransformer(transformers=[(&#x27;category&#x27;,\n",
       "                                                  OneHotEncoder(drop=&#x27;first&#x27;,\n",
       "                                                                handle_unknown=&#x27;ignore&#x27;),\n",
       "                                                  [(&#x27;Info&#x27;, &#x27;MatchID&#x27;,\n",
       "                                                    &#x27;League&#x27;),\n",
       "                                                   (&#x27;Info&#x27;, &#x27;MatchID&#x27;, &#x27;Year&#x27;),\n",
       "                                                   (&#x27;Info&#x27;, &#x27;MatchID&#x27;,\n",
       "                                                    &#x27;Season&#x27;),\n",
       "                                                   (&#x27;Info&#x27;, &#x27;MatchID&#x27;, &#x27;Type&#x27;),\n",
       "                                                   (&#x27;Info&#x27;, &#x27;BlueTag&#x27;,\n",
       "                                                    &#x27;TeamTag&#x27;),\n",
       "                                                   (&#x27;Blue&#x27;, &#x27;Top&#x27;, &#x27;Top&#x27;),\n",
       "                                                   (&#x27;Blue&#x27;, &#x27;Top&#x27;, &#x27;TopChamp&#x27;),\n",
       "                                                   (&#x27;Blue&#x27;, &#x27;Jungle&#x27;, &#x27;Jungle&#x27;),\n",
       "                                                   (&#x27;Blue&#x27;, &#x27;Jun...\n",
       "                                                   (&#x27;Blue&#x27;, &#x27;ADC&#x27;, &#x27;Gold_5&#x27;),\n",
       "                                                   (&#x27;Blue&#x27;, &#x27;ADC&#x27;, &#x27;Gold_10&#x27;),\n",
       "                                                   (&#x27;Blue&#x27;, &#x27;ADC&#x27;, &#x27;Gold_15&#x27;),\n",
       "                                                   (&#x27;Blue&#x27;, &#x27;Support&#x27;,\n",
       "                                                    &#x27;Gold_5&#x27;),\n",
       "                                                   (&#x27;Blue&#x27;, &#x27;Support&#x27;,\n",
       "                                                    &#x27;Gold_10&#x27;),\n",
       "                                                   (&#x27;Blue&#x27;, &#x27;Support&#x27;,\n",
       "                                                    &#x27;Gold_15&#x27;),\n",
       "                                                   (&#x27;Red&#x27;, &#x27;Top&#x27;, &#x27;Gold_5&#x27;),\n",
       "                                                   (&#x27;Red&#x27;, &#x27;Top&#x27;, &#x27;Gold_10&#x27;),\n",
       "                                                   (&#x27;Red&#x27;, &#x27;Top&#x27;, &#x27;Gold_15&#x27;),\n",
       "                                                   (&#x27;Red&#x27;, &#x27;Jungle&#x27;, &#x27;Gold_5&#x27;),\n",
       "                                                   (&#x27;Red&#x27;, &#x27;Jungle&#x27;, &#x27;Gold_10&#x27;), ...])])),\n",
       "                (&#x27;filter&#x27;,\n",
       "                 SelectKBest(k=20,\n",
       "                             score_func=&lt;function chi2 at 0x000002F63A9A4790&gt;))])</pre></div></div></div><div class=\"sk-serial\"><div class=\"sk-item sk-dashed-wrapped\"><div class=\"sk-label-container\"><div class=\"sk-label sk-toggleable\"><input class=\"sk-toggleable__control sk-hidden--visually\" id=\"sk-estimator-id-13\" type=\"checkbox\" ><label for=\"sk-estimator-id-13\" class=\"sk-toggleable__label sk-toggleable__label-arrow\">preprocess: ColumnTransformer</label><div class=\"sk-toggleable__content\"><pre>ColumnTransformer(transformers=[(&#x27;category&#x27;,\n",
       "                                 OneHotEncoder(drop=&#x27;first&#x27;,\n",
       "                                               handle_unknown=&#x27;ignore&#x27;),\n",
       "                                 [(&#x27;Info&#x27;, &#x27;MatchID&#x27;, &#x27;League&#x27;),\n",
       "                                  (&#x27;Info&#x27;, &#x27;MatchID&#x27;, &#x27;Year&#x27;),\n",
       "                                  (&#x27;Info&#x27;, &#x27;MatchID&#x27;, &#x27;Season&#x27;),\n",
       "                                  (&#x27;Info&#x27;, &#x27;MatchID&#x27;, &#x27;Type&#x27;),\n",
       "                                  (&#x27;Info&#x27;, &#x27;BlueTag&#x27;, &#x27;TeamTag&#x27;),\n",
       "                                  (&#x27;Blue&#x27;, &#x27;Top&#x27;, &#x27;Top&#x27;),\n",
       "                                  (&#x27;Blue&#x27;, &#x27;Top&#x27;, &#x27;TopChamp&#x27;),\n",
       "                                  (&#x27;Blue&#x27;, &#x27;Jungle&#x27;, &#x27;Jungle&#x27;),\n",
       "                                  (&#x27;Blue&#x27;, &#x27;Jungle&#x27;, &#x27;JungleChamp&#x27;),\n",
       "                                  (&#x27;Blue&#x27;, &#x27;M...\n",
       "                                  (&#x27;Blue&#x27;, &#x27;Middle&#x27;, &#x27;Gold_5&#x27;),\n",
       "                                  (&#x27;Blue&#x27;, &#x27;Middle&#x27;, &#x27;Gold_10&#x27;),\n",
       "                                  (&#x27;Blue&#x27;, &#x27;Middle&#x27;, &#x27;Gold_15&#x27;),\n",
       "                                  (&#x27;Blue&#x27;, &#x27;ADC&#x27;, &#x27;Gold_5&#x27;),\n",
       "                                  (&#x27;Blue&#x27;, &#x27;ADC&#x27;, &#x27;Gold_10&#x27;),\n",
       "                                  (&#x27;Blue&#x27;, &#x27;ADC&#x27;, &#x27;Gold_15&#x27;),\n",
       "                                  (&#x27;Blue&#x27;, &#x27;Support&#x27;, &#x27;Gold_5&#x27;),\n",
       "                                  (&#x27;Blue&#x27;, &#x27;Support&#x27;, &#x27;Gold_10&#x27;),\n",
       "                                  (&#x27;Blue&#x27;, &#x27;Support&#x27;, &#x27;Gold_15&#x27;),\n",
       "                                  (&#x27;Red&#x27;, &#x27;Top&#x27;, &#x27;Gold_5&#x27;),\n",
       "                                  (&#x27;Red&#x27;, &#x27;Top&#x27;, &#x27;Gold_10&#x27;),\n",
       "                                  (&#x27;Red&#x27;, &#x27;Top&#x27;, &#x27;Gold_15&#x27;),\n",
       "                                  (&#x27;Red&#x27;, &#x27;Jungle&#x27;, &#x27;Gold_5&#x27;),\n",
       "                                  (&#x27;Red&#x27;, &#x27;Jungle&#x27;, &#x27;Gold_10&#x27;), ...])])</pre></div></div></div><div class=\"sk-parallel\"><div class=\"sk-parallel-item\"><div class=\"sk-item\"><div class=\"sk-label-container\"><div class=\"sk-label sk-toggleable\"><input class=\"sk-toggleable__control sk-hidden--visually\" id=\"sk-estimator-id-14\" type=\"checkbox\" ><label for=\"sk-estimator-id-14\" class=\"sk-toggleable__label sk-toggleable__label-arrow\">category</label><div class=\"sk-toggleable__content\"><pre>[(&#x27;Info&#x27;, &#x27;MatchID&#x27;, &#x27;League&#x27;), (&#x27;Info&#x27;, &#x27;MatchID&#x27;, &#x27;Year&#x27;), (&#x27;Info&#x27;, &#x27;MatchID&#x27;, &#x27;Season&#x27;), (&#x27;Info&#x27;, &#x27;MatchID&#x27;, &#x27;Type&#x27;), (&#x27;Info&#x27;, &#x27;BlueTag&#x27;, &#x27;TeamTag&#x27;), (&#x27;Blue&#x27;, &#x27;Top&#x27;, &#x27;Top&#x27;), (&#x27;Blue&#x27;, &#x27;Top&#x27;, &#x27;TopChamp&#x27;), (&#x27;Blue&#x27;, &#x27;Jungle&#x27;, &#x27;Jungle&#x27;), (&#x27;Blue&#x27;, &#x27;Jungle&#x27;, &#x27;JungleChamp&#x27;), (&#x27;Blue&#x27;, &#x27;Middle&#x27;, &#x27;Middle&#x27;), (&#x27;Blue&#x27;, &#x27;Middle&#x27;, &#x27;MiddleChamp&#x27;), (&#x27;Blue&#x27;, &#x27;ADC&#x27;, &#x27;ADC&#x27;), (&#x27;Blue&#x27;, &#x27;ADC&#x27;, &#x27;ADCChamp&#x27;), (&#x27;Blue&#x27;, &#x27;Support&#x27;, &#x27;Support&#x27;), (&#x27;Blue&#x27;, &#x27;Support&#x27;, &#x27;SupportChamp&#x27;), (&#x27;Info&#x27;, &#x27;RedTag&#x27;, &#x27;TeamTag&#x27;), (&#x27;Red&#x27;, &#x27;Top&#x27;, &#x27;Top&#x27;), (&#x27;Red&#x27;, &#x27;Top&#x27;, &#x27;TopChamp&#x27;), (&#x27;Red&#x27;, &#x27;Jungle&#x27;, &#x27;Jungle&#x27;), (&#x27;Red&#x27;, &#x27;Jungle&#x27;, &#x27;JungleChamp&#x27;), (&#x27;Red&#x27;, &#x27;Middle&#x27;, &#x27;Middle&#x27;), (&#x27;Red&#x27;, &#x27;Middle&#x27;, &#x27;MiddleChamp&#x27;), (&#x27;Red&#x27;, &#x27;ADC&#x27;, &#x27;ADC&#x27;), (&#x27;Red&#x27;, &#x27;ADC&#x27;, &#x27;ADCChamp&#x27;), (&#x27;Red&#x27;, &#x27;Support&#x27;, &#x27;Support&#x27;), (&#x27;Red&#x27;, &#x27;Support&#x27;, &#x27;SupportChamp&#x27;), (&#x27;Blue&#x27;, &#x27;Bans&#x27;, &#x27;ban_1&#x27;), (&#x27;Blue&#x27;, &#x27;Bans&#x27;, &#x27;ban_2&#x27;), (&#x27;Blue&#x27;, &#x27;Bans&#x27;, &#x27;ban_3&#x27;), (&#x27;Blue&#x27;, &#x27;Bans&#x27;, &#x27;ban_4&#x27;), (&#x27;Blue&#x27;, &#x27;Bans&#x27;, &#x27;ban_5&#x27;), (&#x27;Red&#x27;, &#x27;Bans&#x27;, &#x27;ban_1&#x27;), (&#x27;Red&#x27;, &#x27;Bans&#x27;, &#x27;ban_2&#x27;), (&#x27;Red&#x27;, &#x27;Bans&#x27;, &#x27;ban_3&#x27;), (&#x27;Red&#x27;, &#x27;Bans&#x27;, &#x27;ban_4&#x27;), (&#x27;Red&#x27;, &#x27;Bans&#x27;, &#x27;ban_5&#x27;)]</pre></div></div></div><div class=\"sk-serial\"><div class=\"sk-item\"><div class=\"sk-estimator sk-toggleable\"><input class=\"sk-toggleable__control sk-hidden--visually\" id=\"sk-estimator-id-15\" type=\"checkbox\" ><label for=\"sk-estimator-id-15\" class=\"sk-toggleable__label sk-toggleable__label-arrow\">OneHotEncoder</label><div class=\"sk-toggleable__content\"><pre>OneHotEncoder(drop=&#x27;first&#x27;, handle_unknown=&#x27;ignore&#x27;)</pre></div></div></div></div></div></div><div class=\"sk-parallel-item\"><div class=\"sk-item\"><div class=\"sk-label-container\"><div class=\"sk-label sk-toggleable\"><input class=\"sk-toggleable__control sk-hidden--visually\" id=\"sk-estimator-id-16\" type=\"checkbox\" ><label for=\"sk-estimator-id-16\" class=\"sk-toggleable__label sk-toggleable__label-arrow\">numeric</label><div class=\"sk-toggleable__content\"><pre>[(&#x27;Info&#x27;, &#x27;MatchID&#x27;, &#x27;gamelength&#x27;), (&#x27;Info&#x27;, &#x27;diff&#x27;, &#x27;Gold_5&#x27;), (&#x27;Info&#x27;, &#x27;diff&#x27;, &#x27;Gold_10&#x27;), (&#x27;Info&#x27;, &#x27;diff&#x27;, &#x27;Gold_15&#x27;), (&#x27;Blue&#x27;, &#x27;TeamGold&#x27;, &#x27;Gold_5&#x27;), (&#x27;Blue&#x27;, &#x27;TeamGold&#x27;, &#x27;Gold_10&#x27;), (&#x27;Blue&#x27;, &#x27;TeamGold&#x27;, &#x27;Gold_15&#x27;), (&#x27;Red&#x27;, &#x27;TeamGold&#x27;, &#x27;Gold_5&#x27;), (&#x27;Red&#x27;, &#x27;TeamGold&#x27;, &#x27;Gold_10&#x27;), (&#x27;Red&#x27;, &#x27;TeamGold&#x27;, &#x27;Gold_15&#x27;), (&#x27;Blue&#x27;, &#x27;Top&#x27;, &#x27;Gold_5&#x27;), (&#x27;Blue&#x27;, &#x27;Top&#x27;, &#x27;Gold_10&#x27;), (&#x27;Blue&#x27;, &#x27;Top&#x27;, &#x27;Gold_15&#x27;), (&#x27;Blue&#x27;, &#x27;Jungle&#x27;, &#x27;Gold_5&#x27;), (&#x27;Blue&#x27;, &#x27;Jungle&#x27;, &#x27;Gold_10&#x27;), (&#x27;Blue&#x27;, &#x27;Jungle&#x27;, &#x27;Gold_15&#x27;), (&#x27;Blue&#x27;, &#x27;Middle&#x27;, &#x27;Gold_5&#x27;), (&#x27;Blue&#x27;, &#x27;Middle&#x27;, &#x27;Gold_10&#x27;), (&#x27;Blue&#x27;, &#x27;Middle&#x27;, &#x27;Gold_15&#x27;), (&#x27;Blue&#x27;, &#x27;ADC&#x27;, &#x27;Gold_5&#x27;), (&#x27;Blue&#x27;, &#x27;ADC&#x27;, &#x27;Gold_10&#x27;), (&#x27;Blue&#x27;, &#x27;ADC&#x27;, &#x27;Gold_15&#x27;), (&#x27;Blue&#x27;, &#x27;Support&#x27;, &#x27;Gold_5&#x27;), (&#x27;Blue&#x27;, &#x27;Support&#x27;, &#x27;Gold_10&#x27;), (&#x27;Blue&#x27;, &#x27;Support&#x27;, &#x27;Gold_15&#x27;), (&#x27;Red&#x27;, &#x27;Top&#x27;, &#x27;Gold_5&#x27;), (&#x27;Red&#x27;, &#x27;Top&#x27;, &#x27;Gold_10&#x27;), (&#x27;Red&#x27;, &#x27;Top&#x27;, &#x27;Gold_15&#x27;), (&#x27;Red&#x27;, &#x27;Jungle&#x27;, &#x27;Gold_5&#x27;), (&#x27;Red&#x27;, &#x27;Jungle&#x27;, &#x27;Gold_10&#x27;), (&#x27;Red&#x27;, &#x27;Jungle&#x27;, &#x27;Gold_15&#x27;), (&#x27;Red&#x27;, &#x27;Middle&#x27;, &#x27;Gold_5&#x27;), (&#x27;Red&#x27;, &#x27;Middle&#x27;, &#x27;Gold_10&#x27;), (&#x27;Red&#x27;, &#x27;Middle&#x27;, &#x27;Gold_15&#x27;), (&#x27;Red&#x27;, &#x27;ADC&#x27;, &#x27;Gold_5&#x27;), (&#x27;Red&#x27;, &#x27;ADC&#x27;, &#x27;Gold_10&#x27;), (&#x27;Red&#x27;, &#x27;ADC&#x27;, &#x27;Gold_15&#x27;), (&#x27;Red&#x27;, &#x27;Support&#x27;, &#x27;Gold_5&#x27;), (&#x27;Red&#x27;, &#x27;Support&#x27;, &#x27;Gold_10&#x27;), (&#x27;Red&#x27;, &#x27;Support&#x27;, &#x27;Gold_15&#x27;), (&#x27;Blue&#x27;, &#x27;Structures&#x27;, &#x27;Towers&#x27;), (&#x27;Red&#x27;, &#x27;Structures&#x27;, &#x27;Towers&#x27;), (&#x27;Blue&#x27;, &#x27;Structures&#x27;, &#x27;Inhib&#x27;), (&#x27;Red&#x27;, &#x27;Structures&#x27;, &#x27;Inhib&#x27;), (&#x27;Blue&#x27;, &#x27;Monsters&#x27;, &#x27;Dragon&#x27;), (&#x27;Red&#x27;, &#x27;Monsters&#x27;, &#x27;Dragon&#x27;), (&#x27;Blue&#x27;, &#x27;Middle&#x27;, &#x27;Kills&#x27;), (&#x27;Blue&#x27;, &#x27;Middle&#x27;, &#x27;Assist&#x27;), (&#x27;Blue&#x27;, &#x27;Top&#x27;, &#x27;Kills&#x27;), (&#x27;Blue&#x27;, &#x27;Top&#x27;, &#x27;Assist&#x27;), (&#x27;Blue&#x27;, &#x27;ADC&#x27;, &#x27;Kills&#x27;), (&#x27;Blue&#x27;, &#x27;ADC&#x27;, &#x27;Assist&#x27;), (&#x27;Blue&#x27;, &#x27;Support&#x27;, &#x27;Kills&#x27;), (&#x27;Blue&#x27;, &#x27;Support&#x27;, &#x27;Assist&#x27;), (&#x27;Blue&#x27;, &#x27;Jungle&#x27;, &#x27;Kills&#x27;), (&#x27;Blue&#x27;, &#x27;Jungle&#x27;, &#x27;Assist&#x27;), (&#x27;Red&#x27;, &#x27;Middle&#x27;, &#x27;Kills&#x27;), (&#x27;Red&#x27;, &#x27;Middle&#x27;, &#x27;Assist&#x27;), (&#x27;Red&#x27;, &#x27;Top&#x27;, &#x27;Kills&#x27;), (&#x27;Red&#x27;, &#x27;Top&#x27;, &#x27;Assist&#x27;), (&#x27;Red&#x27;, &#x27;ADC&#x27;, &#x27;Kills&#x27;), (&#x27;Red&#x27;, &#x27;ADC&#x27;, &#x27;Assist&#x27;), (&#x27;Red&#x27;, &#x27;Support&#x27;, &#x27;Kills&#x27;), (&#x27;Red&#x27;, &#x27;Support&#x27;, &#x27;Assist&#x27;), (&#x27;Red&#x27;, &#x27;Jungle&#x27;, &#x27;Kills&#x27;), (&#x27;Red&#x27;, &#x27;Jungle&#x27;, &#x27;Assist&#x27;)]</pre></div></div></div><div class=\"sk-serial\"><div class=\"sk-item\"><div class=\"sk-estimator sk-toggleable\"><input class=\"sk-toggleable__control sk-hidden--visually\" id=\"sk-estimator-id-17\" type=\"checkbox\" ><label for=\"sk-estimator-id-17\" class=\"sk-toggleable__label sk-toggleable__label-arrow\">MinMaxScaler</label><div class=\"sk-toggleable__content\"><pre>MinMaxScaler()</pre></div></div></div></div></div></div></div></div><div class=\"sk-item\"><div class=\"sk-estimator sk-toggleable\"><input class=\"sk-toggleable__control sk-hidden--visually\" id=\"sk-estimator-id-18\" type=\"checkbox\" ><label for=\"sk-estimator-id-18\" class=\"sk-toggleable__label sk-toggleable__label-arrow\">SelectKBest</label><div class=\"sk-toggleable__content\"><pre>SelectKBest(k=20, score_func=&lt;function chi2 at 0x000002F63A9A4790&gt;)</pre></div></div></div></div></div><div class=\"sk-item\"><div class=\"sk-estimator sk-toggleable\"><input class=\"sk-toggleable__control sk-hidden--visually\" id=\"sk-estimator-id-19\" type=\"checkbox\" ><label for=\"sk-estimator-id-19\" class=\"sk-toggleable__label sk-toggleable__label-arrow\">LogisticRegression</label><div class=\"sk-toggleable__content\"><pre>LogisticRegression(C=1, max_iter=1000, random_state=14, solver=&#x27;liblinear&#x27;,\n",
       "                   tol=1e-08)</pre></div></div></div></div></div></div></div>"
      ],
      "text/plain": [
       "Pipeline(steps=[('data',\n",
       "                 Pipeline(steps=[('preprocess',\n",
       "                                  ColumnTransformer(transformers=[('category',\n",
       "                                                                   OneHotEncoder(drop='first',\n",
       "                                                                                 handle_unknown='ignore'),\n",
       "                                                                   [('Info',\n",
       "                                                                     'MatchID',\n",
       "                                                                     'League'),\n",
       "                                                                    ('Info',\n",
       "                                                                     'MatchID',\n",
       "                                                                     'Year'),\n",
       "                                                                    ('Info',\n",
       "                                                                     'MatchID',\n",
       "                                                                     'Season'),\n",
       "                                                                    ('Info',\n",
       "                                                                     'MatchID',\n",
       "                                                                     'Type'),\n",
       "                                                                    ('Info',\n",
       "                                                                     'BlueTag',\n",
       "                                                                     'TeamTag'),\n",
       "                                                                    ('Blue',\n",
       "                                                                     'Top',\n",
       "                                                                     'Top'),\n",
       "                                                                    ('Blue',\n",
       "                                                                     'Top',\n",
       "                                                                     'TopChamp'),\n",
       "                                                                    ('Blue',\n",
       "                                                                     'Jungle...\n",
       "                                                                     'Support',\n",
       "                                                                     'Gold_10'),\n",
       "                                                                    ('Blue',\n",
       "                                                                     'Support',\n",
       "                                                                     'Gold_15'),\n",
       "                                                                    ('Red',\n",
       "                                                                     'Top',\n",
       "                                                                     'Gold_5'),\n",
       "                                                                    ('Red',\n",
       "                                                                     'Top',\n",
       "                                                                     'Gold_10'),\n",
       "                                                                    ('Red',\n",
       "                                                                     'Top',\n",
       "                                                                     'Gold_15'),\n",
       "                                                                    ('Red',\n",
       "                                                                     'Jungle',\n",
       "                                                                     'Gold_5'),\n",
       "                                                                    ('Red',\n",
       "                                                                     'Jungle',\n",
       "                                                                     'Gold_10'), ...])])),\n",
       "                                 ('filter',\n",
       "                                  SelectKBest(k=20,\n",
       "                                              score_func=<function chi2 at 0x000002F63A9A4790>))])),\n",
       "                ('model',\n",
       "                 LogisticRegression(C=1, max_iter=1000, random_state=14,\n",
       "                                    solver='liblinear', tol=1e-08))])"
      ]
     },
     "execution_count": 23,
     "metadata": {},
     "output_type": "execute_result"
    }
   ],
   "source": [
    "pipe.fit(X_train, y_train)"
   ]
  },
  {
   "cell_type": "code",
   "execution_count": 24,
   "id": "4ba4cc10-612f-4dd1-9881-490d99464b82",
   "metadata": {
    "tags": []
   },
   "outputs": [
    {
     "name": "stdout",
     "output_type": "stream",
     "text": [
      "Train accuracy 0.980\tTest accuracy 0.988\n"
     ]
    },
    {
     "name": "stderr",
     "output_type": "stream",
     "text": [
      "C:\\Users\\drago\\Anaconda3\\lib\\site-packages\\sklearn\\preprocessing\\_encoders.py:188: UserWarning: Found unknown categories in columns [4, 5, 6, 7, 8, 9, 10, 11, 13, 14, 15, 16, 17, 18, 19, 20, 21, 22, 23, 24, 25, 26, 28, 29, 30, 31, 32, 33, 34, 35] during transform. These unknown categories will be encoded as all zeros\n",
      "  warnings.warn(\n"
     ]
    }
   ],
   "source": [
    "SVM_acc = util.print_accuracies(pipe, X_train, y_train, X_val, y_val)"
   ]
  },
  {
   "cell_type": "code",
   "execution_count": 25,
   "id": "6ccda6a5-39b3-4aa1-a149-888d0a181819",
   "metadata": {
    "scrolled": true
   },
   "outputs": [
    {
     "name": "stderr",
     "output_type": "stream",
     "text": [
      "C:\\Users\\drago\\Anaconda3\\lib\\site-packages\\sklearn\\preprocessing\\_encoders.py:188: UserWarning: Found unknown categories in columns [4, 5, 7, 8, 9, 11, 12, 13, 15, 16, 17, 18, 19, 20, 21, 22, 23, 24, 25, 26, 27, 28, 29, 30, 31, 32, 34, 35] during transform. These unknown categories will be encoded as all zeros\n",
      "  warnings.warn(\n",
      "C:\\Users\\drago\\Anaconda3\\lib\\site-packages\\sklearn\\preprocessing\\_encoders.py:188: UserWarning: Found unknown categories in columns [4, 5, 6, 7, 8, 9, 10, 11, 12, 13, 14, 15, 16, 17, 18, 19, 20, 21, 22, 23, 24, 25, 26, 28, 30, 32, 33, 34, 35] during transform. These unknown categories will be encoded as all zeros\n",
      "  warnings.warn(\n",
      "C:\\Users\\drago\\Anaconda3\\lib\\site-packages\\sklearn\\preprocessing\\_encoders.py:188: UserWarning: Found unknown categories in columns [5, 6, 7, 8, 9, 11, 13, 15, 16, 17, 18, 19, 20, 21, 22, 23, 24, 25, 26, 27, 28, 29, 30, 31, 33, 35] during transform. These unknown categories will be encoded as all zeros\n",
      "  warnings.warn(\n",
      "C:\\Users\\drago\\Anaconda3\\lib\\site-packages\\sklearn\\preprocessing\\_encoders.py:188: UserWarning: Found unknown categories in columns [4, 5, 7, 8, 9, 11, 13, 14, 15, 16, 17, 18, 20, 21, 22, 23, 24, 25, 26, 27, 28, 29, 30, 33, 35] during transform. These unknown categories will be encoded as all zeros\n",
      "  warnings.warn(\n",
      "C:\\Users\\drago\\Anaconda3\\lib\\site-packages\\sklearn\\preprocessing\\_encoders.py:188: UserWarning: Found unknown categories in columns [4, 5, 6, 7, 8, 9, 11, 13, 15, 16, 17, 18, 20, 21, 22, 23, 24, 25, 26, 27, 28, 30, 31, 33, 34] during transform. These unknown categories will be encoded as all zeros\n",
      "  warnings.warn(\n",
      "C:\\Users\\drago\\Anaconda3\\lib\\site-packages\\sklearn\\preprocessing\\_encoders.py:188: UserWarning: Found unknown categories in columns [4, 5, 6, 7, 8, 9, 10, 11, 13, 14, 15, 16, 18, 19, 20, 22, 24, 25, 28, 29, 30, 32, 33] during transform. These unknown categories will be encoded as all zeros\n",
      "  warnings.warn(\n",
      "C:\\Users\\drago\\Anaconda3\\lib\\site-packages\\sklearn\\preprocessing\\_encoders.py:188: UserWarning: Found unknown categories in columns [4, 5, 6, 7, 9, 11, 12, 13, 14, 15, 16, 17, 18, 19, 20, 22, 24, 26, 29, 31, 32, 33, 34, 35] during transform. These unknown categories will be encoded as all zeros\n",
      "  warnings.warn(\n",
      "C:\\Users\\drago\\Anaconda3\\lib\\site-packages\\sklearn\\preprocessing\\_encoders.py:188: UserWarning: Found unknown categories in columns [4, 5, 6, 7, 8, 9, 10, 11, 12, 13, 14, 16, 17, 18, 20, 21, 22, 23, 24, 25, 26, 27, 28, 29, 30, 32, 33, 34, 35] during transform. These unknown categories will be encoded as all zeros\n",
      "  warnings.warn(\n"
     ]
    }
   ],
   "source": [
    "skf = StratifiedKFold(n_splits=8, shuffle=True, random_state=20220914)\n",
    "\n",
    "scores = cross_val_score(pipe, X_train, y_train, cv=skf)\n",
    "SVM_scores = scores"
   ]
  },
  {
   "cell_type": "code",
   "execution_count": 26,
   "id": "c5d241e7-01ae-4606-a638-e166cac9b784",
   "metadata": {},
   "outputs": [
    {
     "data": {
      "text/plain": [
       "([], [])"
      ]
     },
     "execution_count": 26,
     "metadata": {},
     "output_type": "execute_result"
    },
    {
     "data": {
      "image/png": "[encoded data removed]",
      "text/plain": [
       "<Figure size 432x288 with 1 Axes>"
      ]
     },
     "metadata": {
      "needs_background": "light"
     },
     "output_type": "display_data"
    }
   ],
   "source": [
    "plot = sb.boxplot(data=scores, width=0.3)\n",
    "\n",
    "plot.set(title = 'SVM Cross-Validation Scores', ylabel='Accuracy')\n",
    "plt.xticks([], [])"
   ]
  },
  {
   "cell_type": "code",
   "execution_count": 27,
   "id": "42772a19",
   "metadata": {
    "scrolled": false
   },
   "outputs": [
    {
     "name": "stdout",
     "output_type": "stream",
     "text": [
      "Train accuracy 0.980\tTest accuracy 0.988\n"
     ]
    },
    {
     "name": "stderr",
     "output_type": "stream",
     "text": [
      "C:\\Users\\drago\\Anaconda3\\lib\\site-packages\\sklearn\\preprocessing\\_encoders.py:188: UserWarning: Found unknown categories in columns [4, 5, 6, 7, 8, 9, 10, 11, 13, 14, 15, 16, 17, 18, 19, 20, 21, 22, 23, 24, 25, 26, 28, 29, 30, 31, 32, 33, 34, 35] during transform. These unknown categories will be encoded as all zeros\n",
      "  warnings.warn(\n"
     ]
    }
   ],
   "source": [
    "util.print_accuracies(pipe, X_train, y_train, X_val, y_val)"
   ]
  },
  {
   "cell_type": "markdown",
   "id": "2a8d0164-16f5-4c49-ab3a-1cb8b8bb6e49",
   "metadata": {},
   "source": [
    "## Feature Selection"
   ]
  },
  {
   "cell_type": "code",
   "execution_count": 28,
   "id": "53abbf28",
   "metadata": {},
   "outputs": [
    {
     "data": {
      "text/html": [
       "<div>\n",
       "<style scoped>\n",
       "    .dataframe tbody tr th:only-of-type {\n",
       "        vertical-align: middle;\n",
       "    }\n",
       "\n",
       "    .dataframe tbody tr th {\n",
       "        vertical-align: top;\n",
       "    }\n",
       "\n",
       "    .dataframe thead th {\n",
       "        text-align: right;\n",
       "    }\n",
       "</style>\n",
       "<table border=\"1\" class=\"dataframe\">\n",
       "  <thead>\n",
       "    <tr style=\"text-align: right;\">\n",
       "      <th></th>\n",
       "      <th>Feature Name</th>\n",
       "      <th>Coef</th>\n",
       "    </tr>\n",
       "  </thead>\n",
       "  <tbody>\n",
       "    <tr>\n",
       "      <th>0</th>\n",
       "      <td>numeric__x78</td>\n",
       "      <td>4.774947</td>\n",
       "    </tr>\n",
       "    <tr>\n",
       "      <th>1</th>\n",
       "      <td>numeric__x93</td>\n",
       "      <td>1.837823</td>\n",
       "    </tr>\n",
       "    <tr>\n",
       "      <th>2</th>\n",
       "      <td>numeric__x99</td>\n",
       "      <td>1.623604</td>\n",
       "    </tr>\n",
       "    <tr>\n",
       "      <th>3</th>\n",
       "      <td>numeric__x101</td>\n",
       "      <td>1.534900</td>\n",
       "    </tr>\n",
       "    <tr>\n",
       "      <th>4</th>\n",
       "      <td>numeric__x96</td>\n",
       "      <td>1.421757</td>\n",
       "    </tr>\n",
       "    <tr>\n",
       "      <th>5</th>\n",
       "      <td>numeric__x95</td>\n",
       "      <td>1.172158</td>\n",
       "    </tr>\n",
       "    <tr>\n",
       "      <th>6</th>\n",
       "      <td>numeric__x94</td>\n",
       "      <td>1.150162</td>\n",
       "    </tr>\n",
       "    <tr>\n",
       "      <th>7</th>\n",
       "      <td>numeric__x92</td>\n",
       "      <td>1.059555</td>\n",
       "    </tr>\n",
       "    <tr>\n",
       "      <th>8</th>\n",
       "      <td>numeric__x100</td>\n",
       "      <td>0.786169</td>\n",
       "    </tr>\n",
       "    <tr>\n",
       "      <th>9</th>\n",
       "      <td>numeric__x81</td>\n",
       "      <td>0.547826</td>\n",
       "    </tr>\n",
       "    <tr>\n",
       "      <th>10</th>\n",
       "      <td>numeric__x97</td>\n",
       "      <td>0.253149</td>\n",
       "    </tr>\n",
       "    <tr>\n",
       "      <th>11</th>\n",
       "      <td>numeric__x90</td>\n",
       "      <td>-0.112516</td>\n",
       "    </tr>\n",
       "    <tr>\n",
       "      <th>12</th>\n",
       "      <td>numeric__x85</td>\n",
       "      <td>-0.717219</td>\n",
       "    </tr>\n",
       "    <tr>\n",
       "      <th>13</th>\n",
       "      <td>numeric__x86</td>\n",
       "      <td>-0.862007</td>\n",
       "    </tr>\n",
       "    <tr>\n",
       "      <th>14</th>\n",
       "      <td>numeric__x82</td>\n",
       "      <td>-0.921029</td>\n",
       "    </tr>\n",
       "    <tr>\n",
       "      <th>15</th>\n",
       "      <td>numeric__x87</td>\n",
       "      <td>-1.307090</td>\n",
       "    </tr>\n",
       "    <tr>\n",
       "      <th>16</th>\n",
       "      <td>numeric__x83</td>\n",
       "      <td>-1.408417</td>\n",
       "    </tr>\n",
       "    <tr>\n",
       "      <th>17</th>\n",
       "      <td>numeric__x89</td>\n",
       "      <td>-2.026387</td>\n",
       "    </tr>\n",
       "    <tr>\n",
       "      <th>18</th>\n",
       "      <td>numeric__x91</td>\n",
       "      <td>-2.186965</td>\n",
       "    </tr>\n",
       "    <tr>\n",
       "      <th>19</th>\n",
       "      <td>numeric__x79</td>\n",
       "      <td>-4.971952</td>\n",
       "    </tr>\n",
       "  </tbody>\n",
       "</table>\n",
       "</div>"
      ],
      "text/plain": [
       "     Feature Name      Coef\n",
       "0    numeric__x78  4.774947\n",
       "1    numeric__x93  1.837823\n",
       "2    numeric__x99  1.623604\n",
       "3   numeric__x101  1.534900\n",
       "4    numeric__x96  1.421757\n",
       "5    numeric__x95  1.172158\n",
       "6    numeric__x94  1.150162\n",
       "7    numeric__x92  1.059555\n",
       "8   numeric__x100  0.786169\n",
       "9    numeric__x81  0.547826\n",
       "10   numeric__x97  0.253149\n",
       "11   numeric__x90 -0.112516\n",
       "12   numeric__x85 -0.717219\n",
       "13   numeric__x86 -0.862007\n",
       "14   numeric__x82 -0.921029\n",
       "15   numeric__x87 -1.307090\n",
       "16   numeric__x83 -1.408417\n",
       "17   numeric__x89 -2.026387\n",
       "18   numeric__x91 -2.186965\n",
       "19   numeric__x79 -4.971952"
      ]
     },
     "execution_count": 28,
     "metadata": {},
     "output_type": "execute_result"
    }
   ],
   "source": [
    "feature_names = pipe.named_steps['data'].get_feature_names_out()\n",
    "feature_coefs = pipe.named_steps['model'].coef_\n",
    "feature_df = pd.DataFrame({'Feature Name': list(feature_names), 'Coef': list(feature_coefs.flatten())})\n",
    "feature_df.sort_values(by='Coef', axis=0, ascending=False, inplace=True, ignore_index=True)\n",
    "feature_df.head(20)"
   ]
  },
  {
   "cell_type": "code",
   "execution_count": 29,
   "id": "44baf20d",
   "metadata": {
    "scrolled": true
   },
   "outputs": [
    {
     "data": {
      "text/plain": [
       "{'0': \"('Info', 'MatchID', 'League')\",\n",
       " '1': \"('Info', 'MatchID', 'Year')\",\n",
       " '2': \"('Info', 'MatchID', 'Season')\",\n",
       " '3': \"('Info', 'MatchID', 'Type')\",\n",
       " '4': \"('Info', 'MatchID', 'gamelength')\",\n",
       " '5': \"('Info', 'BlueTag', 'TeamTag')\",\n",
       " '6': \"('Blue', 'Top', 'Top')\",\n",
       " '7': \"('Blue', 'Top', 'TopChamp')\",\n",
       " '8': \"('Blue', 'Jungle', 'Jungle')\",\n",
       " '9': \"('Blue', 'Jungle', 'JungleChamp')\",\n",
       " '10': \"('Blue', 'Middle', 'Middle')\",\n",
       " '11': \"('Blue', 'Middle', 'MiddleChamp')\",\n",
       " '12': \"('Blue', 'ADC', 'ADC')\",\n",
       " '13': \"('Blue', 'ADC', 'ADCChamp')\",\n",
       " '14': \"('Blue', 'Support', 'Support')\",\n",
       " '15': \"('Blue', 'Support', 'SupportChamp')\",\n",
       " '16': \"('Info', 'RedTag', 'TeamTag')\",\n",
       " '17': \"('Red', 'Top', 'Top')\",\n",
       " '18': \"('Red', 'Top', 'TopChamp')\",\n",
       " '19': \"('Red', 'Jungle', 'Jungle')\",\n",
       " '20': \"('Red', 'Jungle', 'JungleChamp')\",\n",
       " '21': \"('Red', 'Middle', 'Middle')\",\n",
       " '22': \"('Red', 'Middle', 'MiddleChamp')\",\n",
       " '23': \"('Red', 'ADC', 'ADC')\",\n",
       " '24': \"('Red', 'ADC', 'ADCChamp')\",\n",
       " '25': \"('Red', 'Support', 'Support')\",\n",
       " '26': \"('Red', 'Support', 'SupportChamp')\",\n",
       " '27': \"('Info', 'diff', 'Gold_5')\",\n",
       " '28': \"('Info', 'diff', 'Gold_10')\",\n",
       " '29': \"('Info', 'diff', 'Gold_15')\",\n",
       " '30': \"('Blue', 'TeamGold', 'Gold_5')\",\n",
       " '31': \"('Blue', 'TeamGold', 'Gold_10')\",\n",
       " '32': \"('Blue', 'TeamGold', 'Gold_15')\",\n",
       " '33': \"('Red', 'TeamGold', 'Gold_5')\",\n",
       " '34': \"('Red', 'TeamGold', 'Gold_10')\",\n",
       " '35': \"('Red', 'TeamGold', 'Gold_15')\",\n",
       " '36': \"('Blue', 'Top', 'Gold_5')\",\n",
       " '37': \"('Blue', 'Top', 'Gold_10')\",\n",
       " '38': \"('Blue', 'Top', 'Gold_15')\",\n",
       " '39': \"('Blue', 'Jungle', 'Gold_5')\",\n",
       " '40': \"('Blue', 'Jungle', 'Gold_10')\",\n",
       " '41': \"('Blue', 'Jungle', 'Gold_15')\",\n",
       " '42': \"('Blue', 'Middle', 'Gold_5')\",\n",
       " '43': \"('Blue', 'Middle', 'Gold_10')\",\n",
       " '44': \"('Blue', 'Middle', 'Gold_15')\",\n",
       " '45': \"('Blue', 'ADC', 'Gold_5')\",\n",
       " '46': \"('Blue', 'ADC', 'Gold_10')\",\n",
       " '47': \"('Blue', 'ADC', 'Gold_15')\",\n",
       " '48': \"('Blue', 'Support', 'Gold_5')\",\n",
       " '49': \"('Blue', 'Support', 'Gold_10')\",\n",
       " '50': \"('Blue', 'Support', 'Gold_15')\",\n",
       " '51': \"('Red', 'Top', 'Gold_5')\",\n",
       " '52': \"('Red', 'Top', 'Gold_10')\",\n",
       " '53': \"('Red', 'Top', 'Gold_15')\",\n",
       " '54': \"('Red', 'Jungle', 'Gold_5')\",\n",
       " '55': \"('Red', 'Jungle', 'Gold_10')\",\n",
       " '56': \"('Red', 'Jungle', 'Gold_15')\",\n",
       " '57': \"('Red', 'Middle', 'Gold_5')\",\n",
       " '58': \"('Red', 'Middle', 'Gold_10')\",\n",
       " '59': \"('Red', 'Middle', 'Gold_15')\",\n",
       " '60': \"('Red', 'ADC', 'Gold_5')\",\n",
       " '61': \"('Red', 'ADC', 'Gold_10')\",\n",
       " '62': \"('Red', 'ADC', 'Gold_15')\",\n",
       " '63': \"('Red', 'Support', 'Gold_5')\",\n",
       " '64': \"('Red', 'Support', 'Gold_10')\",\n",
       " '65': \"('Red', 'Support', 'Gold_15')\",\n",
       " '66': \"('Blue', 'Bans', 'ban_1')\",\n",
       " '67': \"('Blue', 'Bans', 'ban_2')\",\n",
       " '68': \"('Blue', 'Bans', 'ban_3')\",\n",
       " '69': \"('Blue', 'Bans', 'ban_4')\",\n",
       " '70': \"('Blue', 'Bans', 'ban_5')\",\n",
       " '71': \"('Red', 'Bans', 'ban_1')\",\n",
       " '72': \"('Red', 'Bans', 'ban_2')\",\n",
       " '73': \"('Red', 'Bans', 'ban_3')\",\n",
       " '74': \"('Red', 'Bans', 'ban_4')\",\n",
       " '75': \"('Red', 'Bans', 'ban_5')\",\n",
       " '76': \"('Blue', 'Structures', 'Towers')\",\n",
       " '77': \"('Red', 'Structures', 'Towers')\",\n",
       " '78': \"('Blue', 'Structures', 'Inhib')\",\n",
       " '79': \"('Red', 'Structures', 'Inhib')\",\n",
       " '80': \"('Blue', 'Monsters', 'Dragon')\",\n",
       " '81': \"('Red', 'Monsters', 'Dragon')\",\n",
       " '82': \"('Blue', 'Middle', 'Kills')\",\n",
       " '83': \"('Blue', 'Middle', 'Assist')\",\n",
       " '84': \"('Blue', 'Top', 'Kills')\",\n",
       " '85': \"('Blue', 'Top', 'Assist')\",\n",
       " '86': \"('Blue', 'ADC', 'Kills')\",\n",
       " '87': \"('Blue', 'ADC', 'Assist')\",\n",
       " '88': \"('Blue', 'Support', 'Kills')\",\n",
       " '89': \"('Blue', 'Support', 'Assist')\",\n",
       " '90': \"('Blue', 'Jungle', 'Kills')\",\n",
       " '91': \"('Blue', 'Jungle', 'Assist')\",\n",
       " '92': \"('Red', 'Middle', 'Kills')\",\n",
       " '93': \"('Red', 'Middle', 'Assist')\",\n",
       " '94': \"('Red', 'Top', 'Kills')\",\n",
       " '95': \"('Red', 'Top', 'Assist')\",\n",
       " '96': \"('Red', 'ADC', 'Kills')\",\n",
       " '97': \"('Red', 'ADC', 'Assist')\",\n",
       " '98': \"('Red', 'Support', 'Kills')\",\n",
       " '99': \"('Red', 'Support', 'Assist')\",\n",
       " '100': \"('Red', 'Jungle', 'Kills')\",\n",
       " '101': \"('Red', 'Jungle', 'Assist')\"}"
      ]
     },
     "execution_count": 29,
     "metadata": {},
     "output_type": "execute_result"
    }
   ],
   "source": [
    "X_cols = pd.DataFrame(X.columns, columns=['column'])\n",
    "X_cols['column'] = X_cols['column'].astype(str)\n",
    "X_cols['col'] = np.linspace(0, len(X.columns)-1, num=len(X.columns)).astype(int).astype(str)\n",
    "X_cols = dict(zip(X_cols.col, X_cols.column))\n",
    "X_cols"
   ]
  },
  {
   "cell_type": "code",
   "execution_count": 30,
   "id": "bc597fba",
   "metadata": {},
   "outputs": [
    {
     "data": {
      "text/html": [
       "<div>\n",
       "<style scoped>\n",
       "    .dataframe tbody tr th:only-of-type {\n",
       "        vertical-align: middle;\n",
       "    }\n",
       "\n",
       "    .dataframe tbody tr th {\n",
       "        vertical-align: top;\n",
       "    }\n",
       "\n",
       "    .dataframe thead th {\n",
       "        text-align: right;\n",
       "    }\n",
       "</style>\n",
       "<table border=\"1\" class=\"dataframe\">\n",
       "  <thead>\n",
       "    <tr style=\"text-align: right;\">\n",
       "      <th></th>\n",
       "      <th>Feature Name</th>\n",
       "      <th>Coef</th>\n",
       "      <th>Feature Name 2</th>\n",
       "    </tr>\n",
       "  </thead>\n",
       "  <tbody>\n",
       "    <tr>\n",
       "      <th>0</th>\n",
       "      <td>numeric__x78</td>\n",
       "      <td>4.774947</td>\n",
       "      <td>Blue_Structures_Inhib</td>\n",
       "    </tr>\n",
       "    <tr>\n",
       "      <th>1</th>\n",
       "      <td>numeric__x93</td>\n",
       "      <td>1.837823</td>\n",
       "      <td>Red_Middle_Assist</td>\n",
       "    </tr>\n",
       "    <tr>\n",
       "      <th>2</th>\n",
       "      <td>numeric__x99</td>\n",
       "      <td>1.623604</td>\n",
       "      <td>Red_Support_Assist</td>\n",
       "    </tr>\n",
       "    <tr>\n",
       "      <th>3</th>\n",
       "      <td>numeric__x101</td>\n",
       "      <td>1.534900</td>\n",
       "      <td>Red_Jungle_Assist</td>\n",
       "    </tr>\n",
       "    <tr>\n",
       "      <th>4</th>\n",
       "      <td>numeric__x96</td>\n",
       "      <td>1.421757</td>\n",
       "      <td>Red_ADC_Kills</td>\n",
       "    </tr>\n",
       "    <tr>\n",
       "      <th>5</th>\n",
       "      <td>numeric__x95</td>\n",
       "      <td>1.172158</td>\n",
       "      <td>Red_Top_Assist</td>\n",
       "    </tr>\n",
       "    <tr>\n",
       "      <th>6</th>\n",
       "      <td>numeric__x94</td>\n",
       "      <td>1.150162</td>\n",
       "      <td>Red_Top_Kills</td>\n",
       "    </tr>\n",
       "    <tr>\n",
       "      <th>7</th>\n",
       "      <td>numeric__x92</td>\n",
       "      <td>1.059555</td>\n",
       "      <td>Red_Middle_Kills</td>\n",
       "    </tr>\n",
       "    <tr>\n",
       "      <th>8</th>\n",
       "      <td>numeric__x100</td>\n",
       "      <td>0.786169</td>\n",
       "      <td>Red_Jungle_Kills</td>\n",
       "    </tr>\n",
       "    <tr>\n",
       "      <th>9</th>\n",
       "      <td>numeric__x81</td>\n",
       "      <td>0.547826</td>\n",
       "      <td>Red_Monsters_Dragon</td>\n",
       "    </tr>\n",
       "    <tr>\n",
       "      <th>10</th>\n",
       "      <td>numeric__x97</td>\n",
       "      <td>0.253149</td>\n",
       "      <td>Red_ADC_Assist</td>\n",
       "    </tr>\n",
       "    <tr>\n",
       "      <th>11</th>\n",
       "      <td>numeric__x90</td>\n",
       "      <td>-0.112516</td>\n",
       "      <td>Blue_Jungle_Kills</td>\n",
       "    </tr>\n",
       "    <tr>\n",
       "      <th>12</th>\n",
       "      <td>numeric__x85</td>\n",
       "      <td>-0.717219</td>\n",
       "      <td>Blue_Top_Assist</td>\n",
       "    </tr>\n",
       "    <tr>\n",
       "      <th>13</th>\n",
       "      <td>numeric__x86</td>\n",
       "      <td>-0.862007</td>\n",
       "      <td>Blue_ADC_Kills</td>\n",
       "    </tr>\n",
       "    <tr>\n",
       "      <th>14</th>\n",
       "      <td>numeric__x82</td>\n",
       "      <td>-0.921029</td>\n",
       "      <td>Blue_Middle_Kills</td>\n",
       "    </tr>\n",
       "    <tr>\n",
       "      <th>15</th>\n",
       "      <td>numeric__x87</td>\n",
       "      <td>-1.307090</td>\n",
       "      <td>Blue_ADC_Assist</td>\n",
       "    </tr>\n",
       "    <tr>\n",
       "      <th>16</th>\n",
       "      <td>numeric__x83</td>\n",
       "      <td>-1.408417</td>\n",
       "      <td>Blue_Middle_Assist</td>\n",
       "    </tr>\n",
       "    <tr>\n",
       "      <th>17</th>\n",
       "      <td>numeric__x89</td>\n",
       "      <td>-2.026387</td>\n",
       "      <td>Blue_Support_Assist</td>\n",
       "    </tr>\n",
       "    <tr>\n",
       "      <th>18</th>\n",
       "      <td>numeric__x91</td>\n",
       "      <td>-2.186965</td>\n",
       "      <td>Blue_Jungle_Assist</td>\n",
       "    </tr>\n",
       "    <tr>\n",
       "      <th>19</th>\n",
       "      <td>numeric__x79</td>\n",
       "      <td>-4.971952</td>\n",
       "      <td>Red_Structures_Inhib</td>\n",
       "    </tr>\n",
       "  </tbody>\n",
       "</table>\n",
       "</div>"
      ],
      "text/plain": [
       "     Feature Name      Coef         Feature Name 2\n",
       "0    numeric__x78  4.774947  Blue_Structures_Inhib\n",
       "1    numeric__x93  1.837823      Red_Middle_Assist\n",
       "2    numeric__x99  1.623604     Red_Support_Assist\n",
       "3   numeric__x101  1.534900      Red_Jungle_Assist\n",
       "4    numeric__x96  1.421757          Red_ADC_Kills\n",
       "5    numeric__x95  1.172158         Red_Top_Assist\n",
       "6    numeric__x94  1.150162          Red_Top_Kills\n",
       "7    numeric__x92  1.059555       Red_Middle_Kills\n",
       "8   numeric__x100  0.786169       Red_Jungle_Kills\n",
       "9    numeric__x81  0.547826    Red_Monsters_Dragon\n",
       "10   numeric__x97  0.253149         Red_ADC_Assist\n",
       "11   numeric__x90 -0.112516      Blue_Jungle_Kills\n",
       "12   numeric__x85 -0.717219        Blue_Top_Assist\n",
       "13   numeric__x86 -0.862007         Blue_ADC_Kills\n",
       "14   numeric__x82 -0.921029      Blue_Middle_Kills\n",
       "15   numeric__x87 -1.307090        Blue_ADC_Assist\n",
       "16   numeric__x83 -1.408417     Blue_Middle_Assist\n",
       "17   numeric__x89 -2.026387    Blue_Support_Assist\n",
       "18   numeric__x91 -2.186965     Blue_Jungle_Assist\n",
       "19   numeric__x79 -4.971952   Red_Structures_Inhib"
      ]
     },
     "execution_count": 30,
     "metadata": {},
     "output_type": "execute_result"
    }
   ],
   "source": [
    "list_of_chars=['\\(', '\\)', '\\'']\n",
    "pattern = '[' +  ''.join(list_of_chars) +  ']'\n",
    "feature_df['Feature Name 2'] = [ re.sub(', ', '_', re.sub(pattern, '', re.sub('(.*)__x(\\d+)',X_cols.get(re.search('x(\\d+)', s).group(1)),s))) for s in feature_df['Feature Name']]\n",
    "feature_df"
   ]
  },
  {
   "cell_type": "code",
   "execution_count": 31,
   "id": "dab669de",
   "metadata": {},
   "outputs": [
    {
     "data": {
      "image/png": "[encoded data removed]",
      "text/plain": [
       "<Figure size 432x288 with 1 Axes>"
      ]
     },
     "metadata": {
      "needs_background": "light"
     },
     "output_type": "display_data"
    }
   ],
   "source": [
    "ax = sb.barplot(data=feature_df.iloc[0:20], x='Feature Name 2', y='Coef', orient='v')\n",
    "ax.tick_params(axis='x', rotation=270)\n",
    "ax.set_ylabel('Coefficient', rotation=90, labelpad=20)\n",
    "ax.set_xlabel('Feature', rotation=0, labelpad=20)\n",
    "ax.set_title('Most important features Logistics Model', pad=20)\n",
    "plt.savefig('../plots/Coefs_LR_model_1.png',dpi=300, bbox_inches = \"tight\")"
   ]
  },
  {
   "cell_type": "markdown",
   "id": "c8aaca75",
   "metadata": {},
   "source": [
    "Saving model"
   ]
  },
  {
   "cell_type": "code",
   "execution_count": 32,
   "id": "a14fda3b",
   "metadata": {},
   "outputs": [],
   "source": [
    "with open(\"../Models/LR_model_1.pkl\", \"wb\") as f:\n",
    "    pickle.dump(LR_model, f)"
   ]
  }
 ],
 "metadata": {
  "kernelspec": {
   "display_name": "Python 3 (ipykernel)",
   "language": "python",
   "name": "python3"
  },
  "language_info": {
   "codemirror_mode": {
    "name": "ipython",
    "version": 3
   },
   "file_extension": ".py",
   "mimetype": "text/x-python",
   "name": "python",
   "nbconvert_exporter": "python",
   "pygments_lexer": "ipython3",
   "version": "3.9.7"
  }
 },
 "nbformat": 4,
 "nbformat_minor": 5
}
